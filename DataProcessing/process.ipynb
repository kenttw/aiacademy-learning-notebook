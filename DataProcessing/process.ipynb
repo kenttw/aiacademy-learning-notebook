{
 "cells": [
  {
   "cell_type": "code",
   "execution_count": 2,
   "metadata": {
    "pycharm": {
     "is_executing": false
    }
   },
   "outputs": [
    {
     "name": "stdout",
     "output_type": "stream",
     "text": [
      "xxx\n"
     ]
    }
   ],
   "source": [
    "print('xxx')\n"
   ]
  },
  {
   "cell_type": "code",
   "execution_count": 3,
   "metadata": {},
   "outputs": [],
   "source": [
    "import json"
   ]
  },
  {
   "cell_type": "code",
   "execution_count": 15,
   "metadata": {},
   "outputs": [
    {
     "name": "stdout",
     "output_type": "stream",
     "text": [
      "./wiki/title000000000000.json\n",
      "./wiki/title000000000001.json\n",
      "./wiki/title000000000002.json\n",
      "./wiki/title000000000003.json\n",
      "./wiki/title000000000004.json\n",
      "./wiki/title000000000005.json\n",
      "./wiki/title000000000006.json\n",
      "./wiki/title000000000007.json\n",
      "./wiki/title000000000008.json\n",
      "./wiki/title000000000009.json\n"
     ]
    }
   ],
   "source": [
    "for i in range(10):\n",
    "    f = open(\"./wiki/title00000000000\"+ str(i) +\".json\")\n",
    "    print(f.name)\n",
    "    for l in f.readlines() :\n",
    "        obj = json.loads(l)"
   ]
  },
  {
   "cell_type": "code",
   "execution_count": 11,
   "metadata": {},
   "outputs": [
    {
     "data": {
      "text/plain": [
       "{'en_description': 'Wikimedia category'}"
      ]
     },
     "execution_count": 11,
     "metadata": {},
     "output_type": "execute_result"
    }
   ],
   "source": [
    "obj"
   ]
  },
  {
   "cell_type": "code",
   "execution_count": 12,
   "metadata": {},
   "outputs": [
    {
     "name": "stdout",
     "output_type": "stream",
     "text": [
      "title000000000000.json title000000000004.json title000000000008.json\r\n",
      "title000000000001.json title000000000005.json title000000000009.json\r\n",
      "title000000000002.json title000000000006.json\r\n",
      "title000000000003.json title000000000007.json\r\n"
     ]
    }
   ],
   "source": [
    "! ls ./wiki/"
   ]
  },
  {
   "cell_type": "code",
   "execution_count": null,
   "metadata": {},
   "outputs": [],
   "source": []
  }
 ],
 "metadata": {
  "kernelspec": {
   "display_name": "Python 3",
   "language": "python",
   "name": "python3"
  },
  "language_info": {
   "codemirror_mode": {
    "name": "ipython",
    "version": 3
   },
   "file_extension": ".py",
   "mimetype": "text/x-python",
   "name": "python",
   "nbconvert_exporter": "python",
   "pygments_lexer": "ipython3",
   "version": "3.7.6"
  },
  "pycharm": {
   "stem_cell": {
    "cell_type": "raw",
    "metadata": {
     "collapsed": false
    },
    "source": []
   }
  }
 },
 "nbformat": 4,
 "nbformat_minor": 1
}
