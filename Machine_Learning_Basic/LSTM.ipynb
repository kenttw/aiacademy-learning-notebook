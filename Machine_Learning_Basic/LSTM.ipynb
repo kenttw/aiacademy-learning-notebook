{
 "cells": [
  {
   "attachments": {},
   "cell_type": "markdown",
   "metadata": {},
   "source": [
    "# LSTM Esentail \n",
    "<img src=\"https://i.imgur.com/DwVvNgG.png\" />"
   ]
  },
  {
   "cell_type": "markdown",
   "metadata": {},
   "source": [
    "## 最單純的 LSTM\n",
    "* [參考資料為](https://machinelearningmastery.com/return-sequences-and-return-states-for-lstms-in-keras/)\n",
    "* cell 只有一個\n",
    "* 為兩筆資料分別為 [0.1, 0.2, 0.3] 及 [0.3, 0.2, 0.1]\n",
    "* 故需 Reshape 為 (batch_size,step_size,feature_dim) => (2,3,1)\n",
    "* 下面的範例出輸為 batch_size*cell_size"
   ]
  },
  {
   "cell_type": "code",
   "execution_count": 92,
   "metadata": {},
   "outputs": [
    {
     "name": "stdout",
     "output_type": "stream",
     "text": [
      "[[-0.11857762]\n",
      " [-0.08272369]]\n"
     ]
    }
   ],
   "source": [
    "from keras.models import Model\n",
    "from keras.layers import Input\n",
    "from keras.layers import LSTM\n",
    "from numpy import array\n",
    "# define model\n",
    "inputs1 = Input(shape=(3, 1))\n",
    "lstm1 = LSTM(1)(inputs1)\n",
    "model = Model(inputs=inputs1, outputs=lstm1)\n",
    "# define input data\n",
    "data = array([[0.1, 0.2, 0.3],[0.3, 0.2, 0.1]],).reshape((2,3,1))\n",
    "# make and show prediction\n",
    "print(model.predict(data))"
   ]
  },
  {
   "cell_type": "markdown",
   "metadata": {},
   "source": [
    "## 10 個 Cell 的情況"
   ]
  },
  {
   "cell_type": "code",
   "execution_count": 93,
   "metadata": {},
   "outputs": [
    {
     "name": "stdout",
     "output_type": "stream",
     "text": [
      "[[ 0.07128293]\n",
      " [ 0.05044615]]\n"
     ]
    }
   ],
   "source": [
    "from keras.models import Model\n",
    "from keras.layers import Input\n",
    "from keras.layers import LSTM\n",
    "from numpy import array\n",
    "# define model\n",
    "inputs1 = Input(shape=(3, 1))\n",
    "lstm1 = LSTM(1)(inputs1)\n",
    "model = Model(inputs=inputs1, outputs=lstm1)\n",
    "# define input data\n",
    "data = array([[0.1, 0.2, 0.3],[0.3, 0.2, 0.1]],).reshape((2,3,1))\n",
    "# make and show prediction\n",
    "print(model.predict(data))"
   ]
  },
  {
   "cell_type": "markdown",
   "metadata": {},
   "source": [
    "## Return Sequnce\n",
    "* 有時候我們會需要知道每一個 Step 的反應值，例如 Attention Model 就會需要了\n",
    "* 每一筆 Row 都總共有三個 Step ，故從一筆變成三筆資料\n",
    "* 故回傳的資料為 $row_count*step_size*output_dim = 2*3*5 $"
   ]
  },
  {
   "cell_type": "code",
   "execution_count": 141,
   "metadata": {},
   "outputs": [
    {
     "name": "stdout",
     "output_type": "stream",
     "text": [
      "[[[-0.00571752 -0.01071675 -0.00832335  0.01219951 -0.0038277 ]\n",
      "  [-0.01348902 -0.02929329 -0.02051001  0.03178019 -0.01143293]\n",
      "  [-0.02144734 -0.0528556  -0.03429443  0.05571545 -0.02219554]]\n",
      "\n",
      " [[-0.01725512 -0.03203397 -0.02506758  0.0365537  -0.01092883]\n",
      "  [-0.017811   -0.04451959 -0.02757261  0.04670093 -0.01896706]\n",
      "  [-0.01126208 -0.04223189 -0.01959449  0.04138551 -0.02205685]]]\n"
     ]
    }
   ],
   "source": [
    "from keras.models import Model\n",
    "from keras.layers import Input\n",
    "from keras.layers import LSTM\n",
    "from numpy import array\n",
    "# define model\n",
    "inputs1 = Input(shape=(3, 1))\n",
    "lstm1 = LSTM(5,return_sequences=True)(inputs1)\n",
    "model = Model(inputs=inputs1, outputs=lstm1)\n",
    "# define input data\n",
    "data = array([[0.1, 0.2, 0.3],[0.3, 0.2, 0.1]],).reshape((2,3,1))\n",
    "# make and show prediction\n",
    "print(model.predict(data))"
   ]
  },
  {
   "cell_type": "markdown",
   "metadata": {},
   "source": [
    "## Return Hidden Status  \n",
    "* Step_Size = 3\n",
    "* Feature_Dim =4\n",
    "* LSTM Cell_Size = 5 => output_feature= 5"
   ]
  },
  {
   "cell_type": "code",
   "execution_count": 132,
   "metadata": {},
   "outputs": [
    {
     "name": "stdout",
     "output_type": "stream",
     "text": [
      "_________________________________________________________________\n",
      "Layer (type)                 Output Shape              Param #   \n",
      "=================================================================\n",
      "input_46 (InputLayer)        (None, 3, 4)              0         \n",
      "_________________________________________________________________\n",
      "lstm_64 (LSTM)               [(None, 5), (None, 5), (N 200       \n",
      "=================================================================\n",
      "Total params: 200\n",
      "Trainable params: 200\n",
      "Non-trainable params: 0\n",
      "_________________________________________________________________\n"
     ]
    }
   ],
   "source": [
    "from keras.models import Model\n",
    "from keras.layers import Input\n",
    "from keras.layers import LSTM\n",
    "from numpy import array\n",
    "# define model : step_size=3 , feature_dim = 4\n",
    "inputs1 = Input(shape=(3, 4))\n",
    "lstm1, state_h, state_c = LSTM(5, return_state=True)(inputs1)\n",
    "model = Model(inputs=inputs1, outputs=[lstm1, state_h, state_c])\n",
    "model.summary()"
   ]
  },
  {
   "cell_type": "code",
   "execution_count": 135,
   "metadata": {},
   "outputs": [],
   "source": [
    "# define input data : two rows !!!\n",
    "data = np.random.rand(2,3,4)\n",
    " "
   ]
  },
  {
   "cell_type": "code",
   "execution_count": 136,
   "metadata": {},
   "outputs": [
    {
     "name": "stdout",
     "output_type": "stream",
     "text": [
      "[[ 0.11021777  0.03445232  0.07700986 -0.1312259   0.06634397]\n",
      " [ 0.0330804   0.10099667  0.10058533 -0.04455258  0.01756349]]\n",
      "\n",
      "[[ 0.11021777  0.03445232  0.07700986 -0.1312259   0.06634397]\n",
      " [ 0.0330804   0.10099667  0.10058533 -0.04455258  0.01756349]]\n",
      "\n",
      "[[ 0.25357416  0.09389415  0.17182902 -0.23218882  0.11518192]\n",
      " [ 0.06789154  0.230139    0.21743184 -0.0778769   0.03369107]]\n"
     ]
    }
   ],
   "source": [
    "# make and show prediction\n",
    "result,h,c = model.predict(data)\n",
    "print(result)\n",
    "print('')\n",
    "print(h)\n",
    "print('')\n",
    "print(c)"
   ]
  },
  {
   "cell_type": "markdown",
   "metadata": {},
   "source": [
    "## Return State and Sequnce"
   ]
  },
  {
   "cell_type": "code",
   "execution_count": 142,
   "metadata": {},
   "outputs": [
    {
     "name": "stdout",
     "output_type": "stream",
     "text": [
      "_________________________________________________________________\n",
      "Layer (type)                 Output Shape              Param #   \n",
      "=================================================================\n",
      "input_52 (InputLayer)        (None, 3, 4)              0         \n",
      "_________________________________________________________________\n",
      "lstm_69 (LSTM)               [(None, 3, 5), (None, 5), 200       \n",
      "=================================================================\n",
      "Total params: 200\n",
      "Trainable params: 200\n",
      "Non-trainable params: 0\n",
      "_________________________________________________________________\n"
     ]
    }
   ],
   "source": [
    "from keras.models import Model\n",
    "from keras.layers import Input\n",
    "from keras.layers import LSTM\n",
    "from numpy import array\n",
    "# define model : step_size=3 , feature_dim = 4\n",
    "inputs1 = Input(shape=(3, 4))\n",
    "lstm1, state_h, state_c = LSTM(5, return_state=True,return_sequences=True)(inputs1)\n",
    "model = Model(inputs=inputs1, outputs=[lstm1, state_h, state_c])\n",
    "model.summary()\n",
    "\n",
    "# define input data : two rows !!!\n",
    "data = np.random.rand(2,3,4)\n",
    "\n",
    "\n",
    "# make and show prediction\n",
    "result,h,c = model.predict(data)"
   ]
  },
  {
   "cell_type": "markdown",
   "metadata": {},
   "source": [
    "### Result Dim = $row__count*step__size*output__dim=2*3*5$"
   ]
  },
  {
   "cell_type": "code",
   "execution_count": 151,
   "metadata": {},
   "outputs": [
    {
     "name": "stdout",
     "output_type": "stream",
     "text": [
      "[[[-0.11293191 -0.2143995  -0.0339875   0.14321022  0.08661234]\n",
      "  [-0.1561099  -0.27486107 -0.04737563  0.24274863  0.15393023]\n",
      "  [-0.17066154 -0.27306929 -0.0563515   0.21435302  0.15645497]]\n",
      "\n",
      " [[-0.12975837 -0.13139297  0.016354    0.12212893  0.09127233]\n",
      "  [-0.18707757 -0.28833199 -0.01606969  0.22777481  0.12801695]\n",
      "  [-0.21214634 -0.27837792 -0.03663032  0.23615576  0.20373756]]]\n"
     ]
    }
   ],
   "source": [
    "print(result)"
   ]
  },
  {
   "cell_type": "markdown",
   "metadata": {},
   "source": [
    "### Hidden Output Dim = $row__count*output_dim$\n",
    "* 可以看得出來 Result 的每一個 Row 當中的最後一個 Step 的 Ouput 及為 h"
   ]
  },
  {
   "cell_type": "code",
   "execution_count": 154,
   "metadata": {},
   "outputs": [
    {
     "name": "stdout",
     "output_type": "stream",
     "text": [
      "[[-0.17066154 -0.27306929 -0.0563515   0.21435302  0.15645497]\n",
      " [-0.21214634 -0.27837792 -0.03663032  0.23615576  0.20373756]]\n"
     ]
    }
   ],
   "source": [
    "print(h)"
   ]
  },
  {
   "cell_type": "markdown",
   "metadata": {},
   "source": [
    "### Sate Dim = $row__count*output_dim$"
   ]
  },
  {
   "cell_type": "code",
   "execution_count": 155,
   "metadata": {},
   "outputs": [
    {
     "name": "stdout",
     "output_type": "stream",
     "text": [
      "[[-0.3449741  -0.69952059 -0.10459338  0.42986715  0.37107053]\n",
      " [-0.43414831 -0.65018016 -0.06691437  0.60401654  0.42403555]]\n"
     ]
    }
   ],
   "source": [
    "print(c)"
   ]
  },
  {
   "cell_type": "code",
   "execution_count": null,
   "metadata": {},
   "outputs": [],
   "source": []
  }
 ],
 "metadata": {
  "hide_input": false,
  "kernelspec": {
   "display_name": "Python 3",
   "language": "python",
   "name": "python3"
  },
  "language_info": {
   "codemirror_mode": {
    "name": "ipython",
    "version": 3
   },
   "file_extension": ".py",
   "mimetype": "text/x-python",
   "name": "python",
   "nbconvert_exporter": "python",
   "pygments_lexer": "ipython3",
   "version": "3.7.3"
  }
 },
 "nbformat": 4,
 "nbformat_minor": 2
}
