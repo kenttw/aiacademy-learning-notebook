{
 "cells": [
  {
   "cell_type": "markdown",
   "metadata": {
    "collapsed": true
   },
   "source": [
    "# Entropy 基本概念\n",
    "* 用來衡量一個事件所包含的資訊量\n",
    "* [參考資料](https://machinelearningmastery.com/what-is-information-entropy/)\n",
    "## 計算一個事件的 Entropy\n",
    "* 舉例來說好，如果你明天要吃早餐為事件 A 跟你明天會中大獎 為事件 B ，A事件和B事件來說哪一個是重大事件，直觀來看顯而易見。當然是 B 件中大獎的 entropy 比較大嚕\n",
    "* 再來如果是使用 log2 為底的可以看做是用二進位編碼所需要的 bit 數\n",
    "* Entropy公式如下： $$h(x)=-log(p(x))$$\n",
    "* Large entropy value is related more surprise \n",
    "\n",
    "\n"
   ]
  },
  {
   "cell_type": "code",
   "execution_count": 7,
   "metadata": {},
   "outputs": [
    {
     "name": "stdout",
     "output_type": "stream",
     "text": [
      "吃早餐的 entropy :0.15200309344504995\n",
      "中獎的   entropy :6.643856189774724\n"
     ]
    }
   ],
   "source": [
    "from math import log2\n",
    "from matplotlib import pyplot\n",
    "def h(x):\n",
    "    return -1*log2(x)\n",
    "print(\"吃早餐的 entropy :{}\".format(h(.9)))\n",
    "print(\"中獎的   entropy :{}\".format(h(.01)))"
   ]
  },
  {
   "cell_type": "code",
   "execution_count": 14,
   "metadata": {},
   "outputs": [],
   "source": [
    "prob = [1/(x+1) for x in range(10)] "
   ]
  },
  {
   "cell_type": "code",
   "execution_count": 17,
   "metadata": {},
   "outputs": [],
   "source": [
    "h_dis = [h(p) for p in prob]"
   ]
  },
  {
   "cell_type": "code",
   "execution_count": 20,
   "metadata": {},
   "outputs": [
    {
     "data": {
      "text/plain": [
       "[<matplotlib.lines.Line2D at 0x11cadbfa0>]"
      ]
     },
     "execution_count": 20,
     "metadata": {},
     "output_type": "execute_result"
    },
    {
     "data": {
      "image/png": "[encoded data removed]",
      "text/plain": [
       "<Figure size 432x288 with 1 Axes>"
      ]
     },
     "metadata": {
      "needs_background": "light"
     },
     "output_type": "display_data"
    }
   ],
   "source": [
    "pyplot.xlabel(\"Probability\")\n",
    "pyplot.ylabel(\"Entropy\")\n",
    "pyplot.plot(prob,h_dis)\n"
   ]
  },
  {
   "cell_type": "markdown",
   "metadata": {},
   "source": [
    "## 計算一組事件的 Entropy\n",
    "* 原文說明　Entropy can be calculated for a random variable X with k in K discrete states as follows\n",
    "* 舉例來說明天的天氣狀況可分為 晴天、雨天、陰天 ，如果來評估一個天氣各種變化事件的 entropy 其公式如下，白話的說就是將每一個事件所代表的 entropy 再乘上機率，並且加總起來就是這組件的 entropy 。\n",
    "* $$\\sum_{k} -1*p(k)*log(p(k))$$\n",
    "* 直觀的說明: 以天氣預測為例，如果明天的狀況是　\"下雨\" \"晴天\" \"陰天\" 機率各佔 1/3 ，其實這樣是非常難預測的。因為非常模稜兩可,故這樣狀態下的 entropy 是比較大的\n"
   ]
  },
  {
   "cell_type": "code",
   "execution_count": 22,
   "metadata": {},
   "outputs": [],
   "source": [
    "case1_p = [0.3333,0.3333,0.3333]\n",
    "case2_p = [.8,.1,.1]"
   ]
  },
  {
   "cell_type": "code",
   "execution_count": 27,
   "metadata": {},
   "outputs": [],
   "source": [
    "def sum_entropy(case):\n",
    "    r = 0 \n",
    "    for p in case:\n",
    "        r = r + -1*p*log2(p)\n",
    "    return r"
   ]
  },
  {
   "cell_type": "code",
   "execution_count": 31,
   "metadata": {},
   "outputs": [
    {
     "name": "stdout",
     "output_type": "stream",
     "text": [
      "\n",
      "\"下雨\" \"晴天\" \"陰天\" 機率各佔 1/3\n",
      "\n"
     ]
    },
    {
     "data": {
      "text/plain": [
       "1.5849482667614572"
      ]
     },
     "execution_count": 31,
     "metadata": {},
     "output_type": "execute_result"
    }
   ],
   "source": [
    "print(\"\"\"\n",
    "\"下雨\" \"晴天\" \"陰天\" 機率各佔 1/3\n",
    "\"\"\")\n",
    "sum_entropy(case1_p)"
   ]
  },
  {
   "cell_type": "code",
   "execution_count": 32,
   "metadata": {},
   "outputs": [
    {
     "name": "stdout",
     "output_type": "stream",
     "text": [
      "\n",
      "很明顯是下雨天的情況下\n",
      "\n"
     ]
    },
    {
     "data": {
      "text/plain": [
       "0.9219280948873623"
      ]
     },
     "execution_count": 32,
     "metadata": {},
     "output_type": "execute_result"
    }
   ],
   "source": [
    "print(\"\"\"\n",
    "很明顯是下雨天的情況下\n",
    "\"\"\")\n",
    "sum_entropy(case2_p)"
   ]
  },
  {
   "cell_type": "markdown",
   "metadata": {},
   "source": [
    "# 延伸思考\n",
    "* kent 中大獎的 entropy 是高的\n",
    "* 用來預測 kent 是否會中彩券頭獎，這樣的 entropy 總和是比預測吃早餐來的低。白話的來說預測我會不會中獎，是比較簡單的因為 entropy 比較低\n",
    "\n",
    "# Cross Entropy\n",
    "* Cross-Entropy is a measure of the difference between two probability distributions for a givne raddom variable or set of events. \n",
    "* You might recall that information quantifies the number of bits required to encode and transmit an event. Lower probability events have more information, higher probability events have less information.\n",
    "* [參考資料](https://machinelearningmastery.com/cross-entropy-for-machine-learning/)\n",
    "* 主要用在資訊資料領域上，用來評估一個模擬系統或者是預測系統與真實資料分佈的差異有多遠。 更正確的說是一種 scoring function 並不是距離。\n",
    "* q is a simulation function or a classification model's output distribution. p is a groud truth distribution. the cross entropy is a scoring function to measure this difference between q and p. \n",
    "* entropy formula is below $$\\sum_{x}-1*p(x)*log(q(x))$$\n"
   ]
  },
  {
   "cell_type": "code",
   "execution_count": 43,
   "metadata": {},
   "outputs": [],
   "source": []
  },
  {
   "cell_type": "code",
   "execution_count": 49,
   "metadata": {},
   "outputs": [
    {
     "name": "stdout",
     "output_type": "stream",
     "text": [
      "P=1.000 Q=1.000\n"
     ]
    },
    {
     "data": {
      "image/png": "[encoded data removed]",
      "text/plain": [
       "<Figure size 432x288 with 2 Axes>"
      ]
     },
     "metadata": {
      "needs_background": "light"
     },
     "output_type": "display_data"
    }
   ],
   "source": [
    "# plot of distributions\n",
    "from matplotlib import pyplot\n",
    "# define distributions\n",
    "events = ['red', 'green', 'blue']\n",
    "p = [0.30, 0.30, 0.40]\n",
    "q = [0.80, 0.15, 0.05]\n",
    "print('P=%.3f Q=%.3f' % (sum(p), sum(q)))\n",
    "# plot first distribution\n",
    "pyplot.subplot(2,1,1)\n",
    "pyplot.bar(events, p)\n",
    "# plot second distribution\n",
    "pyplot.subplot(2,1,2)\n",
    "pyplot.bar(events, q)\n",
    "# show the plot\n",
    "pyplot.show()"
   ]
  },
  {
   "cell_type": "code",
   "execution_count": 50,
   "metadata": {},
   "outputs": [],
   "source": [
    "def cross_entropy(p,q):\n",
    "    r = sum([  -1*p[i]*log2(q[i])   for i in range(len(q))])\n",
    "    return r\n",
    "    "
   ]
  },
  {
   "cell_type": "code",
   "execution_count": 51,
   "metadata": {},
   "outputs": [
    {
     "name": "stdout",
     "output_type": "stream",
     "text": [
      "h(p,q):2.6464393446710157\n",
      "h(q,p):1.7162137192022644\n"
     ]
    }
   ],
   "source": [
    "print(\"h(p,q):{}\".format(cross_entropy(p,q)))\n",
    "print(\"h(q,p):{}\".format(cross_entropy(q,p)))"
   ]
  },
  {
   "cell_type": "markdown",
   "metadata": {},
   "source": [
    "# KL Divergence\n"
   ]
  },
  {
   "cell_type": "code",
   "execution_count": 33,
   "metadata": {},
   "outputs": [],
   "source": [
    "# define distributions\n",
    "events = ['red', 'green', 'blue']\n",
    "p = [0.10, 0.40, 0.50]\n",
    "q = [0.80, 0.15, 0.05]"
   ]
  },
  {
   "cell_type": "code",
   "execution_count": 34,
   "metadata": {},
   "outputs": [
    {
     "name": "stdout",
     "output_type": "stream",
     "text": [
      "P=1.000 Q=1.000\n"
     ]
    },
    {
     "data": {
      "image/png": "[encoded data removed]",
      "text/plain": [
       "<Figure size 432x288 with 2 Axes>"
      ]
     },
     "metadata": {
      "needs_background": "light"
     },
     "output_type": "display_data"
    }
   ],
   "source": [
    "# plot of distributions\n",
    "from matplotlib import pyplot\n",
    "# define distributions\n",
    "events = ['red', 'green', 'blue']\n",
    "p = [0.10, 0.40, 0.50]\n",
    "q = [0.80, 0.15, 0.05]\n",
    "print('P=%.3f Q=%.3f' % (sum(p), sum(q)))\n",
    "# plot first distribution\n",
    "pyplot.subplot(2,1,1)\n",
    "pyplot.bar(events, p)\n",
    "# plot second distribution\n",
    "pyplot.subplot(2,1,2)\n",
    "pyplot.bar(events, q)\n",
    "# show the plot\n",
    "pyplot.show()"
   ]
  },
  {
   "cell_type": "code",
   "execution_count": 35,
   "metadata": {},
   "outputs": [],
   "source": [
    "# calculate the kl divergence\n",
    "def kl_divergence(p, q):\n",
    "    return sum(p[i] * log2(p[i]/q[i]) for i in range(len(p)))\n"
   ]
  },
  {
   "cell_type": "code",
   "execution_count": 36,
   "metadata": {},
   "outputs": [
    {
     "name": "stdout",
     "output_type": "stream",
     "text": [
      "KL(P || Q): 1.927 bits\n",
      "KL(Q || P): 2.022 bits\n"
     ]
    }
   ],
   "source": [
    "# calculate (P || Q)\n",
    "kl_pq = kl_divergence(p, q)\n",
    "print('KL(P || Q): %.3f bits' % kl_pq)\n",
    "# calculate (Q || P)\n",
    "kl_qp = kl_divergence(q, p)\n",
    "print('KL(Q || P): %.3f bits' % kl_qp)"
   ]
  },
  {
   "cell_type": "code",
   "execution_count": 40,
   "metadata": {},
   "outputs": [
    {
     "data": {
      "text/plain": [
       "1.9269790471552186"
      ]
     },
     "execution_count": 40,
     "metadata": {},
     "output_type": "execute_result"
    }
   ],
   "source": [
    ".1*log2(.1/.8) + .4*log2(.4/.15) + .5*log2(.5/.05)"
   ]
  },
  {
   "cell_type": "code",
   "execution_count": 42,
   "metadata": {},
   "outputs": [
    {
     "data": {
      "text/plain": [
       "2.084962500721156"
      ]
     },
     "execution_count": 42,
     "metadata": {},
     "output_type": "execute_result"
    }
   ],
   "source": [
    ".5*log2(.9/.05)"
   ]
  },
  {
   "cell_type": "code",
   "execution_count": null,
   "metadata": {},
   "outputs": [],
   "source": []
  }
 ],
 "metadata": {
  "kernelspec": {
   "display_name": "Python 3",
   "language": "python",
   "name": "python3"
  },
  "language_info": {
   "codemirror_mode": {
    "name": "ipython",
    "version": 3
   },
   "file_extension": ".py",
   "mimetype": "text/x-python",
   "name": "python",
   "nbconvert_exporter": "python",
   "pygments_lexer": "ipython3",
   "version": "3.8.5"
  }
 },
 "nbformat": 4,
 "nbformat_minor": 1
}
