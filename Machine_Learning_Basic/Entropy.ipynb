{
 "cells": [
  {
   "cell_type": "markdown",
   "metadata": {
    "collapsed": true
   },
   "source": [
    "# Entropy 基本概念\n",
    "* 用來衡量一個事件所包含的資訊量\n",
    "* [參考資料](https://machinelearningmastery.com/what-is-information-entropy/)\n",
    "## 計算一個事件的 Entropy\n",
    "* 舉例來說好，如果你明天要吃早餐為事件 A 跟你明天會中大獎 為事件 B ，A事件和B事件來說哪一個是重大事件，直觀來看顯而易見。當然是 B 件中大獎的 entropy 比較大嚕\n",
    "* Entropy公式如下： $$h(x)=-log(p(x))$$\n",
    "\n",
    "\n"
   ]
  },
  {
   "cell_type": "code",
   "execution_count": 7,
   "metadata": {},
   "outputs": [
    {
     "name": "stdout",
     "output_type": "stream",
     "text": [
      "吃早餐的 entropy :0.15200309344504995\n",
      "中獎的   entropy :6.643856189774724\n"
     ]
    }
   ],
   "source": [
    "from math import log2\n",
    "from matplotlib import pyplot\n",
    "def h(x):\n",
    "    return -1*log2(x)\n",
    "print(\"吃早餐的 entropy :{}\".format(h(.9)))\n",
    "print(\"中獎的   entropy :{}\".format(h(.01)))"
   ]
  },
  {
   "cell_type": "code",
   "execution_count": 14,
   "metadata": {},
   "outputs": [],
   "source": [
    "prob = [1/(x+1) for x in range(10)] "
   ]
  },
  {
   "cell_type": "code",
   "execution_count": 17,
   "metadata": {},
   "outputs": [],
   "source": [
    "h_dis = [h(p) for p in prob]"
   ]
  },
  {
   "cell_type": "code",
   "execution_count": 20,
   "metadata": {},
   "outputs": [
    {
     "data": {
      "text/plain": [
       "[<matplotlib.lines.Line2D at 0x11cadbfa0>]"
      ]
     },
     "execution_count": 20,
     "metadata": {},
     "output_type": "execute_result"
    },
    {
     "data": {
      "image/png": "[encoded data removed]",
      "text/plain": [
       "<Figure size 432x288 with 1 Axes>"
      ]
     },
     "metadata": {
      "needs_background": "light"
     },
     "output_type": "display_data"
    }
   ],
   "source": [
    "pyplot.xlabel(\"Probability\")\n",
    "pyplot.ylabel(\"Entropy\")\n",
    "pyplot.plot(prob,h_dis)\n"
   ]
  },
  {
   "cell_type": "markdown",
   "metadata": {},
   "source": [
    "## 計算一組事件的 Entropy\n",
    "* 原文說明　Entropy can be calculated for a random variable X with k in K discrete states as follows\n",
    "* 舉例來說明天的天氣狀況可分為 晴天、雨天、陰天 ，如果來評估一個天氣各種變化事件的 entropy 其公式如下，白話的說就是將每一個事件所代表的 entropy 再乘上機率，並且加總起來就是這組件的 entropy 。\n",
    "* $$\\sum_{k} -1*p(k)*log(p(k))$$\n",
    "* 直觀的說明: 以天氣預測為例，如果明天的狀況是　\"下雨\" \"晴天\" \"陰天\" 機率各佔 1/3 ，其實這樣是非常難預測的。因為非常模稜兩可,故這樣狀態下的 entropy 是比較大的"
   ]
  },
  {
   "cell_type": "code",
   "execution_count": 22,
   "metadata": {},
   "outputs": [],
   "source": [
    "case1_p = [0.3333,0.3333,0.3333]\n",
    "case2_p = [.8,.1,.1]"
   ]
  },
  {
   "cell_type": "code",
   "execution_count": 27,
   "metadata": {},
   "outputs": [],
   "source": [
    "def sum_entropy(case):\n",
    "    r = 0 \n",
    "    for p in case:\n",
    "        r = r + -1*p*log2(p)\n",
    "    return r"
   ]
  },
  {
   "cell_type": "code",
   "execution_count": 31,
   "metadata": {},
   "outputs": [
    {
     "name": "stdout",
     "output_type": "stream",
     "text": [
      "\n",
      "\"下雨\" \"晴天\" \"陰天\" 機率各佔 1/3\n",
      "\n"
     ]
    },
    {
     "data": {
      "text/plain": [
       "1.5849482667614572"
      ]
     },
     "execution_count": 31,
     "metadata": {},
     "output_type": "execute_result"
    }
   ],
   "source": [
    "print(\"\"\"\n",
    "\"下雨\" \"晴天\" \"陰天\" 機率各佔 1/3\n",
    "\"\"\")\n",
    "sum_entropy(case1_p)"
   ]
  },
  {
   "cell_type": "code",
   "execution_count": 32,
   "metadata": {},
   "outputs": [
    {
     "name": "stdout",
     "output_type": "stream",
     "text": [
      "\n",
      "很明顯是下雨天的情況下\n",
      "\n"
     ]
    },
    {
     "data": {
      "text/plain": [
       "0.9219280948873623"
      ]
     },
     "execution_count": 32,
     "metadata": {},
     "output_type": "execute_result"
    }
   ],
   "source": [
    "print(\"\"\"\n",
    "很明顯是下雨天的情況下\n",
    "\"\"\")\n",
    "sum_entropy(case2_p)"
   ]
  },
  {
   "cell_type": "code",
   "execution_count": null,
   "metadata": {},
   "outputs": [],
   "source": []
  }
 ],
 "metadata": {
  "kernelspec": {
   "display_name": "Python 3",
   "language": "python",
   "name": "python3"
  },
  "language_info": {
   "codemirror_mode": {
    "name": "ipython",
    "version": 3
   },
   "file_extension": ".py",
   "mimetype": "text/x-python",
   "name": "python",
   "nbconvert_exporter": "python",
   "pygments_lexer": "ipython3",
   "version": "3.8.5"
  }
 },
 "nbformat": 4,
 "nbformat_minor": 1
}
