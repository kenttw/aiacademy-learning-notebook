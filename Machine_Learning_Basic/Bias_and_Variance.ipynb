{
 "cells": [
  {
   "cell_type": "markdown",
   "metadata": {},
   "source": [
    "# Bias and Variance ，[參考資料1](https://machinelearningmastery.com/gentle-introduction-to-the-bias-variance-trade-off-in-machine-learning/), [參考資料二](https://medium.com/analytics-vidhya/bias-variance-trade-off-in-datascience-and-calculating-with-python-766158812c46)\n",
    "* 一般來模型的 Bias 和 Variance 會呈現互斥的現像\n",
    "* 通常來說 Bias 越低，代表可能產生 Overfitting ，而 Overfitting 通常代表 Vairance 越高，其意義代表對於 Input 資料的敏感到越高。\n",
    "## How to Caculate the Model's Bias\n",
    "* Bias 的定義: Bias 是模型的預測(產出)的均值與實際值的差異(Bias is the difference between the mean of these estimates and the actual value.)\n",
    "* Model Bias Formula : $$ {1 \\over n}\\sum\\limits_{k=1}^n \\{{\\hat{y}-y_i}\\}^2 $$\n",
    "* n 為測試集中的資料筆數,y_hat 為模型的均值,y_i 為 groud truth value\n",
    "## How to Caculate the Model's Variance\n",
    "* Variance 定義：這與實際(y label)的 value 沒關係，而是這個組模型的穩定度，在不同 sub training set 所產出相對應的 model 對於 同一組 testing data 所預測(產出)的值的 variance .\n",
    "* Variance Defintion: Variance is the amount that the estimate of the target function will change if different training data was used.\n",
    "*  Model Variance Formula:$$ {1 \\over N}\\sum\\limits_{n=1}^N {1 \\over L}\\sum\\limits_{l=1}^l \\{{ y^l(x_n) -  \\bar{y}(x_n) }\\}^2 $$\n",
    "* N 為 testing data 的數(筆)量，L 將 training data 折成多少個 sub trainin set (N is the number of rows that is in testing set . L is the number of subset that is splited from all training set. )"
   ]
  },
  {
   "cell_type": "code",
   "execution_count": 2,
   "metadata": {},
   "outputs": [],
   "source": [
    "from mlxtend.evaluate import bias_variance_decomp\n",
    "from sklearn.tree import DecisionTreeRegressor\n",
    "from sklearn.model_selection import train_test_split\n",
    "import pandas as pd\n",
    "import matplotlib.pyplot as plt\n",
    "import numpy as np\n",
    "from sklearn.linear_model import LinearRegression, Lasso\n",
    "from sklearn.neighbors import KNeighborsRegressor\n",
    "import warnings\n",
    "warnings.filterwarnings('ignore')\n",
    "# function to load the boston_housing_data dataset into NumPy arrays.\n",
    "# So I will be able to directly apply NumPy functions to this\n",
    "from mlxtend.data import boston_housing_data"
   ]
  },
  {
   "cell_type": "code",
   "execution_count": 3,
   "metadata": {},
   "outputs": [
    {
     "name": "stdout",
     "output_type": "stream",
     "text": [
      "Dimensions: 506 x 13\n"
     ]
    }
   ],
   "source": [
    "\n",
    "X, y = boston_housing_data()\n",
    "print('Dimensions: %s x %s' % (X.shape[0], X.shape[1]))\n",
    "\n",
    "X_train, X_test, y_train, y_test = train_test_split(X, y, test_size=0.33, random_state=123, shuffle=True)"
   ]
  },
  {
   "cell_type": "markdown",
   "metadata": {},
   "source": [
    "## Demonstration\n",
    "* Show the relation between variance, bias, and tree depth.\n",
    "* You could see if tree depth is deeper than the bias could be lower and variance could be increased."
   ]
  },
  {
   "cell_type": "code",
   "execution_count": 12,
   "metadata": {},
   "outputs": [
    {
     "name": "stdout",
     "output_type": "stream",
     "text": [
      "Original Bias from un-pruned data at 1 41.41\n",
      "Original Variance from un-pruned data at 1 11.49\n",
      "Original Bias from un-pruned data at 2 29.04\n",
      "Original Variance from un-pruned data at 2 7.41\n",
      "Original Bias from un-pruned data at 3 20.7\n",
      "Original Variance from un-pruned data at 3 12.62\n",
      "Original Bias from un-pruned data at 4 18.6\n",
      "Original Variance from un-pruned data at 4 12.43\n"
     ]
    }
   ],
   "source": [
    "for d in range(1,5):\n",
    "    decision_tree = DecisionTreeRegressor(random_state=123,max_depth=d)\n",
    "    # first calculate all the statistical parameters before pruning\n",
    "    mse_decision_tree, bias_decision_tree, var_decision_tree = bias_variance_decomp(decision_tree, X_train, y_train, X_test, y_test, 'mse', random_seed=123 )\n",
    "\n",
    "    # random_seed : Used to initialize a pseudo-random\n",
    "    # number generator for the bias-variance decomposition\n",
    "    print('Original Bias from un-pruned data at {}'.format(d), np.round(bias_decision_tree, 2))\n",
    "    print('Original Variance from un-pruned data at {}'.format(d), np.round(var_decision_tree, 2))"
   ]
  },
  {
   "cell_type": "markdown",
   "metadata": {},
   "source": [
    "## The simple model \n",
    "* the linea regression is a very simple model , so it's bias is high and variance is low. "
   ]
  },
  {
   "cell_type": "code",
   "execution_count": 4,
   "metadata": {},
   "outputs": [
    {
     "name": "stdout",
     "output_type": "stream",
     "text": [
      "Original Bias from un-pruned data  30.07\n",
      "Original Variance from un-pruned data  1.26\n"
     ]
    }
   ],
   "source": [
    "lr = LinearRegression()\n",
    "\n",
    "# first calculate all the statistical parameters before pruning\n",
    "mse_decision_tree, bias_decision_tree, var_decision_tree = bias_variance_decomp(lr, X_train, y_train, X_test, y_test, 'mse', random_seed=123 )\n",
    "\n",
    "# random_seed : Used to initialize a pseudo-random\n",
    "# number generator for the bias-variance decomposition\n",
    "print('Original Bias from un-pruned data ', np.round(bias_decision_tree, 2))\n",
    "print('Original Variance from un-pruned data ', np.round(var_decision_tree, 2))"
   ]
  },
  {
   "cell_type": "markdown",
   "metadata": {},
   "source": [
    "# Conclusion\n",
    "* this is trade off between bias and variance that show as below chart\n",
    "<img src=\"https://i.imgur.com/JNyTZwN.png\" />\n"
   ]
  },
  {
   "cell_type": "code",
   "execution_count": null,
   "metadata": {},
   "outputs": [],
   "source": []
  }
 ],
 "metadata": {
  "kernelspec": {
   "display_name": "Python 3",
   "language": "python",
   "name": "python3"
  },
  "language_info": {
   "codemirror_mode": {
    "name": "ipython",
    "version": 3
   },
   "file_extension": ".py",
   "mimetype": "text/x-python",
   "name": "python",
   "nbconvert_exporter": "python",
   "pygments_lexer": "ipython3",
   "version": "3.8.5"
  }
 },
 "nbformat": 4,
 "nbformat_minor": 4
}
