{
 "cells": [
  {
   "cell_type": "markdown",
   "metadata": {},
   "source": [
    "# Bias and Variance ，[參考資料1](https://machinelearningmastery.com/gentle-introduction-to-the-bias-variance-trade-off-in-machine-learning/), [參考資料二]\n",
    "* 一般來模型的 Bias 和 Variance 會呈現互斥的現像\n",
    "* 通常來說 Bias 越低，代表可能產生 Overfitting ，而 Overfitting 通常代表 Vairance 越高，其意義代表對於 Input 資料的敏感到越高。\n",
    "## How to Caculate the Model's Bias\n",
    "* Bias 的定義: Bias 是模型的預測(產出)的均值與實際值的差異(Bias is the difference between the mean of these estimates and the actual value.)\n",
    "* Model Bias Formula : $$ {1 \\over n}\\sum\\limits_{k=1}^n \\{{\\hat{y}-y_i}\\}^2 $$\n",
    "## How to Caculate the Model's Variance\n",
    "* Variance 定義：這與實際(y label)的 value 沒關係，而是這個組模型的穩定度，在不同 sub training set 所產出相對應的 model 對於 同一組 testing data 所預測(產出)的值的 variance .\n",
    "* Variance Defintion: Variance is the amount that the estimate of the target function will change if different training data was used.\n",
    "*  Model Variance Formula:$$ {1 \\over N}\\sum\\limits_{n=1}^N {1 \\over L}\\sum\\limits_{l=1}^l \\{{ y^l(x_n) -  \\bar{y}(x_n) }\\}^2 $$"
   ]
  },
  {
   "cell_type": "code",
   "execution_count": null,
   "metadata": {},
   "outputs": [],
   "source": [
    "# Sample Code ToDo"
   ]
  },
  {
   "cell_type": "code",
   "execution_count": 1,
   "metadata": {},
   "outputs": [],
   "source": [
    "from mlxtend.evaluate import bias_variance_decomp\n",
    "from sklearn.tree import DecisionTreeRegressor\n",
    "from sklearn.model_selection import train_test_split\n",
    "import pandas as pd\n",
    "import matplotlib.pyplot as plt\n",
    "import numpy as np\n",
    "from sklearn.linear_model import LinearRegression, Lasso\n",
    "from sklearn.neighbors import KNeighborsRegressor\n",
    "import warnings\n",
    "warnings.filterwarnings('ignore')\n",
    "# function to load the boston_housing_data dataset into NumPy arrays.\n",
    "# So I will be able to directly apply NumPy functions to this\n",
    "from mlxtend.data import boston_housing_data"
   ]
  },
  {
   "cell_type": "code",
   "execution_count": 2,
   "metadata": {},
   "outputs": [
    {
     "name": "stdout",
     "output_type": "stream",
     "text": [
      "Dimensions: 506 x 13\n"
     ]
    }
   ],
   "source": [
    "\n",
    "X, y = boston_housing_data()\n",
    "print('Dimensions: %s x %s' % (X.shape[0], X.shape[1]))\n",
    "\n",
    "X_train, X_test, y_train, y_test = train_test_split(X, y, test_size=0.33, random_state=123, shuffle=True)"
   ]
  },
  {
   "cell_type": "code",
   "execution_count": 3,
   "metadata": {},
   "outputs": [
    {
     "name": "stdout",
     "output_type": "stream",
     "text": [
      "Original Bias from un-pruned data  17.24\n",
      "Original Variance from un-pruned data  15.95\n"
     ]
    }
   ],
   "source": [
    "decision_tree = DecisionTreeRegressor(random_state=123)\n",
    "# DecisionTreeRegressor expect a 2D array\n",
    "\n",
    "# first calculate all the statistical parameters before pruning\n",
    "mse_decision_tree, bias_decision_tree, var_decision_tree = bias_variance_decomp(decision_tree, X_train, y_train, X_test, y_test, 'mse', random_seed=123 )\n",
    "\n",
    "# random_seed : Used to initialize a pseudo-random\n",
    "# number generator for the bias-variance decomposition\n",
    "print('Original Bias from un-pruned data ', np.round(bias_decision_tree, 2))\n",
    "print('Original Variance from un-pruned data ', np.round(var_decision_tree, 2))"
   ]
  },
  {
   "cell_type": "code",
   "execution_count": null,
   "metadata": {},
   "outputs": [],
   "source": []
  }
 ],
 "metadata": {
  "kernelspec": {
   "display_name": "Python 3",
   "language": "python",
   "name": "python3"
  },
  "language_info": {
   "codemirror_mode": {
    "name": "ipython",
    "version": 3
   },
   "file_extension": ".py",
   "mimetype": "text/x-python",
   "name": "python",
   "nbconvert_exporter": "python",
   "pygments_lexer": "ipython3",
   "version": "3.8.5"
  }
 },
 "nbformat": 4,
 "nbformat_minor": 4
}
