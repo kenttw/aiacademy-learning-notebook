{
 "cells": [
  {
   "cell_type": "markdown",
   "metadata": {},
   "source": [
    "# Data Clean Simple Tutorial\n",
    "* Reference :https://machinelearningmastery.com/basic-data-cleaning-for-machine-learning/\n"
   ]
  },
  {
   "cell_type": "code",
   "execution_count": 1,
   "metadata": {
    "pycharm": {
     "is_executing": false
    }
   },
   "outputs": [],
   "source": [
    "import pandas as pd\n",
    "\n",
    "url=\"https://raw.githubusercontent.com/jbrownlee/Datasets/master/oil-spill.csv\"\n",
    "df_csv=pd.read_csv(url,header=None)\n"
   ]
  },
  {
   "cell_type": "code",
   "execution_count": 2,
   "metadata": {
    "pycharm": {
     "is_executing": false
    }
   },
   "outputs": [
    {
     "data": {
      "text/plain": "   0      1        2       3    4           5      6     7        8     9   \\\n0   1   2558  1506.09  456.63   90   6395000.0  40.88  7.89  29780.0  0.19   \n1   2  22325    79.11  841.03  180  55812500.0  51.11  1.21  61900.0  0.02   \n2   3    115  1449.85  608.43   88    287500.0  40.42  7.34   3340.0  0.18   \n3   4   1201  1562.53  295.65   66   3002500.0  42.40  7.97  18030.0  0.19   \n4   5    312   950.27  440.86   37    780000.0  41.43  7.03   3350.0  0.17   \n5   6     54  1438.13  544.91   82    135000.0  44.67  6.92   1570.0  0.15   \n6   7    116  1446.29  580.94   97    290000.0  41.53  6.24   3660.0  0.15   \n7   8     57    28.68  715.39  141    142500.0  51.67  0.83   1810.0  0.02   \n8   9    188   964.23  456.23   22    470000.0  38.90  5.89   3720.0  0.15   \n9  10     64   903.02  274.88   33    160000.0  41.22  7.90   1850.0  0.19   \n\n   ...       40        41       42       43     44  45        46     47    48  \\\n0  ...  2850.00   1000.00   763.16   135.46   3.73   0  33243.19  65.74  7.95   \n1  ...  5750.00  11500.00  9593.48  1648.80   0.60   0  51572.04  65.73  6.26   \n2  ...  1400.00    250.00   150.00    45.13   9.33   1  31692.84  65.81  7.84   \n3  ...  6041.52    761.58   453.21   144.97  13.33   1  37696.21  65.67  8.07   \n4  ...  1320.04    710.63   512.54   109.16   2.58   0  29038.17  65.66  7.35   \n5  ...   608.28    200.00   150.00    52.22   4.06   0  30967.25  65.77  7.85   \n6  ...  1060.66    403.11   164.58   114.82   6.44   0  31258.37  65.79  7.85   \n7  ...   500.00    360.56   165.71   132.47   3.02   0  51985.06  65.67  6.25   \n8  ...  1569.24    492.44   256.77   124.72   6.11   0  28871.82  65.67  7.36   \n9  ...   471.70    223.61   182.83    50.12   2.58   0  32053.95  65.58  7.35   \n\n   49  \n0   1  \n1   0  \n2   1  \n3   1  \n4   0  \n5   1  \n6   1  \n7   0  \n8   1  \n9   1  \n\n[10 rows x 50 columns]",
      "text/html": "<div>\n<style scoped>\n    .dataframe tbody tr th:only-of-type {\n        vertical-align: middle;\n    }\n\n    .dataframe tbody tr th {\n        vertical-align: top;\n    }\n\n    .dataframe thead th {\n        text-align: right;\n    }\n</style>\n<table border=\"1\" class=\"dataframe\">\n  <thead>\n    <tr style=\"text-align: right;\">\n      <th></th>\n      <th>0</th>\n      <th>1</th>\n      <th>2</th>\n      <th>3</th>\n      <th>4</th>\n      <th>5</th>\n      <th>6</th>\n      <th>7</th>\n      <th>8</th>\n      <th>9</th>\n      <th>...</th>\n      <th>40</th>\n      <th>41</th>\n      <th>42</th>\n      <th>43</th>\n      <th>44</th>\n      <th>45</th>\n      <th>46</th>\n      <th>47</th>\n      <th>48</th>\n      <th>49</th>\n    </tr>\n  </thead>\n  <tbody>\n    <tr>\n      <th>0</th>\n      <td>1</td>\n      <td>2558</td>\n      <td>1506.09</td>\n      <td>456.63</td>\n      <td>90</td>\n      <td>6395000.0</td>\n      <td>40.88</td>\n      <td>7.89</td>\n      <td>29780.0</td>\n      <td>0.19</td>\n      <td>...</td>\n      <td>2850.00</td>\n      <td>1000.00</td>\n      <td>763.16</td>\n      <td>135.46</td>\n      <td>3.73</td>\n      <td>0</td>\n      <td>33243.19</td>\n      <td>65.74</td>\n      <td>7.95</td>\n      <td>1</td>\n    </tr>\n    <tr>\n      <th>1</th>\n      <td>2</td>\n      <td>22325</td>\n      <td>79.11</td>\n      <td>841.03</td>\n      <td>180</td>\n      <td>55812500.0</td>\n      <td>51.11</td>\n      <td>1.21</td>\n      <td>61900.0</td>\n      <td>0.02</td>\n      <td>...</td>\n      <td>5750.00</td>\n      <td>11500.00</td>\n      <td>9593.48</td>\n      <td>1648.80</td>\n      <td>0.60</td>\n      <td>0</td>\n      <td>51572.04</td>\n      <td>65.73</td>\n      <td>6.26</td>\n      <td>0</td>\n    </tr>\n    <tr>\n      <th>2</th>\n      <td>3</td>\n      <td>115</td>\n      <td>1449.85</td>\n      <td>608.43</td>\n      <td>88</td>\n      <td>287500.0</td>\n      <td>40.42</td>\n      <td>7.34</td>\n      <td>3340.0</td>\n      <td>0.18</td>\n      <td>...</td>\n      <td>1400.00</td>\n      <td>250.00</td>\n      <td>150.00</td>\n      <td>45.13</td>\n      <td>9.33</td>\n      <td>1</td>\n      <td>31692.84</td>\n      <td>65.81</td>\n      <td>7.84</td>\n      <td>1</td>\n    </tr>\n    <tr>\n      <th>3</th>\n      <td>4</td>\n      <td>1201</td>\n      <td>1562.53</td>\n      <td>295.65</td>\n      <td>66</td>\n      <td>3002500.0</td>\n      <td>42.40</td>\n      <td>7.97</td>\n      <td>18030.0</td>\n      <td>0.19</td>\n      <td>...</td>\n      <td>6041.52</td>\n      <td>761.58</td>\n      <td>453.21</td>\n      <td>144.97</td>\n      <td>13.33</td>\n      <td>1</td>\n      <td>37696.21</td>\n      <td>65.67</td>\n      <td>8.07</td>\n      <td>1</td>\n    </tr>\n    <tr>\n      <th>4</th>\n      <td>5</td>\n      <td>312</td>\n      <td>950.27</td>\n      <td>440.86</td>\n      <td>37</td>\n      <td>780000.0</td>\n      <td>41.43</td>\n      <td>7.03</td>\n      <td>3350.0</td>\n      <td>0.17</td>\n      <td>...</td>\n      <td>1320.04</td>\n      <td>710.63</td>\n      <td>512.54</td>\n      <td>109.16</td>\n      <td>2.58</td>\n      <td>0</td>\n      <td>29038.17</td>\n      <td>65.66</td>\n      <td>7.35</td>\n      <td>0</td>\n    </tr>\n    <tr>\n      <th>5</th>\n      <td>6</td>\n      <td>54</td>\n      <td>1438.13</td>\n      <td>544.91</td>\n      <td>82</td>\n      <td>135000.0</td>\n      <td>44.67</td>\n      <td>6.92</td>\n      <td>1570.0</td>\n      <td>0.15</td>\n      <td>...</td>\n      <td>608.28</td>\n      <td>200.00</td>\n      <td>150.00</td>\n      <td>52.22</td>\n      <td>4.06</td>\n      <td>0</td>\n      <td>30967.25</td>\n      <td>65.77</td>\n      <td>7.85</td>\n      <td>1</td>\n    </tr>\n    <tr>\n      <th>6</th>\n      <td>7</td>\n      <td>116</td>\n      <td>1446.29</td>\n      <td>580.94</td>\n      <td>97</td>\n      <td>290000.0</td>\n      <td>41.53</td>\n      <td>6.24</td>\n      <td>3660.0</td>\n      <td>0.15</td>\n      <td>...</td>\n      <td>1060.66</td>\n      <td>403.11</td>\n      <td>164.58</td>\n      <td>114.82</td>\n      <td>6.44</td>\n      <td>0</td>\n      <td>31258.37</td>\n      <td>65.79</td>\n      <td>7.85</td>\n      <td>1</td>\n    </tr>\n    <tr>\n      <th>7</th>\n      <td>8</td>\n      <td>57</td>\n      <td>28.68</td>\n      <td>715.39</td>\n      <td>141</td>\n      <td>142500.0</td>\n      <td>51.67</td>\n      <td>0.83</td>\n      <td>1810.0</td>\n      <td>0.02</td>\n      <td>...</td>\n      <td>500.00</td>\n      <td>360.56</td>\n      <td>165.71</td>\n      <td>132.47</td>\n      <td>3.02</td>\n      <td>0</td>\n      <td>51985.06</td>\n      <td>65.67</td>\n      <td>6.25</td>\n      <td>0</td>\n    </tr>\n    <tr>\n      <th>8</th>\n      <td>9</td>\n      <td>188</td>\n      <td>964.23</td>\n      <td>456.23</td>\n      <td>22</td>\n      <td>470000.0</td>\n      <td>38.90</td>\n      <td>5.89</td>\n      <td>3720.0</td>\n      <td>0.15</td>\n      <td>...</td>\n      <td>1569.24</td>\n      <td>492.44</td>\n      <td>256.77</td>\n      <td>124.72</td>\n      <td>6.11</td>\n      <td>0</td>\n      <td>28871.82</td>\n      <td>65.67</td>\n      <td>7.36</td>\n      <td>1</td>\n    </tr>\n    <tr>\n      <th>9</th>\n      <td>10</td>\n      <td>64</td>\n      <td>903.02</td>\n      <td>274.88</td>\n      <td>33</td>\n      <td>160000.0</td>\n      <td>41.22</td>\n      <td>7.90</td>\n      <td>1850.0</td>\n      <td>0.19</td>\n      <td>...</td>\n      <td>471.70</td>\n      <td>223.61</td>\n      <td>182.83</td>\n      <td>50.12</td>\n      <td>2.58</td>\n      <td>0</td>\n      <td>32053.95</td>\n      <td>65.58</td>\n      <td>7.35</td>\n      <td>1</td>\n    </tr>\n  </tbody>\n</table>\n<p>10 rows × 50 columns</p>\n</div>"
     },
     "metadata": {},
     "output_type": "execute_result",
     "execution_count": 2
    }
   ],
   "source": [
    "df_csv.head(10)"
   ]
  },
  {
   "cell_type": "code",
   "execution_count": 2,
   "metadata": {
    "pycharm": {
     "is_executing": false
    }
   },
   "outputs": [],
   "source": []
  },
  {
   "cell_type": "code",
   "execution_count": 3,
   "metadata": {
    "pycharm": {
     "is_executing": false
    }
   },
   "outputs": [],
   "source": [
    "import numpy as np\n",
    "count_unique = df_csv.nunique()"
   ]
  },
  {
   "cell_type": "markdown",
   "metadata": {},
   "source": [
    "## Count the number of unique values\n",
    "* delete those column with low number of the unique values"
   ]
  },
  {
   "cell_type": "code",
   "execution_count": 4,
   "metadata": {
    "pycharm": {
     "is_executing": false
    }
   },
   "outputs": [
    {
     "data": {
      "text/plain": "[22, 45, 49]"
     },
     "metadata": {},
     "output_type": "execute_result",
     "execution_count": 4
    }
   ],
   "source": [
    "drop_list = [ i for i, v in enumerate(count_unique) if v<=2]\n",
    "drop_list"
   ]
  },
  {
   "cell_type": "code",
   "execution_count": 5,
   "metadata": {
    "pycharm": {
     "is_executing": false
    }
   },
   "outputs": [
    {
     "data": {
      "text/plain": "      0      1        2       3    4           5      6      7        8   \\\n0      1   2558  1506.09  456.63   90   6395000.0  40.88   7.89  29780.0   \n1      2  22325    79.11  841.03  180  55812500.0  51.11   1.21  61900.0   \n2      3    115  1449.85  608.43   88    287500.0  40.42   7.34   3340.0   \n3      4   1201  1562.53  295.65   66   3002500.0  42.40   7.97  18030.0   \n4      5    312   950.27  440.86   37    780000.0  41.43   7.03   3350.0   \n..   ...    ...      ...     ...  ...         ...    ...    ...      ...   \n932  200     12    92.42  364.42  135     97200.0  59.42  10.34    884.0   \n933  201     11    98.82  248.64  159     89100.0  59.64  10.18    831.0   \n934  202     14    25.14  428.86   24    113400.0  60.14  17.94    847.0   \n935  203     10    96.00  451.30   68     81000.0  59.90  15.01    831.0   \n936  204     11     7.73  235.73  135     89100.0  61.82  12.24    831.0   \n\n       9   ...  38  39       40        41       42       43     44        46  \\\n0    0.19  ...  89  69  2850.00   1000.00   763.16   135.46   3.73  33243.19   \n1    0.02  ...  89  69  5750.00  11500.00  9593.48  1648.80   0.60  51572.04   \n2    0.18  ...  89  69  1400.00    250.00   150.00    45.13   9.33  31692.84   \n3    0.19  ...  89  69  6041.52    761.58   453.21   144.97  13.33  37696.21   \n4    0.17  ...  89  69  1320.04    710.63   512.54   109.16   2.58  29038.17   \n..    ...  ...  ..  ..      ...       ...      ...      ...    ...       ...   \n932  0.17  ...  82  50   381.84    254.56    84.85   146.97   4.50   2593.50   \n933  0.17  ...  82  50   284.60    180.00   150.00    51.96   1.90   4361.25   \n934  0.30  ...  82  50   402.49    180.00   180.00     0.00   2.24   2153.05   \n935  0.25  ...  82  50   402.49    180.00    90.00    73.48   4.47   2421.43   \n936  0.20  ...  82  50   254.56    254.56   127.28   180.00   2.00   3782.68   \n\n        47    48  \n0    65.74  7.95  \n1    65.73  6.26  \n2    65.81  7.84  \n3    65.67  8.07  \n4    65.66  7.35  \n..     ...   ...  \n932  65.85  6.39  \n933  65.70  6.53  \n934  65.91  6.12  \n935  65.97  6.32  \n936  65.65  6.26  \n\n[937 rows x 47 columns]",
      "text/html": "<div>\n<style scoped>\n    .dataframe tbody tr th:only-of-type {\n        vertical-align: middle;\n    }\n\n    .dataframe tbody tr th {\n        vertical-align: top;\n    }\n\n    .dataframe thead th {\n        text-align: right;\n    }\n</style>\n<table border=\"1\" class=\"dataframe\">\n  <thead>\n    <tr style=\"text-align: right;\">\n      <th></th>\n      <th>0</th>\n      <th>1</th>\n      <th>2</th>\n      <th>3</th>\n      <th>4</th>\n      <th>5</th>\n      <th>6</th>\n      <th>7</th>\n      <th>8</th>\n      <th>9</th>\n      <th>...</th>\n      <th>38</th>\n      <th>39</th>\n      <th>40</th>\n      <th>41</th>\n      <th>42</th>\n      <th>43</th>\n      <th>44</th>\n      <th>46</th>\n      <th>47</th>\n      <th>48</th>\n    </tr>\n  </thead>\n  <tbody>\n    <tr>\n      <th>0</th>\n      <td>1</td>\n      <td>2558</td>\n      <td>1506.09</td>\n      <td>456.63</td>\n      <td>90</td>\n      <td>6395000.0</td>\n      <td>40.88</td>\n      <td>7.89</td>\n      <td>29780.0</td>\n      <td>0.19</td>\n      <td>...</td>\n      <td>89</td>\n      <td>69</td>\n      <td>2850.00</td>\n      <td>1000.00</td>\n      <td>763.16</td>\n      <td>135.46</td>\n      <td>3.73</td>\n      <td>33243.19</td>\n      <td>65.74</td>\n      <td>7.95</td>\n    </tr>\n    <tr>\n      <th>1</th>\n      <td>2</td>\n      <td>22325</td>\n      <td>79.11</td>\n      <td>841.03</td>\n      <td>180</td>\n      <td>55812500.0</td>\n      <td>51.11</td>\n      <td>1.21</td>\n      <td>61900.0</td>\n      <td>0.02</td>\n      <td>...</td>\n      <td>89</td>\n      <td>69</td>\n      <td>5750.00</td>\n      <td>11500.00</td>\n      <td>9593.48</td>\n      <td>1648.80</td>\n      <td>0.60</td>\n      <td>51572.04</td>\n      <td>65.73</td>\n      <td>6.26</td>\n    </tr>\n    <tr>\n      <th>2</th>\n      <td>3</td>\n      <td>115</td>\n      <td>1449.85</td>\n      <td>608.43</td>\n      <td>88</td>\n      <td>287500.0</td>\n      <td>40.42</td>\n      <td>7.34</td>\n      <td>3340.0</td>\n      <td>0.18</td>\n      <td>...</td>\n      <td>89</td>\n      <td>69</td>\n      <td>1400.00</td>\n      <td>250.00</td>\n      <td>150.00</td>\n      <td>45.13</td>\n      <td>9.33</td>\n      <td>31692.84</td>\n      <td>65.81</td>\n      <td>7.84</td>\n    </tr>\n    <tr>\n      <th>3</th>\n      <td>4</td>\n      <td>1201</td>\n      <td>1562.53</td>\n      <td>295.65</td>\n      <td>66</td>\n      <td>3002500.0</td>\n      <td>42.40</td>\n      <td>7.97</td>\n      <td>18030.0</td>\n      <td>0.19</td>\n      <td>...</td>\n      <td>89</td>\n      <td>69</td>\n      <td>6041.52</td>\n      <td>761.58</td>\n      <td>453.21</td>\n      <td>144.97</td>\n      <td>13.33</td>\n      <td>37696.21</td>\n      <td>65.67</td>\n      <td>8.07</td>\n    </tr>\n    <tr>\n      <th>4</th>\n      <td>5</td>\n      <td>312</td>\n      <td>950.27</td>\n      <td>440.86</td>\n      <td>37</td>\n      <td>780000.0</td>\n      <td>41.43</td>\n      <td>7.03</td>\n      <td>3350.0</td>\n      <td>0.17</td>\n      <td>...</td>\n      <td>89</td>\n      <td>69</td>\n      <td>1320.04</td>\n      <td>710.63</td>\n      <td>512.54</td>\n      <td>109.16</td>\n      <td>2.58</td>\n      <td>29038.17</td>\n      <td>65.66</td>\n      <td>7.35</td>\n    </tr>\n    <tr>\n      <th>...</th>\n      <td>...</td>\n      <td>...</td>\n      <td>...</td>\n      <td>...</td>\n      <td>...</td>\n      <td>...</td>\n      <td>...</td>\n      <td>...</td>\n      <td>...</td>\n      <td>...</td>\n      <td>...</td>\n      <td>...</td>\n      <td>...</td>\n      <td>...</td>\n      <td>...</td>\n      <td>...</td>\n      <td>...</td>\n      <td>...</td>\n      <td>...</td>\n      <td>...</td>\n      <td>...</td>\n    </tr>\n    <tr>\n      <th>932</th>\n      <td>200</td>\n      <td>12</td>\n      <td>92.42</td>\n      <td>364.42</td>\n      <td>135</td>\n      <td>97200.0</td>\n      <td>59.42</td>\n      <td>10.34</td>\n      <td>884.0</td>\n      <td>0.17</td>\n      <td>...</td>\n      <td>82</td>\n      <td>50</td>\n      <td>381.84</td>\n      <td>254.56</td>\n      <td>84.85</td>\n      <td>146.97</td>\n      <td>4.50</td>\n      <td>2593.50</td>\n      <td>65.85</td>\n      <td>6.39</td>\n    </tr>\n    <tr>\n      <th>933</th>\n      <td>201</td>\n      <td>11</td>\n      <td>98.82</td>\n      <td>248.64</td>\n      <td>159</td>\n      <td>89100.0</td>\n      <td>59.64</td>\n      <td>10.18</td>\n      <td>831.0</td>\n      <td>0.17</td>\n      <td>...</td>\n      <td>82</td>\n      <td>50</td>\n      <td>284.60</td>\n      <td>180.00</td>\n      <td>150.00</td>\n      <td>51.96</td>\n      <td>1.90</td>\n      <td>4361.25</td>\n      <td>65.70</td>\n      <td>6.53</td>\n    </tr>\n    <tr>\n      <th>934</th>\n      <td>202</td>\n      <td>14</td>\n      <td>25.14</td>\n      <td>428.86</td>\n      <td>24</td>\n      <td>113400.0</td>\n      <td>60.14</td>\n      <td>17.94</td>\n      <td>847.0</td>\n      <td>0.30</td>\n      <td>...</td>\n      <td>82</td>\n      <td>50</td>\n      <td>402.49</td>\n      <td>180.00</td>\n      <td>180.00</td>\n      <td>0.00</td>\n      <td>2.24</td>\n      <td>2153.05</td>\n      <td>65.91</td>\n      <td>6.12</td>\n    </tr>\n    <tr>\n      <th>935</th>\n      <td>203</td>\n      <td>10</td>\n      <td>96.00</td>\n      <td>451.30</td>\n      <td>68</td>\n      <td>81000.0</td>\n      <td>59.90</td>\n      <td>15.01</td>\n      <td>831.0</td>\n      <td>0.25</td>\n      <td>...</td>\n      <td>82</td>\n      <td>50</td>\n      <td>402.49</td>\n      <td>180.00</td>\n      <td>90.00</td>\n      <td>73.48</td>\n      <td>4.47</td>\n      <td>2421.43</td>\n      <td>65.97</td>\n      <td>6.32</td>\n    </tr>\n    <tr>\n      <th>936</th>\n      <td>204</td>\n      <td>11</td>\n      <td>7.73</td>\n      <td>235.73</td>\n      <td>135</td>\n      <td>89100.0</td>\n      <td>61.82</td>\n      <td>12.24</td>\n      <td>831.0</td>\n      <td>0.20</td>\n      <td>...</td>\n      <td>82</td>\n      <td>50</td>\n      <td>254.56</td>\n      <td>254.56</td>\n      <td>127.28</td>\n      <td>180.00</td>\n      <td>2.00</td>\n      <td>3782.68</td>\n      <td>65.65</td>\n      <td>6.26</td>\n    </tr>\n  </tbody>\n</table>\n<p>937 rows × 47 columns</p>\n</div>"
     },
     "metadata": {},
     "output_type": "execute_result",
     "execution_count": 5
    }
   ],
   "source": [
    "df_csv.drop(drop_list, axis=1)"
   ]
  },
  {
   "cell_type": "markdown",
   "metadata": {},
   "source": [
    "## Count the percentage of unique values out of all rows and "
   ]
  },
  {
   "cell_type": "code",
   "execution_count": 6,
   "metadata": {
    "pycharm": {
     "is_executing": false
    }
   },
   "outputs": [
    {
     "data": {
      "text/plain": "[(0, 25.400213447171826),\n (1, 31.696905016008536),\n (2, 98.93276414087512),\n (3, 99.57310565635005),\n (4, 19.103521878335112),\n (5, 40.0213447171825),\n (6, 87.51334044823906),\n (7, 65.95517609391676),\n (8, 59.87193169690501),\n (9, 6.08324439701174),\n (10, 61.5795090715048),\n (11, 6.296691568836713),\n (12, 7.790821771611527),\n (13, 11.419423692636073),\n (14, 5.656350053361793),\n (15, 9.711846318036287),\n (16, 95.30416221985058),\n (17, 86.44610458911419),\n (18, 18.14300960512273),\n (19, 5.656350053361793),\n (20, 7.257203842049092),\n (21, 0.96051227321238),\n (22, 0.10672358591248667),\n (23, 9.818569903948772),\n (24, 0.96051227321238),\n (25, 0.8537886872998933),\n (26, 0.96051227321238),\n (27, 32.87086446104589),\n (28, 47.705442902881536),\n (29, 41.83564567769477),\n (30, 11.419423692636073),\n (31, 4.482390608324439),\n (32, 0.42689434364994666),\n (33, 4.8025613660619),\n (34, 15.048025613660618),\n (35, 11.739594450373533),\n (36, 0.32017075773745995),\n (37, 80.89647812166488),\n (38, 0.96051227321238),\n (39, 0.96051227321238),\n (40, 41.40875133404482),\n (41, 23.479188900747065),\n (42, 68.7299893276414),\n (43, 69.26360725720384),\n (44, 53.255069370330844),\n (45, 0.21344717182497333),\n (46, 100.0),\n (47, 18.036286019210245),\n (48, 30.52294557097118),\n (49, 0.21344717182497333)]"
     },
     "metadata": {},
     "output_type": "execute_result",
     "execution_count": 6
    }
   ],
   "source": [
    "[(i,v) for i,v in enumerate(count_unique/df_csv.shape[0]*100) ]"
   ]
  }
 ],
 "metadata": {
  "kernelspec": {
   "display_name": "PyCharm (aiacademy-learning-notebook)",
   "language": "python",
   "name": "pycharm-cee29e2d"
  },
  "language_info": {
   "codemirror_mode": {
    "name": "ipython",
    "version": 3
   },
   "file_extension": ".py",
   "mimetype": "text/x-python",
   "name": "python",
   "nbconvert_exporter": "python",
   "pygments_lexer": "ipython3",
   "version": "3.7.6"
  },
  "pycharm": {
   "stem_cell": {
    "cell_type": "raw",
    "metadata": {
     "collapsed": false
    },
    "source": []
   }
  }
 },
 "nbformat": 4,
 "nbformat_minor": 2
}