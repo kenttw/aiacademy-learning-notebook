{
 "cells": [
  {
   "cell_type": "markdown",
   "metadata": {},
   "source": [
    "# 這個 Notebook 是探討 Cosine Similarity 與 Euclidean Disntance 之間的差異\n",
    "* [範例程式碼是參考這裡](https://cmry.github.io/notes/euclidean-v-cosine)"
   ]
  },
  {
   "cell_type": "code",
   "execution_count": 1,
   "metadata": {},
   "outputs": [],
   "source": [
    "import numpy as np\n",
    "\n",
    "X = np.array([[6.6, 6.2, 1],\n",
    "              [9.7, 9.9, 2],\n",
    "              [8.0, 8.3, 2],\n",
    "              [6.3, 5.4, 1],\n",
    "              [1.3, 2.7, 0],\n",
    "              [2.3, 3.1, 0],\n",
    "              [6.6, 6.0, 1],\n",
    "              [6.5, 6.4, 1],\n",
    "              [6.3, 5.8, 1],\n",
    "              [9.5, 9.9, 2],\n",
    "              [8.9, 8.9, 2],\n",
    "              [8.7, 9.5, 2],\n",
    "              [2.5, 3.8, 0],\n",
    "              [2.0, 3.1, 0],\n",
    "              [1.3, 1.3, 0]])\n"
   ]
  },
  {
   "cell_type": "code",
   "execution_count": 2,
   "metadata": {},
   "outputs": [
    {
     "data": {
      "text/html": [
       "<div>\n",
       "<style scoped>\n",
       "    .dataframe tbody tr th:only-of-type {\n",
       "        vertical-align: middle;\n",
       "    }\n",
       "\n",
       "    .dataframe tbody tr th {\n",
       "        vertical-align: top;\n",
       "    }\n",
       "\n",
       "    .dataframe thead th {\n",
       "        text-align: right;\n",
       "    }\n",
       "</style>\n",
       "<table border=\"1\" class=\"dataframe\">\n",
       "  <thead>\n",
       "    <tr style=\"text-align: right;\">\n",
       "      <th></th>\n",
       "      <th>weight</th>\n",
       "      <th>length</th>\n",
       "      <th>label</th>\n",
       "    </tr>\n",
       "  </thead>\n",
       "  <tbody>\n",
       "    <tr>\n",
       "      <th>0</th>\n",
       "      <td>6.6</td>\n",
       "      <td>6.2</td>\n",
       "      <td>1.0</td>\n",
       "    </tr>\n",
       "    <tr>\n",
       "      <th>1</th>\n",
       "      <td>9.7</td>\n",
       "      <td>9.9</td>\n",
       "      <td>2.0</td>\n",
       "    </tr>\n",
       "    <tr>\n",
       "      <th>2</th>\n",
       "      <td>8.0</td>\n",
       "      <td>8.3</td>\n",
       "      <td>2.0</td>\n",
       "    </tr>\n",
       "    <tr>\n",
       "      <th>3</th>\n",
       "      <td>6.3</td>\n",
       "      <td>5.4</td>\n",
       "      <td>1.0</td>\n",
       "    </tr>\n",
       "    <tr>\n",
       "      <th>4</th>\n",
       "      <td>1.3</td>\n",
       "      <td>2.7</td>\n",
       "      <td>0.0</td>\n",
       "    </tr>\n",
       "    <tr>\n",
       "      <th>5</th>\n",
       "      <td>2.3</td>\n",
       "      <td>3.1</td>\n",
       "      <td>0.0</td>\n",
       "    </tr>\n",
       "    <tr>\n",
       "      <th>6</th>\n",
       "      <td>6.6</td>\n",
       "      <td>6.0</td>\n",
       "      <td>1.0</td>\n",
       "    </tr>\n",
       "    <tr>\n",
       "      <th>7</th>\n",
       "      <td>6.5</td>\n",
       "      <td>6.4</td>\n",
       "      <td>1.0</td>\n",
       "    </tr>\n",
       "    <tr>\n",
       "      <th>8</th>\n",
       "      <td>6.3</td>\n",
       "      <td>5.8</td>\n",
       "      <td>1.0</td>\n",
       "    </tr>\n",
       "    <tr>\n",
       "      <th>9</th>\n",
       "      <td>9.5</td>\n",
       "      <td>9.9</td>\n",
       "      <td>2.0</td>\n",
       "    </tr>\n",
       "    <tr>\n",
       "      <th>10</th>\n",
       "      <td>8.9</td>\n",
       "      <td>8.9</td>\n",
       "      <td>2.0</td>\n",
       "    </tr>\n",
       "    <tr>\n",
       "      <th>11</th>\n",
       "      <td>8.7</td>\n",
       "      <td>9.5</td>\n",
       "      <td>2.0</td>\n",
       "    </tr>\n",
       "    <tr>\n",
       "      <th>12</th>\n",
       "      <td>2.5</td>\n",
       "      <td>3.8</td>\n",
       "      <td>0.0</td>\n",
       "    </tr>\n",
       "    <tr>\n",
       "      <th>13</th>\n",
       "      <td>2.0</td>\n",
       "      <td>3.1</td>\n",
       "      <td>0.0</td>\n",
       "    </tr>\n",
       "    <tr>\n",
       "      <th>14</th>\n",
       "      <td>1.3</td>\n",
       "      <td>1.3</td>\n",
       "      <td>0.0</td>\n",
       "    </tr>\n",
       "  </tbody>\n",
       "</table>\n",
       "</div>"
      ],
      "text/plain": [
       "    weight  length  label\n",
       "0      6.6     6.2    1.0\n",
       "1      9.7     9.9    2.0\n",
       "2      8.0     8.3    2.0\n",
       "3      6.3     5.4    1.0\n",
       "4      1.3     2.7    0.0\n",
       "5      2.3     3.1    0.0\n",
       "6      6.6     6.0    1.0\n",
       "7      6.5     6.4    1.0\n",
       "8      6.3     5.8    1.0\n",
       "9      9.5     9.9    2.0\n",
       "10     8.9     8.9    2.0\n",
       "11     8.7     9.5    2.0\n",
       "12     2.5     3.8    0.0\n",
       "13     2.0     3.1    0.0\n",
       "14     1.3     1.3    0.0"
      ]
     },
     "execution_count": 2,
     "metadata": {},
     "output_type": "execute_result"
    }
   ],
   "source": [
    "import pandas as pd\n",
    "\n",
    "df = pd.DataFrame(X, columns=['weight', 'length', 'label'])\n",
    "df"
   ]
  },
  {
   "cell_type": "code",
   "execution_count": 3,
   "metadata": {},
   "outputs": [
    {
     "data": {
      "text/plain": [
       "<matplotlib.axes._subplots.AxesSubplot at 0x10df3ba58>"
      ]
     },
     "execution_count": 3,
     "metadata": {},
     "output_type": "execute_result"
    },
    {
     "data": {
      "image/png": "[encoded data removed]",
      "text/plain": [
       "<matplotlib.figure.Figure at 0x10df3b438>"
      ]
     },
     "metadata": {
      "image/png": {
       "height": 260,
       "width": 379
      }
     },
     "output_type": "display_data"
    }
   ],
   "source": [
    "ax = df[df['label'] == 0].plot.scatter(x='weight', y='length', c='blue', label='young')\n",
    "ax = df[df['label'] == 1].plot.scatter(x='weight', y='length', c='orange', label='mid', ax=ax)\n",
    "ax = df[df['label'] == 2].plot.scatter(x='weight', y='length', c='red', label='adult', ax=ax)\n",
    "ax"
   ]
  },
  {
   "cell_type": "code",
   "execution_count": 4,
   "metadata": {},
   "outputs": [
    {
     "data": {
      "text/plain": [
       "<matplotlib.axes._subplots.AxesSubplot at 0x10e0036a0>"
      ]
     },
     "execution_count": 4,
     "metadata": {},
     "output_type": "execute_result"
    },
    {
     "data": {
      "image/png": "[encoded data removed]",
      "text/plain": [
       "<matplotlib.figure.Figure at 0x10df3b5f8>"
      ]
     },
     "metadata": {
      "image/png": {
       "height": 260,
       "width": 379
      }
     },
     "output_type": "display_data"
    }
   ],
   "source": [
    "df2 = pd.DataFrame([df.iloc[0], df.iloc[1], df.iloc[4]], columns=['weight', 'length', 'label'])\n",
    "df3 = pd.DataFrame([df.iloc[14]], columns=['weight', 'length', 'label'])\n",
    "\n",
    "ax = df2[df2['label'] == 0].plot.scatter(x='weight', y='length', c='blue', label='young')\n",
    "ax = df2[df2['label'] == 1].plot.scatter(x='weight', y='length', c='orange', label='mid', ax=ax)\n",
    "ax = df2[df2['label'] == 2].plot.scatter(x='weight', y='length', c='red', label='adult', ax=ax)\n",
    "ax = df3.plot.scatter(x='weight', y='length', c='gray', label='?', ax=ax)\n",
    "ax"
   ]
  },
  {
   "cell_type": "markdown",
   "metadata": {},
   "source": [
    "# 歐氏距離(差平方和後開根號)\n",
    "# $ \\sqrt{\\sum^n_{i=1} {(x_i-y_i)^2}} $"
   ]
  },
  {
   "cell_type": "code",
   "execution_count": 5,
   "metadata": {},
   "outputs": [],
   "source": [
    "def euclidean_distance(x, y):   \n",
    "    return np.sqrt(np.sum((x - y) ** 2))"
   ]
  },
  {
   "cell_type": "code",
   "execution_count": 6,
   "metadata": {},
   "outputs": [
    {
     "name": "stdout",
     "output_type": "stream",
     "text": [
      " x0: [ 6.6  6.2] \n",
      " x1: [ 9.7  9.9] \n",
      " x4: [ 1.3  2.7] \n",
      "x14: [ 1.3  1.3]\n"
     ]
    }
   ],
   "source": [
    "x0 = X[0][:-1]\n",
    "x1 = X[1][:-1]\n",
    "x4 = X[4][:-1]\n",
    "x14 = X[14][:-1]\n",
    "print(\" x0:\", x0, \"\\n x1:\", x1, \"\\n x4:\", x4, \"\\nx14:\", x14)"
   ]
  },
  {
   "cell_type": "code",
   "execution_count": 7,
   "metadata": {},
   "outputs": [
    {
     "name": "stdout",
     "output_type": "stream",
     "text": [
      " x14 and x0: 7.21803297305 \n",
      " x14 and x1: 12.0216471417 \n",
      " x14 and x4: 1.4\n"
     ]
    }
   ],
   "source": [
    "print(\" x14 and x0:\", euclidean_distance(x14, x0), \"\\n\",\n",
    "      \"x14 and x1:\", euclidean_distance(x14, x1), \"\\n\",\n",
    "      \"x14 and x4:\", euclidean_distance(x14, x4))"
   ]
  },
  {
   "cell_type": "markdown",
   "metadata": {},
   "source": [
    "# Cosine Similarity\n",
    "# $\\frac{x \\bullet y}{ \\sqrt{x \\bullet x} \\sqrt{y \\bullet y}}$"
   ]
  },
  {
   "cell_type": "code",
   "execution_count": 8,
   "metadata": {},
   "outputs": [],
   "source": [
    "def cosine_similarity(x, y):\n",
    "    return np.dot(x, y) / (np.sqrt(np.dot(x, x)) * np.sqrt(np.dot(y, y)))"
   ]
  },
  {
   "cell_type": "code",
   "execution_count": 9,
   "metadata": {},
   "outputs": [
    {
     "name": "stdout",
     "output_type": "stream",
     "text": [
      " x14 and x0: 0.999512076087 \n",
      " x14 and x1: 0.999947942424 \n",
      " x14 and x4: 0.943858356366\n"
     ]
    }
   ],
   "source": [
    "print(\" x14 and x0:\", cosine_similarity(x14, x0), \"\\n\",\n",
    "      \"x14 and x1:\", cosine_similarity(x14, x1), \"\\n\",\n",
    "      \"x14 and x4:\", cosine_similarity(x14, x4))"
   ]
  },
  {
   "cell_type": "markdown",
   "metadata": {},
   "source": [
    "![Imgur](https://i.imgur.com/wHe5by0.png)"
   ]
  },
  {
   "cell_type": "code",
   "execution_count": null,
   "metadata": {},
   "outputs": [],
   "source": []
  },
  {
   "cell_type": "markdown",
   "metadata": {},
   "source": [
    "# L1 & L2 Normalization : L2 就是除以平方和啦!!\n",
    "\n",
    "* L1 : $\\sum_i{x_i}$\n",
    "* L2 : $\\sum^n_{i=1}{{x_i}^2}$"
   ]
  },
  {
   "cell_type": "code",
   "execution_count": 10,
   "metadata": {},
   "outputs": [],
   "source": [
    "?plt.scatter"
   ]
  },
  {
   "cell_type": "code",
   "execution_count": 11,
   "metadata": {},
   "outputs": [],
   "source": [
    "def l1_normalize(v):\n",
    "    norm = np.sum(v)\n",
    "    return v / norm\n",
    "\n",
    "def l2_normalize(v):\n",
    "    norm = np.sqrt(np.sum(np.square(v)))\n",
    "    return v / norm"
   ]
  },
  {
   "cell_type": "code",
   "execution_count": 12,
   "metadata": {},
   "outputs": [
    {
     "name": "stdout",
     "output_type": "stream",
     "text": [
      "[ 0.515625  0.484375] [ 0.49489796  0.50510204]\n"
     ]
    }
   ],
   "source": [
    "x0_n = l1_normalize(x0)\n",
    "x1_n = l1_normalize(x1)\n",
    "print(x0_n, x1_n)"
   ]
  },
  {
   "cell_type": "markdown",
   "metadata": {},
   "source": [
    "# 下面這兩張圖可以看的出來\n",
    "* 經過 L1 Normalization後，兩個點之間距離靠近了。\n",
    "* L1 的效果與 L2 的效果在這組資料上"
   ]
  },
  {
   "cell_type": "code",
   "execution_count": 27,
   "metadata": {},
   "outputs": [
    {
     "data": {
      "text/plain": [
       "(0, 10)"
      ]
     },
     "execution_count": 27,
     "metadata": {},
     "output_type": "execute_result"
    },
    {
     "data": {
      "image/png": "[encoded data removed]",
      "text/plain": [
       "<matplotlib.figure.Figure at 0x10efc9390>"
      ]
     },
     "metadata": {
      "image/png": {
       "height": 260,
       "width": 381
      }
     },
     "output_type": "display_data"
    }
   ],
   "source": [
    "f,ax = plt.subplots(1,2)\n",
    "\n",
    "# Before Normalization\n",
    "ax[0].scatter(np.array(list(zip(x0,x1)))[0],np.array(list(zip(x0,x1)))[1])\n",
    "ax[0].set_title('Before Normalization')\n",
    "\n",
    "\n",
    "\n",
    "# After Normalization\n",
    "ax[1].scatter(np.array(list(zip(x0_n,x1_n)))[0],np.array(list(zip(x0_n,x1_n)))[1])\n",
    "ax[1].set_title('After Normalization')\n",
    "\n",
    "\n",
    "\n",
    "## Set axis limits\n",
    "plt.xlim(0, 10)\n",
    "plt.ylim(0, 10)"
   ]
  },
  {
   "cell_type": "code",
   "execution_count": 28,
   "metadata": {},
   "outputs": [
    {
     "name": "stdout",
     "output_type": "stream",
     "text": [
      "[ 0.72884807  0.68467546] [ 0.69985497  0.71428497]\n"
     ]
    },
    {
     "data": {
      "text/plain": [
       "(0, 10)"
      ]
     },
     "execution_count": 28,
     "metadata": {},
     "output_type": "execute_result"
    },
    {
     "data": {
      "image/png": "[encoded data removed]",
      "text/plain": [
       "<matplotlib.figure.Figure at 0x10f18abe0>"
      ]
     },
     "metadata": {
      "image/png": {
       "height": 260,
       "width": 381
      }
     },
     "output_type": "display_data"
    }
   ],
   "source": [
    "x0_n = l2_normalize(x0)\n",
    "x1_n = l2_normalize(x1)\n",
    "print(x0_n, x1_n)\n",
    "f,ax = plt.subplots(1,2)\n",
    "\n",
    "# Before Normalization\n",
    "ax[0].scatter(np.array(list(zip(x0,x1)))[0],np.array(list(zip(x0,x1)))[1])\n",
    "ax[0].set_title('Before Normalization')\n",
    "\n",
    "\n",
    "\n",
    "# After Normalization\n",
    "ax[1].scatter(np.array(list(zip(x0_n,x1_n)))[0],np.array(list(zip(x0_n,x1_n)))[1])\n",
    "ax[1].set_title('After Normalization')\n",
    "\n",
    "\n",
    "\n",
    "## Set axis limits\n",
    "plt.xlim(0, 10)\n",
    "plt.ylim(0, 10)"
   ]
  },
  {
   "cell_type": "code",
   "execution_count": 15,
   "metadata": {},
   "outputs": [
    {
     "name": "stdout",
     "output_type": "stream",
     "text": [
      "vectors \t [ 6.6  6.2] [ 9.7  9.9] \n",
      "euclidean \t 4.82700735446 \n",
      "cosine \t\t 0.99914133854\n",
      "\n",
      "n_vectors \t [ 0.515625  0.484375] [ 0.49489796  0.50510204] \n",
      "euclidean \t 0.0293124622303 \n",
      "cosine \t\t 0.99914133854\n"
     ]
    }
   ],
   "source": [
    "print(\"vectors \\t\", x0, x1, \"\\n\"\n",
    "      \"euclidean \\t\", euclidean_distance(x0, x1), \"\\n\"\n",
    "      \"cosine \\t\\t\", cosine_similarity(x0, x1))\n",
    "print('')\n",
    "print(\"n_vectors \\t\", x0_n, x1_n, \"\\n\"\n",
    "      \"euclidean \\t\", euclidean_distance(x0_n, x1_n), \"\\n\"\n",
    "      \"cosine \\t\\t\", cosine_similarity(x0_n, x1_n))"
   ]
  },
  {
   "cell_type": "markdown",
   "metadata": {},
   "source": [
    "# 結論\n",
    "* 如果是看 euclidean distance 的話對於資料數據大小是有比較大的敏感度\n",
    "* cosine similarity 當然是看方向性，以這例子來看的話都是呈現 45 度角左右，"
   ]
  },
  {
   "cell_type": "code",
   "execution_count": null,
   "metadata": {},
   "outputs": [],
   "source": []
  }
 ],
 "metadata": {
  "kernelspec": {
   "display_name": "Python 3",
   "language": "python",
   "name": "python3"
  },
  "language_info": {
   "codemirror_mode": {
    "name": "ipython",
    "version": 3
   },
   "file_extension": ".py",
   "mimetype": "text/x-python",
   "name": "python",
   "nbconvert_exporter": "python",
   "pygments_lexer": "ipython3",
   "version": "3.6.3"
  }
 },
 "nbformat": 4,
 "nbformat_minor": 2
}
