{
 "cells": [
  {
   "cell_type": "markdown",
   "metadata": {},
   "source": [
    "# Linear Regression have two methodolgy to solve this problem\n",
    "* [一些基本知識](https://scikit-learn.org/stable/modules/generated/sklearn.linear_model.Lasso.html)\n",
    "* Normal Equation\n",
    "* Gradient Descent (ToDo)\n"
   ]
  },
  {
   "cell_type": "code",
   "execution_count": 55,
   "metadata": {},
   "outputs": [],
   "source": [
    "from sklearn import metrics\n",
    "import numpy as np\n",
    "import pandas as pd"
   ]
  },
  {
   "cell_type": "code",
   "execution_count": 8,
   "metadata": {},
   "outputs": [],
   "source": [
    "# ?load_boston"
   ]
  },
  {
   "cell_type": "code",
   "execution_count": 6,
   "metadata": {},
   "outputs": [
    {
     "name": "stdout",
     "output_type": "stream",
     "text": [
      "(506, 13)\n",
      "(506,)\n"
     ]
    }
   ],
   "source": [
    "from sklearn.datasets import load_boston\n",
    "X, y = load_boston(return_X_y=True)\n",
    "print(X.shape)\n",
    "print(y.shape)"
   ]
  },
  {
   "cell_type": "markdown",
   "metadata": {},
   "source": [
    "# Normal Equation(do it by native numpy code)\n",
    "<img width=20% src=\"https://i.imgur.com/aZuHRKU.png\" />\n",
    "* the objective is to minimize the below square error\n",
    "<img width=20% src=\"https://i.imgur.com/uuj1z1y.jpg\" />\n",
    "* x 為 training data as m*n matrix , m is the numboer of sample . n is the number of feature size.\n",
    "* user above function could find the best parameter theta, it could minimize the squre error. \n",
    "* so this method is called as \"Least Squares\""
   ]
  },
  {
   "cell_type": "code",
   "execution_count": 84,
   "metadata": {},
   "outputs": [
    {
     "data": {
      "text/plain": [
       "array([-1.08011358e-01,  4.64204584e-02,  2.05586264e-02,  2.68673382e+00,\n",
       "       -1.77666112e+01,  3.80986521e+00,  6.92224640e-04, -1.47556685e+00,\n",
       "        3.06049479e-01, -1.23345939e-02, -9.52747232e-01,  9.31168327e-03,\n",
       "       -5.24758378e-01,  3.64594884e+01])"
      ]
     },
     "execution_count": 84,
     "metadata": {},
     "output_type": "execute_result"
    }
   ],
   "source": [
    "# 沒有加常數項的情況\n",
    "theta = np.linalg.inv((X.T).dot(X)).dot(X.T).dot(y)\n",
    "\n",
    "# 加上常數項\n",
    "X_new = np.append(X,np.ones(X.shape[0]).reshape([-1,1]) ,axis=1)\n",
    "theta_new = np.linalg.inv((X_new.T).dot(X_new)).dot(X_new.T).dot(y)\n",
    "theta_new"
   ]
  },
  {
   "cell_type": "code",
   "execution_count": null,
   "metadata": {},
   "outputs": [],
   "source": []
  },
  {
   "cell_type": "code",
   "execution_count": null,
   "metadata": {},
   "outputs": [],
   "source": []
  },
  {
   "cell_type": "code",
   "execution_count": 27,
   "metadata": {},
   "outputs": [],
   "source": [
    "def linear_regression(input_X):\n",
    "    return input_X.dot(theta)\n",
    "    "
   ]
  },
  {
   "cell_type": "code",
   "execution_count": 48,
   "metadata": {},
   "outputs": [],
   "source": [
    "predict_y = linear_regression(X)"
   ]
  },
  {
   "cell_type": "code",
   "execution_count": 59,
   "metadata": {},
   "outputs": [
    {
     "data": {
      "text/plain": [
       "-2.5276223801742696e-16"
      ]
     },
     "execution_count": 59,
     "metadata": {},
     "output_type": "execute_result"
    }
   ],
   "source": [
    "theta0 = (predict_y-y)\n",
    "theta0.mean()"
   ]
  },
  {
   "cell_type": "code",
   "execution_count": 49,
   "metadata": {},
   "outputs": [
    {
     "data": {
      "text/plain": [
       "24.166099330126492"
      ]
     },
     "execution_count": 49,
     "metadata": {},
     "output_type": "execute_result"
    }
   ],
   "source": [
    "metrics.mean_squared_error(y,predict_y)"
   ]
  },
  {
   "cell_type": "code",
   "execution_count": 50,
   "metadata": {},
   "outputs": [
    {
     "data": {
      "text/plain": [
       "3.2867335789615058"
      ]
     },
     "execution_count": 50,
     "metadata": {},
     "output_type": "execute_result"
    }
   ],
   "source": [
    "metrics.mean_absolute_error(y,predict_y)"
   ]
  },
  {
   "cell_type": "markdown",
   "metadata": {},
   "source": [
    "# Scikit Learn 內建的方法\n",
    "* 請參考 [sklearn](https://github.com/scikit-learn/scikit-learn/blob/95119c13a/sklearn/linear_model/_base.py#L391) 裡面的程式碼\n",
    "* 請參考 [scipy](https://docs.scipy.org/doc/scipy/reference/generated/scipy.optimize.nnls.html)"
   ]
  },
  {
   "cell_type": "code",
   "execution_count": 51,
   "metadata": {},
   "outputs": [],
   "source": [
    "from sklearn.linear_model import LinearRegression\n",
    "\n",
    "reg = LinearRegression().fit(X, y)\n"
   ]
  },
  {
   "cell_type": "code",
   "execution_count": 52,
   "metadata": {},
   "outputs": [],
   "source": [
    "predict_y = reg.predict(X)"
   ]
  },
  {
   "cell_type": "code",
   "execution_count": 53,
   "metadata": {},
   "outputs": [
    {
     "data": {
      "text/plain": [
       "21.894831181729202"
      ]
     },
     "execution_count": 53,
     "metadata": {},
     "output_type": "execute_result"
    }
   ],
   "source": [
    "metrics.mean_squared_error(y,predict_y)"
   ]
  },
  {
   "cell_type": "code",
   "execution_count": 39,
   "metadata": {},
   "outputs": [
    {
     "data": {
      "text/plain": [
       "3.270862810900316"
      ]
     },
     "execution_count": 39,
     "metadata": {},
     "output_type": "execute_result"
    }
   ],
   "source": [
    "metrics.mean_absolute_error(y,predict_y)"
   ]
  },
  {
   "cell_type": "markdown",
   "metadata": {},
   "source": [
    "# Compare Theta"
   ]
  },
  {
   "cell_type": "code",
   "execution_count": 46,
   "metadata": {},
   "outputs": [
    {
     "data": {
      "text/plain": [
       "array([-9.28965170e-02,  4.87149552e-02, -4.05997958e-03,  2.85399882e+00,\n",
       "       -2.86843637e+00,  5.92814778e+00, -7.26933458e-03, -9.68514157e-01,\n",
       "        1.71151128e-01, -9.39621540e-03, -3.92190926e-01,  1.49056102e-02,\n",
       "       -4.16304471e-01])"
      ]
     },
     "execution_count": 46,
     "metadata": {},
     "output_type": "execute_result"
    }
   ],
   "source": [
    "theta"
   ]
  },
  {
   "cell_type": "code",
   "execution_count": 45,
   "metadata": {},
   "outputs": [
    {
     "data": {
      "text/plain": [
       "array([-1.08011358e-01,  4.64204584e-02,  2.05586264e-02,  2.68673382e+00,\n",
       "       -1.77666112e+01,  3.80986521e+00,  6.92224640e-04, -1.47556685e+00,\n",
       "        3.06049479e-01, -1.23345939e-02, -9.52747232e-01,  9.31168327e-03,\n",
       "       -5.24758378e-01])"
      ]
     },
     "execution_count": 45,
     "metadata": {},
     "output_type": "execute_result"
    }
   ],
   "source": [
    "reg.coef_"
   ]
  },
  {
   "cell_type": "code",
   "execution_count": 60,
   "metadata": {},
   "outputs": [
    {
     "data": {
      "text/plain": [
       "36.459488385090125"
      ]
     },
     "execution_count": 60,
     "metadata": {},
     "output_type": "execute_result"
    }
   ],
   "source": [
    "reg.intercept_"
   ]
  },
  {
   "cell_type": "markdown",
   "metadata": {},
   "source": [
    "# 處理 Collinearity 問題\n",
    "* 當 Feature 之間如果有 dependency，在用 normal equation 來求解 theta 可能會太多解。\n"
   ]
  },
  {
   "cell_type": "code",
   "execution_count": 14,
   "metadata": {},
   "outputs": [
    {
     "data": {
      "text/plain": [
       "(506, 13)"
      ]
     },
     "execution_count": 14,
     "metadata": {},
     "output_type": "execute_result"
    }
   ],
   "source": [
    "df_X.shape"
   ]
  },
  {
   "cell_type": "code",
   "execution_count": 12,
   "metadata": {},
   "outputs": [],
   "source": [
    "df_X = pd.DataFrame(X)\n",
    "corr = df_X.corr()"
   ]
  },
  {
   "cell_type": "code",
   "execution_count": 15,
   "metadata": {},
   "outputs": [
    {
     "data": {
      "text/html": [
       "<style  type=\"text/css\" >\n",
       "#T_07783ff6_8cee_11eb_a8bb_87199bf28312row0_col0,#T_07783ff6_8cee_11eb_a8bb_87199bf28312row1_col1,#T_07783ff6_8cee_11eb_a8bb_87199bf28312row2_col2,#T_07783ff6_8cee_11eb_a8bb_87199bf28312row3_col3,#T_07783ff6_8cee_11eb_a8bb_87199bf28312row4_col4,#T_07783ff6_8cee_11eb_a8bb_87199bf28312row5_col5,#T_07783ff6_8cee_11eb_a8bb_87199bf28312row6_col6,#T_07783ff6_8cee_11eb_a8bb_87199bf28312row7_col7,#T_07783ff6_8cee_11eb_a8bb_87199bf28312row8_col8,#T_07783ff6_8cee_11eb_a8bb_87199bf28312row9_col9,#T_07783ff6_8cee_11eb_a8bb_87199bf28312row10_col10,#T_07783ff6_8cee_11eb_a8bb_87199bf28312row11_col11,#T_07783ff6_8cee_11eb_a8bb_87199bf28312row12_col12{\n",
       "            background-color:  #b40426;\n",
       "            color:  #f1f1f1;\n",
       "        }#T_07783ff6_8cee_11eb_a8bb_87199bf28312row0_col1,#T_07783ff6_8cee_11eb_a8bb_87199bf28312row3_col0{\n",
       "            background-color:  #88abfd;\n",
       "            color:  #000000;\n",
       "        }#T_07783ff6_8cee_11eb_a8bb_87199bf28312row0_col2{\n",
       "            background-color:  #f7bca1;\n",
       "            color:  #000000;\n",
       "        }#T_07783ff6_8cee_11eb_a8bb_87199bf28312row0_col3{\n",
       "            background-color:  #4b64d5;\n",
       "            color:  #f1f1f1;\n",
       "        }#T_07783ff6_8cee_11eb_a8bb_87199bf28312row0_col4{\n",
       "            background-color:  #f7b599;\n",
       "            color:  #000000;\n",
       "        }#T_07783ff6_8cee_11eb_a8bb_87199bf28312row0_col5{\n",
       "            background-color:  #8badfd;\n",
       "            color:  #000000;\n",
       "        }#T_07783ff6_8cee_11eb_a8bb_87199bf28312row0_col6{\n",
       "            background-color:  #f5c2aa;\n",
       "            color:  #000000;\n",
       "        }#T_07783ff6_8cee_11eb_a8bb_87199bf28312row0_col7,#T_07783ff6_8cee_11eb_a8bb_87199bf28312row11_col4{\n",
       "            background-color:  #82a6fb;\n",
       "            color:  #000000;\n",
       "        }#T_07783ff6_8cee_11eb_a8bb_87199bf28312row0_col8,#T_07783ff6_8cee_11eb_a8bb_87199bf28312row4_col12{\n",
       "            background-color:  #f49a7b;\n",
       "            color:  #000000;\n",
       "        }#T_07783ff6_8cee_11eb_a8bb_87199bf28312row0_col9,#T_07783ff6_8cee_11eb_a8bb_87199bf28312row2_col8,#T_07783ff6_8cee_11eb_a8bb_87199bf28312row8_col0{\n",
       "            background-color:  #f6a283;\n",
       "            color:  #000000;\n",
       "        }#T_07783ff6_8cee_11eb_a8bb_87199bf28312row0_col10{\n",
       "            background-color:  #dadce0;\n",
       "            color:  #000000;\n",
       "        }#T_07783ff6_8cee_11eb_a8bb_87199bf28312row0_col11{\n",
       "            background-color:  #465ecf;\n",
       "            color:  #f1f1f1;\n",
       "        }#T_07783ff6_8cee_11eb_a8bb_87199bf28312row0_col12{\n",
       "            background-color:  #f7b99e;\n",
       "            color:  #000000;\n",
       "        }#T_07783ff6_8cee_11eb_a8bb_87199bf28312row1_col0{\n",
       "            background-color:  #6485ec;\n",
       "            color:  #000000;\n",
       "        }#T_07783ff6_8cee_11eb_a8bb_87199bf28312row1_col2,#T_07783ff6_8cee_11eb_a8bb_87199bf28312row1_col6,#T_07783ff6_8cee_11eb_a8bb_87199bf28312row8_col3{\n",
       "            background-color:  #5a78e4;\n",
       "            color:  #000000;\n",
       "        }#T_07783ff6_8cee_11eb_a8bb_87199bf28312row1_col3{\n",
       "            background-color:  #4f69d9;\n",
       "            color:  #000000;\n",
       "        }#T_07783ff6_8cee_11eb_a8bb_87199bf28312row1_col4,#T_07783ff6_8cee_11eb_a8bb_87199bf28312row1_col9{\n",
       "            background-color:  #6788ee;\n",
       "            color:  #000000;\n",
       "        }#T_07783ff6_8cee_11eb_a8bb_87199bf28312row1_col5,#T_07783ff6_8cee_11eb_a8bb_87199bf28312row2_col0{\n",
       "            background-color:  #edd1c2;\n",
       "            color:  #000000;\n",
       "        }#T_07783ff6_8cee_11eb_a8bb_87199bf28312row1_col7,#T_07783ff6_8cee_11eb_a8bb_87199bf28312row9_col4{\n",
       "            background-color:  #ec7f63;\n",
       "            color:  #000000;\n",
       "        }#T_07783ff6_8cee_11eb_a8bb_87199bf28312row1_col8,#T_07783ff6_8cee_11eb_a8bb_87199bf28312row1_col12{\n",
       "            background-color:  #6180e9;\n",
       "            color:  #000000;\n",
       "        }#T_07783ff6_8cee_11eb_a8bb_87199bf28312row1_col10,#T_07783ff6_8cee_11eb_a8bb_87199bf28312row4_col7,#T_07783ff6_8cee_11eb_a8bb_87199bf28312row5_col12,#T_07783ff6_8cee_11eb_a8bb_87199bf28312row6_col1,#T_07783ff6_8cee_11eb_a8bb_87199bf28312row7_col0,#T_07783ff6_8cee_11eb_a8bb_87199bf28312row7_col2,#T_07783ff6_8cee_11eb_a8bb_87199bf28312row7_col4,#T_07783ff6_8cee_11eb_a8bb_87199bf28312row7_col6,#T_07783ff6_8cee_11eb_a8bb_87199bf28312row7_col8,#T_07783ff6_8cee_11eb_a8bb_87199bf28312row7_col9,#T_07783ff6_8cee_11eb_a8bb_87199bf28312row8_col11,#T_07783ff6_8cee_11eb_a8bb_87199bf28312row9_col11,#T_07783ff6_8cee_11eb_a8bb_87199bf28312row10_col3,#T_07783ff6_8cee_11eb_a8bb_87199bf28312row11_col0,#T_07783ff6_8cee_11eb_a8bb_87199bf28312row12_col5{\n",
       "            background-color:  #3b4cc0;\n",
       "            color:  #f1f1f1;\n",
       "        }#T_07783ff6_8cee_11eb_a8bb_87199bf28312row1_col11{\n",
       "            background-color:  #c9d7f0;\n",
       "            color:  #000000;\n",
       "        }#T_07783ff6_8cee_11eb_a8bb_87199bf28312row2_col1,#T_07783ff6_8cee_11eb_a8bb_87199bf28312row7_col3{\n",
       "            background-color:  #4055c8;\n",
       "            color:  #f1f1f1;\n",
       "        }#T_07783ff6_8cee_11eb_a8bb_87199bf28312row2_col3,#T_07783ff6_8cee_11eb_a8bb_87199bf28312row8_col1{\n",
       "            background-color:  #6f92f3;\n",
       "            color:  #000000;\n",
       "        }#T_07783ff6_8cee_11eb_a8bb_87199bf28312row2_col4{\n",
       "            background-color:  #e0654f;\n",
       "            color:  #000000;\n",
       "        }#T_07783ff6_8cee_11eb_a8bb_87199bf28312row2_col5{\n",
       "            background-color:  #6687ed;\n",
       "            color:  #000000;\n",
       "        }#T_07783ff6_8cee_11eb_a8bb_87199bf28312row2_col6{\n",
       "            background-color:  #ee8669;\n",
       "            color:  #000000;\n",
       "        }#T_07783ff6_8cee_11eb_a8bb_87199bf28312row2_col7,#T_07783ff6_8cee_11eb_a8bb_87199bf28312row4_col1,#T_07783ff6_8cee_11eb_a8bb_87199bf28312row11_col8{\n",
       "            background-color:  #445acc;\n",
       "            color:  #f1f1f1;\n",
       "        }#T_07783ff6_8cee_11eb_a8bb_87199bf28312row2_col9{\n",
       "            background-color:  #ea7b60;\n",
       "            color:  #000000;\n",
       "        }#T_07783ff6_8cee_11eb_a8bb_87199bf28312row2_col10{\n",
       "            background-color:  #ead4c8;\n",
       "            color:  #000000;\n",
       "        }#T_07783ff6_8cee_11eb_a8bb_87199bf28312row2_col11,#T_07783ff6_8cee_11eb_a8bb_87199bf28312row11_col9,#T_07783ff6_8cee_11eb_a8bb_87199bf28312row12_col3{\n",
       "            background-color:  #4c66d6;\n",
       "            color:  #000000;\n",
       "        }#T_07783ff6_8cee_11eb_a8bb_87199bf28312row2_col12{\n",
       "            background-color:  #f39778;\n",
       "            color:  #000000;\n",
       "        }#T_07783ff6_8cee_11eb_a8bb_87199bf28312row3_col1{\n",
       "            background-color:  #aac7fd;\n",
       "            color:  #000000;\n",
       "        }#T_07783ff6_8cee_11eb_a8bb_87199bf28312row3_col2{\n",
       "            background-color:  #cfdaea;\n",
       "            color:  #000000;\n",
       "        }#T_07783ff6_8cee_11eb_a8bb_87199bf28312row3_col4,#T_07783ff6_8cee_11eb_a8bb_87199bf28312row10_col0{\n",
       "            background-color:  #d9dce1;\n",
       "            color:  #000000;\n",
       "        }#T_07783ff6_8cee_11eb_a8bb_87199bf28312row3_col5{\n",
       "            background-color:  #cbd8ee;\n",
       "            color:  #000000;\n",
       "        }#T_07783ff6_8cee_11eb_a8bb_87199bf28312row3_col6{\n",
       "            background-color:  #d7dce3;\n",
       "            color:  #000000;\n",
       "        }#T_07783ff6_8cee_11eb_a8bb_87199bf28312row3_col7{\n",
       "            background-color:  #b9d0f9;\n",
       "            color:  #000000;\n",
       "        }#T_07783ff6_8cee_11eb_a8bb_87199bf28312row3_col8,#T_07783ff6_8cee_11eb_a8bb_87199bf28312row3_col9{\n",
       "            background-color:  #a7c5fe;\n",
       "            color:  #000000;\n",
       "        }#T_07783ff6_8cee_11eb_a8bb_87199bf28312row3_col10,#T_07783ff6_8cee_11eb_a8bb_87199bf28312row4_col5{\n",
       "            background-color:  #799cf8;\n",
       "            color:  #000000;\n",
       "        }#T_07783ff6_8cee_11eb_a8bb_87199bf28312row3_col11{\n",
       "            background-color:  #adc9fd;\n",
       "            color:  #000000;\n",
       "        }#T_07783ff6_8cee_11eb_a8bb_87199bf28312row3_col12{\n",
       "            background-color:  #aec9fc;\n",
       "            color:  #000000;\n",
       "        }#T_07783ff6_8cee_11eb_a8bb_87199bf28312row4_col0{\n",
       "            background-color:  #efcfbf;\n",
       "            color:  #000000;\n",
       "        }#T_07783ff6_8cee_11eb_a8bb_87199bf28312row4_col2{\n",
       "            background-color:  #e16751;\n",
       "            color:  #000000;\n",
       "        }#T_07783ff6_8cee_11eb_a8bb_87199bf28312row4_col3,#T_07783ff6_8cee_11eb_a8bb_87199bf28312row5_col3,#T_07783ff6_8cee_11eb_a8bb_87199bf28312row5_col8{\n",
       "            background-color:  #779af7;\n",
       "            color:  #000000;\n",
       "        }#T_07783ff6_8cee_11eb_a8bb_87199bf28312row4_col6{\n",
       "            background-color:  #e46e56;\n",
       "            color:  #000000;\n",
       "        }#T_07783ff6_8cee_11eb_a8bb_87199bf28312row4_col8{\n",
       "            background-color:  #f59d7e;\n",
       "            color:  #000000;\n",
       "        }#T_07783ff6_8cee_11eb_a8bb_87199bf28312row4_col9{\n",
       "            background-color:  #f08b6e;\n",
       "            color:  #000000;\n",
       "        }#T_07783ff6_8cee_11eb_a8bb_87199bf28312row4_col10{\n",
       "            background-color:  #c5d6f2;\n",
       "            color:  #000000;\n",
       "        }#T_07783ff6_8cee_11eb_a8bb_87199bf28312row4_col11{\n",
       "            background-color:  #485fd1;\n",
       "            color:  #f1f1f1;\n",
       "        }#T_07783ff6_8cee_11eb_a8bb_87199bf28312row5_col0,#T_07783ff6_8cee_11eb_a8bb_87199bf28312row6_col11{\n",
       "            background-color:  #5f7fe8;\n",
       "            color:  #000000;\n",
       "        }#T_07783ff6_8cee_11eb_a8bb_87199bf28312row5_col1{\n",
       "            background-color:  #ebd3c6;\n",
       "            color:  #000000;\n",
       "        }#T_07783ff6_8cee_11eb_a8bb_87199bf28312row5_col2,#T_07783ff6_8cee_11eb_a8bb_87199bf28312row6_col3,#T_07783ff6_8cee_11eb_a8bb_87199bf28312row10_col11{\n",
       "            background-color:  #7699f6;\n",
       "            color:  #000000;\n",
       "        }#T_07783ff6_8cee_11eb_a8bb_87199bf28312row5_col4{\n",
       "            background-color:  #92b4fe;\n",
       "            color:  #000000;\n",
       "        }#T_07783ff6_8cee_11eb_a8bb_87199bf28312row5_col6{\n",
       "            background-color:  #9bbcff;\n",
       "            color:  #000000;\n",
       "        }#T_07783ff6_8cee_11eb_a8bb_87199bf28312row5_col7{\n",
       "            background-color:  #ead5c9;\n",
       "            color:  #000000;\n",
       "        }#T_07783ff6_8cee_11eb_a8bb_87199bf28312row5_col9,#T_07783ff6_8cee_11eb_a8bb_87199bf28312row10_col5{\n",
       "            background-color:  #6c8ff1;\n",
       "            color:  #000000;\n",
       "        }#T_07783ff6_8cee_11eb_a8bb_87199bf28312row5_col10{\n",
       "            background-color:  #4257c9;\n",
       "            color:  #f1f1f1;\n",
       "        }#T_07783ff6_8cee_11eb_a8bb_87199bf28312row5_col11{\n",
       "            background-color:  #bfd3f6;\n",
       "            color:  #000000;\n",
       "        }#T_07783ff6_8cee_11eb_a8bb_87199bf28312row6_col0{\n",
       "            background-color:  #e5d8d1;\n",
       "            color:  #000000;\n",
       "        }#T_07783ff6_8cee_11eb_a8bb_87199bf28312row6_col2{\n",
       "            background-color:  #ef886b;\n",
       "            color:  #000000;\n",
       "        }#T_07783ff6_8cee_11eb_a8bb_87199bf28312row6_col4{\n",
       "            background-color:  #e36c55;\n",
       "            color:  #000000;\n",
       "        }#T_07783ff6_8cee_11eb_a8bb_87199bf28312row6_col5{\n",
       "            background-color:  #86a9fc;\n",
       "            color:  #000000;\n",
       "        }#T_07783ff6_8cee_11eb_a8bb_87199bf28312row6_col7{\n",
       "            background-color:  #3e51c5;\n",
       "            color:  #f1f1f1;\n",
       "        }#T_07783ff6_8cee_11eb_a8bb_87199bf28312row6_col8{\n",
       "            background-color:  #f5c1a9;\n",
       "            color:  #000000;\n",
       "        }#T_07783ff6_8cee_11eb_a8bb_87199bf28312row6_col9{\n",
       "            background-color:  #f7b497;\n",
       "            color:  #000000;\n",
       "        }#T_07783ff6_8cee_11eb_a8bb_87199bf28312row6_col10{\n",
       "            background-color:  #d5dbe5;\n",
       "            color:  #000000;\n",
       "        }#T_07783ff6_8cee_11eb_a8bb_87199bf28312row6_col12{\n",
       "            background-color:  #f4987a;\n",
       "            color:  #000000;\n",
       "        }#T_07783ff6_8cee_11eb_a8bb_87199bf28312row7_col1{\n",
       "            background-color:  #f08a6c;\n",
       "            color:  #000000;\n",
       "        }#T_07783ff6_8cee_11eb_a8bb_87199bf28312row7_col5{\n",
       "            background-color:  #dedcdb;\n",
       "            color:  #000000;\n",
       "        }#T_07783ff6_8cee_11eb_a8bb_87199bf28312row7_col10,#T_07783ff6_8cee_11eb_a8bb_87199bf28312row10_col1{\n",
       "            background-color:  #5e7de7;\n",
       "            color:  #000000;\n",
       "        }#T_07783ff6_8cee_11eb_a8bb_87199bf28312row7_col11{\n",
       "            background-color:  #dfdbd9;\n",
       "            color:  #000000;\n",
       "        }#T_07783ff6_8cee_11eb_a8bb_87199bf28312row7_col12{\n",
       "            background-color:  #506bda;\n",
       "            color:  #000000;\n",
       "        }#T_07783ff6_8cee_11eb_a8bb_87199bf28312row8_col2{\n",
       "            background-color:  #f39475;\n",
       "            color:  #000000;\n",
       "        }#T_07783ff6_8cee_11eb_a8bb_87199bf28312row8_col4{\n",
       "            background-color:  #f18d6f;\n",
       "            color:  #000000;\n",
       "        }#T_07783ff6_8cee_11eb_a8bb_87199bf28312row8_col5{\n",
       "            background-color:  #8db0fe;\n",
       "            color:  #000000;\n",
       "        }#T_07783ff6_8cee_11eb_a8bb_87199bf28312row8_col6{\n",
       "            background-color:  #f7b093;\n",
       "            color:  #000000;\n",
       "        }#T_07783ff6_8cee_11eb_a8bb_87199bf28312row8_col7,#T_07783ff6_8cee_11eb_a8bb_87199bf28312row11_col10,#T_07783ff6_8cee_11eb_a8bb_87199bf28312row11_col12,#T_07783ff6_8cee_11eb_a8bb_87199bf28312row12_col7{\n",
       "            background-color:  #6b8df0;\n",
       "            color:  #000000;\n",
       "        }#T_07783ff6_8cee_11eb_a8bb_87199bf28312row8_col9{\n",
       "            background-color:  #c83836;\n",
       "            color:  #f1f1f1;\n",
       "        }#T_07783ff6_8cee_11eb_a8bb_87199bf28312row8_col10{\n",
       "            background-color:  #f3c7b1;\n",
       "            color:  #000000;\n",
       "        }#T_07783ff6_8cee_11eb_a8bb_87199bf28312row8_col12{\n",
       "            background-color:  #f7b396;\n",
       "            color:  #000000;\n",
       "        }#T_07783ff6_8cee_11eb_a8bb_87199bf28312row9_col0{\n",
       "            background-color:  #f7ad90;\n",
       "            color:  #000000;\n",
       "        }#T_07783ff6_8cee_11eb_a8bb_87199bf28312row9_col1{\n",
       "            background-color:  #6e90f2;\n",
       "            color:  #000000;\n",
       "        }#T_07783ff6_8cee_11eb_a8bb_87199bf28312row9_col2{\n",
       "            background-color:  #e67259;\n",
       "            color:  #000000;\n",
       "        }#T_07783ff6_8cee_11eb_a8bb_87199bf28312row9_col3{\n",
       "            background-color:  #516ddb;\n",
       "            color:  #000000;\n",
       "        }#T_07783ff6_8cee_11eb_a8bb_87199bf28312row9_col5{\n",
       "            background-color:  #7b9ff9;\n",
       "            color:  #000000;\n",
       "        }#T_07783ff6_8cee_11eb_a8bb_87199bf28312row9_col6,#T_07783ff6_8cee_11eb_a8bb_87199bf28312row9_col12{\n",
       "            background-color:  #f7a688;\n",
       "            color:  #000000;\n",
       "        }#T_07783ff6_8cee_11eb_a8bb_87199bf28312row9_col7{\n",
       "            background-color:  #6384eb;\n",
       "            color:  #000000;\n",
       "        }#T_07783ff6_8cee_11eb_a8bb_87199bf28312row9_col8{\n",
       "            background-color:  #ca3b37;\n",
       "            color:  #f1f1f1;\n",
       "        }#T_07783ff6_8cee_11eb_a8bb_87199bf28312row9_col10,#T_07783ff6_8cee_11eb_a8bb_87199bf28312row10_col12{\n",
       "            background-color:  #f3c8b2;\n",
       "            color:  #000000;\n",
       "        }#T_07783ff6_8cee_11eb_a8bb_87199bf28312row10_col2{\n",
       "            background-color:  #f5c0a7;\n",
       "            color:  #000000;\n",
       "        }#T_07783ff6_8cee_11eb_a8bb_87199bf28312row10_col4{\n",
       "            background-color:  #e7d7ce;\n",
       "            color:  #000000;\n",
       "        }#T_07783ff6_8cee_11eb_a8bb_87199bf28312row10_col6{\n",
       "            background-color:  #eed0c0;\n",
       "            color:  #000000;\n",
       "        }#T_07783ff6_8cee_11eb_a8bb_87199bf28312row10_col7{\n",
       "            background-color:  #9fbfff;\n",
       "            color:  #000000;\n",
       "        }#T_07783ff6_8cee_11eb_a8bb_87199bf28312row10_col8{\n",
       "            background-color:  #f6bfa6;\n",
       "            color:  #000000;\n",
       "        }#T_07783ff6_8cee_11eb_a8bb_87199bf28312row10_col9{\n",
       "            background-color:  #f6bda2;\n",
       "            color:  #000000;\n",
       "        }#T_07783ff6_8cee_11eb_a8bb_87199bf28312row11_col1{\n",
       "            background-color:  #d6dce4;\n",
       "            color:  #000000;\n",
       "        }#T_07783ff6_8cee_11eb_a8bb_87199bf28312row11_col2{\n",
       "            background-color:  #7da0f9;\n",
       "            color:  #000000;\n",
       "        }#T_07783ff6_8cee_11eb_a8bb_87199bf28312row11_col3{\n",
       "            background-color:  #6a8bef;\n",
       "            color:  #000000;\n",
       "        }#T_07783ff6_8cee_11eb_a8bb_87199bf28312row11_col5{\n",
       "            background-color:  #d2dbe8;\n",
       "            color:  #000000;\n",
       "        }#T_07783ff6_8cee_11eb_a8bb_87199bf28312row11_col6{\n",
       "            background-color:  #94b6ff;\n",
       "            color:  #000000;\n",
       "        }#T_07783ff6_8cee_11eb_a8bb_87199bf28312row11_col7{\n",
       "            background-color:  #f2cbb7;\n",
       "            color:  #000000;\n",
       "        }#T_07783ff6_8cee_11eb_a8bb_87199bf28312row12_col0{\n",
       "            background-color:  #f2c9b4;\n",
       "            color:  #000000;\n",
       "        }#T_07783ff6_8cee_11eb_a8bb_87199bf28312row12_col1{\n",
       "            background-color:  #5977e3;\n",
       "            color:  #000000;\n",
       "        }#T_07783ff6_8cee_11eb_a8bb_87199bf28312row12_col2,#T_07783ff6_8cee_11eb_a8bb_87199bf28312row12_col4{\n",
       "            background-color:  #f29274;\n",
       "            color:  #000000;\n",
       "        }#T_07783ff6_8cee_11eb_a8bb_87199bf28312row12_col6{\n",
       "            background-color:  #f29072;\n",
       "            color:  #000000;\n",
       "        }#T_07783ff6_8cee_11eb_a8bb_87199bf28312row12_col8{\n",
       "            background-color:  #f7ba9f;\n",
       "            color:  #000000;\n",
       "        }#T_07783ff6_8cee_11eb_a8bb_87199bf28312row12_col9{\n",
       "            background-color:  #f7ac8e;\n",
       "            color:  #000000;\n",
       "        }#T_07783ff6_8cee_11eb_a8bb_87199bf28312row12_col10{\n",
       "            background-color:  #e9d5cb;\n",
       "            color:  #000000;\n",
       "        }#T_07783ff6_8cee_11eb_a8bb_87199bf28312row12_col11{\n",
       "            background-color:  #4a63d3;\n",
       "            color:  #f1f1f1;\n",
       "        }</style><table id=\"T_07783ff6_8cee_11eb_a8bb_87199bf28312\" ><thead>    <tr>        <th class=\"blank level0\" ></th>        <th class=\"col_heading level0 col0\" >0</th>        <th class=\"col_heading level0 col1\" >1</th>        <th class=\"col_heading level0 col2\" >2</th>        <th class=\"col_heading level0 col3\" >3</th>        <th class=\"col_heading level0 col4\" >4</th>        <th class=\"col_heading level0 col5\" >5</th>        <th class=\"col_heading level0 col6\" >6</th>        <th class=\"col_heading level0 col7\" >7</th>        <th class=\"col_heading level0 col8\" >8</th>        <th class=\"col_heading level0 col9\" >9</th>        <th class=\"col_heading level0 col10\" >10</th>        <th class=\"col_heading level0 col11\" >11</th>        <th class=\"col_heading level0 col12\" >12</th>    </tr></thead><tbody>\n",
       "                <tr>\n",
       "                        <th id=\"T_07783ff6_8cee_11eb_a8bb_87199bf28312level0_row0\" class=\"row_heading level0 row0\" >0</th>\n",
       "                        <td id=\"T_07783ff6_8cee_11eb_a8bb_87199bf28312row0_col0\" class=\"data row0 col0\" >1.000000</td>\n",
       "                        <td id=\"T_07783ff6_8cee_11eb_a8bb_87199bf28312row0_col1\" class=\"data row0 col1\" >-0.200469</td>\n",
       "                        <td id=\"T_07783ff6_8cee_11eb_a8bb_87199bf28312row0_col2\" class=\"data row0 col2\" >0.406583</td>\n",
       "                        <td id=\"T_07783ff6_8cee_11eb_a8bb_87199bf28312row0_col3\" class=\"data row0 col3\" >-0.055892</td>\n",
       "                        <td id=\"T_07783ff6_8cee_11eb_a8bb_87199bf28312row0_col4\" class=\"data row0 col4\" >0.420972</td>\n",
       "                        <td id=\"T_07783ff6_8cee_11eb_a8bb_87199bf28312row0_col5\" class=\"data row0 col5\" >-0.219247</td>\n",
       "                        <td id=\"T_07783ff6_8cee_11eb_a8bb_87199bf28312row0_col6\" class=\"data row0 col6\" >0.352734</td>\n",
       "                        <td id=\"T_07783ff6_8cee_11eb_a8bb_87199bf28312row0_col7\" class=\"data row0 col7\" >-0.379670</td>\n",
       "                        <td id=\"T_07783ff6_8cee_11eb_a8bb_87199bf28312row0_col8\" class=\"data row0 col8\" >0.625505</td>\n",
       "                        <td id=\"T_07783ff6_8cee_11eb_a8bb_87199bf28312row0_col9\" class=\"data row0 col9\" >0.582764</td>\n",
       "                        <td id=\"T_07783ff6_8cee_11eb_a8bb_87199bf28312row0_col10\" class=\"data row0 col10\" >0.289946</td>\n",
       "                        <td id=\"T_07783ff6_8cee_11eb_a8bb_87199bf28312row0_col11\" class=\"data row0 col11\" >-0.385064</td>\n",
       "                        <td id=\"T_07783ff6_8cee_11eb_a8bb_87199bf28312row0_col12\" class=\"data row0 col12\" >0.455621</td>\n",
       "            </tr>\n",
       "            <tr>\n",
       "                        <th id=\"T_07783ff6_8cee_11eb_a8bb_87199bf28312level0_row1\" class=\"row_heading level0 row1\" >1</th>\n",
       "                        <td id=\"T_07783ff6_8cee_11eb_a8bb_87199bf28312row1_col0\" class=\"data row1 col0\" >-0.200469</td>\n",
       "                        <td id=\"T_07783ff6_8cee_11eb_a8bb_87199bf28312row1_col1\" class=\"data row1 col1\" >1.000000</td>\n",
       "                        <td id=\"T_07783ff6_8cee_11eb_a8bb_87199bf28312row1_col2\" class=\"data row1 col2\" >-0.533828</td>\n",
       "                        <td id=\"T_07783ff6_8cee_11eb_a8bb_87199bf28312row1_col3\" class=\"data row1 col3\" >-0.042697</td>\n",
       "                        <td id=\"T_07783ff6_8cee_11eb_a8bb_87199bf28312row1_col4\" class=\"data row1 col4\" >-0.516604</td>\n",
       "                        <td id=\"T_07783ff6_8cee_11eb_a8bb_87199bf28312row1_col5\" class=\"data row1 col5\" >0.311991</td>\n",
       "                        <td id=\"T_07783ff6_8cee_11eb_a8bb_87199bf28312row1_col6\" class=\"data row1 col6\" >-0.569537</td>\n",
       "                        <td id=\"T_07783ff6_8cee_11eb_a8bb_87199bf28312row1_col7\" class=\"data row1 col7\" >0.664408</td>\n",
       "                        <td id=\"T_07783ff6_8cee_11eb_a8bb_87199bf28312row1_col8\" class=\"data row1 col8\" >-0.311948</td>\n",
       "                        <td id=\"T_07783ff6_8cee_11eb_a8bb_87199bf28312row1_col9\" class=\"data row1 col9\" >-0.314563</td>\n",
       "                        <td id=\"T_07783ff6_8cee_11eb_a8bb_87199bf28312row1_col10\" class=\"data row1 col10\" >-0.391679</td>\n",
       "                        <td id=\"T_07783ff6_8cee_11eb_a8bb_87199bf28312row1_col11\" class=\"data row1 col11\" >0.175520</td>\n",
       "                        <td id=\"T_07783ff6_8cee_11eb_a8bb_87199bf28312row1_col12\" class=\"data row1 col12\" >-0.412995</td>\n",
       "            </tr>\n",
       "            <tr>\n",
       "                        <th id=\"T_07783ff6_8cee_11eb_a8bb_87199bf28312level0_row2\" class=\"row_heading level0 row2\" >2</th>\n",
       "                        <td id=\"T_07783ff6_8cee_11eb_a8bb_87199bf28312row2_col0\" class=\"data row2 col0\" >0.406583</td>\n",
       "                        <td id=\"T_07783ff6_8cee_11eb_a8bb_87199bf28312row2_col1\" class=\"data row2 col1\" >-0.533828</td>\n",
       "                        <td id=\"T_07783ff6_8cee_11eb_a8bb_87199bf28312row2_col2\" class=\"data row2 col2\" >1.000000</td>\n",
       "                        <td id=\"T_07783ff6_8cee_11eb_a8bb_87199bf28312row2_col3\" class=\"data row2 col3\" >0.062938</td>\n",
       "                        <td id=\"T_07783ff6_8cee_11eb_a8bb_87199bf28312row2_col4\" class=\"data row2 col4\" >0.763651</td>\n",
       "                        <td id=\"T_07783ff6_8cee_11eb_a8bb_87199bf28312row2_col5\" class=\"data row2 col5\" >-0.391676</td>\n",
       "                        <td id=\"T_07783ff6_8cee_11eb_a8bb_87199bf28312row2_col6\" class=\"data row2 col6\" >0.644779</td>\n",
       "                        <td id=\"T_07783ff6_8cee_11eb_a8bb_87199bf28312row2_col7\" class=\"data row2 col7\" >-0.708027</td>\n",
       "                        <td id=\"T_07783ff6_8cee_11eb_a8bb_87199bf28312row2_col8\" class=\"data row2 col8\" >0.595129</td>\n",
       "                        <td id=\"T_07783ff6_8cee_11eb_a8bb_87199bf28312row2_col9\" class=\"data row2 col9\" >0.720760</td>\n",
       "                        <td id=\"T_07783ff6_8cee_11eb_a8bb_87199bf28312row2_col10\" class=\"data row2 col10\" >0.383248</td>\n",
       "                        <td id=\"T_07783ff6_8cee_11eb_a8bb_87199bf28312row2_col11\" class=\"data row2 col11\" >-0.356977</td>\n",
       "                        <td id=\"T_07783ff6_8cee_11eb_a8bb_87199bf28312row2_col12\" class=\"data row2 col12\" >0.603800</td>\n",
       "            </tr>\n",
       "            <tr>\n",
       "                        <th id=\"T_07783ff6_8cee_11eb_a8bb_87199bf28312level0_row3\" class=\"row_heading level0 row3\" >3</th>\n",
       "                        <td id=\"T_07783ff6_8cee_11eb_a8bb_87199bf28312row3_col0\" class=\"data row3 col0\" >-0.055892</td>\n",
       "                        <td id=\"T_07783ff6_8cee_11eb_a8bb_87199bf28312row3_col1\" class=\"data row3 col1\" >-0.042697</td>\n",
       "                        <td id=\"T_07783ff6_8cee_11eb_a8bb_87199bf28312row3_col2\" class=\"data row3 col2\" >0.062938</td>\n",
       "                        <td id=\"T_07783ff6_8cee_11eb_a8bb_87199bf28312row3_col3\" class=\"data row3 col3\" >1.000000</td>\n",
       "                        <td id=\"T_07783ff6_8cee_11eb_a8bb_87199bf28312row3_col4\" class=\"data row3 col4\" >0.091203</td>\n",
       "                        <td id=\"T_07783ff6_8cee_11eb_a8bb_87199bf28312row3_col5\" class=\"data row3 col5\" >0.091251</td>\n",
       "                        <td id=\"T_07783ff6_8cee_11eb_a8bb_87199bf28312row3_col6\" class=\"data row3 col6\" >0.086518</td>\n",
       "                        <td id=\"T_07783ff6_8cee_11eb_a8bb_87199bf28312row3_col7\" class=\"data row3 col7\" >-0.099176</td>\n",
       "                        <td id=\"T_07783ff6_8cee_11eb_a8bb_87199bf28312row3_col8\" class=\"data row3 col8\" >-0.007368</td>\n",
       "                        <td id=\"T_07783ff6_8cee_11eb_a8bb_87199bf28312row3_col9\" class=\"data row3 col9\" >-0.035587</td>\n",
       "                        <td id=\"T_07783ff6_8cee_11eb_a8bb_87199bf28312row3_col10\" class=\"data row3 col10\" >-0.121515</td>\n",
       "                        <td id=\"T_07783ff6_8cee_11eb_a8bb_87199bf28312row3_col11\" class=\"data row3 col11\" >0.048788</td>\n",
       "                        <td id=\"T_07783ff6_8cee_11eb_a8bb_87199bf28312row3_col12\" class=\"data row3 col12\" >-0.053929</td>\n",
       "            </tr>\n",
       "            <tr>\n",
       "                        <th id=\"T_07783ff6_8cee_11eb_a8bb_87199bf28312level0_row4\" class=\"row_heading level0 row4\" >4</th>\n",
       "                        <td id=\"T_07783ff6_8cee_11eb_a8bb_87199bf28312row4_col0\" class=\"data row4 col0\" >0.420972</td>\n",
       "                        <td id=\"T_07783ff6_8cee_11eb_a8bb_87199bf28312row4_col1\" class=\"data row4 col1\" >-0.516604</td>\n",
       "                        <td id=\"T_07783ff6_8cee_11eb_a8bb_87199bf28312row4_col2\" class=\"data row4 col2\" >0.763651</td>\n",
       "                        <td id=\"T_07783ff6_8cee_11eb_a8bb_87199bf28312row4_col3\" class=\"data row4 col3\" >0.091203</td>\n",
       "                        <td id=\"T_07783ff6_8cee_11eb_a8bb_87199bf28312row4_col4\" class=\"data row4 col4\" >1.000000</td>\n",
       "                        <td id=\"T_07783ff6_8cee_11eb_a8bb_87199bf28312row4_col5\" class=\"data row4 col5\" >-0.302188</td>\n",
       "                        <td id=\"T_07783ff6_8cee_11eb_a8bb_87199bf28312row4_col6\" class=\"data row4 col6\" >0.731470</td>\n",
       "                        <td id=\"T_07783ff6_8cee_11eb_a8bb_87199bf28312row4_col7\" class=\"data row4 col7\" >-0.769230</td>\n",
       "                        <td id=\"T_07783ff6_8cee_11eb_a8bb_87199bf28312row4_col8\" class=\"data row4 col8\" >0.611441</td>\n",
       "                        <td id=\"T_07783ff6_8cee_11eb_a8bb_87199bf28312row4_col9\" class=\"data row4 col9\" >0.668023</td>\n",
       "                        <td id=\"T_07783ff6_8cee_11eb_a8bb_87199bf28312row4_col10\" class=\"data row4 col10\" >0.188933</td>\n",
       "                        <td id=\"T_07783ff6_8cee_11eb_a8bb_87199bf28312row4_col11\" class=\"data row4 col11\" >-0.380051</td>\n",
       "                        <td id=\"T_07783ff6_8cee_11eb_a8bb_87199bf28312row4_col12\" class=\"data row4 col12\" >0.590879</td>\n",
       "            </tr>\n",
       "            <tr>\n",
       "                        <th id=\"T_07783ff6_8cee_11eb_a8bb_87199bf28312level0_row5\" class=\"row_heading level0 row5\" >5</th>\n",
       "                        <td id=\"T_07783ff6_8cee_11eb_a8bb_87199bf28312row5_col0\" class=\"data row5 col0\" >-0.219247</td>\n",
       "                        <td id=\"T_07783ff6_8cee_11eb_a8bb_87199bf28312row5_col1\" class=\"data row5 col1\" >0.311991</td>\n",
       "                        <td id=\"T_07783ff6_8cee_11eb_a8bb_87199bf28312row5_col2\" class=\"data row5 col2\" >-0.391676</td>\n",
       "                        <td id=\"T_07783ff6_8cee_11eb_a8bb_87199bf28312row5_col3\" class=\"data row5 col3\" >0.091251</td>\n",
       "                        <td id=\"T_07783ff6_8cee_11eb_a8bb_87199bf28312row5_col4\" class=\"data row5 col4\" >-0.302188</td>\n",
       "                        <td id=\"T_07783ff6_8cee_11eb_a8bb_87199bf28312row5_col5\" class=\"data row5 col5\" >1.000000</td>\n",
       "                        <td id=\"T_07783ff6_8cee_11eb_a8bb_87199bf28312row5_col6\" class=\"data row5 col6\" >-0.240265</td>\n",
       "                        <td id=\"T_07783ff6_8cee_11eb_a8bb_87199bf28312row5_col7\" class=\"data row5 col7\" >0.205246</td>\n",
       "                        <td id=\"T_07783ff6_8cee_11eb_a8bb_87199bf28312row5_col8\" class=\"data row5 col8\" >-0.209847</td>\n",
       "                        <td id=\"T_07783ff6_8cee_11eb_a8bb_87199bf28312row5_col9\" class=\"data row5 col9\" >-0.292048</td>\n",
       "                        <td id=\"T_07783ff6_8cee_11eb_a8bb_87199bf28312row5_col10\" class=\"data row5 col10\" >-0.355501</td>\n",
       "                        <td id=\"T_07783ff6_8cee_11eb_a8bb_87199bf28312row5_col11\" class=\"data row5 col11\" >0.128069</td>\n",
       "                        <td id=\"T_07783ff6_8cee_11eb_a8bb_87199bf28312row5_col12\" class=\"data row5 col12\" >-0.613808</td>\n",
       "            </tr>\n",
       "            <tr>\n",
       "                        <th id=\"T_07783ff6_8cee_11eb_a8bb_87199bf28312level0_row6\" class=\"row_heading level0 row6\" >6</th>\n",
       "                        <td id=\"T_07783ff6_8cee_11eb_a8bb_87199bf28312row6_col0\" class=\"data row6 col0\" >0.352734</td>\n",
       "                        <td id=\"T_07783ff6_8cee_11eb_a8bb_87199bf28312row6_col1\" class=\"data row6 col1\" >-0.569537</td>\n",
       "                        <td id=\"T_07783ff6_8cee_11eb_a8bb_87199bf28312row6_col2\" class=\"data row6 col2\" >0.644779</td>\n",
       "                        <td id=\"T_07783ff6_8cee_11eb_a8bb_87199bf28312row6_col3\" class=\"data row6 col3\" >0.086518</td>\n",
       "                        <td id=\"T_07783ff6_8cee_11eb_a8bb_87199bf28312row6_col4\" class=\"data row6 col4\" >0.731470</td>\n",
       "                        <td id=\"T_07783ff6_8cee_11eb_a8bb_87199bf28312row6_col5\" class=\"data row6 col5\" >-0.240265</td>\n",
       "                        <td id=\"T_07783ff6_8cee_11eb_a8bb_87199bf28312row6_col6\" class=\"data row6 col6\" >1.000000</td>\n",
       "                        <td id=\"T_07783ff6_8cee_11eb_a8bb_87199bf28312row6_col7\" class=\"data row6 col7\" >-0.747881</td>\n",
       "                        <td id=\"T_07783ff6_8cee_11eb_a8bb_87199bf28312row6_col8\" class=\"data row6 col8\" >0.456022</td>\n",
       "                        <td id=\"T_07783ff6_8cee_11eb_a8bb_87199bf28312row6_col9\" class=\"data row6 col9\" >0.506456</td>\n",
       "                        <td id=\"T_07783ff6_8cee_11eb_a8bb_87199bf28312row6_col10\" class=\"data row6 col10\" >0.261515</td>\n",
       "                        <td id=\"T_07783ff6_8cee_11eb_a8bb_87199bf28312row6_col11\" class=\"data row6 col11\" >-0.273534</td>\n",
       "                        <td id=\"T_07783ff6_8cee_11eb_a8bb_87199bf28312row6_col12\" class=\"data row6 col12\" >0.602339</td>\n",
       "            </tr>\n",
       "            <tr>\n",
       "                        <th id=\"T_07783ff6_8cee_11eb_a8bb_87199bf28312level0_row7\" class=\"row_heading level0 row7\" >7</th>\n",
       "                        <td id=\"T_07783ff6_8cee_11eb_a8bb_87199bf28312row7_col0\" class=\"data row7 col0\" >-0.379670</td>\n",
       "                        <td id=\"T_07783ff6_8cee_11eb_a8bb_87199bf28312row7_col1\" class=\"data row7 col1\" >0.664408</td>\n",
       "                        <td id=\"T_07783ff6_8cee_11eb_a8bb_87199bf28312row7_col2\" class=\"data row7 col2\" >-0.708027</td>\n",
       "                        <td id=\"T_07783ff6_8cee_11eb_a8bb_87199bf28312row7_col3\" class=\"data row7 col3\" >-0.099176</td>\n",
       "                        <td id=\"T_07783ff6_8cee_11eb_a8bb_87199bf28312row7_col4\" class=\"data row7 col4\" >-0.769230</td>\n",
       "                        <td id=\"T_07783ff6_8cee_11eb_a8bb_87199bf28312row7_col5\" class=\"data row7 col5\" >0.205246</td>\n",
       "                        <td id=\"T_07783ff6_8cee_11eb_a8bb_87199bf28312row7_col6\" class=\"data row7 col6\" >-0.747881</td>\n",
       "                        <td id=\"T_07783ff6_8cee_11eb_a8bb_87199bf28312row7_col7\" class=\"data row7 col7\" >1.000000</td>\n",
       "                        <td id=\"T_07783ff6_8cee_11eb_a8bb_87199bf28312row7_col8\" class=\"data row7 col8\" >-0.494588</td>\n",
       "                        <td id=\"T_07783ff6_8cee_11eb_a8bb_87199bf28312row7_col9\" class=\"data row7 col9\" >-0.534432</td>\n",
       "                        <td id=\"T_07783ff6_8cee_11eb_a8bb_87199bf28312row7_col10\" class=\"data row7 col10\" >-0.232471</td>\n",
       "                        <td id=\"T_07783ff6_8cee_11eb_a8bb_87199bf28312row7_col11\" class=\"data row7 col11\" >0.291512</td>\n",
       "                        <td id=\"T_07783ff6_8cee_11eb_a8bb_87199bf28312row7_col12\" class=\"data row7 col12\" >-0.496996</td>\n",
       "            </tr>\n",
       "            <tr>\n",
       "                        <th id=\"T_07783ff6_8cee_11eb_a8bb_87199bf28312level0_row8\" class=\"row_heading level0 row8\" >8</th>\n",
       "                        <td id=\"T_07783ff6_8cee_11eb_a8bb_87199bf28312row8_col0\" class=\"data row8 col0\" >0.625505</td>\n",
       "                        <td id=\"T_07783ff6_8cee_11eb_a8bb_87199bf28312row8_col1\" class=\"data row8 col1\" >-0.311948</td>\n",
       "                        <td id=\"T_07783ff6_8cee_11eb_a8bb_87199bf28312row8_col2\" class=\"data row8 col2\" >0.595129</td>\n",
       "                        <td id=\"T_07783ff6_8cee_11eb_a8bb_87199bf28312row8_col3\" class=\"data row8 col3\" >-0.007368</td>\n",
       "                        <td id=\"T_07783ff6_8cee_11eb_a8bb_87199bf28312row8_col4\" class=\"data row8 col4\" >0.611441</td>\n",
       "                        <td id=\"T_07783ff6_8cee_11eb_a8bb_87199bf28312row8_col5\" class=\"data row8 col5\" >-0.209847</td>\n",
       "                        <td id=\"T_07783ff6_8cee_11eb_a8bb_87199bf28312row8_col6\" class=\"data row8 col6\" >0.456022</td>\n",
       "                        <td id=\"T_07783ff6_8cee_11eb_a8bb_87199bf28312row8_col7\" class=\"data row8 col7\" >-0.494588</td>\n",
       "                        <td id=\"T_07783ff6_8cee_11eb_a8bb_87199bf28312row8_col8\" class=\"data row8 col8\" >1.000000</td>\n",
       "                        <td id=\"T_07783ff6_8cee_11eb_a8bb_87199bf28312row8_col9\" class=\"data row8 col9\" >0.910228</td>\n",
       "                        <td id=\"T_07783ff6_8cee_11eb_a8bb_87199bf28312row8_col10\" class=\"data row8 col10\" >0.464741</td>\n",
       "                        <td id=\"T_07783ff6_8cee_11eb_a8bb_87199bf28312row8_col11\" class=\"data row8 col11\" >-0.444413</td>\n",
       "                        <td id=\"T_07783ff6_8cee_11eb_a8bb_87199bf28312row8_col12\" class=\"data row8 col12\" >0.488676</td>\n",
       "            </tr>\n",
       "            <tr>\n",
       "                        <th id=\"T_07783ff6_8cee_11eb_a8bb_87199bf28312level0_row9\" class=\"row_heading level0 row9\" >9</th>\n",
       "                        <td id=\"T_07783ff6_8cee_11eb_a8bb_87199bf28312row9_col0\" class=\"data row9 col0\" >0.582764</td>\n",
       "                        <td id=\"T_07783ff6_8cee_11eb_a8bb_87199bf28312row9_col1\" class=\"data row9 col1\" >-0.314563</td>\n",
       "                        <td id=\"T_07783ff6_8cee_11eb_a8bb_87199bf28312row9_col2\" class=\"data row9 col2\" >0.720760</td>\n",
       "                        <td id=\"T_07783ff6_8cee_11eb_a8bb_87199bf28312row9_col3\" class=\"data row9 col3\" >-0.035587</td>\n",
       "                        <td id=\"T_07783ff6_8cee_11eb_a8bb_87199bf28312row9_col4\" class=\"data row9 col4\" >0.668023</td>\n",
       "                        <td id=\"T_07783ff6_8cee_11eb_a8bb_87199bf28312row9_col5\" class=\"data row9 col5\" >-0.292048</td>\n",
       "                        <td id=\"T_07783ff6_8cee_11eb_a8bb_87199bf28312row9_col6\" class=\"data row9 col6\" >0.506456</td>\n",
       "                        <td id=\"T_07783ff6_8cee_11eb_a8bb_87199bf28312row9_col7\" class=\"data row9 col7\" >-0.534432</td>\n",
       "                        <td id=\"T_07783ff6_8cee_11eb_a8bb_87199bf28312row9_col8\" class=\"data row9 col8\" >0.910228</td>\n",
       "                        <td id=\"T_07783ff6_8cee_11eb_a8bb_87199bf28312row9_col9\" class=\"data row9 col9\" >1.000000</td>\n",
       "                        <td id=\"T_07783ff6_8cee_11eb_a8bb_87199bf28312row9_col10\" class=\"data row9 col10\" >0.460853</td>\n",
       "                        <td id=\"T_07783ff6_8cee_11eb_a8bb_87199bf28312row9_col11\" class=\"data row9 col11\" >-0.441808</td>\n",
       "                        <td id=\"T_07783ff6_8cee_11eb_a8bb_87199bf28312row9_col12\" class=\"data row9 col12\" >0.543993</td>\n",
       "            </tr>\n",
       "            <tr>\n",
       "                        <th id=\"T_07783ff6_8cee_11eb_a8bb_87199bf28312level0_row10\" class=\"row_heading level0 row10\" >10</th>\n",
       "                        <td id=\"T_07783ff6_8cee_11eb_a8bb_87199bf28312row10_col0\" class=\"data row10 col0\" >0.289946</td>\n",
       "                        <td id=\"T_07783ff6_8cee_11eb_a8bb_87199bf28312row10_col1\" class=\"data row10 col1\" >-0.391679</td>\n",
       "                        <td id=\"T_07783ff6_8cee_11eb_a8bb_87199bf28312row10_col2\" class=\"data row10 col2\" >0.383248</td>\n",
       "                        <td id=\"T_07783ff6_8cee_11eb_a8bb_87199bf28312row10_col3\" class=\"data row10 col3\" >-0.121515</td>\n",
       "                        <td id=\"T_07783ff6_8cee_11eb_a8bb_87199bf28312row10_col4\" class=\"data row10 col4\" >0.188933</td>\n",
       "                        <td id=\"T_07783ff6_8cee_11eb_a8bb_87199bf28312row10_col5\" class=\"data row10 col5\" >-0.355501</td>\n",
       "                        <td id=\"T_07783ff6_8cee_11eb_a8bb_87199bf28312row10_col6\" class=\"data row10 col6\" >0.261515</td>\n",
       "                        <td id=\"T_07783ff6_8cee_11eb_a8bb_87199bf28312row10_col7\" class=\"data row10 col7\" >-0.232471</td>\n",
       "                        <td id=\"T_07783ff6_8cee_11eb_a8bb_87199bf28312row10_col8\" class=\"data row10 col8\" >0.464741</td>\n",
       "                        <td id=\"T_07783ff6_8cee_11eb_a8bb_87199bf28312row10_col9\" class=\"data row10 col9\" >0.460853</td>\n",
       "                        <td id=\"T_07783ff6_8cee_11eb_a8bb_87199bf28312row10_col10\" class=\"data row10 col10\" >1.000000</td>\n",
       "                        <td id=\"T_07783ff6_8cee_11eb_a8bb_87199bf28312row10_col11\" class=\"data row10 col11\" >-0.177383</td>\n",
       "                        <td id=\"T_07783ff6_8cee_11eb_a8bb_87199bf28312row10_col12\" class=\"data row10 col12\" >0.374044</td>\n",
       "            </tr>\n",
       "            <tr>\n",
       "                        <th id=\"T_07783ff6_8cee_11eb_a8bb_87199bf28312level0_row11\" class=\"row_heading level0 row11\" >11</th>\n",
       "                        <td id=\"T_07783ff6_8cee_11eb_a8bb_87199bf28312row11_col0\" class=\"data row11 col0\" >-0.385064</td>\n",
       "                        <td id=\"T_07783ff6_8cee_11eb_a8bb_87199bf28312row11_col1\" class=\"data row11 col1\" >0.175520</td>\n",
       "                        <td id=\"T_07783ff6_8cee_11eb_a8bb_87199bf28312row11_col2\" class=\"data row11 col2\" >-0.356977</td>\n",
       "                        <td id=\"T_07783ff6_8cee_11eb_a8bb_87199bf28312row11_col3\" class=\"data row11 col3\" >0.048788</td>\n",
       "                        <td id=\"T_07783ff6_8cee_11eb_a8bb_87199bf28312row11_col4\" class=\"data row11 col4\" >-0.380051</td>\n",
       "                        <td id=\"T_07783ff6_8cee_11eb_a8bb_87199bf28312row11_col5\" class=\"data row11 col5\" >0.128069</td>\n",
       "                        <td id=\"T_07783ff6_8cee_11eb_a8bb_87199bf28312row11_col6\" class=\"data row11 col6\" >-0.273534</td>\n",
       "                        <td id=\"T_07783ff6_8cee_11eb_a8bb_87199bf28312row11_col7\" class=\"data row11 col7\" >0.291512</td>\n",
       "                        <td id=\"T_07783ff6_8cee_11eb_a8bb_87199bf28312row11_col8\" class=\"data row11 col8\" >-0.444413</td>\n",
       "                        <td id=\"T_07783ff6_8cee_11eb_a8bb_87199bf28312row11_col9\" class=\"data row11 col9\" >-0.441808</td>\n",
       "                        <td id=\"T_07783ff6_8cee_11eb_a8bb_87199bf28312row11_col10\" class=\"data row11 col10\" >-0.177383</td>\n",
       "                        <td id=\"T_07783ff6_8cee_11eb_a8bb_87199bf28312row11_col11\" class=\"data row11 col11\" >1.000000</td>\n",
       "                        <td id=\"T_07783ff6_8cee_11eb_a8bb_87199bf28312row11_col12\" class=\"data row11 col12\" >-0.366087</td>\n",
       "            </tr>\n",
       "            <tr>\n",
       "                        <th id=\"T_07783ff6_8cee_11eb_a8bb_87199bf28312level0_row12\" class=\"row_heading level0 row12\" >12</th>\n",
       "                        <td id=\"T_07783ff6_8cee_11eb_a8bb_87199bf28312row12_col0\" class=\"data row12 col0\" >0.455621</td>\n",
       "                        <td id=\"T_07783ff6_8cee_11eb_a8bb_87199bf28312row12_col1\" class=\"data row12 col1\" >-0.412995</td>\n",
       "                        <td id=\"T_07783ff6_8cee_11eb_a8bb_87199bf28312row12_col2\" class=\"data row12 col2\" >0.603800</td>\n",
       "                        <td id=\"T_07783ff6_8cee_11eb_a8bb_87199bf28312row12_col3\" class=\"data row12 col3\" >-0.053929</td>\n",
       "                        <td id=\"T_07783ff6_8cee_11eb_a8bb_87199bf28312row12_col4\" class=\"data row12 col4\" >0.590879</td>\n",
       "                        <td id=\"T_07783ff6_8cee_11eb_a8bb_87199bf28312row12_col5\" class=\"data row12 col5\" >-0.613808</td>\n",
       "                        <td id=\"T_07783ff6_8cee_11eb_a8bb_87199bf28312row12_col6\" class=\"data row12 col6\" >0.602339</td>\n",
       "                        <td id=\"T_07783ff6_8cee_11eb_a8bb_87199bf28312row12_col7\" class=\"data row12 col7\" >-0.496996</td>\n",
       "                        <td id=\"T_07783ff6_8cee_11eb_a8bb_87199bf28312row12_col8\" class=\"data row12 col8\" >0.488676</td>\n",
       "                        <td id=\"T_07783ff6_8cee_11eb_a8bb_87199bf28312row12_col9\" class=\"data row12 col9\" >0.543993</td>\n",
       "                        <td id=\"T_07783ff6_8cee_11eb_a8bb_87199bf28312row12_col10\" class=\"data row12 col10\" >0.374044</td>\n",
       "                        <td id=\"T_07783ff6_8cee_11eb_a8bb_87199bf28312row12_col11\" class=\"data row12 col11\" >-0.366087</td>\n",
       "                        <td id=\"T_07783ff6_8cee_11eb_a8bb_87199bf28312row12_col12\" class=\"data row12 col12\" >1.000000</td>\n",
       "            </tr>\n",
       "    </tbody></table>"
      ],
      "text/plain": [
       "<pandas.io.formats.style.Styler at 0x12d1a0af0>"
      ]
     },
     "execution_count": 15,
     "metadata": {},
     "output_type": "execute_result"
    }
   ],
   "source": [
    "# corr=house_selected.corr()\n",
    "corr.style.background_gradient(cmap='coolwarm')"
   ]
  },
  {
   "cell_type": "markdown",
   "metadata": {},
   "source": [
    "## 如果把 row number 給予降低，就可能發生 singular matrix \n",
    "* singular 定義: https://zh.wikipedia.org/wiki/%E9%9D%9E%E5%A5%87%E5%BC%82%E6%96%B9%E9%98%B5\n",
    "\n",
    "## Singular Matirx 直觀的解釋[摘自](https://ccjou.wordpress.com/2010/03/12/%E5%8F%AF%E9%80%86%E7%9F%A9%E9%99%A3%E5%AE%9A%E7%90%86/)\n",
    "\n",
    "* <img src=\"https://i.imgur.com/BqlQzol.png\" width=50% />\n",
    "\n",
    "## 遇到這種狀況\n",
    "* 去掉 high correlation feature pair\n",
    "* 增加 rows\n",
    "* 不用使用 normal equation ，白話的說不要使用 l2 做為 objective function，改用 L1，例如\n",
    "* LASSO :[L1 Classifier](https://scikit-learn.org/stable/modules/generated/sklearn.linear_model.Lasso.html)\n",
    "\n"
   ]
  },
  {
   "cell_type": "code",
   "execution_count": 42,
   "metadata": {},
   "outputs": [
    {
     "name": "stdout",
     "output_type": "stream",
     "text": [
      "this is matrix is singular\n",
      "的確解不出來\n",
      "利用 pseudo-inverse 就可以解的出來??\n",
      " [[ 4.97833124e-02  6.39340649e-02 -3.46781928e-03  2.05874888e-15\n",
      "  -2.89234506e-04  6.82434268e-01  2.82553258e-02 -1.42866679e-02\n",
      "  -1.05935830e-02 -1.87289223e-02 -3.51528513e-02 -3.07642444e-03\n",
      "  -2.00973686e-02]\n",
      " [ 6.39340649e-02  9.78393008e-02 -1.95187749e-02  2.64235279e-15\n",
      "  -3.51193076e-04  8.73806848e-01  4.01412493e-02 -1.68964555e-02\n",
      "  -1.23667693e-02 -2.87561838e-02 -4.59772249e-02 -1.67858184e-03\n",
      "  -1.72430884e-02]\n",
      " [-3.46781928e-03 -1.95187749e-02  1.46907704e-02 -1.41881848e-16\n",
      "   7.77078638e-07 -4.50361529e-02 -5.67146852e-03 -3.99875009e-04\n",
      "  -4.52409012e-04  5.88981813e-03  3.24048289e-03 -2.00978569e-03\n",
      "  -6.82210084e-03]\n",
      " [ 5.72792139e-15  7.33332665e-15 -3.76434994e-16  2.36732396e-28\n",
      "  -3.33070296e-17  7.85072284e-14  3.24111397e-15 -1.64481601e-15\n",
      "  -1.22078454e-15 -2.14953923e-15 -4.04244780e-15 -3.57515666e-16\n",
      "  -2.32463788e-15]\n",
      " [-2.89234506e-04 -3.51193076e-04  7.77078641e-07 -1.19630925e-17\n",
      "   1.70673014e-06 -3.96817554e-03 -1.59819433e-04  8.48687330e-05\n",
      "   6.31372600e-05  1.02947375e-04  2.03164513e-04  2.07799378e-05\n",
      "   1.27593273e-04]\n",
      " [ 6.82434268e-01  8.73806848e-01 -4.50361529e-02  2.82217863e-14\n",
      "  -3.96817554e-03  9.35530953e+00  3.86597155e-01 -1.96084069e-01\n",
      "  -1.45423682e-01 -2.55928832e-01 -4.81740353e-01 -4.25524734e-02\n",
      "  -2.76945797e-01]\n",
      " [ 2.82553258e-02  4.01412493e-02 -5.67146852e-03  1.16806046e-15\n",
      "  -1.59819433e-04  3.86597155e-01  1.87921449e-02 -7.75895616e-03\n",
      "  -5.71126924e-03 -1.21120364e-02 -2.01783119e-02 -1.26918503e-03\n",
      "  -8.76805955e-03]\n",
      " [-1.42866679e-02 -1.68964555e-02 -3.99875009e-04 -5.90961406e-16\n",
      "   8.48687329e-05 -1.96084069e-01 -7.75895616e-03  4.23514516e-03\n",
      "   3.15548726e-03  4.92289482e-03  1.00126637e-02  1.10452210e-03\n",
      "   6.55951609e-03]\n",
      " [-1.05935830e-02 -1.23667693e-02 -4.52409012e-04 -4.38215229e-16\n",
      "   6.31372599e-05 -1.45423682e-01 -5.71126924e-03  3.15548726e-03\n",
      "   2.35270806e-03  3.59876597e-03  7.41598964e-03  8.43972136e-04\n",
      "   4.95329106e-03]\n",
      " [-1.87289223e-02 -2.87561838e-02  5.88981813e-03 -7.74021699e-16\n",
      "   1.02947375e-04 -2.55928832e-01 -1.21120364e-02  4.92289482e-03\n",
      "   3.59876597e-03  8.78752097e-03  1.34591124e-02  3.23050146e-04\n",
      "   4.84991177e-03]\n",
      " [-3.51528513e-02 -4.59772249e-02  3.24048289e-03 -1.45363474e-15\n",
      "   2.03164513e-04 -4.81740353e-01 -2.01783119e-02  1.00126637e-02\n",
      "   7.41598964e-03  1.34591124e-02  2.48676253e-02  2.06470546e-03\n",
      "   1.37345681e-02]\n",
      " [-3.07642444e-03 -1.67858184e-03 -2.00978569e-03 -1.27462480e-16\n",
      "   2.07799378e-05 -4.25524734e-02 -1.26918503e-03  1.10452210e-03\n",
      "   8.43972136e-04  3.23050146e-04  2.06470546e-03  6.27483578e-04\n",
      "   2.48720758e-03]\n",
      " [-2.00973686e-02 -1.72430884e-02 -6.82210084e-03 -8.31987099e-16\n",
      "   1.27593273e-04 -2.76945797e-01 -8.76805955e-03  6.55951609e-03\n",
      "   4.95329106e-03  4.84991177e-03  1.37345681e-02  2.48720758e-03\n",
      "   1.29486670e-02]]\n"
     ]
    }
   ],
   "source": [
    "#theta = np.linalg.inv((X.T).dot(X)).dot(X.T).dot(y)\n",
    "\n",
    "X_small = X[:5]\n",
    "y_small = y[:5]\n",
    "\n",
    "if np.linalg.det((X_small.T).dot(X_small))==0 : print(\"this is matrix is singular\")\n",
    "\n",
    "try:\n",
    "    np.linalg.inv((X_small.T).dot(X_small))\n",
    "except:\n",
    "    print(\"的確解不出來\")\n",
    "\n",
    "from scipy.linalg import pinv\n",
    "# 利用 pseudo-inverse 就可以解的出來\n",
    "ii = pinv((X_small.T).dot(X_small))\n",
    "print(\"利用 pseudo-inverse 就可以解的出來??\\n\",ii)"
   ]
  },
  {
   "cell_type": "markdown",
   "metadata": {},
   "source": [
    "# Gradient Descent(TBD) 找個時間再來實作吧！！！\n",
    "* 使用 gradient descent 來求解"
   ]
  },
  {
   "cell_type": "code",
   "execution_count": null,
   "metadata": {},
   "outputs": [],
   "source": []
  }
 ],
 "metadata": {
  "kernelspec": {
   "display_name": "Python 3",
   "language": "python",
   "name": "python3"
  },
  "language_info": {
   "codemirror_mode": {
    "name": "ipython",
    "version": 3
   },
   "file_extension": ".py",
   "mimetype": "text/x-python",
   "name": "python",
   "nbconvert_exporter": "python",
   "pygments_lexer": "ipython3",
   "version": "3.8.5"
  }
 },
 "nbformat": 4,
 "nbformat_minor": 1
}