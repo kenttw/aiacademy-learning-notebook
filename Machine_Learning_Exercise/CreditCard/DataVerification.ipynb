{
 "cells": [
  {
   "cell_type": "markdown",
   "id": "92fbfb2b",
   "metadata": {},
   "source": [
    "# Download Data"
   ]
  },
  {
   "cell_type": "code",
   "execution_count": null,
   "id": "43c0547c",
   "metadata": {},
   "outputs": [],
   "source": [
    "!pip3 install gdown"
   ]
  },
  {
   "cell_type": "code",
   "execution_count": null,
   "id": "a7d4f9bb",
   "metadata": {},
   "outputs": [],
   "source": [
    "f1id = '1SvJ_IiHr-ndJDG_sBf6NCn0lMKUxPIlf'\n",
    "f2id = '1lZPv46zul32Xbr1qHES66YRzMa-A7MzB'\n",
    "\n",
    "\n",
    "import gdown\n",
    "url = 'https://drive.google.com/uc?id=%s'%(f1id)\n",
    "output = 'train.csv'\n",
    "gdown.download(url, output, quiet=False)\n",
    "url = 'https://drive.google.com/uc?id=%s'%(f2id)\n",
    "output = 'val.csv'\n",
    "gdown.download(url, output, quiet=False)"
   ]
  },
  {
   "cell_type": "code",
   "execution_count": 49,
   "id": "a76107eb",
   "metadata": {},
   "outputs": [
    {
     "name": "stderr",
     "output_type": "stream",
     "text": [
      "Downloading...\n",
      "From: https://drive.google.com/uc?id=1-0TD5rSfzG3frbgT4fseGBn-Dn5OpGKy\n",
      "To: /Users/kentshih/PycharmProjects/kent-ai-learning-notebook/Machine_Learning_Exercise/CreditCard/X_test.csv\n",
      "609MB [14:24, 704kB/s]  \n",
      "Downloading...\n",
      "From: https://drive.google.com/uc?id=1-1p1dHQVV2JnGP4eMfzJsQwErum_wuMG\n",
      "To: /Users/kentshih/PycharmProjects/kent-ai-learning-notebook/Machine_Learning_Exercise/CreditCard/y_test.csv\n",
      "3.59MB [00:01, 1.88MB/s]\n"
     ]
    },
    {
     "data": {
      "text/plain": [
       "'y_test.csv'"
      ]
     },
     "execution_count": 49,
     "metadata": {},
     "output_type": "execute_result"
    }
   ],
   "source": [
    "f3id = '1-0TD5rSfzG3frbgT4fseGBn-Dn5OpGKy'\n",
    "f4id = '1-1p1dHQVV2JnGP4eMfzJsQwErum_wuMG'\n",
    "\n",
    "\n",
    "import gdown\n",
    "url = 'https://drive.google.com/uc?id=%s'%(f3id)\n",
    "output = 'X_test.csv'\n",
    "gdown.download(url, output, quiet=False)\n",
    "url = 'https://drive.google.com/uc?id=%s'%(f4id)\n",
    "output = 'y_test.csv'\n",
    "gdown.download(url, output, quiet=False)"
   ]
  },
  {
   "cell_type": "markdown",
   "id": "885c5de5",
   "metadata": {},
   "source": [
    "# Verify Training Data and Validation Data"
   ]
  },
  {
   "cell_type": "code",
   "execution_count": 37,
   "id": "21091188",
   "metadata": {},
   "outputs": [],
   "source": [
    "import pandas as pd"
   ]
  },
  {
   "cell_type": "code",
   "execution_count": 38,
   "id": "43eca5c4",
   "metadata": {},
   "outputs": [],
   "source": [
    "train_df = pd.read_csv(\"./train.csv\")"
   ]
  },
  {
   "cell_type": "code",
   "execution_count": 39,
   "id": "7ace0341",
   "metadata": {},
   "outputs": [
    {
     "data": {
      "text/html": [
       "<div>\n",
       "<style scoped>\n",
       "    .dataframe tbody tr th:only-of-type {\n",
       "        vertical-align: middle;\n",
       "    }\n",
       "\n",
       "    .dataframe tbody tr th {\n",
       "        vertical-align: top;\n",
       "    }\n",
       "\n",
       "    .dataframe thead th {\n",
       "        text-align: right;\n",
       "    }\n",
       "</style>\n",
       "<table border=\"1\" class=\"dataframe\">\n",
       "  <thead>\n",
       "    <tr style=\"text-align: right;\">\n",
       "      <th></th>\n",
       "      <th>acqic</th>\n",
       "      <th>bacno</th>\n",
       "      <th>cano</th>\n",
       "      <th>conam</th>\n",
       "      <th>contp</th>\n",
       "      <th>csmcu</th>\n",
       "      <th>etymd</th>\n",
       "      <th>fraud_ind</th>\n",
       "      <th>hcefg</th>\n",
       "      <th>iterm</th>\n",
       "      <th>locdt</th>\n",
       "      <th>loctm</th>\n",
       "      <th>mcc</th>\n",
       "      <th>mchno</th>\n",
       "      <th>scity</th>\n",
       "      <th>stocn</th>\n",
       "      <th>stscd</th>\n",
       "      <th>txkey</th>\n",
       "    </tr>\n",
       "  </thead>\n",
       "  <tbody>\n",
       "    <tr>\n",
       "      <th>count</th>\n",
       "      <td>1.521787e+06</td>\n",
       "      <td>1.521787e+06</td>\n",
       "      <td>1.521787e+06</td>\n",
       "      <td>1.521787e+06</td>\n",
       "      <td>1.521787e+06</td>\n",
       "      <td>1.521787e+06</td>\n",
       "      <td>1.521787e+06</td>\n",
       "      <td>1.521787e+06</td>\n",
       "      <td>1.521787e+06</td>\n",
       "      <td>1.521787e+06</td>\n",
       "      <td>1.521787e+06</td>\n",
       "      <td>1.521787e+06</td>\n",
       "      <td>1.521787e+06</td>\n",
       "      <td>1.521787e+06</td>\n",
       "      <td>1.521787e+06</td>\n",
       "      <td>1.521787e+06</td>\n",
       "      <td>1.521787e+06</td>\n",
       "      <td>1.521787e+06</td>\n",
       "    </tr>\n",
       "    <tr>\n",
       "      <th>mean</th>\n",
       "      <td>6.008003e+03</td>\n",
       "      <td>8.209027e+04</td>\n",
       "      <td>1.089170e+05</td>\n",
       "      <td>6.547219e+02</td>\n",
       "      <td>4.829368e+00</td>\n",
       "      <td>5.383324e+01</td>\n",
       "      <td>4.149114e+00</td>\n",
       "      <td>1.337572e-02</td>\n",
       "      <td>4.749410e+00</td>\n",
       "      <td>4.962784e-02</td>\n",
       "      <td>4.532732e+01</td>\n",
       "      <td>1.463152e+05</td>\n",
       "      <td>2.978089e+02</td>\n",
       "      <td>5.589022e+04</td>\n",
       "      <td>4.755128e+03</td>\n",
       "      <td>9.565116e+01</td>\n",
       "      <td>2.485499e-02</td>\n",
       "      <td>9.711265e+05</td>\n",
       "    </tr>\n",
       "    <tr>\n",
       "      <th>std</th>\n",
       "      <td>1.502420e+03</td>\n",
       "      <td>4.736249e+04</td>\n",
       "      <td>6.090363e+04</td>\n",
       "      <td>4.028078e+02</td>\n",
       "      <td>6.513408e-01</td>\n",
       "      <td>2.072135e+01</td>\n",
       "      <td>2.394259e+00</td>\n",
       "      <td>1.148774e-01</td>\n",
       "      <td>1.111927e+00</td>\n",
       "      <td>3.652493e-01</td>\n",
       "      <td>2.601889e+01</td>\n",
       "      <td>5.212107e+04</td>\n",
       "      <td>7.796778e+01</td>\n",
       "      <td>3.082297e+04</td>\n",
       "      <td>1.979815e+03</td>\n",
       "      <td>1.890027e+01</td>\n",
       "      <td>2.216804e-01</td>\n",
       "      <td>5.641322e+05</td>\n",
       "    </tr>\n",
       "    <tr>\n",
       "      <th>min</th>\n",
       "      <td>0.000000e+00</td>\n",
       "      <td>1.000000e+00</td>\n",
       "      <td>0.000000e+00</td>\n",
       "      <td>0.000000e+00</td>\n",
       "      <td>0.000000e+00</td>\n",
       "      <td>0.000000e+00</td>\n",
       "      <td>0.000000e+00</td>\n",
       "      <td>0.000000e+00</td>\n",
       "      <td>0.000000e+00</td>\n",
       "      <td>0.000000e+00</td>\n",
       "      <td>1.000000e+00</td>\n",
       "      <td>0.000000e+00</td>\n",
       "      <td>0.000000e+00</td>\n",
       "      <td>0.000000e+00</td>\n",
       "      <td>0.000000e+00</td>\n",
       "      <td>0.000000e+00</td>\n",
       "      <td>0.000000e+00</td>\n",
       "      <td>0.000000e+00</td>\n",
       "    </tr>\n",
       "    <tr>\n",
       "      <th>25%</th>\n",
       "      <td>5.982000e+03</td>\n",
       "      <td>4.140300e+04</td>\n",
       "      <td>5.763500e+04</td>\n",
       "      <td>4.370600e+02</td>\n",
       "      <td>5.000000e+00</td>\n",
       "      <td>6.200000e+01</td>\n",
       "      <td>2.000000e+00</td>\n",
       "      <td>0.000000e+00</td>\n",
       "      <td>5.000000e+00</td>\n",
       "      <td>0.000000e+00</td>\n",
       "      <td>2.300000e+01</td>\n",
       "      <td>1.109310e+05</td>\n",
       "      <td>2.500000e+02</td>\n",
       "      <td>3.377400e+04</td>\n",
       "      <td>3.795000e+03</td>\n",
       "      <td>1.020000e+02</td>\n",
       "      <td>0.000000e+00</td>\n",
       "      <td>4.869475e+05</td>\n",
       "    </tr>\n",
       "    <tr>\n",
       "      <th>50%</th>\n",
       "      <td>6.716000e+03</td>\n",
       "      <td>8.191200e+04</td>\n",
       "      <td>1.097850e+05</td>\n",
       "      <td>5.919000e+02</td>\n",
       "      <td>5.000000e+00</td>\n",
       "      <td>6.200000e+01</td>\n",
       "      <td>4.000000e+00</td>\n",
       "      <td>0.000000e+00</td>\n",
       "      <td>5.000000e+00</td>\n",
       "      <td>0.000000e+00</td>\n",
       "      <td>4.500000e+01</td>\n",
       "      <td>1.515220e+05</td>\n",
       "      <td>2.640000e+02</td>\n",
       "      <td>5.936000e+04</td>\n",
       "      <td>5.817000e+03</td>\n",
       "      <td>1.020000e+02</td>\n",
       "      <td>0.000000e+00</td>\n",
       "      <td>9.795800e+05</td>\n",
       "    </tr>\n",
       "    <tr>\n",
       "      <th>75%</th>\n",
       "      <td>6.769000e+03</td>\n",
       "      <td>1.230590e+05</td>\n",
       "      <td>1.618760e+05</td>\n",
       "      <td>8.073400e+02</td>\n",
       "      <td>5.000000e+00</td>\n",
       "      <td>6.200000e+01</td>\n",
       "      <td>5.000000e+00</td>\n",
       "      <td>0.000000e+00</td>\n",
       "      <td>5.000000e+00</td>\n",
       "      <td>0.000000e+00</td>\n",
       "      <td>6.800000e+01</td>\n",
       "      <td>1.858270e+05</td>\n",
       "      <td>3.430000e+02</td>\n",
       "      <td>7.920000e+04</td>\n",
       "      <td>5.817000e+03</td>\n",
       "      <td>1.020000e+02</td>\n",
       "      <td>0.000000e+00</td>\n",
       "      <td>1.455200e+06</td>\n",
       "    </tr>\n",
       "    <tr>\n",
       "      <th>max</th>\n",
       "      <td>6.884000e+03</td>\n",
       "      <td>1.638840e+05</td>\n",
       "      <td>2.133340e+05</td>\n",
       "      <td>7.208770e+03</td>\n",
       "      <td>6.000000e+00</td>\n",
       "      <td>7.500000e+01</td>\n",
       "      <td>1.000000e+01</td>\n",
       "      <td>1.000000e+00</td>\n",
       "      <td>9.000000e+00</td>\n",
       "      <td>8.000000e+00</td>\n",
       "      <td>9.000000e+01</td>\n",
       "      <td>2.359590e+05</td>\n",
       "      <td>4.590000e+02</td>\n",
       "      <td>1.033070e+05</td>\n",
       "      <td>6.671000e+03</td>\n",
       "      <td>1.070000e+02</td>\n",
       "      <td>4.000000e+00</td>\n",
       "      <td>1.958239e+06</td>\n",
       "    </tr>\n",
       "  </tbody>\n",
       "</table>\n",
       "</div>"
      ],
      "text/plain": [
       "              acqic         bacno          cano         conam         contp  \\\n",
       "count  1.521787e+06  1.521787e+06  1.521787e+06  1.521787e+06  1.521787e+06   \n",
       "mean   6.008003e+03  8.209027e+04  1.089170e+05  6.547219e+02  4.829368e+00   \n",
       "std    1.502420e+03  4.736249e+04  6.090363e+04  4.028078e+02  6.513408e-01   \n",
       "min    0.000000e+00  1.000000e+00  0.000000e+00  0.000000e+00  0.000000e+00   \n",
       "25%    5.982000e+03  4.140300e+04  5.763500e+04  4.370600e+02  5.000000e+00   \n",
       "50%    6.716000e+03  8.191200e+04  1.097850e+05  5.919000e+02  5.000000e+00   \n",
       "75%    6.769000e+03  1.230590e+05  1.618760e+05  8.073400e+02  5.000000e+00   \n",
       "max    6.884000e+03  1.638840e+05  2.133340e+05  7.208770e+03  6.000000e+00   \n",
       "\n",
       "              csmcu         etymd     fraud_ind         hcefg         iterm  \\\n",
       "count  1.521787e+06  1.521787e+06  1.521787e+06  1.521787e+06  1.521787e+06   \n",
       "mean   5.383324e+01  4.149114e+00  1.337572e-02  4.749410e+00  4.962784e-02   \n",
       "std    2.072135e+01  2.394259e+00  1.148774e-01  1.111927e+00  3.652493e-01   \n",
       "min    0.000000e+00  0.000000e+00  0.000000e+00  0.000000e+00  0.000000e+00   \n",
       "25%    6.200000e+01  2.000000e+00  0.000000e+00  5.000000e+00  0.000000e+00   \n",
       "50%    6.200000e+01  4.000000e+00  0.000000e+00  5.000000e+00  0.000000e+00   \n",
       "75%    6.200000e+01  5.000000e+00  0.000000e+00  5.000000e+00  0.000000e+00   \n",
       "max    7.500000e+01  1.000000e+01  1.000000e+00  9.000000e+00  8.000000e+00   \n",
       "\n",
       "              locdt         loctm           mcc         mchno         scity  \\\n",
       "count  1.521787e+06  1.521787e+06  1.521787e+06  1.521787e+06  1.521787e+06   \n",
       "mean   4.532732e+01  1.463152e+05  2.978089e+02  5.589022e+04  4.755128e+03   \n",
       "std    2.601889e+01  5.212107e+04  7.796778e+01  3.082297e+04  1.979815e+03   \n",
       "min    1.000000e+00  0.000000e+00  0.000000e+00  0.000000e+00  0.000000e+00   \n",
       "25%    2.300000e+01  1.109310e+05  2.500000e+02  3.377400e+04  3.795000e+03   \n",
       "50%    4.500000e+01  1.515220e+05  2.640000e+02  5.936000e+04  5.817000e+03   \n",
       "75%    6.800000e+01  1.858270e+05  3.430000e+02  7.920000e+04  5.817000e+03   \n",
       "max    9.000000e+01  2.359590e+05  4.590000e+02  1.033070e+05  6.671000e+03   \n",
       "\n",
       "              stocn         stscd         txkey  \n",
       "count  1.521787e+06  1.521787e+06  1.521787e+06  \n",
       "mean   9.565116e+01  2.485499e-02  9.711265e+05  \n",
       "std    1.890027e+01  2.216804e-01  5.641322e+05  \n",
       "min    0.000000e+00  0.000000e+00  0.000000e+00  \n",
       "25%    1.020000e+02  0.000000e+00  4.869475e+05  \n",
       "50%    1.020000e+02  0.000000e+00  9.795800e+05  \n",
       "75%    1.020000e+02  0.000000e+00  1.455200e+06  \n",
       "max    1.070000e+02  4.000000e+00  1.958239e+06  "
      ]
     },
     "execution_count": 39,
     "metadata": {},
     "output_type": "execute_result"
    }
   ],
   "source": [
    "train_df.describe()"
   ]
  },
  {
   "cell_type": "code",
   "execution_count": 40,
   "id": "cb0a2dd7",
   "metadata": {},
   "outputs": [],
   "source": [
    "assert len(set(train_df.txkey.to_list())) == 1521787"
   ]
  },
  {
   "cell_type": "code",
   "execution_count": 42,
   "id": "0f866212",
   "metadata": {},
   "outputs": [],
   "source": [
    "val_df = pd.read_csv(\"./val.csv\")"
   ]
  },
  {
   "cell_type": "code",
   "execution_count": 43,
   "id": "6a19499b",
   "metadata": {},
   "outputs": [],
   "source": [
    "assert len(set(val_df.txkey.to_list())) == 421665"
   ]
  },
  {
   "cell_type": "code",
   "execution_count": 48,
   "id": "f3d691ab",
   "metadata": {},
   "outputs": [],
   "source": [
    "assert len(set(val_df.txkey.to_list()).intersection(set(train_df.txkey.to_list())))==0"
   ]
  },
  {
   "cell_type": "markdown",
   "id": "d8d21f58",
   "metadata": {},
   "source": [
    "# Verify Testing Data"
   ]
  },
  {
   "cell_type": "code",
   "execution_count": 50,
   "id": "1dde6368",
   "metadata": {},
   "outputs": [],
   "source": [
    "y_test = pd.read_csv(\"./y_test.csv\")"
   ]
  },
  {
   "cell_type": "code",
   "execution_count": 51,
   "id": "e5cd4786",
   "metadata": {},
   "outputs": [],
   "source": [
    "X_test = pd.read_csv(\"./X_test.csv\")"
   ]
  },
  {
   "cell_type": "code",
   "execution_count": 52,
   "id": "2e225479",
   "metadata": {},
   "outputs": [],
   "source": [
    "assert len(set(X_test.txkey.to_list()).intersection(set(y_test.txkey.to_list()))) == len(set(X_test.txkey.to_list()))"
   ]
  },
  {
   "cell_type": "code",
   "execution_count": null,
   "id": "97301459",
   "metadata": {},
   "outputs": [],
   "source": []
  }
 ],
 "metadata": {
  "kernelspec": {
   "display_name": "Python 3",
   "language": "python",
   "name": "python3"
  },
  "language_info": {
   "codemirror_mode": {
    "name": "ipython",
    "version": 3
   },
   "file_extension": ".py",
   "mimetype": "text/x-python",
   "name": "python",
   "nbconvert_exporter": "python",
   "pygments_lexer": "ipython3",
   "version": "3.8.2"
  }
 },
 "nbformat": 4,
 "nbformat_minor": 5
}
