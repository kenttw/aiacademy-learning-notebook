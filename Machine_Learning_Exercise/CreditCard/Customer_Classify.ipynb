{
 "cells": [
  {
   "cell_type": "markdown",
   "metadata": {
    "id": "8_5id0X4Mpft"
   },
   "source": [
    "# Data loading"
   ]
  },
  {
   "cell_type": "code",
   "execution_count": 1,
   "metadata": {
    "colab": {
     "base_uri": "https://localhost:8080/"
    },
    "id": "8jAIeUhiJSgq",
    "outputId": "714e10ca-0827-493b-d6ac-3c26e0632fb5"
   },
   "outputs": [
    {
     "name": "stdout",
     "output_type": "stream",
     "text": [
      "Drive already mounted at /content/drive; to attempt to forcibly remount, call drive.mount(\"/content/drive\", force_remount=True).\n"
     ]
    }
   ],
   "source": [
    "from google.colab import drive\n",
    "drive.mount('/content/drive')"
   ]
  },
  {
   "cell_type": "code",
   "execution_count": 2,
   "metadata": {
    "id": "8qFtyQtuKKMR"
   },
   "outputs": [],
   "source": [
    "import pandas as pd\n",
    "import numpy as np\n",
    "import seaborn as sns\n",
    "import math\n",
    "\n",
    "from sklearn.model_selection import train_test_split\n",
    "from sklearn import preprocessing\n",
    "from sklearn import metrics"
   ]
  },
  {
   "cell_type": "code",
   "execution_count": 3,
   "metadata": {
    "id": "9f15_NKqLUaJ"
   },
   "outputs": [],
   "source": [
    "train = pd.read_csv('/content/drive/My Drive/Colab Notebooks/CreditCard Fraud Detection Model/E_Sun Data/train_data.csv')\n",
    "test = pd.read_csv('/content/drive/My Drive/Colab Notebooks/CreditCard Fraud Detection Model/E_Sun Data/test.csv')"
   ]
  },
  {
   "cell_type": "code",
   "execution_count": 4,
   "metadata": {},
   "outputs": [],
   "source": [
    "train = pd.read_csv('train.csv')\n",
    "test = pd.read_csv('test.csv')"
   ]
  },
  {
   "cell_type": "code",
   "execution_count": 11,
   "metadata": {},
   "outputs": [
    {
     "name": "stdout",
     "output_type": "stream",
     "text": [
      "train.shape (1521787, 23)\n",
      "test.shape (421665, 23)\n"
     ]
    }
   ],
   "source": [
    "print(\"train.shape\",train.shape)\n",
    "print(\"test.shape\",test.shape)"
   ]
  },
  {
   "cell_type": "markdown",
   "metadata": {},
   "source": [
    "# 資料欄位\n",
    "- acqic - 收單行代碼\n",
    "- bacno - 歸戶帳號\n",
    "- cano - 卡號\n",
    "- conam - 交易金額(台幣)\n",
    "- contp - 交易類別(e.g. 一般交易/刷退...)\n",
    "- csmcu - 消費地幣別\n",
    "- ecfg - 網路交易註記\n",
    "- etymd - 交易型態(e.g. 實體交易/網路交易)\n",
    "- flbmk - Fallback交易註記(預先授權)\n",
    "- flg_3dsmk - 3DS交易驗證註記\n",
    "- hecfg - 支付型態\n",
    "- insfg - 分期交易註記\n",
    "- iterm - 分期期數\n",
    "- locdt - 授權日期\n",
    "- loctm - 授權時間(HHMMSS)\n",
    "- mcc - 特店類別\n",
    "- mchno - 特店名稱\n",
    "- ovrlt - 超額交易註記\n",
    "- scity - 消費地城市\n",
    "- stocn - 消費地國別\n",
    "- stscd - 狀態碼\n",
    "- txkey - 交易序號(唯一值)\n",
    "- fraud_ind - 冒用交易註記(預測目標)"
   ]
  },
  {
   "cell_type": "code",
   "execution_count": 6,
   "metadata": {
    "colab": {
     "base_uri": "https://localhost:8080/",
     "height": 224
    },
    "id": "Sctii1xtp7nF",
    "outputId": "53339c8d-d74d-418f-9e43-8e159adcde12"
   },
   "outputs": [
    {
     "data": {
      "text/html": [
       "<div>\n",
       "<style scoped>\n",
       "    .dataframe tbody tr th:only-of-type {\n",
       "        vertical-align: middle;\n",
       "    }\n",
       "\n",
       "    .dataframe tbody tr th {\n",
       "        vertical-align: top;\n",
       "    }\n",
       "\n",
       "    .dataframe thead th {\n",
       "        text-align: right;\n",
       "    }\n",
       "</style>\n",
       "<table border=\"1\" class=\"dataframe\">\n",
       "  <thead>\n",
       "    <tr style=\"text-align: right;\">\n",
       "      <th></th>\n",
       "      <th>acqic</th>\n",
       "      <th>bacno</th>\n",
       "      <th>cano</th>\n",
       "      <th>conam</th>\n",
       "      <th>contp</th>\n",
       "      <th>csmcu</th>\n",
       "      <th>ecfg</th>\n",
       "      <th>etymd</th>\n",
       "      <th>flbmk</th>\n",
       "      <th>flg_3dsmk</th>\n",
       "      <th>...</th>\n",
       "      <th>iterm</th>\n",
       "      <th>locdt</th>\n",
       "      <th>loctm</th>\n",
       "      <th>mcc</th>\n",
       "      <th>mchno</th>\n",
       "      <th>ovrlt</th>\n",
       "      <th>scity</th>\n",
       "      <th>stocn</th>\n",
       "      <th>stscd</th>\n",
       "      <th>txkey</th>\n",
       "    </tr>\n",
       "  </thead>\n",
       "  <tbody>\n",
       "    <tr>\n",
       "      <th>0</th>\n",
       "      <td>6881</td>\n",
       "      <td>113261</td>\n",
       "      <td>38038</td>\n",
       "      <td>513.80</td>\n",
       "      <td>5</td>\n",
       "      <td>0</td>\n",
       "      <td>N</td>\n",
       "      <td>0</td>\n",
       "      <td>N</td>\n",
       "      <td>N</td>\n",
       "      <td>...</td>\n",
       "      <td>0</td>\n",
       "      <td>33</td>\n",
       "      <td>172652.0</td>\n",
       "      <td>457</td>\n",
       "      <td>59333</td>\n",
       "      <td>N</td>\n",
       "      <td>0</td>\n",
       "      <td>102</td>\n",
       "      <td>0</td>\n",
       "      <td>516056</td>\n",
       "    </tr>\n",
       "    <tr>\n",
       "      <th>1</th>\n",
       "      <td>0</td>\n",
       "      <td>134508</td>\n",
       "      <td>45725</td>\n",
       "      <td>465.62</td>\n",
       "      <td>5</td>\n",
       "      <td>0</td>\n",
       "      <td>N</td>\n",
       "      <td>2</td>\n",
       "      <td>N</td>\n",
       "      <td>N</td>\n",
       "      <td>...</td>\n",
       "      <td>0</td>\n",
       "      <td>9</td>\n",
       "      <td>105114.0</td>\n",
       "      <td>451</td>\n",
       "      <td>0</td>\n",
       "      <td>N</td>\n",
       "      <td>5817</td>\n",
       "      <td>102</td>\n",
       "      <td>0</td>\n",
       "      <td>4376</td>\n",
       "    </tr>\n",
       "    <tr>\n",
       "      <th>2</th>\n",
       "      <td>6881</td>\n",
       "      <td>15408</td>\n",
       "      <td>188328</td>\n",
       "      <td>513.80</td>\n",
       "      <td>5</td>\n",
       "      <td>0</td>\n",
       "      <td>N</td>\n",
       "      <td>0</td>\n",
       "      <td>N</td>\n",
       "      <td>N</td>\n",
       "      <td>...</td>\n",
       "      <td>0</td>\n",
       "      <td>6</td>\n",
       "      <td>152458.0</td>\n",
       "      <td>457</td>\n",
       "      <td>59333</td>\n",
       "      <td>N</td>\n",
       "      <td>0</td>\n",
       "      <td>102</td>\n",
       "      <td>0</td>\n",
       "      <td>483434</td>\n",
       "    </tr>\n",
       "    <tr>\n",
       "      <th>3</th>\n",
       "      <td>6716</td>\n",
       "      <td>157159</td>\n",
       "      <td>29967</td>\n",
       "      <td>1016.11</td>\n",
       "      <td>5</td>\n",
       "      <td>62</td>\n",
       "      <td>N</td>\n",
       "      <td>5</td>\n",
       "      <td>N</td>\n",
       "      <td>N</td>\n",
       "      <td>...</td>\n",
       "      <td>0</td>\n",
       "      <td>5</td>\n",
       "      <td>172946.0</td>\n",
       "      <td>247</td>\n",
       "      <td>50436</td>\n",
       "      <td>N</td>\n",
       "      <td>3281</td>\n",
       "      <td>102</td>\n",
       "      <td>0</td>\n",
       "      <td>1407164</td>\n",
       "    </tr>\n",
       "    <tr>\n",
       "      <th>4</th>\n",
       "      <td>5975</td>\n",
       "      <td>105985</td>\n",
       "      <td>81305</td>\n",
       "      <td>713.66</td>\n",
       "      <td>5</td>\n",
       "      <td>62</td>\n",
       "      <td>N</td>\n",
       "      <td>4</td>\n",
       "      <td>N</td>\n",
       "      <td>N</td>\n",
       "      <td>...</td>\n",
       "      <td>0</td>\n",
       "      <td>6</td>\n",
       "      <td>182129.0</td>\n",
       "      <td>263</td>\n",
       "      <td>93775</td>\n",
       "      <td>N</td>\n",
       "      <td>5817</td>\n",
       "      <td>102</td>\n",
       "      <td>0</td>\n",
       "      <td>1051004</td>\n",
       "    </tr>\n",
       "  </tbody>\n",
       "</table>\n",
       "<p>5 rows × 23 columns</p>\n",
       "</div>"
      ],
      "text/plain": [
       "   acqic   bacno    cano    conam  contp  csmcu ecfg  etymd flbmk flg_3dsmk  \\\n",
       "0   6881  113261   38038   513.80      5      0    N      0     N         N   \n",
       "1      0  134508   45725   465.62      5      0    N      2     N         N   \n",
       "2   6881   15408  188328   513.80      5      0    N      0     N         N   \n",
       "3   6716  157159   29967  1016.11      5     62    N      5     N         N   \n",
       "4   5975  105985   81305   713.66      5     62    N      4     N         N   \n",
       "\n",
       "   ...  iterm  locdt     loctm  mcc  mchno  ovrlt  scity  stocn stscd    txkey  \n",
       "0  ...      0     33  172652.0  457  59333      N      0    102     0   516056  \n",
       "1  ...      0      9  105114.0  451      0      N   5817    102     0     4376  \n",
       "2  ...      0      6  152458.0  457  59333      N      0    102     0   483434  \n",
       "3  ...      0      5  172946.0  247  50436      N   3281    102     0  1407164  \n",
       "4  ...      0      6  182129.0  263  93775      N   5817    102     0  1051004  \n",
       "\n",
       "[5 rows x 23 columns]"
      ]
     },
     "execution_count": 6,
     "metadata": {},
     "output_type": "execute_result"
    }
   ],
   "source": [
    "train.head(5)"
   ]
  },
  {
   "cell_type": "code",
   "execution_count": 7,
   "metadata": {
    "colab": {
     "base_uri": "https://localhost:8080/",
     "height": 224
    },
    "id": "awzFAmtHqBCl",
    "outputId": "5c691d07-1a06-4b13-bfa3-57bc4ce03c73"
   },
   "outputs": [
    {
     "data": {
      "text/html": [
       "<div>\n",
       "<style scoped>\n",
       "    .dataframe tbody tr th:only-of-type {\n",
       "        vertical-align: middle;\n",
       "    }\n",
       "\n",
       "    .dataframe tbody tr th {\n",
       "        vertical-align: top;\n",
       "    }\n",
       "\n",
       "    .dataframe thead th {\n",
       "        text-align: right;\n",
       "    }\n",
       "</style>\n",
       "<table border=\"1\" class=\"dataframe\">\n",
       "  <thead>\n",
       "    <tr style=\"text-align: right;\">\n",
       "      <th></th>\n",
       "      <th>acqic</th>\n",
       "      <th>bacno</th>\n",
       "      <th>cano</th>\n",
       "      <th>conam</th>\n",
       "      <th>contp</th>\n",
       "      <th>csmcu</th>\n",
       "      <th>ecfg</th>\n",
       "      <th>etymd</th>\n",
       "      <th>flbmk</th>\n",
       "      <th>flg_3dsmk</th>\n",
       "      <th>...</th>\n",
       "      <th>iterm</th>\n",
       "      <th>locdt</th>\n",
       "      <th>loctm</th>\n",
       "      <th>mcc</th>\n",
       "      <th>mchno</th>\n",
       "      <th>ovrlt</th>\n",
       "      <th>scity</th>\n",
       "      <th>stocn</th>\n",
       "      <th>stscd</th>\n",
       "      <th>txkey</th>\n",
       "    </tr>\n",
       "  </thead>\n",
       "  <tbody>\n",
       "    <tr>\n",
       "      <th>0</th>\n",
       "      <td>6881</td>\n",
       "      <td>163188</td>\n",
       "      <td>116799</td>\n",
       "      <td>513.8</td>\n",
       "      <td>5</td>\n",
       "      <td>0</td>\n",
       "      <td>N</td>\n",
       "      <td>0</td>\n",
       "      <td>N</td>\n",
       "      <td>N</td>\n",
       "      <td>...</td>\n",
       "      <td>0</td>\n",
       "      <td>102</td>\n",
       "      <td>215328.0</td>\n",
       "      <td>457</td>\n",
       "      <td>59360</td>\n",
       "      <td>N</td>\n",
       "      <td>0</td>\n",
       "      <td>102</td>\n",
       "      <td>0</td>\n",
       "      <td>592489</td>\n",
       "    </tr>\n",
       "    <tr>\n",
       "      <th>1</th>\n",
       "      <td>6881</td>\n",
       "      <td>163188</td>\n",
       "      <td>116799</td>\n",
       "      <td>513.8</td>\n",
       "      <td>5</td>\n",
       "      <td>0</td>\n",
       "      <td>N</td>\n",
       "      <td>0</td>\n",
       "      <td>N</td>\n",
       "      <td>N</td>\n",
       "      <td>...</td>\n",
       "      <td>0</td>\n",
       "      <td>102</td>\n",
       "      <td>222007.0</td>\n",
       "      <td>457</td>\n",
       "      <td>59360</td>\n",
       "      <td>N</td>\n",
       "      <td>0</td>\n",
       "      <td>102</td>\n",
       "      <td>0</td>\n",
       "      <td>592452</td>\n",
       "    </tr>\n",
       "    <tr>\n",
       "      <th>2</th>\n",
       "      <td>6881</td>\n",
       "      <td>163188</td>\n",
       "      <td>116799</td>\n",
       "      <td>513.8</td>\n",
       "      <td>5</td>\n",
       "      <td>0</td>\n",
       "      <td>N</td>\n",
       "      <td>0</td>\n",
       "      <td>N</td>\n",
       "      <td>N</td>\n",
       "      <td>...</td>\n",
       "      <td>0</td>\n",
       "      <td>100</td>\n",
       "      <td>170013.0</td>\n",
       "      <td>457</td>\n",
       "      <td>59360</td>\n",
       "      <td>N</td>\n",
       "      <td>0</td>\n",
       "      <td>102</td>\n",
       "      <td>0</td>\n",
       "      <td>590212</td>\n",
       "    </tr>\n",
       "    <tr>\n",
       "      <th>3</th>\n",
       "      <td>6881</td>\n",
       "      <td>163188</td>\n",
       "      <td>116799</td>\n",
       "      <td>513.8</td>\n",
       "      <td>5</td>\n",
       "      <td>0</td>\n",
       "      <td>N</td>\n",
       "      <td>0</td>\n",
       "      <td>N</td>\n",
       "      <td>N</td>\n",
       "      <td>...</td>\n",
       "      <td>0</td>\n",
       "      <td>100</td>\n",
       "      <td>165914.0</td>\n",
       "      <td>457</td>\n",
       "      <td>59360</td>\n",
       "      <td>N</td>\n",
       "      <td>0</td>\n",
       "      <td>102</td>\n",
       "      <td>0</td>\n",
       "      <td>590209</td>\n",
       "    </tr>\n",
       "    <tr>\n",
       "      <th>4</th>\n",
       "      <td>6881</td>\n",
       "      <td>163188</td>\n",
       "      <td>116799</td>\n",
       "      <td>513.8</td>\n",
       "      <td>5</td>\n",
       "      <td>0</td>\n",
       "      <td>N</td>\n",
       "      <td>0</td>\n",
       "      <td>N</td>\n",
       "      <td>N</td>\n",
       "      <td>...</td>\n",
       "      <td>0</td>\n",
       "      <td>102</td>\n",
       "      <td>215311.0</td>\n",
       "      <td>457</td>\n",
       "      <td>59360</td>\n",
       "      <td>N</td>\n",
       "      <td>0</td>\n",
       "      <td>102</td>\n",
       "      <td>0</td>\n",
       "      <td>592488</td>\n",
       "    </tr>\n",
       "  </tbody>\n",
       "</table>\n",
       "<p>5 rows × 22 columns</p>\n",
       "</div>"
      ],
      "text/plain": [
       "   acqic   bacno    cano  conam  contp  csmcu ecfg  etymd flbmk flg_3dsmk  \\\n",
       "0   6881  163188  116799  513.8      5      0    N      0     N         N   \n",
       "1   6881  163188  116799  513.8      5      0    N      0     N         N   \n",
       "2   6881  163188  116799  513.8      5      0    N      0     N         N   \n",
       "3   6881  163188  116799  513.8      5      0    N      0     N         N   \n",
       "4   6881  163188  116799  513.8      5      0    N      0     N         N   \n",
       "\n",
       "   ...  iterm locdt     loctm  mcc  mchno  ovrlt  scity stocn  stscd   txkey  \n",
       "0  ...      0   102  215328.0  457  59360      N      0   102      0  592489  \n",
       "1  ...      0   102  222007.0  457  59360      N      0   102      0  592452  \n",
       "2  ...      0   100  170013.0  457  59360      N      0   102      0  590212  \n",
       "3  ...      0   100  165914.0  457  59360      N      0   102      0  590209  \n",
       "4  ...      0   102  215311.0  457  59360      N      0   102      0  592488  \n",
       "\n",
       "[5 rows x 22 columns]"
      ]
     },
     "execution_count": 7,
     "metadata": {},
     "output_type": "execute_result"
    }
   ],
   "source": [
    "test.head(5)"
   ]
  },
  {
   "cell_type": "code",
   "execution_count": 9,
   "metadata": {
    "id": "oKL9_8FYqOHE"
   },
   "outputs": [],
   "source": [
    "# 把目標值蓋掉\n",
    "test['fraud_ind'] = -1"
   ]
  },
  {
   "cell_type": "code",
   "execution_count": 10,
   "metadata": {
    "colab": {
     "base_uri": "https://localhost:8080/"
    },
    "id": "T8cFeRDjrvuK",
    "outputId": "baae90a0-bb02-487c-8205-3765a38357b4"
   },
   "outputs": [],
   "source": [
    "df = pd.concat([train, test])"
   ]
  },
  {
   "cell_type": "code",
   "execution_count": 8,
   "metadata": {
    "colab": {
     "base_uri": "https://localhost:8080/"
    },
    "id": "0uwypwAqMYtR",
    "outputId": "29dbb735-ddab-4f97-b3ef-8eab3f12147c"
   },
   "outputs": [
    {
     "data": {
      "text/plain": [
       "(1943452, 23)"
      ]
     },
     "execution_count": 8,
     "metadata": {
      "tags": []
     },
     "output_type": "execute_result"
    }
   ],
   "source": [
    "df.shape"
   ]
  },
  {
   "cell_type": "markdown",
   "metadata": {
    "id": "yXwKC0MGM0wn"
   },
   "source": [
    "**資料說明**   \n",
    "*  總比數：1943452\n",
    "*  授權期間：1-120日  \n",
    "*  訓練集：1-90日  \n",
    "*  測試集：91-120日\n",
    "---\n",
    "**欄位說明**\n",
    "\n",
    "*   bacno：歸戶帳號\n",
    "*   txkey：交易序號\n",
    "*   locdt：授權日期\n",
    "*   loctm：授權時間\n",
    "*   cano：交易卡號\n",
    "*   etymd：交易型態\n",
    "*   mchno：特店代號\n",
    "*   acqic：收單行代碼\n",
    "*   mcc：MCC_CODE\n",
    "*   conam：交易金額-台幣 (經過轉換)\n",
    "*   ecfg：網路交易註記\n",
    "*   insfg：分期交易註記\n",
    "*   iterm：分期期數\n",
    "*   stocn：消費地國別\n",
    "*   scity：消費城市\n",
    "*   stscd：狀態碼\n",
    "*   ovrlt：超額註記碼\n",
    "*   flbmk：Fallback 註記\n",
    "*   hcefg：支付形態\n",
    "*   csmcu：消費地幣別\n",
    "*   flg_3dsmk：3DS 交易註記\n",
    "\n",
    "*   fraud_ind：盜刷註記\n",
    "\n"
   ]
  },
  {
   "cell_type": "code",
   "execution_count": 9,
   "metadata": {
    "colab": {
     "base_uri": "https://localhost:8080/",
     "height": 317
    },
    "id": "ems2IAi5SJeS",
    "outputId": "8710277d-0b4b-4e28-cd91-70b5f8ac0612"
   },
   "outputs": [
    {
     "data": {
      "text/html": [
       "<div>\n",
       "<style scoped>\n",
       "    .dataframe tbody tr th:only-of-type {\n",
       "        vertical-align: middle;\n",
       "    }\n",
       "\n",
       "    .dataframe tbody tr th {\n",
       "        vertical-align: top;\n",
       "    }\n",
       "\n",
       "    .dataframe thead th {\n",
       "        text-align: right;\n",
       "    }\n",
       "</style>\n",
       "<table border=\"1\" class=\"dataframe\">\n",
       "  <thead>\n",
       "    <tr style=\"text-align: right;\">\n",
       "      <th></th>\n",
       "      <th>acqic</th>\n",
       "      <th>bacno</th>\n",
       "      <th>cano</th>\n",
       "      <th>conam</th>\n",
       "      <th>contp</th>\n",
       "      <th>csmcu</th>\n",
       "      <th>etymd</th>\n",
       "      <th>fraud_ind</th>\n",
       "      <th>hcefg</th>\n",
       "      <th>iterm</th>\n",
       "      <th>locdt</th>\n",
       "      <th>loctm</th>\n",
       "      <th>mcc</th>\n",
       "      <th>mchno</th>\n",
       "      <th>scity</th>\n",
       "      <th>stocn</th>\n",
       "      <th>stscd</th>\n",
       "      <th>txkey</th>\n",
       "    </tr>\n",
       "  </thead>\n",
       "  <tbody>\n",
       "    <tr>\n",
       "      <th>count</th>\n",
       "      <td>1.943452e+06</td>\n",
       "      <td>1.943452e+06</td>\n",
       "      <td>1.943452e+06</td>\n",
       "      <td>1.943452e+06</td>\n",
       "      <td>1.943452e+06</td>\n",
       "      <td>1.943452e+06</td>\n",
       "      <td>1.943452e+06</td>\n",
       "      <td>1.943452e+06</td>\n",
       "      <td>1.943452e+06</td>\n",
       "      <td>1.943452e+06</td>\n",
       "      <td>1.943452e+06</td>\n",
       "      <td>1.943452e+06</td>\n",
       "      <td>1.943452e+06</td>\n",
       "      <td>1.943452e+06</td>\n",
       "      <td>1.943452e+06</td>\n",
       "      <td>1.943452e+06</td>\n",
       "      <td>1.943452e+06</td>\n",
       "      <td>1.943452e+06</td>\n",
       "    </tr>\n",
       "    <tr>\n",
       "      <th>mean</th>\n",
       "      <td>6.004543e+03</td>\n",
       "      <td>8.208741e+04</td>\n",
       "      <td>1.090453e+05</td>\n",
       "      <td>6.516174e+02</td>\n",
       "      <td>4.825625e+00</td>\n",
       "      <td>5.378875e+01</td>\n",
       "      <td>4.142680e+00</td>\n",
       "      <td>-2.064934e-01</td>\n",
       "      <td>4.748365e+00</td>\n",
       "      <td>4.841128e-02</td>\n",
       "      <td>5.839281e+01</td>\n",
       "      <td>1.460061e+05</td>\n",
       "      <td>2.979138e+02</td>\n",
       "      <td>5.589230e+04</td>\n",
       "      <td>4.754399e+03</td>\n",
       "      <td>9.562308e+01</td>\n",
       "      <td>2.475286e-02</td>\n",
       "      <td>9.791667e+05</td>\n",
       "    </tr>\n",
       "    <tr>\n",
       "      <th>std</th>\n",
       "      <td>1.505735e+03</td>\n",
       "      <td>4.732348e+04</td>\n",
       "      <td>6.110356e+04</td>\n",
       "      <td>4.032183e+02</td>\n",
       "      <td>6.557577e-01</td>\n",
       "      <td>2.076681e+01</td>\n",
       "      <td>2.402570e+00</td>\n",
       "      <td>4.298851e-01</td>\n",
       "      <td>1.114383e+00</td>\n",
       "      <td>3.615652e-01</td>\n",
       "      <td>3.409522e+01</td>\n",
       "      <td>5.227967e+04</td>\n",
       "      <td>7.841150e+01</td>\n",
       "      <td>3.082944e+04</td>\n",
       "      <td>1.982351e+03</td>\n",
       "      <td>1.896446e+01</td>\n",
       "      <td>2.211643e-01</td>\n",
       "      <td>5.654969e+05</td>\n",
       "    </tr>\n",
       "    <tr>\n",
       "      <th>min</th>\n",
       "      <td>0.000000e+00</td>\n",
       "      <td>0.000000e+00</td>\n",
       "      <td>0.000000e+00</td>\n",
       "      <td>0.000000e+00</td>\n",
       "      <td>0.000000e+00</td>\n",
       "      <td>0.000000e+00</td>\n",
       "      <td>0.000000e+00</td>\n",
       "      <td>-1.000000e+00</td>\n",
       "      <td>0.000000e+00</td>\n",
       "      <td>0.000000e+00</td>\n",
       "      <td>1.000000e+00</td>\n",
       "      <td>0.000000e+00</td>\n",
       "      <td>0.000000e+00</td>\n",
       "      <td>0.000000e+00</td>\n",
       "      <td>0.000000e+00</td>\n",
       "      <td>0.000000e+00</td>\n",
       "      <td>0.000000e+00</td>\n",
       "      <td>0.000000e+00</td>\n",
       "    </tr>\n",
       "    <tr>\n",
       "      <th>25%</th>\n",
       "      <td>5.982000e+03</td>\n",
       "      <td>4.129400e+04</td>\n",
       "      <td>5.751900e+04</td>\n",
       "      <td>4.300400e+02</td>\n",
       "      <td>5.000000e+00</td>\n",
       "      <td>6.200000e+01</td>\n",
       "      <td>2.000000e+00</td>\n",
       "      <td>0.000000e+00</td>\n",
       "      <td>5.000000e+00</td>\n",
       "      <td>0.000000e+00</td>\n",
       "      <td>2.900000e+01</td>\n",
       "      <td>1.104500e+05</td>\n",
       "      <td>2.500000e+02</td>\n",
       "      <td>3.362500e+04</td>\n",
       "      <td>3.952000e+03</td>\n",
       "      <td>1.020000e+02</td>\n",
       "      <td>0.000000e+00</td>\n",
       "      <td>4.896218e+05</td>\n",
       "    </tr>\n",
       "    <tr>\n",
       "      <th>50%</th>\n",
       "      <td>6.678000e+03</td>\n",
       "      <td>8.196600e+04</td>\n",
       "      <td>1.099410e+05</td>\n",
       "      <td>5.887500e+02</td>\n",
       "      <td>5.000000e+00</td>\n",
       "      <td>6.200000e+01</td>\n",
       "      <td>4.000000e+00</td>\n",
       "      <td>0.000000e+00</td>\n",
       "      <td>5.000000e+00</td>\n",
       "      <td>0.000000e+00</td>\n",
       "      <td>5.800000e+01</td>\n",
       "      <td>1.513290e+05</td>\n",
       "      <td>2.640000e+02</td>\n",
       "      <td>5.933300e+04</td>\n",
       "      <td>5.817000e+03</td>\n",
       "      <td>1.020000e+02</td>\n",
       "      <td>0.000000e+00</td>\n",
       "      <td>9.794235e+05</td>\n",
       "    </tr>\n",
       "    <tr>\n",
       "      <th>75%</th>\n",
       "      <td>6.769000e+03</td>\n",
       "      <td>1.229640e+05</td>\n",
       "      <td>1.621700e+05</td>\n",
       "      <td>8.025400e+02</td>\n",
       "      <td>5.000000e+00</td>\n",
       "      <td>6.200000e+01</td>\n",
       "      <td>5.000000e+00</td>\n",
       "      <td>0.000000e+00</td>\n",
       "      <td>5.000000e+00</td>\n",
       "      <td>0.000000e+00</td>\n",
       "      <td>8.700000e+01</td>\n",
       "      <td>1.857550e+05</td>\n",
       "      <td>3.430000e+02</td>\n",
       "      <td>7.920000e+04</td>\n",
       "      <td>5.817000e+03</td>\n",
       "      <td>1.020000e+02</td>\n",
       "      <td>0.000000e+00</td>\n",
       "      <td>1.468711e+06</td>\n",
       "    </tr>\n",
       "    <tr>\n",
       "      <th>max</th>\n",
       "      <td>6.884000e+03</td>\n",
       "      <td>1.638860e+05</td>\n",
       "      <td>2.135750e+05</td>\n",
       "      <td>7.208770e+03</td>\n",
       "      <td>6.000000e+00</td>\n",
       "      <td>7.500000e+01</td>\n",
       "      <td>1.000000e+01</td>\n",
       "      <td>1.000000e+00</td>\n",
       "      <td>9.000000e+00</td>\n",
       "      <td>8.000000e+00</td>\n",
       "      <td>1.200000e+02</td>\n",
       "      <td>2.359590e+05</td>\n",
       "      <td>4.590000e+02</td>\n",
       "      <td>1.033070e+05</td>\n",
       "      <td>6.671000e+03</td>\n",
       "      <td>1.080000e+02</td>\n",
       "      <td>4.000000e+00</td>\n",
       "      <td>1.959018e+06</td>\n",
       "    </tr>\n",
       "  </tbody>\n",
       "</table>\n",
       "</div>"
      ],
      "text/plain": [
       "              acqic         bacno  ...         stscd         txkey\n",
       "count  1.943452e+06  1.943452e+06  ...  1.943452e+06  1.943452e+06\n",
       "mean   6.004543e+03  8.208741e+04  ...  2.475286e-02  9.791667e+05\n",
       "std    1.505735e+03  4.732348e+04  ...  2.211643e-01  5.654969e+05\n",
       "min    0.000000e+00  0.000000e+00  ...  0.000000e+00  0.000000e+00\n",
       "25%    5.982000e+03  4.129400e+04  ...  0.000000e+00  4.896218e+05\n",
       "50%    6.678000e+03  8.196600e+04  ...  0.000000e+00  9.794235e+05\n",
       "75%    6.769000e+03  1.229640e+05  ...  0.000000e+00  1.468711e+06\n",
       "max    6.884000e+03  1.638860e+05  ...  4.000000e+00  1.959018e+06\n",
       "\n",
       "[8 rows x 18 columns]"
      ]
     },
     "execution_count": 9,
     "metadata": {
      "tags": []
     },
     "output_type": "execute_result"
    }
   ],
   "source": [
    "df.describe()"
   ]
  },
  {
   "cell_type": "markdown",
   "metadata": {
    "id": "ZmXOrLMKZ01Y"
   },
   "source": [
    "# Data Preprocessing"
   ]
  },
  {
   "cell_type": "code",
   "execution_count": 12,
   "metadata": {
    "id": "H2Cz9JqQiA2W"
   },
   "outputs": [],
   "source": [
    "#locdt\n",
    "df['weekday'] = df['locdt'] % 7"
   ]
  },
  {
   "cell_type": "code",
   "execution_count": 13,
   "metadata": {
    "id": "smbKEd8hcvLI"
   },
   "outputs": [],
   "source": [
    "##loctm\n",
    "df['loctm_hh'] = df['loctm'].apply(lambda x: math.floor(x/10000))\n",
    "df['loctm_mm'] = df['loctm'].apply(lambda x: math.floor(x/100)-math.floor(x/10000)*100)\n",
    "df['loctm_ss'] = df['loctm'].apply(lambda x: math.floor(x)-math.floor(x/100)*100)"
   ]
  },
  {
   "cell_type": "code",
   "execution_count": 14,
   "metadata": {
    "id": "IcZ6Xzm--pB5"
   },
   "outputs": [],
   "source": [
    "#change to boolean\n",
    "df['ecfg'] = df['ecfg'].map({'N':False, 'Y':True})\n",
    "df['flbmk'] = df['flbmk'].map({'N':False, 'Y':True})\n",
    "df['flg_3dsmk'] = df['flg_3dsmk'].map({'N':False, 'Y':True})\n",
    "df['insfg'] = df['insfg'].map({'N':False, 'Y':True})\n",
    "df['ovrlt'] = df['ovrlt'].map({'N':False, 'Y':True})\n",
    "df['fraud_ind'] = df['fraud_ind'].map({0:False, 1:True})"
   ]
  },
  {
   "cell_type": "code",
   "execution_count": 15,
   "metadata": {
    "id": "RyKUbR5H8tUi"
   },
   "outputs": [],
   "source": [
    "#change to object\n",
    "\n",
    "cat_cols = ['acqic','bacno','cano','contp','csmcu','etymd',\n",
    "            'hcefg',\n",
    "            'mcc','mchno','scity','stocn','stscd','txkey']\n",
    "bool_cols = ['ecfg','flbmk','flg_3dsmk','insfg','ovrlt']\n",
    "num_cols = ['conam','iterm','locdt','loctm','weekday','loctm_hh','loctm_mm','loctm_ss']\n",
    "df[cat_cols] = df[cat_cols].astype('object')      "
   ]
  },
  {
   "cell_type": "code",
   "execution_count": 16,
   "metadata": {
    "colab": {
     "base_uri": "https://localhost:8080/"
    },
    "id": "haDNQsBuJjFl",
    "outputId": "b9f1ee62-e9b2-4356-8d87-f26de562f6e6"
   },
   "outputs": [
    {
     "data": {
      "text/plain": [
       "acqic         object\n",
       "bacno         object\n",
       "cano          object\n",
       "conam        float64\n",
       "contp         object\n",
       "csmcu         object\n",
       "ecfg            bool\n",
       "etymd         object\n",
       "flbmk         object\n",
       "flg_3dsmk     object\n",
       "fraud_ind     object\n",
       "hcefg         object\n",
       "insfg           bool\n",
       "iterm          int64\n",
       "locdt          int64\n",
       "loctm        float64\n",
       "mcc           object\n",
       "mchno         object\n",
       "ovrlt           bool\n",
       "scity         object\n",
       "stocn         object\n",
       "stscd         object\n",
       "txkey         object\n",
       "weekday        int64\n",
       "loctm_hh       int64\n",
       "loctm_mm       int64\n",
       "loctm_ss       int64\n",
       "dtype: object"
      ]
     },
     "execution_count": 16,
     "metadata": {},
     "output_type": "execute_result"
    }
   ],
   "source": [
    "df.dtypes"
   ]
  },
  {
   "cell_type": "markdown",
   "metadata": {
    "id": "V-Cr9SQLcOEK"
   },
   "source": [
    "# EDA"
   ]
  },
  {
   "cell_type": "markdown",
   "metadata": {
    "id": "oIiPB_uut8Ll"
   },
   "source": [
    "## pandas_profiling"
   ]
  },
  {
   "cell_type": "code",
   "execution_count": 18,
   "metadata": {
    "colab": {
     "base_uri": "https://localhost:8080/",
     "height": 140
    },
    "id": "7fqFKBUefOwc",
    "outputId": "2b8cec9c-8c1a-4302-8b7b-c340afa07847"
   },
   "outputs": [
    {
     "data": {
      "text/plain": [
       "'1.1.2'"
      ]
     },
     "execution_count": 18,
     "metadata": {},
     "output_type": "execute_result"
    }
   ],
   "source": [
    "## EDA with pandas_profiling (使用pandas 1.0有bug, 因此先降版為0.25.0)\n",
    "# !pip install pandas==0.25.0\n",
    "import pandas as pd\n",
    "import pandas_profiling as pdp\n",
    "pd.__version__"
   ]
  },
  {
   "cell_type": "code",
   "execution_count": null,
   "metadata": {
    "colab": {
     "base_uri": "https://localhost:8080/"
    },
    "id": "70F3K5FffcC0",
    "outputId": "e4534bdc-61e6-4cfd-d78c-fc3a2b0afc4f"
   },
   "outputs": [],
   "source": [
    "profile_train = pdp.ProfileReport(df)\n",
    "!mkdir -p ./EDA/"
   ]
  },
  {
   "cell_type": "code",
   "execution_count": 20,
   "metadata": {
    "colab": {
     "base_uri": "https://localhost:8080/"
    },
    "id": "70F3K5FffcC0",
    "outputId": "e4534bdc-61e6-4cfd-d78c-fc3a2b0afc4f"
   },
   "outputs": [
    {
     "data": {
      "application/vnd.jupyter.widget-view+json": {
       "model_id": "47322906a57444929b68540e4d773923",
       "version_major": 2,
       "version_minor": 0
      },
      "text/plain": [
       "Export report to file:   0%|          | 0/1 [00:00<?, ?it/s]"
      ]
     },
     "metadata": {},
     "output_type": "display_data"
    }
   ],
   "source": [
    "profile_train.to_file(\"./EDA/df_all_EDA.html\")"
   ]
  },
  {
   "cell_type": "markdown",
   "metadata": {
    "id": "5Fpxb5R1mD6A"
   },
   "source": [
    "# Customer Classify"
   ]
  },
  {
   "cell_type": "markdown",
   "metadata": {
    "id": "nGgQmMk4mIbE"
   },
   "source": [
    "## Card Type\n",
    "\n",
    "\n",
    "---\n",
    "\n",
    "前提假設：假定顧客皆為理性消費者，會根據信用卡的權益內容選定適合的信用卡進行消費  \n",
    "\b根據玉山銀行信用卡產品，主要分為以下三類：  \n",
    "*   聯名卡：針對聯名特店進行消費（ex: 家樂福聯名卡、南山人壽聯名\b卡、統一時代聯名卡等）\n",
    "*   海外消費：\b針對\b海外交易進行消費\b（ex: 雙幣卡、only卡）\n",
    "*   一般消費：Pi 拍錢包信用卡、UBear信用卡（針對數位通路.超商等消費加碼回饋）\n",
    "\n",
    "分類基準：\n",
    "*   是否為海外消費\n",
    "*   是否為網購\n",
    "*   MCC消費種類數\n",
    "\n",
    "\n",
    "\n",
    "\n"
   ]
  },
  {
   "cell_type": "code",
   "execution_count": 21,
   "metadata": {
    "colab": {
     "base_uri": "https://localhost:8080/",
     "height": 224
    },
    "id": "9zH9F3JGjFpv",
    "outputId": "f7aff34f-19a9-46a6-fe7e-1960397b3098"
   },
   "outputs": [
    {
     "data": {
      "text/html": [
       "<div>\n",
       "<style scoped>\n",
       "    .dataframe tbody tr th:only-of-type {\n",
       "        vertical-align: middle;\n",
       "    }\n",
       "\n",
       "    .dataframe tbody tr th {\n",
       "        vertical-align: top;\n",
       "    }\n",
       "\n",
       "    .dataframe thead th {\n",
       "        text-align: right;\n",
       "    }\n",
       "</style>\n",
       "<table border=\"1\" class=\"dataframe\">\n",
       "  <thead>\n",
       "    <tr style=\"text-align: right;\">\n",
       "      <th></th>\n",
       "      <th>acqic</th>\n",
       "      <th>bacno</th>\n",
       "      <th>cano</th>\n",
       "      <th>conam</th>\n",
       "      <th>contp</th>\n",
       "      <th>csmcu</th>\n",
       "      <th>ecfg</th>\n",
       "      <th>etymd</th>\n",
       "      <th>flbmk</th>\n",
       "      <th>flg_3dsmk</th>\n",
       "      <th>...</th>\n",
       "      <th>mchno</th>\n",
       "      <th>ovrlt</th>\n",
       "      <th>scity</th>\n",
       "      <th>stocn</th>\n",
       "      <th>stscd</th>\n",
       "      <th>txkey</th>\n",
       "      <th>weekday</th>\n",
       "      <th>loctm_hh</th>\n",
       "      <th>loctm_mm</th>\n",
       "      <th>loctm_ss</th>\n",
       "    </tr>\n",
       "  </thead>\n",
       "  <tbody>\n",
       "    <tr>\n",
       "      <th>0</th>\n",
       "      <td>6881</td>\n",
       "      <td>113261</td>\n",
       "      <td>38038</td>\n",
       "      <td>513.80</td>\n",
       "      <td>5</td>\n",
       "      <td>0</td>\n",
       "      <td>False</td>\n",
       "      <td>0</td>\n",
       "      <td>False</td>\n",
       "      <td>False</td>\n",
       "      <td>...</td>\n",
       "      <td>59333</td>\n",
       "      <td>False</td>\n",
       "      <td>0</td>\n",
       "      <td>102</td>\n",
       "      <td>0</td>\n",
       "      <td>516056</td>\n",
       "      <td>5</td>\n",
       "      <td>17</td>\n",
       "      <td>26</td>\n",
       "      <td>52</td>\n",
       "    </tr>\n",
       "    <tr>\n",
       "      <th>1</th>\n",
       "      <td>0</td>\n",
       "      <td>134508</td>\n",
       "      <td>45725</td>\n",
       "      <td>465.62</td>\n",
       "      <td>5</td>\n",
       "      <td>0</td>\n",
       "      <td>False</td>\n",
       "      <td>2</td>\n",
       "      <td>False</td>\n",
       "      <td>False</td>\n",
       "      <td>...</td>\n",
       "      <td>0</td>\n",
       "      <td>False</td>\n",
       "      <td>5817</td>\n",
       "      <td>102</td>\n",
       "      <td>0</td>\n",
       "      <td>4376</td>\n",
       "      <td>2</td>\n",
       "      <td>10</td>\n",
       "      <td>51</td>\n",
       "      <td>14</td>\n",
       "    </tr>\n",
       "    <tr>\n",
       "      <th>2</th>\n",
       "      <td>6881</td>\n",
       "      <td>15408</td>\n",
       "      <td>188328</td>\n",
       "      <td>513.80</td>\n",
       "      <td>5</td>\n",
       "      <td>0</td>\n",
       "      <td>False</td>\n",
       "      <td>0</td>\n",
       "      <td>False</td>\n",
       "      <td>False</td>\n",
       "      <td>...</td>\n",
       "      <td>59333</td>\n",
       "      <td>False</td>\n",
       "      <td>0</td>\n",
       "      <td>102</td>\n",
       "      <td>0</td>\n",
       "      <td>483434</td>\n",
       "      <td>6</td>\n",
       "      <td>15</td>\n",
       "      <td>24</td>\n",
       "      <td>58</td>\n",
       "    </tr>\n",
       "    <tr>\n",
       "      <th>3</th>\n",
       "      <td>6716</td>\n",
       "      <td>157159</td>\n",
       "      <td>29967</td>\n",
       "      <td>1016.11</td>\n",
       "      <td>5</td>\n",
       "      <td>62</td>\n",
       "      <td>False</td>\n",
       "      <td>5</td>\n",
       "      <td>False</td>\n",
       "      <td>False</td>\n",
       "      <td>...</td>\n",
       "      <td>50436</td>\n",
       "      <td>False</td>\n",
       "      <td>3281</td>\n",
       "      <td>102</td>\n",
       "      <td>0</td>\n",
       "      <td>1407164</td>\n",
       "      <td>5</td>\n",
       "      <td>17</td>\n",
       "      <td>29</td>\n",
       "      <td>46</td>\n",
       "    </tr>\n",
       "    <tr>\n",
       "      <th>4</th>\n",
       "      <td>5975</td>\n",
       "      <td>105985</td>\n",
       "      <td>81305</td>\n",
       "      <td>713.66</td>\n",
       "      <td>5</td>\n",
       "      <td>62</td>\n",
       "      <td>False</td>\n",
       "      <td>4</td>\n",
       "      <td>False</td>\n",
       "      <td>False</td>\n",
       "      <td>...</td>\n",
       "      <td>93775</td>\n",
       "      <td>False</td>\n",
       "      <td>5817</td>\n",
       "      <td>102</td>\n",
       "      <td>0</td>\n",
       "      <td>1051004</td>\n",
       "      <td>6</td>\n",
       "      <td>18</td>\n",
       "      <td>21</td>\n",
       "      <td>29</td>\n",
       "    </tr>\n",
       "  </tbody>\n",
       "</table>\n",
       "<p>5 rows × 27 columns</p>\n",
       "</div>"
      ],
      "text/plain": [
       "  acqic   bacno    cano    conam contp csmcu   ecfg etymd  flbmk flg_3dsmk  \\\n",
       "0  6881  113261   38038   513.80     5     0  False     0  False     False   \n",
       "1     0  134508   45725   465.62     5     0  False     2  False     False   \n",
       "2  6881   15408  188328   513.80     5     0  False     0  False     False   \n",
       "3  6716  157159   29967  1016.11     5    62  False     5  False     False   \n",
       "4  5975  105985   81305   713.66     5    62  False     4  False     False   \n",
       "\n",
       "   ...  mchno  ovrlt  scity  stocn  stscd    txkey weekday loctm_hh  loctm_mm  \\\n",
       "0  ...  59333  False      0    102      0   516056       5       17        26   \n",
       "1  ...      0  False   5817    102      0     4376       2       10        51   \n",
       "2  ...  59333  False      0    102      0   483434       6       15        24   \n",
       "3  ...  50436  False   3281    102      0  1407164       5       17        29   \n",
       "4  ...  93775  False   5817    102      0  1051004       6       18        21   \n",
       "\n",
       "  loctm_ss  \n",
       "0       52  \n",
       "1       14  \n",
       "2       58  \n",
       "3       46  \n",
       "4       29  \n",
       "\n",
       "[5 rows x 27 columns]"
      ]
     },
     "execution_count": 21,
     "metadata": {},
     "output_type": "execute_result"
    }
   ],
   "source": [
    "df.head(5)"
   ]
  },
  {
   "cell_type": "markdown",
   "metadata": {
    "id": "hCU0pMlasO-f"
   },
   "source": [
    "### 是否為海外消費"
   ]
  },
  {
   "cell_type": "code",
   "execution_count": 22,
   "metadata": {
    "colab": {
     "base_uri": "https://localhost:8080/",
     "height": 311
    },
    "id": "w84ceaoQtzio",
    "outputId": "9205ad78-5eff-43ca-cc57-acad5d65c793"
   },
   "outputs": [
    {
     "data": {
      "text/plain": [
       "<AxesSubplot:xlabel='stocn', ylabel='count'>"
      ]
     },
     "execution_count": 22,
     "metadata": {},
     "output_type": "execute_result"
    },
    {
     "data": {
      "image/png": "[encoded data removed]",
      "text/plain": [
       "<Figure size 432x288 with 1 Axes>"
      ]
     },
     "metadata": {
      "needs_background": "light"
     },
     "output_type": "display_data"
    }
   ],
   "source": [
    "%matplotlib inline\n",
    "import seaborn as sns\n",
    "import matplotlib.pyplot as plt\n",
    "\n",
    "sns.countplot(x=\"stocn\", hue=\"fraud_ind\", data=df[df.fraud_ind!=-1], palette=\"Greens_d\",\n",
    "              order=pd.value_counts(df[df.fraud_ind!=-1]['stocn']).iloc[:5].index)\n",
    "## 102為國內消費"
   ]
  },
  {
   "cell_type": "code",
   "execution_count": 23,
   "metadata": {
    "id": "8k6BgSNYwc1q"
   },
   "outputs": [],
   "source": [
    "df[\"oversea_flag\"] = df.stocn != 102"
   ]
  },
  {
   "cell_type": "code",
   "execution_count": null,
   "metadata": {},
   "outputs": [],
   "source": []
  },
  {
   "cell_type": "code",
   "execution_count": 29,
   "metadata": {
    "id": "lDREg93CzhcP"
   },
   "outputs": [],
   "source": [
    "# change to percentage 0 代表為國內\n",
    "oversea_pct = df.loc[:,['cano','oversea_flag']][df.fraud_ind!=-1].groupby('cano').mean()"
   ]
  },
  {
   "cell_type": "code",
   "execution_count": null,
   "metadata": {},
   "outputs": [],
   "source": []
  },
  {
   "cell_type": "code",
   "execution_count": 30,
   "metadata": {
    "colab": {
     "base_uri": "https://localhost:8080/",
     "height": 283
    },
    "id": "ZfH9-zTf3Ujk",
    "outputId": "b75fb357-d095-4a5e-e398-737818120df1"
   },
   "outputs": [
    {
     "data": {
      "image/png": "[encoded data removed]",
      "text/plain": [
       "<Figure size 432x288 with 1 Axes>"
      ]
     },
     "metadata": {
      "needs_background": "light"
     },
     "output_type": "display_data"
    }
   ],
   "source": [
    "# clustering by k-means with elbow method\n",
    "from sklearn.cluster import KMeans\n",
    "\n",
    "sse = {}\n",
    "\n",
    "for k in range(1, 10):\n",
    "    kmeans = KMeans(n_clusters=k, max_iter=1000).fit(oversea_pct)\n",
    "#   oversea_pct[\"clusters\"] = kmeans.labels_\n",
    "#   print(oversea_pct[\"clusters\"])\n",
    "    sse[k] = kmeans.inertia_ # Inertia: Sum of distances of samples to their closest cluster center\n",
    "\n",
    "plt.figure()\n",
    "plt.plot(list(sse.keys()), list(sse.values()))\n",
    "plt.xlabel(\"Number of cluster\")\n",
    "plt.ylabel(\"SSE\")\n",
    "plt.show()"
   ]
  },
  {
   "cell_type": "code",
   "execution_count": 31,
   "metadata": {
    "colab": {
     "base_uri": "https://localhost:8080/",
     "height": 700
    },
    "id": "LVQ1mXi78c7j",
    "outputId": "93e8a4f7-41d4-475a-ac41-d5e3ef4c9542"
   },
   "outputs": [
    {
     "data": {
      "text/html": [
       "<div>\n",
       "<style scoped>\n",
       "    .dataframe tbody tr th:only-of-type {\n",
       "        vertical-align: middle;\n",
       "    }\n",
       "\n",
       "    .dataframe tbody tr th {\n",
       "        vertical-align: top;\n",
       "    }\n",
       "\n",
       "    .dataframe thead th {\n",
       "        text-align: right;\n",
       "    }\n",
       "</style>\n",
       "<table border=\"1\" class=\"dataframe\">\n",
       "  <thead>\n",
       "    <tr style=\"text-align: right;\">\n",
       "      <th></th>\n",
       "      <th>oversea_flag</th>\n",
       "      <th>clusters</th>\n",
       "    </tr>\n",
       "    <tr>\n",
       "      <th>cano</th>\n",
       "      <th></th>\n",
       "      <th></th>\n",
       "    </tr>\n",
       "  </thead>\n",
       "  <tbody>\n",
       "    <tr>\n",
       "      <th>0</th>\n",
       "      <td>0.000000</td>\n",
       "      <td>0</td>\n",
       "    </tr>\n",
       "    <tr>\n",
       "      <th>1</th>\n",
       "      <td>0.000000</td>\n",
       "      <td>0</td>\n",
       "    </tr>\n",
       "    <tr>\n",
       "      <th>2</th>\n",
       "      <td>0.000000</td>\n",
       "      <td>0</td>\n",
       "    </tr>\n",
       "    <tr>\n",
       "      <th>3</th>\n",
       "      <td>0.000000</td>\n",
       "      <td>0</td>\n",
       "    </tr>\n",
       "    <tr>\n",
       "      <th>4</th>\n",
       "      <td>0.000000</td>\n",
       "      <td>0</td>\n",
       "    </tr>\n",
       "    <tr>\n",
       "      <th>5</th>\n",
       "      <td>0.000000</td>\n",
       "      <td>0</td>\n",
       "    </tr>\n",
       "    <tr>\n",
       "      <th>6</th>\n",
       "      <td>0.000000</td>\n",
       "      <td>0</td>\n",
       "    </tr>\n",
       "    <tr>\n",
       "      <th>7</th>\n",
       "      <td>0.000000</td>\n",
       "      <td>0</td>\n",
       "    </tr>\n",
       "    <tr>\n",
       "      <th>8</th>\n",
       "      <td>0.142857</td>\n",
       "      <td>0</td>\n",
       "    </tr>\n",
       "    <tr>\n",
       "      <th>9</th>\n",
       "      <td>0.000000</td>\n",
       "      <td>0</td>\n",
       "    </tr>\n",
       "    <tr>\n",
       "      <th>10</th>\n",
       "      <td>0.000000</td>\n",
       "      <td>0</td>\n",
       "    </tr>\n",
       "    <tr>\n",
       "      <th>11</th>\n",
       "      <td>0.000000</td>\n",
       "      <td>0</td>\n",
       "    </tr>\n",
       "    <tr>\n",
       "      <th>12</th>\n",
       "      <td>0.000000</td>\n",
       "      <td>0</td>\n",
       "    </tr>\n",
       "    <tr>\n",
       "      <th>13</th>\n",
       "      <td>0.200000</td>\n",
       "      <td>0</td>\n",
       "    </tr>\n",
       "    <tr>\n",
       "      <th>14</th>\n",
       "      <td>0.000000</td>\n",
       "      <td>0</td>\n",
       "    </tr>\n",
       "    <tr>\n",
       "      <th>15</th>\n",
       "      <td>0.000000</td>\n",
       "      <td>0</td>\n",
       "    </tr>\n",
       "    <tr>\n",
       "      <th>16</th>\n",
       "      <td>0.000000</td>\n",
       "      <td>0</td>\n",
       "    </tr>\n",
       "    <tr>\n",
       "      <th>17</th>\n",
       "      <td>0.833333</td>\n",
       "      <td>1</td>\n",
       "    </tr>\n",
       "    <tr>\n",
       "      <th>18</th>\n",
       "      <td>0.000000</td>\n",
       "      <td>0</td>\n",
       "    </tr>\n",
       "    <tr>\n",
       "      <th>19</th>\n",
       "      <td>0.000000</td>\n",
       "      <td>0</td>\n",
       "    </tr>\n",
       "  </tbody>\n",
       "</table>\n",
       "</div>"
      ],
      "text/plain": [
       "      oversea_flag  clusters\n",
       "cano                        \n",
       "0         0.000000         0\n",
       "1         0.000000         0\n",
       "2         0.000000         0\n",
       "3         0.000000         0\n",
       "4         0.000000         0\n",
       "5         0.000000         0\n",
       "6         0.000000         0\n",
       "7         0.000000         0\n",
       "8         0.142857         0\n",
       "9         0.000000         0\n",
       "10        0.000000         0\n",
       "11        0.000000         0\n",
       "12        0.000000         0\n",
       "13        0.200000         0\n",
       "14        0.000000         0\n",
       "15        0.000000         0\n",
       "16        0.000000         0\n",
       "17        0.833333         1\n",
       "18        0.000000         0\n",
       "19        0.000000         0"
      ]
     },
     "execution_count": 31,
     "metadata": {},
     "output_type": "execute_result"
    }
   ],
   "source": [
    "##k = 2 \n",
    "kmeans = KMeans(n_clusters=2, max_iter=1000).fit(oversea_pct)\n",
    "oversea_pct[\"clusters\"] = kmeans.labels_\n",
    "oversea_pct.head(20)"
   ]
  },
  {
   "cell_type": "markdown",
   "metadata": {
    "id": "3lXHJs_69lq-"
   },
   "source": [
    "### 是否為網購消費"
   ]
  },
  {
   "cell_type": "code",
   "execution_count": 32,
   "metadata": {
    "id": "KLPXMaZZ9oCU"
   },
   "outputs": [],
   "source": [
    "# change to percentage\n",
    "ecfg_pct = df.loc[:,['cano','ecfg']][df.fraud_ind!=-1].groupby('cano').mean()"
   ]
  },
  {
   "cell_type": "code",
   "execution_count": 33,
   "metadata": {
    "colab": {
     "base_uri": "https://localhost:8080/",
     "height": 283
    },
    "id": "eROihe_C9-tw",
    "outputId": "fae932f3-02aa-479a-a7bd-7a143998e4cb"
   },
   "outputs": [
    {
     "data": {
      "image/png": "[encoded data removed]",
      "text/plain": [
       "<Figure size 432x288 with 1 Axes>"
      ]
     },
     "metadata": {
      "needs_background": "light"
     },
     "output_type": "display_data"
    }
   ],
   "source": [
    "# clustering by k-means with elbow method\n",
    "from sklearn.cluster import KMeans\n",
    "\n",
    "sse = {}\n",
    "\n",
    "for k in range(1, 10):\n",
    "    kmeans = KMeans(n_clusters=k, max_iter=1000).fit(ecfg_pct)\n",
    "#   oversea_pct[\"clusters\"] = kmeans.labels_\n",
    "#   print(oversea_pct[\"clusters\"])\n",
    "    sse[k] = kmeans.inertia_ # Inertia: Sum of distances of samples to their closest cluster center\n",
    "\n",
    "plt.figure()\n",
    "plt.plot(list(sse.keys()), list(sse.values()))\n",
    "plt.xlabel(\"Number of cluster\")\n",
    "plt.ylabel(\"SSE\")\n",
    "plt.show()"
   ]
  },
  {
   "cell_type": "code",
   "execution_count": 27,
   "metadata": {
    "colab": {
     "base_uri": "https://localhost:8080/",
     "height": 700
    },
    "id": "9NGRDKrXEACg",
    "outputId": "1f37e032-2420-446c-ada0-14d760699fa7"
   },
   "outputs": [
    {
     "data": {
      "text/html": [
       "<div>\n",
       "<style scoped>\n",
       "    .dataframe tbody tr th:only-of-type {\n",
       "        vertical-align: middle;\n",
       "    }\n",
       "\n",
       "    .dataframe tbody tr th {\n",
       "        vertical-align: top;\n",
       "    }\n",
       "\n",
       "    .dataframe thead th {\n",
       "        text-align: right;\n",
       "    }\n",
       "</style>\n",
       "<table border=\"1\" class=\"dataframe\">\n",
       "  <thead>\n",
       "    <tr style=\"text-align: right;\">\n",
       "      <th></th>\n",
       "      <th>ecfg</th>\n",
       "      <th>clusters</th>\n",
       "    </tr>\n",
       "    <tr>\n",
       "      <th>cano</th>\n",
       "      <th></th>\n",
       "      <th></th>\n",
       "    </tr>\n",
       "  </thead>\n",
       "  <tbody>\n",
       "    <tr>\n",
       "      <th>0</th>\n",
       "      <td>0.000000</td>\n",
       "      <td>0</td>\n",
       "    </tr>\n",
       "    <tr>\n",
       "      <th>1</th>\n",
       "      <td>0.000000</td>\n",
       "      <td>0</td>\n",
       "    </tr>\n",
       "    <tr>\n",
       "      <th>2</th>\n",
       "      <td>0.088235</td>\n",
       "      <td>0</td>\n",
       "    </tr>\n",
       "    <tr>\n",
       "      <th>3</th>\n",
       "      <td>0.000000</td>\n",
       "      <td>0</td>\n",
       "    </tr>\n",
       "    <tr>\n",
       "      <th>4</th>\n",
       "      <td>0.000000</td>\n",
       "      <td>0</td>\n",
       "    </tr>\n",
       "    <tr>\n",
       "      <th>5</th>\n",
       "      <td>0.080000</td>\n",
       "      <td>0</td>\n",
       "    </tr>\n",
       "    <tr>\n",
       "      <th>6</th>\n",
       "      <td>0.222222</td>\n",
       "      <td>0</td>\n",
       "    </tr>\n",
       "    <tr>\n",
       "      <th>7</th>\n",
       "      <td>0.225806</td>\n",
       "      <td>0</td>\n",
       "    </tr>\n",
       "    <tr>\n",
       "      <th>8</th>\n",
       "      <td>0.214286</td>\n",
       "      <td>0</td>\n",
       "    </tr>\n",
       "    <tr>\n",
       "      <th>9</th>\n",
       "      <td>0.000000</td>\n",
       "      <td>0</td>\n",
       "    </tr>\n",
       "    <tr>\n",
       "      <th>10</th>\n",
       "      <td>0.000000</td>\n",
       "      <td>0</td>\n",
       "    </tr>\n",
       "    <tr>\n",
       "      <th>11</th>\n",
       "      <td>0.000000</td>\n",
       "      <td>0</td>\n",
       "    </tr>\n",
       "    <tr>\n",
       "      <th>12</th>\n",
       "      <td>0.000000</td>\n",
       "      <td>0</td>\n",
       "    </tr>\n",
       "    <tr>\n",
       "      <th>13</th>\n",
       "      <td>0.000000</td>\n",
       "      <td>0</td>\n",
       "    </tr>\n",
       "    <tr>\n",
       "      <th>14</th>\n",
       "      <td>0.166667</td>\n",
       "      <td>0</td>\n",
       "    </tr>\n",
       "    <tr>\n",
       "      <th>15</th>\n",
       "      <td>0.000000</td>\n",
       "      <td>0</td>\n",
       "    </tr>\n",
       "    <tr>\n",
       "      <th>16</th>\n",
       "      <td>0.000000</td>\n",
       "      <td>0</td>\n",
       "    </tr>\n",
       "    <tr>\n",
       "      <th>17</th>\n",
       "      <td>0.055556</td>\n",
       "      <td>0</td>\n",
       "    </tr>\n",
       "    <tr>\n",
       "      <th>18</th>\n",
       "      <td>0.000000</td>\n",
       "      <td>0</td>\n",
       "    </tr>\n",
       "    <tr>\n",
       "      <th>19</th>\n",
       "      <td>0.000000</td>\n",
       "      <td>0</td>\n",
       "    </tr>\n",
       "  </tbody>\n",
       "</table>\n",
       "</div>"
      ],
      "text/plain": [
       "          ecfg  clusters\n",
       "cano                    \n",
       "0     0.000000         0\n",
       "1     0.000000         0\n",
       "2     0.088235         0\n",
       "3     0.000000         0\n",
       "4     0.000000         0\n",
       "5     0.080000         0\n",
       "6     0.222222         0\n",
       "7     0.225806         0\n",
       "8     0.214286         0\n",
       "9     0.000000         0\n",
       "10    0.000000         0\n",
       "11    0.000000         0\n",
       "12    0.000000         0\n",
       "13    0.000000         0\n",
       "14    0.166667         0\n",
       "15    0.000000         0\n",
       "16    0.000000         0\n",
       "17    0.055556         0\n",
       "18    0.000000         0\n",
       "19    0.000000         0"
      ]
     },
     "execution_count": 27,
     "metadata": {
      "tags": []
     },
     "output_type": "execute_result"
    }
   ],
   "source": [
    "##k = 2 \n",
    "kmeans = KMeans(n_clusters=2, max_iter=1000).fit(ecfg_pct)\n",
    "ecfg_pct[\"clusters\"] = kmeans.labels_\n",
    "ecfg_pct.head(20)"
   ]
  },
  {
   "cell_type": "markdown",
   "metadata": {
    "id": "t4ZoBw8yFWV9"
   },
   "source": [
    "### MCC消費種類數"
   ]
  },
  {
   "cell_type": "markdown",
   "metadata": {
    "id": "JExBMZEl1KtE"
   },
   "source": [
    "#### MCC消費種類分群 [(連結)](https://zh.wikipedia.org/wiki/商户类别代码)\n",
    "\n",
    "---\n",
    "由於一個商戶類別是由好幾種MCC CODE組成  \n",
    "假定同一種商戶類別，底下各自的MCC CODE資料有相似的敘述統計量\n"
   ]
  },
  {
   "cell_type": "code",
   "execution_count": 28,
   "metadata": {
    "id": "cjCvyYQzLq3B"
   },
   "outputs": [],
   "source": [
    "mcc_code = df.loc[:,['mcc', 'conam']].groupby(['mcc']).describe() "
   ]
  },
  {
   "cell_type": "code",
   "execution_count": 29,
   "metadata": {
    "colab": {
     "base_uri": "https://localhost:8080/"
    },
    "id": "yKzQ9Yv07Z8s",
    "outputId": "9a3caaca-8336-4ae1-ff5b-3332595e17e2"
   },
   "outputs": [
    {
     "data": {
      "text/plain": [
       "MultiIndex([('conam', 'count'),\n",
       "            ('conam',  'mean'),\n",
       "            ('conam',   'std'),\n",
       "            ('conam',   'min'),\n",
       "            ('conam',   '25%'),\n",
       "            ('conam',   '50%'),\n",
       "            ('conam',   '75%'),\n",
       "            ('conam',   'max')],\n",
       "           )"
      ]
     },
     "execution_count": 29,
     "metadata": {
      "tags": []
     },
     "output_type": "execute_result"
    }
   ],
   "source": [
    " mcc_code.columns"
   ]
  },
  {
   "cell_type": "code",
   "execution_count": 30,
   "metadata": {
    "id": "FRW0oj8k7_n5"
   },
   "outputs": [],
   "source": [
    "mcc_code.columns = mcc_code.columns.droplevel()"
   ]
  },
  {
   "cell_type": "code",
   "execution_count": 31,
   "metadata": {
    "id": "fk9htIcN4hdW"
   },
   "outputs": [],
   "source": [
    "mcc_code.fillna(0, inplace=True)"
   ]
  },
  {
   "cell_type": "code",
   "execution_count": 32,
   "metadata": {
    "colab": {
     "base_uri": "https://localhost:8080/",
     "height": 235
    },
    "id": "KPOXcV2o6fVC",
    "outputId": "a21e5795-61c9-40cf-b028-8dafda9bbc8d"
   },
   "outputs": [
    {
     "data": {
      "text/html": [
       "<div>\n",
       "<style scoped>\n",
       "    .dataframe tbody tr th:only-of-type {\n",
       "        vertical-align: middle;\n",
       "    }\n",
       "\n",
       "    .dataframe tbody tr th {\n",
       "        vertical-align: top;\n",
       "    }\n",
       "\n",
       "    .dataframe thead th {\n",
       "        text-align: right;\n",
       "    }\n",
       "</style>\n",
       "<table border=\"1\" class=\"dataframe\">\n",
       "  <thead>\n",
       "    <tr style=\"text-align: right;\">\n",
       "      <th></th>\n",
       "      <th>count</th>\n",
       "      <th>mean</th>\n",
       "      <th>std</th>\n",
       "      <th>min</th>\n",
       "      <th>25%</th>\n",
       "      <th>50%</th>\n",
       "      <th>75%</th>\n",
       "      <th>max</th>\n",
       "    </tr>\n",
       "    <tr>\n",
       "      <th>mcc</th>\n",
       "      <th></th>\n",
       "      <th></th>\n",
       "      <th></th>\n",
       "      <th></th>\n",
       "      <th></th>\n",
       "      <th></th>\n",
       "      <th></th>\n",
       "      <th></th>\n",
       "    </tr>\n",
       "  </thead>\n",
       "  <tbody>\n",
       "    <tr>\n",
       "      <th>0</th>\n",
       "      <td>10.0</td>\n",
       "      <td>2086.201000</td>\n",
       "      <td>445.418031</td>\n",
       "      <td>1558.27</td>\n",
       "      <td>1769.2875</td>\n",
       "      <td>1876.195</td>\n",
       "      <td>2549.7300</td>\n",
       "      <td>2712.71</td>\n",
       "    </tr>\n",
       "    <tr>\n",
       "      <th>1</th>\n",
       "      <td>1.0</td>\n",
       "      <td>1063.150000</td>\n",
       "      <td>0.000000</td>\n",
       "      <td>1063.15</td>\n",
       "      <td>1063.1500</td>\n",
       "      <td>1063.150</td>\n",
       "      <td>1063.1500</td>\n",
       "      <td>1063.15</td>\n",
       "    </tr>\n",
       "    <tr>\n",
       "      <th>2</th>\n",
       "      <td>99.0</td>\n",
       "      <td>989.657172</td>\n",
       "      <td>349.685190</td>\n",
       "      <td>229.88</td>\n",
       "      <td>732.9900</td>\n",
       "      <td>974.230</td>\n",
       "      <td>1189.3000</td>\n",
       "      <td>2168.49</td>\n",
       "    </tr>\n",
       "    <tr>\n",
       "      <th>3</th>\n",
       "      <td>122.0</td>\n",
       "      <td>584.460902</td>\n",
       "      <td>274.321607</td>\n",
       "      <td>140.93</td>\n",
       "      <td>391.7000</td>\n",
       "      <td>500.140</td>\n",
       "      <td>749.8875</td>\n",
       "      <td>1413.82</td>\n",
       "    </tr>\n",
       "    <tr>\n",
       "      <th>4</th>\n",
       "      <td>5.0</td>\n",
       "      <td>1198.382000</td>\n",
       "      <td>413.414378</td>\n",
       "      <td>731.82</td>\n",
       "      <td>776.7800</td>\n",
       "      <td>1364.660</td>\n",
       "      <td>1557.1600</td>\n",
       "      <td>1561.49</td>\n",
       "    </tr>\n",
       "  </tbody>\n",
       "</table>\n",
       "</div>"
      ],
      "text/plain": [
       "     count         mean         std  ...       50%        75%      max\n",
       "mcc                                  ...                              \n",
       "0     10.0  2086.201000  445.418031  ...  1876.195  2549.7300  2712.71\n",
       "1      1.0  1063.150000    0.000000  ...  1063.150  1063.1500  1063.15\n",
       "2     99.0   989.657172  349.685190  ...   974.230  1189.3000  2168.49\n",
       "3    122.0   584.460902  274.321607  ...   500.140   749.8875  1413.82\n",
       "4      5.0  1198.382000  413.414378  ...  1364.660  1557.1600  1561.49\n",
       "\n",
       "[5 rows x 8 columns]"
      ]
     },
     "execution_count": 32,
     "metadata": {
      "tags": []
     },
     "output_type": "execute_result"
    }
   ],
   "source": [
    "mcc_code.head(5)"
   ]
  },
  {
   "cell_type": "code",
   "execution_count": 33,
   "metadata": {
    "colab": {
     "base_uri": "https://localhost:8080/"
    },
    "id": "i5CvWTJJ2yTW",
    "outputId": "28938263-a740-4098-a736-e81f0c393e99"
   },
   "outputs": [
    {
     "data": {
      "text/plain": [
       "Index(['count', 'mean', 'std', 'min', '25%', '50%', '75%', 'max'], dtype='object')"
      ]
     },
     "execution_count": 33,
     "metadata": {
      "tags": []
     },
     "output_type": "execute_result"
    }
   ],
   "source": [
    "mcc_code.columns"
   ]
  },
  {
   "cell_type": "code",
   "execution_count": 35,
   "metadata": {
    "colab": {
     "base_uri": "https://localhost:8080/",
     "height": 294
    },
    "id": "KQR4Gss17daH",
    "outputId": "d75a9efe-3409-4acb-e9ba-562b23088f61"
   },
   "outputs": [
    {
     "data": {
      "image/png": "[encoded data removed]",
      "text/plain": [
       "<Figure size 432x288 with 1 Axes>"
      ]
     },
     "metadata": {
      "needs_background": "light",
      "tags": []
     },
     "output_type": "display_data"
    }
   ],
   "source": [
    "# clustering by k-means with elbow method\n",
    "from sklearn.cluster import KMeans\n",
    "\n",
    "sse = {}\n",
    "\n",
    "for k in range(1, 10):\n",
    "    kmeans = KMeans(n_clusters=k, max_iter=1000).fit(mcc_code)\n",
    "#   oversea_pct[\"clusters\"] = kmeans.labels_\n",
    "#   print(oversea_pct[\"clusters\"])\n",
    "    sse[k] = kmeans.inertia_ # Inertia: Sum of distances of samples to their closest cluster center\n",
    "\n",
    "plt.figure()\n",
    "plt.plot(list(sse.keys()), list(sse.values()))\n",
    "plt.xlabel(\"Number of cluster\")\n",
    "plt.ylabel(\"SSE\")\n",
    "plt.show()"
   ]
  },
  {
   "cell_type": "markdown",
   "metadata": {
    "id": "WOIk9Mba1TI8"
   },
   "source": [
    "#### 各卡MCC消費占比"
   ]
  },
  {
   "cell_type": "code",
   "execution_count": 37,
   "metadata": {
    "id": "tY02HvOvF36K"
   },
   "outputs": [],
   "source": [
    "# count mcc\n",
    "mcc_txn_cnt = df.loc[:,['cano','mcc', 'conam']][df.fraud_ind!=-1].groupby(['cano','mcc']).count()\n",
    "mcc_cnt = df.loc[:,['cano','mcc', 'conam']][df.fraud_ind!=-1].groupby(['cano','mcc']).count().groupby(['cano']).count()"
   ]
  },
  {
   "cell_type": "code",
   "execution_count": 39,
   "metadata": {
    "colab": {
     "base_uri": "https://localhost:8080/",
     "height": 235
    },
    "id": "h7Juxf5HiSxl",
    "outputId": "fad3e352-071b-4715-c69b-5922d8774951"
   },
   "outputs": [
    {
     "data": {
      "text/html": [
       "<div>\n",
       "<style scoped>\n",
       "    .dataframe tbody tr th:only-of-type {\n",
       "        vertical-align: middle;\n",
       "    }\n",
       "\n",
       "    .dataframe tbody tr th {\n",
       "        vertical-align: top;\n",
       "    }\n",
       "\n",
       "    .dataframe thead th {\n",
       "        text-align: right;\n",
       "    }\n",
       "</style>\n",
       "<table border=\"1\" class=\"dataframe\">\n",
       "  <thead>\n",
       "    <tr style=\"text-align: right;\">\n",
       "      <th></th>\n",
       "      <th>conam</th>\n",
       "    </tr>\n",
       "    <tr>\n",
       "      <th>cano</th>\n",
       "      <th></th>\n",
       "    </tr>\n",
       "  </thead>\n",
       "  <tbody>\n",
       "    <tr>\n",
       "      <th>0</th>\n",
       "      <td>2.25</td>\n",
       "    </tr>\n",
       "    <tr>\n",
       "      <th>1</th>\n",
       "      <td>1.50</td>\n",
       "    </tr>\n",
       "    <tr>\n",
       "      <th>2</th>\n",
       "      <td>8.50</td>\n",
       "    </tr>\n",
       "    <tr>\n",
       "      <th>3</th>\n",
       "      <td>1.50</td>\n",
       "    </tr>\n",
       "    <tr>\n",
       "      <th>4</th>\n",
       "      <td>1.00</td>\n",
       "    </tr>\n",
       "  </tbody>\n",
       "</table>\n",
       "</div>"
      ],
      "text/plain": [
       "      conam\n",
       "cano       \n",
       "0      2.25\n",
       "1      1.50\n",
       "2      8.50\n",
       "3      1.50\n",
       "4      1.00"
      ]
     },
     "execution_count": 39,
     "metadata": {
      "tags": []
     },
     "output_type": "execute_result"
    }
   ],
   "source": [
    "mcc_txn_cnt.groupby(['cano']).mean().head(5)"
   ]
  },
  {
   "cell_type": "code",
   "execution_count": 40,
   "metadata": {
    "id": "FYzKlWHmkBZ1"
   },
   "outputs": [],
   "source": [
    " mcc_pct = mcc_txn_cnt.groupby(['cano']).apply(lambda x:100 * x / float(x.sum()))"
   ]
  },
  {
   "cell_type": "code",
   "execution_count": 41,
   "metadata": {
    "colab": {
     "base_uri": "https://localhost:8080/",
     "height": 294
    },
    "id": "NYrQGkRDINL4",
    "outputId": "087aa702-208a-42fa-860f-432fa1deed34"
   },
   "outputs": [
    {
     "data": {
      "image/png": "[encoded data removed]",
      "text/plain": [
       "<Figure size 432x288 with 1 Axes>"
      ]
     },
     "metadata": {
      "needs_background": "light",
      "tags": []
     },
     "output_type": "display_data"
    }
   ],
   "source": [
    "# clustering by k-means with elbow method\n",
    "from sklearn.cluster import KMeans\n",
    "\n",
    "sse = {}\n",
    "\n",
    "for k in range(1, 10):\n",
    "    kmeans = KMeans(n_clusters=k, max_iter=1000).fit(mcc_pct)\n",
    "    sse[k] = kmeans.inertia_ # Inertia: Sum of distances of samples to their closest cluster center\n",
    "\n",
    "plt.figure()\n",
    "plt.plot(list(sse.keys()), list(sse.values()))\n",
    "plt.xlabel(\"Number of cluster\")\n",
    "plt.ylabel(\"SSE\")\n",
    "plt.show()"
   ]
  },
  {
   "cell_type": "code",
   "execution_count": 42,
   "metadata": {
    "colab": {
     "base_uri": "https://localhost:8080/",
     "height": 1000
    },
    "id": "xWPoMPAWIPV1",
    "outputId": "d2bb6344-4b75-4b4b-f85e-c4765a7ed873"
   },
   "outputs": [
    {
     "data": {
      "text/html": [
       "<div>\n",
       "<style scoped>\n",
       "    .dataframe tbody tr th:only-of-type {\n",
       "        vertical-align: middle;\n",
       "    }\n",
       "\n",
       "    .dataframe tbody tr th {\n",
       "        vertical-align: top;\n",
       "    }\n",
       "\n",
       "    .dataframe thead th {\n",
       "        text-align: right;\n",
       "    }\n",
       "</style>\n",
       "<table border=\"1\" class=\"dataframe\">\n",
       "  <thead>\n",
       "    <tr style=\"text-align: right;\">\n",
       "      <th></th>\n",
       "      <th></th>\n",
       "      <th>conam</th>\n",
       "      <th>clusters</th>\n",
       "    </tr>\n",
       "    <tr>\n",
       "      <th>cano</th>\n",
       "      <th>mcc</th>\n",
       "      <th></th>\n",
       "      <th></th>\n",
       "    </tr>\n",
       "  </thead>\n",
       "  <tbody>\n",
       "    <tr>\n",
       "      <th rowspan=\"4\" valign=\"top\">0</th>\n",
       "      <th>228</th>\n",
       "      <td>11.111111</td>\n",
       "      <td>1</td>\n",
       "    </tr>\n",
       "    <tr>\n",
       "      <th>251</th>\n",
       "      <td>66.666667</td>\n",
       "      <td>0</td>\n",
       "    </tr>\n",
       "    <tr>\n",
       "      <th>255</th>\n",
       "      <td>11.111111</td>\n",
       "      <td>1</td>\n",
       "    </tr>\n",
       "    <tr>\n",
       "      <th>286</th>\n",
       "      <td>11.111111</td>\n",
       "      <td>1</td>\n",
       "    </tr>\n",
       "    <tr>\n",
       "      <th rowspan=\"2\" valign=\"top\">1</th>\n",
       "      <th>286</th>\n",
       "      <td>33.333333</td>\n",
       "      <td>0</td>\n",
       "    </tr>\n",
       "    <tr>\n",
       "      <th>388</th>\n",
       "      <td>66.666667</td>\n",
       "      <td>0</td>\n",
       "    </tr>\n",
       "    <tr>\n",
       "      <th rowspan=\"4\" valign=\"top\">2</th>\n",
       "      <th>191</th>\n",
       "      <td>85.294118</td>\n",
       "      <td>2</td>\n",
       "    </tr>\n",
       "    <tr>\n",
       "      <th>248</th>\n",
       "      <td>8.823529</td>\n",
       "      <td>1</td>\n",
       "    </tr>\n",
       "    <tr>\n",
       "      <th>263</th>\n",
       "      <td>2.941176</td>\n",
       "      <td>1</td>\n",
       "    </tr>\n",
       "    <tr>\n",
       "      <th>349</th>\n",
       "      <td>2.941176</td>\n",
       "      <td>1</td>\n",
       "    </tr>\n",
       "    <tr>\n",
       "      <th rowspan=\"2\" valign=\"top\">3</th>\n",
       "      <th>251</th>\n",
       "      <td>66.666667</td>\n",
       "      <td>0</td>\n",
       "    </tr>\n",
       "    <tr>\n",
       "      <th>312</th>\n",
       "      <td>33.333333</td>\n",
       "      <td>0</td>\n",
       "    </tr>\n",
       "    <tr>\n",
       "      <th>4</th>\n",
       "      <th>251</th>\n",
       "      <td>100.000000</td>\n",
       "      <td>2</td>\n",
       "    </tr>\n",
       "    <tr>\n",
       "      <th rowspan=\"8\" valign=\"top\">5</th>\n",
       "      <th>263</th>\n",
       "      <td>12.000000</td>\n",
       "      <td>1</td>\n",
       "    </tr>\n",
       "    <tr>\n",
       "      <th>264</th>\n",
       "      <td>32.000000</td>\n",
       "      <td>0</td>\n",
       "    </tr>\n",
       "    <tr>\n",
       "      <th>275</th>\n",
       "      <td>4.000000</td>\n",
       "      <td>1</td>\n",
       "    </tr>\n",
       "    <tr>\n",
       "      <th>277</th>\n",
       "      <td>4.000000</td>\n",
       "      <td>1</td>\n",
       "    </tr>\n",
       "    <tr>\n",
       "      <th>294</th>\n",
       "      <td>8.000000</td>\n",
       "      <td>1</td>\n",
       "    </tr>\n",
       "    <tr>\n",
       "      <th>343</th>\n",
       "      <td>4.000000</td>\n",
       "      <td>1</td>\n",
       "    </tr>\n",
       "    <tr>\n",
       "      <th>349</th>\n",
       "      <td>16.000000</td>\n",
       "      <td>1</td>\n",
       "    </tr>\n",
       "    <tr>\n",
       "      <th>451</th>\n",
       "      <td>20.000000</td>\n",
       "      <td>1</td>\n",
       "    </tr>\n",
       "    <tr>\n",
       "      <th rowspan=\"4\" valign=\"top\">6</th>\n",
       "      <th>203</th>\n",
       "      <td>22.222222</td>\n",
       "      <td>1</td>\n",
       "    </tr>\n",
       "    <tr>\n",
       "      <th>248</th>\n",
       "      <td>22.222222</td>\n",
       "      <td>1</td>\n",
       "    </tr>\n",
       "    <tr>\n",
       "      <th>343</th>\n",
       "      <td>11.111111</td>\n",
       "      <td>1</td>\n",
       "    </tr>\n",
       "    <tr>\n",
       "      <th>446</th>\n",
       "      <td>44.444444</td>\n",
       "      <td>0</td>\n",
       "    </tr>\n",
       "    <tr>\n",
       "      <th rowspan=\"5\" valign=\"top\">7</th>\n",
       "      <th>247</th>\n",
       "      <td>3.225806</td>\n",
       "      <td>1</td>\n",
       "    </tr>\n",
       "    <tr>\n",
       "      <th>250</th>\n",
       "      <td>3.225806</td>\n",
       "      <td>1</td>\n",
       "    </tr>\n",
       "    <tr>\n",
       "      <th>251</th>\n",
       "      <td>19.354839</td>\n",
       "      <td>1</td>\n",
       "    </tr>\n",
       "    <tr>\n",
       "      <th>257</th>\n",
       "      <td>6.451613</td>\n",
       "      <td>1</td>\n",
       "    </tr>\n",
       "    <tr>\n",
       "      <th>263</th>\n",
       "      <td>22.580645</td>\n",
       "      <td>1</td>\n",
       "    </tr>\n",
       "    <tr>\n",
       "      <th>...</th>\n",
       "      <th>...</th>\n",
       "      <td>...</td>\n",
       "      <td>...</td>\n",
       "    </tr>\n",
       "    <tr>\n",
       "      <th>213545</th>\n",
       "      <th>251</th>\n",
       "      <td>100.000000</td>\n",
       "      <td>2</td>\n",
       "    </tr>\n",
       "    <tr>\n",
       "      <th>213546</th>\n",
       "      <th>209</th>\n",
       "      <td>100.000000</td>\n",
       "      <td>2</td>\n",
       "    </tr>\n",
       "    <tr>\n",
       "      <th rowspan=\"2\" valign=\"top\">213547</th>\n",
       "      <th>329</th>\n",
       "      <td>50.000000</td>\n",
       "      <td>0</td>\n",
       "    </tr>\n",
       "    <tr>\n",
       "      <th>411</th>\n",
       "      <td>50.000000</td>\n",
       "      <td>0</td>\n",
       "    </tr>\n",
       "    <tr>\n",
       "      <th>213548</th>\n",
       "      <th>203</th>\n",
       "      <td>100.000000</td>\n",
       "      <td>2</td>\n",
       "    </tr>\n",
       "    <tr>\n",
       "      <th rowspan=\"2\" valign=\"top\">213549</th>\n",
       "      <th>218</th>\n",
       "      <td>20.000000</td>\n",
       "      <td>1</td>\n",
       "    </tr>\n",
       "    <tr>\n",
       "      <th>337</th>\n",
       "      <td>80.000000</td>\n",
       "      <td>2</td>\n",
       "    </tr>\n",
       "    <tr>\n",
       "      <th>213550</th>\n",
       "      <th>343</th>\n",
       "      <td>100.000000</td>\n",
       "      <td>2</td>\n",
       "    </tr>\n",
       "    <tr>\n",
       "      <th>213551</th>\n",
       "      <th>203</th>\n",
       "      <td>100.000000</td>\n",
       "      <td>2</td>\n",
       "    </tr>\n",
       "    <tr>\n",
       "      <th>213552</th>\n",
       "      <th>343</th>\n",
       "      <td>100.000000</td>\n",
       "      <td>2</td>\n",
       "    </tr>\n",
       "    <tr>\n",
       "      <th>213553</th>\n",
       "      <th>241</th>\n",
       "      <td>100.000000</td>\n",
       "      <td>2</td>\n",
       "    </tr>\n",
       "    <tr>\n",
       "      <th>213554</th>\n",
       "      <th>374</th>\n",
       "      <td>100.000000</td>\n",
       "      <td>2</td>\n",
       "    </tr>\n",
       "    <tr>\n",
       "      <th>213559</th>\n",
       "      <th>343</th>\n",
       "      <td>100.000000</td>\n",
       "      <td>2</td>\n",
       "    </tr>\n",
       "    <tr>\n",
       "      <th>213560</th>\n",
       "      <th>343</th>\n",
       "      <td>100.000000</td>\n",
       "      <td>2</td>\n",
       "    </tr>\n",
       "    <tr>\n",
       "      <th>213561</th>\n",
       "      <th>343</th>\n",
       "      <td>100.000000</td>\n",
       "      <td>2</td>\n",
       "    </tr>\n",
       "    <tr>\n",
       "      <th>213562</th>\n",
       "      <th>343</th>\n",
       "      <td>100.000000</td>\n",
       "      <td>2</td>\n",
       "    </tr>\n",
       "    <tr>\n",
       "      <th>213563</th>\n",
       "      <th>451</th>\n",
       "      <td>100.000000</td>\n",
       "      <td>2</td>\n",
       "    </tr>\n",
       "    <tr>\n",
       "      <th rowspan=\"3\" valign=\"top\">213564</th>\n",
       "      <th>192</th>\n",
       "      <td>25.000000</td>\n",
       "      <td>1</td>\n",
       "    </tr>\n",
       "    <tr>\n",
       "      <th>209</th>\n",
       "      <td>25.000000</td>\n",
       "      <td>1</td>\n",
       "    </tr>\n",
       "    <tr>\n",
       "      <th>250</th>\n",
       "      <td>50.000000</td>\n",
       "      <td>0</td>\n",
       "    </tr>\n",
       "    <tr>\n",
       "      <th>213565</th>\n",
       "      <th>247</th>\n",
       "      <td>100.000000</td>\n",
       "      <td>2</td>\n",
       "    </tr>\n",
       "    <tr>\n",
       "      <th>213566</th>\n",
       "      <th>339</th>\n",
       "      <td>100.000000</td>\n",
       "      <td>2</td>\n",
       "    </tr>\n",
       "    <tr>\n",
       "      <th>213567</th>\n",
       "      <th>453</th>\n",
       "      <td>100.000000</td>\n",
       "      <td>2</td>\n",
       "    </tr>\n",
       "    <tr>\n",
       "      <th>213568</th>\n",
       "      <th>343</th>\n",
       "      <td>100.000000</td>\n",
       "      <td>2</td>\n",
       "    </tr>\n",
       "    <tr>\n",
       "      <th>213569</th>\n",
       "      <th>343</th>\n",
       "      <td>100.000000</td>\n",
       "      <td>2</td>\n",
       "    </tr>\n",
       "    <tr>\n",
       "      <th>213570</th>\n",
       "      <th>343</th>\n",
       "      <td>100.000000</td>\n",
       "      <td>2</td>\n",
       "    </tr>\n",
       "    <tr>\n",
       "      <th rowspan=\"2\" valign=\"top\">213571</th>\n",
       "      <th>251</th>\n",
       "      <td>50.000000</td>\n",
       "      <td>0</td>\n",
       "    </tr>\n",
       "    <tr>\n",
       "      <th>453</th>\n",
       "      <td>50.000000</td>\n",
       "      <td>0</td>\n",
       "    </tr>\n",
       "    <tr>\n",
       "      <th>213572</th>\n",
       "      <th>343</th>\n",
       "      <td>100.000000</td>\n",
       "      <td>2</td>\n",
       "    </tr>\n",
       "    <tr>\n",
       "      <th>213575</th>\n",
       "      <th>343</th>\n",
       "      <td>100.000000</td>\n",
       "      <td>2</td>\n",
       "    </tr>\n",
       "  </tbody>\n",
       "</table>\n",
       "<p>763502 rows × 2 columns</p>\n",
       "</div>"
      ],
      "text/plain": [
       "                 conam  clusters\n",
       "cano   mcc                      \n",
       "0      228   11.111111         1\n",
       "       251   66.666667         0\n",
       "       255   11.111111         1\n",
       "       286   11.111111         1\n",
       "1      286   33.333333         0\n",
       "...                ...       ...\n",
       "213570 343  100.000000         2\n",
       "213571 251   50.000000         0\n",
       "       453   50.000000         0\n",
       "213572 343  100.000000         2\n",
       "213575 343  100.000000         2\n",
       "\n",
       "[763502 rows x 2 columns]"
      ]
     },
     "execution_count": 42,
     "metadata": {
      "tags": []
     },
     "output_type": "execute_result"
    }
   ],
   "source": [
    "##k = 3 \n",
    "kmeans = KMeans(n_clusters=3, max_iter=1000).fit(mcc_pct)\n",
    "mcc_pct[\"clusters\"] = kmeans.labels_\n",
    "mcc_pct"
   ]
  },
  {
   "cell_type": "code",
   "execution_count": 43,
   "metadata": {
    "colab": {
     "base_uri": "https://localhost:8080/",
     "height": 284
    },
    "id": "Hv0ozMSv7u7S",
    "outputId": "06d08ff1-69f8-41bc-e097-5534f1b8051c"
   },
   "outputs": [
    {
     "data": {
      "image/png": "[encoded data removed]",
      "text/plain": [
       "<Figure size 432x288 with 1 Axes>"
      ]
     },
     "metadata": {
      "needs_background": "light",
      "tags": []
     },
     "output_type": "display_data"
    }
   ],
   "source": [
    "#results visualization\n",
    "plt.figure()\n",
    "plt.scatter(mcc_pct['conam'], mcc_pct['conam'], c = mcc_pct['clusters'])\n",
    "plt.axis('equal')\n",
    "plt.title('Prediction')\n",
    "plt.show()"
   ]
  },
  {
   "cell_type": "code",
   "execution_count": 44,
   "metadata": {
    "colab": {
     "base_uri": "https://localhost:8080/",
     "height": 204
    },
    "id": "S9suyv2v5v8i",
    "outputId": "64bac577-3df2-4102-fb2e-dd4731473b7e"
   },
   "outputs": [
    {
     "data": {
      "text/html": [
       "<div>\n",
       "<style scoped>\n",
       "    .dataframe tbody tr th:only-of-type {\n",
       "        vertical-align: middle;\n",
       "    }\n",
       "\n",
       "    .dataframe tbody tr th {\n",
       "        vertical-align: top;\n",
       "    }\n",
       "\n",
       "    .dataframe thead tr th {\n",
       "        text-align: left;\n",
       "    }\n",
       "\n",
       "    .dataframe thead tr:last-of-type th {\n",
       "        text-align: right;\n",
       "    }\n",
       "</style>\n",
       "<table border=\"1\" class=\"dataframe\">\n",
       "  <thead>\n",
       "    <tr>\n",
       "      <th></th>\n",
       "      <th colspan=\"8\" halign=\"left\">conam</th>\n",
       "    </tr>\n",
       "    <tr>\n",
       "      <th></th>\n",
       "      <th>count</th>\n",
       "      <th>mean</th>\n",
       "      <th>std</th>\n",
       "      <th>min</th>\n",
       "      <th>25%</th>\n",
       "      <th>50%</th>\n",
       "      <th>75%</th>\n",
       "      <th>max</th>\n",
       "    </tr>\n",
       "    <tr>\n",
       "      <th>clusters</th>\n",
       "      <th></th>\n",
       "      <th></th>\n",
       "      <th></th>\n",
       "      <th></th>\n",
       "      <th></th>\n",
       "      <th></th>\n",
       "      <th></th>\n",
       "      <th></th>\n",
       "    </tr>\n",
       "  </thead>\n",
       "  <tbody>\n",
       "    <tr>\n",
       "      <th>0</th>\n",
       "      <td>155248.0</td>\n",
       "      <td>43.927564</td>\n",
       "      <td>11.328874</td>\n",
       "      <td>27.397260</td>\n",
       "      <td>33.333333</td>\n",
       "      <td>42.857143</td>\n",
       "      <td>50.000000</td>\n",
       "      <td>69.767442</td>\n",
       "    </tr>\n",
       "    <tr>\n",
       "      <th>1</th>\n",
       "      <td>515810.0</td>\n",
       "      <td>10.823179</td>\n",
       "      <td>7.008836</td>\n",
       "      <td>0.101729</td>\n",
       "      <td>5.000000</td>\n",
       "      <td>9.090909</td>\n",
       "      <td>16.071429</td>\n",
       "      <td>27.368421</td>\n",
       "    </tr>\n",
       "    <tr>\n",
       "      <th>2</th>\n",
       "      <td>92444.0</td>\n",
       "      <td>95.662561</td>\n",
       "      <td>8.780825</td>\n",
       "      <td>69.811321</td>\n",
       "      <td>100.000000</td>\n",
       "      <td>100.000000</td>\n",
       "      <td>100.000000</td>\n",
       "      <td>100.000000</td>\n",
       "    </tr>\n",
       "  </tbody>\n",
       "</table>\n",
       "</div>"
      ],
      "text/plain": [
       "             conam                        ...                                    \n",
       "             count       mean        std  ...         50%         75%         max\n",
       "clusters                                  ...                                    \n",
       "0         155248.0  43.927564  11.328874  ...   42.857143   50.000000   69.767442\n",
       "1         515810.0  10.823179   7.008836  ...    9.090909   16.071429   27.368421\n",
       "2          92444.0  95.662561   8.780825  ...  100.000000  100.000000  100.000000\n",
       "\n",
       "[3 rows x 8 columns]"
      ]
     },
     "execution_count": 44,
     "metadata": {
      "tags": []
     },
     "output_type": "execute_result"
    }
   ],
   "source": [
    "mcc_pct.groupby(['clusters']).describe()"
   ]
  },
  {
   "cell_type": "markdown",
   "metadata": {
    "id": "VSvJMLJVIXHO"
   },
   "source": [
    "#### 各卡MCC消費類型分群"
   ]
  },
  {
   "cell_type": "code",
   "execution_count": 45,
   "metadata": {
    "id": "3SBCV9VDHJWw"
   },
   "outputs": [],
   "source": [
    "mcc_pct_sum = mcc_pct.groupby(['cano','clusters']).sum()"
   ]
  },
  {
   "cell_type": "code",
   "execution_count": 46,
   "metadata": {
    "id": "tvLx-LddHSvu"
   },
   "outputs": [],
   "source": [
    "mcc_pct_sum['rank'] = mcc_pct.groupby(['cano','clusters']).sum().groupby(['cano']).rank(ascending=False, method='max')"
   ]
  },
  {
   "cell_type": "code",
   "execution_count": 47,
   "metadata": {
    "colab": {
     "base_uri": "https://localhost:8080/",
     "height": 700
    },
    "id": "rqaiCfMBHY_c",
    "outputId": "3ad23a53-96fb-48e0-a480-04b728aec1e6"
   },
   "outputs": [
    {
     "data": {
      "text/html": [
       "<div>\n",
       "<style scoped>\n",
       "    .dataframe tbody tr th:only-of-type {\n",
       "        vertical-align: middle;\n",
       "    }\n",
       "\n",
       "    .dataframe tbody tr th {\n",
       "        vertical-align: top;\n",
       "    }\n",
       "\n",
       "    .dataframe thead th {\n",
       "        text-align: right;\n",
       "    }\n",
       "</style>\n",
       "<table border=\"1\" class=\"dataframe\">\n",
       "  <thead>\n",
       "    <tr style=\"text-align: right;\">\n",
       "      <th></th>\n",
       "      <th></th>\n",
       "      <th>conam</th>\n",
       "      <th>rank</th>\n",
       "    </tr>\n",
       "    <tr>\n",
       "      <th>cano</th>\n",
       "      <th>clusters</th>\n",
       "      <th></th>\n",
       "      <th></th>\n",
       "    </tr>\n",
       "  </thead>\n",
       "  <tbody>\n",
       "    <tr>\n",
       "      <th>0</th>\n",
       "      <th>0</th>\n",
       "      <td>66.666667</td>\n",
       "      <td>1.0</td>\n",
       "    </tr>\n",
       "    <tr>\n",
       "      <th>1</th>\n",
       "      <th>0</th>\n",
       "      <td>100.000000</td>\n",
       "      <td>1.0</td>\n",
       "    </tr>\n",
       "    <tr>\n",
       "      <th>2</th>\n",
       "      <th>2</th>\n",
       "      <td>85.294118</td>\n",
       "      <td>1.0</td>\n",
       "    </tr>\n",
       "    <tr>\n",
       "      <th>3</th>\n",
       "      <th>0</th>\n",
       "      <td>100.000000</td>\n",
       "      <td>1.0</td>\n",
       "    </tr>\n",
       "    <tr>\n",
       "      <th>4</th>\n",
       "      <th>2</th>\n",
       "      <td>100.000000</td>\n",
       "      <td>1.0</td>\n",
       "    </tr>\n",
       "    <tr>\n",
       "      <th>5</th>\n",
       "      <th>1</th>\n",
       "      <td>68.000000</td>\n",
       "      <td>1.0</td>\n",
       "    </tr>\n",
       "    <tr>\n",
       "      <th>6</th>\n",
       "      <th>1</th>\n",
       "      <td>55.555556</td>\n",
       "      <td>1.0</td>\n",
       "    </tr>\n",
       "    <tr>\n",
       "      <th>7</th>\n",
       "      <th>1</th>\n",
       "      <td>100.000000</td>\n",
       "      <td>1.0</td>\n",
       "    </tr>\n",
       "    <tr>\n",
       "      <th>8</th>\n",
       "      <th>1</th>\n",
       "      <td>71.428571</td>\n",
       "      <td>1.0</td>\n",
       "    </tr>\n",
       "    <tr>\n",
       "      <th>9</th>\n",
       "      <th>2</th>\n",
       "      <td>83.333333</td>\n",
       "      <td>1.0</td>\n",
       "    </tr>\n",
       "    <tr>\n",
       "      <th>10</th>\n",
       "      <th>1</th>\n",
       "      <td>60.000000</td>\n",
       "      <td>1.0</td>\n",
       "    </tr>\n",
       "    <tr>\n",
       "      <th>12</th>\n",
       "      <th>2</th>\n",
       "      <td>100.000000</td>\n",
       "      <td>1.0</td>\n",
       "    </tr>\n",
       "    <tr>\n",
       "      <th>13</th>\n",
       "      <th>1</th>\n",
       "      <td>60.000000</td>\n",
       "      <td>1.0</td>\n",
       "    </tr>\n",
       "    <tr>\n",
       "      <th>14</th>\n",
       "      <th>0</th>\n",
       "      <td>100.000000</td>\n",
       "      <td>1.0</td>\n",
       "    </tr>\n",
       "    <tr>\n",
       "      <th>15</th>\n",
       "      <th>2</th>\n",
       "      <td>100.000000</td>\n",
       "      <td>1.0</td>\n",
       "    </tr>\n",
       "    <tr>\n",
       "      <th>16</th>\n",
       "      <th>1</th>\n",
       "      <td>100.000000</td>\n",
       "      <td>1.0</td>\n",
       "    </tr>\n",
       "    <tr>\n",
       "      <th>17</th>\n",
       "      <th>1</th>\n",
       "      <td>100.000000</td>\n",
       "      <td>1.0</td>\n",
       "    </tr>\n",
       "    <tr>\n",
       "      <th>18</th>\n",
       "      <th>1</th>\n",
       "      <td>64.285714</td>\n",
       "      <td>1.0</td>\n",
       "    </tr>\n",
       "    <tr>\n",
       "      <th>19</th>\n",
       "      <th>2</th>\n",
       "      <td>100.000000</td>\n",
       "      <td>1.0</td>\n",
       "    </tr>\n",
       "    <tr>\n",
       "      <th>20</th>\n",
       "      <th>1</th>\n",
       "      <td>60.000000</td>\n",
       "      <td>1.0</td>\n",
       "    </tr>\n",
       "  </tbody>\n",
       "</table>\n",
       "</div>"
      ],
      "text/plain": [
       "                    conam  rank\n",
       "cano clusters                  \n",
       "0    0          66.666667   1.0\n",
       "1    0         100.000000   1.0\n",
       "2    2          85.294118   1.0\n",
       "3    0         100.000000   1.0\n",
       "4    2         100.000000   1.0\n",
       "5    1          68.000000   1.0\n",
       "6    1          55.555556   1.0\n",
       "7    1         100.000000   1.0\n",
       "8    1          71.428571   1.0\n",
       "9    2          83.333333   1.0\n",
       "10   1          60.000000   1.0\n",
       "12   2         100.000000   1.0\n",
       "13   1          60.000000   1.0\n",
       "14   0         100.000000   1.0\n",
       "15   2         100.000000   1.0\n",
       "16   1         100.000000   1.0\n",
       "17   1         100.000000   1.0\n",
       "18   1          64.285714   1.0\n",
       "19   2         100.000000   1.0\n",
       "20   1          60.000000   1.0"
      ]
     },
     "execution_count": 47,
     "metadata": {
      "tags": []
     },
     "output_type": "execute_result"
    }
   ],
   "source": [
    "mcc_pct_sum[mcc_pct_sum['rank']==1].head(20)"
   ]
  }
 ],
 "metadata": {
  "colab": {
   "authorship_tag": "ABX9TyPZLFtJPr9bqygmbjSyuWEi",
   "collapsed_sections": [],
   "machine_shape": "hm",
   "mount_file_id": "18bVKZmwrtKLj78BOvTfKPSNenR4UNzMO",
   "name": "Customer_Classify.ipynb",
   "provenance": [],
   "toc_visible": true
  },
  "kernelspec": {
   "display_name": "Python 3",
   "language": "python",
   "name": "python3"
  },
  "language_info": {
   "codemirror_mode": {
    "name": "ipython",
    "version": 3
   },
   "file_extension": ".py",
   "mimetype": "text/x-python",
   "name": "python",
   "nbconvert_exporter": "python",
   "pygments_lexer": "ipython3",
   "version": "3.8.5"
  }
 },
 "nbformat": 4,
 "nbformat_minor": 1
}
