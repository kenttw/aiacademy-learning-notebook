{
  "nbformat": 4,
  "nbformat_minor": 0,
  "metadata": {
    "colab": {
      "name": "SimpleModel_LightGBM",
      "provenance": [],
      "collapsed_sections": [],
      "toc_visible": true,
      "authorship_tag": "ABX9TyNMzSksEOG7jumSC0YDotXb",
      "include_colab_link": true
    },
    "kernelspec": {
      "name": "python3",
      "display_name": "Python 3"
    },
    "language_info": {
      "name": "python"
    }
  },
  "cells": [
    {
      "cell_type": "markdown",
      "metadata": {
        "id": "view-in-github",
        "colab_type": "text"
      },
      "source": [
        "<a href=\"https://colab.research.google.com/github/kenttw/kent-ai-learning-notebook/blob/master/Machine_Learning_Exercise/CreditCard/SimpleModel_LightGBM.ipynb\" target=\"_parent\"><img src=\"https://colab.research.google.com/assets/colab-badge.svg\" alt=\"Open In Colab\"/></a>"
      ]
    },
    {
      "cell_type": "code",
      "metadata": {
        "id": "7ZRi3FU7f6C-"
      },
      "source": [
        "# if you have google drive permission then use this \n",
        "\n",
        "from google.colab import drive\n",
        "drive.mount('/gdrive')\n",
        "!ln -s   /gdrive/MyDrive/colab/Credit_Card/data/ /content/data"
      ],
      "execution_count": null,
      "outputs": []
    },
    {
      "cell_type": "code",
      "metadata": {
        "colab": {
          "base_uri": "https://localhost:8080/",
          "height": 463
        },
        "id": "FK3__xMg9RgV",
        "outputId": "bd8877f3-9b0a-458d-adff-57a760246c89"
      },
      "source": [
        "!pip3 install gdown\n",
        "!mkdir -p ./data/\n",
        "import gdown\n",
        "\n",
        "\n",
        "url = 'https://drive.google.com/uc?id=%s'%(\"1NZ8jMoqcCDpydHxWm6j415HwVS093l4U\")\n",
        "output = './data/X_sample.csv'\n",
        "gdown.download(url, output, quiet=False)\n",
        "\n",
        "\n",
        "url = 'https://drive.google.com/uc?id=%s'%(\"18w2LpyPbydD9qoVQ33GZI2LOjyRY2LaI\")\n",
        "output = './data/y_sample.csv'\n",
        "gdown.download(url, output, quiet=False)\n",
        "\n",
        "url = 'https://drive.google.com/uc?id=%s'%(\"1-0TD5rSfzG3frbgT4fseGBn-Dn5OpGKy\")\n",
        "output = './data/X_test.csv'\n",
        "gdown.download(url, output, quiet=False)\n",
        "\n",
        "url = 'https://drive.google.com/uc?id=%s'%(\"1-1p1dHQVV2JnGP4eMfzJsQwErum_wuMG\")\n",
        "output = './data/y_test.csv'\n",
        "gdown.download(url, output, quiet=False)"
      ],
      "execution_count": null,
      "outputs": [
        {
          "output_type": "stream",
          "text": [
            "Requirement already satisfied: gdown in /usr/local/lib/python3.7/dist-packages (3.6.4)\n",
            "Requirement already satisfied: tqdm in /usr/local/lib/python3.7/dist-packages (from gdown) (4.41.1)\n",
            "Requirement already satisfied: requests in /usr/local/lib/python3.7/dist-packages (from gdown) (2.23.0)\n",
            "Requirement already satisfied: six in /usr/local/lib/python3.7/dist-packages (from gdown) (1.15.0)\n",
            "Requirement already satisfied: urllib3!=1.25.0,!=1.25.1,<1.26,>=1.21.1 in /usr/local/lib/python3.7/dist-packages (from requests->gdown) (1.24.3)\n",
            "Requirement already satisfied: certifi>=2017.4.17 in /usr/local/lib/python3.7/dist-packages (from requests->gdown) (2020.12.5)\n",
            "Requirement already satisfied: chardet<4,>=3.0.2 in /usr/local/lib/python3.7/dist-packages (from requests->gdown) (3.0.4)\n",
            "Requirement already satisfied: idna<3,>=2.5 in /usr/local/lib/python3.7/dist-packages (from requests->gdown) (2.10)\n"
          ],
          "name": "stdout"
        },
        {
          "output_type": "stream",
          "text": [
            "Downloading...\n",
            "From: https://drive.google.com/uc?id=1NZ8jMoqcCDpydHxWm6j415HwVS093l4U\n",
            "To: /content/data/X_sample.csv\n",
            "48.9MB [00:00, 265MB/s]\n",
            "Downloading...\n",
            "From: https://drive.google.com/uc?id=18w2LpyPbydD9qoVQ33GZI2LOjyRY2LaI\n",
            "To: /content/data/y_sample.csv\n",
            "100%|██████████| 288k/288k [00:00<00:00, 41.1MB/s]\n",
            "Downloading...\n",
            "From: https://drive.google.com/uc?id=1-0TD5rSfzG3frbgT4fseGBn-Dn5OpGKy\n",
            "To: /content/data/X_test.csv\n",
            "609MB [00:02, 225MB/s]\n",
            "Downloading...\n",
            "From: https://drive.google.com/uc?id=1-1p1dHQVV2JnGP4eMfzJsQwErum_wuMG\n",
            "To: /content/data/y_test.csv\n",
            "3.59MB [00:00, 206MB/s]\n"
          ],
          "name": "stderr"
        },
        {
          "output_type": "execute_result",
          "data": {
            "application/vnd.google.colaboratory.intrinsic+json": {
              "type": "string"
            },
            "text/plain": [
              "'./data/y_test.csv'"
            ]
          },
          "metadata": {
            "tags": []
          },
          "execution_count": 3
        }
      ]
    },
    {
      "cell_type": "code",
      "metadata": {
        "id": "3-9rZ_t1fvuS"
      },
      "source": [
        "import pandas as pd"
      ],
      "execution_count": null,
      "outputs": []
    },
    {
      "cell_type": "code",
      "metadata": {
        "id": "B7I4duEii_Ee"
      },
      "source": [
        "from sklearn.metrics import roc_auc_score, confusion_matrix, precision_score, recall_score, f1_score"
      ],
      "execution_count": null,
      "outputs": []
    },
    {
      "cell_type": "code",
      "metadata": {
        "id": "6fA_eepKf04-"
      },
      "source": [
        "df_X = pd.read_csv(\"./data/X_sample.csv\")\n",
        "df_X = df_X.set_index(\"txkey\")"
      ],
      "execution_count": null,
      "outputs": []
    },
    {
      "cell_type": "code",
      "metadata": {
        "id": "KFMWyCI2gJr-"
      },
      "source": [
        ""
      ],
      "execution_count": null,
      "outputs": []
    },
    {
      "cell_type": "code",
      "metadata": {
        "id": "KQoVsOdWh1eF"
      },
      "source": [
        "df_y = pd.read_csv(\"./data/y_sample.csv\")\n",
        "df_y = df_y.set_index(\"txkey\")"
      ],
      "execution_count": null,
      "outputs": []
    },
    {
      "cell_type": "code",
      "metadata": {
        "id": "8ULh9oudgTHI"
      },
      "source": [
        "import lightgbm as lgb\n"
      ],
      "execution_count": null,
      "outputs": []
    },
    {
      "cell_type": "code",
      "metadata": {
        "id": "gFSD8HVlgu2z"
      },
      "source": [
        "from sklearn.model_selection import train_test_split\n",
        "df_X_train, df_X_val = train_test_split(df_X, test_size=0.25, random_state=42)\n"
      ],
      "execution_count": null,
      "outputs": []
    },
    {
      "cell_type": "code",
      "metadata": {
        "id": "encqeBTZhtzr"
      },
      "source": [
        "df_y_train = df_y.loc[df_X_train.index]\n",
        "df_y_val = df_y.loc[df_X_val.index]"
      ],
      "execution_count": null,
      "outputs": []
    },
    {
      "cell_type": "code",
      "metadata": {
        "id": "3l-Ylx4bjRAr"
      },
      "source": [
        "# create dataset for lightgbm\n",
        "lgb_train = lgb.Dataset(df_X_train, df_y_train)\n",
        "lgb_eval = lgb.Dataset(df_X_val, df_y_val, reference=lgb_train)"
      ],
      "execution_count": null,
      "outputs": []
    },
    {
      "cell_type": "code",
      "metadata": {
        "colab": {
          "base_uri": "https://localhost:8080/"
        },
        "id": "55A5e36RiUE5",
        "outputId": "a4ae970e-31bb-4bbc-84a9-39f610bebdef"
      },
      "source": [
        "# specify your configurations as a dict\n",
        "params={}\n",
        "params['learning_rate']=0.03\n",
        "params['boosting_type']='gbdt' #GradientBoostingDecisionTree\n",
        "params['objective']='binary' #Binary target feature\n",
        "params['metric']='binary_logloss' #metric for binary classification\n",
        "params['max_depth']=10\n",
        "\n",
        "print('Starting training...')\n",
        "\n",
        "gbm = lgb.train(params,\n",
        "                lgb_train,\n",
        "                num_boost_round=20,\n",
        "                valid_sets=lgb_eval,\n",
        "                early_stopping_rounds=20)\n",
        "\n"
      ],
      "execution_count": null,
      "outputs": [
        {
          "output_type": "stream",
          "text": [
            "Starting training...\n",
            "[1]\tvalid_0's binary_logloss: 0.670538\n",
            "Training until validation scores don't improve for 20 rounds.\n",
            "[2]\tvalid_0's binary_logloss: 0.649209\n",
            "[3]\tvalid_0's binary_logloss: 0.629096\n",
            "[4]\tvalid_0's binary_logloss: 0.610069\n",
            "[5]\tvalid_0's binary_logloss: 0.5921\n",
            "[6]\tvalid_0's binary_logloss: 0.575188\n",
            "[7]\tvalid_0's binary_logloss: 0.559077\n",
            "[8]\tvalid_0's binary_logloss: 0.543858\n",
            "[9]\tvalid_0's binary_logloss: 0.529395\n",
            "[10]\tvalid_0's binary_logloss: 0.515652\n",
            "[11]\tvalid_0's binary_logloss: 0.502559\n",
            "[12]\tvalid_0's binary_logloss: 0.49015\n",
            "[13]\tvalid_0's binary_logloss: 0.478375\n",
            "[14]\tvalid_0's binary_logloss: 0.467075\n",
            "[15]\tvalid_0's binary_logloss: 0.456233\n",
            "[16]\tvalid_0's binary_logloss: 0.445863\n",
            "[17]\tvalid_0's binary_logloss: 0.436013\n",
            "[18]\tvalid_0's binary_logloss: 0.426567\n",
            "[19]\tvalid_0's binary_logloss: 0.417556\n",
            "[20]\tvalid_0's binary_logloss: 0.408935\n",
            "Did not meet early stopping. Best iteration is:\n",
            "[20]\tvalid_0's binary_logloss: 0.408935\n"
          ],
          "name": "stdout"
        }
      ]
    },
    {
      "cell_type": "markdown",
      "metadata": {
        "id": "k1OAMPSL6YXc"
      },
      "source": [
        "# Validation with downsampleing data"
      ]
    },
    {
      "cell_type": "code",
      "metadata": {
        "colab": {
          "base_uri": "https://localhost:8080/"
        },
        "id": "i-S0TPLZi66G",
        "outputId": "cb3786cd-2f4a-4ec0-b401-5ac8a5b9d39c"
      },
      "source": [
        "print('Starting predicting...')\n",
        "# predict\n",
        "y_pred = gbm.predict(df_X_val, num_iteration=gbm.best_iteration)\n",
        "# eval\n",
        "print('auc:', roc_auc_score(df_y_val, y_pred))"
      ],
      "execution_count": null,
      "outputs": [
        {
          "output_type": "stream",
          "text": [
            "Starting predicting...\n",
            "auc: 0.9655231831719928\n"
          ],
          "name": "stdout"
        }
      ]
    },
    {
      "cell_type": "code",
      "metadata": {
        "colab": {
          "base_uri": "https://localhost:8080/"
        },
        "id": "vTGjxWm2jo-K",
        "outputId": "5dab9c5b-fd40-451f-dca5-4fb53a1c945c"
      },
      "source": [
        "confusion_matrix(df_y_val, (y_pred > 0.5).astype(int))"
      ],
      "execution_count": null,
      "outputs": [
        {
          "output_type": "execute_result",
          "data": {
            "text/plain": [
              "array([[3543,  317],\n",
              "       [ 213, 3569]])"
            ]
          },
          "metadata": {
            "tags": []
          },
          "execution_count": 14
        }
      ]
    },
    {
      "cell_type": "code",
      "metadata": {
        "id": "rN0JzEY40qVv"
      },
      "source": [
        "tn, fp, fn, tp  = confusion_matrix(df_y_val, (y_pred > 0.5).astype(int)).ravel() "
      ],
      "execution_count": null,
      "outputs": []
    },
    {
      "cell_type": "code",
      "metadata": {
        "colab": {
          "base_uri": "https://localhost:8080/"
        },
        "id": "aeXKOn4_0syk",
        "outputId": "ebbdf065-34b2-402b-ff6d-ee8c358a4bd2"
      },
      "source": [
        "tn, fp, fn, tp"
      ],
      "execution_count": null,
      "outputs": [
        {
          "output_type": "execute_result",
          "data": {
            "text/plain": [
              "(3543, 317, 213, 3569)"
            ]
          },
          "metadata": {
            "tags": []
          },
          "execution_count": 16
        }
      ]
    },
    {
      "cell_type": "markdown",
      "metadata": {
        "id": "p3dhXPwr5rJ6"
      },
      "source": [
        "# Testing : verify with real distribution data"
      ]
    },
    {
      "cell_type": "code",
      "metadata": {
        "id": "AOPN6XmD5t7U"
      },
      "source": [
        "X_test = pd.read_csv(\"./data/X_test.csv\")"
      ],
      "execution_count": null,
      "outputs": []
    },
    {
      "cell_type": "code",
      "metadata": {
        "id": "EQViPLvA59i4"
      },
      "source": [
        "X_test = X_test.set_index(\"txkey\")"
      ],
      "execution_count": null,
      "outputs": []
    },
    {
      "cell_type": "code",
      "metadata": {
        "id": "KJm0Zqct53t7"
      },
      "source": [
        "y_test = pd.read_csv(\"./data/y_test.csv\")"
      ],
      "execution_count": null,
      "outputs": []
    },
    {
      "cell_type": "code",
      "metadata": {
        "id": "NgXR4QYO6D4b"
      },
      "source": [
        "y_test = y_test.set_index(\"txkey\")"
      ],
      "execution_count": null,
      "outputs": []
    },
    {
      "cell_type": "code",
      "metadata": {
        "id": "M5fcdIak6J7s"
      },
      "source": [
        "y_pred = gbm.predict(X_test, num_iteration=gbm.best_iteration)\n"
      ],
      "execution_count": null,
      "outputs": []
    },
    {
      "cell_type": "code",
      "metadata": {
        "id": "NMjZVdL24Xw9"
      },
      "source": [
        ""
      ],
      "execution_count": null,
      "outputs": []
    },
    {
      "cell_type": "code",
      "metadata": {
        "colab": {
          "base_uri": "https://localhost:8080/"
        },
        "id": "mRmSf4h-6UqJ",
        "outputId": "11ec00c3-c327-4591-a34e-3f26b050b235"
      },
      "source": [
        "y_test.shape"
      ],
      "execution_count": null,
      "outputs": [
        {
          "output_type": "execute_result",
          "data": {
            "text/plain": [
              "(380447, 1)"
            ]
          },
          "metadata": {
            "tags": []
          },
          "execution_count": 22
        }
      ]
    },
    {
      "cell_type": "code",
      "metadata": {
        "colab": {
          "base_uri": "https://localhost:8080/"
        },
        "id": "uGQoXMgQ6Ppu",
        "outputId": "3910799e-f8cb-4e41-9175-d3df9ef3149b"
      },
      "source": [
        "print('auc:', roc_auc_score(y_test, y_pred))"
      ],
      "execution_count": null,
      "outputs": [
        {
          "output_type": "stream",
          "text": [
            "auc: 0.9618565375213639\n"
          ],
          "name": "stdout"
        }
      ]
    },
    {
      "cell_type": "code",
      "metadata": {
        "colab": {
          "base_uri": "https://localhost:8080/"
        },
        "id": "cIGZq2CB6k3d",
        "outputId": "29aaa75c-605a-4e3d-dd5e-b12087a173b2"
      },
      "source": [
        "cm = confusion_matrix(y_test, (y_pred > 0.5).astype(int), labels=[0,1])\n",
        "cm"
      ],
      "execution_count": null,
      "outputs": [
        {
          "output_type": "execute_result",
          "data": {
            "text/plain": [
              "array([[341759,  33616],\n",
              "       [   293,   4779]])"
            ]
          },
          "metadata": {
            "tags": []
          },
          "execution_count": 33
        }
      ]
    },
    {
      "cell_type": "code",
      "metadata": {
        "colab": {
          "base_uri": "https://localhost:8080/"
        },
        "id": "PtfsE_nfQ-fW",
        "outputId": "09d35206-641e-4b4d-8d67-92297b103db9"
      },
      "source": [
        "th = .6\n",
        "print(\"precision_score\", precision_score(y_test,(y_pred > th).astype(int)))\n",
        "print(\"recall_score\",    recall_score(y_test,(y_pred > th).astype(int)))\n",
        "print(\"f1_score\",        f1_score(y_test,(y_pred > th).astype(int)))"
      ],
      "execution_count": null,
      "outputs": [
        {
          "output_type": "stream",
          "text": [
            "precision_score 0.1468980422069667\n",
            "recall_score 0.9112776025236593\n",
            "f1_score 0.2530107291438581\n"
          ],
          "name": "stdout"
        }
      ]
    },
    {
      "cell_type": "code",
      "metadata": {
        "id": "vtO1Kj2t5Igd"
      },
      "source": [
        "fnscore =  [ (fname,socre) for fname,socre in zip(gbm.feature_name(),gbm.feature_importance())]"
      ],
      "execution_count": null,
      "outputs": []
    },
    {
      "cell_type": "code",
      "metadata": {
        "id": "7GWpVGv15wVs"
      },
      "source": [
        "top_feature = sorted(fnscore, key=lambda tup: tup[1], reverse=True)[:25]"
      ],
      "execution_count": null,
      "outputs": []
    }
  ]
}