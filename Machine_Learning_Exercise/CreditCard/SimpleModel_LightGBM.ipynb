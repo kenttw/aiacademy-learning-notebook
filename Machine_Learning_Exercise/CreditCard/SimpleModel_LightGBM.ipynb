{
 "cells": [
  {
   "cell_type": "markdown",
   "metadata": {
    "colab_type": "text",
    "id": "view-in-github"
   },
   "source": [
    "<a href=\"https://colab.research.google.com/github/kenttw/kent-ai-learning-notebook/blob/master/Machine_Learning_Exercise/CreditCard/SimpleModel_LightGBM.ipynb\" target=\"_parent\"><img src=\"https://colab.research.google.com/assets/colab-badge.svg\" alt=\"Open In Colab\"/></a>"
   ]
  },
  {
   "cell_type": "code",
   "execution_count": null,
   "metadata": {
    "id": "7ZRi3FU7f6C-"
   },
   "outputs": [],
   "source": [
    "# if you have google drive permission then use this \n",
    "\n",
    "from google.colab import drive\n",
    "drive.mount('/gdrive')\n",
    "!ln -s   /gdrive/MyDrive/colab/Credit_Card/data/ /content/data"
   ]
  },
  {
   "cell_type": "code",
   "execution_count": 2,
   "metadata": {
    "colab": {
     "base_uri": "https://localhost:8080/",
     "height": 463
    },
    "id": "FK3__xMg9RgV",
    "outputId": "bd8877f3-9b0a-458d-adff-57a760246c89"
   },
   "outputs": [
    {
     "name": "stdout",
     "output_type": "stream",
     "text": [
      "Requirement already satisfied: gdown in /Users/kentshih/PycharmProjects/kent-ai-learning-notebook/venv/lib/python3.8/site-packages (3.13.0)\n",
      "Requirement already satisfied: six in /Users/kentshih/PycharmProjects/kent-ai-learning-notebook/venv/lib/python3.8/site-packages (from gdown) (1.15.0)\n",
      "Requirement already satisfied: tqdm in /Users/kentshih/PycharmProjects/kent-ai-learning-notebook/venv/lib/python3.8/site-packages (from gdown) (4.60.0)\n",
      "Requirement already satisfied: requests[socks]>=2.12.0 in /Users/kentshih/PycharmProjects/kent-ai-learning-notebook/venv/lib/python3.8/site-packages (from gdown) (2.25.1)\n",
      "Requirement already satisfied: filelock in /Users/kentshih/PycharmProjects/kent-ai-learning-notebook/venv/lib/python3.8/site-packages (from gdown) (3.0.12)\n",
      "Requirement already satisfied: idna<3,>=2.5 in /Users/kentshih/PycharmProjects/kent-ai-learning-notebook/venv/lib/python3.8/site-packages (from requests[socks]>=2.12.0->gdown) (2.10)\n",
      "Requirement already satisfied: urllib3<1.27,>=1.21.1 in /Users/kentshih/PycharmProjects/kent-ai-learning-notebook/venv/lib/python3.8/site-packages (from requests[socks]>=2.12.0->gdown) (1.26.4)\n",
      "Requirement already satisfied: certifi>=2017.4.17 in /Users/kentshih/PycharmProjects/kent-ai-learning-notebook/venv/lib/python3.8/site-packages (from requests[socks]>=2.12.0->gdown) (2020.12.5)\n",
      "Requirement already satisfied: chardet<5,>=3.0.2 in /Users/kentshih/PycharmProjects/kent-ai-learning-notebook/venv/lib/python3.8/site-packages (from requests[socks]>=2.12.0->gdown) (4.0.0)\n",
      "Requirement already satisfied: PySocks!=1.5.7,>=1.5.6 in /Users/kentshih/PycharmProjects/kent-ai-learning-notebook/venv/lib/python3.8/site-packages (from requests[socks]>=2.12.0->gdown) (1.7.1)\n"
     ]
    },
    {
     "name": "stderr",
     "output_type": "stream",
     "text": [
      "Downloading...\n",
      "From: https://drive.google.com/uc?id=1NZ8jMoqcCDpydHxWm6j415HwVS093l4U\n",
      "To: /Users/kentshih/PycharmProjects/kent-ai-learning-notebook/Machine_Learning_Exercise/CreditCard/data/X_sample.csv\n",
      "48.9MB [00:04, 10.8MB/s]\n",
      "Downloading...\n",
      "From: https://drive.google.com/uc?id=18w2LpyPbydD9qoVQ33GZI2LOjyRY2LaI\n",
      "To: /Users/kentshih/PycharmProjects/kent-ai-learning-notebook/Machine_Learning_Exercise/CreditCard/data/y_sample.csv\n",
      "100%|██████████| 288k/288k [00:00<00:00, 5.27MB/s]\n",
      "Downloading...\n",
      "From: https://drive.google.com/uc?id=1-0TD5rSfzG3frbgT4fseGBn-Dn5OpGKy\n",
      "To: /Users/kentshih/PycharmProjects/kent-ai-learning-notebook/Machine_Learning_Exercise/CreditCard/data/X_test.csv\n",
      "609MB [00:57, 10.6MB/s] \n",
      "Downloading...\n",
      "From: https://drive.google.com/uc?id=1-1p1dHQVV2JnGP4eMfzJsQwErum_wuMG\n",
      "To: /Users/kentshih/PycharmProjects/kent-ai-learning-notebook/Machine_Learning_Exercise/CreditCard/data/y_test.csv\n",
      "3.59MB [00:00, 10.1MB/s]\n"
     ]
    },
    {
     "data": {
      "text/plain": [
       "'./data/y_test.csv'"
      ]
     },
     "execution_count": 2,
     "metadata": {},
     "output_type": "execute_result"
    }
   ],
   "source": [
    "!pip3 install gdown\n",
    "!mkdir -p ./data/\n",
    "import gdown\n",
    "\n",
    "\n",
    "url = 'https://drive.google.com/uc?id=%s'%(\"1NZ8jMoqcCDpydHxWm6j415HwVS093l4U\")\n",
    "output = './data/X_sample.csv'\n",
    "gdown.download(url, output, quiet=False)\n",
    "\n",
    "\n",
    "url = 'https://drive.google.com/uc?id=%s'%(\"18w2LpyPbydD9qoVQ33GZI2LOjyRY2LaI\")\n",
    "output = './data/y_sample.csv'\n",
    "gdown.download(url, output, quiet=False)\n",
    "\n",
    "url = 'https://drive.google.com/uc?id=%s'%(\"1-0TD5rSfzG3frbgT4fseGBn-Dn5OpGKy\")\n",
    "output = './data/X_test.csv'\n",
    "gdown.download(url, output, quiet=False)\n",
    "\n",
    "url = 'https://drive.google.com/uc?id=%s'%(\"1-1p1dHQVV2JnGP4eMfzJsQwErum_wuMG\")\n",
    "output = './data/y_test.csv'\n",
    "gdown.download(url, output, quiet=False)"
   ]
  },
  {
   "cell_type": "code",
   "execution_count": 1,
   "metadata": {
    "id": "3-9rZ_t1fvuS"
   },
   "outputs": [],
   "source": [
    "import pandas as pd"
   ]
  },
  {
   "cell_type": "code",
   "execution_count": 2,
   "metadata": {
    "id": "B7I4duEii_Ee"
   },
   "outputs": [],
   "source": [
    "from sklearn.metrics import roc_auc_score, confusion_matrix, precision_score, recall_score, f1_score"
   ]
  },
  {
   "cell_type": "code",
   "execution_count": 3,
   "metadata": {
    "id": "6fA_eepKf04-"
   },
   "outputs": [],
   "source": [
    "df_X = pd.read_csv(\"./data/X_sample.csv\")\n",
    "df_X = df_X.set_index(\"txkey\")"
   ]
  },
  {
   "cell_type": "code",
   "execution_count": null,
   "metadata": {
    "id": "KFMWyCI2gJr-"
   },
   "outputs": [],
   "source": []
  },
  {
   "cell_type": "code",
   "execution_count": 4,
   "metadata": {
    "id": "KQoVsOdWh1eF"
   },
   "outputs": [],
   "source": [
    "df_y = pd.read_csv(\"./data/y_sample.csv\")\n",
    "df_y = df_y.set_index(\"txkey\")"
   ]
  },
  {
   "cell_type": "code",
   "execution_count": 5,
   "metadata": {
    "id": "8ULh9oudgTHI"
   },
   "outputs": [],
   "source": [
    "import lightgbm as lgb\n"
   ]
  },
  {
   "cell_type": "code",
   "execution_count": 6,
   "metadata": {
    "id": "gFSD8HVlgu2z"
   },
   "outputs": [],
   "source": [
    "from sklearn.model_selection import train_test_split\n",
    "df_X_train, df_X_val = train_test_split(df_X, test_size=0.25, random_state=42)\n"
   ]
  },
  {
   "cell_type": "code",
   "execution_count": 7,
   "metadata": {
    "id": "encqeBTZhtzr"
   },
   "outputs": [],
   "source": [
    "df_y_train = df_y.loc[df_X_train.index]\n",
    "df_y_val = df_y.loc[df_X_val.index]"
   ]
  },
  {
   "cell_type": "code",
   "execution_count": 8,
   "metadata": {
    "id": "3l-Ylx4bjRAr"
   },
   "outputs": [],
   "source": [
    "# create dataset for lightgbm\n",
    "lgb_train = lgb.Dataset(df_X_train, df_y_train)\n",
    "lgb_eval = lgb.Dataset(df_X_val, df_y_val, reference=lgb_train)"
   ]
  },
  {
   "cell_type": "code",
   "execution_count": 9,
   "metadata": {
    "colab": {
     "base_uri": "https://localhost:8080/"
    },
    "id": "55A5e36RiUE5",
    "outputId": "a4ae970e-31bb-4bbc-84a9-39f610bebdef"
   },
   "outputs": [
    {
     "name": "stdout",
     "output_type": "stream",
     "text": [
      "Starting training...\n",
      "[LightGBM] [Warning] Accuracy may be bad since you didn't explicitly set num_leaves OR 2^max_depth > num_leaves. (num_leaves=31).\n",
      "[LightGBM] [Warning] Accuracy may be bad since you didn't explicitly set num_leaves OR 2^max_depth > num_leaves. (num_leaves=31).\n",
      "[LightGBM] [Info] Number of positive: 11501, number of negative: 11423\n",
      "[LightGBM] [Warning] Auto-choosing col-wise multi-threading, the overhead of testing was 0.006062 seconds.\n",
      "You can set `force_col_wise=true` to remove the overhead.\n",
      "[LightGBM] [Info] Total Bins 2188\n",
      "[LightGBM] [Info] Number of data points in the train set: 22924, number of used features: 176\n",
      "[LightGBM] [Warning] Accuracy may be bad since you didn't explicitly set num_leaves OR 2^max_depth > num_leaves. (num_leaves=31).\n",
      "[LightGBM] [Info] [binary:BoostFromScore]: pavg=0.501701 -> initscore=0.006805\n",
      "[LightGBM] [Info] Start training from score 0.006805\n",
      "[1]\tvalid_0's binary_logloss: 0.670538\n",
      "Training until validation scores don't improve for 20 rounds\n",
      "[2]\tvalid_0's binary_logloss: 0.649209\n",
      "[3]\tvalid_0's binary_logloss: 0.629096\n",
      "[4]\tvalid_0's binary_logloss: 0.610069\n",
      "[5]\tvalid_0's binary_logloss: 0.5921\n",
      "[6]\tvalid_0's binary_logloss: 0.575188\n",
      "[7]\tvalid_0's binary_logloss: 0.559077\n",
      "[8]\tvalid_0's binary_logloss: 0.543858\n",
      "[9]\tvalid_0's binary_logloss: 0.529395\n",
      "[10]\tvalid_0's binary_logloss: 0.515652\n",
      "[11]\tvalid_0's binary_logloss: 0.502559\n",
      "[12]\tvalid_0's binary_logloss: 0.49015\n",
      "[13]\tvalid_0's binary_logloss: 0.478375\n",
      "[14]\tvalid_0's binary_logloss: 0.467075\n",
      "[15]\tvalid_0's binary_logloss: 0.456233\n",
      "[16]\tvalid_0's binary_logloss: 0.445863\n",
      "[17]\tvalid_0's binary_logloss: 0.436013\n",
      "[18]\tvalid_0's binary_logloss: 0.426567\n",
      "[19]\tvalid_0's binary_logloss: 0.417556\n",
      "[20]\tvalid_0's binary_logloss: 0.408935\n",
      "Did not meet early stopping. Best iteration is:\n",
      "[20]\tvalid_0's binary_logloss: 0.408935\n"
     ]
    }
   ],
   "source": [
    "# specify your configurations as a dict\n",
    "params={}\n",
    "params['learning_rate']=0.03\n",
    "params['boosting_type']='gbdt' #GradientBoostingDecisionTree\n",
    "params['objective']='binary' #Binary target feature\n",
    "params['metric']='binary_logloss' #metric for binary classification\n",
    "params['max_depth']=10\n",
    "\n",
    "print('Starting training...')\n",
    "\n",
    "gbm = lgb.train(params,\n",
    "                lgb_train,\n",
    "                num_boost_round=20,\n",
    "                valid_sets=lgb_eval,\n",
    "                early_stopping_rounds=20)\n",
    "\n"
   ]
  },
  {
   "cell_type": "markdown",
   "metadata": {
    "id": "k1OAMPSL6YXc"
   },
   "source": [
    "# Validation with downsampleing data"
   ]
  },
  {
   "cell_type": "code",
   "execution_count": 10,
   "metadata": {
    "colab": {
     "base_uri": "https://localhost:8080/"
    },
    "id": "i-S0TPLZi66G",
    "outputId": "cb3786cd-2f4a-4ec0-b401-5ac8a5b9d39c"
   },
   "outputs": [
    {
     "name": "stdout",
     "output_type": "stream",
     "text": [
      "Starting predicting...\n",
      "auc: 0.9655231831719928\n"
     ]
    }
   ],
   "source": [
    "print('Starting predicting...')\n",
    "# predict\n",
    "y_pred = gbm.predict(df_X_val, num_iteration=gbm.best_iteration)\n",
    "# eval\n",
    "print('auc:', roc_auc_score(df_y_val, y_pred))"
   ]
  },
  {
   "cell_type": "code",
   "execution_count": 11,
   "metadata": {
    "colab": {
     "base_uri": "https://localhost:8080/"
    },
    "id": "vTGjxWm2jo-K",
    "outputId": "5dab9c5b-fd40-451f-dca5-4fb53a1c945c"
   },
   "outputs": [
    {
     "data": {
      "text/plain": [
       "array([[3543,  317],\n",
       "       [ 213, 3569]])"
      ]
     },
     "execution_count": 11,
     "metadata": {},
     "output_type": "execute_result"
    }
   ],
   "source": [
    "confusion_matrix(df_y_val, (y_pred > 0.5).astype(int))"
   ]
  },
  {
   "cell_type": "code",
   "execution_count": 12,
   "metadata": {
    "id": "rN0JzEY40qVv"
   },
   "outputs": [],
   "source": [
    "tn, fp, fn, tp  = confusion_matrix(df_y_val, (y_pred > 0.5).astype(int)).ravel() "
   ]
  },
  {
   "cell_type": "code",
   "execution_count": 13,
   "metadata": {
    "colab": {
     "base_uri": "https://localhost:8080/"
    },
    "id": "aeXKOn4_0syk",
    "outputId": "ebbdf065-34b2-402b-ff6d-ee8c358a4bd2"
   },
   "outputs": [
    {
     "data": {
      "text/plain": [
       "(3543, 317, 213, 3569)"
      ]
     },
     "execution_count": 13,
     "metadata": {},
     "output_type": "execute_result"
    }
   ],
   "source": [
    "tn, fp, fn, tp"
   ]
  },
  {
   "cell_type": "markdown",
   "metadata": {
    "id": "p3dhXPwr5rJ6"
   },
   "source": [
    "# Testing : verify with real distribution data"
   ]
  },
  {
   "cell_type": "code",
   "execution_count": 11,
   "metadata": {
    "id": "AOPN6XmD5t7U"
   },
   "outputs": [],
   "source": [
    "X_test = pd.read_csv(\"./data/X_test.csv\")"
   ]
  },
  {
   "cell_type": "code",
   "execution_count": 12,
   "metadata": {
    "id": "EQViPLvA59i4"
   },
   "outputs": [],
   "source": [
    "X_test = X_test.set_index(\"txkey\")"
   ]
  },
  {
   "cell_type": "code",
   "execution_count": 16,
   "metadata": {
    "id": "KJm0Zqct53t7"
   },
   "outputs": [],
   "source": [
    "y_test = pd.read_csv(\"./data/y_test.csv\")"
   ]
  },
  {
   "cell_type": "code",
   "execution_count": 17,
   "metadata": {
    "id": "NgXR4QYO6D4b"
   },
   "outputs": [],
   "source": [
    "y_test = y_test.set_index(\"txkey\")"
   ]
  },
  {
   "cell_type": "code",
   "execution_count": 18,
   "metadata": {
    "id": "M5fcdIak6J7s"
   },
   "outputs": [],
   "source": [
    "y_pred = gbm.predict(X_test, num_iteration=gbm.best_iteration)\n"
   ]
  },
  {
   "cell_type": "code",
   "execution_count": null,
   "metadata": {
    "id": "NMjZVdL24Xw9"
   },
   "outputs": [],
   "source": []
  },
  {
   "cell_type": "code",
   "execution_count": 19,
   "metadata": {
    "colab": {
     "base_uri": "https://localhost:8080/"
    },
    "id": "mRmSf4h-6UqJ",
    "outputId": "11ec00c3-c327-4591-a34e-3f26b050b235"
   },
   "outputs": [
    {
     "data": {
      "text/plain": [
       "(380447, 1)"
      ]
     },
     "execution_count": 19,
     "metadata": {},
     "output_type": "execute_result"
    }
   ],
   "source": [
    "y_test.shape"
   ]
  },
  {
   "cell_type": "code",
   "execution_count": 20,
   "metadata": {
    "colab": {
     "base_uri": "https://localhost:8080/"
    },
    "id": "uGQoXMgQ6Ppu",
    "outputId": "3910799e-f8cb-4e41-9175-d3df9ef3149b"
   },
   "outputs": [
    {
     "name": "stdout",
     "output_type": "stream",
     "text": [
      "auc: 0.9618565375213639\n"
     ]
    }
   ],
   "source": [
    "print('auc:', roc_auc_score(y_test, y_pred))"
   ]
  },
  {
   "cell_type": "code",
   "execution_count": 21,
   "metadata": {
    "colab": {
     "base_uri": "https://localhost:8080/"
    },
    "id": "cIGZq2CB6k3d",
    "outputId": "29aaa75c-605a-4e3d-dd5e-b12087a173b2"
   },
   "outputs": [
    {
     "data": {
      "text/plain": [
       "array([[341759,  33616],\n",
       "       [   293,   4779]])"
      ]
     },
     "execution_count": 21,
     "metadata": {},
     "output_type": "execute_result"
    }
   ],
   "source": [
    "cm = confusion_matrix(y_test, (y_pred > 0.5).astype(int), labels=[0,1])\n",
    "cm"
   ]
  },
  {
   "cell_type": "code",
   "execution_count": 22,
   "metadata": {
    "colab": {
     "base_uri": "https://localhost:8080/"
    },
    "id": "PtfsE_nfQ-fW",
    "outputId": "09d35206-641e-4b4d-8d67-92297b103db9"
   },
   "outputs": [
    {
     "name": "stdout",
     "output_type": "stream",
     "text": [
      "precision_score 0.1468980422069667\n",
      "recall_score 0.9112776025236593\n",
      "f1_score 0.2530107291438581\n"
     ]
    }
   ],
   "source": [
    "th = .6\n",
    "print(\"precision_score\", precision_score(y_test,(y_pred > th).astype(int)))\n",
    "print(\"recall_score\",    recall_score(y_test,(y_pred > th).astype(int)))\n",
    "print(\"f1_score\",        f1_score(y_test,(y_pred > th).astype(int)))"
   ]
  },
  {
   "cell_type": "code",
   "execution_count": 23,
   "metadata": {
    "id": "vtO1Kj2t5Igd"
   },
   "outputs": [],
   "source": [
    "fnscore =  [ (fname,socre) for fname,socre in zip(gbm.feature_name(),gbm.feature_importance())]"
   ]
  },
  {
   "cell_type": "code",
   "execution_count": 24,
   "metadata": {
    "id": "7GWpVGv15wVs"
   },
   "outputs": [],
   "source": [
    "top_feature = sorted(fnscore, key=lambda tup: tup[1], reverse=True)[:25]"
   ]
  },
  {
   "cell_type": "markdown",
   "metadata": {},
   "source": [
    "# Validate with Training Data and Testing Data\n",
    "* [report](reports/my_report.html)"
   ]
  },
  {
   "cell_type": "code",
   "execution_count": 10,
   "metadata": {},
   "outputs": [],
   "source": [
    "from evidently.dashboard import Dashboard\n",
    "from evidently.tabs import DriftTab"
   ]
  },
  {
   "cell_type": "code",
   "execution_count": 13,
   "metadata": {},
   "outputs": [],
   "source": [
    "data_drift_report = Dashboard(df_X.sample(1000), X_test.sample(1000), tabs = [DriftTab])\n",
    "data_drift_report.save(\"reports/my_report.html\")\n"
   ]
  },
  {
   "cell_type": "code",
   "execution_count": null,
   "metadata": {},
   "outputs": [],
   "source": []
  }
 ],
 "metadata": {
  "colab": {
   "authorship_tag": "ABX9TyNMzSksEOG7jumSC0YDotXb",
   "collapsed_sections": [],
   "include_colab_link": true,
   "name": "SimpleModel_LightGBM",
   "provenance": [],
   "toc_visible": true
  },
  "kernelspec": {
   "display_name": "Python 3",
   "language": "python",
   "name": "python3"
  },
  "language_info": {
   "codemirror_mode": {
    "name": "ipython",
    "version": 3
   },
   "file_extension": ".py",
   "mimetype": "text/x-python",
   "name": "python",
   "nbconvert_exporter": "python",
   "pygments_lexer": "ipython3",
   "version": "3.8.2"
  }
 },
 "nbformat": 4,
 "nbformat_minor": 1
}