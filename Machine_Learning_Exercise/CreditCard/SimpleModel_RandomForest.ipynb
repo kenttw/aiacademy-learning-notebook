{
  "nbformat": 4,
  "nbformat_minor": 0,
  "metadata": {
    "colab": {
      "name": "SimpleModel_RandomForest",
      "provenance": [],
      "collapsed_sections": [],
      "toc_visible": true,
      "authorship_tag": "ABX9TyPtErXNf5q7sfLBEJ5gk9zt",
      "include_colab_link": true
    },
    "kernelspec": {
      "name": "python3",
      "display_name": "Python 3"
    },
    "language_info": {
      "name": "python"
    }
  },
  "cells": [
    {
      "cell_type": "markdown",
      "metadata": {
        "id": "view-in-github",
        "colab_type": "text"
      },
      "source": [
        "<a href=\"https://colab.research.google.com/github/kenttw/kent-ai-learning-notebook/blob/master/Machine_Learning_Exercise/CreditCard/SimpleModel_RandomForest.ipynb\" target=\"_parent\"><img src=\"https://colab.research.google.com/assets/colab-badge.svg\" alt=\"Open In Colab\"/></a>"
      ]
    },
    {
      "cell_type": "code",
      "metadata": {
        "id": "7ZRi3FU7f6C-"
      },
      "source": [
        "# if you have google drive permission then use this \n",
        "\n",
        "from google.colab import drive\n",
        "drive.mount('/gdrive')\n",
        "!ln -s   /gdrive/MyDrive/colab/Credit_Card/data/ /content/data"
      ],
      "execution_count": null,
      "outputs": []
    },
    {
      "cell_type": "code",
      "metadata": {
        "colab": {
          "base_uri": "https://localhost:8080/",
          "height": 463
        },
        "id": "FK3__xMg9RgV",
        "outputId": "fe97baf4-12eb-47dc-fd67-95880afb632f"
      },
      "source": [
        "!pip3 install gdown\n",
        "!mkdir -p ./data/\n",
        "import gdown\n",
        "\n",
        "\n",
        "url = 'https://drive.google.com/uc?id=%s'%(\"1NZ8jMoqcCDpydHxWm6j415HwVS093l4U\")\n",
        "output = './data/X_sample.csv'\n",
        "gdown.download(url, output, quiet=False)\n",
        "\n",
        "\n",
        "url = 'https://drive.google.com/uc?id=%s'%(\"18w2LpyPbydD9qoVQ33GZI2LOjyRY2LaI\")\n",
        "output = './data/y_sample.csv'\n",
        "gdown.download(url, output, quiet=False)\n",
        "\n",
        "url = 'https://drive.google.com/uc?id=%s'%(\"1-0TD5rSfzG3frbgT4fseGBn-Dn5OpGKy\")\n",
        "output = './data/X_test.csv'\n",
        "gdown.download(url, output, quiet=False)\n",
        "\n",
        "url = 'https://drive.google.com/uc?id=%s'%(\"1-1p1dHQVV2JnGP4eMfzJsQwErum_wuMG\")\n",
        "output = './data/y_test.csv'\n",
        "gdown.download(url, output, quiet=False)"
      ],
      "execution_count": null,
      "outputs": [
        {
          "output_type": "stream",
          "text": [
            "Requirement already satisfied: gdown in /usr/local/lib/python3.7/dist-packages (3.6.4)\n",
            "Requirement already satisfied: requests in /usr/local/lib/python3.7/dist-packages (from gdown) (2.23.0)\n",
            "Requirement already satisfied: tqdm in /usr/local/lib/python3.7/dist-packages (from gdown) (4.41.1)\n",
            "Requirement already satisfied: six in /usr/local/lib/python3.7/dist-packages (from gdown) (1.15.0)\n",
            "Requirement already satisfied: certifi>=2017.4.17 in /usr/local/lib/python3.7/dist-packages (from requests->gdown) (2020.12.5)\n",
            "Requirement already satisfied: idna<3,>=2.5 in /usr/local/lib/python3.7/dist-packages (from requests->gdown) (2.10)\n",
            "Requirement already satisfied: chardet<4,>=3.0.2 in /usr/local/lib/python3.7/dist-packages (from requests->gdown) (3.0.4)\n",
            "Requirement already satisfied: urllib3!=1.25.0,!=1.25.1,<1.26,>=1.21.1 in /usr/local/lib/python3.7/dist-packages (from requests->gdown) (1.24.3)\n"
          ],
          "name": "stdout"
        },
        {
          "output_type": "stream",
          "text": [
            "Downloading...\n",
            "From: https://drive.google.com/uc?id=1NZ8jMoqcCDpydHxWm6j415HwVS093l4U\n",
            "To: /content/data/X_sample.csv\n",
            "48.9MB [00:00, 230MB/s]\n",
            "Downloading...\n",
            "From: https://drive.google.com/uc?id=18w2LpyPbydD9qoVQ33GZI2LOjyRY2LaI\n",
            "To: /content/data/y_sample.csv\n",
            "100%|██████████| 288k/288k [00:00<00:00, 49.2MB/s]\n",
            "Downloading...\n",
            "From: https://drive.google.com/uc?id=1-0TD5rSfzG3frbgT4fseGBn-Dn5OpGKy\n",
            "To: /content/data/X_test.csv\n",
            "609MB [00:03, 188MB/s]\n",
            "Downloading...\n",
            "From: https://drive.google.com/uc?id=1-1p1dHQVV2JnGP4eMfzJsQwErum_wuMG\n",
            "To: /content/data/y_test.csv\n",
            "3.59MB [00:00, 207MB/s]\n"
          ],
          "name": "stderr"
        },
        {
          "output_type": "execute_result",
          "data": {
            "application/vnd.google.colaboratory.intrinsic+json": {
              "type": "string"
            },
            "text/plain": [
              "'./data/y_test.csv'"
            ]
          },
          "metadata": {
            "tags": []
          },
          "execution_count": 1
        }
      ]
    },
    {
      "cell_type": "code",
      "metadata": {
        "id": "3-9rZ_t1fvuS"
      },
      "source": [
        "import pandas as pd"
      ],
      "execution_count": null,
      "outputs": []
    },
    {
      "cell_type": "code",
      "metadata": {
        "id": "B7I4duEii_Ee"
      },
      "source": [
        "from sklearn.metrics import roc_auc_score, confusion_matrix, precision_score, recall_score, f1_score"
      ],
      "execution_count": null,
      "outputs": []
    },
    {
      "cell_type": "code",
      "metadata": {
        "id": "6fA_eepKf04-"
      },
      "source": [
        "df_X = pd.read_csv(\"./data/X_sample.csv\")\n",
        "df_X = df_X.set_index(\"txkey\")"
      ],
      "execution_count": null,
      "outputs": []
    },
    {
      "cell_type": "code",
      "metadata": {
        "id": "KFMWyCI2gJr-"
      },
      "source": [
        ""
      ],
      "execution_count": null,
      "outputs": []
    },
    {
      "cell_type": "code",
      "metadata": {
        "id": "KQoVsOdWh1eF"
      },
      "source": [
        "df_y = pd.read_csv(\"./data/y_sample.csv\")\n",
        "df_y = df_y.set_index(\"txkey\")"
      ],
      "execution_count": null,
      "outputs": []
    },
    {
      "cell_type": "code",
      "metadata": {
        "id": "8ULh9oudgTHI"
      },
      "source": [
        "import lightgbm as lgb\n"
      ],
      "execution_count": null,
      "outputs": []
    },
    {
      "cell_type": "code",
      "metadata": {
        "id": "gFSD8HVlgu2z"
      },
      "source": [
        "from sklearn.model_selection import train_test_split\n",
        "df_X_train, df_X_val = train_test_split(df_X, test_size=0.25, random_state=42)\n"
      ],
      "execution_count": null,
      "outputs": []
    },
    {
      "cell_type": "code",
      "metadata": {
        "id": "encqeBTZhtzr"
      },
      "source": [
        "df_y_train = df_y.loc[df_X_train.index]\n",
        "df_y_val = df_y.loc[df_X_val.index]"
      ],
      "execution_count": null,
      "outputs": []
    },
    {
      "cell_type": "code",
      "metadata": {
        "id": "3l-Ylx4bjRAr"
      },
      "source": [
        "# create dataset for lightgbm\n",
        "# lgb_train = lgb.Dataset(df_X_train, df_y_train)\n",
        "# lgb_eval = lgb.Dataset(df_X_val, df_y_val, reference=lgb_train)"
      ],
      "execution_count": null,
      "outputs": []
    },
    {
      "cell_type": "code",
      "metadata": {
        "id": "jn4Iyxl7E1DO"
      },
      "source": [
        "from sklearn.ensemble import RandomForestClassifier"
      ],
      "execution_count": null,
      "outputs": []
    },
    {
      "cell_type": "code",
      "metadata": {
        "colab": {
          "base_uri": "https://localhost:8080/"
        },
        "id": "55A5e36RiUE5",
        "outputId": "10e6cc31-2e19-4b07-fa43-08ac39021067"
      },
      "source": [
        "clf = RandomForestClassifier(max_depth=2, random_state=0)\n",
        "clf.fit(df_X_train, df_y_train)\n",
        "\n",
        "\n"
      ],
      "execution_count": null,
      "outputs": [
        {
          "output_type": "stream",
          "text": [
            "/usr/local/lib/python3.7/dist-packages/ipykernel_launcher.py:2: DataConversionWarning: A column-vector y was passed when a 1d array was expected. Please change the shape of y to (n_samples,), for example using ravel().\n",
            "  \n"
          ],
          "name": "stderr"
        },
        {
          "output_type": "execute_result",
          "data": {
            "text/plain": [
              "RandomForestClassifier(bootstrap=True, ccp_alpha=0.0, class_weight=None,\n",
              "                       criterion='gini', max_depth=2, max_features='auto',\n",
              "                       max_leaf_nodes=None, max_samples=None,\n",
              "                       min_impurity_decrease=0.0, min_impurity_split=None,\n",
              "                       min_samples_leaf=1, min_samples_split=2,\n",
              "                       min_weight_fraction_leaf=0.0, n_estimators=100,\n",
              "                       n_jobs=None, oob_score=False, random_state=0, verbose=0,\n",
              "                       warm_start=False)"
            ]
          },
          "metadata": {
            "tags": []
          },
          "execution_count": 11
        }
      ]
    },
    {
      "cell_type": "markdown",
      "metadata": {
        "id": "k1OAMPSL6YXc"
      },
      "source": [
        "# Validation with downsampleing data"
      ]
    },
    {
      "cell_type": "code",
      "metadata": {
        "colab": {
          "base_uri": "https://localhost:8080/"
        },
        "id": "i-S0TPLZi66G",
        "outputId": "4868032e-f222-42c6-a1ec-d2c78bc7ef7c"
      },
      "source": [
        "print('Starting predicting...')\n",
        "# predict\n",
        "y_pred = clf.predict_proba(df_X_val)[:,1]\n",
        "print('auc:', roc_auc_score(df_y_val, y_pred))"
      ],
      "execution_count": null,
      "outputs": [
        {
          "output_type": "stream",
          "text": [
            "Starting predicting...\n",
            "auc: 0.9461556034447327\n"
          ],
          "name": "stdout"
        }
      ]
    },
    {
      "cell_type": "code",
      "metadata": {
        "colab": {
          "base_uri": "https://localhost:8080/"
        },
        "id": "vTGjxWm2jo-K",
        "outputId": "487a10f5-746c-4cb6-9cf6-2d86688629d5"
      },
      "source": [
        "confusion_matrix(df_y_val, (y_pred > 0.5).astype(int))"
      ],
      "execution_count": null,
      "outputs": [
        {
          "output_type": "execute_result",
          "data": {
            "text/plain": [
              "array([[3360,  500],\n",
              "       [ 420, 3362]])"
            ]
          },
          "metadata": {
            "tags": []
          },
          "execution_count": 22
        }
      ]
    },
    {
      "cell_type": "code",
      "metadata": {
        "id": "rN0JzEY40qVv"
      },
      "source": [
        "tn, fp, fn, tp  = confusion_matrix(df_y_val, (y_pred > 0.5).astype(int)).ravel() "
      ],
      "execution_count": null,
      "outputs": []
    },
    {
      "cell_type": "code",
      "metadata": {
        "colab": {
          "base_uri": "https://localhost:8080/"
        },
        "id": "aeXKOn4_0syk",
        "outputId": "5724b2dd-b0fd-4610-cfd0-19ec3743f6df"
      },
      "source": [
        "tn, fp, fn, tp"
      ],
      "execution_count": null,
      "outputs": [
        {
          "output_type": "execute_result",
          "data": {
            "text/plain": [
              "(3360, 500, 420, 3362)"
            ]
          },
          "metadata": {
            "tags": []
          },
          "execution_count": 24
        }
      ]
    },
    {
      "cell_type": "markdown",
      "metadata": {
        "id": "p3dhXPwr5rJ6"
      },
      "source": [
        "# Testing : verify with real distribution data"
      ]
    },
    {
      "cell_type": "code",
      "metadata": {
        "id": "AOPN6XmD5t7U"
      },
      "source": [
        "X_test = pd.read_csv(\"./data/X_test.csv\")"
      ],
      "execution_count": null,
      "outputs": []
    },
    {
      "cell_type": "code",
      "metadata": {
        "id": "EQViPLvA59i4"
      },
      "source": [
        "X_test = X_test.set_index(\"txkey\")"
      ],
      "execution_count": null,
      "outputs": []
    },
    {
      "cell_type": "code",
      "metadata": {
        "id": "KJm0Zqct53t7"
      },
      "source": [
        "y_test = pd.read_csv(\"./data/y_test.csv\")"
      ],
      "execution_count": null,
      "outputs": []
    },
    {
      "cell_type": "code",
      "metadata": {
        "id": "NgXR4QYO6D4b"
      },
      "source": [
        "y_test = y_test.set_index(\"txkey\")"
      ],
      "execution_count": null,
      "outputs": []
    },
    {
      "cell_type": "code",
      "metadata": {
        "id": "M5fcdIak6J7s"
      },
      "source": [
        "y_pred = clf.predict_proba(X_test)[:,1]\n"
      ],
      "execution_count": null,
      "outputs": []
    },
    {
      "cell_type": "code",
      "metadata": {
        "colab": {
          "base_uri": "https://localhost:8080/"
        },
        "id": "uGQoXMgQ6Ppu",
        "outputId": "23098ced-b0cf-469e-cc6e-f8c01d49a970"
      },
      "source": [
        "print('auc:', roc_auc_score(y_test, y_pred))"
      ],
      "execution_count": null,
      "outputs": [
        {
          "output_type": "stream",
          "text": [
            "auc: 0.9414470406039809\n"
          ],
          "name": "stdout"
        }
      ]
    },
    {
      "cell_type": "code",
      "metadata": {
        "colab": {
          "base_uri": "https://localhost:8080/"
        },
        "id": "cIGZq2CB6k3d",
        "outputId": "5c3adc16-82e1-4a94-da54-81dd3f63caac"
      },
      "source": [
        "cm = confusion_matrix(y_test, (y_pred > 0.5).astype(int), labels=[0,1])\n",
        "cm"
      ],
      "execution_count": null,
      "outputs": [
        {
          "output_type": "execute_result",
          "data": {
            "text/plain": [
              "array([[323377,  51998],\n",
              "       [   583,   4489]])"
            ]
          },
          "metadata": {
            "tags": []
          },
          "execution_count": 33
        }
      ]
    },
    {
      "cell_type": "code",
      "metadata": {
        "colab": {
          "base_uri": "https://localhost:8080/"
        },
        "id": "PtfsE_nfQ-fW",
        "outputId": "654bd675-32bc-4931-ab09-b50411f68d71"
      },
      "source": [
        "th = .6\n",
        "print(\"precision_score\", precision_score(y_test,(y_pred > th).astype(int)))\n",
        "print(\"recall_score\",    recall_score(y_test,(y_pred > th).astype(int)))\n",
        "print(\"f1_score\",        f1_score(y_test,(y_pred > th).astype(int)))"
      ],
      "execution_count": null,
      "outputs": [
        {
          "output_type": "stream",
          "text": [
            "precision_score 0.13404561909113274\n",
            "recall_score 0.7519716088328076\n",
            "f1_score 0.22753169276659208\n"
          ],
          "name": "stdout"
        }
      ]
    },
    {
      "cell_type": "code",
      "metadata": {
        "colab": {
          "base_uri": "https://localhost:8080/"
        },
        "id": "MkLPC6jcH682",
        "outputId": "bc8d6cbd-b289-4bae-ed9d-041b9d7f9e19"
      },
      "source": [
        ""
      ],
      "execution_count": null,
      "outputs": [
        {
          "output_type": "execute_result",
          "data": {
            "text/plain": [
              "0.22753169276659208"
            ]
          },
          "metadata": {
            "tags": []
          },
          "execution_count": 43
        }
      ]
    }
  ]
}