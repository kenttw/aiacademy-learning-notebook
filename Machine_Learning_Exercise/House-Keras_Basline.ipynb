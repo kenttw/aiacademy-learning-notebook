{
 "cells": [
  {
   "cell_type": "code",
   "execution_count": 1,
   "metadata": {},
   "outputs": [],
   "source": [
    "import pandas as pd"
   ]
  },
  {
   "cell_type": "code",
   "execution_count": 2,
   "metadata": {},
   "outputs": [],
   "source": [
    "train = pd.read_csv(\"/Users/kent/git/courses/python_ML2/session4_kaggle/house_prices_advanced_regression_techniques/train.csv\")"
   ]
  },
  {
   "cell_type": "code",
   "execution_count": 3,
   "metadata": {},
   "outputs": [
    {
     "data": {
      "text/html": [
       "<div>\n",
       "<style scoped>\n",
       "    .dataframe tbody tr th:only-of-type {\n",
       "        vertical-align: middle;\n",
       "    }\n",
       "\n",
       "    .dataframe tbody tr th {\n",
       "        vertical-align: top;\n",
       "    }\n",
       "\n",
       "    .dataframe thead th {\n",
       "        text-align: right;\n",
       "    }\n",
       "</style>\n",
       "<table border=\"1\" class=\"dataframe\">\n",
       "  <thead>\n",
       "    <tr style=\"text-align: right;\">\n",
       "      <th></th>\n",
       "      <th>Id</th>\n",
       "      <th>MSSubClass</th>\n",
       "      <th>MSZoning</th>\n",
       "      <th>LotFrontage</th>\n",
       "      <th>LotArea</th>\n",
       "      <th>Street</th>\n",
       "      <th>Alley</th>\n",
       "      <th>LotShape</th>\n",
       "      <th>LandContour</th>\n",
       "      <th>Utilities</th>\n",
       "      <th>...</th>\n",
       "      <th>PoolArea</th>\n",
       "      <th>PoolQC</th>\n",
       "      <th>Fence</th>\n",
       "      <th>MiscFeature</th>\n",
       "      <th>MiscVal</th>\n",
       "      <th>MoSold</th>\n",
       "      <th>YrSold</th>\n",
       "      <th>SaleType</th>\n",
       "      <th>SaleCondition</th>\n",
       "      <th>SalePrice</th>\n",
       "    </tr>\n",
       "  </thead>\n",
       "  <tbody>\n",
       "    <tr>\n",
       "      <th>0</th>\n",
       "      <td>1</td>\n",
       "      <td>60</td>\n",
       "      <td>RL</td>\n",
       "      <td>65.0</td>\n",
       "      <td>8450</td>\n",
       "      <td>Pave</td>\n",
       "      <td>NaN</td>\n",
       "      <td>Reg</td>\n",
       "      <td>Lvl</td>\n",
       "      <td>AllPub</td>\n",
       "      <td>...</td>\n",
       "      <td>0</td>\n",
       "      <td>NaN</td>\n",
       "      <td>NaN</td>\n",
       "      <td>NaN</td>\n",
       "      <td>0</td>\n",
       "      <td>2</td>\n",
       "      <td>2008</td>\n",
       "      <td>WD</td>\n",
       "      <td>Normal</td>\n",
       "      <td>208500</td>\n",
       "    </tr>\n",
       "    <tr>\n",
       "      <th>1</th>\n",
       "      <td>2</td>\n",
       "      <td>20</td>\n",
       "      <td>RL</td>\n",
       "      <td>80.0</td>\n",
       "      <td>9600</td>\n",
       "      <td>Pave</td>\n",
       "      <td>NaN</td>\n",
       "      <td>Reg</td>\n",
       "      <td>Lvl</td>\n",
       "      <td>AllPub</td>\n",
       "      <td>...</td>\n",
       "      <td>0</td>\n",
       "      <td>NaN</td>\n",
       "      <td>NaN</td>\n",
       "      <td>NaN</td>\n",
       "      <td>0</td>\n",
       "      <td>5</td>\n",
       "      <td>2007</td>\n",
       "      <td>WD</td>\n",
       "      <td>Normal</td>\n",
       "      <td>181500</td>\n",
       "    </tr>\n",
       "    <tr>\n",
       "      <th>2</th>\n",
       "      <td>3</td>\n",
       "      <td>60</td>\n",
       "      <td>RL</td>\n",
       "      <td>68.0</td>\n",
       "      <td>11250</td>\n",
       "      <td>Pave</td>\n",
       "      <td>NaN</td>\n",
       "      <td>IR1</td>\n",
       "      <td>Lvl</td>\n",
       "      <td>AllPub</td>\n",
       "      <td>...</td>\n",
       "      <td>0</td>\n",
       "      <td>NaN</td>\n",
       "      <td>NaN</td>\n",
       "      <td>NaN</td>\n",
       "      <td>0</td>\n",
       "      <td>9</td>\n",
       "      <td>2008</td>\n",
       "      <td>WD</td>\n",
       "      <td>Normal</td>\n",
       "      <td>223500</td>\n",
       "    </tr>\n",
       "    <tr>\n",
       "      <th>3</th>\n",
       "      <td>4</td>\n",
       "      <td>70</td>\n",
       "      <td>RL</td>\n",
       "      <td>60.0</td>\n",
       "      <td>9550</td>\n",
       "      <td>Pave</td>\n",
       "      <td>NaN</td>\n",
       "      <td>IR1</td>\n",
       "      <td>Lvl</td>\n",
       "      <td>AllPub</td>\n",
       "      <td>...</td>\n",
       "      <td>0</td>\n",
       "      <td>NaN</td>\n",
       "      <td>NaN</td>\n",
       "      <td>NaN</td>\n",
       "      <td>0</td>\n",
       "      <td>2</td>\n",
       "      <td>2006</td>\n",
       "      <td>WD</td>\n",
       "      <td>Abnorml</td>\n",
       "      <td>140000</td>\n",
       "    </tr>\n",
       "    <tr>\n",
       "      <th>4</th>\n",
       "      <td>5</td>\n",
       "      <td>60</td>\n",
       "      <td>RL</td>\n",
       "      <td>84.0</td>\n",
       "      <td>14260</td>\n",
       "      <td>Pave</td>\n",
       "      <td>NaN</td>\n",
       "      <td>IR1</td>\n",
       "      <td>Lvl</td>\n",
       "      <td>AllPub</td>\n",
       "      <td>...</td>\n",
       "      <td>0</td>\n",
       "      <td>NaN</td>\n",
       "      <td>NaN</td>\n",
       "      <td>NaN</td>\n",
       "      <td>0</td>\n",
       "      <td>12</td>\n",
       "      <td>2008</td>\n",
       "      <td>WD</td>\n",
       "      <td>Normal</td>\n",
       "      <td>250000</td>\n",
       "    </tr>\n",
       "  </tbody>\n",
       "</table>\n",
       "<p>5 rows × 81 columns</p>\n",
       "</div>"
      ],
      "text/plain": [
       "   Id  MSSubClass MSZoning  LotFrontage  LotArea Street Alley LotShape  \\\n",
       "0   1          60       RL         65.0     8450   Pave   NaN      Reg   \n",
       "1   2          20       RL         80.0     9600   Pave   NaN      Reg   \n",
       "2   3          60       RL         68.0    11250   Pave   NaN      IR1   \n",
       "3   4          70       RL         60.0     9550   Pave   NaN      IR1   \n",
       "4   5          60       RL         84.0    14260   Pave   NaN      IR1   \n",
       "\n",
       "  LandContour Utilities    ...     PoolArea PoolQC Fence MiscFeature MiscVal  \\\n",
       "0         Lvl    AllPub    ...            0    NaN   NaN         NaN       0   \n",
       "1         Lvl    AllPub    ...            0    NaN   NaN         NaN       0   \n",
       "2         Lvl    AllPub    ...            0    NaN   NaN         NaN       0   \n",
       "3         Lvl    AllPub    ...            0    NaN   NaN         NaN       0   \n",
       "4         Lvl    AllPub    ...            0    NaN   NaN         NaN       0   \n",
       "\n",
       "  MoSold YrSold  SaleType  SaleCondition  SalePrice  \n",
       "0      2   2008        WD         Normal     208500  \n",
       "1      5   2007        WD         Normal     181500  \n",
       "2      9   2008        WD         Normal     223500  \n",
       "3      2   2006        WD        Abnorml     140000  \n",
       "4     12   2008        WD         Normal     250000  \n",
       "\n",
       "[5 rows x 81 columns]"
      ]
     },
     "execution_count": 3,
     "metadata": {},
     "output_type": "execute_result"
    }
   ],
   "source": [
    "train.head()"
   ]
  },
  {
   "cell_type": "code",
   "execution_count": 4,
   "metadata": {},
   "outputs": [
    {
     "data": {
      "text/html": [
       "<div>\n",
       "<style scoped>\n",
       "    .dataframe tbody tr th:only-of-type {\n",
       "        vertical-align: middle;\n",
       "    }\n",
       "\n",
       "    .dataframe tbody tr th {\n",
       "        vertical-align: top;\n",
       "    }\n",
       "\n",
       "    .dataframe thead th {\n",
       "        text-align: right;\n",
       "    }\n",
       "</style>\n",
       "<table border=\"1\" class=\"dataframe\">\n",
       "  <thead>\n",
       "    <tr style=\"text-align: right;\">\n",
       "      <th></th>\n",
       "      <th>Id</th>\n",
       "      <th>MSSubClass</th>\n",
       "      <th>LotFrontage</th>\n",
       "      <th>LotArea</th>\n",
       "      <th>OverallQual</th>\n",
       "      <th>OverallCond</th>\n",
       "      <th>YearBuilt</th>\n",
       "      <th>YearRemodAdd</th>\n",
       "      <th>MasVnrArea</th>\n",
       "      <th>BsmtFinSF1</th>\n",
       "      <th>...</th>\n",
       "      <th>WoodDeckSF</th>\n",
       "      <th>OpenPorchSF</th>\n",
       "      <th>EnclosedPorch</th>\n",
       "      <th>3SsnPorch</th>\n",
       "      <th>ScreenPorch</th>\n",
       "      <th>PoolArea</th>\n",
       "      <th>MiscVal</th>\n",
       "      <th>MoSold</th>\n",
       "      <th>YrSold</th>\n",
       "      <th>SalePrice</th>\n",
       "    </tr>\n",
       "  </thead>\n",
       "  <tbody>\n",
       "    <tr>\n",
       "      <th>count</th>\n",
       "      <td>1460.000000</td>\n",
       "      <td>1460.000000</td>\n",
       "      <td>1201.000000</td>\n",
       "      <td>1460.000000</td>\n",
       "      <td>1460.000000</td>\n",
       "      <td>1460.000000</td>\n",
       "      <td>1460.000000</td>\n",
       "      <td>1460.000000</td>\n",
       "      <td>1452.000000</td>\n",
       "      <td>1460.000000</td>\n",
       "      <td>...</td>\n",
       "      <td>1460.000000</td>\n",
       "      <td>1460.000000</td>\n",
       "      <td>1460.000000</td>\n",
       "      <td>1460.000000</td>\n",
       "      <td>1460.000000</td>\n",
       "      <td>1460.000000</td>\n",
       "      <td>1460.000000</td>\n",
       "      <td>1460.000000</td>\n",
       "      <td>1460.000000</td>\n",
       "      <td>1460.000000</td>\n",
       "    </tr>\n",
       "    <tr>\n",
       "      <th>mean</th>\n",
       "      <td>730.500000</td>\n",
       "      <td>56.897260</td>\n",
       "      <td>70.049958</td>\n",
       "      <td>10516.828082</td>\n",
       "      <td>6.099315</td>\n",
       "      <td>5.575342</td>\n",
       "      <td>1971.267808</td>\n",
       "      <td>1984.865753</td>\n",
       "      <td>103.685262</td>\n",
       "      <td>443.639726</td>\n",
       "      <td>...</td>\n",
       "      <td>94.244521</td>\n",
       "      <td>46.660274</td>\n",
       "      <td>21.954110</td>\n",
       "      <td>3.409589</td>\n",
       "      <td>15.060959</td>\n",
       "      <td>2.758904</td>\n",
       "      <td>43.489041</td>\n",
       "      <td>6.321918</td>\n",
       "      <td>2007.815753</td>\n",
       "      <td>180921.195890</td>\n",
       "    </tr>\n",
       "    <tr>\n",
       "      <th>std</th>\n",
       "      <td>421.610009</td>\n",
       "      <td>42.300571</td>\n",
       "      <td>24.284752</td>\n",
       "      <td>9981.264932</td>\n",
       "      <td>1.382997</td>\n",
       "      <td>1.112799</td>\n",
       "      <td>30.202904</td>\n",
       "      <td>20.645407</td>\n",
       "      <td>181.066207</td>\n",
       "      <td>456.098091</td>\n",
       "      <td>...</td>\n",
       "      <td>125.338794</td>\n",
       "      <td>66.256028</td>\n",
       "      <td>61.119149</td>\n",
       "      <td>29.317331</td>\n",
       "      <td>55.757415</td>\n",
       "      <td>40.177307</td>\n",
       "      <td>496.123024</td>\n",
       "      <td>2.703626</td>\n",
       "      <td>1.328095</td>\n",
       "      <td>79442.502883</td>\n",
       "    </tr>\n",
       "    <tr>\n",
       "      <th>min</th>\n",
       "      <td>1.000000</td>\n",
       "      <td>20.000000</td>\n",
       "      <td>21.000000</td>\n",
       "      <td>1300.000000</td>\n",
       "      <td>1.000000</td>\n",
       "      <td>1.000000</td>\n",
       "      <td>1872.000000</td>\n",
       "      <td>1950.000000</td>\n",
       "      <td>0.000000</td>\n",
       "      <td>0.000000</td>\n",
       "      <td>...</td>\n",
       "      <td>0.000000</td>\n",
       "      <td>0.000000</td>\n",
       "      <td>0.000000</td>\n",
       "      <td>0.000000</td>\n",
       "      <td>0.000000</td>\n",
       "      <td>0.000000</td>\n",
       "      <td>0.000000</td>\n",
       "      <td>1.000000</td>\n",
       "      <td>2006.000000</td>\n",
       "      <td>34900.000000</td>\n",
       "    </tr>\n",
       "    <tr>\n",
       "      <th>25%</th>\n",
       "      <td>365.750000</td>\n",
       "      <td>20.000000</td>\n",
       "      <td>59.000000</td>\n",
       "      <td>7553.500000</td>\n",
       "      <td>5.000000</td>\n",
       "      <td>5.000000</td>\n",
       "      <td>1954.000000</td>\n",
       "      <td>1967.000000</td>\n",
       "      <td>0.000000</td>\n",
       "      <td>0.000000</td>\n",
       "      <td>...</td>\n",
       "      <td>0.000000</td>\n",
       "      <td>0.000000</td>\n",
       "      <td>0.000000</td>\n",
       "      <td>0.000000</td>\n",
       "      <td>0.000000</td>\n",
       "      <td>0.000000</td>\n",
       "      <td>0.000000</td>\n",
       "      <td>5.000000</td>\n",
       "      <td>2007.000000</td>\n",
       "      <td>129975.000000</td>\n",
       "    </tr>\n",
       "    <tr>\n",
       "      <th>50%</th>\n",
       "      <td>730.500000</td>\n",
       "      <td>50.000000</td>\n",
       "      <td>69.000000</td>\n",
       "      <td>9478.500000</td>\n",
       "      <td>6.000000</td>\n",
       "      <td>5.000000</td>\n",
       "      <td>1973.000000</td>\n",
       "      <td>1994.000000</td>\n",
       "      <td>0.000000</td>\n",
       "      <td>383.500000</td>\n",
       "      <td>...</td>\n",
       "      <td>0.000000</td>\n",
       "      <td>25.000000</td>\n",
       "      <td>0.000000</td>\n",
       "      <td>0.000000</td>\n",
       "      <td>0.000000</td>\n",
       "      <td>0.000000</td>\n",
       "      <td>0.000000</td>\n",
       "      <td>6.000000</td>\n",
       "      <td>2008.000000</td>\n",
       "      <td>163000.000000</td>\n",
       "    </tr>\n",
       "    <tr>\n",
       "      <th>75%</th>\n",
       "      <td>1095.250000</td>\n",
       "      <td>70.000000</td>\n",
       "      <td>80.000000</td>\n",
       "      <td>11601.500000</td>\n",
       "      <td>7.000000</td>\n",
       "      <td>6.000000</td>\n",
       "      <td>2000.000000</td>\n",
       "      <td>2004.000000</td>\n",
       "      <td>166.000000</td>\n",
       "      <td>712.250000</td>\n",
       "      <td>...</td>\n",
       "      <td>168.000000</td>\n",
       "      <td>68.000000</td>\n",
       "      <td>0.000000</td>\n",
       "      <td>0.000000</td>\n",
       "      <td>0.000000</td>\n",
       "      <td>0.000000</td>\n",
       "      <td>0.000000</td>\n",
       "      <td>8.000000</td>\n",
       "      <td>2009.000000</td>\n",
       "      <td>214000.000000</td>\n",
       "    </tr>\n",
       "    <tr>\n",
       "      <th>max</th>\n",
       "      <td>1460.000000</td>\n",
       "      <td>190.000000</td>\n",
       "      <td>313.000000</td>\n",
       "      <td>215245.000000</td>\n",
       "      <td>10.000000</td>\n",
       "      <td>9.000000</td>\n",
       "      <td>2010.000000</td>\n",
       "      <td>2010.000000</td>\n",
       "      <td>1600.000000</td>\n",
       "      <td>5644.000000</td>\n",
       "      <td>...</td>\n",
       "      <td>857.000000</td>\n",
       "      <td>547.000000</td>\n",
       "      <td>552.000000</td>\n",
       "      <td>508.000000</td>\n",
       "      <td>480.000000</td>\n",
       "      <td>738.000000</td>\n",
       "      <td>15500.000000</td>\n",
       "      <td>12.000000</td>\n",
       "      <td>2010.000000</td>\n",
       "      <td>755000.000000</td>\n",
       "    </tr>\n",
       "  </tbody>\n",
       "</table>\n",
       "<p>8 rows × 38 columns</p>\n",
       "</div>"
      ],
      "text/plain": [
       "                Id   MSSubClass  LotFrontage        LotArea  OverallQual  \\\n",
       "count  1460.000000  1460.000000  1201.000000    1460.000000  1460.000000   \n",
       "mean    730.500000    56.897260    70.049958   10516.828082     6.099315   \n",
       "std     421.610009    42.300571    24.284752    9981.264932     1.382997   \n",
       "min       1.000000    20.000000    21.000000    1300.000000     1.000000   \n",
       "25%     365.750000    20.000000    59.000000    7553.500000     5.000000   \n",
       "50%     730.500000    50.000000    69.000000    9478.500000     6.000000   \n",
       "75%    1095.250000    70.000000    80.000000   11601.500000     7.000000   \n",
       "max    1460.000000   190.000000   313.000000  215245.000000    10.000000   \n",
       "\n",
       "       OverallCond    YearBuilt  YearRemodAdd   MasVnrArea   BsmtFinSF1  \\\n",
       "count  1460.000000  1460.000000   1460.000000  1452.000000  1460.000000   \n",
       "mean      5.575342  1971.267808   1984.865753   103.685262   443.639726   \n",
       "std       1.112799    30.202904     20.645407   181.066207   456.098091   \n",
       "min       1.000000  1872.000000   1950.000000     0.000000     0.000000   \n",
       "25%       5.000000  1954.000000   1967.000000     0.000000     0.000000   \n",
       "50%       5.000000  1973.000000   1994.000000     0.000000   383.500000   \n",
       "75%       6.000000  2000.000000   2004.000000   166.000000   712.250000   \n",
       "max       9.000000  2010.000000   2010.000000  1600.000000  5644.000000   \n",
       "\n",
       "           ...         WoodDeckSF  OpenPorchSF  EnclosedPorch    3SsnPorch  \\\n",
       "count      ...        1460.000000  1460.000000    1460.000000  1460.000000   \n",
       "mean       ...          94.244521    46.660274      21.954110     3.409589   \n",
       "std        ...         125.338794    66.256028      61.119149    29.317331   \n",
       "min        ...           0.000000     0.000000       0.000000     0.000000   \n",
       "25%        ...           0.000000     0.000000       0.000000     0.000000   \n",
       "50%        ...           0.000000    25.000000       0.000000     0.000000   \n",
       "75%        ...         168.000000    68.000000       0.000000     0.000000   \n",
       "max        ...         857.000000   547.000000     552.000000   508.000000   \n",
       "\n",
       "       ScreenPorch     PoolArea       MiscVal       MoSold       YrSold  \\\n",
       "count  1460.000000  1460.000000   1460.000000  1460.000000  1460.000000   \n",
       "mean     15.060959     2.758904     43.489041     6.321918  2007.815753   \n",
       "std      55.757415    40.177307    496.123024     2.703626     1.328095   \n",
       "min       0.000000     0.000000      0.000000     1.000000  2006.000000   \n",
       "25%       0.000000     0.000000      0.000000     5.000000  2007.000000   \n",
       "50%       0.000000     0.000000      0.000000     6.000000  2008.000000   \n",
       "75%       0.000000     0.000000      0.000000     8.000000  2009.000000   \n",
       "max     480.000000   738.000000  15500.000000    12.000000  2010.000000   \n",
       "\n",
       "           SalePrice  \n",
       "count    1460.000000  \n",
       "mean   180921.195890  \n",
       "std     79442.502883  \n",
       "min     34900.000000  \n",
       "25%    129975.000000  \n",
       "50%    163000.000000  \n",
       "75%    214000.000000  \n",
       "max    755000.000000  \n",
       "\n",
       "[8 rows x 38 columns]"
      ]
     },
     "execution_count": 4,
     "metadata": {},
     "output_type": "execute_result"
    }
   ],
   "source": [
    "train.describe()"
   ]
  },
  {
   "cell_type": "code",
   "execution_count": 5,
   "metadata": {},
   "outputs": [],
   "source": [
    "# Drop Id\n",
    "train = train.drop('Id', 1)"
   ]
  },
  {
   "cell_type": "code",
   "execution_count": 6,
   "metadata": {},
   "outputs": [],
   "source": [
    "# train.drop(['MiscVal'], axis = 1, inplace = True)\n",
    "#1. Convert NA into 'No' Categorical values\n",
    "meaningfulNA = ['Alley', 'BsmtQual', 'BsmtCond', 'BsmtExposure', 'BsmtFinType1', 'BsmtFinType2', 'FireplaceQu', \n",
    " 'GarageType', 'GarageFinish', 'GarageQual', 'GarageCond', 'PoolQC', 'Fence', 'MiscFeature']\n",
    "train[meaningfulNA] = train[meaningfulNA].fillna('No')"
   ]
  },
  {
   "cell_type": "code",
   "execution_count": 7,
   "metadata": {},
   "outputs": [],
   "source": [
    "# do shuffle\n",
    "train = train.sample(frac=1,random_state=1)\n"
   ]
  },
  {
   "cell_type": "code",
   "execution_count": 8,
   "metadata": {},
   "outputs": [
    {
     "name": "stdout",
     "output_type": "stream",
     "text": [
      "intVar => ['MSSubClass', 'LotArea', 'OverallQual', 'OverallCond', 'YearBuilt', 'YearRemodAdd', 'BsmtFinSF1', 'BsmtFinSF2', 'BsmtUnfSF', 'TotalBsmtSF', '1stFlrSF', '2ndFlrSF', 'LowQualFinSF', 'GrLivArea', 'BsmtFullBath', 'BsmtHalfBath', 'FullBath', 'HalfBath', 'BedroomAbvGr', 'KitchenAbvGr', 'TotRmsAbvGrd', 'Fireplaces', 'GarageCars', 'GarageArea', 'WoodDeckSF', 'OpenPorchSF', 'EnclosedPorch', '3SsnPorch', 'ScreenPorch', 'PoolArea', 'MiscVal', 'MoSold', 'YrSold', 'SalePrice'] \n",
      "\n",
      "floatVar => ['LotFrontage', 'MasVnrArea', 'GarageYrBlt'] \n",
      "\n",
      "objectVar => ['MSZoning', 'Street', 'Alley', 'LotShape', 'LandContour', 'Utilities', 'LotConfig', 'LandSlope', 'Neighborhood', 'Condition1', 'Condition2', 'BldgType', 'HouseStyle', 'RoofStyle', 'RoofMatl', 'Exterior1st', 'Exterior2nd', 'MasVnrType', 'ExterQual', 'ExterCond', 'Foundation', 'BsmtQual', 'BsmtCond', 'BsmtExposure', 'BsmtFinType1', 'BsmtFinType2', 'Heating', 'HeatingQC', 'CentralAir', 'Electrical', 'KitchenQual', 'Functional', 'FireplaceQu', 'GarageType', 'GarageFinish', 'GarageQual', 'GarageCond', 'PavedDrive', 'PoolQC', 'Fence', 'MiscFeature', 'SaleType', 'SaleCondition'] \n",
      "\n"
     ]
    }
   ],
   "source": [
    "intVar = train.select_dtypes(include = ['int']).columns.tolist()\n",
    "floatVar = train.select_dtypes(include = ['float']).columns.tolist()\n",
    "objectVar = train.select_dtypes(include = ['object']).columns.tolist()\n",
    "\n",
    "\n",
    "print(\"intVar =>\",intVar,\"\\n\")\n",
    "print(\"floatVar =>\",floatVar,\"\\n\")\n",
    "print(\"objectVar =>\",objectVar,\"\\n\")\n",
    "\n",
    "\n",
    "\n",
    "\n",
    "\n"
   ]
  },
  {
   "cell_type": "code",
   "execution_count": 9,
   "metadata": {},
   "outputs": [
    {
     "data": {
      "text/plain": [
       "34"
      ]
     },
     "execution_count": 9,
     "metadata": {},
     "output_type": "execute_result"
    }
   ],
   "source": [
    "len(intVar)"
   ]
  },
  {
   "cell_type": "markdown",
   "metadata": {},
   "source": [
    "# 進行資料編碼"
   ]
  },
  {
   "cell_type": "code",
   "execution_count": 10,
   "metadata": {},
   "outputs": [
    {
     "data": {
      "text/plain": [
       "array([['RL', 'Pave', 'No', ..., 'No', 'WD', 'Normal'],\n",
       "       ['RL', 'Pave', 'No', ..., 'No', 'WD', 'Normal'],\n",
       "       ['RL', 'Pave', 'No', ..., 'No', 'WD', 'Normal'],\n",
       "       ..., \n",
       "       ['RM', 'Pave', 'No', ..., 'No', 'WD', 'Normal'],\n",
       "       ['RM', 'Pave', 'No', ..., 'No', 'WD', 'Normal'],\n",
       "       ['C (all)', 'Grvl', 'No', ..., 'Shed', 'ConLD', 'Normal']], dtype=object)"
      ]
     },
     "execution_count": 10,
     "metadata": {},
     "output_type": "execute_result"
    }
   ],
   "source": [
    "cate_data = train[objectVar]\n",
    "cate_data.values"
   ]
  },
  {
   "cell_type": "code",
   "execution_count": 11,
   "metadata": {},
   "outputs": [],
   "source": [
    "\n",
    "\n",
    "from sklearn.preprocessing import LabelEncoder, OneHotEncoder\n",
    "Xstr = cate_data.values.astype(dtype=\"str\")\n",
    "# transform to integer\n",
    "Xint = LabelEncoder().fit_transform(Xstr.ravel()).reshape(*Xstr.shape)\n",
    "# transform to binary\n",
    "Xbin = OneHotEncoder().fit_transform(Xint).toarray()\n",
    "\n"
   ]
  },
  {
   "cell_type": "code",
   "execution_count": 12,
   "metadata": {},
   "outputs": [
    {
     "data": {
      "text/plain": [
       "array([[ 0.,  0.,  0., ...,  0.,  1.,  0.],\n",
       "       [ 0.,  0.,  0., ...,  0.,  1.,  0.],\n",
       "       [ 0.,  0.,  0., ...,  0.,  1.,  0.],\n",
       "       ..., \n",
       "       [ 0.,  0.,  0., ...,  0.,  1.,  0.],\n",
       "       [ 0.,  0.,  0., ...,  0.,  1.,  0.],\n",
       "       [ 1.,  0.,  0., ...,  0.,  1.,  0.]])"
      ]
     },
     "execution_count": 12,
     "metadata": {},
     "output_type": "execute_result"
    }
   ],
   "source": [
    "X_cate = Xbin\n",
    "X_cate"
   ]
  },
  {
   "cell_type": "code",
   "execution_count": 13,
   "metadata": {},
   "outputs": [
    {
     "name": "stdout",
     "output_type": "stream",
     "text": [
      "(1460, 3)\n",
      "(1460, 33)\n"
     ]
    }
   ],
   "source": [
    "from sklearn.preprocessing import StandardScaler\n",
    "stds = StandardScaler()\n",
    "X_float = train[floatVar]\n",
    "X_int = train[intVar[:-1]]\n",
    "\n",
    "print(X_float.shape)\n",
    "print(X_int.shape)"
   ]
  },
  {
   "cell_type": "code",
   "execution_count": 14,
   "metadata": {},
   "outputs": [
    {
     "data": {
      "text/plain": [
       "(1460, 36)"
      ]
     },
     "execution_count": 14,
     "metadata": {},
     "output_type": "execute_result"
    }
   ],
   "source": [
    "X_real = np.column_stack((X_float,X_int))\n",
    "X_real = np.nan_to_num(X_real)\n",
    "\n",
    "X_real_scaled = stds.fit_transform(X_real)\n",
    "X_real_scaled.shape"
   ]
  },
  {
   "cell_type": "code",
   "execution_count": 15,
   "metadata": {},
   "outputs": [
    {
     "data": {
      "text/plain": [
       "(1460, 303)"
      ]
     },
     "execution_count": 15,
     "metadata": {},
     "output_type": "execute_result"
    }
   ],
   "source": [
    "X_all = np.column_stack((X_real_scaled,X_cate))\n",
    "X_all.shape"
   ]
  },
  {
   "cell_type": "code",
   "execution_count": 16,
   "metadata": {},
   "outputs": [
    {
     "data": {
      "text/plain": [
       "[<matplotlib.lines.Line2D at 0x10dc04b38>]"
      ]
     },
     "execution_count": 16,
     "metadata": {},
     "output_type": "execute_result"
    },
    {
     "data": {
      "image/png": "[encoded data removed]",
      "text/plain": [
       "<matplotlib.figure.Figure at 0x1104a3d30>"
      ]
     },
     "metadata": {
      "image/png": {
       "height": 248,
       "width": 380
      }
     },
     "output_type": "display_data"
    }
   ],
   "source": [
    "from sklearn import decomposition\n",
    "pca = decomposition.PCA(n_components=290,whiten=True)\n",
    "X_train_pca = pca.fit_transform(X_all)\n",
    "\n",
    "plt.plot(pca.explained_variance_ratio_)\n"
   ]
  },
  {
   "cell_type": "code",
   "execution_count": 17,
   "metadata": {},
   "outputs": [
    {
     "name": "stderr",
     "output_type": "stream",
     "text": [
      "/usr/local/lib/python3.6/site-packages/ipykernel_launcher.py:4: FutureWarning: reshape is deprecated and will raise in a subsequent release. Please use .values.reshape(...) instead\n",
      "  after removing the cwd from sys.path.\n",
      "/usr/local/lib/python3.6/site-packages/sklearn/utils/validation.py:475: DataConversionWarning: Data with input dtype int64 was converted to float64 by StandardScaler.\n",
      "  warnings.warn(msg, DataConversionWarning)\n"
     ]
    },
    {
     "data": {
      "text/plain": [
       "array([[ 0.63688999],\n",
       "       [-0.01789575],\n",
       "       [-0.74193766],\n",
       "       ..., \n",
       "       [-0.67897749],\n",
       "       [-1.15117874],\n",
       "       [-1.25821103]])"
      ]
     },
     "execution_count": 17,
     "metadata": {},
     "output_type": "execute_result"
    }
   ],
   "source": [
    "Y = train['SalePrice']\n",
    "\n",
    "stds_y = StandardScaler()\n",
    "Y_scaled = stds_y.fit_transform(Y.reshape(-1, 1))\n",
    "Y_scaled"
   ]
  },
  {
   "cell_type": "code",
   "execution_count": 18,
   "metadata": {},
   "outputs": [
    {
     "name": "stderr",
     "output_type": "stream",
     "text": [
      "/usr/local/lib/python3.6/site-packages/sklearn/linear_model/stochastic_gradient.py:128: FutureWarning: max_iter and tol parameters have been added in <class 'sklearn.linear_model.stochastic_gradient.SGDRegressor'> in 0.19. If both are left unset, they default to max_iter=5 and tol=None. If tol is not None, max_iter defaults to max_iter=1000. From 0.21, default max_iter will be 1000, and default tol will be 1e-3.\n",
      "  \"and default tol will be 1e-3.\" % type(self), FutureWarning)\n",
      "/usr/local/lib/python3.6/site-packages/sklearn/utils/validation.py:578: DataConversionWarning: A column-vector y was passed when a 1d array was expected. Please change the shape of y to (n_samples, ), for example using ravel().\n",
      "  y = column_or_1d(y, warn=True)\n"
     ]
    },
    {
     "data": {
      "text/plain": [
       "15620.960568981267"
      ]
     },
     "execution_count": 18,
     "metadata": {},
     "output_type": "execute_result"
    }
   ],
   "source": [
    "from sklearn.linear_model import LinearRegression,SGDRegressor,BayesianRidge\n",
    "from sklearn import metrics\n",
    "lr = SGDRegressor(loss='squared_loss', \n",
    "                  penalty='l1', alpha=0.005, l1_ratio=0.15, \n",
    "                  fit_intercept=True, max_iter=None, tol=None, \n",
    "                  shuffle=True, verbose=0, epsilon=0.1, random_state=1, learning_rate='invscaling', \n",
    "                  eta0=0.01, power_t=0.25, warm_start=False, average=False, n_iter=None)\n",
    "\n",
    "\n",
    "# lr = BayesianRidge(n_iter=300, tol=0.001, alpha_1=1e-06, alpha_2=1e-06, lambda_1=1e-06, \n",
    "#                    lambda_2=1e-06, compute_score=False, fit_intercept=True, normalize=True, \n",
    "#                    copy_X=True, verbose=False)\n",
    "\n",
    "lr.fit(X_train_pca[:-100],Y_scaled[:-100])\n",
    "\n",
    "\n",
    "# 拿 training 直接驗證\n",
    "predict_y = lr.predict(X_train_pca[-100:])\n",
    "metrics.mean_absolute_error(Y[-100:],stds_y.inverse_transform(predict_y))"
   ]
  },
  {
   "cell_type": "code",
   "execution_count": 71,
   "metadata": {},
   "outputs": [
    {
     "data": {
      "text/plain": [
       "array([  8.53942745e-01,  -4.79872570e-03,   1.10518411e-01,\n",
       "        -2.36182530e-02,   1.41862709e-02,  -1.17714132e-01,\n",
       "         5.91569627e-02,  -4.12053500e-02,  -5.45724911e-03,\n",
       "         6.34045981e-02,   2.62153120e-02,   0.00000000e+00,\n",
       "         0.00000000e+00,  -2.60594151e-02,  -2.49264654e-02,\n",
       "        -1.34383939e-02,   3.02888081e-02,  -1.13434480e-02,\n",
       "        -3.40987194e-02,   2.99929429e-02,  -2.93259797e-02,\n",
       "         1.82615167e-02,  -3.13837929e-02,   0.00000000e+00,\n",
       "         4.99455550e-02,   8.64455224e-02,  -8.69678855e-02,\n",
       "         2.29083204e-02,   1.06108895e-02,  -2.43781943e-02,\n",
       "        -4.52177986e-02,  -4.57642209e-02,  -2.09299464e-02,\n",
       "        -6.43498484e-02,  -2.14623495e-02,   8.61508045e-04,\n",
       "         6.71083333e-03,   2.99307236e-02,   3.18029928e-03,\n",
       "         0.00000000e+00,  -2.80891155e-02,  -3.96399501e-02,\n",
       "         3.25534629e-02,  -6.41809254e-03,   0.00000000e+00,\n",
       "        -3.25871918e-02,   0.00000000e+00,   7.71294754e-03,\n",
       "         2.84984668e-02,   0.00000000e+00,  -2.02048667e-02,\n",
       "        -2.27502041e-02,   3.97525433e-02,   4.49031109e-03,\n",
       "         0.00000000e+00,  -3.31768777e-02,  -3.66230128e-03,\n",
       "         3.44419030e-02,  -3.64793167e-02,  -9.33276719e-03,\n",
       "         2.68871785e-02,  -1.48470233e-02,  -2.50713797e-02,\n",
       "         0.00000000e+00,   0.00000000e+00,   2.10301805e-02,\n",
       "        -1.57860382e-02,  -3.08282737e-02,   4.40019670e-02,\n",
       "         2.09369449e-02,   0.00000000e+00,   2.05193051e-02,\n",
       "        -1.42108283e-02,   4.37294850e-02,  -1.57645538e-02,\n",
       "         0.00000000e+00,  -3.87099653e-02,  -1.95564205e-02,\n",
       "         0.00000000e+00,   1.40232096e-02,  -2.96962654e-02,\n",
       "        -1.63433453e-02,  -5.26335415e-02,  -3.12013746e-02,\n",
       "         6.98051689e-03,  -1.65712878e-02,   0.00000000e+00,\n",
       "         0.00000000e+00,   2.76815121e-02,   2.00905578e-02,\n",
       "        -1.87450866e-02,  -2.61286198e-02,   1.93939658e-02,\n",
       "         1.09264248e-02,   0.00000000e+00,  -5.87573191e-03,\n",
       "        -2.98600010e-02,   8.07610126e-03,   1.42260870e-02,\n",
       "         0.00000000e+00,   1.10217899e-02,   0.00000000e+00,\n",
       "         7.84637737e-03,   1.86778751e-02,  -1.37033091e-02,\n",
       "        -1.24431143e-02,   1.40510971e-03,  -1.53697865e-02,\n",
       "         1.57308509e-02,   6.96048041e-03,   0.00000000e+00,\n",
       "        -1.15777449e-02,  -2.33657792e-02,  -1.64566736e-02,\n",
       "         1.55641094e-02,   0.00000000e+00,  -2.46020184e-02,\n",
       "        -1.51487552e-02,  -2.46606696e-02,   1.58953403e-02,\n",
       "         0.00000000e+00,   0.00000000e+00,   4.30249631e-02,\n",
       "        -2.90220109e-02,   0.00000000e+00,  -3.62312800e-02,\n",
       "         0.00000000e+00,   0.00000000e+00,   8.57261867e-03,\n",
       "        -1.56312521e-02,   0.00000000e+00,  -2.29976850e-02,\n",
       "         4.26800511e-02,   2.26158128e-02,   5.53330606e-02,\n",
       "         0.00000000e+00,  -6.67741058e-03,  -4.13704913e-03,\n",
       "        -3.59076892e-03,   2.02057358e-02,  -8.24413279e-03,\n",
       "        -5.29562838e-03,   1.64712980e-02,  -8.75735013e-03,\n",
       "         0.00000000e+00,  -1.96780155e-02,  -2.19269884e-02,\n",
       "        -1.08485874e-02,  -3.25861184e-02,  -1.15410765e-02,\n",
       "         0.00000000e+00,  -1.55483602e-02,   2.62452787e-03,\n",
       "        -1.33055853e-02,   6.65763199e-03,   2.22395353e-02,\n",
       "        -9.76287971e-03,   0.00000000e+00,   0.00000000e+00,\n",
       "         0.00000000e+00,  -2.86298233e-02,   0.00000000e+00,\n",
       "         1.51905932e-02,   1.15297232e-03,  -2.73322666e-02,\n",
       "         0.00000000e+00,   0.00000000e+00,   0.00000000e+00,\n",
       "        -1.41788863e-02,   0.00000000e+00,   0.00000000e+00,\n",
       "         2.19782082e-02,   0.00000000e+00,  -2.29725996e-02,\n",
       "         4.15357616e-03,  -2.14443749e-02,   0.00000000e+00,\n",
       "         0.00000000e+00,  -2.12450755e-02,   0.00000000e+00,\n",
       "         0.00000000e+00,  -1.16731931e-02,   3.45588215e-03,\n",
       "         0.00000000e+00,   8.39120296e-03,   1.45392138e-02,\n",
       "        -1.23504923e-02,   6.80936638e-03,   0.00000000e+00,\n",
       "        -1.39643167e-03,   6.41192142e-03,  -7.25249338e-03,\n",
       "         0.00000000e+00,   1.20473502e-02,   6.95261869e-03,\n",
       "         0.00000000e+00,  -2.12829082e-02,   0.00000000e+00,\n",
       "         0.00000000e+00,   2.06330575e-02,   0.00000000e+00,\n",
       "         2.74631890e-02,   3.11550154e-03,   0.00000000e+00,\n",
       "         7.74105527e-03,   0.00000000e+00,   1.74986238e-02,\n",
       "        -7.52580226e-03,   0.00000000e+00,   0.00000000e+00,\n",
       "        -2.21420643e-03,   0.00000000e+00,  -2.84764433e-02,\n",
       "         1.03189429e-02,   2.18968111e-03,   0.00000000e+00,\n",
       "        -5.19965981e-02,   2.00866240e-02,  -7.32627811e-02,\n",
       "        -1.51553378e-02,   0.00000000e+00,  -7.06072408e-02,\n",
       "        -3.55231034e-02,   4.24415450e-03,   0.00000000e+00,\n",
       "         5.44206214e-02,  -1.06051684e-02,  -1.92696757e-02,\n",
       "         7.46431037e-03,  -1.16778504e-02,   1.44614237e-03,\n",
       "         0.00000000e+00,   0.00000000e+00,  -1.02681535e-02,\n",
       "         0.00000000e+00,   0.00000000e+00,   0.00000000e+00,\n",
       "         0.00000000e+00,   2.57910892e-02,  -7.92994875e-03,\n",
       "        -1.36525509e-02,   6.86177006e-02,   1.16062473e-02,\n",
       "         0.00000000e+00,  -3.87761169e-03,  -6.31699961e-02,\n",
       "         3.11723654e-03,   6.49369345e-02,   2.64931235e-02,\n",
       "         0.00000000e+00,   0.00000000e+00,   0.00000000e+00,\n",
       "         5.51843969e-03,   0.00000000e+00,   0.00000000e+00,\n",
       "        -1.79039103e-03,   0.00000000e+00,   0.00000000e+00,\n",
       "         0.00000000e+00,   3.42556104e-03,  -5.36642565e-03,\n",
       "         0.00000000e+00,   0.00000000e+00,   0.00000000e+00,\n",
       "         0.00000000e+00,   0.00000000e+00,   0.00000000e+00,\n",
       "        -1.31525447e-02,   0.00000000e+00,  -1.20651405e-02,\n",
       "         0.00000000e+00,   0.00000000e+00,   0.00000000e+00,\n",
       "         0.00000000e+00,  -6.51260133e-03,   0.00000000e+00,\n",
       "         0.00000000e+00,   0.00000000e+00,  -5.62573290e-03,\n",
       "         0.00000000e+00,   0.00000000e+00,   2.70413784e-03,\n",
       "        -5.08404178e-04,   0.00000000e+00,   8.93421025e-03,\n",
       "         6.95690843e-03,   0.00000000e+00,   0.00000000e+00,\n",
       "         0.00000000e+00,   0.00000000e+00])"
      ]
     },
     "execution_count": 71,
     "metadata": {},
     "output_type": "execute_result"
    }
   ],
   "source": [
    "lr.coef_"
   ]
  },
  {
   "cell_type": "markdown",
   "metadata": {},
   "source": [
    "# Use NN"
   ]
  },
  {
   "cell_type": "code",
   "execution_count": 19,
   "metadata": {},
   "outputs": [
    {
     "name": "stderr",
     "output_type": "stream",
     "text": [
      "Using TensorFlow backend.\n",
      "/usr/local/Cellar/python3/3.6.3/Frameworks/Python.framework/Versions/3.6/lib/python3.6/importlib/_bootstrap.py:219: RuntimeWarning: compiletime version 3.5 of module 'tensorflow.python.framework.fast_tensor_util' does not match runtime version 3.6\n",
      "  return f(*args, **kwds)\n"
     ]
    }
   ],
   "source": [
    "from keras.layers import Input, Dense\n",
    "from keras.models import Model\n",
    "from keras import regularizers\n",
    "\n",
    "from keras.layers import Input, Dense\n",
    "from keras.models import Model\n",
    "from keras import regularizers\n",
    "from keras import initializers\n",
    "from keras import optimizers"
   ]
  },
  {
   "cell_type": "code",
   "execution_count": null,
   "metadata": {},
   "outputs": [],
   "source": []
  },
  {
   "cell_type": "code",
   "execution_count": 20,
   "metadata": {},
   "outputs": [
    {
     "name": "stderr",
     "output_type": "stream",
     "text": [
      "/usr/local/lib/python3.6/site-packages/ipykernel_launcher.py:5: FutureWarning: reshape is deprecated and will raise in a subsequent release. Please use .values.reshape(...) instead\n",
      "  \"\"\"\n",
      "/usr/local/lib/python3.6/site-packages/sklearn/utils/validation.py:475: DataConversionWarning: Data with input dtype int64 was converted to float64 by MinMaxScaler.\n",
      "  warnings.warn(msg, DataConversionWarning)\n"
     ]
    },
    {
     "data": {
      "text/plain": [
       "array([[ 0.27301764],\n",
       "       [ 0.20080544],\n",
       "       [ 0.12095542],\n",
       "       ..., \n",
       "       [ 0.1278989 ],\n",
       "       [ 0.0758228 ],\n",
       "       [ 0.06401889]])"
      ]
     },
     "execution_count": 20,
     "metadata": {},
     "output_type": "execute_result"
    }
   ],
   "source": [
    "from sklearn.preprocessing import StandardScaler,MinMaxScaler\n",
    "\n",
    "Y = train['SalePrice']\n",
    "stds_y = MinMaxScaler(feature_range=(0, 1), copy=True)\n",
    "Y_scaled = stds_y.fit_transform(Y.reshape(-1, 1))\n",
    "Y_scaled"
   ]
  },
  {
   "cell_type": "code",
   "execution_count": 114,
   "metadata": {},
   "outputs": [],
   "source": [
    "input_x = Input(shape=(X_all.shape[1],))\n"
   ]
  },
  {
   "cell_type": "code",
   "execution_count": 115,
   "metadata": {},
   "outputs": [],
   "source": [
    "h1 = Dense(32,activation='linear',\n",
    "               kernel_regularizer=regularizers.l1(0.005),)(input_x)\n",
    "\n",
    "output = Dense(1,activation='linear',\n",
    "               kernel_regularizer=regularizers.l1(0.005),)(input_x)"
   ]
  },
  {
   "cell_type": "code",
   "execution_count": 116,
   "metadata": {},
   "outputs": [],
   "source": [
    "model = Model(input_x,output)\n"
   ]
  },
  {
   "cell_type": "code",
   "execution_count": 117,
   "metadata": {},
   "outputs": [
    {
     "name": "stdout",
     "output_type": "stream",
     "text": [
      "_________________________________________________________________\n",
      "Layer (type)                 Output Shape              Param #   \n",
      "=================================================================\n",
      "input_4 (InputLayer)         (None, 303)               0         \n",
      "_________________________________________________________________\n",
      "dense_12 (Dense)             (None, 1)                 304       \n",
      "=================================================================\n",
      "Total params: 304\n",
      "Trainable params: 304\n",
      "Non-trainable params: 0\n",
      "_________________________________________________________________\n"
     ]
    }
   ],
   "source": [
    "model.compile(optimizer=optimizers.Adagrad(),\n",
    "              loss='mean_squared_error',)\n",
    "model.summary()"
   ]
  },
  {
   "cell_type": "code",
   "execution_count": 123,
   "metadata": {
    "scrolled": false
   },
   "outputs": [],
   "source": [
    "\n",
    "error = model.fit(X_all[100:],Y_scaled[100:],\n",
    "                  batch_size=8,validation_split=0.10,\n",
    "                  validation_steps=None,epochs=200,verbose=0)\n",
    "    \n"
   ]
  },
  {
   "cell_type": "code",
   "execution_count": 124,
   "metadata": {},
   "outputs": [
    {
     "data": {
      "text/plain": [
       "[0.0034044893105435216,\n",
       " 0.0034117088592276463,\n",
       " 0.0034223971454718826,\n",
       " 0.0034034259128840824,\n",
       " 0.0034023357868754591,\n",
       " 0.003379752280440157,\n",
       " 0.0033988516307527235,\n",
       " 0.0033775091436052439,\n",
       " 0.0033878986906333299,\n",
       " 0.0033966011879052603,\n",
       " 0.0033971481185004699,\n",
       " 0.003376261454404277,\n",
       " 0.0033770276193987895,\n",
       " 0.0033916904213625232,\n",
       " 0.0033724791525552669,\n",
       " 0.0033835608609556374,\n",
       " 0.003388825831386973,\n",
       " 0.0033867772915126648,\n",
       " 0.0033632195280755266,\n",
       " 0.0033869824115053014,\n",
       " 0.0033810748399107481,\n",
       " 0.0033738304940021894,\n",
       " 0.003378499906473592,\n",
       " 0.0033837191492708681,\n",
       " 0.0033723726165572217,\n",
       " 0.0033658824654089082,\n",
       " 0.0033718091877043442,\n",
       " 0.0033667264498611973,\n",
       " 0.003398473697921468,\n",
       " 0.0033623425920000847,\n",
       " 0.0033784987917778635,\n",
       " 0.0033718075814772566,\n",
       " 0.0033714244776752358,\n",
       " 0.0033680660965140254,\n",
       " 0.0033700612215386105,\n",
       " 0.0033676241451472627,\n",
       " 0.0033702658248907016,\n",
       " 0.0033526686575641139,\n",
       " 0.0033606791882501807,\n",
       " 0.0033634670468327267,\n",
       " 0.0033690750726736059,\n",
       " 0.0033676419163646263,\n",
       " 0.0033523320886945608,\n",
       " 0.0033665361747243047,\n",
       " 0.0033541039443495714,\n",
       " 0.0033584329059189247,\n",
       " 0.0033649222505297148,\n",
       " 0.0033395376864492018,\n",
       " 0.0033629465006669267,\n",
       " 0.0033753990360042628,\n",
       " 0.0033523652754310104,\n",
       " 0.003355110392850988,\n",
       " 0.0033484518176456002,\n",
       " 0.0033514805068109743,\n",
       " 0.0033450665384579716,\n",
       " 0.0033608553162623755,\n",
       " 0.0033571816976273468,\n",
       " 0.0033559978892418003,\n",
       " 0.0033540732662491746,\n",
       " 0.0033606158522280312,\n",
       " 0.0033511021897330686,\n",
       " 0.0033522123178722813,\n",
       " 0.0033478336446778546,\n",
       " 0.0033597551435353905,\n",
       " 0.0033581899334463516,\n",
       " 0.0033443974836248587,\n",
       " 0.0033470790321920431,\n",
       " 0.0033642382115990021,\n",
       " 0.0033509576635350003,\n",
       " 0.0033486088132181394,\n",
       " 0.0033571263486093361,\n",
       " 0.0033380026674945077,\n",
       " 0.0033369751158626934,\n",
       " 0.0033564934768756621,\n",
       " 0.0033364074618184294,\n",
       " 0.0033433539876592607,\n",
       " 0.003356876124147009,\n",
       " 0.0033413455091124656,\n",
       " 0.0033443838173791377,\n",
       " 0.0033428839885696672,\n",
       " 0.0033523315644451704,\n",
       " 0.0033474053192299371,\n",
       " 0.0033544098335969584,\n",
       " 0.003349738686308995,\n",
       " 0.003347672801312619,\n",
       " 0.0033525578842005309,\n",
       " 0.0033441226437894832,\n",
       " 0.0033503246586465466,\n",
       " 0.0033515947711124433,\n",
       " 0.0033536940711106056,\n",
       " 0.0033394379459102362,\n",
       " 0.0033413378059182291,\n",
       " 0.0033518076871272202,\n",
       " 0.0033520740042957994,\n",
       " 0.0033478259962672987,\n",
       " 0.0033420852105455852,\n",
       " 0.0033406968870705444,\n",
       " 0.003345523407725386,\n",
       " 0.0033493410868971956,\n",
       " 0.003320739622033061,\n",
       " 0.003344293320825433,\n",
       " 0.0033348834414485525,\n",
       " 0.0033476903693738327,\n",
       " 0.0033215241349953549,\n",
       " 0.003344281527116359,\n",
       " 0.0033414001687691588,\n",
       " 0.003350371842613456,\n",
       " 0.0033373890187457398,\n",
       " 0.0033530368609658253,\n",
       " 0.0033345541565259007,\n",
       " 0.0033530140937811214,\n",
       " 0.0033449775941085582,\n",
       " 0.0033405442894101629,\n",
       " 0.0033338643927005381,\n",
       " 0.0033461117608704015,\n",
       " 0.003343581550699823,\n",
       " 0.0033319240779877681,\n",
       " 0.0033468813323446252,\n",
       " 0.0033300539114956861,\n",
       " 0.0033473797337292065,\n",
       " 0.0033454346688147757,\n",
       " 0.0033363100062154868,\n",
       " 0.0033417927988445739,\n",
       " 0.0033485798189550444,\n",
       " 0.0033350327749146159,\n",
       " 0.0033383392340814075,\n",
       " 0.0033420075455473531,\n",
       " 0.0033415361372997462,\n",
       " 0.0033529013854883662,\n",
       " 0.0033379091403380134,\n",
       " 0.0033435602581091957,\n",
       " 0.0033315155872758601,\n",
       " 0.0033392977293617292,\n",
       " 0.0033442539024452853,\n",
       " 0.0033428707035270586,\n",
       " 0.0033376487063280507,\n",
       " 0.0033285945092382677,\n",
       " 0.0033415717748450299,\n",
       " 0.0033275086525523293,\n",
       " 0.0033401955174756984,\n",
       " 0.003340981623730044,\n",
       " 0.0033381563920247691,\n",
       " 0.0033391525305418016,\n",
       " 0.0033411336157263983,\n",
       " 0.0033309321174872855,\n",
       " 0.0033414463141287851,\n",
       " 0.0033324323731529363,\n",
       " 0.0033225012065087951,\n",
       " 0.0033345954459209261,\n",
       " 0.0033425016525000626,\n",
       " 0.0033376694092332247,\n",
       " 0.0033381194518452961,\n",
       " 0.003336460971778709,\n",
       " 0.0033421951956328711,\n",
       " 0.0033232725546482244,\n",
       " 0.0033433966108847384,\n",
       " 0.0033456431024592201,\n",
       " 0.0033342989482703844,\n",
       " 0.0033318039046576113,\n",
       " 0.0033456013124022218,\n",
       " 0.0033358733909314171,\n",
       " 0.0033324115812242809,\n",
       " 0.0033405895270346331,\n",
       " 0.0033371918636915924,\n",
       " 0.0033354244447538471,\n",
       " 0.0033400786136660505,\n",
       " 0.0033376757565313597,\n",
       " 0.003346107258717073,\n",
       " 0.003322305782466786,\n",
       " 0.0033270317880022856,\n",
       " 0.0033424267122290686,\n",
       " 0.0033433333425813058,\n",
       " 0.0033296962280824683,\n",
       " 0.0033336813482486346,\n",
       " 0.0033345538118452417,\n",
       " 0.0033396010582329204,\n",
       " 0.0033363112152608879,\n",
       " 0.0033364806345548312,\n",
       " 0.0033322306337699391,\n",
       " 0.0033281833767355266,\n",
       " 0.0033252566438046545,\n",
       " 0.0033405477080640255,\n",
       " 0.0033351222085127351,\n",
       " 0.0033285075310142895,\n",
       " 0.0033369463209513258,\n",
       " 0.0033345764230486323,\n",
       " 0.0033407190714177548,\n",
       " 0.0033210514545489369,\n",
       " 0.0033352495120911332,\n",
       " 0.0033268201030985591,\n",
       " 0.0033233902999960812,\n",
       " 0.0033360456270196178,\n",
       " 0.0033356119807066969,\n",
       " 0.0033290223941340848,\n",
       " 0.0033351505765679226,\n",
       " 0.0033403093351379912,\n",
       " 0.0033342155127244351,\n",
       " 0.0033285935406323548,\n",
       " 0.0033354386938370616,\n",
       " 0.0033406555223479575]"
      ]
     },
     "execution_count": 124,
     "metadata": {},
     "output_type": "execute_result"
    }
   ],
   "source": [
    "error.history['loss']"
   ]
  },
  {
   "cell_type": "code",
   "execution_count": null,
   "metadata": {},
   "outputs": [],
   "source": []
  },
  {
   "cell_type": "code",
   "execution_count": 125,
   "metadata": {},
   "outputs": [
    {
     "data": {
      "text/plain": [
       "18079.386552734373"
      ]
     },
     "execution_count": 125,
     "metadata": {},
     "output_type": "execute_result"
    }
   ],
   "source": [
    "# 拿 training 直接驗證\n",
    "predict_y = model.predict(X_all[:100])\n",
    "metrics.mean_absolute_error(Y[:100], stds_y.inverse_transform(predict_y))"
   ]
  },
  {
   "cell_type": "code",
   "execution_count": null,
   "metadata": {},
   "outputs": [],
   "source": []
  }
 ],
 "metadata": {
  "kernelspec": {
   "display_name": "Python 3",
   "language": "python",
   "name": "python3"
  },
  "language_info": {
   "codemirror_mode": {
    "name": "ipython",
    "version": 3
   },
   "file_extension": ".py",
   "mimetype": "text/x-python",
   "name": "python",
   "nbconvert_exporter": "python",
   "pygments_lexer": "ipython3",
   "version": "3.6.3"
  }
 },
 "nbformat": 4,
 "nbformat_minor": 2
}
