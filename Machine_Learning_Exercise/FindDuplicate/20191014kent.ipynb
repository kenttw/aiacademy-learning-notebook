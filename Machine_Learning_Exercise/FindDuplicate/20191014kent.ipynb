{
 "cells": [
  {
   "cell_type": "markdown",
   "metadata": {},
   "source": [
    "# Basic Information\n",
    "* title: \"Deduplication of contact information\"\n",
    "* author: \"Kent Shih\"\n",
    "* date: \"14 10, 2019\""
   ]
  },
  {
   "cell_type": "markdown",
   "metadata": {},
   "source": [
    "# Data exploration\n",
    "* Some missing value \n",
    "* ??_equality is same as ??, so we remove those columns\n",
    "* the number of postive data and negatvie data are both balance\n",
    "* the values of columns have been standarization ? \n",
    "* the number of data is sufficent to build a hight complexity model such as deep learning\n"
   ]
  },
  {
   "cell_type": "code",
   "execution_count": 1,
   "metadata": {},
   "outputs": [],
   "source": [
    "EVA_SIZE = 2500"
   ]
  },
  {
   "cell_type": "code",
   "execution_count": 2,
   "metadata": {},
   "outputs": [],
   "source": [
    "import pandas as pd\n",
    "import numpy as np\n",
    "import matplotlib.pyplot as plt\n"
   ]
  },
  {
   "cell_type": "code",
   "execution_count": 46,
   "metadata": {},
   "outputs": [
    {
     "data": {
      "text/html": [
       "<div>\n",
       "<style scoped>\n",
       "    .dataframe tbody tr th:only-of-type {\n",
       "        vertical-align: middle;\n",
       "    }\n",
       "\n",
       "    .dataframe tbody tr th {\n",
       "        vertical-align: top;\n",
       "    }\n",
       "\n",
       "    .dataframe thead th {\n",
       "        text-align: right;\n",
       "    }\n",
       "</style>\n",
       "<table border=\"1\" class=\"dataframe\">\n",
       "  <thead>\n",
       "    <tr style=\"text-align: right;\">\n",
       "      <th></th>\n",
       "      <th>id</th>\n",
       "      <th>name_levenshtein_simple</th>\n",
       "      <th>name_trigram_simple</th>\n",
       "      <th>name_levenshtein_term</th>\n",
       "      <th>name_trigram_term</th>\n",
       "      <th>city_levenshtein_simple</th>\n",
       "      <th>city_trigram_simple</th>\n",
       "      <th>city_levenshtein_term</th>\n",
       "      <th>city_trigram_term</th>\n",
       "      <th>zip_levenshtein_simple</th>\n",
       "      <th>...</th>\n",
       "      <th>phone_levenshtein</th>\n",
       "      <th>phone_trigram</th>\n",
       "      <th>fax_levenshtein</th>\n",
       "      <th>fax_trigram</th>\n",
       "      <th>street_number_levenshtein</th>\n",
       "      <th>street_number_trigram</th>\n",
       "      <th>phone_equality</th>\n",
       "      <th>fax_equality</th>\n",
       "      <th>street_number_equality</th>\n",
       "      <th>is_match</th>\n",
       "    </tr>\n",
       "  </thead>\n",
       "  <tbody>\n",
       "    <tr>\n",
       "      <td>20609</td>\n",
       "      <td>2465#2478</td>\n",
       "      <td>1.000000</td>\n",
       "      <td>1.000000</td>\n",
       "      <td>1.000000</td>\n",
       "      <td>1.000000</td>\n",
       "      <td>0.666667</td>\n",
       "      <td>0.666667</td>\n",
       "      <td>0.454545</td>\n",
       "      <td>0.5</td>\n",
       "      <td>1</td>\n",
       "      <td>...</td>\n",
       "      <td>?</td>\n",
       "      <td>?</td>\n",
       "      <td>?</td>\n",
       "      <td>?</td>\n",
       "      <td>1.0</td>\n",
       "      <td>1.0</td>\n",
       "      <td>m</td>\n",
       "      <td>m</td>\n",
       "      <td>s</td>\n",
       "      <td>1</td>\n",
       "    </tr>\n",
       "    <tr>\n",
       "      <td>144</td>\n",
       "      <td>702#703</td>\n",
       "      <td>0.545455</td>\n",
       "      <td>0.545455</td>\n",
       "      <td>0.377778</td>\n",
       "      <td>0.409091</td>\n",
       "      <td>?</td>\n",
       "      <td>?</td>\n",
       "      <td>?</td>\n",
       "      <td>?</td>\n",
       "      <td>?</td>\n",
       "      <td>...</td>\n",
       "      <td>?</td>\n",
       "      <td>?</td>\n",
       "      <td>?</td>\n",
       "      <td>?</td>\n",
       "      <td>1.0</td>\n",
       "      <td>1.0</td>\n",
       "      <td>m</td>\n",
       "      <td>m</td>\n",
       "      <td>s</td>\n",
       "      <td>1</td>\n",
       "    </tr>\n",
       "    <tr>\n",
       "      <td>21440</td>\n",
       "      <td>2097#2064</td>\n",
       "      <td>1.000000</td>\n",
       "      <td>1.000000</td>\n",
       "      <td>1.000000</td>\n",
       "      <td>1.000000</td>\n",
       "      <td>?</td>\n",
       "      <td>?</td>\n",
       "      <td>?</td>\n",
       "      <td>?</td>\n",
       "      <td>?</td>\n",
       "      <td>...</td>\n",
       "      <td>1.0</td>\n",
       "      <td>1.0</td>\n",
       "      <td>?</td>\n",
       "      <td>?</td>\n",
       "      <td>0.75</td>\n",
       "      <td>0.428571432829</td>\n",
       "      <td>s</td>\n",
       "      <td>m</td>\n",
       "      <td>n</td>\n",
       "      <td>1</td>\n",
       "    </tr>\n",
       "    <tr>\n",
       "      <td>19279</td>\n",
       "      <td>8258#8263</td>\n",
       "      <td>0.080808</td>\n",
       "      <td>0.011111</td>\n",
       "      <td>0.088235</td>\n",
       "      <td>0.021739</td>\n",
       "      <td>?</td>\n",
       "      <td>?</td>\n",
       "      <td>?</td>\n",
       "      <td>?</td>\n",
       "      <td>?</td>\n",
       "      <td>...</td>\n",
       "      <td>?</td>\n",
       "      <td>?</td>\n",
       "      <td>?</td>\n",
       "      <td>?</td>\n",
       "      <td>?</td>\n",
       "      <td>?</td>\n",
       "      <td>m</td>\n",
       "      <td>m</td>\n",
       "      <td>n</td>\n",
       "      <td>-1</td>\n",
       "    </tr>\n",
       "    <tr>\n",
       "      <td>7813</td>\n",
       "      <td>6549#6550</td>\n",
       "      <td>0.222857</td>\n",
       "      <td>0.000000</td>\n",
       "      <td>0.153846</td>\n",
       "      <td>0.000000</td>\n",
       "      <td>1</td>\n",
       "      <td>1</td>\n",
       "      <td>1</td>\n",
       "      <td>1</td>\n",
       "      <td>?</td>\n",
       "      <td>...</td>\n",
       "      <td>1.0</td>\n",
       "      <td>1.0</td>\n",
       "      <td>?</td>\n",
       "      <td>?</td>\n",
       "      <td>?</td>\n",
       "      <td>?</td>\n",
       "      <td>s</td>\n",
       "      <td>m</td>\n",
       "      <td>n</td>\n",
       "      <td>1</td>\n",
       "    </tr>\n",
       "    <tr>\n",
       "      <td>10955</td>\n",
       "      <td>2177#2183</td>\n",
       "      <td>1.000000</td>\n",
       "      <td>1.000000</td>\n",
       "      <td>1.000000</td>\n",
       "      <td>1.000000</td>\n",
       "      <td>1</td>\n",
       "      <td>1</td>\n",
       "      <td>1</td>\n",
       "      <td>1</td>\n",
       "      <td>?</td>\n",
       "      <td>...</td>\n",
       "      <td>1.0</td>\n",
       "      <td>1.0</td>\n",
       "      <td>?</td>\n",
       "      <td>?</td>\n",
       "      <td>1.0</td>\n",
       "      <td>1.0</td>\n",
       "      <td>s</td>\n",
       "      <td>m</td>\n",
       "      <td>s</td>\n",
       "      <td>1</td>\n",
       "    </tr>\n",
       "    <tr>\n",
       "      <td>17289</td>\n",
       "      <td>2260#2257</td>\n",
       "      <td>0.977273</td>\n",
       "      <td>0.910714</td>\n",
       "      <td>0.954545</td>\n",
       "      <td>0.800000</td>\n",
       "      <td>?</td>\n",
       "      <td>?</td>\n",
       "      <td>?</td>\n",
       "      <td>?</td>\n",
       "      <td>?</td>\n",
       "      <td>...</td>\n",
       "      <td>1.0</td>\n",
       "      <td>1.0</td>\n",
       "      <td>?</td>\n",
       "      <td>?</td>\n",
       "      <td>1.0</td>\n",
       "      <td>1.0</td>\n",
       "      <td>s</td>\n",
       "      <td>m</td>\n",
       "      <td>s</td>\n",
       "      <td>1</td>\n",
       "    </tr>\n",
       "    <tr>\n",
       "      <td>5192</td>\n",
       "      <td>1177#1184</td>\n",
       "      <td>0.693452</td>\n",
       "      <td>0.566667</td>\n",
       "      <td>0.695652</td>\n",
       "      <td>0.592593</td>\n",
       "      <td>?</td>\n",
       "      <td>?</td>\n",
       "      <td>?</td>\n",
       "      <td>?</td>\n",
       "      <td>?</td>\n",
       "      <td>...</td>\n",
       "      <td>?</td>\n",
       "      <td>?</td>\n",
       "      <td>?</td>\n",
       "      <td>?</td>\n",
       "      <td>1.0</td>\n",
       "      <td>1.0</td>\n",
       "      <td>m</td>\n",
       "      <td>m</td>\n",
       "      <td>s</td>\n",
       "      <td>1</td>\n",
       "    </tr>\n",
       "    <tr>\n",
       "      <td>12172</td>\n",
       "      <td>137#138</td>\n",
       "      <td>1.000000</td>\n",
       "      <td>1.000000</td>\n",
       "      <td>1.000000</td>\n",
       "      <td>1.000000</td>\n",
       "      <td>?</td>\n",
       "      <td>?</td>\n",
       "      <td>?</td>\n",
       "      <td>?</td>\n",
       "      <td>?</td>\n",
       "      <td>...</td>\n",
       "      <td>1.0</td>\n",
       "      <td>1.0</td>\n",
       "      <td>?</td>\n",
       "      <td>?</td>\n",
       "      <td>0.5</td>\n",
       "      <td>0.285714298487</td>\n",
       "      <td>s</td>\n",
       "      <td>m</td>\n",
       "      <td>n</td>\n",
       "      <td>1</td>\n",
       "    </tr>\n",
       "    <tr>\n",
       "      <td>235</td>\n",
       "      <td>8175#8181</td>\n",
       "      <td>0.183838</td>\n",
       "      <td>0.033333</td>\n",
       "      <td>0.117647</td>\n",
       "      <td>0.030303</td>\n",
       "      <td>?</td>\n",
       "      <td>?</td>\n",
       "      <td>?</td>\n",
       "      <td>?</td>\n",
       "      <td>?</td>\n",
       "      <td>...</td>\n",
       "      <td>?</td>\n",
       "      <td>?</td>\n",
       "      <td>?</td>\n",
       "      <td>?</td>\n",
       "      <td>0.5</td>\n",
       "      <td>0.25</td>\n",
       "      <td>m</td>\n",
       "      <td>m</td>\n",
       "      <td>n</td>\n",
       "      <td>-1</td>\n",
       "    </tr>\n",
       "  </tbody>\n",
       "</table>\n",
       "<p>10 rows × 31 columns</p>\n",
       "</div>"
      ],
      "text/plain": [
       "              id  name_levenshtein_simple  name_trigram_simple  \\\n",
       "20609  2465#2478                 1.000000             1.000000   \n",
       "144      702#703                 0.545455             0.545455   \n",
       "21440  2097#2064                 1.000000             1.000000   \n",
       "19279  8258#8263                 0.080808             0.011111   \n",
       "7813   6549#6550                 0.222857             0.000000   \n",
       "10955  2177#2183                 1.000000             1.000000   \n",
       "17289  2260#2257                 0.977273             0.910714   \n",
       "5192   1177#1184                 0.693452             0.566667   \n",
       "12172    137#138                 1.000000             1.000000   \n",
       "235    8175#8181                 0.183838             0.033333   \n",
       "\n",
       "       name_levenshtein_term  name_trigram_term city_levenshtein_simple  \\\n",
       "20609               1.000000           1.000000                0.666667   \n",
       "144                 0.377778           0.409091                       ?   \n",
       "21440               1.000000           1.000000                       ?   \n",
       "19279               0.088235           0.021739                       ?   \n",
       "7813                0.153846           0.000000                       1   \n",
       "10955               1.000000           1.000000                       1   \n",
       "17289               0.954545           0.800000                       ?   \n",
       "5192                0.695652           0.592593                       ?   \n",
       "12172               1.000000           1.000000                       ?   \n",
       "235                 0.117647           0.030303                       ?   \n",
       "\n",
       "      city_trigram_simple city_levenshtein_term city_trigram_term  \\\n",
       "20609            0.666667              0.454545               0.5   \n",
       "144                     ?                     ?                 ?   \n",
       "21440                   ?                     ?                 ?   \n",
       "19279                   ?                     ?                 ?   \n",
       "7813                    1                     1                 1   \n",
       "10955                   1                     1                 1   \n",
       "17289                   ?                     ?                 ?   \n",
       "5192                    ?                     ?                 ?   \n",
       "12172                   ?                     ?                 ?   \n",
       "235                     ?                     ?                 ?   \n",
       "\n",
       "      zip_levenshtein_simple  ... phone_levenshtein phone_trigram  \\\n",
       "20609                      1  ...                 ?             ?   \n",
       "144                        ?  ...                 ?             ?   \n",
       "21440                      ?  ...               1.0           1.0   \n",
       "19279                      ?  ...                 ?             ?   \n",
       "7813                       ?  ...               1.0           1.0   \n",
       "10955                      ?  ...               1.0           1.0   \n",
       "17289                      ?  ...               1.0           1.0   \n",
       "5192                       ?  ...                 ?             ?   \n",
       "12172                      ?  ...               1.0           1.0   \n",
       "235                        ?  ...                 ?             ?   \n",
       "\n",
       "      fax_levenshtein fax_trigram street_number_levenshtein  \\\n",
       "20609               ?           ?                       1.0   \n",
       "144                 ?           ?                       1.0   \n",
       "21440               ?           ?                      0.75   \n",
       "19279               ?           ?                         ?   \n",
       "7813                ?           ?                         ?   \n",
       "10955               ?           ?                       1.0   \n",
       "17289               ?           ?                       1.0   \n",
       "5192                ?           ?                       1.0   \n",
       "12172               ?           ?                       0.5   \n",
       "235                 ?           ?                       0.5   \n",
       "\n",
       "      street_number_trigram phone_equality fax_equality  \\\n",
       "20609                   1.0              m            m   \n",
       "144                     1.0              m            m   \n",
       "21440        0.428571432829              s            m   \n",
       "19279                     ?              m            m   \n",
       "7813                      ?              s            m   \n",
       "10955                   1.0              s            m   \n",
       "17289                   1.0              s            m   \n",
       "5192                    1.0              m            m   \n",
       "12172        0.285714298487              s            m   \n",
       "235                    0.25              m            m   \n",
       "\n",
       "      street_number_equality is_match  \n",
       "20609                      s        1  \n",
       "144                        s        1  \n",
       "21440                      n        1  \n",
       "19279                      n       -1  \n",
       "7813                       n        1  \n",
       "10955                      s        1  \n",
       "17289                      s        1  \n",
       "5192                       s        1  \n",
       "12172                      n        1  \n",
       "235                        n       -1  \n",
       "\n",
       "[10 rows x 31 columns]"
      ]
     },
     "execution_count": 46,
     "metadata": {},
     "output_type": "execute_result"
    }
   ],
   "source": [
    "# read from row data and do suffle \n",
    "data_df = pd.read_csv(\"./address_matching_data.csv\").sample(frac=1,random_state=1)\n",
    "data_df[-10:]"
   ]
  },
  {
   "cell_type": "code",
   "execution_count": null,
   "metadata": {},
   "outputs": [],
   "source": []
  },
  {
   "cell_type": "code",
   "execution_count": null,
   "metadata": {},
   "outputs": [],
   "source": []
  },
  {
   "cell_type": "code",
   "execution_count": null,
   "metadata": {},
   "outputs": [],
   "source": []
  },
  {
   "cell_type": "code",
   "execution_count": null,
   "metadata": {},
   "outputs": [],
   "source": []
  },
  {
   "cell_type": "code",
   "execution_count": 45,
   "metadata": {},
   "outputs": [
    {
     "data": {
      "text/html": [
       "<div>\n",
       "<style scoped>\n",
       "    .dataframe tbody tr th:only-of-type {\n",
       "        vertical-align: middle;\n",
       "    }\n",
       "\n",
       "    .dataframe tbody tr th {\n",
       "        vertical-align: top;\n",
       "    }\n",
       "\n",
       "    .dataframe thead th {\n",
       "        text-align: right;\n",
       "    }\n",
       "</style>\n",
       "<table border=\"1\" class=\"dataframe\">\n",
       "  <thead>\n",
       "    <tr style=\"text-align: right;\">\n",
       "      <th></th>\n",
       "      <th>id</th>\n",
       "      <th>name_levenshtein_simple</th>\n",
       "      <th>name_trigram_simple</th>\n",
       "      <th>name_levenshtein_term</th>\n",
       "      <th>name_trigram_term</th>\n",
       "      <th>city_levenshtein_simple</th>\n",
       "      <th>city_trigram_simple</th>\n",
       "      <th>city_levenshtein_term</th>\n",
       "      <th>city_trigram_term</th>\n",
       "      <th>zip_levenshtein_simple</th>\n",
       "      <th>...</th>\n",
       "      <th>website_trigram_term</th>\n",
       "      <th>phone_levenshtein</th>\n",
       "      <th>phone_trigram</th>\n",
       "      <th>fax_levenshtein</th>\n",
       "      <th>fax_trigram</th>\n",
       "      <th>street_number_levenshtein</th>\n",
       "      <th>street_number_trigram</th>\n",
       "      <th>phone_equality</th>\n",
       "      <th>fax_equality</th>\n",
       "      <th>street_number_equality</th>\n",
       "    </tr>\n",
       "  </thead>\n",
       "  <tbody>\n",
       "    <tr>\n",
       "      <td>0</td>\n",
       "      <td>7221#7218</td>\n",
       "      <td>0.703704</td>\n",
       "      <td>0.666667</td>\n",
       "      <td>0.680000</td>\n",
       "      <td>0.533333</td>\n",
       "      <td>1</td>\n",
       "      <td>1</td>\n",
       "      <td>1</td>\n",
       "      <td>1</td>\n",
       "      <td>1</td>\n",
       "      <td>...</td>\n",
       "      <td>?</td>\n",
       "      <td>1.0</td>\n",
       "      <td>1.0</td>\n",
       "      <td>?</td>\n",
       "      <td>?</td>\n",
       "      <td>1.0</td>\n",
       "      <td>1.0</td>\n",
       "      <td>s</td>\n",
       "      <td>m</td>\n",
       "      <td>s</td>\n",
       "    </tr>\n",
       "    <tr>\n",
       "      <td>1</td>\n",
       "      <td>2393#2398</td>\n",
       "      <td>1.000000</td>\n",
       "      <td>1.000000</td>\n",
       "      <td>0.520000</td>\n",
       "      <td>1.000000</td>\n",
       "      <td>0.666667</td>\n",
       "      <td>0.666667</td>\n",
       "      <td>0.454545</td>\n",
       "      <td>0.5</td>\n",
       "      <td>1</td>\n",
       "      <td>...</td>\n",
       "      <td>?</td>\n",
       "      <td>?</td>\n",
       "      <td>?</td>\n",
       "      <td>?</td>\n",
       "      <td>?</td>\n",
       "      <td>1.0</td>\n",
       "      <td>1.0</td>\n",
       "      <td>m</td>\n",
       "      <td>m</td>\n",
       "      <td>s</td>\n",
       "    </tr>\n",
       "    <tr>\n",
       "      <td>2</td>\n",
       "      <td>2509#2510</td>\n",
       "      <td>1.000000</td>\n",
       "      <td>1.000000</td>\n",
       "      <td>1.000000</td>\n",
       "      <td>1.000000</td>\n",
       "      <td>?</td>\n",
       "      <td>?</td>\n",
       "      <td>?</td>\n",
       "      <td>?</td>\n",
       "      <td>?</td>\n",
       "      <td>...</td>\n",
       "      <td>?</td>\n",
       "      <td>1.0</td>\n",
       "      <td>1.0</td>\n",
       "      <td>?</td>\n",
       "      <td>?</td>\n",
       "      <td>?</td>\n",
       "      <td>?</td>\n",
       "      <td>s</td>\n",
       "      <td>m</td>\n",
       "      <td>n</td>\n",
       "    </tr>\n",
       "    <tr>\n",
       "      <td>3</td>\n",
       "      <td>3695#3700</td>\n",
       "      <td>0.111310</td>\n",
       "      <td>0.000000</td>\n",
       "      <td>0.095238</td>\n",
       "      <td>0.000000</td>\n",
       "      <td>1</td>\n",
       "      <td>1</td>\n",
       "      <td>1</td>\n",
       "      <td>1</td>\n",
       "      <td>0.8</td>\n",
       "      <td>...</td>\n",
       "      <td>?</td>\n",
       "      <td>?</td>\n",
       "      <td>?</td>\n",
       "      <td>?</td>\n",
       "      <td>?</td>\n",
       "      <td>?</td>\n",
       "      <td>?</td>\n",
       "      <td>m</td>\n",
       "      <td>m</td>\n",
       "      <td>n</td>\n",
       "    </tr>\n",
       "    <tr>\n",
       "      <td>4</td>\n",
       "      <td>15918#15955</td>\n",
       "      <td>0.175000</td>\n",
       "      <td>0.074074</td>\n",
       "      <td>0.153846</td>\n",
       "      <td>0.095238</td>\n",
       "      <td>1</td>\n",
       "      <td>1</td>\n",
       "      <td>1</td>\n",
       "      <td>1</td>\n",
       "      <td>1</td>\n",
       "      <td>...</td>\n",
       "      <td>?</td>\n",
       "      <td>?</td>\n",
       "      <td>?</td>\n",
       "      <td>?</td>\n",
       "      <td>?</td>\n",
       "      <td>?</td>\n",
       "      <td>?</td>\n",
       "      <td>m</td>\n",
       "      <td>m</td>\n",
       "      <td>n</td>\n",
       "    </tr>\n",
       "  </tbody>\n",
       "</table>\n",
       "<p>5 rows × 30 columns</p>\n",
       "</div>"
      ],
      "text/plain": [
       "            id  name_levenshtein_simple  name_trigram_simple  \\\n",
       "0    7221#7218                 0.703704             0.666667   \n",
       "1    2393#2398                 1.000000             1.000000   \n",
       "2    2509#2510                 1.000000             1.000000   \n",
       "3    3695#3700                 0.111310             0.000000   \n",
       "4  15918#15955                 0.175000             0.074074   \n",
       "\n",
       "   name_levenshtein_term  name_trigram_term city_levenshtein_simple  \\\n",
       "0               0.680000           0.533333                       1   \n",
       "1               0.520000           1.000000                0.666667   \n",
       "2               1.000000           1.000000                       ?   \n",
       "3               0.095238           0.000000                       1   \n",
       "4               0.153846           0.095238                       1   \n",
       "\n",
       "  city_trigram_simple city_levenshtein_term city_trigram_term  \\\n",
       "0                   1                     1                 1   \n",
       "1            0.666667              0.454545               0.5   \n",
       "2                   ?                     ?                 ?   \n",
       "3                   1                     1                 1   \n",
       "4                   1                     1                 1   \n",
       "\n",
       "  zip_levenshtein_simple  ... website_trigram_term phone_levenshtein  \\\n",
       "0                      1  ...                    ?               1.0   \n",
       "1                      1  ...                    ?                 ?   \n",
       "2                      ?  ...                    ?               1.0   \n",
       "3                    0.8  ...                    ?                 ?   \n",
       "4                      1  ...                    ?                 ?   \n",
       "\n",
       "  phone_trigram fax_levenshtein fax_trigram street_number_levenshtein  \\\n",
       "0           1.0               ?           ?                       1.0   \n",
       "1             ?               ?           ?                       1.0   \n",
       "2           1.0               ?           ?                         ?   \n",
       "3             ?               ?           ?                         ?   \n",
       "4             ?               ?           ?                         ?   \n",
       "\n",
       "  street_number_trigram phone_equality fax_equality street_number_equality  \n",
       "0                   1.0              s            m                      s  \n",
       "1                   1.0              m            m                      s  \n",
       "2                     ?              s            m                      n  \n",
       "3                     ?              m            m                      n  \n",
       "4                     ?              m            m                      n  \n",
       "\n",
       "[5 rows x 30 columns]"
      ]
     },
     "execution_count": 45,
     "metadata": {},
     "output_type": "execute_result"
    }
   ],
   "source": [
    "test_df = pd.read_csv(\"./address_matching_test.csv\")\n",
    "test_df.head()"
   ]
  },
  {
   "cell_type": "code",
   "execution_count": 5,
   "metadata": {},
   "outputs": [
    {
     "data": {
      "text/html": [
       "<div>\n",
       "<style scoped>\n",
       "    .dataframe tbody tr th:only-of-type {\n",
       "        vertical-align: middle;\n",
       "    }\n",
       "\n",
       "    .dataframe tbody tr th {\n",
       "        vertical-align: top;\n",
       "    }\n",
       "\n",
       "    .dataframe thead th {\n",
       "        text-align: right;\n",
       "    }\n",
       "</style>\n",
       "<table border=\"1\" class=\"dataframe\">\n",
       "  <thead>\n",
       "    <tr style=\"text-align: right;\">\n",
       "      <th></th>\n",
       "      <th>name_levenshtein_simple</th>\n",
       "      <th>name_trigram_simple</th>\n",
       "      <th>name_levenshtein_term</th>\n",
       "      <th>name_trigram_term</th>\n",
       "      <th>is_match</th>\n",
       "    </tr>\n",
       "  </thead>\n",
       "  <tbody>\n",
       "    <tr>\n",
       "      <td>count</td>\n",
       "      <td>28235.000000</td>\n",
       "      <td>28235.000000</td>\n",
       "      <td>28235.000000</td>\n",
       "      <td>28235.000000</td>\n",
       "      <td>28235.00000</td>\n",
       "    </tr>\n",
       "    <tr>\n",
       "      <td>mean</td>\n",
       "      <td>0.628171</td>\n",
       "      <td>0.563277</td>\n",
       "      <td>0.537006</td>\n",
       "      <td>0.509530</td>\n",
       "      <td>0.43524</td>\n",
       "    </tr>\n",
       "    <tr>\n",
       "      <td>std</td>\n",
       "      <td>0.304767</td>\n",
       "      <td>0.369004</td>\n",
       "      <td>0.324820</td>\n",
       "      <td>0.372265</td>\n",
       "      <td>0.90033</td>\n",
       "    </tr>\n",
       "    <tr>\n",
       "      <td>min</td>\n",
       "      <td>0.000000</td>\n",
       "      <td>0.000000</td>\n",
       "      <td>0.000000</td>\n",
       "      <td>0.000000</td>\n",
       "      <td>-1.00000</td>\n",
       "    </tr>\n",
       "    <tr>\n",
       "      <td>25%</td>\n",
       "      <td>0.363387</td>\n",
       "      <td>0.222222</td>\n",
       "      <td>0.243243</td>\n",
       "      <td>0.142857</td>\n",
       "      <td>-1.00000</td>\n",
       "    </tr>\n",
       "    <tr>\n",
       "      <td>50%</td>\n",
       "      <td>0.666667</td>\n",
       "      <td>0.666667</td>\n",
       "      <td>0.476190</td>\n",
       "      <td>0.483871</td>\n",
       "      <td>1.00000</td>\n",
       "    </tr>\n",
       "    <tr>\n",
       "      <td>75%</td>\n",
       "      <td>1.000000</td>\n",
       "      <td>1.000000</td>\n",
       "      <td>0.875000</td>\n",
       "      <td>1.000000</td>\n",
       "      <td>1.00000</td>\n",
       "    </tr>\n",
       "    <tr>\n",
       "      <td>max</td>\n",
       "      <td>1.000000</td>\n",
       "      <td>1.000000</td>\n",
       "      <td>1.000000</td>\n",
       "      <td>1.000000</td>\n",
       "      <td>1.00000</td>\n",
       "    </tr>\n",
       "  </tbody>\n",
       "</table>\n",
       "</div>"
      ],
      "text/plain": [
       "       name_levenshtein_simple  name_trigram_simple  name_levenshtein_term  \\\n",
       "count             28235.000000         28235.000000           28235.000000   \n",
       "mean                  0.628171             0.563277               0.537006   \n",
       "std                   0.304767             0.369004               0.324820   \n",
       "min                   0.000000             0.000000               0.000000   \n",
       "25%                   0.363387             0.222222               0.243243   \n",
       "50%                   0.666667             0.666667               0.476190   \n",
       "75%                   1.000000             1.000000               0.875000   \n",
       "max                   1.000000             1.000000               1.000000   \n",
       "\n",
       "       name_trigram_term     is_match  \n",
       "count       28235.000000  28235.00000  \n",
       "mean            0.509530      0.43524  \n",
       "std             0.372265      0.90033  \n",
       "min             0.000000     -1.00000  \n",
       "25%             0.142857     -1.00000  \n",
       "50%             0.483871      1.00000  \n",
       "75%             1.000000      1.00000  \n",
       "max             1.000000      1.00000  "
      ]
     },
     "execution_count": 5,
     "metadata": {},
     "output_type": "execute_result"
    }
   ],
   "source": [
    "# 超過一半是 Match 的\n",
    "data_df.describe()"
   ]
  },
  {
   "cell_type": "code",
   "execution_count": 47,
   "metadata": {},
   "outputs": [
    {
     "name": "stdout",
     "output_type": "stream",
     "text": [
      "id 0.0\n",
      "name_levenshtein_simple 0.0\n",
      "name_trigram_simple 0.0\n",
      "name_levenshtein_term 0.0\n",
      "name_trigram_term 0.0\n",
      "city_levenshtein_simple 0.64\n",
      "city_trigram_simple 0.64\n",
      "city_levenshtein_term 0.64\n",
      "city_trigram_term 0.64\n",
      "zip_levenshtein_simple 0.72\n",
      "zip_trigram_simple 0.72\n",
      "zip_levenshtein_term 0.72\n",
      "zip_trigram_term 0.72\n",
      "street_levenshtein_simple 0.70\n",
      "street_trigram_simple 0.70\n",
      "street_levenshtein_term 0.70\n",
      "street_trigram_term 0.70\n",
      "website_levenshtein_simple 0.93\n",
      "website_trigram_simple 0.93\n",
      "website_levenshtein_term 0.93\n",
      "website_trigram_term 0.93\n",
      "phone_levenshtein 0.57\n",
      "phone_trigram 0.57\n",
      "fax_levenshtein 0.97\n",
      "fax_trigram 0.97\n",
      "street_number_levenshtein 0.34\n",
      "street_number_trigram 0.34\n",
      "phone_equality 0.0\n",
      "fax_equality 0.0\n",
      "street_number_equality 0.0\n",
      "is_match 0.0\n"
     ]
    },
    {
     "name": "stderr",
     "output_type": "stream",
     "text": [
      "/Library/Frameworks/Python.framework/Versions/3.7/lib/python3.7/site-packages/pandas/core/ops/__init__.py:1115: FutureWarning: elementwise comparison failed; returning scalar instead, but in the future will perform elementwise comparison\n",
      "  result = method(y)\n"
     ]
    }
   ],
   "source": [
    "# miss value rate\n",
    "for c in data_df.columns:\n",
    "    print(c,str(sum(data_df[c]=='?')/28235)[:4])"
   ]
  },
  {
   "cell_type": "code",
   "execution_count": 48,
   "metadata": {},
   "outputs": [
    {
     "name": "stdout",
     "output_type": "stream",
     "text": [
      "del phone_equality\n",
      "del fax_equality\n",
      "del street_number_equality\n"
     ]
    }
   ],
   "source": [
    "for c in data_df.columns:\n",
    "    if 'equality' in c : \n",
    "        print(\"del\",c)\n",
    "        del data_df[c]"
   ]
  },
  {
   "cell_type": "code",
   "execution_count": 49,
   "metadata": {
    "code_folding": []
   },
   "outputs": [
    {
     "name": "stdout",
     "output_type": "stream",
     "text": [
      "id 0.0\n",
      "name_levenshtein_simple 0.0\n",
      "name_trigram_simple 0.0\n",
      "name_levenshtein_term 0.0\n",
      "name_trigram_term 0.0\n",
      "city_levenshtein_simple 0.0\n",
      "city_trigram_simple 0.0\n",
      "city_levenshtein_term 0.0\n",
      "city_trigram_term 0.0\n",
      "zip_levenshtein_simple 0.0\n",
      "zip_trigram_simple 0.0\n",
      "zip_levenshtein_term 0.0\n",
      "zip_trigram_term 0.0\n",
      "street_levenshtein_simple 0.0\n",
      "street_trigram_simple 0.0\n",
      "street_levenshtein_term 0.0\n",
      "street_trigram_term 0.0\n",
      "website_levenshtein_simple 0.0\n",
      "website_trigram_simple 0.0\n",
      "website_levenshtein_term 0.0\n",
      "website_trigram_term 0.0\n",
      "phone_levenshtein 0.0\n",
      "phone_trigram 0.0\n",
      "fax_levenshtein 0.0\n",
      "fax_trigram 0.0\n",
      "street_number_levenshtein 0.0\n",
      "street_number_trigram 0.0\n",
      "is_match 0.0\n"
     ]
    }
   ],
   "source": [
    "new_data_df = data_df.replace(\"?\",-1.0)\n",
    "\n",
    "for c in new_data_df.columns:\n",
    "    print(c,str(sum(new_data_df[c]=='?')/28235)[:4])"
   ]
  },
  {
   "cell_type": "code",
   "execution_count": 50,
   "metadata": {},
   "outputs": [],
   "source": [
    "id_list = new_data_df['id'].tolist()\n",
    "del new_data_df['id']"
   ]
  },
  {
   "cell_type": "code",
   "execution_count": 51,
   "metadata": {},
   "outputs": [],
   "source": [
    "new_data_df = new_data_df.astype(float)"
   ]
  },
  {
   "cell_type": "markdown",
   "metadata": {},
   "source": [
    "## feature selection analysis"
   ]
  },
  {
   "cell_type": "code",
   "execution_count": 53,
   "metadata": {},
   "outputs": [
    {
     "data": {
      "image/png": "[encoded data removed]",
      "text/plain": [
       "<Figure size 864x648 with 2 Axes>"
      ]
     },
     "metadata": {
      "image/png": {
       "height": 643,
       "width": 744
      },
      "needs_background": "light"
     },
     "output_type": "display_data"
    }
   ],
   "source": [
    "import seaborn as sns\n",
    "\n",
    "#correlation matrix\n",
    "corrmat = new_data_df.corr()\n",
    "f, ax = plt.subplots(figsize=(12, 9))\n",
    "sns.heatmap(corrmat, square=True);"
   ]
  },
  {
   "cell_type": "code",
   "execution_count": 69,
   "metadata": {},
   "outputs": [
    {
     "data": {
      "text/plain": [
       "is_match                   1.000000\n",
       "name_trigram_simple        0.639011\n",
       "name_trigram_term          0.605314\n",
       "name_levenshtein_simple    0.604889\n",
       "name_levenshtein_term      0.492886\n",
       "street_number_trigram      0.393969\n",
       "Name: is_match, dtype: float64"
      ]
     },
     "execution_count": 69,
     "metadata": {},
     "output_type": "execute_result"
    }
   ],
   "source": [
    "# name is major feature\n",
    "ss = abs(corrmat['is_match'])\n",
    "ss.sort_values(ascending=False)[:6]"
   ]
  },
  {
   "cell_type": "code",
   "execution_count": 70,
   "metadata": {},
   "outputs": [
    {
     "data": {
      "text/plain": [
       "street_levenshtein_simple    0.087060\n",
       "street_trigram_simple        0.061251\n",
       "street_trigram_term          0.052957\n",
       "fax_levenshtein              0.034624\n",
       "fax_trigram                  0.022176\n",
       "Name: is_match, dtype: float64"
      ]
     },
     "execution_count": 70,
     "metadata": {},
     "output_type": "execute_result"
    }
   ],
   "source": [
    "ss.sort_values(ascending=False)[-5:]"
   ]
  },
  {
   "cell_type": "markdown",
   "metadata": {},
   "source": [
    "# Modeling approach\n",
    "* becasue we have a lot of labeled data so we could try to use a heavy model , such as deep learning\n",
    "* but overfitting issue , we just use 3 layer and add dropout layer between each hidden layer\n",
    "* the performnace is prety good"
   ]
  },
  {
   "cell_type": "code",
   "execution_count": 9,
   "metadata": {},
   "outputs": [
    {
     "name": "stderr",
     "output_type": "stream",
     "text": [
      "Using TensorFlow backend.\n"
     ]
    }
   ],
   "source": [
    "import keras\n",
    "from keras import backend as K\n",
    "from keras.models import Sequential\n",
    "from keras.layers import Activation\n",
    "from keras.layers.core import Dense,Dropout\n",
    "from keras.optimizers import Adam\n",
    "# from keras.metrics import categorical_crossentropy\n",
    "from keras.losses import categorical_crossentropy"
   ]
  },
  {
   "cell_type": "code",
   "execution_count": 10,
   "metadata": {},
   "outputs": [],
   "source": [
    "\n",
    "match_list = new_data_df['is_match'].tolist()\n",
    "del new_data_df['is_match']\n"
   ]
  },
  {
   "cell_type": "code",
   "execution_count": 11,
   "metadata": {},
   "outputs": [],
   "source": [
    "new_match_list = []\n",
    "for v in  match_list:\n",
    "    if v == 1 : new_match_list.append(1)\n",
    "    else: new_match_list.append(0)"
   ]
  },
  {
   "cell_type": "code",
   "execution_count": 12,
   "metadata": {},
   "outputs": [],
   "source": [
    "raw_data = new_data_df.to_numpy()"
   ]
  },
  {
   "cell_type": "code",
   "execution_count": 13,
   "metadata": {},
   "outputs": [
    {
     "data": {
      "text/plain": [
       "(28235, 26)"
      ]
     },
     "execution_count": 13,
     "metadata": {},
     "output_type": "execute_result"
    }
   ],
   "source": [
    "raw_data.shape"
   ]
  },
  {
   "cell_type": "code",
   "execution_count": 14,
   "metadata": {},
   "outputs": [],
   "source": [
    "simple_model = Sequential([\n",
    "    Dense(raw_data.shape[1], input_shape=(raw_data.shape[1], )),\n",
    "    Dropout(0.25),\n",
    "    Dense(32, activation='relu'),\n",
    "    Dropout(0.25),\n",
    "    Dense(2, activation='softmax')\n",
    "])"
   ]
  },
  {
   "cell_type": "code",
   "execution_count": 15,
   "metadata": {},
   "outputs": [
    {
     "name": "stdout",
     "output_type": "stream",
     "text": [
      "Model: \"sequential_1\"\n",
      "_________________________________________________________________\n",
      "Layer (type)                 Output Shape              Param #   \n",
      "=================================================================\n",
      "dense_1 (Dense)              (None, 26)                702       \n",
      "_________________________________________________________________\n",
      "dropout_1 (Dropout)          (None, 26)                0         \n",
      "_________________________________________________________________\n",
      "dense_2 (Dense)              (None, 32)                864       \n",
      "_________________________________________________________________\n",
      "dropout_2 (Dropout)          (None, 32)                0         \n",
      "_________________________________________________________________\n",
      "dense_3 (Dense)              (None, 2)                 66        \n",
      "=================================================================\n",
      "Total params: 1,632\n",
      "Trainable params: 1,632\n",
      "Non-trainable params: 0\n",
      "_________________________________________________________________\n"
     ]
    }
   ],
   "source": [
    "simple_model.summary()"
   ]
  },
  {
   "cell_type": "code",
   "execution_count": 16,
   "metadata": {},
   "outputs": [],
   "source": [
    "simple_model.compile(Adam(lr=0.001),loss=categorical_crossentropy,metrics=['accuracy'])"
   ]
  },
  {
   "cell_type": "code",
   "execution_count": 17,
   "metadata": {},
   "outputs": [],
   "source": [
    "y_train=keras.utils.to_categorical(new_match_list[:-EVA_SIZE])\n"
   ]
  },
  {
   "cell_type": "code",
   "execution_count": 18,
   "metadata": {},
   "outputs": [],
   "source": [
    "X_train = raw_data[:-EVA_SIZE]"
   ]
  },
  {
   "cell_type": "code",
   "execution_count": 19,
   "metadata": {},
   "outputs": [
    {
     "name": "stdout",
     "output_type": "stream",
     "text": [
      "Train on 20588 samples, validate on 5147 samples\n",
      "Epoch 1/10\n",
      " - 1s - loss: 0.3422 - accuracy: 0.8515 - val_loss: 0.2684 - val_accuracy: 0.8828\n",
      "Epoch 2/10\n",
      " - 1s - loss: 0.2653 - accuracy: 0.8884 - val_loss: 0.2349 - val_accuracy: 0.9025\n",
      "Epoch 3/10\n",
      " - 1s - loss: 0.2435 - accuracy: 0.8996 - val_loss: 0.2321 - val_accuracy: 0.8961\n",
      "Epoch 4/10\n",
      " - 1s - loss: 0.2304 - accuracy: 0.9050 - val_loss: 0.2060 - val_accuracy: 0.9157\n",
      "Epoch 5/10\n",
      " - 1s - loss: 0.2238 - accuracy: 0.9087 - val_loss: 0.2029 - val_accuracy: 0.9128\n",
      "Epoch 6/10\n",
      " - 1s - loss: 0.2139 - accuracy: 0.9144 - val_loss: 0.1943 - val_accuracy: 0.9192\n",
      "Epoch 7/10\n",
      " - 1s - loss: 0.2094 - accuracy: 0.9160 - val_loss: 0.2007 - val_accuracy: 0.9201\n",
      "Epoch 8/10\n",
      " - 1s - loss: 0.2045 - accuracy: 0.9179 - val_loss: 0.1806 - val_accuracy: 0.9268\n",
      "Epoch 9/10\n",
      " - 1s - loss: 0.1999 - accuracy: 0.9205 - val_loss: 0.1820 - val_accuracy: 0.9238\n",
      "Epoch 10/10\n",
      " - 1s - loss: 0.1957 - accuracy: 0.9218 - val_loss: 0.1756 - val_accuracy: 0.9295\n"
     ]
    },
    {
     "data": {
      "text/plain": [
       "<keras.callbacks.callbacks.History at 0x132e38fd0>"
      ]
     },
     "execution_count": 19,
     "metadata": {},
     "output_type": "execute_result"
    }
   ],
   "source": [
    "simple_model.fit(X_train, y_train, validation_split=0.2, batch_size=25, epochs=10, shuffle=True, verbose=2)"
   ]
  },
  {
   "cell_type": "markdown",
   "metadata": {},
   "source": [
    "# Performance analysis\n",
    "* roc_auc is 0.977\n",
    "* use \"grid search\" to find the optimization threshhold\n",
    "* the best threshold is 0.53\n"
   ]
  },
  {
   "cell_type": "code",
   "execution_count": 20,
   "metadata": {},
   "outputs": [],
   "source": [
    "X_eva = raw_data[-EVA_SIZE:]\n",
    "y_eva=keras.utils.to_categorical(new_match_list[-EVA_SIZE:])\n"
   ]
  },
  {
   "cell_type": "code",
   "execution_count": 21,
   "metadata": {},
   "outputs": [
    {
     "name": "stdout",
     "output_type": "stream",
     "text": [
      "2500/2500 [==============================] - 0s 22us/step\n"
     ]
    },
    {
     "data": {
      "text/plain": [
       "[0.1788417468637228, 0.9272000193595886]"
      ]
     },
     "execution_count": 21,
     "metadata": {},
     "output_type": "execute_result"
    }
   ],
   "source": [
    "simple_model.evaluate(    \n",
    "    x=X_eva,\n",
    "    y=y_eva,\n",
    "    batch_size=None,\n",
    "    verbose=1,\n",
    "    sample_weight=None,\n",
    "    steps=None,)"
   ]
  },
  {
   "cell_type": "code",
   "execution_count": 22,
   "metadata": {},
   "outputs": [],
   "source": [
    "from sklearn.metrics import precision_score,f1_score"
   ]
  },
  {
   "cell_type": "code",
   "execution_count": 23,
   "metadata": {},
   "outputs": [],
   "source": [
    "result_prb = simple_model.predict(X_eva)\n",
    "predict_classes = simple_model.predict_classes(x=X_eva)"
   ]
  },
  {
   "cell_type": "code",
   "execution_count": 24,
   "metadata": {},
   "outputs": [
    {
     "data": {
      "text/plain": [
       "0.9438692098092643"
      ]
     },
     "execution_count": 24,
     "metadata": {},
     "output_type": "execute_result"
    }
   ],
   "source": [
    "precision_score(new_match_list[-EVA_SIZE:],predict_classes)"
   ]
  },
  {
   "cell_type": "code",
   "execution_count": 25,
   "metadata": {},
   "outputs": [
    {
     "data": {
      "text/plain": [
       "0.9500822819528251"
      ]
     },
     "execution_count": 25,
     "metadata": {},
     "output_type": "execute_result"
    }
   ],
   "source": [
    "f1_score(new_match_list[-EVA_SIZE:],predict_classes)"
   ]
  },
  {
   "cell_type": "code",
   "execution_count": 26,
   "metadata": {},
   "outputs": [],
   "source": [
    "## confusion mattix\n",
    "from sklearn.metrics import confusion_matrix\n",
    "\n",
    "tn, fp, fn, tp = confusion_matrix(new_match_list[-EVA_SIZE:],predict_classes).ravel()"
   ]
  },
  {
   "cell_type": "code",
   "execution_count": 27,
   "metadata": {},
   "outputs": [
    {
     "data": {
      "text/plain": [
       "(586, 103, 79, 1732)"
      ]
     },
     "execution_count": 27,
     "metadata": {},
     "output_type": "execute_result"
    }
   ],
   "source": [
    "(tn, fp, fn, tp)"
   ]
  },
  {
   "cell_type": "code",
   "execution_count": 28,
   "metadata": {},
   "outputs": [
    {
     "name": "stdout",
     "output_type": "stream",
     "text": [
      "0.9563776918829376 0.8505079825834543\n"
     ]
    },
    {
     "name": "stderr",
     "output_type": "stream",
     "text": [
      "/Library/Frameworks/Python.framework/Versions/3.7/lib/python3.7/site-packages/ipykernel_launcher.py:2: DeprecationWarning: Calling np.sum(generator) is deprecated, and in the future will give a different result. Use np.sum(np.fromiter(generator)) or the python sum builtin instead.\n",
      "  \n"
     ]
    }
   ],
   "source": [
    "tpr = tp/sum(new_match_list[-EVA_SIZE:])\n",
    "tnr = tn/sum(i==0 for i in new_match_list[-EVA_SIZE:])\n",
    "print(tpr,tnr)"
   ]
  },
  {
   "cell_type": "code",
   "execution_count": 29,
   "metadata": {
    "code_folding": [
     0
    ]
   },
   "outputs": [],
   "source": [
    "def TPR(x,y):\n",
    "    total = sum([v==1 for v in x ])\n",
    "    tp_count = 0\n",
    "    for i,v in enumerate(y) :\n",
    "        if v == 1 and x[i] == 1:\n",
    "            tp_count = tp_count + 1\n",
    "    return tp_count/total"
   ]
  },
  {
   "cell_type": "code",
   "execution_count": 30,
   "metadata": {
    "code_folding": [
     0
    ]
   },
   "outputs": [],
   "source": [
    "def TNR(x,y):\n",
    "    total = sum([v==0 for v in x ])\n",
    "    tp_count = 0\n",
    "    for i,v in enumerate(y) :\n",
    "        if v == 0 and x[i] == 0:\n",
    "            tp_count = tp_count + 1\n",
    "    return tp_count/total"
   ]
  },
  {
   "cell_type": "code",
   "execution_count": 31,
   "metadata": {
    "code_folding": [
     0
    ]
   },
   "outputs": [],
   "source": [
    "def PRE(x,y):\n",
    "    total = len(x)\n",
    "    tp_count = 0\n",
    "    for i,v in enumerate(y) :\n",
    "        if v == x[i]:\n",
    "            tp_count = tp_count + 1\n",
    "    return tp_count/total"
   ]
  },
  {
   "cell_type": "code",
   "execution_count": 32,
   "metadata": {},
   "outputs": [
    {
     "name": "stdout",
     "output_type": "stream",
     "text": [
      "PRE 0.9272\n",
      "TPR 0.9563776918829376\n",
      "TNR 0.8505079825834543\n"
     ]
    }
   ],
   "source": [
    "print(\"PRE\",PRE(new_match_list[-EVA_SIZE:],predict_classes))\n",
    "print(\"TPR\",TPR(new_match_list[-EVA_SIZE:],predict_classes))\n",
    "print(\"TNR\",TNR(new_match_list[-EVA_SIZE:],predict_classes))"
   ]
  },
  {
   "cell_type": "code",
   "execution_count": 33,
   "metadata": {},
   "outputs": [
    {
     "name": "stdout",
     "output_type": "stream",
     "text": [
      "positive 2427\n",
      "Score: 1.3129456418163792 TPR: 0.9994478188845941 TNR: 0.10449927431059507\n",
      "positive 2344\n",
      "Score: 1.66943264792884 TPR: 0.9988956377691883 TNR: 0.22351233671988388\n",
      "positive 2278\n",
      "Score: 1.9568056522829766 TPR: 0.9988956377691883 TNR: 0.3193033381712627\n",
      "positive 2217\n",
      "Score: 2.2125953393990443 TPR: 0.9977912755383765 TNR: 0.40493468795355586\n",
      "positive 2169\n",
      "Score: 2.411781252930206 TPR: 0.9966869133075649 TNR: 0.4716981132075472\n",
      "positive 2134\n",
      "Score: 2.544550757786435 TPR: 0.9944781888459415 TNR: 0.5166908563134979\n",
      "positive 2108\n",
      "Score: 2.652851987411232 TPR: 0.9939260077305356 TNR: 0.5529753265602322\n",
      "positive 2091\n",
      "Score: 2.7121533540795286 TPR: 0.9922694643843181 TNR: 0.5732946298984035\n",
      "positive 2071\n",
      "Score: 2.799236082671691 TPR: 0.9922694643843181 TNR: 0.602322206095791\n",
      "positive 2062\n",
      "Score: 2.838423310538164 TPR: 0.9922694643843181 TNR: 0.6153846153846154\n",
      "positive 2049\n",
      "Score: 2.8852144490330422 TPR: 0.9911651021535064 TNR: 0.6313497822931785\n",
      "positive 2041\n",
      "Score: 2.9200475404699073 TPR: 0.9911651021535064 TNR: 0.6429608127721336\n",
      "positive 2034\n",
      "Score: 2.9407138603871354 TPR: 0.9900607399226946 TNR: 0.6502177068214804\n",
      "positive 2021\n",
      "Score: 2.9924113164270274 TPR: 0.9895085588072888 TNR: 0.6676342525399129\n",
      "positive 2011\n",
      "Score: 3.031046363178095 TPR: 0.9889563776918829 TNR: 0.6806966618287373\n",
      "positive 2000\n",
      "Score: 3.054410276178715 TPR: 0.9861954721148537 TNR: 0.6894049346879536\n",
      "positive 1996\n",
      "Score: 3.071826821897147 TPR: 0.9861954721148537 TNR: 0.6952104499274311\n",
      "positive 1986\n",
      "Score: 3.1153681861932285 TPR: 0.9861954721148537 TNR: 0.7097242380261248\n",
      "positive 1981\n",
      "Score: 3.127326233251241 TPR: 0.9850911098840419 TNR: 0.714078374455733\n",
      "positive 1973\n",
      "Score: 3.152346689598078 TPR: 0.9839867476532302 TNR: 0.7227866473149492\n",
      "positive 1970\n",
      "Score: 3.165409098886902 TPR: 0.9839867476532302 TNR: 0.7271407837445574\n",
      "positive 1968\n",
      "Score: 3.1741173717461186 TPR: 0.9839867476532302 TNR: 0.7300435413642961\n",
      "positive 1958\n",
      "Score: 3.212752418497186 TPR: 0.9834345665378245 TNR: 0.7431059506531205\n",
      "positive 1951\n",
      "Score: 3.233418738414415 TPR: 0.9823302043070127 TNR: 0.7503628447024674\n",
      "positive 1948\n",
      "Score: 3.241574830158225 TPR: 0.9817780231916069 TNR: 0.7532656023222061\n",
      "positive 1947\n",
      "Score: 3.245928966587834 TPR: 0.9817780231916069 TNR: 0.7547169811320755\n",
      "positive 1943\n",
      "Score: 3.2535328772162373 TPR: 0.9806736609607951 TNR: 0.7576197387518142\n",
      "positive 1940\n",
      "Score: 3.256782651415034 TPR: 0.9795692987299834 TNR: 0.7590711175616836\n",
      "positive 1936\n",
      "Score: 3.264386562043439 TPR: 0.9784649364991718 TNR: 0.7619738751814223\n",
      "positive 1934\n",
      "Score: 3.2730948349026554 TPR: 0.9784649364991718 TNR: 0.7648766328011611\n",
      "positive 1928\n",
      "Score: 3.29431333593529 TPR: 0.9779127553837659 TNR: 0.772133526850508\n",
      "positive 1917\n",
      "Score: 3.317677248935909 TPR: 0.9751518498067366 TNR: 0.7808417997097242\n",
      "positive 1910\n",
      "Score: 3.3432498863981523 TPR: 0.9745996686913307 TNR: 0.7895500725689405\n",
      "positive 1907\n",
      "Score: 3.3514059781419627 TPR: 0.9740474875759249 TNR: 0.7924528301886793\n",
      "positive 1903\n",
      "Score: 3.3639162063153814 TPR: 0.9734953064605191 TNR: 0.7968069666182874\n",
      "positive 1900\n",
      "Score: 3.376978615604205 TPR: 0.9734953064605191 TNR: 0.8011611030478955\n",
      "positive 1899\n",
      "Score: 3.3764264344887995 TPR: 0.9729431253451132 TNR: 0.8011611030478955\n",
      "for best threshold is  0.36\n"
     ]
    }
   ],
   "source": [
    "# Use Grid Search\n",
    "max_score = -1\n",
    "score_list = []\n",
    "for th in np.arange(0.01,1,0.01):\n",
    "    predict_classes_with_th  = (result_prb[:,1]>th).astype('int')\n",
    "    print(\"positive\",predict_classes_with_th.sum())\n",
    "    score = TPR(\n",
    "        new_match_list[-EVA_SIZE:],predict_classes_with_th) + TNR(\n",
    "        new_match_list[-EVA_SIZE:],predict_classes_with_th)*3\n",
    "\n",
    "    print(\"Score:\",score, \n",
    "          \"TPR:\",TPR(new_match_list[-EVA_SIZE:],predict_classes_with_th),\n",
    "          \"TNR:\",TNR(new_match_list[-EVA_SIZE:],predict_classes_with_th))\n",
    "    if score >= max_score : \n",
    "        max_score = score\n",
    "    \n",
    "    else :\n",
    "        break\n",
    "        \n",
    "    score_list.append(score)\n",
    "best_th = th - 0.01\n",
    "# So the threshold is ? , for TPR + TNR*3\n",
    "print(\"for best threshold is \" , th - 0.01)"
   ]
  },
  {
   "cell_type": "code",
   "execution_count": 34,
   "metadata": {},
   "outputs": [],
   "source": [
    "from sklearn.metrics import roc_curve,roc_auc_score\n",
    "## ROC Cuve , I think the normal case , usually is \"F1Score\"\n",
    "fpr, tpr, thresholds = roc_curve(new_match_list[-EVA_SIZE:], result_prb[:,1])\n"
   ]
  },
  {
   "cell_type": "code",
   "execution_count": 35,
   "metadata": {
    "code_folding": []
   },
   "outputs": [],
   "source": [
    "# and see roc cuve area "
   ]
  },
  {
   "cell_type": "code",
   "execution_count": 36,
   "metadata": {},
   "outputs": [
    {
     "data": {
      "image/png": "[encoded data removed]",
      "text/plain": [
       "<Figure size 432x288 with 1 Axes>"
      ]
     },
     "metadata": {
      "image/png": {
       "height": 258,
       "width": 383
      },
      "needs_background": "light"
     },
     "output_type": "display_data"
    }
   ],
   "source": [
    "\n",
    "plt.plot(fpr,tpr)\n",
    "plt.xlabel('False positive rate')\n",
    "plt.ylabel('True positive rate')\n",
    "plt.show()\n"
   ]
  },
  {
   "cell_type": "markdown",
   "metadata": {},
   "source": [
    "## ROC_AUC score is a good metric to measure the peformance"
   ]
  },
  {
   "cell_type": "code",
   "execution_count": 33,
   "metadata": {},
   "outputs": [
    {
     "ename": "NameError",
     "evalue": "name 'roc_auc_score' is not defined",
     "output_type": "error",
     "traceback": [
      "\u001b[0;31m---------------------------------------------------------------------------\u001b[0m",
      "\u001b[0;31mNameError\u001b[0m                                 Traceback (most recent call last)",
      "\u001b[0;32m<ipython-input-33-b224bff1295b>\u001b[0m in \u001b[0;36m<module>\u001b[0;34m\u001b[0m\n\u001b[0;32m----> 1\u001b[0;31m \u001b[0mroc_auc_score\u001b[0m\u001b[0;34m(\u001b[0m\u001b[0mnew_match_list\u001b[0m\u001b[0;34m[\u001b[0m\u001b[0;34m-\u001b[0m\u001b[0mEVA_SIZE\u001b[0m\u001b[0;34m:\u001b[0m\u001b[0;34m]\u001b[0m\u001b[0;34m,\u001b[0m \u001b[0mresult_prb\u001b[0m\u001b[0;34m[\u001b[0m\u001b[0;34m:\u001b[0m\u001b[0;34m,\u001b[0m\u001b[0;36m1\u001b[0m\u001b[0;34m]\u001b[0m\u001b[0;34m)\u001b[0m\u001b[0;34m\u001b[0m\u001b[0;34m\u001b[0m\u001b[0m\n\u001b[0m",
      "\u001b[0;31mNameError\u001b[0m: name 'roc_auc_score' is not defined"
     ]
    }
   ],
   "source": [
    "roc_auc_score(new_match_list[-EVA_SIZE:], result_prb[:,1])"
   ]
  },
  {
   "cell_type": "markdown",
   "metadata": {},
   "source": [
    "# DO testing"
   ]
  },
  {
   "cell_type": "code",
   "execution_count": 38,
   "metadata": {},
   "outputs": [
    {
     "data": {
      "text/html": [
       "<div>\n",
       "<style scoped>\n",
       "    .dataframe tbody tr th:only-of-type {\n",
       "        vertical-align: middle;\n",
       "    }\n",
       "\n",
       "    .dataframe tbody tr th {\n",
       "        vertical-align: top;\n",
       "    }\n",
       "\n",
       "    .dataframe thead th {\n",
       "        text-align: right;\n",
       "    }\n",
       "</style>\n",
       "<table border=\"1\" class=\"dataframe\">\n",
       "  <thead>\n",
       "    <tr style=\"text-align: right;\">\n",
       "      <th></th>\n",
       "      <th>name_levenshtein_simple</th>\n",
       "      <th>name_trigram_simple</th>\n",
       "      <th>name_levenshtein_term</th>\n",
       "      <th>name_trigram_term</th>\n",
       "    </tr>\n",
       "  </thead>\n",
       "  <tbody>\n",
       "    <tr>\n",
       "      <td>count</td>\n",
       "      <td>6230.000000</td>\n",
       "      <td>6230.000000</td>\n",
       "      <td>6230.000000</td>\n",
       "      <td>6230.000000</td>\n",
       "    </tr>\n",
       "    <tr>\n",
       "      <td>mean</td>\n",
       "      <td>0.617670</td>\n",
       "      <td>0.550384</td>\n",
       "      <td>0.521490</td>\n",
       "      <td>0.493838</td>\n",
       "    </tr>\n",
       "    <tr>\n",
       "      <td>std</td>\n",
       "      <td>0.309591</td>\n",
       "      <td>0.372656</td>\n",
       "      <td>0.329626</td>\n",
       "      <td>0.375572</td>\n",
       "    </tr>\n",
       "    <tr>\n",
       "      <td>min</td>\n",
       "      <td>0.000000</td>\n",
       "      <td>0.000000</td>\n",
       "      <td>0.000000</td>\n",
       "      <td>0.000000</td>\n",
       "    </tr>\n",
       "    <tr>\n",
       "      <td>25%</td>\n",
       "      <td>0.342857</td>\n",
       "      <td>0.172577</td>\n",
       "      <td>0.225806</td>\n",
       "      <td>0.120000</td>\n",
       "    </tr>\n",
       "    <tr>\n",
       "      <td>50%</td>\n",
       "      <td>0.666667</td>\n",
       "      <td>0.591837</td>\n",
       "      <td>0.448276</td>\n",
       "      <td>0.450806</td>\n",
       "    </tr>\n",
       "    <tr>\n",
       "      <td>75%</td>\n",
       "      <td>1.000000</td>\n",
       "      <td>1.000000</td>\n",
       "      <td>0.865116</td>\n",
       "      <td>1.000000</td>\n",
       "    </tr>\n",
       "    <tr>\n",
       "      <td>max</td>\n",
       "      <td>1.000000</td>\n",
       "      <td>1.000000</td>\n",
       "      <td>1.000000</td>\n",
       "      <td>1.000000</td>\n",
       "    </tr>\n",
       "  </tbody>\n",
       "</table>\n",
       "</div>"
      ],
      "text/plain": [
       "       name_levenshtein_simple  name_trigram_simple  name_levenshtein_term  \\\n",
       "count              6230.000000          6230.000000            6230.000000   \n",
       "mean                  0.617670             0.550384               0.521490   \n",
       "std                   0.309591             0.372656               0.329626   \n",
       "min                   0.000000             0.000000               0.000000   \n",
       "25%                   0.342857             0.172577               0.225806   \n",
       "50%                   0.666667             0.591837               0.448276   \n",
       "75%                   1.000000             1.000000               0.865116   \n",
       "max                   1.000000             1.000000               1.000000   \n",
       "\n",
       "       name_trigram_term  \n",
       "count        6230.000000  \n",
       "mean            0.493838  \n",
       "std             0.375572  \n",
       "min             0.000000  \n",
       "25%             0.120000  \n",
       "50%             0.450806  \n",
       "75%             1.000000  \n",
       "max             1.000000  "
      ]
     },
     "execution_count": 38,
     "metadata": {},
     "output_type": "execute_result"
    }
   ],
   "source": [
    "test_df = pd.read_csv(\"./address_matching_test.csv\")\n",
    "test_df.describe()"
   ]
  },
  {
   "cell_type": "code",
   "execution_count": 39,
   "metadata": {},
   "outputs": [
    {
     "name": "stdout",
     "output_type": "stream",
     "text": [
      "id 0.0\n",
      "name_levenshtein_simple 0.0\n",
      "name_trigram_simple 0.0\n",
      "name_levenshtein_term 0.0\n",
      "name_trigram_term 0.0\n",
      "city_levenshtein_simple 0.64\n",
      "city_trigram_simple 0.64\n",
      "city_levenshtein_term 0.64\n",
      "city_trigram_term 0.64\n",
      "zip_levenshtein_simple 0.73\n",
      "zip_trigram_simple 0.73\n",
      "zip_levenshtein_term 0.73\n",
      "zip_trigram_term 0.73\n",
      "street_levenshtein_simple 0.71\n",
      "street_trigram_simple 0.71\n",
      "street_levenshtein_term 0.71\n",
      "street_trigram_term 0.71\n",
      "website_levenshtein_simple 0.94\n",
      "website_trigram_simple 0.94\n",
      "website_levenshtein_term 0.94\n",
      "website_trigram_term 0.94\n",
      "phone_levenshtein 0.59\n",
      "phone_trigram 0.59\n",
      "fax_levenshtein 0.97\n",
      "fax_trigram 0.97\n",
      "street_number_levenshtein 0.34\n",
      "street_number_trigram 0.34\n",
      "phone_equality 0.0\n",
      "fax_equality 0.0\n",
      "street_number_equality 0.0\n"
     ]
    },
    {
     "name": "stderr",
     "output_type": "stream",
     "text": [
      "/Library/Frameworks/Python.framework/Versions/3.7/lib/python3.7/site-packages/pandas/core/ops/__init__.py:1115: FutureWarning: elementwise comparison failed; returning scalar instead, but in the future will perform elementwise comparison\n",
      "  result = method(y)\n"
     ]
    }
   ],
   "source": [
    "# miss value rate\n",
    "for c in test_df.columns:\n",
    "    print(c,str(sum(test_df[c]=='?')/6230)[:4])"
   ]
  },
  {
   "cell_type": "code",
   "execution_count": 40,
   "metadata": {},
   "outputs": [
    {
     "name": "stdout",
     "output_type": "stream",
     "text": [
      "del phone_equality\n",
      "del fax_equality\n",
      "del street_number_equality\n"
     ]
    }
   ],
   "source": [
    "for c in test_df.columns:\n",
    "    if 'equality' in c : \n",
    "        print(\"del\",c)\n",
    "        del test_df[c]"
   ]
  },
  {
   "cell_type": "code",
   "execution_count": 41,
   "metadata": {},
   "outputs": [
    {
     "name": "stdout",
     "output_type": "stream",
     "text": [
      "id 0.0\n",
      "name_levenshtein_simple 0.0\n",
      "name_trigram_simple 0.0\n",
      "name_levenshtein_term 0.0\n",
      "name_trigram_term 0.0\n",
      "city_levenshtein_simple 0.0\n",
      "city_trigram_simple 0.0\n",
      "city_levenshtein_term 0.0\n",
      "city_trigram_term 0.0\n",
      "zip_levenshtein_simple 0.0\n",
      "zip_trigram_simple 0.0\n",
      "zip_levenshtein_term 0.0\n",
      "zip_trigram_term 0.0\n",
      "street_levenshtein_simple 0.0\n",
      "street_trigram_simple 0.0\n",
      "street_levenshtein_term 0.0\n",
      "street_trigram_term 0.0\n",
      "website_levenshtein_simple 0.0\n",
      "website_trigram_simple 0.0\n",
      "website_levenshtein_term 0.0\n",
      "website_trigram_term 0.0\n",
      "phone_levenshtein 0.0\n",
      "phone_trigram 0.0\n",
      "fax_levenshtein 0.0\n",
      "fax_trigram 0.0\n",
      "street_number_levenshtein 0.0\n",
      "street_number_trigram 0.0\n"
     ]
    }
   ],
   "source": [
    "new_test_df = test_df.replace(\"?\",-1)\n",
    "for c in new_test_df.columns:\n",
    "    print(c,str(sum(new_test_df[c]=='?')/6230)[:4])"
   ]
  },
  {
   "cell_type": "code",
   "execution_count": 42,
   "metadata": {},
   "outputs": [],
   "source": [
    "# keep id list and remove it from test_df\n",
    "id_test_list = new_test_df['id'].tolist()\n",
    "del new_test_df['id']"
   ]
  },
  {
   "cell_type": "code",
   "execution_count": 43,
   "metadata": {},
   "outputs": [],
   "source": [
    "raw_test_data = new_test_df.to_numpy()\n",
    "X_test = raw_test_data"
   ]
  },
  {
   "cell_type": "code",
   "execution_count": 44,
   "metadata": {},
   "outputs": [],
   "source": [
    "# use model to predict the testing data\n",
    "test_result = simple_model.predict(X_test)"
   ]
  },
  {
   "cell_type": "code",
   "execution_count": 45,
   "metadata": {},
   "outputs": [],
   "source": [
    "resut_df =  pd.DataFrame(test_result)"
   ]
  },
  {
   "cell_type": "code",
   "execution_count": 46,
   "metadata": {},
   "outputs": [
    {
     "data": {
      "text/html": [
       "<div>\n",
       "<style scoped>\n",
       "    .dataframe tbody tr th:only-of-type {\n",
       "        vertical-align: middle;\n",
       "    }\n",
       "\n",
       "    .dataframe tbody tr th {\n",
       "        vertical-align: top;\n",
       "    }\n",
       "\n",
       "    .dataframe thead th {\n",
       "        text-align: right;\n",
       "    }\n",
       "</style>\n",
       "<table border=\"1\" class=\"dataframe\">\n",
       "  <thead>\n",
       "    <tr style=\"text-align: right;\">\n",
       "      <th></th>\n",
       "      <th>0</th>\n",
       "      <th>1</th>\n",
       "    </tr>\n",
       "  </thead>\n",
       "  <tbody>\n",
       "    <tr>\n",
       "      <td>count</td>\n",
       "      <td>6230.000000</td>\n",
       "      <td>6230.000000</td>\n",
       "    </tr>\n",
       "    <tr>\n",
       "      <td>mean</td>\n",
       "      <td>0.306857</td>\n",
       "      <td>0.693143</td>\n",
       "    </tr>\n",
       "    <tr>\n",
       "      <td>std</td>\n",
       "      <td>0.402272</td>\n",
       "      <td>0.402272</td>\n",
       "    </tr>\n",
       "    <tr>\n",
       "      <td>min</td>\n",
       "      <td>0.000001</td>\n",
       "      <td>0.002504</td>\n",
       "    </tr>\n",
       "    <tr>\n",
       "      <td>25%</td>\n",
       "      <td>0.001581</td>\n",
       "      <td>0.227905</td>\n",
       "    </tr>\n",
       "    <tr>\n",
       "      <td>50%</td>\n",
       "      <td>0.030240</td>\n",
       "      <td>0.969760</td>\n",
       "    </tr>\n",
       "    <tr>\n",
       "      <td>75%</td>\n",
       "      <td>0.772095</td>\n",
       "      <td>0.998419</td>\n",
       "    </tr>\n",
       "    <tr>\n",
       "      <td>max</td>\n",
       "      <td>0.997496</td>\n",
       "      <td>0.999999</td>\n",
       "    </tr>\n",
       "  </tbody>\n",
       "</table>\n",
       "</div>"
      ],
      "text/plain": [
       "                 0            1\n",
       "count  6230.000000  6230.000000\n",
       "mean      0.306857     0.693143\n",
       "std       0.402272     0.402272\n",
       "min       0.000001     0.002504\n",
       "25%       0.001581     0.227905\n",
       "50%       0.030240     0.969760\n",
       "75%       0.772095     0.998419\n",
       "max       0.997496     0.999999"
      ]
     },
     "execution_count": 46,
     "metadata": {},
     "output_type": "execute_result"
    }
   ],
   "source": [
    "resut_df.describe()"
   ]
  },
  {
   "cell_type": "code",
   "execution_count": 47,
   "metadata": {},
   "outputs": [],
   "source": [
    "# testing data , predict result is as below\n",
    "answer = list( zip(id_test_list,(test_result[:,1]>best_th).astype(int).tolist()))"
   ]
  },
  {
   "cell_type": "code",
   "execution_count": 48,
   "metadata": {},
   "outputs": [
    {
     "data": {
      "text/html": [
       "<div>\n",
       "<style scoped>\n",
       "    .dataframe tbody tr th:only-of-type {\n",
       "        vertical-align: middle;\n",
       "    }\n",
       "\n",
       "    .dataframe tbody tr th {\n",
       "        vertical-align: top;\n",
       "    }\n",
       "\n",
       "    .dataframe thead th {\n",
       "        text-align: right;\n",
       "    }\n",
       "</style>\n",
       "<table border=\"1\" class=\"dataframe\">\n",
       "  <thead>\n",
       "    <tr style=\"text-align: right;\">\n",
       "      <th></th>\n",
       "      <th>1</th>\n",
       "    </tr>\n",
       "  </thead>\n",
       "  <tbody>\n",
       "    <tr>\n",
       "      <td>count</td>\n",
       "      <td>6230.000000</td>\n",
       "    </tr>\n",
       "    <tr>\n",
       "      <td>mean</td>\n",
       "      <td>0.721027</td>\n",
       "    </tr>\n",
       "    <tr>\n",
       "      <td>std</td>\n",
       "      <td>0.448530</td>\n",
       "    </tr>\n",
       "    <tr>\n",
       "      <td>min</td>\n",
       "      <td>0.000000</td>\n",
       "    </tr>\n",
       "    <tr>\n",
       "      <td>25%</td>\n",
       "      <td>0.000000</td>\n",
       "    </tr>\n",
       "    <tr>\n",
       "      <td>50%</td>\n",
       "      <td>1.000000</td>\n",
       "    </tr>\n",
       "    <tr>\n",
       "      <td>75%</td>\n",
       "      <td>1.000000</td>\n",
       "    </tr>\n",
       "    <tr>\n",
       "      <td>max</td>\n",
       "      <td>1.000000</td>\n",
       "    </tr>\n",
       "  </tbody>\n",
       "</table>\n",
       "</div>"
      ],
      "text/plain": [
       "                 1\n",
       "count  6230.000000\n",
       "mean      0.721027\n",
       "std       0.448530\n",
       "min       0.000000\n",
       "25%       0.000000\n",
       "50%       1.000000\n",
       "75%       1.000000\n",
       "max       1.000000"
      ]
     },
     "execution_count": 48,
     "metadata": {},
     "output_type": "execute_result"
    }
   ],
   "source": [
    "pd.DataFrame(answer).describe()"
   ]
  },
  {
   "cell_type": "markdown",
   "metadata": {},
   "source": [
    "# Potential improvements\n",
    "* ensemble methodology\n",
    "* becasue fale positive rate is also import to operater. so in real case and production env , we need to build a doubel check mechanism\n",
    "* strong rule, such as decision tree . this algorithm could produce the human readable result and rule that help our user to understnad the system behavior.\n"
   ]
  },
  {
   "cell_type": "markdown",
   "metadata": {},
   "source": [
    "# Conclusion \n",
    "* this is a very good challenge to test a data scientist.\n",
    "* i just build only one model , but i think is so far so good as baseline model.\n"
   ]
  },
  {
   "cell_type": "code",
   "execution_count": null,
   "metadata": {},
   "outputs": [],
   "source": []
  }
 ],
 "metadata": {
  "hide_input": false,
  "kernelspec": {
   "display_name": "Python 3",
   "language": "python",
   "name": "python3"
  },
  "language_info": {
   "codemirror_mode": {
    "name": "ipython",
    "version": 3
   },
   "file_extension": ".py",
   "mimetype": "text/x-python",
   "name": "python",
   "nbconvert_exporter": "python",
   "pygments_lexer": "ipython3",
   "version": "3.7.4"
  }
 },
 "nbformat": 4,
 "nbformat_minor": 2
}
