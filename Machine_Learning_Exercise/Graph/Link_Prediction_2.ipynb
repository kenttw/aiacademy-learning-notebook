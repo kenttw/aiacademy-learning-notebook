{
 "cells": [
  {
   "cell_type": "markdown",
   "metadata": {
    "id": "ScKhjxEgTWeB",
    "pycharm": {}
   },
   "source": [
    "# Predictions\n",
    "\n",
    "In this notebook you will learn how to build a link prediction classifier using Neo4j and scikit-learn. \n",
    "\n",
    "Import the libraries that you will need (remember to unset Reset all runtimes before running):"
   ]
  },
  {
   "cell_type": "code",
   "execution_count": 1,
   "metadata": {
    "id": "7q81gtsjTWeC",
    "pycharm": {}
   },
   "outputs": [],
   "source": [
    "from py2neo import Graph\n",
    "import pandas as pd\n",
    "\n",
    "import matplotlib \n",
    "import matplotlib.pyplot as plt\n",
    "\n",
    "plt.style.use('fivethirtyeight')\n",
    "pd.set_option('display.float_format', lambda x: '%.3f' % x)\n",
    "\n",
    "import pandas as pd\n",
    "from collections import Counter\n",
    "from sklearn.ensemble import RandomForestClassifier\n",
    "\n",
    "from sklearn.metrics import recall_score\n",
    "from sklearn.metrics import precision_score\n",
    "from sklearn.metrics import accuracy_score"
   ]
  },
  {
   "cell_type": "markdown",
   "metadata": {
    "id": "EaRfzqJyTWeG",
    "pycharm": {}
   },
   "source": [
    "Next, create a connection to your Neo4j Sandbox, just as you did previously when you set up your environment. \n",
    "\n",
    "\n",
    "Update the cell below to use the Bolt URL, and Password, as you did previously."
   ]
  },
  {
   "cell_type": "code",
   "execution_count": 22,
   "metadata": {
    "id": "fBdEY1l1TWeH",
    "pycharm": {}
   },
   "outputs": [],
   "source": [
    "# Change the line of code below to use the Bolt URL and Password of your Sandbox.\n",
    "# graph = Graph(\"bolt://<IP Address>:<Bolt Port>\", auth=(\"neo4j\", \"<Password>\")) \n",
    " \n",
    "import json\n",
    "db_conf = json.load(open(\"./config.json\"))\n",
    "graph = Graph(db_conf['GDB_URL'], auth=(db_conf['GDB_NAME'], db_conf['GDB_PASS']))"
   ]
  },
  {
   "cell_type": "markdown",
   "metadata": {
    "id": "QvF4uwtyTWeJ",
    "pycharm": {}
   },
   "source": [
    "# Building a co-author graph\n",
    "\n",
    "You will build an inferred graph of co-authors based on people collaborating on the same papers. You will store a property on the relationship indicating the year of their first collaboration.\n",
    "\n",
    "Run this code to do this:"
   ]
  },
  {
   "cell_type": "code",
   "execution_count": 3,
   "metadata": {
    "id": "A4opiEzCTWeK",
    "pycharm": {}
   },
   "outputs": [
    {
     "data": {
      "text/plain": [
       "constraints_added: 0\n",
       "constraints_removed: 0\n",
       "contained_updates: False\n",
       "indexes_added: 0\n",
       "indexes_removed: 0\n",
       "labels_added: 0\n",
       "labels_removed: 0\n",
       "nodes_created: 0\n",
       "nodes_deleted: 0\n",
       "properties_set: 0\n",
       "relationships_created: 0\n",
       "relationships_deleted: 0"
      ]
     },
     "execution_count": 3,
     "metadata": {},
     "output_type": "execute_result"
    }
   ],
   "source": [
    "query = \"\"\"\n",
    "CALL apoc.periodic.iterate(\n",
    "  \"MATCH (a1)<-[:AUTHOR]-(paper)-[:AUTHOR]->(a2:Author)\n",
    "   WITH a1, a2, paper\n",
    "   ORDER BY a1, paper.year\n",
    "   RETURN a1, a2, collect(paper)[0].year AS year, count(*) AS collaborations\",\n",
    "  \"MERGE (a1)-[coauthor:CO_AUTHOR {year: year}]-(a2)\n",
    "   SET coauthor.collaborations = collaborations\", \n",
    "  {batchSize: 100})\n",
    "\"\"\"\n",
    "\n",
    "graph.run(query).stats()"
   ]
  },
  {
   "cell_type": "markdown",
   "metadata": {
    "id": "5N_CO6sdTWeN",
    "pycharm": {}
   },
   "source": [
    "Now that you have created a co-author graph, you need an approach that will allow you to predict future links (relationships) that will be created between people. \n",
    "\n",
    "You will use the [link prediction algorithms](https://neo4j.com/docs/graph-algorithms/current/algorithms/linkprediction/) that you learned about in the previous section. Once you have computed scores with this algorithms what should you do?\n",
    "\n",
    "There are two main approaches that one can take:\n",
    "\n",
    "## Using the measures directly\n",
    "\n",
    "You can use the scores from the link predictions directly, specifying a __threshold value__ above which we predict that a link will be created between two nodes.\n",
    "\n",
    "## Supervised learning\n",
    "\n",
    "You can take a supervised learning approach where you use the scores as features to train a binary classifier. The binary classifier then predicts whether a pair of nodes will have a link.\n",
    "\n",
    "In this notebook you will apply the supervised learning approach.\n",
    "\n",
    "## Train and test datasets \n",
    "\n",
    "Next, you must create the train and test datasets on which you can build, and then evaluate a model.\n",
    "\n",
    "## Positive examples\n",
    "\n",
    "The tricky thing when working with graph data is that you cannot just randomly split the data, as this could lead to data leakage.\n",
    "\n",
    "Data leakage can occur when data outside of your training data is inadvertently used to create your model. This can easily happen when working with graphs because pairs of nodes in the training set may be connected to those in the test set.\n",
    "\n",
    "When you compute link prediction measures over that training set the __measures computed contain information from the test set__ that you will later evaluate the model against.\n",
    "\n",
    "Instead, you need to split the graph into training and test sub graphs. If the graph has a concept of time, things are easier as you can split the graph at a point in time. The training set will be from before the time, the test set after.\n",
    "\n",
    "This is still not a perfect solution and you must ensure that the general network structure in the training and test sub graphs is similar.\n",
    "\n",
    "Subsequently, pairs of nodes in our train and test datasets will have relationships between them. They will be the __positive examples__ in your machine learning model.\n",
    "\n",
    "Because the citation graph contains times, you can create train and test graphs by splitting the data on a particular year. Next, you must determine what year that should be. Determine the distribution of the first year that co-authors collaborated:"
   ]
  },
  {
   "cell_type": "code",
   "execution_count": 4,
   "metadata": {
    "id": "QotDBXBrTWeN",
    "pycharm": {}
   },
   "outputs": [
    {
     "data": {
      "image/png": "[encoded data removed]",
      "text/plain": [
       "<Figure size 1080x576 with 1 Axes>"
      ]
     },
     "metadata": {},
     "output_type": "display_data"
    }
   ],
   "source": [
    "query = \"\"\"\n",
    "MATCH p=()-[r:CO_AUTHOR]->() \n",
    "WITH r.year AS year, count(*) AS count\n",
    "ORDER BY year\n",
    "RETURN toString(year) AS year, count\n",
    "\"\"\"\n",
    "by_year = graph.run(query).to_data_frame()\n",
    "\n",
    "ax = by_year.plot(kind='bar', x='year', y='count', legend=None, figsize=(15,8))\n",
    "ax.xaxis.set_label_text(\"\")\n",
    "plt.tight_layout()\n",
    "plt.show()"
   ]
  },
  {
   "cell_type": "markdown",
   "metadata": {
    "id": "TB6J7P8ETWeP",
    "pycharm": {}
   },
   "source": [
    "It looks like 2006 would act as a good year for splitting the data. All co-authorships from 2005 and earlier as our train graph, and everything from 2006 onwards as the test graph.\n",
    "\n",
    "Create explicit `CO_AUTHOR_EARLY` and `CO_AUTHOR_LATE` relationships in the graph based on that year. The following code will create these relationships:"
   ]
  },
  {
   "cell_type": "code",
   "execution_count": 8,
   "metadata": {
    "id": "iUjduszrTWeQ",
    "pycharm": {}
   },
   "outputs": [
    {
     "data": {
      "text/plain": [
       "constraints_added: 0\n",
       "constraints_removed: 0\n",
       "contained_updates: False\n",
       "indexes_added: 0\n",
       "indexes_removed: 0\n",
       "labels_added: 0\n",
       "labels_removed: 0\n",
       "nodes_created: 0\n",
       "nodes_deleted: 0\n",
       "properties_set: 0\n",
       "relationships_created: 0\n",
       "relationships_deleted: 0"
      ]
     },
     "execution_count": 8,
     "metadata": {},
     "output_type": "execute_result"
    }
   ],
   "source": [
    "query = \"\"\"\n",
    "MATCH (a)-[r:CO_AUTHOR]->(b) \n",
    "where r.year < 2006\n",
    "MERGE (a)-[:CO_AUTHOR_EARLY {year: r.year}]-(b);\n",
    "\"\"\"\n",
    "\n",
    "graph.run(query).stats()"
   ]
  },
  {
   "cell_type": "code",
   "execution_count": 9,
   "metadata": {
    "id": "vewEh58-TWeS",
    "pycharm": {}
   },
   "outputs": [
    {
     "data": {
      "text/plain": [
       "constraints_added: 0\n",
       "constraints_removed: 0\n",
       "contained_updates: False\n",
       "indexes_added: 0\n",
       "indexes_removed: 0\n",
       "labels_added: 0\n",
       "labels_removed: 0\n",
       "nodes_created: 0\n",
       "nodes_deleted: 0\n",
       "properties_set: 0\n",
       "relationships_created: 0\n",
       "relationships_deleted: 0"
      ]
     },
     "execution_count": 9,
     "metadata": {},
     "output_type": "execute_result"
    }
   ],
   "source": [
    "query = \"\"\"\n",
    "MATCH (a)-[r:CO_AUTHOR]->(b) \n",
    "where r.year >= 2006\n",
    "MERGE (a)-[:CO_AUTHOR_LATE {year: r.year}]-(b);\n",
    "\"\"\"\n",
    "\n",
    "graph.run(query).stats()"
   ]
  },
  {
   "cell_type": "markdown",
   "metadata": {
    "id": "ZQUtddSGTWeV",
    "pycharm": {}
   },
   "source": [
    "Determine how many co-author relationship you have in each of these sub graphs:"
   ]
  },
  {
   "cell_type": "code",
   "execution_count": 10,
   "metadata": {
    "id": "ZI2ySwhSTWeV",
    "pycharm": {}
   },
   "outputs": [
    {
     "data": {
      "text/html": [
       "<div>\n",
       "<style scoped>\n",
       "    .dataframe tbody tr th:only-of-type {\n",
       "        vertical-align: middle;\n",
       "    }\n",
       "\n",
       "    .dataframe tbody tr th {\n",
       "        vertical-align: top;\n",
       "    }\n",
       "\n",
       "    .dataframe thead th {\n",
       "        text-align: right;\n",
       "    }\n",
       "</style>\n",
       "<table border=\"1\" class=\"dataframe\">\n",
       "  <thead>\n",
       "    <tr style=\"text-align: right;\">\n",
       "      <th></th>\n",
       "      <th>count</th>\n",
       "    </tr>\n",
       "  </thead>\n",
       "  <tbody>\n",
       "    <tr>\n",
       "      <th>0</th>\n",
       "      <td>81096</td>\n",
       "    </tr>\n",
       "  </tbody>\n",
       "</table>\n",
       "</div>"
      ],
      "text/plain": [
       "   count\n",
       "0  81096"
      ]
     },
     "execution_count": 10,
     "metadata": {},
     "output_type": "execute_result"
    }
   ],
   "source": [
    "query = \"\"\"\n",
    "MATCH ()-[:CO_AUTHOR_EARLY]->()\n",
    "RETURN count(*) AS count\n",
    "\"\"\"\n",
    "\n",
    "graph.run(query).to_data_frame()"
   ]
  },
  {
   "cell_type": "code",
   "execution_count": 11,
   "metadata": {
    "id": "FXVUn_DqTWeY",
    "pycharm": {}
   },
   "outputs": [
    {
     "data": {
      "text/html": [
       "<div>\n",
       "<style scoped>\n",
       "    .dataframe tbody tr th:only-of-type {\n",
       "        vertical-align: middle;\n",
       "    }\n",
       "\n",
       "    .dataframe tbody tr th {\n",
       "        vertical-align: top;\n",
       "    }\n",
       "\n",
       "    .dataframe thead th {\n",
       "        text-align: right;\n",
       "    }\n",
       "</style>\n",
       "<table border=\"1\" class=\"dataframe\">\n",
       "  <thead>\n",
       "    <tr style=\"text-align: right;\">\n",
       "      <th></th>\n",
       "      <th>count</th>\n",
       "    </tr>\n",
       "  </thead>\n",
       "  <tbody>\n",
       "    <tr>\n",
       "      <th>0</th>\n",
       "      <td>74128</td>\n",
       "    </tr>\n",
       "  </tbody>\n",
       "</table>\n",
       "</div>"
      ],
      "text/plain": [
       "   count\n",
       "0  74128"
      ]
     },
     "execution_count": 11,
     "metadata": {},
     "output_type": "execute_result"
    }
   ],
   "source": [
    "query = \"\"\"\n",
    "MATCH ()-[:CO_AUTHOR_LATE]->()\n",
    "RETURN count(*) AS count\n",
    "\"\"\"\n",
    "\n",
    "graph.run(query).to_data_frame()"
   ]
  },
  {
   "cell_type": "markdown",
   "metadata": {
    "id": "mYH_ieI7TWea",
    "pycharm": {}
   },
   "source": [
    "This graph has a split of 52-48, which is a bit on the high side, but should be ok. Next, we create our __negative examples__.\n",
    "\n",
    "\n",
    "## Negative examples\n",
    "\n",
    "The simplest approach is to use all pair of nodes that don’t have a relationship. __The problem with this approach is that there are significantly more examples of pairs of nodes that don’t have a relationship than there are pairs of nodes that do__.\n",
    "\n",
    "The maximum number of negative examples is equal to:\n",
    "\n",
    "```\n",
    "# negative examples = (# nodes)² - (# relationships) - (# nodes)\n",
    "```\n",
    "\n",
    "i.e. the number of nodes squared, minus the relationships that the graph has, minus self relationships.\n",
    "\n",
    "If you were to use all of these negative examples in your training set, you would have a massive class imbalance — there are many negative examples and relatively few positive ones.\n",
    "\n",
    "A model trained using data that is this imbalanced will achieve very high accuracy by __predicting that any pair of nodes don’t have a relationship__ between them, which is not quite what we want!\n",
    "\n",
    "You need to reduce the number of negative examples. An approach described in several link prediction papers is to use pairs of nodes that are a __specific number of hops away from each other__.\n",
    "\n",
    "This will significantly reduce the number of negative examples, although there will still be a lot more negative examples than positive.\n",
    "\n",
    "To solve this problem, you either need to down sample the negative examples or up sample the positive examples.\n",
    "\n",
    "You will take the down sampling approach. The following function will do this:"
   ]
  },
  {
   "cell_type": "code",
   "execution_count": 12,
   "metadata": {
    "id": "X8Y0zKX0TWeb",
    "pycharm": {}
   },
   "outputs": [],
   "source": [
    "def down_sample(df):\n",
    "    copy = df.copy()\n",
    "    zero = Counter(copy.label.values)[0]\n",
    "    un = Counter(copy.label.values)[1]\n",
    "    n = zero - un\n",
    "    copy = copy.drop(copy[copy.label == 0].sample(n=n, random_state=1).index)\n",
    "    return copy.sample(frac=1)"
   ]
  },
  {
   "cell_type": "markdown",
   "metadata": {
    "id": "C3X6WJOqTWed",
    "pycharm": {}
   },
   "source": [
    "Now you are ready to build the train and test datasets based on the train and test sub graphs that you created. \n",
    "\n",
    "* The positive examples will be taken directly from the graph. \n",
    "* The negative examples will be found by looking for people who are 2 or 3 hops away from each other, excluding those that have already collaborated. You will then down sample those examples to equal the size of the positive examples. "
   ]
  },
  {
   "cell_type": "code",
   "execution_count": 23,
   "metadata": {
    "id": "Umq-AvQ2TWed",
    "pycharm": {}
   },
   "outputs": [],
   "source": [
    "train_existing_links = graph.run(\"\"\"\n",
    "MATCH (author:Author)-[:CO_AUTHOR_EARLY]->(other:Author)\n",
    "RETURN id(author) AS node1, id(other) AS node2, 1 AS label\n",
    "limit 100000\n",
    "\"\"\").to_data_frame()"
   ]
  },
  {
   "cell_type": "code",
   "execution_count": 24,
   "metadata": {},
   "outputs": [
    {
     "data": {
      "text/html": [
       "<div>\n",
       "<style scoped>\n",
       "    .dataframe tbody tr th:only-of-type {\n",
       "        vertical-align: middle;\n",
       "    }\n",
       "\n",
       "    .dataframe tbody tr th {\n",
       "        vertical-align: top;\n",
       "    }\n",
       "\n",
       "    .dataframe thead th {\n",
       "        text-align: right;\n",
       "    }\n",
       "</style>\n",
       "<table border=\"1\" class=\"dataframe\">\n",
       "  <thead>\n",
       "    <tr style=\"text-align: right;\">\n",
       "      <th></th>\n",
       "      <th>node1</th>\n",
       "      <th>node2</th>\n",
       "      <th>label</th>\n",
       "    </tr>\n",
       "  </thead>\n",
       "  <tbody>\n",
       "    <tr>\n",
       "      <th>count</th>\n",
       "      <td>81096.000</td>\n",
       "      <td>81096.000</td>\n",
       "      <td>81096.000</td>\n",
       "    </tr>\n",
       "    <tr>\n",
       "      <th>mean</th>\n",
       "      <td>87094.864</td>\n",
       "      <td>125782.725</td>\n",
       "      <td>1.000</td>\n",
       "    </tr>\n",
       "    <tr>\n",
       "      <th>std</th>\n",
       "      <td>73980.589</td>\n",
       "      <td>77111.909</td>\n",
       "      <td>0.000</td>\n",
       "    </tr>\n",
       "    <tr>\n",
       "      <th>min</th>\n",
       "      <td>1044.000</td>\n",
       "      <td>1054.000</td>\n",
       "      <td>1.000</td>\n",
       "    </tr>\n",
       "    <tr>\n",
       "      <th>25%</th>\n",
       "      <td>27479.000</td>\n",
       "      <td>59490.750</td>\n",
       "      <td>1.000</td>\n",
       "    </tr>\n",
       "    <tr>\n",
       "      <th>50%</th>\n",
       "      <td>65631.000</td>\n",
       "      <td>112788.000</td>\n",
       "      <td>1.000</td>\n",
       "    </tr>\n",
       "    <tr>\n",
       "      <th>75%</th>\n",
       "      <td>130272.250</td>\n",
       "      <td>196052.250</td>\n",
       "      <td>1.000</td>\n",
       "    </tr>\n",
       "    <tr>\n",
       "      <th>max</th>\n",
       "      <td>263927.000</td>\n",
       "      <td>263931.000</td>\n",
       "      <td>1.000</td>\n",
       "    </tr>\n",
       "  </tbody>\n",
       "</table>\n",
       "</div>"
      ],
      "text/plain": [
       "           node1      node2     label\n",
       "count  81096.000  81096.000 81096.000\n",
       "mean   87094.864 125782.725     1.000\n",
       "std    73980.589  77111.909     0.000\n",
       "min     1044.000   1054.000     1.000\n",
       "25%    27479.000  59490.750     1.000\n",
       "50%    65631.000 112788.000     1.000\n",
       "75%   130272.250 196052.250     1.000\n",
       "max   263927.000 263931.000     1.000"
      ]
     },
     "execution_count": 24,
     "metadata": {},
     "output_type": "execute_result"
    }
   ],
   "source": [
    "train_existing_links.describe()"
   ]
  },
  {
   "cell_type": "code",
   "execution_count": 25,
   "metadata": {
    "id": "Umq-AvQ2TWed",
    "pycharm": {}
   },
   "outputs": [],
   "source": [
    "train_missing_links = graph.run(\"\"\"\n",
    "MATCH (author:Author)\n",
    "WHERE (author)-[:CO_AUTHOR_LATE]-()\n",
    "MATCH (author)-[:CO_AUTHOR_EARLY*2..3]-(other)\n",
    "WHERE not((author)-[:CO_AUTHOR_EARLY]-(other))\n",
    "RETURN id(author) AS node1, id(other) AS node2, 0 AS label\n",
    "limit 100000\n",
    "\"\"\").to_data_frame()\n",
    "train_missing_links = train_missing_links.drop_duplicates()"
   ]
  },
  {
   "cell_type": "code",
   "execution_count": 26,
   "metadata": {},
   "outputs": [
    {
     "data": {
      "text/html": [
       "<div>\n",
       "<style scoped>\n",
       "    .dataframe tbody tr th:only-of-type {\n",
       "        vertical-align: middle;\n",
       "    }\n",
       "\n",
       "    .dataframe tbody tr th {\n",
       "        vertical-align: top;\n",
       "    }\n",
       "\n",
       "    .dataframe thead th {\n",
       "        text-align: right;\n",
       "    }\n",
       "</style>\n",
       "<table border=\"1\" class=\"dataframe\">\n",
       "  <thead>\n",
       "    <tr style=\"text-align: right;\">\n",
       "      <th></th>\n",
       "      <th>node1</th>\n",
       "      <th>node2</th>\n",
       "      <th>label</th>\n",
       "    </tr>\n",
       "  </thead>\n",
       "  <tbody>\n",
       "    <tr>\n",
       "      <th>count</th>\n",
       "      <td>24887.000</td>\n",
       "      <td>24887.000</td>\n",
       "      <td>24887.000</td>\n",
       "    </tr>\n",
       "    <tr>\n",
       "      <th>mean</th>\n",
       "      <td>1751.389</td>\n",
       "      <td>101536.848</td>\n",
       "      <td>0.000</td>\n",
       "    </tr>\n",
       "    <tr>\n",
       "      <th>std</th>\n",
       "      <td>515.932</td>\n",
       "      <td>76197.244</td>\n",
       "      <td>0.000</td>\n",
       "    </tr>\n",
       "    <tr>\n",
       "      <th>min</th>\n",
       "      <td>1044.000</td>\n",
       "      <td>1044.000</td>\n",
       "      <td>0.000</td>\n",
       "    </tr>\n",
       "    <tr>\n",
       "      <th>25%</th>\n",
       "      <td>1290.000</td>\n",
       "      <td>35970.000</td>\n",
       "      <td>0.000</td>\n",
       "    </tr>\n",
       "    <tr>\n",
       "      <th>50%</th>\n",
       "      <td>1677.000</td>\n",
       "      <td>90056.000</td>\n",
       "      <td>0.000</td>\n",
       "    </tr>\n",
       "    <tr>\n",
       "      <th>75%</th>\n",
       "      <td>2138.000</td>\n",
       "      <td>165986.000</td>\n",
       "      <td>0.000</td>\n",
       "    </tr>\n",
       "    <tr>\n",
       "      <th>max</th>\n",
       "      <td>2840.000</td>\n",
       "      <td>263931.000</td>\n",
       "      <td>0.000</td>\n",
       "    </tr>\n",
       "  </tbody>\n",
       "</table>\n",
       "</div>"
      ],
      "text/plain": [
       "          node1      node2     label\n",
       "count 24887.000  24887.000 24887.000\n",
       "mean   1751.389 101536.848     0.000\n",
       "std     515.932  76197.244     0.000\n",
       "min    1044.000   1044.000     0.000\n",
       "25%    1290.000  35970.000     0.000\n",
       "50%    1677.000  90056.000     0.000\n",
       "75%    2138.000 165986.000     0.000\n",
       "max    2840.000 263931.000     0.000"
      ]
     },
     "execution_count": 26,
     "metadata": {},
     "output_type": "execute_result"
    }
   ],
   "source": [
    "train_missing_links.describe()"
   ]
  },
  {
   "cell_type": "code",
   "execution_count": 27,
   "metadata": {
    "id": "hN23lnM5TWeg",
    "pycharm": {}
   },
   "outputs": [
    {
     "name": "stdout",
     "output_type": "stream",
     "text": [
      "           node1      node2      label\n",
      "count 105983.000 105983.000 105983.000\n",
      "mean   67054.451 120089.292      0.765\n",
      "std    74139.646  77581.515      0.424\n",
      "min     1044.000   1044.000      0.000\n",
      "25%     2536.000  52382.000      1.000\n",
      "50%    37215.000 107641.000      1.000\n",
      "75%   106899.500 188349.000      1.000\n",
      "max   263927.000 263931.000      1.000\n"
     ]
    }
   ],
   "source": [
    "training_df = train_missing_links.append(train_existing_links, ignore_index=True)\n",
    "print(training_df.describe())\n",
    "training_df['label'] = training_df['label'].astype('category')\n",
    "# because sample size is equal\n",
    "# training_df = down_sample(training_df)"
   ]
  },
  {
   "cell_type": "markdown",
   "metadata": {
    "id": "wvh6YD_OTWei",
    "pycharm": {}
   },
   "source": [
    "Now let's have a look what our train DataFrame contains:"
   ]
  },
  {
   "cell_type": "code",
   "execution_count": 28,
   "metadata": {
    "id": "og1jgoqBTWei",
    "pycharm": {}
   },
   "outputs": [
    {
     "data": {
      "text/html": [
       "<div>\n",
       "<style scoped>\n",
       "    .dataframe tbody tr th:only-of-type {\n",
       "        vertical-align: middle;\n",
       "    }\n",
       "\n",
       "    .dataframe tbody tr th {\n",
       "        vertical-align: top;\n",
       "    }\n",
       "\n",
       "    .dataframe thead th {\n",
       "        text-align: right;\n",
       "    }\n",
       "</style>\n",
       "<table border=\"1\" class=\"dataframe\">\n",
       "  <thead>\n",
       "    <tr style=\"text-align: right;\">\n",
       "      <th></th>\n",
       "      <th>node1</th>\n",
       "      <th>node2</th>\n",
       "      <th>label</th>\n",
       "    </tr>\n",
       "  </thead>\n",
       "  <tbody>\n",
       "    <tr>\n",
       "      <th>0</th>\n",
       "      <td>1044</td>\n",
       "      <td>1044</td>\n",
       "      <td>0</td>\n",
       "    </tr>\n",
       "    <tr>\n",
       "      <th>1</th>\n",
       "      <td>1045</td>\n",
       "      <td>51292</td>\n",
       "      <td>0</td>\n",
       "    </tr>\n",
       "    <tr>\n",
       "      <th>2</th>\n",
       "      <td>1045</td>\n",
       "      <td>51290</td>\n",
       "      <td>0</td>\n",
       "    </tr>\n",
       "    <tr>\n",
       "      <th>3</th>\n",
       "      <td>1045</td>\n",
       "      <td>1045</td>\n",
       "      <td>0</td>\n",
       "    </tr>\n",
       "    <tr>\n",
       "      <th>4</th>\n",
       "      <td>1045</td>\n",
       "      <td>89939</td>\n",
       "      <td>0</td>\n",
       "    </tr>\n",
       "  </tbody>\n",
       "</table>\n",
       "</div>"
      ],
      "text/plain": [
       "   node1  node2 label\n",
       "0   1044   1044     0\n",
       "1   1045  51292     0\n",
       "2   1045  51290     0\n",
       "3   1045   1045     0\n",
       "4   1045  89939     0"
      ]
     },
     "execution_count": 28,
     "metadata": {},
     "output_type": "execute_result"
    }
   ],
   "source": [
    "training_df.head()"
   ]
  },
  {
   "cell_type": "markdown",
   "metadata": {
    "id": "HkOhkQrUTWel",
    "pycharm": {}
   },
   "source": [
    "Let's repeat the process for the test set:"
   ]
  },
  {
   "cell_type": "code",
   "execution_count": 35,
   "metadata": {
    "id": "s7j-M49RTWel",
    "pycharm": {}
   },
   "outputs": [],
   "source": [
    "test_existing_links = graph.run(\"\"\"\n",
    "MATCH (author:Author)-[:CO_AUTHOR_LATE]->(other:Author)\n",
    "RETURN id(author) AS node1, id(other) AS node2, 1 AS label\n",
    "limit 10000\n",
    "\"\"\").to_data_frame()\n",
    "\n",
    "test_missing_links = graph.run(\"\"\"\n",
    "MATCH (author:Author)\n",
    "WHERE (author)-[:CO_AUTHOR_LATE]-()\n",
    "MATCH (author)-[:CO_AUTHOR_LATE*2..3]-(other)\n",
    "WHERE not((author)-[:CO_AUTHOR_LATE]-(other))\n",
    "RETURN id(author) AS node1, id(other) AS node2, 0 AS label\n",
    "limit 10000\n",
    "\"\"\").to_data_frame()\n",
    "test_missing_links = test_missing_links.drop_duplicates()"
   ]
  },
  {
   "cell_type": "code",
   "execution_count": 36,
   "metadata": {
    "id": "RpOP0H1BTWeo",
    "pycharm": {}
   },
   "outputs": [],
   "source": [
    "test_df = test_missing_links.append(test_existing_links, ignore_index=True)\n",
    "test_df['label'] = test_df['label'].astype('category')\n",
    "# test_df = down_sample(test_df)"
   ]
  },
  {
   "cell_type": "markdown",
   "metadata": {
    "id": "hU2pwupzTWer",
    "pycharm": {}
   },
   "source": [
    "And it's time to sample our test DataFrame:"
   ]
  },
  {
   "cell_type": "code",
   "execution_count": 37,
   "metadata": {
    "id": "6sIOwm3ATWer",
    "pycharm": {}
   },
   "outputs": [
    {
     "data": {
      "text/html": [
       "<div>\n",
       "<style scoped>\n",
       "    .dataframe tbody tr th:only-of-type {\n",
       "        vertical-align: middle;\n",
       "    }\n",
       "\n",
       "    .dataframe tbody tr th {\n",
       "        vertical-align: top;\n",
       "    }\n",
       "\n",
       "    .dataframe thead th {\n",
       "        text-align: right;\n",
       "    }\n",
       "</style>\n",
       "<table border=\"1\" class=\"dataframe\">\n",
       "  <thead>\n",
       "    <tr style=\"text-align: right;\">\n",
       "      <th></th>\n",
       "      <th>node1</th>\n",
       "      <th>node2</th>\n",
       "      <th>label</th>\n",
       "    </tr>\n",
       "  </thead>\n",
       "  <tbody>\n",
       "    <tr>\n",
       "      <th>0</th>\n",
       "      <td>1043</td>\n",
       "      <td>1043</td>\n",
       "      <td>0</td>\n",
       "    </tr>\n",
       "    <tr>\n",
       "      <th>1</th>\n",
       "      <td>1043</td>\n",
       "      <td>58823</td>\n",
       "      <td>0</td>\n",
       "    </tr>\n",
       "    <tr>\n",
       "      <th>2</th>\n",
       "      <td>1043</td>\n",
       "      <td>58824</td>\n",
       "      <td>0</td>\n",
       "    </tr>\n",
       "    <tr>\n",
       "      <th>3</th>\n",
       "      <td>1043</td>\n",
       "      <td>59020</td>\n",
       "      <td>0</td>\n",
       "    </tr>\n",
       "    <tr>\n",
       "      <th>4</th>\n",
       "      <td>1044</td>\n",
       "      <td>1044</td>\n",
       "      <td>0</td>\n",
       "    </tr>\n",
       "  </tbody>\n",
       "</table>\n",
       "</div>"
      ],
      "text/plain": [
       "   node1  node2 label\n",
       "0   1043   1043     0\n",
       "1   1043  58823     0\n",
       "2   1043  58824     0\n",
       "3   1043  59020     0\n",
       "4   1044   1044     0"
      ]
     },
     "execution_count": 37,
     "metadata": {},
     "output_type": "execute_result"
    }
   ],
   "source": [
    "test_df.head()"
   ]
  },
  {
   "cell_type": "markdown",
   "metadata": {
    "id": "5ySnQ_zyTWeu",
    "pycharm": {}
   },
   "source": [
    "# Choosing a machine learning algorithm\n",
    "\n",
    "Next, you will create a machine learning pipeline based on a random forest classifier. This method is well suited as this data set will be comprised of a mix of strong and weak features. While the weak features will sometimes be helpful, the random forest method will ensure that you don’t create a model that only fits the training data."
   ]
  },
  {
   "cell_type": "code",
   "execution_count": 16,
   "metadata": {
    "id": "H4QV_TWMTWeu",
    "pycharm": {}
   },
   "outputs": [],
   "source": [
    "classifier = RandomForestClassifier(n_estimators=30, max_depth=10, random_state=0)"
   ]
  },
  {
   "cell_type": "markdown",
   "metadata": {
    "id": "YMk24-8xTWex",
    "pycharm": {}
   },
   "source": [
    "# Generating graphy features\n",
    "\n",
    "Start by creating a simple model that tries to predict whether two authors will have a future collaboration based on features extracted from common authors, preferential attachment, and the total union of neighbors.\n",
    "\n",
    "The following function computes each of these measures for pairs of nodes:"
   ]
  },
  {
   "cell_type": "code",
   "execution_count": 29,
   "metadata": {},
   "outputs": [
    {
     "data": {
      "text/plain": [
       "[{'node1': 1044, 'node2': 1044},\n",
       " {'node1': 1045, 'node2': 51292},\n",
       " {'node1': 1045, 'node2': 51290},\n",
       " {'node1': 1045, 'node2': 1045},\n",
       " {'node1': 1045, 'node2': 89939},\n",
       " {'node1': 1045, 'node2': 89940},\n",
       " {'node1': 1045, 'node2': 77994},\n",
       " {'node1': 1045, 'node2': 77993},\n",
       " {'node1': 1045, 'node2': 77992},\n",
       " {'node1': 1045, 'node2': 90629},\n",
       " {'node1': 1045, 'node2': 65497},\n",
       " {'node1': 1045, 'node2': 59237},\n",
       " {'node1': 1045, 'node2': 65386},\n",
       " {'node1': 1045, 'node2': 65387},\n",
       " {'node1': 1045, 'node2': 59236},\n",
       " {'node1': 1045, 'node2': 65980},\n",
       " {'node1': 1045, 'node2': 258394},\n",
       " {'node1': 1045, 'node2': 113307},\n",
       " {'node1': 1045, 'node2': 200939},\n",
       " {'node1': 1045, 'node2': 36681},\n",
       " {'node1': 1045, 'node2': 65498},\n",
       " {'node1': 1045, 'node2': 232808},\n",
       " {'node1': 1045, 'node2': 102510},\n",
       " {'node1': 1045, 'node2': 151438},\n",
       " {'node1': 1045, 'node2': 129876},\n",
       " {'node1': 1045, 'node2': 102512},\n",
       " {'node1': 1045, 'node2': 228505},\n",
       " {'node1': 1045, 'node2': 228504},\n",
       " {'node1': 1045, 'node2': 100978},\n",
       " {'node1': 1045, 'node2': 10003},\n",
       " {'node1': 1045, 'node2': 256158},\n",
       " {'node1': 1045, 'node2': 232761},\n",
       " {'node1': 1045, 'node2': 253205},\n",
       " {'node1': 1045, 'node2': 256690},\n",
       " {'node1': 1045, 'node2': 36627},\n",
       " {'node1': 1045, 'node2': 139918},\n",
       " {'node1': 1045, 'node2': 10002},\n",
       " {'node1': 1045, 'node2': 52479},\n",
       " {'node1': 1045, 'node2': 29107},\n",
       " {'node1': 1045, 'node2': 28053},\n",
       " {'node1': 1045, 'node2': 65564},\n",
       " {'node1': 1059, 'node2': 20622},\n",
       " {'node1': 1059, 'node2': 35873},\n",
       " {'node1': 1059, 'node2': 57853},\n",
       " {'node1': 1059, 'node2': 51680},\n",
       " {'node1': 1059, 'node2': 102116},\n",
       " {'node1': 1059, 'node2': 65071},\n",
       " {'node1': 1059, 'node2': 96642},\n",
       " {'node1': 1059, 'node2': 35872},\n",
       " {'node1': 1059, 'node2': 58723},\n",
       " {'node1': 1059, 'node2': 57854},\n",
       " {'node1': 1059, 'node2': 35870},\n",
       " {'node1': 1059, 'node2': 77445},\n",
       " {'node1': 1059, 'node2': 77765},\n",
       " {'node1': 1059, 'node2': 65669},\n",
       " {'node1': 1059, 'node2': 123874},\n",
       " {'node1': 1059, 'node2': 35871},\n",
       " {'node1': 1059, 'node2': 1638},\n",
       " {'node1': 1059, 'node2': 1948},\n",
       " {'node1': 1059, 'node2': 65689},\n",
       " {'node1': 1059, 'node2': 95683},\n",
       " {'node1': 1059, 'node2': 19220},\n",
       " {'node1': 1059, 'node2': 19364},\n",
       " {'node1': 1059, 'node2': 51681},\n",
       " {'node1': 1059, 'node2': 19401},\n",
       " {'node1': 1059, 'node2': 233038},\n",
       " {'node1': 1059, 'node2': 58376},\n",
       " {'node1': 1059, 'node2': 1059},\n",
       " {'node1': 1059, 'node2': 123159},\n",
       " {'node1': 1059, 'node2': 123873},\n",
       " {'node1': 1059, 'node2': 72489},\n",
       " {'node1': 1059, 'node2': 72491},\n",
       " {'node1': 1059, 'node2': 90069},\n",
       " {'node1': 1059, 'node2': 72487},\n",
       " {'node1': 1059, 'node2': 90068},\n",
       " {'node1': 1059, 'node2': 65072},\n",
       " {'node1': 1059, 'node2': 72490},\n",
       " {'node1': 1059, 'node2': 72488},\n",
       " {'node1': 1059, 'node2': 58691},\n",
       " {'node1': 1059, 'node2': 64989},\n",
       " {'node1': 1059, 'node2': 102333},\n",
       " {'node1': 1059, 'node2': 245755},\n",
       " {'node1': 1059, 'node2': 245754},\n",
       " {'node1': 1059, 'node2': 239669},\n",
       " {'node1': 1059, 'node2': 102334},\n",
       " {'node1': 1059, 'node2': 248300},\n",
       " {'node1': 1059, 'node2': 9935},\n",
       " {'node1': 1059, 'node2': 77972},\n",
       " {'node1': 1059, 'node2': 117987},\n",
       " {'node1': 1059, 'node2': 77970},\n",
       " {'node1': 1059, 'node2': 232443},\n",
       " {'node1': 1059, 'node2': 90634},\n",
       " {'node1': 1059, 'node2': 210201},\n",
       " {'node1': 1059, 'node2': 19377},\n",
       " {'node1': 1059, 'node2': 35965},\n",
       " {'node1': 1059, 'node2': 77971},\n",
       " {'node1': 1059, 'node2': 28720},\n",
       " {'node1': 1059, 'node2': 72282},\n",
       " {'node1': 1059, 'node2': 2816},\n",
       " {'node1': 1059, 'node2': 78696},\n",
       " {'node1': 1059, 'node2': 64871},\n",
       " {'node1': 1059, 'node2': 192101},\n",
       " {'node1': 1059, 'node2': 140192},\n",
       " {'node1': 1059, 'node2': 59143},\n",
       " {'node1': 1059, 'node2': 192103},\n",
       " {'node1': 1059, 'node2': 192102},\n",
       " {'node1': 1059, 'node2': 78697},\n",
       " {'node1': 1059, 'node2': 196416},\n",
       " {'node1': 1059, 'node2': 196417},\n",
       " {'node1': 1059, 'node2': 11077},\n",
       " {'node1': 1059, 'node2': 58611},\n",
       " {'node1': 1059, 'node2': 19155},\n",
       " {'node1': 1059, 'node2': 44708},\n",
       " {'node1': 1059, 'node2': 36371},\n",
       " {'node1': 1059, 'node2': 36370},\n",
       " {'node1': 1059, 'node2': 19669},\n",
       " {'node1': 1059, 'node2': 11923},\n",
       " {'node1': 1059, 'node2': 11925},\n",
       " {'node1': 1059, 'node2': 11924},\n",
       " {'node1': 1059, 'node2': 252530},\n",
       " {'node1': 1059, 'node2': 20083},\n",
       " {'node1': 1059, 'node2': 96233},\n",
       " {'node1': 1059, 'node2': 242862},\n",
       " {'node1': 1059, 'node2': 3425},\n",
       " {'node1': 1059, 'node2': 242861},\n",
       " {'node1': 1059, 'node2': 222871},\n",
       " {'node1': 1059, 'node2': 65685},\n",
       " {'node1': 1059, 'node2': 144985},\n",
       " {'node1': 1060, 'node2': 1060},\n",
       " {'node1': 1060, 'node2': 228131},\n",
       " {'node1': 1060, 'node2': 1445},\n",
       " {'node1': 1060, 'node2': 77812},\n",
       " {'node1': 1060, 'node2': 19368},\n",
       " {'node1': 1060, 'node2': 91039},\n",
       " {'node1': 1060, 'node2': 11614},\n",
       " {'node1': 1060, 'node2': 106680},\n",
       " {'node1': 1060, 'node2': 1444},\n",
       " {'node1': 1060, 'node2': 1446},\n",
       " {'node1': 1060, 'node2': 106679},\n",
       " {'node1': 1060, 'node2': 129199},\n",
       " {'node1': 1060, 'node2': 78444},\n",
       " {'node1': 1060, 'node2': 78445},\n",
       " {'node1': 1061, 'node2': 1061},\n",
       " {'node1': 1061, 'node2': 129199},\n",
       " {'node1': 1061, 'node2': 78444},\n",
       " {'node1': 1061, 'node2': 78445},\n",
       " {'node1': 1061, 'node2': 77812},\n",
       " {'node1': 1061, 'node2': 11614},\n",
       " {'node1': 1061, 'node2': 19368},\n",
       " {'node1': 1061, 'node2': 91039},\n",
       " {'node1': 1061, 'node2': 235172},\n",
       " {'node1': 1061, 'node2': 235173},\n",
       " {'node1': 1061, 'node2': 106679},\n",
       " {'node1': 1061, 'node2': 1444},\n",
       " {'node1': 1061, 'node2': 59087},\n",
       " {'node1': 1061, 'node2': 111827},\n",
       " {'node1': 1061, 'node2': 112710},\n",
       " {'node1': 1061, 'node2': 101860},\n",
       " {'node1': 1061, 'node2': 28448},\n",
       " {'node1': 1061, 'node2': 58731},\n",
       " {'node1': 1061, 'node2': 66309},\n",
       " {'node1': 1061, 'node2': 36342},\n",
       " {'node1': 1061, 'node2': 106680},\n",
       " {'node1': 1061, 'node2': 58730},\n",
       " {'node1': 1061, 'node2': 59088},\n",
       " {'node1': 1061, 'node2': 1924},\n",
       " {'node1': 1061, 'node2': 11613},\n",
       " {'node1': 1061, 'node2': 11612},\n",
       " {'node1': 1061, 'node2': 1922},\n",
       " {'node1': 1061, 'node2': 234978},\n",
       " {'node1': 1061, 'node2': 1446},\n",
       " {'node1': 1061, 'node2': 188204},\n",
       " {'node1': 1061, 'node2': 246117},\n",
       " {'node1': 1062, 'node2': 1062},\n",
       " {'node1': 1062, 'node2': 228131},\n",
       " {'node1': 1062, 'node2': 1445},\n",
       " {'node1': 1062, 'node2': 77812},\n",
       " {'node1': 1062, 'node2': 19368},\n",
       " {'node1': 1062, 'node2': 91039},\n",
       " {'node1': 1062, 'node2': 11614},\n",
       " {'node1': 1062, 'node2': 106680},\n",
       " {'node1': 1062, 'node2': 1444},\n",
       " {'node1': 1062, 'node2': 1446},\n",
       " {'node1': 1062, 'node2': 106679},\n",
       " {'node1': 1063, 'node2': 1063},\n",
       " {'node1': 1063, 'node2': 170507},\n",
       " {'node1': 1063, 'node2': 180049},\n",
       " {'node1': 1063, 'node2': 161188},\n",
       " {'node1': 1063, 'node2': 170506},\n",
       " {'node1': 1063, 'node2': 205835},\n",
       " {'node1': 1063, 'node2': 170277},\n",
       " {'node1': 1063, 'node2': 151183},\n",
       " {'node1': 1063, 'node2': 205836},\n",
       " {'node1': 1063, 'node2': 191730},\n",
       " {'node1': 1063, 'node2': 89552},\n",
       " {'node1': 1063, 'node2': 205512},\n",
       " {'node1': 1063, 'node2': 205834},\n",
       " {'node1': 1063, 'node2': 205514},\n",
       " {'node1': 1063, 'node2': 205513},\n",
       " {'node1': 1063, 'node2': 196698},\n",
       " {'node1': 1063, 'node2': 170278},\n",
       " {'node1': 1063, 'node2': 151182},\n",
       " {'node1': 1063, 'node2': 50891},\n",
       " {'node1': 1063, 'node2': 58062},\n",
       " {'node1': 1063, 'node2': 258624},\n",
       " {'node1': 1063, 'node2': 155917},\n",
       " {'node1': 1063, 'node2': 258625},\n",
       " {'node1': 1063, 'node2': 217796},\n",
       " {'node1': 1063, 'node2': 36207},\n",
       " {'node1': 1063, 'node2': 145653},\n",
       " {'node1': 1063, 'node2': 200538},\n",
       " {'node1': 1063, 'node2': 43486},\n",
       " {'node1': 1063, 'node2': 213509},\n",
       " {'node1': 1063, 'node2': 19417},\n",
       " {'node1': 1063, 'node2': 35704},\n",
       " {'node1': 1063, 'node2': 101651},\n",
       " {'node1': 1063, 'node2': 50892},\n",
       " {'node1': 1063, 'node2': 200540},\n",
       " {'node1': 1063, 'node2': 200539},\n",
       " {'node1': 1063, 'node2': 96252},\n",
       " {'node1': 1063, 'node2': 213507},\n",
       " {'node1': 1063, 'node2': 214348},\n",
       " {'node1': 1063, 'node2': 213508},\n",
       " {'node1': 1063, 'node2': 218188},\n",
       " {'node1': 1063, 'node2': 210106},\n",
       " {'node1': 1063, 'node2': 170414},\n",
       " {'node1': 1063, 'node2': 218218},\n",
       " {'node1': 1063, 'node2': 65543},\n",
       " {'node1': 1063, 'node2': 58063},\n",
       " {'node1': 1063, 'node2': 57986},\n",
       " {'node1': 1063, 'node2': 205101},\n",
       " {'node1': 1063, 'node2': 187840},\n",
       " {'node1': 1063, 'node2': 58064},\n",
       " {'node1': 1063, 'node2': 106903},\n",
       " {'node1': 1063, 'node2': 175453},\n",
       " {'node1': 1063, 'node2': 192225},\n",
       " {'node1': 1063, 'node2': 191731},\n",
       " {'node1': 1063, 'node2': 191732},\n",
       " {'node1': 1063, 'node2': 191733},\n",
       " {'node1': 1063, 'node2': 36206},\n",
       " {'node1': 1063, 'node2': 36205},\n",
       " {'node1': 1063, 'node2': 209505},\n",
       " {'node1': 1063, 'node2': 183800},\n",
       " {'node1': 1063, 'node2': 151451},\n",
       " {'node1': 1063, 'node2': 209504},\n",
       " {'node1': 1063, 'node2': 183799},\n",
       " {'node1': 1063, 'node2': 179495},\n",
       " {'node1': 1063, 'node2': 151156},\n",
       " {'node1': 1063, 'node2': 134372},\n",
       " {'node1': 1063, 'node2': 43460},\n",
       " {'node1': 1063, 'node2': 10742},\n",
       " {'node1': 1063, 'node2': 145651},\n",
       " {'node1': 1063, 'node2': 1541},\n",
       " {'node1': 1063, 'node2': 145652},\n",
       " {'node1': 1063, 'node2': 205145},\n",
       " {'node1': 1063, 'node2': 89551},\n",
       " {'node1': 1063, 'node2': 179849},\n",
       " {'node1': 1063, 'node2': 258508},\n",
       " {'node1': 1063, 'node2': 65544},\n",
       " {'node1': 1063, 'node2': 170508},\n",
       " {'node1': 1065, 'node2': 156492},\n",
       " {'node1': 1065, 'node2': 156491},\n",
       " {'node1': 1065, 'node2': 36996},\n",
       " {'node1': 1065, 'node2': 156493},\n",
       " {'node1': 1065, 'node2': 213832},\n",
       " {'node1': 1065, 'node2': 151182},\n",
       " {'node1': 1065, 'node2': 58062},\n",
       " {'node1': 1065, 'node2': 258624},\n",
       " {'node1': 1065, 'node2': 36995},\n",
       " {'node1': 1065, 'node2': 36994},\n",
       " {'node1': 1065, 'node2': 170276},\n",
       " {'node1': 1065, 'node2': 36993},\n",
       " {'node1': 1065, 'node2': 170277},\n",
       " {'node1': 1065, 'node2': 155917},\n",
       " {'node1': 1065, 'node2': 191730},\n",
       " {'node1': 1065, 'node2': 258625},\n",
       " {'node1': 1065, 'node2': 36992},\n",
       " {'node1': 1065, 'node2': 205513},\n",
       " {'node1': 1065, 'node2': 205512},\n",
       " {'node1': 1065, 'node2': 180049},\n",
       " {'node1': 1065, 'node2': 205514},\n",
       " {'node1': 1065, 'node2': 217796},\n",
       " {'node1': 1065, 'node2': 36207},\n",
       " {'node1': 1065, 'node2': 151183},\n",
       " {'node1': 1065, 'node2': 89552},\n",
       " {'node1': 1065, 'node2': 170278},\n",
       " {'node1': 1065, 'node2': 1065},\n",
       " {'node1': 1065, 'node2': 170507},\n",
       " {'node1': 1065, 'node2': 170506},\n",
       " {'node1': 1065, 'node2': 205835},\n",
       " {'node1': 1065, 'node2': 205836},\n",
       " {'node1': 1065, 'node2': 205834},\n",
       " {'node1': 1065, 'node2': 196698},\n",
       " {'node1': 1065, 'node2': 209505},\n",
       " {'node1': 1065, 'node2': 151451},\n",
       " {'node1': 1065, 'node2': 151156},\n",
       " {'node1': 1065, 'node2': 179495},\n",
       " {'node1': 1065, 'node2': 43460},\n",
       " {'node1': 1065, 'node2': 1541},\n",
       " {'node1': 1065, 'node2': 209504},\n",
       " {'node1': 1065, 'node2': 10742},\n",
       " {'node1': 1065, 'node2': 183800},\n",
       " {'node1': 1065, 'node2': 184564},\n",
       " {'node1': 1065, 'node2': 184563},\n",
       " {'node1': 1065, 'node2': 183799},\n",
       " {'node1': 1065, 'node2': 134372},\n",
       " {'node1': 1065, 'node2': 218188},\n",
       " {'node1': 1065, 'node2': 210106},\n",
       " {'node1': 1065, 'node2': 170414},\n",
       " {'node1': 1065, 'node2': 218218},\n",
       " {'node1': 1065, 'node2': 65543},\n",
       " {'node1': 1065, 'node2': 51565},\n",
       " {'node1': 1065, 'node2': 179497},\n",
       " {'node1': 1065, 'node2': 179496},\n",
       " {'node1': 1065, 'node2': 101506},\n",
       " {'node1': 1065, 'node2': 134371},\n",
       " {'node1': 1065, 'node2': 263857},\n",
       " {'node1': 1065, 'node2': 134370},\n",
       " {'node1': 1065, 'node2': 239480},\n",
       " {'node1': 1065, 'node2': 65542},\n",
       " {'node1': 1065, 'node2': 117501},\n",
       " {'node1': 1065, 'node2': 200943},\n",
       " {'node1': 1065, 'node2': 65544},\n",
       " {'node1': 1065, 'node2': 101505},\n",
       " {'node1': 1065, 'node2': 65541},\n",
       " {'node1': 1065, 'node2': 43458},\n",
       " {'node1': 1065, 'node2': 43459},\n",
       " {'node1': 1065, 'node2': 205174},\n",
       " {'node1': 1065, 'node2': 2191},\n",
       " {'node1': 1065, 'node2': 35936},\n",
       " {'node1': 1065, 'node2': 205176},\n",
       " {'node1': 1065, 'node2': 205173},\n",
       " {'node1': 1065, 'node2': 205177},\n",
       " {'node1': 1065, 'node2': 10365},\n",
       " {'node1': 1065, 'node2': 188520},\n",
       " {'node1': 1065, 'node2': 9944},\n",
       " {'node1': 1065, 'node2': 140068},\n",
       " {'node1': 1065, 'node2': 205175},\n",
       " {'node1': 1065, 'node2': 145651},\n",
       " {'node1': 1065, 'node2': 145652},\n",
       " {'node1': 1065, 'node2': 1539},\n",
       " {'node1': 1065, 'node2': 28595},\n",
       " {'node1': 1065, 'node2': 1540},\n",
       " {'node1': 1065, 'node2': 205145},\n",
       " {'node1': 1065, 'node2': 89551},\n",
       " {'node1': 1065, 'node2': 179849},\n",
       " {'node1': 1065, 'node2': 258508},\n",
       " {'node1': 1065, 'node2': 200538},\n",
       " {'node1': 1065, 'node2': 43486},\n",
       " {'node1': 1065, 'node2': 213509},\n",
       " {'node1': 1065, 'node2': 19417},\n",
       " {'node1': 1065, 'node2': 35704},\n",
       " {'node1': 1065, 'node2': 101651},\n",
       " {'node1': 1065, 'node2': 50892},\n",
       " {'node1': 1065, 'node2': 200540},\n",
       " {'node1': 1065, 'node2': 200539},\n",
       " {'node1': 1065, 'node2': 96252},\n",
       " {'node1': 1065, 'node2': 213507},\n",
       " {'node1': 1065, 'node2': 214348},\n",
       " {'node1': 1065, 'node2': 213508},\n",
       " {'node1': 1065, 'node2': 170508},\n",
       " {'node1': 1065, 'node2': 58063},\n",
       " {'node1': 1065, 'node2': 57986},\n",
       " {'node1': 1065, 'node2': 205101},\n",
       " {'node1': 1065, 'node2': 187840},\n",
       " {'node1': 1065, 'node2': 58064},\n",
       " {'node1': 1065, 'node2': 106903},\n",
       " {'node1': 1065, 'node2': 175453},\n",
       " {'node1': 1065, 'node2': 192225},\n",
       " {'node1': 1065, 'node2': 191731},\n",
       " {'node1': 1065, 'node2': 191732},\n",
       " {'node1': 1065, 'node2': 191733},\n",
       " {'node1': 1065, 'node2': 36206},\n",
       " {'node1': 1065, 'node2': 36205},\n",
       " {'node1': 1065, 'node2': 43487},\n",
       " {'node1': 1065, 'node2': 139628},\n",
       " {'node1': 1065, 'node2': 101032},\n",
       " {'node1': 1065, 'node2': 129187},\n",
       " {'node1': 1065, 'node2': 195886},\n",
       " {'node1': 1065, 'node2': 27097},\n",
       " {'node1': 1065, 'node2': 18926},\n",
       " {'node1': 1065, 'node2': 183742},\n",
       " {'node1': 1065, 'node2': 20577},\n",
       " {'node1': 1065, 'node2': 20576},\n",
       " {'node1': 1065, 'node2': 106662},\n",
       " {'node1': 1065, 'node2': 255981},\n",
       " {'node1': 1065, 'node2': 72107},\n",
       " {'node1': 1065, 'node2': 129186},\n",
       " {'node1': 1065, 'node2': 71466},\n",
       " {'node1': 1065, 'node2': 101650},\n",
       " {'node1': 1065, 'node2': 130200},\n",
       " {'node1': 1065, 'node2': 146022},\n",
       " {'node1': 1065, 'node2': 205355},\n",
       " {'node1': 1065, 'node2': 161668},\n",
       " {'node1': 1066, 'node2': 1066},\n",
       " {'node1': 1066, 'node2': 170507},\n",
       " {'node1': 1066, 'node2': 170506},\n",
       " {'node1': 1066, 'node2': 205835},\n",
       " {'node1': 1066, 'node2': 205836},\n",
       " {'node1': 1066, 'node2': 205834},\n",
       " {'node1': 1066, 'node2': 196698},\n",
       " {'node1': 1066, 'node2': 200538},\n",
       " {'node1': 1066, 'node2': 200539},\n",
       " {'node1': 1066, 'node2': 200540},\n",
       " {'node1': 1066, 'node2': 43486},\n",
       " {'node1': 1066, 'node2': 19417},\n",
       " {'node1': 1066, 'node2': 50892},\n",
       " {'node1': 1066, 'node2': 35704},\n",
       " {'node1': 1066, 'node2': 43487},\n",
       " {'node1': 1066, 'node2': 213509},\n",
       " {'node1': 1066, 'node2': 101651},\n",
       " {'node1': 1066, 'node2': 213508},\n",
       " {'node1': 1066, 'node2': 213507},\n",
       " {'node1': 1066, 'node2': 139628},\n",
       " {'node1': 1066, 'node2': 101032},\n",
       " {'node1': 1066, 'node2': 129187},\n",
       " {'node1': 1066, 'node2': 195886},\n",
       " {'node1': 1066, 'node2': 27097},\n",
       " {'node1': 1066, 'node2': 18926},\n",
       " {'node1': 1066, 'node2': 183742},\n",
       " {'node1': 1066, 'node2': 20577},\n",
       " {'node1': 1066, 'node2': 20576},\n",
       " {'node1': 1066, 'node2': 106662},\n",
       " {'node1': 1066, 'node2': 255981},\n",
       " {'node1': 1066, 'node2': 72107},\n",
       " {'node1': 1066, 'node2': 129186},\n",
       " {'node1': 1066, 'node2': 71466},\n",
       " {'node1': 1066, 'node2': 101650},\n",
       " {'node1': 1066, 'node2': 130200},\n",
       " {'node1': 1066, 'node2': 146022},\n",
       " {'node1': 1066, 'node2': 205355},\n",
       " {'node1': 1066, 'node2': 161668},\n",
       " {'node1': 1066, 'node2': 218188},\n",
       " {'node1': 1066, 'node2': 210106},\n",
       " {'node1': 1066, 'node2': 170414},\n",
       " {'node1': 1066, 'node2': 218218},\n",
       " {'node1': 1066, 'node2': 65543},\n",
       " {'node1': 1066, 'node2': 96252},\n",
       " {'node1': 1066, 'node2': 214348},\n",
       " {'node1': 1066, 'node2': 209505},\n",
       " {'node1': 1066, 'node2': 183800},\n",
       " {'node1': 1066, 'node2': 151451},\n",
       " {'node1': 1066, 'node2': 209504},\n",
       " {'node1': 1066, 'node2': 183799},\n",
       " {'node1': 1066, 'node2': 179495},\n",
       " {'node1': 1066, 'node2': 151156},\n",
       " {'node1': 1066, 'node2': 134372},\n",
       " {'node1': 1066, 'node2': 43460},\n",
       " {'node1': 1066, 'node2': 10742},\n",
       " {'node1': 1066, 'node2': 145651},\n",
       " {'node1': 1066, 'node2': 1541},\n",
       " {'node1': 1066, 'node2': 145652},\n",
       " {'node1': 1066, 'node2': 65544},\n",
       " {'node1': 1066, 'node2': 170508},\n",
       " {'node1': 1066, 'node2': 179849},\n",
       " {'node1': 1066, 'node2': 205145},\n",
       " {'node1': 1066, 'node2': 65542},\n",
       " {'node1': 1066, 'node2': 117501},\n",
       " {'node1': 1066, 'node2': 200943},\n",
       " {'node1': 1066, 'node2': 101505},\n",
       " {'node1': 1066, 'node2': 65541},\n",
       " {'node1': 1066, 'node2': 101506},\n",
       " {'node1': 1066, 'node2': 89551},\n",
       " {'node1': 1066, 'node2': 258508},\n",
       " {'node1': 1066, 'node2': 58063},\n",
       " {'node1': 1066, 'node2': 58064},\n",
       " {'node1': 1066, 'node2': 57986},\n",
       " {'node1': 1066, 'node2': 106903},\n",
       " {'node1': 1066, 'node2': 175453},\n",
       " {'node1': 1066, 'node2': 187840},\n",
       " {'node1': 1066, 'node2': 151154},\n",
       " {'node1': 1066, 'node2': 19781},\n",
       " {'node1': 1066, 'node2': 205101},\n",
       " {'node1': 1066, 'node2': 192225},\n",
       " {'node1': 1066, 'node2': 106904},\n",
       " {'node1': 1066, 'node2': 183860},\n",
       " {'node1': 1066, 'node2': 179294},\n",
       " {'node1': 1066, 'node2': 156736},\n",
       " {'node1': 1066, 'node2': 196339},\n",
       " {'node1': 1066, 'node2': 151138},\n",
       " {'node1': 1066, 'node2': 183861},\n",
       " {'node1': 1066, 'node2': 179296},\n",
       " {'node1': 1066, 'node2': 196338},\n",
       " {'node1': 1066, 'node2': 205582},\n",
       " {'node1': 1066, 'node2': 214159},\n",
       " {'node1': 1066, 'node2': 179295},\n",
       " {'node1': 1066, 'node2': 1717},\n",
       " {'node1': 1066, 'node2': 1481},\n",
       " {'node1': 1066, 'node2': 106655},\n",
       " {'node1': 1066, 'node2': 2010},\n",
       " {'node1': 1066, 'node2': 11867},\n",
       " {'node1': 1066, 'node2': 10096},\n",
       " {'node1': 1066, 'node2': 1331},\n",
       " {'node1': 1066, 'node2': 175451},\n",
       " {'node1': 1066, 'node2': 223327},\n",
       " {'node1': 1066, 'node2': 66228},\n",
       " {'node1': 1066, 'node2': 175452},\n",
       " {'node1': 1066, 'node2': 66229},\n",
       " {'node1': 1066, 'node2': 36206},\n",
       " {'node1': 1066, 'node2': 36205},\n",
       " {'node1': 1066, 'node2': 209732},\n",
       " {'node1': 1066, 'node2': 209733},\n",
       " {'node1': 1066, 'node2': 162000},\n",
       " {'node1': 1066, 'node2': 209735},\n",
       " {'node1': 1066, 'node2': 209734},\n",
       " {'node1': 1066, 'node2': 200917},\n",
       " {'node1': 1066, 'node2': 139950},\n",
       " {'node1': 1066, 'node2': 209736},\n",
       " {'node1': 1066, 'node2': 139949},\n",
       " {'node1': 1066, 'node2': 191731},\n",
       " {'node1': 1066, 'node2': 191733},\n",
       " {'node1': 1066, 'node2': 191732},\n",
       " {'node1': 1066, 'node2': 184564},\n",
       " {'node1': 1066, 'node2': 184563},\n",
       " {'node1': 1066, 'node2': 51565},\n",
       " {'node1': 1066, 'node2': 179497},\n",
       " {'node1': 1066, 'node2': 179496},\n",
       " {'node1': 1066, 'node2': 134371},\n",
       " {'node1': 1066, 'node2': 263857},\n",
       " {'node1': 1066, 'node2': 134370},\n",
       " {'node1': 1066, 'node2': 239480},\n",
       " {'node1': 1066, 'node2': 43458},\n",
       " {'node1': 1066, 'node2': 43459},\n",
       " {'node1': 1066, 'node2': 205174},\n",
       " {'node1': 1066, 'node2': 2191},\n",
       " {'node1': 1066, 'node2': 35936},\n",
       " {'node1': 1066, 'node2': 205176},\n",
       " {'node1': 1066, 'node2': 205173},\n",
       " {'node1': 1066, 'node2': 205177},\n",
       " {'node1': 1066, 'node2': 10365},\n",
       " {'node1': 1066, 'node2': 188520},\n",
       " {'node1': 1066, 'node2': 9944},\n",
       " {'node1': 1066, 'node2': 140068},\n",
       " {'node1': 1066, 'node2': 205175},\n",
       " {'node1': 1066, 'node2': 1539},\n",
       " {'node1': 1066, 'node2': 28595},\n",
       " {'node1': 1066, 'node2': 1540},\n",
       " {'node1': 1068, 'node2': 139908},\n",
       " {'node1': 1068, 'node2': 1068},\n",
       " {'node1': 1068, 'node2': 10549},\n",
       " {'node1': 1068, 'node2': 145266},\n",
       " {'node1': 1068, 'node2': 156108},\n",
       " {'node1': 1068, 'node2': 161511},\n",
       " {'node1': 1068, 'node2': 184146},\n",
       " {'node1': 1068, 'node2': 175579},\n",
       " {'node1': 1068, 'node2': 155764},\n",
       " {'node1': 1068, 'node2': 213537},\n",
       " {'node1': 1068, 'node2': 144907},\n",
       " {'node1': 1068, 'node2': 175578},\n",
       " {'node1': 1068, 'node2': 161050},\n",
       " {'node1': 1068, 'node2': 218468},\n",
       " {'node1': 1068, 'node2': 155931},\n",
       " {'node1': 1068, 'node2': 170368},\n",
       " {'node1': 1068, 'node2': 139907},\n",
       " {'node1': 1068, 'node2': 139906},\n",
       " {'node1': 1068, 'node2': 10550},\n",
       " {'node1': 1068, 'node2': 170417},\n",
       " {'node1': 1068, 'node2': 156106},\n",
       " {'node1': 1068, 'node2': 156107},\n",
       " {'node1': 1089, 'node2': 228235},\n",
       " {'node1': 1089, 'node2': 1089},\n",
       " {'node1': 1089, 'node2': 205412},\n",
       " {'node1': 1089, 'node2': 218092},\n",
       " {'node1': 1089, 'node2': 218091},\n",
       " {'node1': 1089, 'node2': 245251},\n",
       " {'node1': 1089, 'node2': 112542},\n",
       " {'node1': 1089, 'node2': 245250},\n",
       " {'node1': 1089, 'node2': 161411},\n",
       " {'node1': 1089, 'node2': 96271},\n",
       " {'node1': 1089, 'node2': 161813},\n",
       " {'node1': 1089, 'node2': 78758},\n",
       " {'node1': 1089, 'node2': 200473},\n",
       " {'node1': 1089, 'node2': 209329},\n",
       " {'node1': 1089, 'node2': 217688},\n",
       " {'node1': 1089, 'node2': 145190},\n",
       " {'node1': 1089, 'node2': 209598},\n",
       " {'node1': 1089, 'node2': 183838},\n",
       " {'node1': 1089, 'node2': 192079},\n",
       " {'node1': 1089, 'node2': 51951},\n",
       " {'node1': 1089, 'node2': 2935},\n",
       " {'node1': 1089, 'node2': 3124},\n",
       " {'node1': 1089, 'node2': 45273},\n",
       " {'node1': 1089, 'node2': 2936},\n",
       " {'node1': 1089, 'node2': 44388},\n",
       " {'node1': 1089, 'node2': 1515},\n",
       " {'node1': 1089, 'node2': 145880},\n",
       " {'node1': 1089, 'node2': 140187},\n",
       " {'node1': 1089, 'node2': 10098},\n",
       " {'node1': 1089, 'node2': 145878},\n",
       " {'node1': 1089, 'node2': 44515},\n",
       " {'node1': 1089, 'node2': 11180},\n",
       " {'node1': 1089, 'node2': 188313},\n",
       " {'node1': 1089, 'node2': 52192},\n",
       " {'node1': 1089, 'node2': 200670},\n",
       " {'node1': 1089, 'node2': 192133},\n",
       " {'node1': 1089, 'node2': 155844},\n",
       " {'node1': 1089, 'node2': 209537},\n",
       " {'node1': 1089, 'node2': 18914},\n",
       " {'node1': 1089, 'node2': 145347},\n",
       " {'node1': 1089, 'node2': 106904},\n",
       " {'node1': 1089, 'node2': 156251},\n",
       " {'node1': 1089, 'node2': 156252},\n",
       " {'node1': 1089, 'node2': 156248},\n",
       " {'node1': 1089, 'node2': 170585},\n",
       " {'node1': 1089, 'node2': 156736},\n",
       " {'node1': 1089, 'node2': 111836},\n",
       " {'node1': 1089, 'node2': 10097},\n",
       " {'node1': 1089, 'node2': 145879},\n",
       " {'node1': 1089, 'node2': 166691},\n",
       " {'node1': 1089, 'node2': 179294},\n",
       " {'node1': 1089, 'node2': 10426},\n",
       " {'node1': 1089, 'node2': 150359},\n",
       " {'node1': 1089, 'node2': 11867},\n",
       " {'node1': 1089, 'node2': 156250},\n",
       " {'node1': 1089, 'node2': 156249},\n",
       " {'node1': 1089, 'node2': 106903},\n",
       " {'node1': 1089, 'node2': 51683},\n",
       " {'node1': 1089, 'node2': 150389},\n",
       " {'node1': 1089, 'node2': 2117},\n",
       " {'node1': 1089, 'node2': 1457},\n",
       " {'node1': 1089, 'node2': 1717},\n",
       " {'node1': 1089, 'node2': 51724},\n",
       " {'node1': 1089, 'node2': 11035},\n",
       " {'node1': 1089, 'node2': 19024},\n",
       " {'node1': 1089, 'node2': 72692},\n",
       " {'node1': 1089, 'node2': 51723},\n",
       " {'node1': 1089, 'node2': 9977},\n",
       " {'node1': 1089, 'node2': 77886},\n",
       " {'node1': 1089, 'node2': 156800},\n",
       " {'node1': 1089, 'node2': 134092},\n",
       " {'node1': 1089, 'node2': 201269},\n",
       " {'node1': 1089, 'node2': 156329},\n",
       " {'node1': 1089, 'node2': 171043},\n",
       " {'node1': 1089, 'node2': 205614},\n",
       " {'node1': 1089, 'node2': 171042},\n",
       " {'node1': 1089, 'node2': 11148},\n",
       " {'node1': 1089, 'node2': 10902},\n",
       " {'node1': 1089, 'node2': 156327},\n",
       " {'node1': 1089, 'node2': 36274},\n",
       " {'node1': 1089, 'node2': 50939},\n",
       " {'node1': 1089, 'node2': 27442},\n",
       " {'node1': 1089, 'node2': 10424},\n",
       " {'node1': 1089, 'node2': 3255},\n",
       " {'node1': 1089, 'node2': 129231},\n",
       " {'node1': 1089, 'node2': 123934},\n",
       " {'node1': 1089, 'node2': 174479},\n",
       " {'node1': 1089, 'node2': 174689},\n",
       " {'node1': 1089, 'node2': 174480},\n",
       " {'node1': 1089, 'node2': 26983},\n",
       " {'node1': 1089, 'node2': 170382},\n",
       " {'node1': 1089, 'node2': 201144},\n",
       " {'node1': 1089, 'node2': 201145},\n",
       " {'node1': 1089, 'node2': 170641},\n",
       " {'node1': 1089, 'node2': 205914},\n",
       " {'node1': 1089, 'node2': 170639},\n",
       " {'node1': 1089, 'node2': 170640},\n",
       " {'node1': 1089, 'node2': 36278},\n",
       " {'node1': 1089, 'node2': 170706},\n",
       " {'node1': 1089, 'node2': 18538},\n",
       " {'node1': 1089, 'node2': 200481},\n",
       " {'node1': 1089, 'node2': 223103},\n",
       " {'node1': 1089, 'node2': 160914},\n",
       " {'node1': 1089, 'node2': 144866},\n",
       " {'node1': 1089, 'node2': 36145},\n",
       " {'node1': 1089, 'node2': 223102},\n",
       " {'node1': 1089, 'node2': 118563},\n",
       " {'node1': 1089, 'node2': 78541},\n",
       " {'node1': 1089, 'node2': 112339},\n",
       " {'node1': 1089, 'node2': 2839},\n",
       " {'node1': 1089, 'node2': 150613},\n",
       " {'node1': 1089, 'node2': 10903},\n",
       " {'node1': 1089, 'node2': 10905},\n",
       " {'node1': 1089, 'node2': 10906},\n",
       " {'node1': 1089, 'node2': 10904},\n",
       " {'node1': 1089, 'node2': 10907},\n",
       " {'node1': 1089, 'node2': 118213},\n",
       " {'node1': 1089, 'node2': 156149},\n",
       " {'node1': 1089, 'node2': 209817},\n",
       " {'node1': 1089, 'node2': 36997},\n",
       " {'node1': 1089, 'node2': 84903},\n",
       " {'node1': 1089, 'node2': 107422},\n",
       " {'node1': 1089, 'node2': 20712},\n",
       " {'node1': 1089, 'node2': 107689},\n",
       " {'node1': 1089, 'node2': 107424},\n",
       " {'node1': 1089, 'node2': 161578},\n",
       " {'node1': 1089, 'node2': 192267},\n",
       " {'node1': 1089, 'node2': 36922},\n",
       " {'node1': 1089, 'node2': 192266},\n",
       " {'node1': 1089, 'node2': 27846},\n",
       " {'node1': 1089, 'node2': 200319},\n",
       " {'node1': 1089, 'node2': 210278},\n",
       " {'node1': 1089, 'node2': 10161},\n",
       " {'node1': 1089, 'node2': 71741},\n",
       " {'node1': 1089, 'node2': 139689},\n",
       " {'node1': 1089, 'node2': 107722},\n",
       " {'node1': 1089, 'node2': 209755},\n",
       " {'node1': 1089, 'node2': 107423},\n",
       " {'node1': 1089, 'node2': 28701},\n",
       " {'node1': 1089, 'node2': 228274},\n",
       " {'node1': 1089, 'node2': 161577},\n",
       " {'node1': 1089, 'node2': 1442},\n",
       " {'node1': 1089, 'node2': 10122},\n",
       " {'node1': 1089, 'node2': 10123},\n",
       " {'node1': 1089, 'node2': 180163},\n",
       " {'node1': 1089, 'node2': 175700},\n",
       " {'node1': 1089, 'node2': 209417},\n",
       " {'node1': 1089, 'node2': 196127},\n",
       " {'node1': 1089, 'node2': 196126},\n",
       " {'node1': 1089, 'node2': 150238},\n",
       " {'node1': 1089, 'node2': 145775},\n",
       " {'node1': 1089, 'node2': 180162},\n",
       " {'node1': 1089, 'node2': 170112},\n",
       " {'node1': 1089, 'node2': 150237},\n",
       " {'node1': 1089, 'node2': 170113},\n",
       " {'node1': 1089, 'node2': 170540},\n",
       " {'node1': 1089, 'node2': 66228},\n",
       " {'node1': 1089, 'node2': 28625},\n",
       " {'node1': 1089, 'node2': 59512},\n",
       " {'node1': 1089, 'node2': 28628},\n",
       " {'node1': 1089, 'node2': 187565},\n",
       " {'node1': 1089, 'node2': 101278},\n",
       " {'node1': 1089, 'node2': 43999},\n",
       " {'node1': 1089, 'node2': 85031},\n",
       " {'node1': 1089, 'node2': 2861},\n",
       " {'node1': 1089, 'node2': 2359},\n",
       " {'node1': 1089, 'node2': 156622},\n",
       " {'node1': 1089, 'node2': 11800},\n",
       " {'node1': 1089, 'node2': 155859},\n",
       " {'node1': 1089, 'node2': 243044},\n",
       " {'node1': 1089, 'node2': 2934},\n",
       " {'node1': 1089, 'node2': 2139},\n",
       " {'node1': 1089, 'node2': 144978},\n",
       " {'node1': 1089, 'node2': 135302},\n",
       " {'node1': 1089, 'node2': 95988},\n",
       " {'node1': 1089, 'node2': 95987},\n",
       " {'node1': 1089, 'node2': 11799},\n",
       " {'node1': 1089, 'node2': 1290},\n",
       " {'node1': 1089, 'node2': 66388},\n",
       " {'node1': 1089, 'node2': 71467},\n",
       " {'node1': 1089, 'node2': 10824},\n",
       " {'node1': 1089, 'node2': 52573},\n",
       " {'node1': 1089, 'node2': 263247},\n",
       " {'node1': 1089, 'node2': 71466},\n",
       " {'node1': 1089, 'node2': 96307},\n",
       " {'node1': 1089, 'node2': 248331},\n",
       " {'node1': 1089, 'node2': 150211},\n",
       " {'node1': 1089, 'node2': 209455},\n",
       " {'node1': 1089, 'node2': 214373},\n",
       " {'node1': 1089, 'node2': 183928},\n",
       " {'node1': 1089, 'node2': 2613},\n",
       " {'node1': 1089, 'node2': 65035},\n",
       " {'node1': 1089, 'node2': 36599},\n",
       " {'node1': 1089, 'node2': 27122},\n",
       " {'node1': 1089, 'node2': 84039},\n",
       " {'node1': 1089, 'node2': 27120},\n",
       " {'node1': 1089, 'node2': 36597},\n",
       " {'node1': 1089, 'node2': 144943},\n",
       " {'node1': 1089, 'node2': 156623},\n",
       " {'node1': 1089, 'node2': 156232},\n",
       " {'node1': 1089, 'node2': 36596},\n",
       " {'node1': 1089, 'node2': 36600},\n",
       " {'node1': 1089, 'node2': 183493},\n",
       " {'node1': 1089, 'node2': 72063},\n",
       " {'node1': 1089, 'node2': 179019},\n",
       " {'node1': 1089, 'node2': 156892},\n",
       " {'node1': 1089, 'node2': 123492},\n",
       " {'node1': 1089, 'node2': 166063},\n",
       " {'node1': 1089, 'node2': 52093},\n",
       " {'node1': 1089, 'node2': 107463},\n",
       " {'node1': 1089, 'node2': 27903},\n",
       " {'node1': 1089, 'node2': 27121},\n",
       " {'node1': 1089, 'node2': 27362},\n",
       " {'node1': 1089, 'node2': 171224},\n",
       " {'node1': 1089, 'node2': 43653},\n",
       " {'node1': 1089, 'node2': 36598},\n",
       " {'node1': 1089, 'node2': 129156},\n",
       " {'node1': 1089, 'node2': 27119},\n",
       " {'node1': 1089, 'node2': 214423},\n",
       " {'node1': 1089, 'node2': 27118},\n",
       " {'node1': 1089, 'node2': 26982},\n",
       " {'node1': 1089, 'node2': 26979},\n",
       " {'node1': 1089, 'node2': 20676},\n",
       " {'node1': 1089, 'node2': 26980},\n",
       " {'node1': 1089, 'node2': 72346},\n",
       " {'node1': 1089, 'node2': 18920},\n",
       " {'node1': 1089, 'node2': 12057},\n",
       " {'node1': 1089, 'node2': 72344},\n",
       " {'node1': 1089, 'node2': 51289},\n",
       " {'node1': 1089, 'node2': 232737},\n",
       " {'node1': 1089, 'node2': 139749},\n",
       " {'node1': 1089, 'node2': 72345},\n",
       " {'node1': 1089, 'node2': 20515},\n",
       " {'node1': 1089, 'node2': 20574},\n",
       " {'node1': 1089, 'node2': 51896},\n",
       " {'node1': 1089, 'node2': 72347},\n",
       " {'node1': 1089, 'node2': 35563},\n",
       " {'node1': 1089, 'node2': 3483},\n",
       " {'node1': 1089, 'node2': 139750},\n",
       " {'node1': 1089, 'node2': 232736},\n",
       " {'node1': 1089, 'node2': 145224},\n",
       " {'node1': 1089, 'node2': 36873},\n",
       " {'node1': 1089, 'node2': 160950},\n",
       " {'node1': 1089, 'node2': 171070},\n",
       " {'node1': 1089, 'node2': 171069},\n",
       " {'node1': 1089, 'node2': 140382},\n",
       " {'node1': 1089, 'node2': 50796},\n",
       " {'node1': 1089, 'node2': 222106},\n",
       " {'node1': 1089, 'node2': 222109},\n",
       " {'node1': 1089, 'node2': 50797},\n",
       " {'node1': 1089, 'node2': 222108},\n",
       " {'node1': 1089, 'node2': 263129},\n",
       " {'node1': 1089, 'node2': 222107},\n",
       " {'node1': 1089, 'node2': 183860},\n",
       " {'node1': 1089, 'node2': 196339},\n",
       " {'node1': 1089, 'node2': 151138},\n",
       " {'node1': 1089, 'node2': 183861},\n",
       " {'node1': 1089, 'node2': 179296},\n",
       " {'node1': 1089, 'node2': 196338},\n",
       " {'node1': 1089, 'node2': 175453},\n",
       " {'node1': 1089, 'node2': 205582},\n",
       " {'node1': 1089, 'node2': 214159},\n",
       " {'node1': 1089, 'node2': 187840},\n",
       " {'node1': 1089, 'node2': 179295},\n",
       " {'node1': 1089, 'node2': 205101},\n",
       " {'node1': 1089, 'node2': 57986},\n",
       " {'node1': 1089, 'node2': 106655},\n",
       " {'node1': 1089, 'node2': 2010},\n",
       " {'node1': 1089, 'node2': 58062},\n",
       " {'node1': 1089, 'node2': 1331},\n",
       " {'node1': 1089, 'node2': 179025},\n",
       " {'node1': 1089, 'node2': 20721},\n",
       " {'node1': 1089, 'node2': 174714},\n",
       " {'node1': 1089, 'node2': 150988},\n",
       " {'node1': 1089, 'node2': 155790},\n",
       " {'node1': 1089, 'node2': 18909},\n",
       " {'node1': 1089, 'node2': 27001},\n",
       " {'node1': 1089, 'node2': 150986},\n",
       " {'node1': 1089, 'node2': 187865},\n",
       " {'node1': 1089, 'node2': 84224},\n",
       " {'node1': 1089, 'node2': 26999},\n",
       " {'node1': 1089, 'node2': 150723},\n",
       " {'node1': 1089, 'node2': 72458},\n",
       " {'node1': 1089, 'node2': 155971},\n",
       " {'node1': 1089, 'node2': 144807},\n",
       " {'node1': 1089, 'node2': 156710},\n",
       " {'node1': 1089, 'node2': 196767},\n",
       " {'node1': 1089, 'node2': 28833},\n",
       " {'node1': 1089, 'node2': 166701},\n",
       " {'node1': 1089, 'node2': 150987},\n",
       " {'node1': 1089, 'node2': 196769},\n",
       " {'node1': 1089, 'node2': 191779},\n",
       " {'node1': 1089, 'node2': 117422},\n",
       " {'node1': 1089, 'node2': 27002},\n",
       " {'node1': 1089, 'node2': 156709},\n",
       " {'node1': 1089, 'node2': 117693},\n",
       " {'node1': 1089, 'node2': 174713},\n",
       " {'node1': 1089, 'node2': 179024},\n",
       " {'node1': 1089, 'node2': 196768},\n",
       " {'node1': 1089, 'node2': 214393},\n",
       " {'node1': 1089, 'node2': 106656},\n",
       " {'node1': 1089, 'node2': 1718},\n",
       " {'node1': 1089, 'node2': 214392},\n",
       " {'node1': 1089, 'node2': 52548},\n",
       " {'node1': 1089, 'node2': 20720},\n",
       " {'node1': 1089, 'node2': 52116},\n",
       " {'node1': 1089, 'node2': 117694},\n",
       " {'node1': 1089, 'node2': 20292},\n",
       " {'node1': 1089, 'node2': 191778},\n",
       " {'node1': 1089, 'node2': 35348},\n",
       " {'node1': 1089, 'node2': 52115},\n",
       " {'node1': 1089, 'node2': 175153},\n",
       " {'node1': 1089, 'node2': 166671},\n",
       " {'node1': 1089, 'node2': 175151},\n",
       " {'node1': 1089, 'node2': 175154},\n",
       " {'node1': 1089, 'node2': 175152},\n",
       " {'node1': 1089, 'node2': 155922},\n",
       " {'node1': 1089, 'node2': 175593},\n",
       " {'node1': 1089, 'node2': 175592},\n",
       " {'node1': 1089, 'node2': 155923},\n",
       " {'node1': 1089, 'node2': 175594},\n",
       " {'node1': 1089, 'node2': 201017},\n",
       " {'node1': 1089, 'node2': 1480},\n",
       " {'node1': 1089, 'node2': 195623},\n",
       " {'node1': 1089, 'node2': 209962},\n",
       " {'node1': 1089, 'node2': 214051},\n",
       " {'node1': 1089, 'node2': 1734},\n",
       " {'node1': 1089, 'node2': 218191},\n",
       " {'node1': 1089, 'node2': 150421},\n",
       " {'node1': 1089, 'node2': 10382},\n",
       " {'node1': 1089, 'node2': 1733},\n",
       " {'node1': 1089, 'node2': 140106},\n",
       " {'node1': 1089, 'node2': 1736},\n",
       " {'node1': 1089, 'node2': 170152},\n",
       " {'node1': 1089, 'node2': 1737},\n",
       " {'node1': 1089, 'node2': 144887},\n",
       " {'node1': 1089, 'node2': 45154},\n",
       " {'node1': 1089, 'node2': 1735},\n",
       " {'node1': 1089, 'node2': 90447},\n",
       " {'node1': 1089, 'node2': 90448},\n",
       " {'node1': 1089, 'node2': 59510},\n",
       " {'node1': 1089, 'node2': 155883},\n",
       " {'node1': 1089, 'node2': 155884},\n",
       " {'node1': 1089, 'node2': 155885},\n",
       " {'node1': 1089, 'node2': 140133},\n",
       " {'node1': 1089, 'node2': 96296},\n",
       " {'node1': 1089, 'node2': 151005},\n",
       " {'node1': 1089, 'node2': 145389},\n",
       " {'node1': 1089, 'node2': 10971},\n",
       " {'node1': 1089, 'node2': 1479},\n",
       " {'node1': 1089, 'node2': 209418},\n",
       " {'node1': 1089, 'node2': 209419},\n",
       " {'node1': 1089, 'node2': 145054},\n",
       " {'node1': 1089, 'node2': 145053},\n",
       " {'node1': 1089, 'node2': 174511},\n",
       " {'node1': 1089, 'node2': 209421},\n",
       " {'node1': 1089, 'node2': 171085},\n",
       " {'node1': 1089, 'node2': 209420},\n",
       " {'node1': 1089, 'node2': 1908},\n",
       " {'node1': 1089, 'node2': 1557},\n",
       " {'node1': 1089, 'node2': 155867},\n",
       " {'node1': 1089, 'node2': 10599},\n",
       " {'node1': 1089, 'node2': 155888},\n",
       " {'node1': 1089, 'node2': 155889},\n",
       " {'node1': 1089, 'node2': 155890},\n",
       " {'node1': 1089, 'node2': 170569},\n",
       " {'node1': 1089, 'node2': 200504},\n",
       " {'node1': 1089, 'node2': 43641},\n",
       " {'node1': 1089, 'node2': 200464},\n",
       " {'node1': 1089, 'node2': 200465},\n",
       " {'node1': 1089, 'node2': 200463},\n",
       " {'node1': 1089, 'node2': 35471},\n",
       " {'node1': 1089, 'node2': 145755},\n",
       " {'node1': 1089, 'node2': 145754},\n",
       " {'node1': 1089, 'node2': 187746},\n",
       " {'node1': 1089, 'node2': 201205},\n",
       " {'node1': 1089, 'node2': 145756},\n",
       " {'node1': 1089, 'node2': 107557},\n",
       " {'node1': 1089, 'node2': 170938},\n",
       " {'node1': 1089, 'node2': 179169},\n",
       " {'node1': 1089, 'node2': 188120},\n",
       " {'node1': 1089, 'node2': 161816},\n",
       " {'node1': 1089, 'node2': 187745},\n",
       " {'node1': 1089, 'node2': 160885},\n",
       " {'node1': 1089, 'node2': 188119},\n",
       " {'node1': 1089, 'node2': 11376},\n",
       " {'node1': 1089, 'node2': 11181},\n",
       " {'node1': 1089, 'node2': 96344},\n",
       " {'node1': 1089, 'node2': 65665},\n",
       " {'node1': 1089, 'node2': 209870},\n",
       " {'node1': 1089, 'node2': 2757},\n",
       " {'node1': 1089, 'node2': 11178},\n",
       " {'node1': 1089, 'node2': 11177},\n",
       " {'node1': 1089, 'node2': 11179},\n",
       " {'node1': 1089, 'node2': 188312},\n",
       " {'node1': 1089, 'node2': 52193},\n",
       " {'node1': 1089, 'node2': 52191},\n",
       " {'node1': 1089, 'node2': 36710},\n",
       " {'node1': 1089, 'node2': 91030},\n",
       " {'node1': 1089, 'node2': 111947},\n",
       " {'node1': 1089, 'node2': 210219},\n",
       " {'node1': 1089, 'node2': 18915},\n",
       " {'node1': 1089, 'node2': 191212},\n",
       " {'node1': 1089, 'node2': 96525},\n",
       " {'node1': 1089, 'node2': 151222},\n",
       " {'node1': 1089, 'node2': 151223},\n",
       " {'node1': 1089, 'node2': 214374},\n",
       " {'node1': 1089, 'node2': 205615},\n",
       " {'node1': 1089, 'node2': 192288},\n",
       " {'node1': 1089, 'node2': 36742},\n",
       " {'node1': 1089, 'node2': 139889},\n",
       " {'node1': 1089, 'node2': 196772},\n",
       " {'node1': 1089, 'node2': 191211},\n",
       " {'node1': 1089, 'node2': 117161},\n",
       " {'node1': 1089, 'node2': 139890},\n",
       " {'node1': 1089, 'node2': 12058},\n",
       " {'node1': 1089, 'node2': 205901},\n",
       " {'node1': 1089, 'node2': 183996},\n",
       " {'node1': 1089, 'node2': 205900},\n",
       " {'node1': 1089, 'node2': 145129},\n",
       " {'node1': 1089, 'node2': 10643},\n",
       " {'node1': 1089, 'node2': 183884},\n",
       " {'node1': 1089, 'node2': 184542},\n",
       " {'node1': 1089, 'node2': 183885},\n",
       " {'node1': 1089, 'node2': 184541},\n",
       " {'node1': 1089, 'node2': 184543},\n",
       " {'node1': 1089, 'node2': 144912},\n",
       " {'node1': 1089, 'node2': 195803},\n",
       " {'node1': 1089, 'node2': 111837},\n",
       " {'node1': 1089, 'node2': 111838},\n",
       " {'node1': 1089, 'node2': 111839},\n",
       " {'node1': 1089, 'node2': 59632},\n",
       " {'node1': 1089, 'node2': 144911},\n",
       " {'node1': 1089, 'node2': 84615},\n",
       " {'node1': 1089, 'node2': 65875},\n",
       " {'node1': 1089, 'node2': 59631},\n",
       " {'node1': 1089, 'node2': 83762},\n",
       " {'node1': 1089, 'node2': 144913},\n",
       " {'node1': 1089, 'node2': 218045},\n",
       " {'node1': 1089, 'node2': 10425},\n",
       " {'node1': 1089, 'node2': 10427},\n",
       " ...]"
      ]
     },
     "execution_count": 29,
     "metadata": {},
     "output_type": "execute_result"
    }
   ],
   "source": [
    "pairs = [{\"node1\": node1, \"node2\": node2}  for node1,node2 in training_df[[\"node1\", \"node2\"]].values.tolist()]\n",
    "pairs"
   ]
  },
  {
   "cell_type": "markdown",
   "metadata": {},
   "source": [
    "## Sample Query  as Below\n",
    "<pre>MATCH (p1) WHERE id(p1) = 1045\n",
    "MATCH (p2) WHERE id(p2) = 51292\n",
    "return p1,p2,\n",
    "gds.alpha.linkprediction.commonNeighbors(\n",
    "p1, p2, {relationshipQuery: \"CO_AUTHOR_EARLY\"}) AS cn,\n",
    "gds.alpha.linkprediction.preferentialAttachment(\n",
    "p1, p2, {relationshipQuery: \"CO_AUTHOR_EARLY\"}) AS pa,\n",
    "gds.alpha.linkprediction.totalNeighbors(\n",
    "p1, p2, {relationshipQuery: \"CO_AUTHOR_EARLY\"}) AS tn</pre>"
   ]
  },
  {
   "cell_type": "code",
   "execution_count": 32,
   "metadata": {
    "id": "eoN1qvpZTWex",
    "pycharm": {}
   },
   "outputs": [],
   "source": [
    "def apply_graphy_features(data, rel_type):\n",
    "    query = \"\"\"\n",
    "    UNWIND $pairs AS pair\n",
    "    MATCH (p1) WHERE id(p1) = pair.node1\n",
    "    MATCH (p2) WHERE id(p2) = pair.node2\n",
    "    RETURN pair.node1 AS node1,\n",
    "           pair.node2 AS node2,\n",
    "           gds.alpha.linkprediction.commonNeighbors(\n",
    "               p1, p2, {relationshipQuery: $relType}) AS cn,\n",
    "           gds.alpha.linkprediction.preferentialAttachment(\n",
    "               p1, p2, {relationshipQuery: $relType}) AS pa,\n",
    "           gds.alpha.linkprediction.totalNeighbors(\n",
    "               p1, p2, {relationshipQuery: $relType}) AS tn\n",
    "    \"\"\"\n",
    "    pairs = [{\"node1\": node1, \"node2\": node2}  for node1,node2 in data[[\"node1\", \"node2\"]].values.tolist()]\n",
    "    features = graph.run(query, {\"pairs\": pairs, \"relType\": rel_type}).to_data_frame()\n",
    "    return pd.merge(data, features, on = [\"node1\", \"node2\"])"
   ]
  },
  {
   "cell_type": "markdown",
   "metadata": {
    "id": "ZEhS-WGBTWez",
    "pycharm": {}
   },
   "source": [
    "Now apply the function to the training DataFrame:"
   ]
  },
  {
   "cell_type": "code",
   "execution_count": 33,
   "metadata": {
    "id": "JcsRFl2ATWe0",
    "pycharm": {}
   },
   "outputs": [],
   "source": [
    "training_df = apply_graphy_features(training_df, \"CO_AUTHOR_EARLY\")"
   ]
  },
  {
   "cell_type": "markdown",
   "metadata": {
    "id": "7QQ3KkwNTWe4",
    "pycharm": {}
   },
   "source": [
    "This is what the DataFrame looks like now:"
   ]
  },
  {
   "cell_type": "code",
   "execution_count": 34,
   "metadata": {
    "id": "VPT3x9doTWe4",
    "pycharm": {}
   },
   "outputs": [
    {
     "data": {
      "text/html": [
       "<div>\n",
       "<style scoped>\n",
       "    .dataframe tbody tr th:only-of-type {\n",
       "        vertical-align: middle;\n",
       "    }\n",
       "\n",
       "    .dataframe tbody tr th {\n",
       "        vertical-align: top;\n",
       "    }\n",
       "\n",
       "    .dataframe thead th {\n",
       "        text-align: right;\n",
       "    }\n",
       "</style>\n",
       "<table border=\"1\" class=\"dataframe\">\n",
       "  <thead>\n",
       "    <tr style=\"text-align: right;\">\n",
       "      <th></th>\n",
       "      <th>node1</th>\n",
       "      <th>node2</th>\n",
       "      <th>label</th>\n",
       "      <th>cn</th>\n",
       "      <th>pa</th>\n",
       "      <th>tn</th>\n",
       "    </tr>\n",
       "  </thead>\n",
       "  <tbody>\n",
       "    <tr>\n",
       "      <th>0</th>\n",
       "      <td>1044</td>\n",
       "      <td>1044</td>\n",
       "      <td>0</td>\n",
       "      <td>0.000</td>\n",
       "      <td>36.000</td>\n",
       "      <td>6.000</td>\n",
       "    </tr>\n",
       "    <tr>\n",
       "      <th>1</th>\n",
       "      <td>1045</td>\n",
       "      <td>51292</td>\n",
       "      <td>0</td>\n",
       "      <td>1.000</td>\n",
       "      <td>18.000</td>\n",
       "      <td>10.000</td>\n",
       "    </tr>\n",
       "    <tr>\n",
       "      <th>2</th>\n",
       "      <td>1045</td>\n",
       "      <td>51290</td>\n",
       "      <td>0</td>\n",
       "      <td>1.000</td>\n",
       "      <td>18.000</td>\n",
       "      <td>10.000</td>\n",
       "    </tr>\n",
       "    <tr>\n",
       "      <th>3</th>\n",
       "      <td>1045</td>\n",
       "      <td>1045</td>\n",
       "      <td>0</td>\n",
       "      <td>0.000</td>\n",
       "      <td>81.000</td>\n",
       "      <td>9.000</td>\n",
       "    </tr>\n",
       "    <tr>\n",
       "      <th>4</th>\n",
       "      <td>1045</td>\n",
       "      <td>89939</td>\n",
       "      <td>0</td>\n",
       "      <td>1.000</td>\n",
       "      <td>18.000</td>\n",
       "      <td>10.000</td>\n",
       "    </tr>\n",
       "  </tbody>\n",
       "</table>\n",
       "</div>"
      ],
      "text/plain": [
       "   node1  node2 label    cn     pa     tn\n",
       "0   1044   1044     0 0.000 36.000  6.000\n",
       "1   1045  51292     0 1.000 18.000 10.000\n",
       "2   1045  51290     0 1.000 18.000 10.000\n",
       "3   1045   1045     0 0.000 81.000  9.000\n",
       "4   1045  89939     0 1.000 18.000 10.000"
      ]
     },
     "execution_count": 34,
     "metadata": {},
     "output_type": "execute_result"
    }
   ],
   "source": [
    "training_df.head()"
   ]
  },
  {
   "cell_type": "markdown",
   "metadata": {
    "id": "3WlaxB_XTWe6",
    "pycharm": {}
   },
   "source": [
    "Do the same to the test DataFrame:"
   ]
  },
  {
   "cell_type": "code",
   "execution_count": 38,
   "metadata": {
    "id": "9m3tuujzTWe6",
    "pycharm": {}
   },
   "outputs": [],
   "source": [
    "test_df = apply_graphy_features(test_df, \"CO_AUTHOR\")"
   ]
  },
  {
   "cell_type": "code",
   "execution_count": 39,
   "metadata": {
    "id": "eMydkpqETWe8",
    "pycharm": {}
   },
   "outputs": [
    {
     "data": {
      "text/html": [
       "<div>\n",
       "<style scoped>\n",
       "    .dataframe tbody tr th:only-of-type {\n",
       "        vertical-align: middle;\n",
       "    }\n",
       "\n",
       "    .dataframe tbody tr th {\n",
       "        vertical-align: top;\n",
       "    }\n",
       "\n",
       "    .dataframe thead th {\n",
       "        text-align: right;\n",
       "    }\n",
       "</style>\n",
       "<table border=\"1\" class=\"dataframe\">\n",
       "  <thead>\n",
       "    <tr style=\"text-align: right;\">\n",
       "      <th></th>\n",
       "      <th>node1</th>\n",
       "      <th>node2</th>\n",
       "      <th>label</th>\n",
       "      <th>cn</th>\n",
       "      <th>pa</th>\n",
       "      <th>tn</th>\n",
       "    </tr>\n",
       "  </thead>\n",
       "  <tbody>\n",
       "    <tr>\n",
       "      <th>0</th>\n",
       "      <td>1043</td>\n",
       "      <td>1043</td>\n",
       "      <td>0</td>\n",
       "      <td>0.000</td>\n",
       "      <td>16.000</td>\n",
       "      <td>4.000</td>\n",
       "    </tr>\n",
       "    <tr>\n",
       "      <th>1</th>\n",
       "      <td>1043</td>\n",
       "      <td>58823</td>\n",
       "      <td>0</td>\n",
       "      <td>1.000</td>\n",
       "      <td>8.000</td>\n",
       "      <td>5.000</td>\n",
       "    </tr>\n",
       "    <tr>\n",
       "      <th>2</th>\n",
       "      <td>1043</td>\n",
       "      <td>58824</td>\n",
       "      <td>0</td>\n",
       "      <td>1.000</td>\n",
       "      <td>8.000</td>\n",
       "      <td>5.000</td>\n",
       "    </tr>\n",
       "    <tr>\n",
       "      <th>3</th>\n",
       "      <td>1043</td>\n",
       "      <td>59020</td>\n",
       "      <td>0</td>\n",
       "      <td>1.000</td>\n",
       "      <td>4.000</td>\n",
       "      <td>4.000</td>\n",
       "    </tr>\n",
       "    <tr>\n",
       "      <th>4</th>\n",
       "      <td>1044</td>\n",
       "      <td>1044</td>\n",
       "      <td>0</td>\n",
       "      <td>0.000</td>\n",
       "      <td>121.000</td>\n",
       "      <td>11.000</td>\n",
       "    </tr>\n",
       "  </tbody>\n",
       "</table>\n",
       "</div>"
      ],
      "text/plain": [
       "   node1  node2 label    cn      pa     tn\n",
       "0   1043   1043     0 0.000  16.000  4.000\n",
       "1   1043  58823     0 1.000   8.000  5.000\n",
       "2   1043  58824     0 1.000   8.000  5.000\n",
       "3   1043  59020     0 1.000   4.000  4.000\n",
       "4   1044   1044     0 0.000 121.000 11.000"
      ]
     },
     "execution_count": 39,
     "metadata": {},
     "output_type": "execute_result"
    }
   ],
   "source": [
    "test_df.head()"
   ]
  },
  {
   "cell_type": "markdown",
   "metadata": {
    "id": "wTxMcXG8TWe_",
    "pycharm": {}
   },
   "source": [
    "Next, you will build a model based on these graphy features. You will start by just using one of the features - common neighbors. \n",
    "\n",
    "The following code builds a random forest model, evaluates it against the test dataset, and then indicates which of the features had the most importance in the model."
   ]
  },
  {
   "cell_type": "code",
   "execution_count": 40,
   "metadata": {
    "id": "UeUPxo_HTWe_",
    "pycharm": {}
   },
   "outputs": [
    {
     "data": {
      "text/plain": [
       "RandomForestClassifier(max_depth=10, n_estimators=30, random_state=0)"
      ]
     },
     "execution_count": 40,
     "metadata": {},
     "output_type": "execute_result"
    }
   ],
   "source": [
    "columns = [\"cn\"]\n",
    "\n",
    "X = training_df[columns]\n",
    "y = training_df[\"label\"]\n",
    "classifier.fit(X, y)"
   ]
  },
  {
   "cell_type": "markdown",
   "metadata": {
    "id": "zy5_KcIpTWfC",
    "pycharm": {}
   },
   "source": [
    "Next, you need to evaluate the model. You will compute its accuracy, precision, and recall. Then, you will return the importance of each feature used in the model. The following functions will help with this:"
   ]
  },
  {
   "cell_type": "code",
   "execution_count": 41,
   "metadata": {
    "id": "VS2Yfr0BTWfD",
    "pycharm": {}
   },
   "outputs": [],
   "source": [
    "def evaluate_model(predictions, actual):\n",
    "    return pd.DataFrame({\n",
    "        \"Measure\": [\"Accuracy\", \"Precision\", \"Recall\"],\n",
    "        \"Score\": [accuracy_score(actual, predictions), \n",
    "                  precision_score(actual, predictions), \n",
    "                  recall_score(actual, predictions)]\n",
    "    })\n",
    "\n",
    "def feature_importance(columns, classifier):        \n",
    "    display(\"Feature Importance\")\n",
    "    df = pd.DataFrame({\n",
    "        \"Feature\": columns,\n",
    "        \"Importance\": classifier.feature_importances_\n",
    "    })\n",
    "    df = df.sort_values(\"Importance\", ascending=False)    \n",
    "    ax = df.plot(kind='bar', x='Feature', y='Importance', legend=None)\n",
    "    ax.xaxis.set_label_text(\"\")\n",
    "    plt.tight_layout()\n",
    "    plt.show()"
   ]
  },
  {
   "cell_type": "code",
   "execution_count": 42,
   "metadata": {
    "id": "b8MujbzVTWfF",
    "pycharm": {}
   },
   "outputs": [
    {
     "data": {
      "text/html": [
       "<div>\n",
       "<style scoped>\n",
       "    .dataframe tbody tr th:only-of-type {\n",
       "        vertical-align: middle;\n",
       "    }\n",
       "\n",
       "    .dataframe tbody tr th {\n",
       "        vertical-align: top;\n",
       "    }\n",
       "\n",
       "    .dataframe thead th {\n",
       "        text-align: right;\n",
       "    }\n",
       "</style>\n",
       "<table border=\"1\" class=\"dataframe\">\n",
       "  <thead>\n",
       "    <tr style=\"text-align: right;\">\n",
       "      <th></th>\n",
       "      <th>Measure</th>\n",
       "      <th>Score</th>\n",
       "    </tr>\n",
       "  </thead>\n",
       "  <tbody>\n",
       "    <tr>\n",
       "      <th>0</th>\n",
       "      <td>Accuracy</td>\n",
       "      <td>0.896</td>\n",
       "    </tr>\n",
       "    <tr>\n",
       "      <th>1</th>\n",
       "      <td>Precision</td>\n",
       "      <td>0.927</td>\n",
       "    </tr>\n",
       "    <tr>\n",
       "      <th>2</th>\n",
       "      <td>Recall</td>\n",
       "      <td>0.944</td>\n",
       "    </tr>\n",
       "  </tbody>\n",
       "</table>\n",
       "</div>"
      ],
      "text/plain": [
       "     Measure  Score\n",
       "0   Accuracy  0.896\n",
       "1  Precision  0.927\n",
       "2     Recall  0.944"
      ]
     },
     "metadata": {},
     "output_type": "display_data"
    },
    {
     "data": {
      "text/plain": [
       "'Feature Importance'"
      ]
     },
     "metadata": {},
     "output_type": "display_data"
    },
    {
     "data": {
      "image/png": "[encoded data removed]",
      "text/plain": [
       "<Figure size 432x288 with 1 Axes>"
      ]
     },
     "metadata": {},
     "output_type": "display_data"
    }
   ],
   "source": [
    "predictions = classifier.predict(test_df[columns])\n",
    "y_test = test_df[\"label\"]\n",
    "\n",
    "display(evaluate_model(predictions, y_test))\n",
    "feature_importance(columns, classifier)"
   ]
  },
  {
   "cell_type": "markdown",
   "metadata": {
    "id": "-EzbGA8PTWfH",
    "pycharm": {}
   },
   "source": [
    "The scores for accuracy and precision are adequate, but the recall is not very good. What happens if you include preferential attachment and total neighbors as well?"
   ]
  },
  {
   "cell_type": "code",
   "execution_count": 43,
   "metadata": {
    "id": "2q1UYLS0TWfH",
    "pycharm": {}
   },
   "outputs": [
    {
     "data": {
      "text/html": [
       "<div>\n",
       "<style scoped>\n",
       "    .dataframe tbody tr th:only-of-type {\n",
       "        vertical-align: middle;\n",
       "    }\n",
       "\n",
       "    .dataframe tbody tr th {\n",
       "        vertical-align: top;\n",
       "    }\n",
       "\n",
       "    .dataframe thead th {\n",
       "        text-align: right;\n",
       "    }\n",
       "</style>\n",
       "<table border=\"1\" class=\"dataframe\">\n",
       "  <thead>\n",
       "    <tr style=\"text-align: right;\">\n",
       "      <th></th>\n",
       "      <th>Measure</th>\n",
       "      <th>Score</th>\n",
       "    </tr>\n",
       "  </thead>\n",
       "  <tbody>\n",
       "    <tr>\n",
       "      <th>0</th>\n",
       "      <td>Accuracy</td>\n",
       "      <td>0.939</td>\n",
       "    </tr>\n",
       "    <tr>\n",
       "      <th>1</th>\n",
       "      <td>Precision</td>\n",
       "      <td>0.970</td>\n",
       "    </tr>\n",
       "    <tr>\n",
       "      <th>2</th>\n",
       "      <td>Recall</td>\n",
       "      <td>0.954</td>\n",
       "    </tr>\n",
       "  </tbody>\n",
       "</table>\n",
       "</div>"
      ],
      "text/plain": [
       "     Measure  Score\n",
       "0   Accuracy  0.939\n",
       "1  Precision  0.970\n",
       "2     Recall  0.954"
      ]
     },
     "metadata": {},
     "output_type": "display_data"
    },
    {
     "data": {
      "text/plain": [
       "'Feature Importance'"
      ]
     },
     "metadata": {},
     "output_type": "display_data"
    },
    {
     "data": {
      "image/png": "[encoded data removed]",
      "text/plain": [
       "<Figure size 432x288 with 1 Axes>"
      ]
     },
     "metadata": {},
     "output_type": "display_data"
    }
   ],
   "source": [
    "columns = [\"cn\", \"pa\", \"tn\"]\n",
    "\n",
    "X = training_df[columns]\n",
    "y = training_df[\"label\"]\n",
    "classifier.fit(X, y)\n",
    "\n",
    "predictions = classifier.predict(test_df[columns])\n",
    "y_test = test_df[\"label\"]\n",
    "\n",
    "display(evaluate_model(predictions, y_test))\n",
    "feature_importance(columns, classifier)"
   ]
  },
  {
   "cell_type": "markdown",
   "metadata": {
    "id": "JaCLk5flTWfJ",
    "pycharm": {}
   },
   "source": [
    "Common Neighbors is the dominant feature, but including the two other features has improved the accuracy and recall of the model.\n",
    "\n",
    "Next, you will add some new features that are generated from graph algorithms.\n",
    "\n",
    "# Triangles and The Clustering Coefficient\n",
    "\n",
    "Start by running the [triangle count](https://neo4j.com/docs/graph-algorithms/current/algorithms/triangle-counting-clustering-coefficient/) algorithm over the test and train sub-graphs. This algorithm will return the number of triangles that each node forms, as well as each node's clustering coefficient. The clustering coefficient of a node indicates the likelihood that its neighbors are also connected."
   ]
  },
  {
   "cell_type": "code",
   "execution_count": 47,
   "metadata": {
    "id": "UJ_AF_y7TWfJ",
    "pycharm": {}
   },
   "outputs": [
    {
     "ename": "ClientError",
     "evalue": "[Procedure.ProcedureNotFound] There is no procedure with the name `gds.triangleCount` registered for this database instance. Please ensure you've spelled the procedure name correctly and that the procedure is properly deployed.",
     "output_type": "error",
     "traceback": [
      "\u001b[0;31m---------------------------------------------------------------------------\u001b[0m",
      "\u001b[0;31mClientError\u001b[0m                               Traceback (most recent call last)",
      "\u001b[0;32m<ipython-input-47-5f1c76bec8cd>\u001b[0m in \u001b[0;36m<module>\u001b[0;34m\u001b[0m\n\u001b[0;32m----> 1\u001b[0;31m graph.run(\"\"\"\n\u001b[0m\u001b[1;32m      2\u001b[0m CALL gds.triangleCount('Author', 'CO_AUTHOR_EARLY', { write:true,\n\u001b[1;32m      3\u001b[0m writeProperty:'trianglesTrain', clusteringCoefficientProperty:'coefficientTrain'});\n\u001b[1;32m      4\u001b[0m \"\"\").to_data_frame()\n",
      "\u001b[0;32m~/git/kent-ai-learning-notebook/venv/lib/python3.8/site-packages/py2neo/database/__init__.py\u001b[0m in \u001b[0;36mrun\u001b[0;34m(self, cypher, parameters, **kwparameters)\u001b[0m\n\u001b[1;32m    703\u001b[0m         \u001b[0;34m:\u001b[0m\u001b[0;32mreturn\u001b[0m\u001b[0;34m:\u001b[0m\u001b[0;34m\u001b[0m\u001b[0;34m\u001b[0m\u001b[0m\n\u001b[1;32m    704\u001b[0m         \"\"\"\n\u001b[0;32m--> 705\u001b[0;31m         \u001b[0;32mreturn\u001b[0m \u001b[0mself\u001b[0m\u001b[0;34m.\u001b[0m\u001b[0mauto\u001b[0m\u001b[0;34m(\u001b[0m\u001b[0;34m)\u001b[0m\u001b[0;34m.\u001b[0m\u001b[0mrun\u001b[0m\u001b[0;34m(\u001b[0m\u001b[0mcypher\u001b[0m\u001b[0;34m,\u001b[0m \u001b[0mparameters\u001b[0m\u001b[0;34m,\u001b[0m \u001b[0;34m**\u001b[0m\u001b[0mkwparameters\u001b[0m\u001b[0;34m)\u001b[0m\u001b[0;34m\u001b[0m\u001b[0;34m\u001b[0m\u001b[0m\n\u001b[0m\u001b[1;32m    706\u001b[0m \u001b[0;34m\u001b[0m\u001b[0m\n\u001b[1;32m    707\u001b[0m     \u001b[0;32mdef\u001b[0m \u001b[0mseparate\u001b[0m\u001b[0;34m(\u001b[0m\u001b[0mself\u001b[0m\u001b[0;34m,\u001b[0m \u001b[0msubgraph\u001b[0m\u001b[0;34m)\u001b[0m\u001b[0;34m:\u001b[0m\u001b[0;34m\u001b[0m\u001b[0;34m\u001b[0m\u001b[0m\n",
      "\u001b[0;32m~/git/kent-ai-learning-notebook/venv/lib/python3.8/site-packages/py2neo/database/work.py\u001b[0m in \u001b[0;36mrun\u001b[0;34m(self, cypher, parameters, **kwparameters)\u001b[0m\n\u001b[1;32m    119\u001b[0m                 \u001b[0mresult\u001b[0m \u001b[0;34m=\u001b[0m \u001b[0mself\u001b[0m\u001b[0;34m.\u001b[0m\u001b[0m_connector\u001b[0m\u001b[0;34m.\u001b[0m\u001b[0mrun_in_tx\u001b[0m\u001b[0;34m(\u001b[0m\u001b[0mself\u001b[0m\u001b[0;34m.\u001b[0m\u001b[0m_transaction\u001b[0m\u001b[0;34m,\u001b[0m \u001b[0mcypher\u001b[0m\u001b[0;34m,\u001b[0m \u001b[0mparameters\u001b[0m\u001b[0;34m,\u001b[0m \u001b[0mhydrant\u001b[0m\u001b[0;34m)\u001b[0m\u001b[0;34m\u001b[0m\u001b[0;34m\u001b[0m\u001b[0m\n\u001b[1;32m    120\u001b[0m             \u001b[0;32melse\u001b[0m\u001b[0;34m:\u001b[0m\u001b[0;34m\u001b[0m\u001b[0;34m\u001b[0m\u001b[0m\n\u001b[0;32m--> 121\u001b[0;31m                 \u001b[0mresult\u001b[0m \u001b[0;34m=\u001b[0m \u001b[0mself\u001b[0m\u001b[0;34m.\u001b[0m\u001b[0m_connector\u001b[0m\u001b[0;34m.\u001b[0m\u001b[0mauto_run\u001b[0m\u001b[0;34m(\u001b[0m\u001b[0mself\u001b[0m\u001b[0;34m.\u001b[0m\u001b[0mgraph\u001b[0m\u001b[0;34m.\u001b[0m\u001b[0mname\u001b[0m\u001b[0;34m,\u001b[0m \u001b[0mcypher\u001b[0m\u001b[0;34m,\u001b[0m \u001b[0mparameters\u001b[0m\u001b[0;34m,\u001b[0m \u001b[0mhydrant\u001b[0m\u001b[0;34m)\u001b[0m\u001b[0;34m\u001b[0m\u001b[0;34m\u001b[0m\u001b[0m\n\u001b[0m\u001b[1;32m    122\u001b[0m             \u001b[0;32mreturn\u001b[0m \u001b[0mCursor\u001b[0m\u001b[0;34m(\u001b[0m\u001b[0mresult\u001b[0m\u001b[0;34m,\u001b[0m \u001b[0mhydrant\u001b[0m\u001b[0;34m,\u001b[0m \u001b[0mentities\u001b[0m\u001b[0;34m)\u001b[0m\u001b[0;34m\u001b[0m\u001b[0;34m\u001b[0m\u001b[0m\n\u001b[1;32m    123\u001b[0m         \u001b[0;32mfinally\u001b[0m\u001b[0;34m:\u001b[0m\u001b[0;34m\u001b[0m\u001b[0;34m\u001b[0m\u001b[0m\n",
      "\u001b[0;32m~/git/kent-ai-learning-notebook/venv/lib/python3.8/site-packages/py2neo/client/__init__.py\u001b[0m in \u001b[0;36mauto_run\u001b[0;34m(self, graph_name, cypher, parameters, hydrant, readonly)\u001b[0m\n\u001b[1;32m    994\u001b[0m         \u001b[0mresult\u001b[0m \u001b[0;34m=\u001b[0m \u001b[0mcx\u001b[0m\u001b[0;34m.\u001b[0m\u001b[0mauto_run\u001b[0m\u001b[0;34m(\u001b[0m\u001b[0mgraph_name\u001b[0m\u001b[0;34m,\u001b[0m \u001b[0mcypher\u001b[0m\u001b[0;34m,\u001b[0m \u001b[0mparameters\u001b[0m\u001b[0;34m)\u001b[0m\u001b[0;34m\u001b[0m\u001b[0;34m\u001b[0m\u001b[0m\n\u001b[1;32m    995\u001b[0m         \u001b[0mcx\u001b[0m\u001b[0;34m.\u001b[0m\u001b[0mpull\u001b[0m\u001b[0;34m(\u001b[0m\u001b[0mresult\u001b[0m\u001b[0;34m)\u001b[0m\u001b[0;34m\u001b[0m\u001b[0;34m\u001b[0m\u001b[0m\n\u001b[0;32m--> 996\u001b[0;31m         \u001b[0mcx\u001b[0m\u001b[0;34m.\u001b[0m\u001b[0msync\u001b[0m\u001b[0;34m(\u001b[0m\u001b[0mresult\u001b[0m\u001b[0;34m)\u001b[0m\u001b[0;34m\u001b[0m\u001b[0;34m\u001b[0m\u001b[0m\n\u001b[0m\u001b[1;32m    997\u001b[0m         \u001b[0;32mreturn\u001b[0m \u001b[0mresult\u001b[0m\u001b[0;34m\u001b[0m\u001b[0;34m\u001b[0m\u001b[0m\n\u001b[1;32m    998\u001b[0m \u001b[0;34m\u001b[0m\u001b[0m\n",
      "\u001b[0;32m~/git/kent-ai-learning-notebook/venv/lib/python3.8/site-packages/py2neo/client/bolt.py\u001b[0m in \u001b[0;36msync\u001b[0;34m(self, result)\u001b[0m\n\u001b[1;32m    319\u001b[0m         \u001b[0mself\u001b[0m\u001b[0;34m.\u001b[0m\u001b[0m_send\u001b[0m\u001b[0;34m(\u001b[0m\u001b[0;34m)\u001b[0m\u001b[0;34m\u001b[0m\u001b[0;34m\u001b[0m\u001b[0m\n\u001b[1;32m    320\u001b[0m         \u001b[0mself\u001b[0m\u001b[0;34m.\u001b[0m\u001b[0m_wait\u001b[0m\u001b[0;34m(\u001b[0m\u001b[0mresult\u001b[0m\u001b[0;34m.\u001b[0m\u001b[0mlast\u001b[0m\u001b[0;34m(\u001b[0m\u001b[0;34m)\u001b[0m\u001b[0;34m)\u001b[0m\u001b[0;34m\u001b[0m\u001b[0;34m\u001b[0m\u001b[0m\n\u001b[0;32m--> 321\u001b[0;31m         \u001b[0mself\u001b[0m\u001b[0;34m.\u001b[0m\u001b[0m_audit\u001b[0m\u001b[0;34m(\u001b[0m\u001b[0mresult\u001b[0m\u001b[0;34m)\u001b[0m\u001b[0;34m\u001b[0m\u001b[0;34m\u001b[0m\u001b[0m\n\u001b[0m\u001b[1;32m    322\u001b[0m \u001b[0;34m\u001b[0m\u001b[0m\n\u001b[1;32m    323\u001b[0m     \u001b[0;32mdef\u001b[0m \u001b[0mfetch\u001b[0m\u001b[0;34m(\u001b[0m\u001b[0mself\u001b[0m\u001b[0;34m,\u001b[0m \u001b[0mresult\u001b[0m\u001b[0;34m)\u001b[0m\u001b[0;34m:\u001b[0m\u001b[0;34m\u001b[0m\u001b[0;34m\u001b[0m\u001b[0m\n",
      "\u001b[0;32m~/git/kent-ai-learning-notebook/venv/lib/python3.8/site-packages/py2neo/client/bolt.py\u001b[0m in \u001b[0;36m_audit\u001b[0;34m(self, task)\u001b[0m\n\u001b[1;32m    418\u001b[0m         \"\"\"\n\u001b[1;32m    419\u001b[0m         \u001b[0;32mtry\u001b[0m\u001b[0;34m:\u001b[0m\u001b[0;34m\u001b[0m\u001b[0;34m\u001b[0m\u001b[0m\n\u001b[0;32m--> 420\u001b[0;31m             \u001b[0mtask\u001b[0m\u001b[0;34m.\u001b[0m\u001b[0maudit\u001b[0m\u001b[0;34m(\u001b[0m\u001b[0;34m)\u001b[0m\u001b[0;34m\u001b[0m\u001b[0;34m\u001b[0m\u001b[0m\n\u001b[0m\u001b[1;32m    421\u001b[0m         \u001b[0;32mexcept\u001b[0m \u001b[0mFailure\u001b[0m\u001b[0;34m:\u001b[0m\u001b[0;34m\u001b[0m\u001b[0;34m\u001b[0m\u001b[0m\n\u001b[1;32m    422\u001b[0m             \u001b[0mself\u001b[0m\u001b[0;34m.\u001b[0m\u001b[0mreset\u001b[0m\u001b[0;34m(\u001b[0m\u001b[0mforce\u001b[0m\u001b[0;34m=\u001b[0m\u001b[0;32mTrue\u001b[0m\u001b[0;34m)\u001b[0m\u001b[0;34m\u001b[0m\u001b[0;34m\u001b[0m\u001b[0m\n",
      "\u001b[0;32m~/git/kent-ai-learning-notebook/venv/lib/python3.8/site-packages/py2neo/client/bolt.py\u001b[0m in \u001b[0;36maudit\u001b[0;34m(self)\u001b[0m\n\u001b[1;32m    607\u001b[0m     \u001b[0;32mdef\u001b[0m \u001b[0maudit\u001b[0m\u001b[0;34m(\u001b[0m\u001b[0mself\u001b[0m\u001b[0;34m)\u001b[0m\u001b[0;34m:\u001b[0m\u001b[0;34m\u001b[0m\u001b[0;34m\u001b[0m\u001b[0m\n\u001b[1;32m    608\u001b[0m         \u001b[0;32mfor\u001b[0m \u001b[0mitem\u001b[0m \u001b[0;32min\u001b[0m \u001b[0mself\u001b[0m\u001b[0;34m.\u001b[0m\u001b[0m_items\u001b[0m\u001b[0;34m:\u001b[0m\u001b[0;34m\u001b[0m\u001b[0;34m\u001b[0m\u001b[0m\n\u001b[0;32m--> 609\u001b[0;31m             \u001b[0mitem\u001b[0m\u001b[0;34m.\u001b[0m\u001b[0maudit\u001b[0m\u001b[0;34m(\u001b[0m\u001b[0;34m)\u001b[0m\u001b[0;34m\u001b[0m\u001b[0;34m\u001b[0m\u001b[0m\n\u001b[0m\u001b[1;32m    610\u001b[0m \u001b[0;34m\u001b[0m\u001b[0m\n\u001b[1;32m    611\u001b[0m \u001b[0;34m\u001b[0m\u001b[0m\n",
      "\u001b[0;32m~/git/kent-ai-learning-notebook/venv/lib/python3.8/site-packages/py2neo/client/bolt.py\u001b[0m in \u001b[0;36maudit\u001b[0;34m(self)\u001b[0m\n\u001b[1;32m    779\u001b[0m         \u001b[0;32mif\u001b[0m \u001b[0mself\u001b[0m\u001b[0;34m.\u001b[0m\u001b[0m_failure\u001b[0m\u001b[0;34m:\u001b[0m\u001b[0;34m\u001b[0m\u001b[0;34m\u001b[0m\u001b[0m\n\u001b[1;32m    780\u001b[0m             \u001b[0mself\u001b[0m\u001b[0;34m.\u001b[0m\u001b[0mset_ignored\u001b[0m\u001b[0;34m(\u001b[0m\u001b[0;34m)\u001b[0m\u001b[0;34m\u001b[0m\u001b[0;34m\u001b[0m\u001b[0m\n\u001b[0;32m--> 781\u001b[0;31m             \u001b[0;32mraise\u001b[0m \u001b[0mself\u001b[0m\u001b[0;34m.\u001b[0m\u001b[0m_failure\u001b[0m\u001b[0;34m\u001b[0m\u001b[0;34m\u001b[0m\u001b[0m\n\u001b[0m\u001b[1;32m    782\u001b[0m \u001b[0;34m\u001b[0m\u001b[0m\n\u001b[1;32m    783\u001b[0m     \u001b[0;34m@\u001b[0m\u001b[0mproperty\u001b[0m\u001b[0;34m\u001b[0m\u001b[0;34m\u001b[0m\u001b[0m\n",
      "\u001b[0;31mClientError\u001b[0m: [Procedure.ProcedureNotFound] There is no procedure with the name `gds.triangleCount` registered for this database instance. Please ensure you've spelled the procedure name correctly and that the procedure is properly deployed."
     ]
    }
   ],
   "source": [
    "graph.run(\"\"\"\n",
    "CALL gds.triangleCount('Author', 'CO_AUTHOR_EARLY', { write:true,\n",
    "writeProperty:'trianglesTrain', clusteringCoefficientProperty:'coefficientTrain'});\n",
    "\"\"\").to_data_frame()"
   ]
  },
  {
   "cell_type": "code",
   "execution_count": null,
   "metadata": {
    "id": "flMlN4ubTWfL",
    "pycharm": {}
   },
   "outputs": [],
   "source": [
    "graph.run(\"\"\"\n",
    "CALL algo.triangleCount('Author', 'CO_AUTHOR', { write:true,\n",
    "writeProperty:'trianglesTest', clusteringCoefficientProperty:'coefficientTest'});\n",
    "\"\"\").to_data_frame()"
   ]
  },
  {
   "cell_type": "markdown",
   "metadata": {
    "id": "DNjj4QDJTWfN",
    "pycharm": {}
   },
   "source": [
    "The following function will add these features to the train and test DataFrames:"
   ]
  },
  {
   "cell_type": "code",
   "execution_count": null,
   "metadata": {
    "id": "d0p8U1g5TWfN",
    "pycharm": {}
   },
   "outputs": [],
   "source": [
    "def apply_triangles_features(data, triangles_prop, coefficient_prop):\n",
    "    query = \"\"\"\n",
    "    UNWIND $pairs AS pair\n",
    "    MATCH (p1) WHERE id(p1) = pair.node1\n",
    "    MATCH (p2) WHERE id(p2) = pair.node2\n",
    "    RETURN pair.node1 AS node1,\n",
    "    pair.node2 AS node2,\n",
    "    apoc.coll.min([p1[$trianglesProp], p2[$trianglesProp]]) AS minTriangles,\n",
    "    apoc.coll.max([p1[$trianglesProp], p2[$trianglesProp]]) AS maxTriangles,\n",
    "    apoc.coll.min([p1[$coefficientProp], p2[$coefficientProp]]) AS minCoefficient,\n",
    "    apoc.coll.max([p1[$coefficientProp], p2[$coefficientProp]]) AS maxCoefficient\n",
    "    \"\"\"    \n",
    "    pairs = [{\"node1\": node1, \"node2\": node2}  for node1,node2 in data[[\"node1\", \"node2\"]].values.tolist()]    \n",
    "    params = {\n",
    "    \"pairs\": pairs,\n",
    "    \"trianglesProp\": triangles_prop,\n",
    "    \"coefficientProp\": coefficient_prop\n",
    "    }\n",
    "    features = graph.run(query, params).to_data_frame()    \n",
    "    return pd.merge(data, features, on = [\"node1\", \"node2\"])"
   ]
  },
  {
   "cell_type": "markdown",
   "metadata": {
    "id": "-HgWsgb2TWfP",
    "pycharm": {}
   },
   "source": [
    "Add the new features:"
   ]
  },
  {
   "cell_type": "code",
   "execution_count": null,
   "metadata": {
    "id": "dJzwwTQSTWfP",
    "pycharm": {}
   },
   "outputs": [],
   "source": [
    "training_df = apply_triangles_features(training_df, \"trianglesTrain\", \"coefficientTrain\")\n",
    "test_df = apply_triangles_features(test_df, \"trianglesTest\", \"coefficientTest\")"
   ]
  },
  {
   "cell_type": "code",
   "execution_count": null,
   "metadata": {
    "id": "3mgC93c7TWfS",
    "pycharm": {}
   },
   "outputs": [],
   "source": [
    "training_df.head()"
   ]
  },
  {
   "cell_type": "code",
   "execution_count": null,
   "metadata": {
    "id": "BUMTya1xTWfT",
    "pycharm": {}
   },
   "outputs": [],
   "source": [
    "test_df.head()"
   ]
  },
  {
   "cell_type": "markdown",
   "metadata": {
    "id": "3Rm23kiTTWfV",
    "pycharm": {}
   },
   "source": [
    "And now let's train and evaluate a model with these features:"
   ]
  },
  {
   "cell_type": "code",
   "execution_count": null,
   "metadata": {
    "id": "SHDXCyy2TWfW",
    "pycharm": {}
   },
   "outputs": [],
   "source": [
    "columns = [\n",
    "    \"cn\", \"pa\", \"tn\", # graph features\n",
    "    \"minTriangles\", \"maxTriangles\", \"minCoefficient\", \"maxCoefficient\" # triangle features  \n",
    "]\n",
    "\n",
    "X = training_df[columns]\n",
    "y = training_df[\"label\"]\n",
    "classifier.fit(X, y)\n",
    "\n",
    "predictions = classifier.predict(test_df[columns])\n",
    "y_test = test_df[\"label\"]\n",
    "\n",
    "display(evaluate_model(predictions, y_test))\n",
    "feature_importance(columns, classifier)"
   ]
  },
  {
   "cell_type": "markdown",
   "metadata": {
    "id": "dGiGovF-TWfX",
    "pycharm": {}
   },
   "source": [
    "The coefficient features have not added much to our model, but the triangles are useful. Next you will see if Community Detection algorithms can help improve the model.\n",
    "\n",
    "# Community Detection\n",
    "\n",
    "Community Detection algorithms evaluate how a group is clustered or partitioned. Nodes are considered more similar to nodes that fall in their community than to nodes in other communities.\n",
    "\n",
    "You will run two Community Detection algorithms over the train and test sub-graphs - Label Propagation and Louvain. First, Label Propagation: "
   ]
  },
  {
   "cell_type": "code",
   "execution_count": null,
   "metadata": {
    "id": "Mwo9vz-XTWfY",
    "pycharm": {}
   },
   "outputs": [],
   "source": [
    "graph.run(\"\"\"\n",
    "CALL algo.labelPropagation(\"Author\", \"CO_AUTHOR_EARLY\", \"BOTH\",\n",
    "{partitionProperty: \"partitionTrain\"});\n",
    "\"\"\").to_data_frame()"
   ]
  },
  {
   "cell_type": "code",
   "execution_count": null,
   "metadata": {
    "id": "E9M8pbwpTWfa",
    "pycharm": {}
   },
   "outputs": [],
   "source": [
    "graph.run(\"\"\"\n",
    "CALL algo.labelPropagation(\"Author\", \"CO_AUTHOR\", \"BOTH\",\n",
    "{partitionProperty: \"partitionTest\"});\n",
    "\"\"\").to_data_frame()"
   ]
  },
  {
   "cell_type": "markdown",
   "metadata": {
    "id": "DIKuptbtTWfc",
    "pycharm": {}
   },
   "source": [
    "And now Louvain. The Louvain algorithm returns intermediate communities, which are useful for finding fine grained communities that exist in a graph. You will add a property to each node containing the community revealed on the first iteration of the algorithm:"
   ]
  },
  {
   "cell_type": "code",
   "execution_count": null,
   "metadata": {
    "id": "p3vkd9J-TWfc",
    "pycharm": {}
   },
   "outputs": [],
   "source": [
    "graph.run(\"\"\"\n",
    "CALL algo.louvain.stream(\"Author\", \"CO_AUTHOR_EARLY\", {includeIntermediateCommunities:true})\n",
    "YIELD nodeId, community, communities\n",
    "WITH algo.getNodeById(nodeId) AS node, communities[0] AS smallestCommunity\n",
    "SET node.louvainTrain = smallestCommunity;\n",
    "\"\"\").stats()"
   ]
  },
  {
   "cell_type": "code",
   "execution_count": null,
   "metadata": {
    "id": "KjwtdZMQTWfe",
    "pycharm": {}
   },
   "outputs": [],
   "source": [
    "graph.run(\"\"\"\n",
    "CALL algo.louvain.stream(\"Author\", \"CO_AUTHOR\", {includeIntermediateCommunities:true})\n",
    "YIELD nodeId, community, communities\n",
    "WITH algo.getNodeById(nodeId) AS node, communities[0] AS smallestCommunity\n",
    "SET node.louvainTest = smallestCommunity;\n",
    "\"\"\").stats()"
   ]
  },
  {
   "cell_type": "markdown",
   "metadata": {
    "id": "QqIHAm_tTWfh",
    "pycharm": {}
   },
   "source": [
    "The following function will add these features to the train and test DataFrames:"
   ]
  },
  {
   "cell_type": "code",
   "execution_count": null,
   "metadata": {
    "id": "oKUedeFITWfh",
    "pycharm": {}
   },
   "outputs": [],
   "source": [
    "def apply_community_features(data, partition_prop, louvain_prop):\n",
    "    query = \"\"\"\n",
    "    UNWIND $pairs AS pair\n",
    "    MATCH (p1) WHERE id(p1) = pair.node1\n",
    "    MATCH (p2) WHERE id(p2) = pair.node2\n",
    "    RETURN pair.node1 AS node1,\n",
    "    pair.node2 AS node2,\n",
    "    algo.linkprediction.sameCommunity(p1, p2, $partitionProp) AS sp,    \n",
    "    algo.linkprediction.sameCommunity(p1, p2, $louvainProp) AS sl\n",
    "    \"\"\"\n",
    "    pairs = [{\"node1\": node1, \"node2\": node2}  for node1,node2 in data[[\"node1\", \"node2\"]].values.tolist()]\n",
    "    params = {\n",
    "    \"pairs\": pairs,\n",
    "    \"partitionProp\": partition_prop,\n",
    "    \"louvainProp\": louvain_prop\n",
    "    }\n",
    "    features = graph.run(query, params).to_data_frame()\n",
    "    return pd.merge(data, features, on = [\"node1\", \"node2\"])"
   ]
  },
  {
   "cell_type": "code",
   "execution_count": null,
   "metadata": {
    "id": "uXl46k_HTWfj",
    "pycharm": {}
   },
   "outputs": [],
   "source": [
    "training_df = apply_community_features(training_df, \"partitionTrain\", \"louvainTrain\")\n",
    "test_df = apply_community_features(test_df, \"partitionTest\", \"louvainTest\")"
   ]
  },
  {
   "cell_type": "code",
   "execution_count": null,
   "metadata": {
    "id": "NrM6etUyTWfl",
    "pycharm": {}
   },
   "outputs": [],
   "source": [
    "training_df.head()"
   ]
  },
  {
   "cell_type": "code",
   "execution_count": null,
   "metadata": {
    "id": "WiSHP9FaTWfo",
    "pycharm": {}
   },
   "outputs": [],
   "source": [
    "test_df.head()"
   ]
  },
  {
   "cell_type": "code",
   "execution_count": null,
   "metadata": {
    "id": "VtN4J-GMTWfq",
    "pycharm": {}
   },
   "outputs": [],
   "source": [
    "columns = [\n",
    "    \"cn\", \"pa\", \"tn\", # graph features\n",
    "    \"minTriangles\", \"maxTriangles\", \"minCoefficient\", \"maxCoefficient\", # triangle features  \n",
    "    \"sp\", \"sl\" # community features\n",
    "]\n",
    "\n",
    "X = training_df[columns]\n",
    "y = training_df[\"label\"]\n",
    "classifier.fit(X, y)\n",
    "\n",
    "predictions = classifier.predict(test_df[columns])\n",
    "y_test = test_df[\"label\"]\n",
    "\n",
    "display(evaluate_model(predictions, y_test))\n",
    "feature_importance(columns, classifier)"
   ]
  }
 ],
 "metadata": {
  "colab": {
   "name": "04_Predictions.ipynb",
   "provenance": []
  },
  "kernelspec": {
   "display_name": "Python 3",
   "language": "python",
   "name": "python3"
  },
  "language_info": {
   "codemirror_mode": {
    "name": "ipython",
    "version": 3
   },
   "file_extension": ".py",
   "mimetype": "text/x-python",
   "name": "python",
   "nbconvert_exporter": "python",
   "pygments_lexer": "ipython3",
   "version": "3.8.5"
  }
 },
 "nbformat": 4,
 "nbformat_minor": 1
}
