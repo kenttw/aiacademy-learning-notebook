{
 "cells": [
  {
   "cell_type": "code",
   "execution_count": null,
   "metadata": {},
   "outputs": [],
   "source": [
    "!wget https://lfs.aminer.cn/lab-datasets/citation/DBLP-citation-network-Oct-19.tar.gz\n",
    "!tar -zxvf ./DBLP-citation-network-Oct-19.tar.gz"
   ]
  },
  {
   "cell_type": "code",
   "execution_count": 3,
   "metadata": {},
   "outputs": [
    {
     "name": "stdout",
     "output_type": "stream",
     "text": [
      "dblp-ref/dblp-ref-2.json\n",
      "dblp-ref/dblp-ref-3.json\n",
      "dblp-ref/dblp-ref-0.json\n",
      "dblp-ref/dblp-ref-1.json\n"
     ]
    }
   ],
   "source": [
    "import glob\n",
    "import json\n",
    "import csv\n",
    "\n",
    "articles = {}\n",
    "authors = set()\n",
    "venues = set()\n",
    "\n",
    "\n",
    "def write_header(file, fields):\n",
    "    csv.writer(file, delimiter=\",\").writerow(fields)\n",
    "\n",
    "\n",
    "with open(\"data/article_REFERENCES_article.csv\", \"w\") as article_references_article_file, \\\n",
    "     open(\"data/article_REFERENCES_article_header.csv\", \"w\") as article_references_article_header_file, \\\n",
    "     open(\"data/article_AUTHOR_author.csv\", \"w\") as article_author_author_file, \\\n",
    "     open(\"data/article_AUTHOR_author_header.csv\", \"w\") as article_author_author_header_file, \\\n",
    "     open(\"data/article_VENUE_venue.csv\", \"w\") as article_venue_venue_file, \\\n",
    "     open(\"data/article_VENUE_venue_header.csv\",\"w\") as article_venue_venue_header_file:\n",
    "\n",
    "    write_header(article_references_article_header_file, [\":START_ID(Article)\", \":END_ID(Article)\"])\n",
    "    write_header(article_author_author_header_file, [\":START_ID(Article)\", \":END_ID(Author)\"])\n",
    "    write_header(article_venue_venue_header_file, [\":START_ID(Article)\", \":END_ID(Venue)\"])\n",
    "\n",
    "    articles_references_article_writer = csv.writer(article_references_article_file, delimiter=\",\")\n",
    "    article_author_author_file_writer = csv.writer(article_author_author_file, delimiter=\",\")\n",
    "    article_venue_venue_file_writer = csv.writer(article_venue_venue_file, delimiter=\",\")\n",
    "\n",
    "    for file_path in glob.glob(\"dblp-ref/*.json\"):\n",
    "        print(file_path)\n",
    "        with open(file_path, \"r\") as file:\n",
    "            line = file.readline()\n",
    "            while line:\n",
    "                item = json.loads(line)\n",
    "                articles[item[\"id\"]] = {\"abstract\": item.get(\"abstract\", \"\"),\n",
    "                                        \"title\": item[\"title\"], \"year\": item[\"year\"]}\n",
    "\n",
    "                venue = item[\"venue\"]\n",
    "                if venue:\n",
    "                    venues.add(venue)\n",
    "                    article_venue_venue_file_writer.writerow([item[\"id\"], venue])\n",
    "\n",
    "                for reference in item.get(\"references\", []):\n",
    "                    articles_references_article_writer.writerow([item[\"id\"], reference])\n",
    "\n",
    "                for author in item.get(\"authors\", []):\n",
    "                    authors.add(author)\n",
    "                    article_author_author_file_writer.writerow([item[\"id\"], author])\n",
    "\n",
    "                line = file.readline()\n",
    "\n",
    "with open(\"data/articles.csv\", \"w\") as articles_file, \\\n",
    "     open(\"data/articles_header.csv\", \"w\") as articles_header_file, \\\n",
    "     open(\"data/authors.csv\", \"w\") as authors_file, \\\n",
    "     open(\"data/authors_header.csv\", \"w\") as authors_header_file, \\\n",
    "     open(\"data/venues.csv\", \"w\") as  venues_file, \\\n",
    "     open(\"data/venues_header.csv\",\"w\") as venues_header_file:\n",
    "    write_header(articles_header_file, [\"index:ID(Article)\", \"title:string\", \"abstract:string\", \"year:int\"])\n",
    "    write_header(authors_header_file, [\"name:ID(Author)\",])\n",
    "    write_header(venues_header_file, [\"name:ID(Venue)\"])\n",
    "\n",
    "    articles_writer = csv.writer(articles_file, delimiter=\",\")\n",
    "    for article_id in articles:\n",
    "        article = articles[article_id]\n",
    "        articles_writer.writerow([article_id, article[\"title\"], article[\"abstract\"], article.get(\"year\")])\n",
    "\n",
    "    authors_writer = csv.writer(authors_file, delimiter=\",\")\n",
    "    for author in authors:\n",
    "        authors_writer.writerow([author])\n",
    "\n",
    "    venues_writer = csv.writer(venues_file, delimiter=\",\")\n",
    "    for venue in venues:\n",
    "        venues_writer.writerow([venue])\n"
   ]
  },
  {
   "cell_type": "code",
   "execution_count": null,
   "outputs": [],
   "source": [
    "s= \"\"\"./bin/neo4j-admin import \\\n",
    "  --database=citations.db \\\n",
    "  --nodes:Author=${DATA_DIR}/authors_header.csv,${DATA_DIR}/authors.csv \\\n",
    "  --nodes:Article=${DATA_DIR}/articles_header.csv,${DATA_DIR}/articles.csv \\\n",
    "  --nodes:Venue=${DATA_DIR}/venues_header.csv,${DATA_DIR}/venues.csv \\\n",
    "  --relationships:REFERENCES=${DATA_DIR}/article_REFERENCES_article_header.csv,${DATA_DIR}/article_REFERENCES_article.csv \\\n",
    "  --relationships:AUTHOR=${DATA_DIR}/article_AUTHOR_author_header.csv,${DATA_DIR}/article_AUTHOR_author.csv \\\n",
    "  --relationships:VENUE=${DATA_DIR}/article_VENUE_venue_header.csv,${DATA_DIR}/article_VENUE_venue.csv \\\n",
    "  --multiline-fields=true\"\"\""
   ],
   "metadata": {
    "collapsed": false,
    "pycharm": {
     "name": "#%%\n"
    }
   }
  },
  {
   "cell_type": "code",
   "execution_count": null,
   "outputs": [],
   "source": [
    "s.format(DATA_DIR=\"/home/kent/opt/citations\").replace(\"$\",\"\").replace(\":\",\"=\")"
   ],
   "metadata": {
    "collapsed": false,
    "pycharm": {
     "name": "#%%\n"
    }
   }
  },
  {
   "cell_type": "code",
   "execution_count": 5,
   "metadata": {},
   "outputs": [],
   "source": []
  },
  {
   "cell_type": "code",
   "execution_count": 10,
   "metadata": {},
   "outputs": [
    {
     "data": {
      "text/plain": [
       "'./bin/neo4j-admin import   --database=citations.db   --nodes=Author=/home/kent/opt/citations/authors_header.csv,/home/kent/opt/citations/authors.csv   --nodes=Article=/home/kent/opt/citations/articles_header.csv,/home/kent/opt/citations/articles.csv   --nodes=Venue=/home/kent/opt/citations/venues_header.csv,/home/kent/opt/citations/venues.csv   --relationships=REFERENCES=/home/kent/opt/citations/article_REFERENCES_article_header.csv,/home/kent/opt/citations/article_REFERENCES_article.csv   --relationships=AUTHOR=/home/kent/opt/citations/article_AUTHOR_author_header.csv,/home/kent/opt/citations/article_AUTHOR_author.csv   --relationships=VENUE=/home/kent/opt/citations/article_VENUE_venue_header.csv,/home/kent/opt/citations/article_VENUE_venue.csv   --multiline-fields=true'"
      ]
     },
     "execution_count": 10,
     "metadata": {},
     "output_type": "execute_result"
    }
   ],
   "source": [
    "s.format(DATA_DIR=\"/home/kent/opt/citations\").replace(\"$\",\"\").replace(\":\",\"=\")"
   ]
  },
  {
   "cell_type": "code",
   "execution_count": null,
   "metadata": {},
   "outputs": [],
   "source": []
  }
 ],
 "metadata": {
  "kernelspec": {
   "display_name": "Python 3",
   "language": "python",
   "name": "python3"
  },
  "language_info": {
   "codemirror_mode": {
    "name": "ipython",
    "version": 3
   },
   "file_extension": ".py",
   "mimetype": "text/x-python",
   "name": "python",
   "nbconvert_exporter": "python",
   "pygments_lexer": "ipython3",
   "version": "3.8.5"
  },
  "pycharm": {
   "stem_cell": {
    "cell_type": "raw",
    "source": [],
    "metadata": {
     "collapsed": false
    }
   }
  }
 },
 "nbformat": 4,
 "nbformat_minor": 1
}