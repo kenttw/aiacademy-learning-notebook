{
 "cells": [
  {
   "cell_type": "markdown",
   "metadata": {},
   "source": [
    "# [How to Do Deep Learning on Graphs with Graph Convolutional Networks](https://github.com/TobiasSkovgaardJepsen/posts/blob/master/HowToDoDeepLearningOnGraphsWithGraphConvolutionalNetworks/Part2_SemiSupervisedLearningWithSpectralGraphConvolutions/notebook.ipynb)\n",
    "## Part 2: Semi-Supervised Learning with Spectral Graph Convolutions\n",
    "This notebook accompanies my Medium article with the above title for readers to try out and explore graph convolutional networks for themselves. You can find the article [here](https://towardsdatascience.com/how-to-do-deep-learning-on-graphs-with-graph-convolutional-networks-62acf5b143d0). To run the notebook, install the packages specified in the accompanying ```requirements.txt``` file."
   ]
  },
  {
   "cell_type": "markdown",
   "metadata": {},
   "source": [
    "#  Load Karate Club"
   ]
  },
  {
   "cell_type": "code",
   "execution_count": 1,
   "metadata": {
    "pycharm": {
     "is_executing": false
    }
   },
   "outputs": [],
   "source": [
    "from gcnclass import SpectralRule, LogisticRegressor, load_karate_club"
   ]
  },
  {
   "cell_type": "code",
   "execution_count": 2,
   "metadata": {
    "pycharm": {
     "is_executing": false
    }
   },
   "outputs": [],
   "source": [
    "from networkx import to_numpy_matrix, degree_centrality, betweenness_centrality, shortest_path_length\n",
    "import mxnet.ndarray as nd\n",
    "\n",
    "zkc = load_karate_club()\n",
    "\n",
    "A = to_numpy_matrix(zkc.network)\n",
    "A = nd.array(A)\n",
    "\n",
    "X_train = zkc.X_train.flatten()\n",
    "y_train = zkc.y_train\n",
    "X_test = zkc.X_test.flatten()\n",
    "y_test = zkc.y_test"
   ]
  },
  {
   "cell_type": "code",
   "execution_count": 3,
   "metadata": {
    "pycharm": {
     "is_executing": false
    }
   },
   "outputs": [
    {
     "data": {
      "text/plain": [
       "\n",
       "[[ 0.]\n",
       " [33.]]\n",
       "<NDArray 2x1 @cpu(0)>"
      ]
     },
     "execution_count": 3,
     "metadata": {},
     "output_type": "execute_result"
    }
   ],
   "source": [
    "X_train"
   ]
  },
  {
   "cell_type": "markdown",
   "metadata": {},
   "source": [
    "# Layer Implementations"
   ]
  },
  {
   "cell_type": "code",
   "execution_count": 4,
   "metadata": {
    "pycharm": {
     "is_executing": false
    }
   },
   "outputs": [],
   "source": [
    "from mxnet.gluon import HybridBlock\n",
    "from mxnet.gluon.nn import Activation\n",
    "import mxnet.ndarray as nd"
   ]
  },
  {
   "cell_type": "code",
   "execution_count": 5,
   "metadata": {
    "pycharm": {
     "is_executing": false
    }
   },
   "outputs": [],
   "source": [
    "class LogisticRegressor(HybridBlock):\n",
    "    def __init__(self, in_units, **kwargs):\n",
    "        super().__init__(**kwargs)\n",
    "        with self.name_scope():\n",
    "            self.w = self.params.get(\n",
    "                'w', shape=(1, in_units)\n",
    "            )\n",
    "\n",
    "            self.b = self.params.get(\n",
    "                'b', shape=(1, 1)\n",
    "            )\n",
    "\n",
    "    def hybrid_forward(self, F, X, w, b):\n",
    "        # Change shape of b to comply with MXnet addition API\n",
    "        b = F.broadcast_axis(b, axis=(0,1), size=(34, 1))\n",
    "        y = F.dot(X, w, transpose_b=True) + b\n",
    "\n",
    "        return F.sigmoid(y)"
   ]
  },
  {
   "cell_type": "markdown",
   "metadata": {},
   "source": [
    "# Models"
   ]
  },
  {
   "cell_type": "code",
   "execution_count": null,
   "metadata": {
    "pycharm": {
     "is_executing": false
    }
   },
   "outputs": [],
   "source": []
  },
  {
   "cell_type": "code",
   "execution_count": 6,
   "metadata": {
    "pycharm": {
     "is_executing": false
    },
    "scrolled": true
   },
   "outputs": [],
   "source": [
    "from mxnet.gluon.nn import HybridSequential, Activation\n",
    "from mxnet.ndarray import array\n",
    "from mxnet.initializer import One, Uniform, Xavier\n",
    "from mxnet.gluon.loss import SigmoidBinaryCrossEntropyLoss\n",
    "\n",
    "def build_features(A, X):\n",
    "    hidden_layer_specs = [(4, 'tanh'), (2, 'tanh'),] # Format: (units in layer, activation function)\n",
    "    in_units = in_units=X.shape[1]\n",
    "  \n",
    "    features = HybridSequential()\n",
    "    with features.name_scope():\n",
    "        for i, (layer_size, activation_func) in enumerate(hidden_layer_specs):\n",
    "            layer = SpectralRule(\n",
    "                A, in_units=in_units, out_units=layer_size, \n",
    "                activation=activation_func)\n",
    "            features.add(layer)\n",
    "\n",
    "            in_units = layer_size\n",
    "    return features, in_units\n",
    "\n",
    "def build_model(A, X):\n",
    "    model = HybridSequential()\n",
    "    hidden_layer_specs = [(4, 'tanh'), (2, 'tanh')]\n",
    "    in_units = in_units=X.shape[1]\n",
    "\n",
    "    with model.name_scope():\n",
    "        features, out_units = build_features(A, X)\n",
    "        model.add(features)\n",
    "\n",
    "        classifier = LogisticRegressor(out_units)\n",
    "        model.add(classifier)\n",
    "\n",
    "    model.hybridize()\n",
    "    model.initialize(Uniform(1))\n",
    "\n",
    "    return model, features"
   ]
  },
  {
   "cell_type": "markdown",
   "metadata": {},
   "source": [
    "## Model 1: Identity Matrix as Features"
   ]
  },
  {
   "cell_type": "code",
   "execution_count": 7,
   "metadata": {
    "pycharm": {
     "is_executing": false
    }
   },
   "outputs": [],
   "source": [
    "X_1 = I = nd.eye(*A.shape)\n",
    "model_1, features_1 = build_model(A, X_1)"
   ]
  },
  {
   "cell_type": "code",
   "execution_count": 8,
   "metadata": {
    "pycharm": {
     "is_executing": false
    }
   },
   "outputs": [
    {
     "data": {
      "text/plain": [
       "\n",
       "[[0.5106775 ]\n",
       " [0.5095114 ]\n",
       " [0.51096225]\n",
       " [0.51542187]\n",
       " [0.523025  ]\n",
       " [0.512526  ]\n",
       " [0.511652  ]\n",
       " [0.50208426]\n",
       " [0.5050116 ]\n",
       " [0.51883554]\n",
       " [0.5406651 ]\n",
       " [0.49158806]\n",
       " [0.5110878 ]\n",
       " [0.4936631 ]\n",
       " [0.5026252 ]\n",
       " [0.48504698]\n",
       " [0.5104648 ]\n",
       " [0.51193994]\n",
       " [0.5220448 ]\n",
       " [0.50951165]\n",
       " [0.50140274]\n",
       " [0.5098576 ]\n",
       " [0.53033787]\n",
       " [0.51043373]\n",
       " [0.50124794]\n",
       " [0.52045095]\n",
       " [0.50941336]\n",
       " [0.49507195]\n",
       " [0.5021959 ]\n",
       " [0.5068235 ]\n",
       " [0.5085803 ]\n",
       " [0.51637703]\n",
       " [0.50986254]\n",
       " [0.5153003 ]]\n",
       "<NDArray 34x1 @cpu(0)>"
      ]
     },
     "execution_count": 8,
     "metadata": {},
     "output_type": "execute_result"
    }
   ],
   "source": [
    "model_1(X_1)"
   ]
  },
  {
   "cell_type": "markdown",
   "metadata": {},
   "source": [
    "## Model 2: Distance to Administrator and Instructor as Additional Features"
   ]
  },
  {
   "cell_type": "code",
   "execution_count": 9,
   "metadata": {
    "pycharm": {
     "is_executing": false
    }
   },
   "outputs": [],
   "source": [
    "X_2 = nd.zeros((A.shape[0], 2))\n",
    "node_distance_instructor = shortest_path_length(zkc.network, target=33)\n",
    "node_distance_administrator = shortest_path_length(zkc.network, target=0)\n",
    "\n",
    "for node in zkc.network.nodes():\n",
    "    X_2[node][0] = node_distance_administrator[node]\n",
    "    X_2[node][1] = node_distance_instructor[node]"
   ]
  },
  {
   "cell_type": "code",
   "execution_count": 10,
   "metadata": {
    "pycharm": {
     "is_executing": false
    }
   },
   "outputs": [
    {
     "data": {
      "text/plain": [
       "\n",
       "[[0.456614  ]\n",
       " [0.45822805]\n",
       " [0.456899  ]\n",
       " [0.457218  ]\n",
       " [0.45603466]\n",
       " [0.4640951 ]\n",
       " [0.4631094 ]\n",
       " [0.45584652]\n",
       " [0.4608328 ]\n",
       " [0.47084248]\n",
       " [0.4593098 ]\n",
       " [0.4513544 ]\n",
       " [0.46219462]\n",
       " [0.47803804]\n",
       " [0.46955827]\n",
       " [0.49520862]\n",
       " [0.46266046]\n",
       " [0.4590963 ]\n",
       " [0.49145314]\n",
       " [0.46135917]\n",
       " [0.48991072]\n",
       " [0.4575545 ]\n",
       " [0.48936   ]\n",
       " [0.4587967 ]\n",
       " [0.46603325]\n",
       " [0.47440898]\n",
       " [0.48096892]\n",
       " [0.47632974]\n",
       " [0.47681022]\n",
       " [0.47006816]\n",
       " [0.47394764]\n",
       " [0.46878797]\n",
       " [0.4676332 ]\n",
       " [0.49637428]]\n",
       "<NDArray 34x1 @cpu(0)>"
      ]
     },
     "execution_count": 10,
     "metadata": {},
     "output_type": "execute_result"
    }
   ],
   "source": [
    "X_2 = nd.concat(X_1, X_2)\n",
    "model_2, features_2 = build_model(A, X_2)\n",
    "model_2(X_2)"
   ]
  },
  {
   "cell_type": "markdown",
   "metadata": {},
   "source": [
    "# Train and Test Models"
   ]
  },
  {
   "cell_type": "code",
   "execution_count": 11,
   "metadata": {
    "pycharm": {
     "is_executing": false
    }
   },
   "outputs": [
    {
     "name": "stdout",
     "output_type": "stream",
     "text": [
      "CPU times: user 2 µs, sys: 1 µs, total: 3 µs\n",
      "Wall time: 4.77 µs\n"
     ]
    }
   ],
   "source": [
    "%time\n",
    "from mxnet import autograd\n",
    "from mxnet.gluon import Trainer\n",
    "from mxnet.ndarray import sum as ndsum\n",
    "import numpy as np\n",
    "\n",
    "def train(model, features, X, X_train, y_train, epochs):\n",
    "    cross_entropy = SigmoidBinaryCrossEntropyLoss(from_sigmoid=True)\n",
    "    trainer = Trainer(model.collect_params(), 'sgd', {'learning_rate': 0.001, 'momentum': 1})\n",
    "\n",
    "    feature_representations = [features(X).asnumpy()]\n",
    "\n",
    "    for e in range(1, epochs + 1):\n",
    "        cum_loss = 0\n",
    "        cum_preds = []\n",
    "\n",
    "        for i, x in enumerate(X_train):\n",
    "            y = array(y_train)[i]\n",
    "            with autograd.record():\n",
    "                preds = model(X)[x]\n",
    "                loss = cross_entropy(preds, y)\n",
    "            loss.backward()\n",
    "            trainer.step(1)\n",
    "\n",
    "            cum_loss += loss[0].asscalar()\n",
    "            cum_preds += [preds[0].asscalar()]\n",
    "\n",
    "        feature_representations.append(features(X).asnumpy())\n",
    "            \n",
    "        if (e % (epochs//10)) == 0:\n",
    "            print(f\"Epoch {e}/{epochs} -- Loss: {cum_loss: .4f}\")\n",
    "            print(cum_preds)\n",
    "    return feature_representations\n",
    "\n",
    "def predict(model, X, nodes):\n",
    "    preds = model(X)[nodes].asnumpy().flatten()\n",
    "    return  np.where(preds >= 0.5, 1, 0)"
   ]
  },
  {
   "cell_type": "markdown",
   "metadata": {},
   "source": [
    "## Performance of Model 1"
   ]
  },
  {
   "cell_type": "code",
   "execution_count": 12,
   "metadata": {
    "pycharm": {
     "is_executing": false
    }
   },
   "outputs": [
    {
     "data": {
      "text/plain": [
       "HybridSequential(\n",
       "  (0): SpectralRule(\n",
       "    (activation): Activation(tanh)\n",
       "  )\n",
       "  (1): SpectralRule(\n",
       "    (activation): Activation(tanh)\n",
       "  )\n",
       ")"
      ]
     },
     "execution_count": 12,
     "metadata": {},
     "output_type": "execute_result"
    }
   ],
   "source": [
    "features_1"
   ]
  },
  {
   "cell_type": "code",
   "execution_count": 13,
   "metadata": {
    "pycharm": {
     "is_executing": false
    }
   },
   "outputs": [
    {
     "data": {
      "text/plain": [
       "\n",
       "[[ 0.]\n",
       " [33.]]\n",
       "<NDArray 2x1 @cpu(0)>"
      ]
     },
     "execution_count": 13,
     "metadata": {},
     "output_type": "execute_result"
    }
   ],
   "source": [
    "X_train"
   ]
  },
  {
   "cell_type": "code",
   "execution_count": 14,
   "metadata": {
    "pycharm": {
     "is_executing": false
    }
   },
   "outputs": [
    {
     "data": {
      "text/plain": [
       "\n",
       "[[1. 0. 0. ... 0. 0. 0.]\n",
       " [0. 1. 0. ... 0. 0. 0.]\n",
       " [0. 0. 1. ... 0. 0. 0.]\n",
       " ...\n",
       " [0. 0. 0. ... 1. 0. 0.]\n",
       " [0. 0. 0. ... 0. 1. 0.]\n",
       " [0. 0. 0. ... 0. 0. 1.]]\n",
       "<NDArray 34x34 @cpu(0)>"
      ]
     },
     "execution_count": 14,
     "metadata": {},
     "output_type": "execute_result"
    }
   ],
   "source": [
    "X_1"
   ]
  },
  {
   "cell_type": "code",
   "execution_count": 15,
   "metadata": {
    "pycharm": {
     "is_executing": false
    }
   },
   "outputs": [
    {
     "name": "stdout",
     "output_type": "stream",
     "text": [
      "Epoch 100/1000 -- Loss:  1.3263\n",
      "[0.49567983, 0.4644357]\n",
      "Epoch 200/1000 -- Loss:  0.7557\n",
      "[0.6250237, 0.24851143]\n",
      "Epoch 300/1000 -- Loss:  0.0460\n",
      "[0.9604993, 0.005714733]\n",
      "Epoch 400/1000 -- Loss:  0.0012\n",
      "[0.9992391, 0.00042324717]\n",
      "Epoch 500/1000 -- Loss:  0.0001\n",
      "[0.9999902, 4.623498e-05]\n",
      "Epoch 600/1000 -- Loss:  0.0000\n",
      "[0.9999999, 5.2589753e-06]\n",
      "Epoch 700/1000 -- Loss:  0.0000\n",
      "[1.0, 6.0081516e-07]\n",
      "Epoch 800/1000 -- Loss:  0.0000\n",
      "[1.0, 6.86608e-08]\n",
      "Epoch 900/1000 -- Loss:  0.0000\n",
      "[1.0, 7.847022e-09]\n",
      "Epoch 1000/1000 -- Loss:  0.0000\n",
      "[1.0, 8.968142e-10]\n"
     ]
    }
   ],
   "source": [
    "from sklearn.metrics import classification_report\n",
    "\n",
    "feature_representations_1 = train(model_1, features_1, X_1, X_train, y_train, epochs=1000)\n",
    "y_pred_1 = predict(model_1, X_1, X_test)\n"
   ]
  },
  {
   "cell_type": "code",
   "execution_count": 16,
   "metadata": {
    "pycharm": {
     "is_executing": false
    }
   },
   "outputs": [
    {
     "name": "stdout",
     "output_type": "stream",
     "text": [
      "              precision    recall  f1-score   support\n",
      "\n",
      "         0.0       0.75      0.38      0.50        16\n",
      "         1.0       0.58      0.88      0.70        16\n",
      "\n",
      "    accuracy                           0.62        32\n",
      "   macro avg       0.67      0.62      0.60        32\n",
      "weighted avg       0.67      0.62      0.60        32\n",
      "\n"
     ]
    }
   ],
   "source": [
    "print(classification_report(y_test.asnumpy(), y_pred_1))"
   ]
  },
  {
   "cell_type": "markdown",
   "metadata": {},
   "source": [
    "## Performance of Model 2"
   ]
  },
  {
   "cell_type": "code",
   "execution_count": 17,
   "metadata": {
    "pycharm": {
     "is_executing": false
    }
   },
   "outputs": [
    {
     "name": "stdout",
     "output_type": "stream",
     "text": [
      "Epoch 25/250 -- Loss:  1.4502\n",
      "[0.46630818, 0.49708325]\n",
      "Epoch 50/250 -- Loss:  1.4058\n",
      "[0.48751295, 0.49711376]\n",
      "Epoch 75/250 -- Loss:  1.3709\n",
      "[0.5132726, 0.5053706]\n",
      "Epoch 100/250 -- Loss:  1.3566\n",
      "[0.5332241, 0.5170041]\n",
      "Epoch 125/250 -- Loss:  1.3161\n",
      "[0.53867733, 0.5021284]\n",
      "Epoch 150/250 -- Loss:  1.1604\n",
      "[0.5339666, 0.41315266]\n",
      "Epoch 175/250 -- Loss:  0.8730\n",
      "[0.5482581, 0.23811252]\n",
      "Epoch 200/250 -- Loss:  0.5649\n",
      "[0.625712, 0.09159252]\n",
      "Epoch 225/250 -- Loss:  0.3007\n",
      "[0.7656582, 0.03307582]\n",
      "Epoch 250/250 -- Loss:  0.1270\n",
      "[0.8933893, 0.014171541]\n",
      "              precision    recall  f1-score   support\n",
      "\n",
      "         0.0       0.83      0.94      0.88        16\n",
      "         1.0       0.93      0.81      0.87        16\n",
      "\n",
      "    accuracy                           0.88        32\n",
      "   macro avg       0.88      0.88      0.87        32\n",
      "weighted avg       0.88      0.88      0.87        32\n",
      "\n"
     ]
    }
   ],
   "source": [
    "feature_representations_2= train(model_2, features_2, X_2, X_train, y_train, epochs=250)\n",
    "y_pred_2 = predict(model_2, X_2, X_test)\n",
    "print(classification_report(y_test.asnumpy(), y_pred_2))"
   ]
  },
  {
   "cell_type": "code",
   "execution_count": null,
   "metadata": {
    "pycharm": {
     "is_executing": false
    }
   },
   "outputs": [],
   "source": []
  }
 ],
 "metadata": {
  "kernelspec": {
   "display_name": "Python 3",
   "language": "python",
   "name": "python3"
  },
  "language_info": {
   "codemirror_mode": {
    "name": "ipython",
    "version": 3
   },
   "file_extension": ".py",
   "mimetype": "text/x-python",
   "name": "python",
   "nbconvert_exporter": "python",
   "pygments_lexer": "ipython3",
   "version": "3.7.6"
  }
 },
 "nbformat": 4,
 "nbformat_minor": 2
}
