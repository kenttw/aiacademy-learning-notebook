{
 "cells": [
  {
   "cell_type": "markdown",
   "metadata": {},
   "source": [
    "# GCN 理解教學範例\n",
    "### GCN 是一個對Grapch 作運算的一種類神經網路， 當有一個　G = (V, E)則 GCN 的輸入為\n",
    "* N × F⁰ 為 feature matrix X , N 為 node 數量　F⁰　為每一個 node 的 feature 的維度(數量)\n",
    "* A 為N x N 的 matrix 用來表達 G 的一種相鄰矩陣 ([請參考](https://en.wikipedia.org/wiki/Adjacency_matrix))\n",
    "\n",
    "### 在 GCN 中的每一個 hidden layer 如右 Hⁱ = f(Hⁱ⁻¹, A))\n",
    "* H⁰ = X \n",
    "* f 為　propagation(feed forward) function \n",
    "* H 的為維度為 N x  Fⁱ ,  Fⁱ 為每一層的 Featrue 的維度，而最後一層的 Feature 維度就是經過GCN後對一個Node所輸出(encode)後的 feature 維度\n",
    "\n",
    "### 最簡單的 propagation rule 如下\n",
    "\n",
    "* f(Hⁱ, A) = σ(AHⁱWⁱ)\n",
    "* Wⁱ 為 weight matrix (即是這次所要有學出的weight matrix )，其 dimession 為　Fⁱ × Fⁱ⁺¹\n",
    "* σ is a non-linear activation ，例如 ReLU\n",
    "\n",
    "### 簡單的範例如下\n",
    "![image.png](https://i.imgur.com/ZDPwhWd.png)\n",
    "\n"
   ]
  },
  {
   "cell_type": "code",
   "execution_count": 1,
   "metadata": {
    "pycharm": {
     "is_executing": true
    }
   },
   "outputs": [],
   "source": [
    "import numpy as np\n",
    "np.random.seed(168)\n",
    "\n",
    "A = np.matrix([\n",
    "    [0, 1, 0, 0],\n",
    "    [0, 0, 1, 1], \n",
    "    [0, 1, 0, 0],\n",
    "    [1, 0, 1, 0]],\n",
    "    dtype=float\n",
    ")\n",
    "# 這邊 1 代表有指其它人，以有向圖來看\n"
   ]
  },
  {
   "cell_type": "markdown",
   "metadata": {},
   "source": [
    "### 從熱力學溫度是由高往低散佈\n",
    "改用被影響的觀點來看會更好理解，每一個結點會被有連接(指向)的點影響，故矩陣改用 transpose of A"
   ]
  },
  {
   "cell_type": "code",
   "execution_count": 2,
   "metadata": {},
   "outputs": [
    {
     "data": {
      "text/plain": [
       "matrix([[0., 0., 0., 1.],\n",
       "        [1., 0., 1., 0.],\n",
       "        [0., 1., 0., 1.],\n",
       "        [0., 1., 0., 0.]])"
      ]
     },
     "execution_count": 2,
     "metadata": {},
     "output_type": "execute_result"
    }
   ],
   "source": [
    "A_T = np.transpose(A)\n",
    "A_T"
   ]
  },
  {
   "cell_type": "code",
   "execution_count": 3,
   "metadata": {},
   "outputs": [
    {
     "data": {
      "text/plain": [
       "matrix([[ 0.,  0.],\n",
       "        [ 1., -1.],\n",
       "        [ 2., -2.],\n",
       "        [ 3., -3.]])"
      ]
     },
     "execution_count": 3,
     "metadata": {},
     "output_type": "execute_result"
    }
   ],
   "source": [
    "# 假設 Input X 如下(即是 H⁰)\n",
    "X = np.matrix(\n",
    "    [(i,-1*i) for i in range(A.shape[0])], \n",
    "    dtype=float)\n",
    "X"
   ]
  },
  {
   "cell_type": "code",
   "execution_count": 4,
   "metadata": {},
   "outputs": [
    {
     "data": {
      "text/plain": [
       "matrix([[ 3., -3.],\n",
       "        [ 2., -2.],\n",
       "        [ 4., -4.],\n",
       "        [ 1., -1.]])"
      ]
     },
     "execution_count": 4,
     "metadata": {},
     "output_type": "execute_result"
    }
   ],
   "source": [
    "# Fist Step Propagation　\n",
    "A_T * X"
   ]
  },
  {
   "cell_type": "code",
   "execution_count": 5,
   "metadata": {},
   "outputs": [
    {
     "name": "stdout",
     "output_type": "stream",
     "text": [
      "[[1 2]\n",
      " [3 4]]\n",
      "[[5 6]\n",
      " [7 8]]\n"
     ]
    },
    {
     "data": {
      "text/plain": [
       "matrix([[19, 22],\n",
       "        [43, 50]])"
      ]
     },
     "execution_count": 5,
     "metadata": {},
     "output_type": "execute_result"
    }
   ],
   "source": [
    "import numpy as np\n",
    "a = np.matrix([[1,2],[3,4]])\n",
    "b = np.matrix([[5,6],[7,8]])\n",
    "np.multiply(a,b)\n",
    "print(a)\n",
    "print(b)\n",
    "a*b"
   ]
  },
  {
   "cell_type": "markdown",
   "metadata": {},
   "source": [
    "### 有一個問題是沒有考慮到自已對自已的影響\n",
    "* 故將 A Matrix 加上單位矩陣，這樣就可以參考到自身對自己的影響力"
   ]
  },
  {
   "cell_type": "code",
   "execution_count": 6,
   "metadata": {},
   "outputs": [
    {
     "data": {
      "text/plain": [
       "matrix([[1., 0., 0., 0.],\n",
       "        [0., 1., 0., 0.],\n",
       "        [0., 0., 1., 0.],\n",
       "        [0., 0., 0., 1.]])"
      ]
     },
     "execution_count": 6,
     "metadata": {},
     "output_type": "execute_result"
    }
   ],
   "source": [
    "I = np.matrix(np.eye(A.shape[0]))\n",
    "I"
   ]
  },
  {
   "cell_type": "code",
   "execution_count": 7,
   "metadata": {},
   "outputs": [
    {
     "data": {
      "text/plain": [
       "matrix([[1., 0., 0., 1.],\n",
       "        [1., 1., 1., 0.],\n",
       "        [0., 1., 1., 1.],\n",
       "        [0., 1., 0., 1.]])"
      ]
     },
     "execution_count": 7,
     "metadata": {},
     "output_type": "execute_result"
    }
   ],
   "source": [
    "A_hat = A_T + I\n",
    "A_hat"
   ]
  },
  {
   "cell_type": "code",
   "execution_count": 8,
   "metadata": {},
   "outputs": [
    {
     "data": {
      "text/plain": [
       "matrix([[ 3., -3.],\n",
       "        [ 3., -3.],\n",
       "        [ 6., -6.],\n",
       "        [ 4., -4.]])"
      ]
     },
     "execution_count": 8,
     "metadata": {},
     "output_type": "execute_result"
    }
   ],
   "source": [
    "# 這樣可就可以考慮到自身的影響\n",
    "A_hat * X"
   ]
  },
  {
   "cell_type": "markdown",
   "metadata": {},
   "source": [
    "### 再來是另一個大問題\n",
    "* 有些的點，所被連接的數量太高"
   ]
  },
  {
   "cell_type": "code",
   "execution_count": 9,
   "metadata": {},
   "outputs": [
    {
     "data": {
      "text/plain": [
       "matrix([[2., 0., 0., 0.],\n",
       "        [0., 3., 0., 0.],\n",
       "        [0., 0., 3., 0.],\n",
       "        [0., 0., 0., 2.]])"
      ]
     },
     "execution_count": 9,
     "metadata": {},
     "output_type": "execute_result"
    }
   ],
   "source": [
    "D = np.array(np.sum(A_hat, axis=1)).reshape(-1) # 考慮自迴圈\n",
    "D = np.matrix(np.diag(D))\n",
    "D"
   ]
  },
  {
   "cell_type": "code",
   "execution_count": 10,
   "metadata": {},
   "outputs": [
    {
     "data": {
      "text/plain": [
       "matrix([[0.5       , 0.        , 0.        , 0.        ],\n",
       "        [0.        , 0.33333333, 0.        , 0.        ],\n",
       "        [0.        , 0.        , 0.33333333, 0.        ],\n",
       "        [0.        , 0.        , 0.        , 0.5       ]])"
      ]
     },
     "execution_count": 10,
     "metadata": {},
     "output_type": "execute_result"
    }
   ],
   "source": [
    "D**-1"
   ]
  },
  {
   "cell_type": "code",
   "execution_count": 11,
   "metadata": {},
   "outputs": [
    {
     "data": {
      "text/plain": [
       "matrix([[0.5       , 0.        , 0.        , 0.5       ],\n",
       "        [0.33333333, 0.33333333, 0.33333333, 0.        ],\n",
       "        [0.        , 0.33333333, 0.33333333, 0.33333333],\n",
       "        [0.        , 0.5       , 0.        , 0.5       ]])"
      ]
     },
     "execution_count": 11,
     "metadata": {},
     "output_type": "execute_result"
    }
   ],
   "source": [
    "D**-1*A_hat"
   ]
  },
  {
   "cell_type": "code",
   "execution_count": 12,
   "metadata": {},
   "outputs": [
    {
     "data": {
      "text/plain": [
       "matrix([[ 1.5, -1.5],\n",
       "        [ 1. , -1. ],\n",
       "        [ 2. , -2. ],\n",
       "        [ 2. , -2. ]])"
      ]
     },
     "execution_count": 12,
     "metadata": {},
     "output_type": "execute_result"
    }
   ],
   "source": [
    "D**-1*A_hat*X"
   ]
  },
  {
   "cell_type": "code",
   "execution_count": 13,
   "metadata": {},
   "outputs": [],
   "source": [
    "def relu(x): # 定義 ReLU 函數\n",
    "    return np.maximum(x,0)"
   ]
  },
  {
   "cell_type": "code",
   "execution_count": 14,
   "metadata": {},
   "outputs": [],
   "source": [
    "W = np.matrix([ # 定義第一層的權重\n",
    "                  [1, -1],\n",
    "                  [-1, 1]\n",
    "            ])"
   ]
  },
  {
   "cell_type": "code",
   "execution_count": 15,
   "metadata": {},
   "outputs": [
    {
     "data": {
      "text/plain": [
       "matrix([[3., 0.],\n",
       "        [2., 0.],\n",
       "        [4., 0.],\n",
       "        [4., 0.]])"
      ]
     },
     "execution_count": 15,
     "metadata": {},
     "output_type": "execute_result"
    }
   ],
   "source": [
    "relu(D** -1 * A_hat * X * W) # D為 A_hat 的反節點數矩陣\n"
   ]
  },
  {
   "cell_type": "markdown",
   "metadata": {},
   "source": [
    "# 以karate_club 作為範例"
   ]
  },
  {
   "cell_type": "code",
   "execution_count": 16,
   "metadata": {},
   "outputs": [],
   "source": [
    "from networkx import karate_club_graph,to_numpy_matrix  # 引用networkx套件\n",
    "import networkx\n",
    "zkc = karate_club_graph() # 取得俱樂部圖"
   ]
  },
  {
   "cell_type": "code",
   "execution_count": 17,
   "metadata": {},
   "outputs": [
    {
     "name": "stdout",
     "output_type": "stream",
     "text": [
      "Node Degree\n"
     ]
    },
    {
     "data": {
      "image/png": "[encoded data removed]",
      "text/plain": [
       "<Figure size 432x288 with 1 Axes>"
      ]
     },
     "metadata": {},
     "output_type": "display_data"
    }
   ],
   "source": [
    "# import matplotlib.pyplot as plt\n",
    "# import networkx as nx\n",
    "\n",
    "# G = nx.karate_club_graph()\n",
    "print(\"Node Degree\")\n",
    "# for v in zkc:\n",
    "#     print('%s %s' % (v, zkc.degree(v)))\n",
    "\n",
    "networkx.draw_circular(zkc, with_labels=True)\n"
   ]
  },
  {
   "cell_type": "code",
   "execution_count": 18,
   "metadata": {},
   "outputs": [
    {
     "data": {
      "text/plain": [
       "matrix([[0., 1., 1., ..., 1., 0., 0.],\n",
       "        [1., 0., 1., ..., 0., 0., 0.],\n",
       "        [1., 1., 0., ..., 0., 1., 0.],\n",
       "        ...,\n",
       "        [1., 0., 0., ..., 0., 1., 1.],\n",
       "        [0., 0., 1., ..., 1., 0., 1.],\n",
       "        [0., 0., 0., ..., 1., 1., 0.]])"
      ]
     },
     "execution_count": 18,
     "metadata": {},
     "output_type": "execute_result"
    }
   ],
   "source": [
    "order = sorted(list(zkc.nodes())) #取得照順序排的節點\n",
    "# order = [0, 1, 2, ..., 33]\n",
    "A = to_numpy_matrix(zkc, nodelist=order) # 取得相鄰矩陣\n",
    "A"
   ]
  },
  {
   "cell_type": "code",
   "execution_count": 19,
   "metadata": {},
   "outputs": [
    {
     "data": {
      "text/plain": [
       "array([[1., 0., 0., ..., 0., 0., 0.],\n",
       "       [0., 1., 0., ..., 0., 0., 0.],\n",
       "       [0., 0., 1., ..., 0., 0., 0.],\n",
       "       ...,\n",
       "       [0., 0., 0., ..., 1., 0., 0.],\n",
       "       [0., 0., 0., ..., 0., 1., 0.],\n",
       "       [0., 0., 0., ..., 0., 0., 1.]])"
      ]
     },
     "execution_count": 19,
     "metadata": {},
     "output_type": "execute_result"
    }
   ],
   "source": [
    "I = np.eye(zkc.number_of_nodes()) # 為了自循環所定義的單位矩陣\n",
    "I"
   ]
  },
  {
   "cell_type": "code",
   "execution_count": 20,
   "metadata": {},
   "outputs": [],
   "source": [
    "A_hat = A.transpose() + I # 有自循環的相鄰矩陣\n",
    "D_hat = np.array(np.sum(A_hat, 1)).reshape(-1) # \n",
    "D_hat = np.matrix(np.diag(D_hat))"
   ]
  },
  {
   "cell_type": "code",
   "execution_count": 21,
   "metadata": {},
   "outputs": [
    {
     "data": {
      "text/plain": [
       "matrix([[0.05882353, 0.05882353, 0.05882353, ..., 0.05882353, 0.        ,\n",
       "         0.        ],\n",
       "        [0.1       , 0.1       , 0.1       , ..., 0.        , 0.        ,\n",
       "         0.        ],\n",
       "        [0.09090909, 0.09090909, 0.09090909, ..., 0.        , 0.09090909,\n",
       "         0.        ],\n",
       "        ...,\n",
       "        [0.14285714, 0.        , 0.        , ..., 0.14285714, 0.14285714,\n",
       "         0.14285714],\n",
       "        [0.        , 0.        , 0.07692308, ..., 0.07692308, 0.07692308,\n",
       "         0.07692308],\n",
       "        [0.        , 0.        , 0.        , ..., 0.05555556, 0.05555556,\n",
       "         0.05555556]])"
      ]
     },
     "execution_count": 21,
     "metadata": {},
     "output_type": "execute_result"
    }
   ],
   "source": [
    "D_hat**-1*A_hat"
   ]
  },
  {
   "cell_type": "markdown",
   "metadata": {},
   "source": [
    "### 假設有兩層及 weight 先給予 random\n",
    "* 接下來作 feedforward \n",
    "* 過兩層\n",
    "* 然視覺化出來"
   ]
  },
  {
   "cell_type": "code",
   "execution_count": 22,
   "metadata": {},
   "outputs": [],
   "source": [
    "def gcn_layer(A_hat, D_hat, X, W):\n",
    "    return relu(D_hat**-1 * A_hat * X * W)"
   ]
  },
  {
   "cell_type": "code",
   "execution_count": 23,
   "metadata": {},
   "outputs": [],
   "source": [
    "X = np.abs(np.random.normal(loc=0,scale=1, size=(34,2)))\n",
    "# X = I"
   ]
  },
  {
   "cell_type": "code",
   "execution_count": 24,
   "metadata": {},
   "outputs": [],
   "source": [
    "W_1 = np.random.normal(\n",
    "    loc=0, scale=1, size=(X.shape[1], zkc.number_of_nodes())) # 維度=(節點數, 特徵數)\n",
    "W_2 = np.random.normal(\n",
    "    loc=0, size=(W_1.shape[1], 2)) # 最後要分兩群，所以維度定為(前一層特徵數, 2)"
   ]
  },
  {
   "cell_type": "code",
   "execution_count": 25,
   "metadata": {},
   "outputs": [
    {
     "name": "stdout",
     "output_type": "stream",
     "text": [
      "X.shape (34, 2)\n",
      "W_1.shape (2, 34)\n",
      "W_2.shape (34, 2)\n",
      "A_hat.shape (34, 34)\n",
      "D_hat.shape (34, 34)\n"
     ]
    }
   ],
   "source": [
    "# Check Shape\n",
    "print(\"X.shape\",X.shape)\n",
    "print(\"W_1.shape\",W_1.shape)\n",
    "print(\"W_2.shape\",W_2.shape)\n",
    "print(\"A_hat.shape\",A_hat.shape)\n",
    "print(\"D_hat.shape\",(D_hat**-1).shape)\n"
   ]
  },
  {
   "cell_type": "code",
   "execution_count": 26,
   "metadata": {},
   "outputs": [],
   "source": [
    "H_1 = gcn_layer(A_hat, D_hat, X, W_1)\n",
    "H_2 = gcn_layer(A_hat, D_hat, H_1, W_2)"
   ]
  },
  {
   "cell_type": "code",
   "execution_count": 33,
   "metadata": {},
   "outputs": [],
   "source": [
    "output = H_2"
   ]
  },
  {
   "cell_type": "markdown",
   "metadata": {},
   "source": [
    "### Define label's color"
   ]
  },
  {
   "cell_type": "code",
   "execution_count": 28,
   "metadata": {},
   "outputs": [],
   "source": [
    "from colorhash import ColorHash\n",
    "c = ColorHash('Hello World')\n",
    "colors = []\n",
    "for i in range(34):\n",
    "    n = zkc.nodes()[i]\n",
    "    colors.append(ColorHash(n['club']).hex)"
   ]
  },
  {
   "cell_type": "markdown",
   "metadata": {},
   "source": [
    "## Encoding 前的的分佈\n"
   ]
  },
  {
   "cell_type": "code",
   "execution_count": 31,
   "metadata": {},
   "outputs": [
    {
     "data": {
      "text/plain": [
       "<matplotlib.collections.PathCollection at 0x12bc19450>"
      ]
     },
     "execution_count": 31,
     "metadata": {},
     "output_type": "execute_result"
    },
    {
     "data": {
      "image/png": "[encoded data removed]",
      "text/plain": [
       "<Figure size 432x288 with 1 Axes>"
      ]
     },
     "metadata": {
      "needs_background": "light"
     },
     "output_type": "display_data"
    }
   ],
   "source": [
    "import matplotlib\n",
    "matplotlib.pyplot.scatter(X[:,0],X[:,1], c=colors)"
   ]
  },
  {
   "cell_type": "markdown",
   "metadata": {},
   "source": [
    "## 經過 Encoding 後的結果"
   ]
  },
  {
   "cell_type": "code",
   "execution_count": 32,
   "metadata": {},
   "outputs": [
    {
     "data": {
      "text/plain": [
       "<matplotlib.collections.PathCollection at 0x12be64250>"
      ]
     },
     "execution_count": 32,
     "metadata": {},
     "output_type": "execute_result"
    },
    {
     "data": {
      "image/png": "[encoded data removed]",
      "text/plain": [
       "<Figure size 432x288 with 1 Axes>"
      ]
     },
     "metadata": {
      "needs_background": "light"
     },
     "output_type": "display_data"
    }
   ],
   "source": [
    "\n",
    "import matplotlib\n",
    "matplotlib.pyplot.scatter(output[:,0].reshape(34).tolist()[0],output[:,1].reshape(34).tolist()[0], c=colors)"
   ]
  },
  {
   "cell_type": "markdown",
   "metadata": {},
   "source": [
    "# 結論\n",
    "看的出來就算 Weight 是 Random 的但是 D_hat**-1 * A_hat 最為 Filter 就已經有很強的效果了。更直白的說 Adjacent Matrix 就是已經是一個很好的 Encoder，已經可以兩個 Club 給予明顯的區隔"
   ]
  },
  {
   "cell_type": "code",
   "execution_count": null,
   "metadata": {},
   "outputs": [],
   "source": []
  }
 ],
 "metadata": {
  "kernelspec": {
   "display_name": "Python 3",
   "language": "python",
   "name": "python3"
  },
  "language_info": {
   "codemirror_mode": {
    "name": "ipython",
    "version": 3
   },
   "file_extension": ".py",
   "mimetype": "text/x-python",
   "name": "python",
   "nbconvert_exporter": "python",
   "pygments_lexer": "ipython3",
   "version": "3.7.6"
  },
  "pycharm": {
   "stem_cell": {
    "cell_type": "raw",
    "metadata": {
     "collapsed": false
    },
    "source": []
   }
  }
 },
 "nbformat": 4,
 "nbformat_minor": 1
}
