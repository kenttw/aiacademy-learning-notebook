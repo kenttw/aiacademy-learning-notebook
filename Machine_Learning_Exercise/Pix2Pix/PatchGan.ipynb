{
 "cells": [
  {
   "cell_type": "code",
   "execution_count": 2,
   "metadata": {},
   "outputs": [],
   "source": [
    "import tensorflow as tf"
   ]
  },
  {
   "cell_type": "code",
   "execution_count": 6,
   "metadata": {},
   "outputs": [],
   "source": [
    "inp_shape = [512,512,3]\n",
    "model = tf.keras.models.Sequential()\n",
    "model.add(tf.keras.layers.InputLayer(input_shape=inp_shape))\n",
    "model.add(tf.keras.layers.Conv2D(filters=64, kernel_size=4, strides=2, padding='same', activation='relu'))\n",
    "model.add(tf.keras.layers.Conv2D(filters=128, kernel_size=4, strides=2, padding='same', activation='relu'))\n",
    "model.add(tf.keras.layers.Conv2D(filters=256, kernel_size=4, strides=2, padding='same', activation='relu'))\n",
    "model.add(tf.keras.layers.ZeroPadding2D())\n",
    "model.add(tf.keras.layers.Conv2D(filters=512, kernel_size=4, strides=1, padding='valid', activation='relu'))\n",
    "model.add(tf.keras.layers.ZeroPadding2D())\n",
    "model.add(tf.keras.layers.Conv2D(filters=1, kernel_size=4, strides=1, padding='valid', activation='sigmoid'))\n",
    "    \n"
   ]
  },
  {
   "cell_type": "code",
   "execution_count": 7,
   "metadata": {},
   "outputs": [
    {
     "name": "stdout",
     "output_type": "stream",
     "text": [
      "Model: \"sequential_2\"\n",
      "_________________________________________________________________\n",
      "Layer (type)                 Output Shape              Param #   \n",
      "=================================================================\n",
      "conv2d_1 (Conv2D)            (None, 256, 256, 64)      3136      \n",
      "_________________________________________________________________\n",
      "conv2d_2 (Conv2D)            (None, 128, 128, 128)     131200    \n",
      "_________________________________________________________________\n",
      "conv2d_3 (Conv2D)            (None, 64, 64, 256)       524544    \n",
      "_________________________________________________________________\n",
      "zero_padding2d (ZeroPadding2 (None, 66, 66, 256)       0         \n",
      "_________________________________________________________________\n",
      "conv2d_4 (Conv2D)            (None, 63, 63, 512)       2097664   \n",
      "_________________________________________________________________\n",
      "zero_padding2d_1 (ZeroPaddin (None, 65, 65, 512)       0         \n",
      "_________________________________________________________________\n",
      "conv2d_5 (Conv2D)            (None, 62, 62, 1)         8193      \n",
      "=================================================================\n",
      "Total params: 2,764,737\n",
      "Trainable params: 2,764,737\n",
      "Non-trainable params: 0\n",
      "_________________________________________________________________\n"
     ]
    }
   ],
   "source": [
    "model.summary()"
   ]
  }
 ],
 "metadata": {
  "kernelspec": {
   "display_name": "Python 3",
   "language": "python",
   "name": "python3"
  },
  "language_info": {
   "codemirror_mode": {
    "name": "ipython",
    "version": 3
   },
   "file_extension": ".py",
   "mimetype": "text/x-python",
   "name": "python",
   "nbconvert_exporter": "python",
   "pygments_lexer": "ipython3",
   "version": "3.8.5"
  }
 },
 "nbformat": 4,
 "nbformat_minor": 1
}
