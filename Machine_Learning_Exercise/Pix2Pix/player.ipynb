{
  "nbformat": 4,
  "nbformat_minor": 0,
  "metadata": {
    "kernelspec": {
      "display_name": "Python 3",
      "language": "python",
      "name": "python3"
    },
    "language_info": {
      "codemirror_mode": {
        "name": "ipython",
        "version": 2
      },
      "file_extension": ".py",
      "mimetype": "text/x-python",
      "name": "python",
      "nbconvert_exporter": "python",
      "pygments_lexer": "ipython2",
      "version": "2.7.6"
    },
    "colab": {
      "name": "player.ipynb",
      "provenance": [],
      "machine_shape": "hm",
      "include_colab_link": true
    },
    "accelerator": "GPU"
  },
  "cells": [
    {
      "cell_type": "markdown",
      "metadata": {
        "id": "view-in-github",
        "colab_type": "text"
      },
      "source": [
        "<a href=\"https://colab.research.google.com/github/kenttw/kent-ai-learning-notebook/blob/master/Machine_Learning_Exercise/Pix2Pix/player.ipynb\" target=\"_parent\"><img src=\"https://colab.research.google.com/assets/colab-badge.svg\" alt=\"Open In Colab\"/></a>"
      ]
    },
    {
      "cell_type": "code",
      "metadata": {
        "collapsed": true,
        "id": "_ec1hufvQO2l",
        "colab": {
          "base_uri": "https://localhost:8080/"
        },
        "outputId": "7d1118dd-1d53-41d8-910a-1becc4abe34b"
      },
      "source": [
        "!git clone  https://github.com/kenttw/kent-ai-learning-notebook "
      ],
      "execution_count": null,
      "outputs": [
        {
          "output_type": "stream",
          "text": [
            "Cloning into 'kent-ai-learning-notebook'...\n",
            "remote: Enumerating objects: 218, done.\u001b[K\n",
            "remote: Counting objects: 100% (218/218), done.\u001b[K\n",
            "remote: Compressing objects: 100% (146/146), done.\u001b[K\n",
            "remote: Total 655 (delta 146), reused 135 (delta 72), pack-reused 437\u001b[K\n",
            "Receiving objects: 100% (655/655), 105.67 MiB | 17.34 MiB/s, done.\n",
            "Resolving deltas: 100% (361/361), done.\n",
            "Checking out files: 100% (141/141), done.\n"
          ],
          "name": "stdout"
        }
      ]
    },
    {
      "cell_type": "code",
      "metadata": {
        "id": "_4JVfEDUv8pX"
      },
      "source": [
        "!cp -r ./kent-ai-learning-notebook/Machine_Learning_Exercise/Pix2Pix/* ./"
      ],
      "execution_count": null,
      "outputs": []
    },
    {
      "cell_type": "code",
      "metadata": {
        "id": "hA90aSsfxt1Q"
      },
      "source": [
        ""
      ],
      "execution_count": null,
      "outputs": []
    },
    {
      "cell_type": "code",
      "metadata": {
        "colab": {
          "base_uri": "https://localhost:8080/"
        },
        "id": "Y4kUYdAVxzyw",
        "outputId": "ccba887f-fbb9-4c18-f910-e79021923cce"
      },
      "source": [
        "from google.colab import drive\n",
        "drive.mount('/gdrive')"
      ],
      "execution_count": null,
      "outputs": [
        {
          "output_type": "stream",
          "text": [
            "Mounted at /gdrive\n"
          ],
          "name": "stdout"
        }
      ]
    },
    {
      "cell_type": "code",
      "metadata": {
        "id": "9W8FyFlsyHHQ"
      },
      "source": [
        "!cp /gdrive/MyDrive/colab/Pix2Pix/gan_model_162001.h5 ./"
      ],
      "execution_count": null,
      "outputs": []
    },
    {
      "cell_type": "code",
      "metadata": {
        "id": "J5_fDlIJyMHv"
      },
      "source": [
        "!cp /gdrive/MyDrive/colab/Pix2Pix/g_model_162001.h5 ./"
      ],
      "execution_count": null,
      "outputs": []
    },
    {
      "cell_type": "code",
      "metadata": {
        "id": "1jkqiNcuyO0U"
      },
      "source": [
        "!cp /gdrive/MyDrive/colab/Pix2Pix/d_model_162001.h5 ./"
      ],
      "execution_count": null,
      "outputs": []
    },
    {
      "cell_type": "code",
      "metadata": {
        "id": "PSwHeGDHzNkC"
      },
      "source": [
        "!cp /gdrive/MyDrive/colab/Pix2Pix/cat_256_2000.npz ./"
      ],
      "execution_count": null,
      "outputs": []
    },
    {
      "cell_type": "code",
      "metadata": {
        "colab": {
          "base_uri": "https://localhost:8080/"
        },
        "id": "WMhGyjXmyR3k",
        "outputId": "d949ff6a-6888-463c-929a-8354a9be9b47"
      },
      "source": [
        "!pip3 install -r ./kent-ai-learning-notebook/requirements.txt"
      ],
      "execution_count": null,
      "outputs": [
        {
          "output_type": "stream",
          "text": [
            "Requirement already satisfied: tensorflow in /usr/local/lib/python3.6/dist-packages (from -r ./kent-ai-learning-notebook/requirements.txt (line 1)) (2.4.1)\n",
            "Requirement already satisfied: pandas in /usr/local/lib/python3.6/dist-packages (from -r ./kent-ai-learning-notebook/requirements.txt (line 2)) (1.1.5)\n",
            "Requirement already satisfied: networkx in /usr/local/lib/python3.6/dist-packages (from -r ./kent-ai-learning-notebook/requirements.txt (line 3)) (2.5)\n",
            "Collecting colorhash\n",
            "  Downloading https://files.pythonhosted.org/packages/ce/73/e867cd41ab0c15b26f89b0382527e525a2bee8f80ef7ac619fbe16f6ece6/colorhash-1.0.3-py3-none-any.whl\n",
            "Collecting mxnet\n",
            "\u001b[?25l  Downloading https://files.pythonhosted.org/packages/64/20/76af36cad6754a15f39d3bff19e09921dec72b85261e455d4edc50ebffa8/mxnet-1.7.0.post2-py2.py3-none-manylinux2014_x86_64.whl (54.7MB)\n",
            "\u001b[K     |████████████████████████████████| 54.7MB 1.3MB/s \n",
            "\u001b[?25hRequirement already satisfied: numpy in /usr/local/lib/python3.6/dist-packages (from -r ./kent-ai-learning-notebook/requirements.txt (line 6)) (1.19.5)\n",
            "Requirement already satisfied: jupyter in /usr/local/lib/python3.6/dist-packages (from -r ./kent-ai-learning-notebook/requirements.txt (line 7)) (1.0.0)\n",
            "Requirement already satisfied: seaborn in /usr/local/lib/python3.6/dist-packages (from -r ./kent-ai-learning-notebook/requirements.txt (line 8)) (0.11.1)\n",
            "Requirement already satisfied: imbalanced-learn in /usr/local/lib/python3.6/dist-packages (from -r ./kent-ai-learning-notebook/requirements.txt (line 9)) (0.4.3)\n",
            "Requirement already satisfied: keras in /usr/local/lib/python3.6/dist-packages (from -r ./kent-ai-learning-notebook/requirements.txt (line 10)) (2.4.3)\n",
            "Requirement already satisfied: opencv-python in /usr/local/lib/python3.6/dist-packages (from -r ./kent-ai-learning-notebook/requirements.txt (line 11)) (4.1.2.30)\n",
            "Requirement already satisfied: Pillow in /usr/local/lib/python3.6/dist-packages (from -r ./kent-ai-learning-notebook/requirements.txt (line 12)) (7.0.0)\n",
            "Collecting google_images_download\n",
            "  Downloading https://files.pythonhosted.org/packages/18/ed/0319d30c48f3653802da8e6dcfefcea6370157d10d566ef6807cceb5ec4d/google_images_download-2.8.0.tar.gz\n",
            "Collecting selenium\n",
            "\u001b[?25l  Downloading https://files.pythonhosted.org/packages/80/d6/4294f0b4bce4de0abf13e17190289f9d0613b0a44e5dd6a7f5ca98459853/selenium-3.141.0-py2.py3-none-any.whl (904kB)\n",
            "\u001b[K     |████████████████████████████████| 911kB 42.1MB/s \n",
            "\u001b[?25hRequirement already satisfied: scikit-image in /usr/local/lib/python3.6/dist-packages (from -r ./kent-ai-learning-notebook/requirements.txt (line 15)) (0.16.2)\n",
            "Requirement already satisfied: pytest in /usr/local/lib/python3.6/dist-packages (from -r ./kent-ai-learning-notebook/requirements.txt (line 16)) (3.6.4)\n",
            "Requirement already satisfied: tqdm in /usr/local/lib/python3.6/dist-packages (from -r ./kent-ai-learning-notebook/requirements.txt (line 17)) (4.41.1)\n",
            "Requirement already satisfied: grpcio~=1.32.0 in /usr/local/lib/python3.6/dist-packages (from tensorflow->-r ./kent-ai-learning-notebook/requirements.txt (line 1)) (1.32.0)\n",
            "Requirement already satisfied: google-pasta~=0.2 in /usr/local/lib/python3.6/dist-packages (from tensorflow->-r ./kent-ai-learning-notebook/requirements.txt (line 1)) (0.2.0)\n",
            "Requirement already satisfied: tensorflow-estimator<2.5.0,>=2.4.0 in /usr/local/lib/python3.6/dist-packages (from tensorflow->-r ./kent-ai-learning-notebook/requirements.txt (line 1)) (2.4.0)\n",
            "Requirement already satisfied: gast==0.3.3 in /usr/local/lib/python3.6/dist-packages (from tensorflow->-r ./kent-ai-learning-notebook/requirements.txt (line 1)) (0.3.3)\n",
            "Requirement already satisfied: protobuf>=3.9.2 in /usr/local/lib/python3.6/dist-packages (from tensorflow->-r ./kent-ai-learning-notebook/requirements.txt (line 1)) (3.12.4)\n",
            "Requirement already satisfied: typing-extensions~=3.7.4 in /usr/local/lib/python3.6/dist-packages (from tensorflow->-r ./kent-ai-learning-notebook/requirements.txt (line 1)) (3.7.4.3)\n",
            "Requirement already satisfied: flatbuffers~=1.12.0 in /usr/local/lib/python3.6/dist-packages (from tensorflow->-r ./kent-ai-learning-notebook/requirements.txt (line 1)) (1.12)\n",
            "Requirement already satisfied: absl-py~=0.10 in /usr/local/lib/python3.6/dist-packages (from tensorflow->-r ./kent-ai-learning-notebook/requirements.txt (line 1)) (0.10.0)\n",
            "Requirement already satisfied: h5py~=2.10.0 in /usr/local/lib/python3.6/dist-packages (from tensorflow->-r ./kent-ai-learning-notebook/requirements.txt (line 1)) (2.10.0)\n",
            "Requirement already satisfied: six~=1.15.0 in /usr/local/lib/python3.6/dist-packages (from tensorflow->-r ./kent-ai-learning-notebook/requirements.txt (line 1)) (1.15.0)\n",
            "Requirement already satisfied: termcolor~=1.1.0 in /usr/local/lib/python3.6/dist-packages (from tensorflow->-r ./kent-ai-learning-notebook/requirements.txt (line 1)) (1.1.0)\n",
            "Requirement already satisfied: wheel~=0.35 in /usr/local/lib/python3.6/dist-packages (from tensorflow->-r ./kent-ai-learning-notebook/requirements.txt (line 1)) (0.36.2)\n",
            "Requirement already satisfied: tensorboard~=2.4 in /usr/local/lib/python3.6/dist-packages (from tensorflow->-r ./kent-ai-learning-notebook/requirements.txt (line 1)) (2.4.1)\n",
            "Requirement already satisfied: wrapt~=1.12.1 in /usr/local/lib/python3.6/dist-packages (from tensorflow->-r ./kent-ai-learning-notebook/requirements.txt (line 1)) (1.12.1)\n",
            "Requirement already satisfied: astunparse~=1.6.3 in /usr/local/lib/python3.6/dist-packages (from tensorflow->-r ./kent-ai-learning-notebook/requirements.txt (line 1)) (1.6.3)\n",
            "Requirement already satisfied: keras-preprocessing~=1.1.2 in /usr/local/lib/python3.6/dist-packages (from tensorflow->-r ./kent-ai-learning-notebook/requirements.txt (line 1)) (1.1.2)\n",
            "Requirement already satisfied: opt-einsum~=3.3.0 in /usr/local/lib/python3.6/dist-packages (from tensorflow->-r ./kent-ai-learning-notebook/requirements.txt (line 1)) (3.3.0)\n",
            "Requirement already satisfied: pytz>=2017.2 in /usr/local/lib/python3.6/dist-packages (from pandas->-r ./kent-ai-learning-notebook/requirements.txt (line 2)) (2018.9)\n",
            "Requirement already satisfied: python-dateutil>=2.7.3 in /usr/local/lib/python3.6/dist-packages (from pandas->-r ./kent-ai-learning-notebook/requirements.txt (line 2)) (2.8.1)\n",
            "Requirement already satisfied: decorator>=4.3.0 in /usr/local/lib/python3.6/dist-packages (from networkx->-r ./kent-ai-learning-notebook/requirements.txt (line 3)) (4.4.2)\n",
            "Collecting graphviz<0.9.0,>=0.8.1\n",
            "  Downloading https://files.pythonhosted.org/packages/53/39/4ab213673844e0c004bed8a0781a0721a3f6bb23eb8854ee75c236428892/graphviz-0.8.4-py2.py3-none-any.whl\n",
            "Requirement already satisfied: requests<3,>=2.20.0 in /usr/local/lib/python3.6/dist-packages (from mxnet->-r ./kent-ai-learning-notebook/requirements.txt (line 5)) (2.23.0)\n",
            "Requirement already satisfied: qtconsole in /usr/local/lib/python3.6/dist-packages (from jupyter->-r ./kent-ai-learning-notebook/requirements.txt (line 7)) (5.0.2)\n",
            "Requirement already satisfied: ipykernel in /usr/local/lib/python3.6/dist-packages (from jupyter->-r ./kent-ai-learning-notebook/requirements.txt (line 7)) (4.10.1)\n",
            "Requirement already satisfied: nbconvert in /usr/local/lib/python3.6/dist-packages (from jupyter->-r ./kent-ai-learning-notebook/requirements.txt (line 7)) (5.6.1)\n",
            "Requirement already satisfied: jupyter-console in /usr/local/lib/python3.6/dist-packages (from jupyter->-r ./kent-ai-learning-notebook/requirements.txt (line 7)) (5.2.0)\n",
            "Requirement already satisfied: notebook in /usr/local/lib/python3.6/dist-packages (from jupyter->-r ./kent-ai-learning-notebook/requirements.txt (line 7)) (5.3.1)\n",
            "Requirement already satisfied: ipywidgets in /usr/local/lib/python3.6/dist-packages (from jupyter->-r ./kent-ai-learning-notebook/requirements.txt (line 7)) (7.6.3)\n",
            "Requirement already satisfied: scipy>=1.0 in /usr/local/lib/python3.6/dist-packages (from seaborn->-r ./kent-ai-learning-notebook/requirements.txt (line 8)) (1.4.1)\n",
            "Requirement already satisfied: matplotlib>=2.2 in /usr/local/lib/python3.6/dist-packages (from seaborn->-r ./kent-ai-learning-notebook/requirements.txt (line 8)) (3.2.2)\n",
            "Requirement already satisfied: scikit-learn>=0.20 in /usr/local/lib/python3.6/dist-packages (from imbalanced-learn->-r ./kent-ai-learning-notebook/requirements.txt (line 9)) (0.22.2.post1)\n",
            "Requirement already satisfied: pyyaml in /usr/local/lib/python3.6/dist-packages (from keras->-r ./kent-ai-learning-notebook/requirements.txt (line 10)) (3.13)\n",
            "Requirement already satisfied: urllib3 in /usr/local/lib/python3.6/dist-packages (from selenium->-r ./kent-ai-learning-notebook/requirements.txt (line 14)) (1.24.3)\n",
            "Requirement already satisfied: PyWavelets>=0.4.0 in /usr/local/lib/python3.6/dist-packages (from scikit-image->-r ./kent-ai-learning-notebook/requirements.txt (line 15)) (1.1.1)\n",
            "Requirement already satisfied: imageio>=2.3.0 in /usr/local/lib/python3.6/dist-packages (from scikit-image->-r ./kent-ai-learning-notebook/requirements.txt (line 15)) (2.4.1)\n",
            "Requirement already satisfied: pluggy<0.8,>=0.5 in /usr/local/lib/python3.6/dist-packages (from pytest->-r ./kent-ai-learning-notebook/requirements.txt (line 16)) (0.7.1)\n",
            "Requirement already satisfied: py>=1.5.0 in /usr/local/lib/python3.6/dist-packages (from pytest->-r ./kent-ai-learning-notebook/requirements.txt (line 16)) (1.10.0)\n",
            "Requirement already satisfied: more-itertools>=4.0.0 in /usr/local/lib/python3.6/dist-packages (from pytest->-r ./kent-ai-learning-notebook/requirements.txt (line 16)) (8.6.0)\n",
            "Requirement already satisfied: atomicwrites>=1.0 in /usr/local/lib/python3.6/dist-packages (from pytest->-r ./kent-ai-learning-notebook/requirements.txt (line 16)) (1.4.0)\n",
            "Requirement already satisfied: attrs>=17.4.0 in /usr/local/lib/python3.6/dist-packages (from pytest->-r ./kent-ai-learning-notebook/requirements.txt (line 16)) (20.3.0)\n",
            "Requirement already satisfied: setuptools in /usr/local/lib/python3.6/dist-packages (from pytest->-r ./kent-ai-learning-notebook/requirements.txt (line 16)) (53.0.0)\n",
            "Requirement already satisfied: werkzeug>=0.11.15 in /usr/local/lib/python3.6/dist-packages (from tensorboard~=2.4->tensorflow->-r ./kent-ai-learning-notebook/requirements.txt (line 1)) (1.0.1)\n",
            "Requirement already satisfied: tensorboard-plugin-wit>=1.6.0 in /usr/local/lib/python3.6/dist-packages (from tensorboard~=2.4->tensorflow->-r ./kent-ai-learning-notebook/requirements.txt (line 1)) (1.8.0)\n",
            "Requirement already satisfied: google-auth<2,>=1.6.3 in /usr/local/lib/python3.6/dist-packages (from tensorboard~=2.4->tensorflow->-r ./kent-ai-learning-notebook/requirements.txt (line 1)) (1.25.0)\n",
            "Requirement already satisfied: google-auth-oauthlib<0.5,>=0.4.1 in /usr/local/lib/python3.6/dist-packages (from tensorboard~=2.4->tensorflow->-r ./kent-ai-learning-notebook/requirements.txt (line 1)) (0.4.2)\n",
            "Requirement already satisfied: markdown>=2.6.8 in /usr/local/lib/python3.6/dist-packages (from tensorboard~=2.4->tensorflow->-r ./kent-ai-learning-notebook/requirements.txt (line 1)) (3.3.3)\n",
            "Requirement already satisfied: chardet<4,>=3.0.2 in /usr/local/lib/python3.6/dist-packages (from requests<3,>=2.20.0->mxnet->-r ./kent-ai-learning-notebook/requirements.txt (line 5)) (3.0.4)\n",
            "Requirement already satisfied: idna<3,>=2.5 in /usr/local/lib/python3.6/dist-packages (from requests<3,>=2.20.0->mxnet->-r ./kent-ai-learning-notebook/requirements.txt (line 5)) (2.10)\n",
            "Requirement already satisfied: certifi>=2017.4.17 in /usr/local/lib/python3.6/dist-packages (from requests<3,>=2.20.0->mxnet->-r ./kent-ai-learning-notebook/requirements.txt (line 5)) (2020.12.5)\n",
            "Requirement already satisfied: pyzmq>=17.1 in /usr/local/lib/python3.6/dist-packages (from qtconsole->jupyter->-r ./kent-ai-learning-notebook/requirements.txt (line 7)) (22.0.2)\n",
            "Requirement already satisfied: jupyter-client>=4.1 in /usr/local/lib/python3.6/dist-packages (from qtconsole->jupyter->-r ./kent-ai-learning-notebook/requirements.txt (line 7)) (5.3.5)\n",
            "Requirement already satisfied: pygments in /usr/local/lib/python3.6/dist-packages (from qtconsole->jupyter->-r ./kent-ai-learning-notebook/requirements.txt (line 7)) (2.6.1)\n",
            "Requirement already satisfied: jupyter-core in /usr/local/lib/python3.6/dist-packages (from qtconsole->jupyter->-r ./kent-ai-learning-notebook/requirements.txt (line 7)) (4.7.1)\n",
            "Requirement already satisfied: traitlets in /usr/local/lib/python3.6/dist-packages (from qtconsole->jupyter->-r ./kent-ai-learning-notebook/requirements.txt (line 7)) (4.3.3)\n",
            "Requirement already satisfied: qtpy in /usr/local/lib/python3.6/dist-packages (from qtconsole->jupyter->-r ./kent-ai-learning-notebook/requirements.txt (line 7)) (1.9.0)\n",
            "Requirement already satisfied: ipython-genutils in /usr/local/lib/python3.6/dist-packages (from qtconsole->jupyter->-r ./kent-ai-learning-notebook/requirements.txt (line 7)) (0.2.0)\n",
            "Requirement already satisfied: ipython>=4.0.0 in /usr/local/lib/python3.6/dist-packages (from ipykernel->jupyter->-r ./kent-ai-learning-notebook/requirements.txt (line 7)) (5.5.0)\n",
            "Requirement already satisfied: tornado>=4.0 in /usr/local/lib/python3.6/dist-packages (from ipykernel->jupyter->-r ./kent-ai-learning-notebook/requirements.txt (line 7)) (5.1.1)\n",
            "Requirement already satisfied: mistune<2,>=0.8.1 in /usr/local/lib/python3.6/dist-packages (from nbconvert->jupyter->-r ./kent-ai-learning-notebook/requirements.txt (line 7)) (0.8.4)\n",
            "Requirement already satisfied: jinja2>=2.4 in /usr/local/lib/python3.6/dist-packages (from nbconvert->jupyter->-r ./kent-ai-learning-notebook/requirements.txt (line 7)) (2.11.3)\n",
            "Requirement already satisfied: nbformat>=4.4 in /usr/local/lib/python3.6/dist-packages (from nbconvert->jupyter->-r ./kent-ai-learning-notebook/requirements.txt (line 7)) (5.1.2)\n",
            "Requirement already satisfied: defusedxml in /usr/local/lib/python3.6/dist-packages (from nbconvert->jupyter->-r ./kent-ai-learning-notebook/requirements.txt (line 7)) (0.6.0)\n",
            "Requirement already satisfied: entrypoints>=0.2.2 in /usr/local/lib/python3.6/dist-packages (from nbconvert->jupyter->-r ./kent-ai-learning-notebook/requirements.txt (line 7)) (0.3)\n",
            "Requirement already satisfied: pandocfilters>=1.4.1 in /usr/local/lib/python3.6/dist-packages (from nbconvert->jupyter->-r ./kent-ai-learning-notebook/requirements.txt (line 7)) (1.4.3)\n",
            "Requirement already satisfied: testpath in /usr/local/lib/python3.6/dist-packages (from nbconvert->jupyter->-r ./kent-ai-learning-notebook/requirements.txt (line 7)) (0.4.4)\n",
            "Requirement already satisfied: bleach in /usr/local/lib/python3.6/dist-packages (from nbconvert->jupyter->-r ./kent-ai-learning-notebook/requirements.txt (line 7)) (3.3.0)\n",
            "Requirement already satisfied: prompt-toolkit<2.0.0,>=1.0.0 in /usr/local/lib/python3.6/dist-packages (from jupyter-console->jupyter->-r ./kent-ai-learning-notebook/requirements.txt (line 7)) (1.0.18)\n",
            "Requirement already satisfied: Send2Trash in /usr/local/lib/python3.6/dist-packages (from notebook->jupyter->-r ./kent-ai-learning-notebook/requirements.txt (line 7)) (1.5.0)\n",
            "Requirement already satisfied: terminado>=0.8.1 in /usr/local/lib/python3.6/dist-packages (from notebook->jupyter->-r ./kent-ai-learning-notebook/requirements.txt (line 7)) (0.9.2)\n",
            "Requirement already satisfied: widgetsnbextension~=3.5.0 in /usr/local/lib/python3.6/dist-packages (from ipywidgets->jupyter->-r ./kent-ai-learning-notebook/requirements.txt (line 7)) (3.5.1)\n",
            "Requirement already satisfied: jupyterlab-widgets>=1.0.0; python_version >= \"3.6\" in /usr/local/lib/python3.6/dist-packages (from ipywidgets->jupyter->-r ./kent-ai-learning-notebook/requirements.txt (line 7)) (1.0.0)\n",
            "Requirement already satisfied: kiwisolver>=1.0.1 in /usr/local/lib/python3.6/dist-packages (from matplotlib>=2.2->seaborn->-r ./kent-ai-learning-notebook/requirements.txt (line 8)) (1.3.1)\n",
            "Requirement already satisfied: pyparsing!=2.0.4,!=2.1.2,!=2.1.6,>=2.0.1 in /usr/local/lib/python3.6/dist-packages (from matplotlib>=2.2->seaborn->-r ./kent-ai-learning-notebook/requirements.txt (line 8)) (2.4.7)\n",
            "Requirement already satisfied: cycler>=0.10 in /usr/local/lib/python3.6/dist-packages (from matplotlib>=2.2->seaborn->-r ./kent-ai-learning-notebook/requirements.txt (line 8)) (0.10.0)\n",
            "Requirement already satisfied: joblib>=0.11 in /usr/local/lib/python3.6/dist-packages (from scikit-learn>=0.20->imbalanced-learn->-r ./kent-ai-learning-notebook/requirements.txt (line 9)) (1.0.0)\n",
            "Requirement already satisfied: rsa<5,>=3.1.4; python_version >= \"3.6\" in /usr/local/lib/python3.6/dist-packages (from google-auth<2,>=1.6.3->tensorboard~=2.4->tensorflow->-r ./kent-ai-learning-notebook/requirements.txt (line 1)) (4.7)\n",
            "Requirement already satisfied: cachetools<5.0,>=2.0.0 in /usr/local/lib/python3.6/dist-packages (from google-auth<2,>=1.6.3->tensorboard~=2.4->tensorflow->-r ./kent-ai-learning-notebook/requirements.txt (line 1)) (4.2.1)\n",
            "Requirement already satisfied: pyasn1-modules>=0.2.1 in /usr/local/lib/python3.6/dist-packages (from google-auth<2,>=1.6.3->tensorboard~=2.4->tensorflow->-r ./kent-ai-learning-notebook/requirements.txt (line 1)) (0.2.8)\n",
            "Requirement already satisfied: requests-oauthlib>=0.7.0 in /usr/local/lib/python3.6/dist-packages (from google-auth-oauthlib<0.5,>=0.4.1->tensorboard~=2.4->tensorflow->-r ./kent-ai-learning-notebook/requirements.txt (line 1)) (1.3.0)\n",
            "Requirement already satisfied: importlib-metadata; python_version < \"3.8\" in /usr/local/lib/python3.6/dist-packages (from markdown>=2.6.8->tensorboard~=2.4->tensorflow->-r ./kent-ai-learning-notebook/requirements.txt (line 1)) (3.4.0)\n",
            "Requirement already satisfied: pexpect; sys_platform != \"win32\" in /usr/local/lib/python3.6/dist-packages (from ipython>=4.0.0->ipykernel->jupyter->-r ./kent-ai-learning-notebook/requirements.txt (line 7)) (4.8.0)\n",
            "Requirement already satisfied: simplegeneric>0.8 in /usr/local/lib/python3.6/dist-packages (from ipython>=4.0.0->ipykernel->jupyter->-r ./kent-ai-learning-notebook/requirements.txt (line 7)) (0.8.1)\n",
            "Requirement already satisfied: pickleshare in /usr/local/lib/python3.6/dist-packages (from ipython>=4.0.0->ipykernel->jupyter->-r ./kent-ai-learning-notebook/requirements.txt (line 7)) (0.7.5)\n",
            "Requirement already satisfied: MarkupSafe>=0.23 in /usr/local/lib/python3.6/dist-packages (from jinja2>=2.4->nbconvert->jupyter->-r ./kent-ai-learning-notebook/requirements.txt (line 7)) (1.1.1)\n",
            "Requirement already satisfied: jsonschema!=2.5.0,>=2.4 in /usr/local/lib/python3.6/dist-packages (from nbformat>=4.4->nbconvert->jupyter->-r ./kent-ai-learning-notebook/requirements.txt (line 7)) (2.6.0)\n",
            "Requirement already satisfied: webencodings in /usr/local/lib/python3.6/dist-packages (from bleach->nbconvert->jupyter->-r ./kent-ai-learning-notebook/requirements.txt (line 7)) (0.5.1)\n",
            "Requirement already satisfied: packaging in /usr/local/lib/python3.6/dist-packages (from bleach->nbconvert->jupyter->-r ./kent-ai-learning-notebook/requirements.txt (line 7)) (20.9)\n",
            "Requirement already satisfied: wcwidth in /usr/local/lib/python3.6/dist-packages (from prompt-toolkit<2.0.0,>=1.0.0->jupyter-console->jupyter->-r ./kent-ai-learning-notebook/requirements.txt (line 7)) (0.2.5)\n",
            "Requirement already satisfied: ptyprocess; os_name != \"nt\" in /usr/local/lib/python3.6/dist-packages (from terminado>=0.8.1->notebook->jupyter->-r ./kent-ai-learning-notebook/requirements.txt (line 7)) (0.7.0)\n",
            "Requirement already satisfied: pyasn1>=0.1.3 in /usr/local/lib/python3.6/dist-packages (from rsa<5,>=3.1.4; python_version >= \"3.6\"->google-auth<2,>=1.6.3->tensorboard~=2.4->tensorflow->-r ./kent-ai-learning-notebook/requirements.txt (line 1)) (0.4.8)\n",
            "Requirement already satisfied: oauthlib>=3.0.0 in /usr/local/lib/python3.6/dist-packages (from requests-oauthlib>=0.7.0->google-auth-oauthlib<0.5,>=0.4.1->tensorboard~=2.4->tensorflow->-r ./kent-ai-learning-notebook/requirements.txt (line 1)) (3.1.0)\n",
            "Requirement already satisfied: zipp>=0.5 in /usr/local/lib/python3.6/dist-packages (from importlib-metadata; python_version < \"3.8\"->markdown>=2.6.8->tensorboard~=2.4->tensorflow->-r ./kent-ai-learning-notebook/requirements.txt (line 1)) (3.4.0)\n",
            "Building wheels for collected packages: google-images-download\n",
            "  Building wheel for google-images-download (setup.py) ... \u001b[?25l\u001b[?25hdone\n",
            "  Created wheel for google-images-download: filename=google_images_download-2.8.0-py2.py3-none-any.whl size=14549 sha256=fe981ee5bf140dc4ad9c94e6cb4c6db7faae3ab1fb693edfa0c7120d067b6e6f\n",
            "  Stored in directory: /root/.cache/pip/wheels/1f/28/ad/f56e7061e1d2a9a1affe2f9c649c2570cb9198dd24ede0bbab\n",
            "Successfully built google-images-download\n",
            "Installing collected packages: colorhash, graphviz, mxnet, selenium, google-images-download\n",
            "  Found existing installation: graphviz 0.10.1\n",
            "    Uninstalling graphviz-0.10.1:\n",
            "      Successfully uninstalled graphviz-0.10.1\n",
            "Successfully installed colorhash-1.0.3 google-images-download-2.8.0 graphviz-0.8.4 mxnet-1.7.0.post2 selenium-3.141.0\n"
          ],
          "name": "stdout"
        }
      ]
    },
    {
      "cell_type": "code",
      "metadata": {
        "colab": {
          "base_uri": "https://localhost:8080/"
        },
        "id": "X0_lRtPpyvJT",
        "outputId": "7d8c609e-3e6e-4c01-ce1c-39cee076c798"
      },
      "source": [
        "from pydrive.auth import GoogleAuth\n",
        "from pydrive.drive import GoogleDrive\n",
        "from google.colab import auth\n",
        "from oauth2client.client import GoogleCredentials\n",
        "\n",
        "# Authenticate and create the PyDrive client.\n",
        "# This only needs to be done once in a notebook.\n",
        "auth.authenticate_user()\n",
        "gauth = GoogleAuth()\n",
        "gauth.credentials = GoogleCredentials.get_application_default()\n",
        "drive = GoogleDrive(gauth)\n",
        "\n",
        "import player\n",
        "from tensorflow import keras\n",
        "\n",
        "import sys\n",
        "\n",
        "\n",
        "LOAD_MODEL = True\n",
        "\n",
        "\n",
        "number = 162001\n",
        "\n",
        "image_shape=(256, 512, 3)\n",
        "d_model = player.define_discriminator(image_shape)\n",
        "if LOAD_MODEL : d_model.load_weights(\"d_model_%06d.h5\" % (number))\n",
        "print(d_model.summary())\n",
        "\n",
        "\n",
        "g_model = player.define_generator(image_shape)\n",
        "if LOAD_MODEL : g_model.load_weights(\"g_model_%06d.h5\" % (number))\n",
        "print(g_model.summary())\n",
        "\n",
        "gan_model = player.define_gan(g_model, d_model, image_shape)\n",
        "if LOAD_MODEL : gan_model.load_weights(\"gan_model_%06d.h5\" % (number))\n",
        "\n",
        "\n",
        "# load real sample and do normalize\n",
        "dataset = player.load_real_samples('cat_256_2000.npz')\n",
        "\n",
        "# train model\n",
        "player.train(d_model, g_model, gan_model, dataset,n_batch=2,start=number)"
      ],
      "execution_count": null,
      "outputs": [
        {
          "output_type": "stream",
          "text": [
            "Model: \"model_3\"\n",
            "__________________________________________________________________________________________________\n",
            "Layer (type)                    Output Shape         Param #     Connected to                     \n",
            "==================================================================================================\n",
            "input_5 (InputLayer)            [(None, 256, 512, 3) 0                                            \n",
            "__________________________________________________________________________________________________\n",
            "input_6 (InputLayer)            [(None, 256, 512, 3) 0                                            \n",
            "__________________________________________________________________________________________________\n",
            "concatenate_8 (Concatenate)     (None, 256, 512, 6)  0           input_5[0][0]                    \n",
            "                                                                 input_6[0][0]                    \n",
            "__________________________________________________________________________________________________\n",
            "conv2d_14 (Conv2D)              (None, 128, 256, 64) 6208        concatenate_8[0][0]              \n",
            "__________________________________________________________________________________________________\n",
            "leaky_re_lu_12 (LeakyReLU)      (None, 128, 256, 64) 0           conv2d_14[0][0]                  \n",
            "__________________________________________________________________________________________________\n",
            "conv2d_15 (Conv2D)              (None, 64, 128, 128) 131200      leaky_re_lu_12[0][0]             \n",
            "__________________________________________________________________________________________________\n",
            "batch_normalization_17 (BatchNo (None, 64, 128, 128) 512         conv2d_15[0][0]                  \n",
            "__________________________________________________________________________________________________\n",
            "leaky_re_lu_13 (LeakyReLU)      (None, 64, 128, 128) 0           batch_normalization_17[0][0]     \n",
            "__________________________________________________________________________________________________\n",
            "conv2d_16 (Conv2D)              (None, 32, 64, 256)  524544      leaky_re_lu_13[0][0]             \n",
            "__________________________________________________________________________________________________\n",
            "batch_normalization_18 (BatchNo (None, 32, 64, 256)  1024        conv2d_16[0][0]                  \n",
            "__________________________________________________________________________________________________\n",
            "leaky_re_lu_14 (LeakyReLU)      (None, 32, 64, 256)  0           batch_normalization_18[0][0]     \n",
            "__________________________________________________________________________________________________\n",
            "conv2d_17 (Conv2D)              (None, 16, 32, 512)  2097664     leaky_re_lu_14[0][0]             \n",
            "__________________________________________________________________________________________________\n",
            "batch_normalization_19 (BatchNo (None, 16, 32, 512)  2048        conv2d_17[0][0]                  \n",
            "__________________________________________________________________________________________________\n",
            "leaky_re_lu_15 (LeakyReLU)      (None, 16, 32, 512)  0           batch_normalization_19[0][0]     \n",
            "__________________________________________________________________________________________________\n",
            "conv2d_18 (Conv2D)              (None, 16, 32, 512)  4194816     leaky_re_lu_15[0][0]             \n",
            "__________________________________________________________________________________________________\n",
            "batch_normalization_20 (BatchNo (None, 16, 32, 512)  2048        conv2d_18[0][0]                  \n",
            "__________________________________________________________________________________________________\n",
            "leaky_re_lu_16 (LeakyReLU)      (None, 16, 32, 512)  0           batch_normalization_20[0][0]     \n",
            "__________________________________________________________________________________________________\n",
            "conv2d_19 (Conv2D)              (None, 16, 32, 1)    8193        leaky_re_lu_16[0][0]             \n",
            "__________________________________________________________________________________________________\n",
            "activation_10 (Activation)      (None, 16, 32, 1)    0           conv2d_19[0][0]                  \n",
            "==================================================================================================\n",
            "Total params: 6,968,257\n",
            "Trainable params: 6,965,441\n",
            "Non-trainable params: 2,816\n",
            "__________________________________________________________________________________________________\n",
            "None\n",
            "Model: \"model_4\"\n",
            "__________________________________________________________________________________________________\n",
            "Layer (type)                    Output Shape         Param #     Connected to                     \n",
            "==================================================================================================\n",
            "input_7 (InputLayer)            [(None, 256, 512, 3) 0                                            \n",
            "__________________________________________________________________________________________________\n",
            "conv2d_20 (Conv2D)              (None, 128, 256, 64) 3136        input_7[0][0]                    \n",
            "__________________________________________________________________________________________________\n",
            "leaky_re_lu_17 (LeakyReLU)      (None, 128, 256, 64) 0           conv2d_20[0][0]                  \n",
            "__________________________________________________________________________________________________\n",
            "conv2d_21 (Conv2D)              (None, 64, 128, 128) 131200      leaky_re_lu_17[0][0]             \n",
            "__________________________________________________________________________________________________\n",
            "batch_normalization_21 (BatchNo (None, 64, 128, 128) 512         conv2d_21[0][0]                  \n",
            "__________________________________________________________________________________________________\n",
            "leaky_re_lu_18 (LeakyReLU)      (None, 64, 128, 128) 0           batch_normalization_21[0][0]     \n",
            "__________________________________________________________________________________________________\n",
            "conv2d_22 (Conv2D)              (None, 32, 64, 256)  524544      leaky_re_lu_18[0][0]             \n",
            "__________________________________________________________________________________________________\n",
            "batch_normalization_22 (BatchNo (None, 32, 64, 256)  1024        conv2d_22[0][0]                  \n",
            "__________________________________________________________________________________________________\n",
            "leaky_re_lu_19 (LeakyReLU)      (None, 32, 64, 256)  0           batch_normalization_22[0][0]     \n",
            "__________________________________________________________________________________________________\n",
            "conv2d_23 (Conv2D)              (None, 16, 32, 512)  2097664     leaky_re_lu_19[0][0]             \n",
            "__________________________________________________________________________________________________\n",
            "batch_normalization_23 (BatchNo (None, 16, 32, 512)  2048        conv2d_23[0][0]                  \n",
            "__________________________________________________________________________________________________\n",
            "leaky_re_lu_20 (LeakyReLU)      (None, 16, 32, 512)  0           batch_normalization_23[0][0]     \n",
            "__________________________________________________________________________________________________\n",
            "conv2d_24 (Conv2D)              (None, 8, 16, 512)   4194816     leaky_re_lu_20[0][0]             \n",
            "__________________________________________________________________________________________________\n",
            "batch_normalization_24 (BatchNo (None, 8, 16, 512)   2048        conv2d_24[0][0]                  \n",
            "__________________________________________________________________________________________________\n",
            "leaky_re_lu_21 (LeakyReLU)      (None, 8, 16, 512)   0           batch_normalization_24[0][0]     \n",
            "__________________________________________________________________________________________________\n",
            "conv2d_25 (Conv2D)              (None, 4, 8, 512)    4194816     leaky_re_lu_21[0][0]             \n",
            "__________________________________________________________________________________________________\n",
            "batch_normalization_25 (BatchNo (None, 4, 8, 512)    2048        conv2d_25[0][0]                  \n",
            "__________________________________________________________________________________________________\n",
            "leaky_re_lu_22 (LeakyReLU)      (None, 4, 8, 512)    0           batch_normalization_25[0][0]     \n",
            "__________________________________________________________________________________________________\n",
            "conv2d_26 (Conv2D)              (None, 2, 4, 512)    4194816     leaky_re_lu_22[0][0]             \n",
            "__________________________________________________________________________________________________\n",
            "batch_normalization_26 (BatchNo (None, 2, 4, 512)    2048        conv2d_26[0][0]                  \n",
            "__________________________________________________________________________________________________\n",
            "leaky_re_lu_23 (LeakyReLU)      (None, 2, 4, 512)    0           batch_normalization_26[0][0]     \n",
            "__________________________________________________________________________________________________\n",
            "conv2d_27 (Conv2D)              (None, 1, 2, 512)    4194816     leaky_re_lu_23[0][0]             \n",
            "__________________________________________________________________________________________________\n",
            "activation_11 (Activation)      (None, 1, 2, 512)    0           conv2d_27[0][0]                  \n",
            "__________________________________________________________________________________________________\n",
            "conv2d_transpose_8 (Conv2DTrans (None, 2, 4, 512)    4194816     activation_11[0][0]              \n",
            "__________________________________________________________________________________________________\n",
            "batch_normalization_27 (BatchNo (None, 2, 4, 512)    2048        conv2d_transpose_8[0][0]         \n",
            "__________________________________________________________________________________________________\n",
            "dropout_3 (Dropout)             (None, 2, 4, 512)    0           batch_normalization_27[0][0]     \n",
            "__________________________________________________________________________________________________\n",
            "concatenate_9 (Concatenate)     (None, 2, 4, 1024)   0           dropout_3[0][0]                  \n",
            "                                                                 leaky_re_lu_23[0][0]             \n",
            "__________________________________________________________________________________________________\n",
            "activation_12 (Activation)      (None, 2, 4, 1024)   0           concatenate_9[0][0]              \n",
            "__________________________________________________________________________________________________\n",
            "conv2d_transpose_9 (Conv2DTrans (None, 4, 8, 512)    8389120     activation_12[0][0]              \n",
            "__________________________________________________________________________________________________\n",
            "batch_normalization_28 (BatchNo (None, 4, 8, 512)    2048        conv2d_transpose_9[0][0]         \n",
            "__________________________________________________________________________________________________\n",
            "dropout_4 (Dropout)             (None, 4, 8, 512)    0           batch_normalization_28[0][0]     \n",
            "__________________________________________________________________________________________________\n",
            "concatenate_10 (Concatenate)    (None, 4, 8, 1024)   0           dropout_4[0][0]                  \n",
            "                                                                 leaky_re_lu_22[0][0]             \n",
            "__________________________________________________________________________________________________\n",
            "activation_13 (Activation)      (None, 4, 8, 1024)   0           concatenate_10[0][0]             \n",
            "__________________________________________________________________________________________________\n",
            "conv2d_transpose_10 (Conv2DTran (None, 8, 16, 512)   8389120     activation_13[0][0]              \n",
            "__________________________________________________________________________________________________\n",
            "batch_normalization_29 (BatchNo (None, 8, 16, 512)   2048        conv2d_transpose_10[0][0]        \n",
            "__________________________________________________________________________________________________\n",
            "dropout_5 (Dropout)             (None, 8, 16, 512)   0           batch_normalization_29[0][0]     \n",
            "__________________________________________________________________________________________________\n",
            "concatenate_11 (Concatenate)    (None, 8, 16, 1024)  0           dropout_5[0][0]                  \n",
            "                                                                 leaky_re_lu_21[0][0]             \n",
            "__________________________________________________________________________________________________\n",
            "activation_14 (Activation)      (None, 8, 16, 1024)  0           concatenate_11[0][0]             \n",
            "__________________________________________________________________________________________________\n",
            "conv2d_transpose_11 (Conv2DTran (None, 16, 32, 512)  8389120     activation_14[0][0]              \n",
            "__________________________________________________________________________________________________\n",
            "batch_normalization_30 (BatchNo (None, 16, 32, 512)  2048        conv2d_transpose_11[0][0]        \n",
            "__________________________________________________________________________________________________\n",
            "concatenate_12 (Concatenate)    (None, 16, 32, 1024) 0           batch_normalization_30[0][0]     \n",
            "                                                                 leaky_re_lu_20[0][0]             \n",
            "__________________________________________________________________________________________________\n",
            "activation_15 (Activation)      (None, 16, 32, 1024) 0           concatenate_12[0][0]             \n",
            "__________________________________________________________________________________________________\n",
            "conv2d_transpose_12 (Conv2DTran (None, 32, 64, 256)  4194560     activation_15[0][0]              \n",
            "__________________________________________________________________________________________________\n",
            "batch_normalization_31 (BatchNo (None, 32, 64, 256)  1024        conv2d_transpose_12[0][0]        \n",
            "__________________________________________________________________________________________________\n",
            "concatenate_13 (Concatenate)    (None, 32, 64, 512)  0           batch_normalization_31[0][0]     \n",
            "                                                                 leaky_re_lu_19[0][0]             \n",
            "__________________________________________________________________________________________________\n",
            "activation_16 (Activation)      (None, 32, 64, 512)  0           concatenate_13[0][0]             \n",
            "__________________________________________________________________________________________________\n",
            "conv2d_transpose_13 (Conv2DTran (None, 64, 128, 128) 1048704     activation_16[0][0]              \n",
            "__________________________________________________________________________________________________\n",
            "batch_normalization_32 (BatchNo (None, 64, 128, 128) 512         conv2d_transpose_13[0][0]        \n",
            "__________________________________________________________________________________________________\n",
            "concatenate_14 (Concatenate)    (None, 64, 128, 256) 0           batch_normalization_32[0][0]     \n",
            "                                                                 leaky_re_lu_18[0][0]             \n",
            "__________________________________________________________________________________________________\n",
            "activation_17 (Activation)      (None, 64, 128, 256) 0           concatenate_14[0][0]             \n",
            "__________________________________________________________________________________________________\n",
            "conv2d_transpose_14 (Conv2DTran (None, 128, 256, 64) 262208      activation_17[0][0]              \n",
            "__________________________________________________________________________________________________\n",
            "batch_normalization_33 (BatchNo (None, 128, 256, 64) 256         conv2d_transpose_14[0][0]        \n",
            "__________________________________________________________________________________________________\n",
            "concatenate_15 (Concatenate)    (None, 128, 256, 128 0           batch_normalization_33[0][0]     \n",
            "                                                                 leaky_re_lu_17[0][0]             \n",
            "__________________________________________________________________________________________________\n",
            "activation_18 (Activation)      (None, 128, 256, 128 0           concatenate_15[0][0]             \n",
            "__________________________________________________________________________________________________\n",
            "conv2d_transpose_15 (Conv2DTran (None, 256, 512, 3)  6147        activation_18[0][0]              \n",
            "__________________________________________________________________________________________________\n",
            "activation_19 (Activation)      (None, 256, 512, 3)  0           conv2d_transpose_15[0][0]        \n",
            "==================================================================================================\n",
            "Total params: 54,429,315\n",
            "Trainable params: 54,419,459\n",
            "Non-trainable params: 9,856\n",
            "__________________________________________________________________________________________________\n",
            "None\n"
          ],
          "name": "stdout"
        },
        {
          "output_type": "stream",
          "text": [
            "\n",
            "  0%|          | 0/100000 [00:00<?, ?it/s]\u001b[A\n",
            "  0%|          | 1/100000 [00:02<77:12:33,  2.78s/it]\u001b[A\n",
            "  0%|          | 2/100000 [00:02<55:38:05,  2.00s/it]\u001b[A"
          ],
          "name": "stderr"
        },
        {
          "output_type": "stream",
          "text": [
            ">162002, d1[0.176] d2[0.408] g[15.423]\n",
            ">162003, d1[0.274] d2[0.373] g[13.418]\n"
          ],
          "name": "stdout"
        },
        {
          "output_type": "stream",
          "text": [
            "\n",
            "  0%|          | 3/100000 [00:03<40:30:55,  1.46s/it]\u001b[A\n",
            "  0%|          | 4/100000 [00:03<29:54:28,  1.08s/it]\u001b[A"
          ],
          "name": "stderr"
        },
        {
          "output_type": "stream",
          "text": [
            ">162004, d1[0.386] d2[0.266] g[12.507]\n",
            ">162005, d1[0.291] d2[0.291] g[13.044]\n"
          ],
          "name": "stdout"
        },
        {
          "output_type": "stream",
          "text": [
            "\n",
            "  0%|          | 5/100000 [00:03<22:30:19,  1.23it/s]\u001b[A\n",
            "  0%|          | 6/100000 [00:03<17:18:13,  1.61it/s]\u001b[A"
          ],
          "name": "stderr"
        },
        {
          "output_type": "stream",
          "text": [
            ">162006, d1[0.134] d2[0.349] g[13.814]\n",
            ">162007, d1[0.276] d2[0.282] g[14.078]\n"
          ],
          "name": "stdout"
        },
        {
          "output_type": "stream",
          "text": [
            "\n",
            "  0%|          | 7/100000 [00:03<13:39:45,  2.03it/s]\u001b[A\n",
            "  0%|          | 8/100000 [00:04<11:06:46,  2.50it/s]\u001b[A"
          ],
          "name": "stderr"
        },
        {
          "output_type": "stream",
          "text": [
            ">162008, d1[0.179] d2[0.294] g[12.858]\n",
            ">162009, d1[0.405] d2[0.257] g[12.777]\n"
          ],
          "name": "stdout"
        },
        {
          "output_type": "stream",
          "text": [
            "\n",
            "  0%|          | 9/100000 [00:04<9:19:52,  2.98it/s] \u001b[A\n",
            "  0%|          | 10/100000 [00:04<8:05:04,  3.44it/s]\u001b[A"
          ],
          "name": "stderr"
        },
        {
          "output_type": "stream",
          "text": [
            ">162010, d1[0.112] d2[0.497] g[12.326]\n",
            ">162011, d1[0.558] d2[0.269] g[11.398]\n"
          ],
          "name": "stdout"
        },
        {
          "output_type": "stream",
          "text": [
            "\n",
            "  0%|          | 11/100000 [00:04<7:14:57,  3.83it/s]\u001b[A\n",
            "  0%|          | 12/100000 [00:04<6:44:02,  4.12it/s]"
          ],
          "name": "stderr"
        },
        {
          "output_type": "stream",
          "text": [
            ">162012, d1[0.189] d2[0.249] g[14.400]\n",
            ">162013, d1[0.233] d2[0.314] g[11.867]\n"
          ],
          "name": "stdout"
        },
        {
          "output_type": "stream",
          "text": [
            "\u001b[A\n",
            "  0%|          | 13/100000 [00:05<6:20:15,  4.38it/s]\u001b[A\n",
            "  0%|          | 14/100000 [00:05<6:03:08,  4.59it/s]\u001b[A"
          ],
          "name": "stderr"
        },
        {
          "output_type": "stream",
          "text": [
            ">162014, d1[0.189] d2[0.289] g[9.541]\n",
            ">162015, d1[0.282] d2[0.510] g[14.337]\n"
          ],
          "name": "stdout"
        },
        {
          "output_type": "stream",
          "text": [
            "\n",
            "  0%|          | 15/100000 [00:05<5:50:40,  4.75it/s]\u001b[A\n",
            "  0%|          | 16/100000 [00:05<5:42:00,  4.87it/s]\u001b[A"
          ],
          "name": "stderr"
        },
        {
          "output_type": "stream",
          "text": [
            ">162016, d1[0.489] d2[0.350] g[10.844]\n",
            ">162017, d1[0.281] d2[0.262] g[13.281]\n"
          ],
          "name": "stdout"
        },
        {
          "output_type": "stream",
          "text": [
            "\n",
            "  0%|          | 17/100000 [00:05<5:36:22,  4.95it/s]\u001b[A\n",
            "  0%|          | 18/100000 [00:06<5:32:47,  5.01it/s]\u001b[A"
          ],
          "name": "stderr"
        },
        {
          "output_type": "stream",
          "text": [
            ">162018, d1[0.447] d2[0.245] g[12.215]\n",
            ">162019, d1[0.140] d2[0.249] g[17.986]\n"
          ],
          "name": "stdout"
        },
        {
          "output_type": "stream",
          "text": [
            "\n",
            "  0%|          | 19/100000 [00:06<5:31:14,  5.03it/s]\u001b[A\n",
            "  0%|          | 20/100000 [00:06<5:30:33,  5.04it/s]\u001b[A"
          ],
          "name": "stderr"
        },
        {
          "output_type": "stream",
          "text": [
            ">162020, d1[0.242] d2[0.268] g[12.986]\n",
            ">162021, d1[0.135] d2[0.280] g[12.365]\n"
          ],
          "name": "stdout"
        },
        {
          "output_type": "stream",
          "text": [
            "\n",
            "  0%|          | 21/100000 [00:06<5:28:11,  5.08it/s]\u001b[A\n",
            "  0%|          | 22/100000 [00:06<5:26:02,  5.11it/s]\u001b[A"
          ],
          "name": "stderr"
        },
        {
          "output_type": "stream",
          "text": [
            ">162022, d1[0.226] d2[0.341] g[13.829]\n",
            ">162023, d1[0.306] d2[0.235] g[12.016]\n"
          ],
          "name": "stdout"
        },
        {
          "output_type": "stream",
          "text": [
            "\n",
            "  0%|          | 23/100000 [00:06<5:26:51,  5.10it/s]\u001b[A\n",
            "  0%|          | 24/100000 [00:07<5:24:00,  5.14it/s]\u001b[A"
          ],
          "name": "stderr"
        },
        {
          "output_type": "stream",
          "text": [
            ">162024, d1[0.699] d2[0.223] g[12.115]\n",
            ">162025, d1[0.121] d2[0.312] g[15.988]\n"
          ],
          "name": "stdout"
        },
        {
          "output_type": "stream",
          "text": [
            "\n",
            "  0%|          | 25/100000 [00:07<5:23:56,  5.14it/s]\u001b[A\n",
            "  0%|          | 26/100000 [00:07<5:24:18,  5.14it/s]\u001b[A"
          ],
          "name": "stderr"
        },
        {
          "output_type": "stream",
          "text": [
            ">162026, d1[0.567] d2[0.245] g[10.796]\n",
            ">162027, d1[0.164] d2[0.367] g[13.970]\n"
          ],
          "name": "stdout"
        },
        {
          "output_type": "stream",
          "text": [
            "\n",
            "  0%|          | 27/100000 [00:07<5:25:17,  5.12it/s]\u001b[A\n"
          ],
          "name": "stderr"
        },
        {
          "output_type": "stream",
          "text": [
            ">162028, d1[0.121] d2[0.272] g[13.650]\n",
            ">162029, d1[0.376] d2[0.324] g[14.405]\n"
          ],
          "name": "stdout"
        },
        {
          "output_type": "stream",
          "text": [
            "  0%|          | 28/100000 [00:07<5:27:40,  5.08it/s]\u001b[A\n",
            "  0%|          | 29/100000 [00:08<5:27:34,  5.09it/s]\u001b[A\n",
            "  0%|          | 30/100000 [00:08<5:25:38,  5.12it/s]\u001b[A"
          ],
          "name": "stderr"
        },
        {
          "output_type": "stream",
          "text": [
            ">162030, d1[0.566] d2[0.352] g[9.840]\n",
            ">162031, d1[0.105] d2[0.255] g[18.993]\n"
          ],
          "name": "stdout"
        },
        {
          "output_type": "stream",
          "text": [
            "\n",
            "  0%|          | 31/100000 [00:08<5:28:37,  5.07it/s]\u001b[A\n"
          ],
          "name": "stderr"
        },
        {
          "output_type": "stream",
          "text": [
            ">162032, d1[0.580] d2[0.230] g[11.808]\n",
            ">162033, d1[0.218] d2[0.344] g[14.798]\n"
          ],
          "name": "stdout"
        },
        {
          "output_type": "stream",
          "text": [
            "  0%|          | 32/100000 [00:08<5:30:07,  5.05it/s]\u001b[A\n",
            "  0%|          | 33/100000 [00:08<5:30:25,  5.04it/s]\u001b[A\n",
            "  0%|          | 34/100000 [00:09<5:30:25,  5.04it/s]\u001b[A"
          ],
          "name": "stderr"
        },
        {
          "output_type": "stream",
          "text": [
            ">162034, d1[0.305] d2[0.294] g[12.628]\n",
            ">162035, d1[0.098] d2[0.235] g[17.540]\n"
          ],
          "name": "stdout"
        },
        {
          "output_type": "stream",
          "text": [
            "\n",
            "  0%|          | 35/100000 [00:09<5:28:58,  5.06it/s]\u001b[A\n",
            "  0%|          | 36/100000 [00:09<5:28:58,  5.06it/s]\u001b[A"
          ],
          "name": "stderr"
        },
        {
          "output_type": "stream",
          "text": [
            ">162036, d1[0.297] d2[0.247] g[16.082]\n",
            ">162037, d1[0.211] d2[0.258] g[12.335]\n"
          ],
          "name": "stdout"
        },
        {
          "output_type": "stream",
          "text": [
            "\n",
            "  0%|          | 37/100000 [00:09<5:28:08,  5.08it/s]\u001b[A\n",
            "  0%|          | 38/100000 [00:09<5:27:22,  5.09it/s]\u001b[A"
          ],
          "name": "stderr"
        },
        {
          "output_type": "stream",
          "text": [
            ">162038, d1[0.183] d2[0.560] g[13.207]\n",
            ">162039, d1[0.335] d2[0.250] g[11.126]\n"
          ],
          "name": "stdout"
        },
        {
          "output_type": "stream",
          "text": [
            "\n",
            "  0%|          | 39/100000 [00:10<5:27:41,  5.08it/s]\u001b[A\n",
            "  0%|          | 40/100000 [00:10<5:26:30,  5.10it/s]\u001b[A"
          ],
          "name": "stderr"
        },
        {
          "output_type": "stream",
          "text": [
            ">162040, d1[0.516] d2[0.399] g[11.754]\n",
            ">162041, d1[0.634] d2[0.240] g[9.267]\n"
          ],
          "name": "stdout"
        },
        {
          "output_type": "stream",
          "text": [
            "\n",
            "  0%|          | 41/100000 [00:10<5:26:40,  5.10it/s]\u001b[A\n",
            "  0%|          | 42/100000 [00:10<5:25:58,  5.11it/s]\u001b[A"
          ],
          "name": "stderr"
        },
        {
          "output_type": "stream",
          "text": [
            ">162042, d1[0.483] d2[0.295] g[10.609]\n",
            ">162043, d1[0.084] d2[0.310] g[13.076]\n"
          ],
          "name": "stdout"
        },
        {
          "output_type": "stream",
          "text": [
            "\n",
            "  0%|          | 43/100000 [00:10<5:25:41,  5.12it/s]\u001b[A\n"
          ],
          "name": "stderr"
        },
        {
          "output_type": "stream",
          "text": [
            ">162044, d1[0.247] d2[0.289] g[14.990]\n",
            ">162045, d1[0.329] d2[0.389] g[10.103]\n"
          ],
          "name": "stdout"
        },
        {
          "output_type": "stream",
          "text": [
            "  0%|          | 44/100000 [00:11<5:28:13,  5.08it/s]\u001b[A\n",
            "  0%|          | 45/100000 [00:11<5:27:06,  5.09it/s]\u001b[A\n",
            "  0%|          | 46/100000 [00:11<5:26:37,  5.10it/s]\u001b[A"
          ],
          "name": "stderr"
        },
        {
          "output_type": "stream",
          "text": [
            ">162046, d1[0.195] d2[0.528] g[13.761]\n",
            ">162047, d1[0.447] d2[0.260] g[12.089]\n"
          ],
          "name": "stdout"
        },
        {
          "output_type": "stream",
          "text": [
            "\n",
            "  0%|          | 47/100000 [00:11<5:28:14,  5.08it/s]\u001b[A\n",
            "  0%|          | 48/100000 [00:11<5:26:01,  5.11it/s]\u001b[A"
          ],
          "name": "stderr"
        },
        {
          "output_type": "stream",
          "text": [
            ">162048, d1[0.471] d2[0.274] g[11.372]\n",
            ">162049, d1[0.425] d2[0.312] g[10.958]\n"
          ],
          "name": "stdout"
        },
        {
          "output_type": "stream",
          "text": [
            "\n",
            "  0%|          | 49/100000 [00:12<5:25:16,  5.12it/s]\u001b[A\n",
            "  0%|          | 50/100000 [00:12<5:27:07,  5.09it/s]\u001b[A"
          ],
          "name": "stderr"
        },
        {
          "output_type": "stream",
          "text": [
            ">162050, d1[0.153] d2[0.334] g[11.263]\n",
            ">162051, d1[0.256] d2[0.326] g[12.516]\n"
          ],
          "name": "stdout"
        },
        {
          "output_type": "stream",
          "text": [
            "\n",
            "  0%|          | 51/100000 [00:12<5:31:40,  5.02it/s]\u001b[A\n",
            "  0%|          | 52/100000 [00:12<5:30:49,  5.04it/s]\u001b[A"
          ],
          "name": "stderr"
        },
        {
          "output_type": "stream",
          "text": [
            ">162052, d1[0.403] d2[0.244] g[12.090]\n",
            ">162053, d1[0.102] d2[0.378] g[15.382]\n"
          ],
          "name": "stdout"
        },
        {
          "output_type": "stream",
          "text": [
            "\n",
            "  0%|          | 53/100000 [00:12<5:30:56,  5.03it/s]\u001b[A\n",
            "  0%|          | 54/100000 [00:13<5:30:27,  5.04it/s]\u001b[A"
          ],
          "name": "stderr"
        },
        {
          "output_type": "stream",
          "text": [
            ">162054, d1[0.167] d2[0.223] g[13.759]\n",
            ">162055, d1[0.528] d2[0.208] g[11.866]\n"
          ],
          "name": "stdout"
        },
        {
          "output_type": "stream",
          "text": [
            "\n",
            "  0%|          | 55/100000 [00:13<5:28:36,  5.07it/s]\u001b[A\n",
            "  0%|          | 56/100000 [00:13<5:25:39,  5.11it/s]\u001b[A"
          ],
          "name": "stderr"
        },
        {
          "output_type": "stream",
          "text": [
            ">162056, d1[0.375] d2[0.354] g[12.804]\n",
            ">162057, d1[0.104] d2[0.309] g[14.458]\n"
          ],
          "name": "stdout"
        },
        {
          "output_type": "stream",
          "text": [
            "\n",
            "  0%|          | 57/100000 [00:13<5:23:52,  5.14it/s]\u001b[A\n",
            "  0%|          | 58/100000 [00:13<5:25:25,  5.12it/s]\u001b[A"
          ],
          "name": "stderr"
        },
        {
          "output_type": "stream",
          "text": [
            ">162058, d1[0.122] d2[0.253] g[18.274]\n",
            ">162059, d1[0.301] d2[0.442] g[12.338]\n"
          ],
          "name": "stdout"
        },
        {
          "output_type": "stream",
          "text": [
            "\n",
            "  0%|          | 59/100000 [00:14<5:28:25,  5.07it/s]\u001b[A\n"
          ],
          "name": "stderr"
        },
        {
          "output_type": "stream",
          "text": [
            ">162060, d1[0.221] d2[0.223] g[12.413]\n",
            ">162061, d1[0.490] d2[0.230] g[10.387]\n"
          ],
          "name": "stdout"
        },
        {
          "output_type": "stream",
          "text": [
            "  0%|          | 60/100000 [00:14<5:29:45,  5.05it/s]\u001b[A\n",
            "  0%|          | 61/100000 [00:14<5:30:08,  5.05it/s]\u001b[A\n",
            "  0%|          | 62/100000 [00:14<5:28:24,  5.07it/s]\u001b[A"
          ],
          "name": "stderr"
        },
        {
          "output_type": "stream",
          "text": [
            ">162062, d1[0.095] d2[0.331] g[17.712]\n",
            ">162063, d1[0.379] d2[0.386] g[10.690]\n"
          ],
          "name": "stdout"
        },
        {
          "output_type": "stream",
          "text": [
            "\n",
            "  0%|          | 63/100000 [00:14<5:26:01,  5.11it/s]\u001b[A\n",
            "  0%|          | 64/100000 [00:15<5:22:53,  5.16it/s]\u001b[A"
          ],
          "name": "stderr"
        },
        {
          "output_type": "stream",
          "text": [
            ">162064, d1[0.134] d2[0.359] g[13.387]\n",
            ">162065, d1[0.279] d2[0.260] g[11.446]\n"
          ],
          "name": "stdout"
        },
        {
          "output_type": "stream",
          "text": [
            "\n",
            "  0%|          | 65/100000 [00:15<5:22:23,  5.17it/s]\u001b[A\n",
            "  0%|          | 66/100000 [00:15<5:21:31,  5.18it/s]\u001b[A"
          ],
          "name": "stderr"
        },
        {
          "output_type": "stream",
          "text": [
            ">162066, d1[0.383] d2[0.248] g[11.727]\n",
            ">162067, d1[0.316] d2[0.351] g[12.221]\n"
          ],
          "name": "stdout"
        },
        {
          "output_type": "stream",
          "text": [
            "\n",
            "  0%|          | 67/100000 [00:15<5:24:46,  5.13it/s]\u001b[A\n",
            "  0%|          | 68/100000 [00:15<5:22:56,  5.16it/s]\u001b[A"
          ],
          "name": "stderr"
        },
        {
          "output_type": "stream",
          "text": [
            ">162068, d1[0.110] d2[0.389] g[12.216]\n",
            ">162069, d1[0.556] d2[0.240] g[12.568]\n"
          ],
          "name": "stdout"
        },
        {
          "output_type": "stream",
          "text": [
            "\n",
            "  0%|          | 69/100000 [00:16<5:22:12,  5.17it/s]\u001b[A\n",
            "  0%|          | 70/100000 [00:16<5:19:17,  5.22it/s]\u001b[A"
          ],
          "name": "stderr"
        },
        {
          "output_type": "stream",
          "text": [
            ">162070, d1[0.163] d2[0.335] g[14.172]\n",
            ">162071, d1[0.300] d2[0.245] g[13.015]\n"
          ],
          "name": "stdout"
        },
        {
          "output_type": "stream",
          "text": [
            "\n",
            "  0%|          | 71/100000 [00:16<5:17:41,  5.24it/s]\u001b[A\n",
            "  0%|          | 72/100000 [00:16<5:15:40,  5.28it/s]\u001b[A"
          ],
          "name": "stderr"
        },
        {
          "output_type": "stream",
          "text": [
            ">162072, d1[0.638] d2[0.222] g[10.802]\n",
            ">162073, d1[0.386] d2[0.377] g[10.038]\n"
          ],
          "name": "stdout"
        },
        {
          "output_type": "stream",
          "text": [
            "\n",
            "  0%|          | 73/100000 [00:16<5:15:03,  5.29it/s]\u001b[A\n",
            "  0%|          | 74/100000 [00:16<5:15:33,  5.28it/s]\u001b[A"
          ],
          "name": "stderr"
        },
        {
          "output_type": "stream",
          "text": [
            ">162074, d1[0.175] d2[0.406] g[11.565]\n",
            ">162075, d1[0.342] d2[0.370] g[13.790]\n"
          ],
          "name": "stdout"
        },
        {
          "output_type": "stream",
          "text": [
            "\n",
            "  0%|          | 75/100000 [00:17<5:18:42,  5.23it/s]\u001b[A\n",
            "  0%|          | 76/100000 [00:17<5:16:03,  5.27it/s]\u001b[A"
          ],
          "name": "stderr"
        },
        {
          "output_type": "stream",
          "text": [
            ">162076, d1[0.312] d2[0.435] g[11.655]\n",
            ">162077, d1[0.415] d2[0.293] g[10.911]\n"
          ],
          "name": "stdout"
        },
        {
          "output_type": "stream",
          "text": [
            "\n",
            "  0%|          | 77/100000 [00:17<5:15:31,  5.28it/s]\u001b[A\n",
            "  0%|          | 78/100000 [00:17<5:13:12,  5.32it/s]\u001b[A"
          ],
          "name": "stderr"
        },
        {
          "output_type": "stream",
          "text": [
            ">162078, d1[0.257] d2[0.290] g[10.420]\n",
            ">162079, d1[0.487] d2[0.315] g[11.031]\n"
          ],
          "name": "stdout"
        },
        {
          "output_type": "stream",
          "text": [
            "\n",
            "  0%|          | 79/100000 [00:17<5:13:57,  5.30it/s]\u001b[A\n",
            "  0%|          | 80/100000 [00:18<5:13:22,  5.31it/s]\u001b[A"
          ],
          "name": "stderr"
        },
        {
          "output_type": "stream",
          "text": [
            ">162080, d1[0.148] d2[0.527] g[12.882]\n",
            ">162081, d1[0.500] d2[0.258] g[12.217]\n"
          ],
          "name": "stdout"
        },
        {
          "output_type": "stream",
          "text": [
            "\n",
            "  0%|          | 81/100000 [00:18<5:14:02,  5.30it/s]\u001b[A\n",
            "  0%|          | 82/100000 [00:18<5:16:32,  5.26it/s]\u001b[A"
          ],
          "name": "stderr"
        },
        {
          "output_type": "stream",
          "text": [
            ">162082, d1[0.596] d2[0.227] g[9.373]\n",
            ">162083, d1[0.313] d2[0.361] g[12.371]\n"
          ],
          "name": "stdout"
        },
        {
          "output_type": "stream",
          "text": [
            "\n",
            "  0%|          | 83/100000 [00:18<5:14:29,  5.30it/s]\u001b[A\n",
            "  0%|          | 84/100000 [00:18<5:13:15,  5.32it/s]\u001b[A"
          ],
          "name": "stderr"
        },
        {
          "output_type": "stream",
          "text": [
            ">162084, d1[0.424] d2[0.316] g[10.084]\n",
            ">162085, d1[0.095] d2[0.361] g[14.224]\n"
          ],
          "name": "stdout"
        },
        {
          "output_type": "stream",
          "text": [
            "\n",
            "  0%|          | 85/100000 [00:19<5:13:06,  5.32it/s]\u001b[A\n",
            "  0%|          | 86/100000 [00:19<5:12:19,  5.33it/s]\u001b[A"
          ],
          "name": "stderr"
        },
        {
          "output_type": "stream",
          "text": [
            ">162086, d1[0.190] d2[0.277] g[14.733]\n",
            ">162087, d1[0.378] d2[0.353] g[10.600]\n"
          ],
          "name": "stdout"
        },
        {
          "output_type": "stream",
          "text": [
            "\n",
            "  0%|          | 87/100000 [00:19<5:12:23,  5.33it/s]\u001b[A\n",
            "  0%|          | 88/100000 [00:19<5:11:27,  5.35it/s]\u001b[A"
          ],
          "name": "stderr"
        },
        {
          "output_type": "stream",
          "text": [
            ">162088, d1[0.498] d2[0.300] g[11.461]\n",
            ">162089, d1[0.197] d2[0.340] g[12.458]\n"
          ],
          "name": "stdout"
        },
        {
          "output_type": "stream",
          "text": [
            "\n",
            "  0%|          | 89/100000 [00:19<5:11:55,  5.34it/s]\u001b[A\n",
            "  0%|          | 90/100000 [00:19<5:12:43,  5.32it/s]\u001b[A"
          ],
          "name": "stderr"
        },
        {
          "output_type": "stream",
          "text": [
            ">162090, d1[0.118] d2[0.252] g[11.338]\n",
            ">162091, d1[0.242] d2[0.259] g[10.761]\n"
          ],
          "name": "stdout"
        },
        {
          "output_type": "stream",
          "text": [
            "\n",
            "  0%|          | 91/100000 [00:20<5:12:47,  5.32it/s]\u001b[A\n",
            "  0%|          | 92/100000 [00:20<5:11:37,  5.34it/s]\u001b[A"
          ],
          "name": "stderr"
        },
        {
          "output_type": "stream",
          "text": [
            ">162092, d1[0.228] d2[0.316] g[12.954]\n",
            ">162093, d1[0.403] d2[0.386] g[11.118]\n"
          ],
          "name": "stdout"
        },
        {
          "output_type": "stream",
          "text": [
            "\n",
            "  0%|          | 93/100000 [00:20<5:12:10,  5.33it/s]\u001b[A\n",
            "  0%|          | 94/100000 [00:20<5:10:32,  5.36it/s]\u001b[A"
          ],
          "name": "stderr"
        },
        {
          "output_type": "stream",
          "text": [
            ">162094, d1[0.400] d2[0.334] g[11.770]\n",
            ">162095, d1[0.096] d2[0.229] g[12.962]\n"
          ],
          "name": "stdout"
        },
        {
          "output_type": "stream",
          "text": [
            "\n",
            "  0%|          | 95/100000 [00:20<5:14:52,  5.29it/s]\u001b[A\n",
            "  0%|          | 96/100000 [00:21<5:17:25,  5.25it/s]\u001b[A"
          ],
          "name": "stderr"
        },
        {
          "output_type": "stream",
          "text": [
            ">162096, d1[0.127] d2[0.254] g[13.588]\n",
            ">162097, d1[0.592] d2[0.219] g[10.331]\n"
          ],
          "name": "stdout"
        },
        {
          "output_type": "stream",
          "text": [
            "\n",
            "  0%|          | 97/100000 [00:21<5:19:03,  5.22it/s]\u001b[A\n",
            "  0%|          | 98/100000 [00:21<5:20:45,  5.19it/s]\u001b[A"
          ],
          "name": "stderr"
        },
        {
          "output_type": "stream",
          "text": [
            ">162098, d1[0.117] d2[0.257] g[17.738]\n",
            ">162099, d1[0.591] d2[0.295] g[9.363]\n"
          ],
          "name": "stdout"
        },
        {
          "output_type": "stream",
          "text": [
            "\n",
            "  0%|          | 99/100000 [00:21<5:20:56,  5.19it/s]\u001b[A\n",
            "  0%|          | 100/100000 [00:21<5:19:07,  5.22it/s]\u001b[A"
          ],
          "name": "stderr"
        },
        {
          "output_type": "stream",
          "text": [
            ">162100, d1[0.486] d2[0.339] g[11.221]\n",
            ">162101, d1[0.415] d2[0.367] g[10.952]\n"
          ],
          "name": "stdout"
        },
        {
          "output_type": "stream",
          "text": [
            "\n",
            "  0%|          | 101/100000 [00:22<5:17:13,  5.25it/s]\u001b[A\n",
            "  0%|          | 102/100000 [00:22<5:16:41,  5.26it/s]\u001b[A"
          ],
          "name": "stderr"
        },
        {
          "output_type": "stream",
          "text": [
            ">162102, d1[0.209] d2[0.432] g[10.547]\n",
            ">162103, d1[0.145] d2[0.251] g[13.766]\n"
          ],
          "name": "stdout"
        },
        {
          "output_type": "stream",
          "text": [
            "\n",
            "  0%|          | 103/100000 [00:22<5:15:34,  5.28it/s]\u001b[A\n",
            "  0%|          | 104/100000 [00:22<5:13:35,  5.31it/s]\u001b[A"
          ],
          "name": "stderr"
        },
        {
          "output_type": "stream",
          "text": [
            ">162104, d1[0.325] d2[0.302] g[11.808]\n",
            ">162105, d1[0.150] d2[0.295] g[12.248]\n"
          ],
          "name": "stdout"
        },
        {
          "output_type": "stream",
          "text": [
            "\n",
            "  0%|          | 105/100000 [00:22<5:13:14,  5.32it/s]\u001b[A\n",
            "  0%|          | 106/100000 [00:23<5:14:31,  5.29it/s]\u001b[A"
          ],
          "name": "stderr"
        },
        {
          "output_type": "stream",
          "text": [
            ">162106, d1[0.565] d2[0.250] g[12.217]\n",
            ">162107, d1[0.383] d2[0.330] g[9.683]\n"
          ],
          "name": "stdout"
        },
        {
          "output_type": "stream",
          "text": [
            "\n",
            "  0%|          | 107/100000 [00:23<5:14:21,  5.30it/s]\u001b[A\n",
            "  0%|          | 108/100000 [00:23<5:13:06,  5.32it/s]\u001b[A"
          ],
          "name": "stderr"
        },
        {
          "output_type": "stream",
          "text": [
            ">162108, d1[0.261] d2[0.484] g[10.747]\n",
            ">162109, d1[0.330] d2[0.294] g[10.703]\n"
          ],
          "name": "stdout"
        },
        {
          "output_type": "stream",
          "text": [
            "\n",
            "  0%|          | 109/100000 [00:23<5:12:24,  5.33it/s]\u001b[A\n",
            "  0%|          | 110/100000 [00:23<5:11:16,  5.35it/s]\u001b[A"
          ],
          "name": "stderr"
        },
        {
          "output_type": "stream",
          "text": [
            ">162110, d1[0.298] d2[0.335] g[10.065]\n",
            ">162111, d1[0.213] d2[0.491] g[11.998]\n"
          ],
          "name": "stdout"
        },
        {
          "output_type": "stream",
          "text": [
            "\n",
            "  0%|          | 111/100000 [00:23<5:12:18,  5.33it/s]\u001b[A\n",
            "  0%|          | 112/100000 [00:24<5:10:49,  5.36it/s]\u001b[A"
          ],
          "name": "stderr"
        },
        {
          "output_type": "stream",
          "text": [
            ">162112, d1[0.118] d2[0.337] g[13.965]\n",
            ">162113, d1[0.594] d2[0.277] g[11.450]\n"
          ],
          "name": "stdout"
        },
        {
          "output_type": "stream",
          "text": [
            "\n",
            "  0%|          | 113/100000 [00:24<5:13:49,  5.30it/s]\u001b[A\n",
            "  0%|          | 114/100000 [00:24<5:11:58,  5.34it/s]\u001b[A"
          ],
          "name": "stderr"
        },
        {
          "output_type": "stream",
          "text": [
            ">162114, d1[0.495] d2[0.277] g[12.494]\n",
            ">162115, d1[0.130] d2[0.308] g[13.328]\n"
          ],
          "name": "stdout"
        },
        {
          "output_type": "stream",
          "text": [
            "\n",
            "  0%|          | 115/100000 [00:24<5:12:12,  5.33it/s]\u001b[A\n",
            "  0%|          | 116/100000 [00:24<5:11:29,  5.34it/s]\u001b[A"
          ],
          "name": "stderr"
        },
        {
          "output_type": "stream",
          "text": [
            ">162116, d1[0.447] d2[0.260] g[14.973]\n",
            ">162117, d1[0.188] d2[0.353] g[12.946]\n"
          ],
          "name": "stdout"
        },
        {
          "output_type": "stream",
          "text": [
            "\n",
            "  0%|          | 117/100000 [00:25<5:11:51,  5.34it/s]\u001b[A\n",
            "  0%|          | 118/100000 [00:25<5:11:35,  5.34it/s]\u001b[A"
          ],
          "name": "stderr"
        },
        {
          "output_type": "stream",
          "text": [
            ">162118, d1[0.548] d2[0.240] g[9.895]\n",
            ">162119, d1[0.245] d2[0.289] g[11.230]\n"
          ],
          "name": "stdout"
        },
        {
          "output_type": "stream",
          "text": [
            "\n",
            "  0%|          | 119/100000 [00:25<5:11:50,  5.34it/s]\u001b[A\n",
            "  0%|          | 120/100000 [00:25<5:10:50,  5.36it/s]\u001b[A"
          ],
          "name": "stderr"
        },
        {
          "output_type": "stream",
          "text": [
            ">162120, d1[0.241] d2[0.339] g[11.845]\n",
            ">162121, d1[0.206] d2[0.440] g[12.508]\n"
          ],
          "name": "stdout"
        },
        {
          "output_type": "stream",
          "text": [
            "\n",
            "  0%|          | 121/100000 [00:25<5:14:18,  5.30it/s]\u001b[A\n",
            "  0%|          | 122/100000 [00:26<5:13:04,  5.32it/s]\u001b[A"
          ],
          "name": "stderr"
        },
        {
          "output_type": "stream",
          "text": [
            ">162122, d1[0.332] d2[0.564] g[11.169]\n",
            ">162123, d1[0.095] d2[0.209] g[16.290]\n"
          ],
          "name": "stdout"
        },
        {
          "output_type": "stream",
          "text": [
            "\n",
            "  0%|          | 123/100000 [00:26<5:13:28,  5.31it/s]\u001b[A\n",
            "  0%|          | 124/100000 [00:26<5:13:12,  5.31it/s]\u001b[A"
          ],
          "name": "stderr"
        },
        {
          "output_type": "stream",
          "text": [
            ">162124, d1[0.356] d2[0.212] g[12.050]\n",
            ">162125, d1[0.201] d2[0.476] g[13.335]\n"
          ],
          "name": "stdout"
        },
        {
          "output_type": "stream",
          "text": [
            "\n",
            "  0%|          | 125/100000 [00:26<5:12:38,  5.32it/s]\u001b[A\n",
            "  0%|          | 126/100000 [00:26<5:12:16,  5.33it/s]\u001b[A"
          ],
          "name": "stderr"
        },
        {
          "output_type": "stream",
          "text": [
            ">162126, d1[0.349] d2[0.271] g[11.625]\n",
            ">162127, d1[0.138] d2[0.393] g[13.398]\n"
          ],
          "name": "stdout"
        },
        {
          "output_type": "stream",
          "text": [
            "\n",
            "  0%|          | 127/100000 [00:26<5:17:13,  5.25it/s]\u001b[A\n",
            "  0%|          | 128/100000 [00:27<5:17:16,  5.25it/s]\u001b[A"
          ],
          "name": "stderr"
        },
        {
          "output_type": "stream",
          "text": [
            ">162128, d1[0.302] d2[0.243] g[11.342]\n",
            ">162129, d1[0.119] d2[0.200] g[14.473]\n"
          ],
          "name": "stdout"
        },
        {
          "output_type": "stream",
          "text": [
            "\n",
            "  0%|          | 129/100000 [00:27<5:19:57,  5.20it/s]\u001b[A\n",
            "  0%|          | 130/100000 [00:27<5:21:54,  5.17it/s]\u001b[A"
          ],
          "name": "stderr"
        },
        {
          "output_type": "stream",
          "text": [
            ">162130, d1[0.624] d2[0.398] g[12.423]\n",
            ">162131, d1[0.230] d2[0.243] g[12.982]\n"
          ],
          "name": "stdout"
        },
        {
          "output_type": "stream",
          "text": [
            "\n",
            "  0%|          | 131/100000 [00:27<5:22:33,  5.16it/s]\u001b[A\n",
            "  0%|          | 132/100000 [00:27<5:23:44,  5.14it/s]\u001b[A"
          ],
          "name": "stderr"
        },
        {
          "output_type": "stream",
          "text": [
            ">162132, d1[0.452] d2[0.248] g[9.904]\n",
            ">162133, d1[0.102] d2[0.222] g[14.339]\n"
          ],
          "name": "stdout"
        },
        {
          "output_type": "stream",
          "text": [
            "\n",
            "  0%|          | 133/100000 [00:28<5:25:31,  5.11it/s]\u001b[A\n",
            "  0%|          | 134/100000 [00:28<5:24:58,  5.12it/s]\u001b[A"
          ],
          "name": "stderr"
        },
        {
          "output_type": "stream",
          "text": [
            ">162134, d1[0.160] d2[0.349] g[12.657]\n",
            ">162135, d1[0.584] d2[0.283] g[10.406]\n"
          ],
          "name": "stdout"
        },
        {
          "output_type": "stream",
          "text": [
            "\n",
            "  0%|          | 135/100000 [00:28<5:24:05,  5.14it/s]\u001b[A\n",
            "  0%|          | 136/100000 [00:28<5:25:40,  5.11it/s]\u001b[A"
          ],
          "name": "stderr"
        },
        {
          "output_type": "stream",
          "text": [
            ">162136, d1[0.145] d2[0.220] g[13.760]\n",
            ">162137, d1[0.380] d2[0.330] g[13.452]\n"
          ],
          "name": "stdout"
        },
        {
          "output_type": "stream",
          "text": [
            "\n",
            "  0%|          | 137/100000 [00:28<5:27:27,  5.08it/s]\u001b[A\n",
            "  0%|          | 138/100000 [00:29<5:24:59,  5.12it/s]\u001b[A"
          ],
          "name": "stderr"
        },
        {
          "output_type": "stream",
          "text": [
            ">162138, d1[0.137] d2[0.394] g[14.167]\n",
            ">162139, d1[0.502] d2[0.277] g[8.370]\n"
          ],
          "name": "stdout"
        },
        {
          "output_type": "stream",
          "text": [
            "\n",
            "  0%|          | 139/100000 [00:29<5:26:00,  5.11it/s]\u001b[A"
          ],
          "name": "stderr"
        },
        {
          "output_type": "stream",
          "text": [
            ">162140, d1[0.215] d2[0.375] g[11.184]\n"
          ],
          "name": "stdout"
        },
        {
          "output_type": "stream",
          "text": [
            "\n",
            "  0%|          | 140/100000 [00:29<5:29:16,  5.05it/s]\u001b[A\n",
            "  0%|          | 141/100000 [00:29<5:28:56,  5.06it/s]\u001b[A"
          ],
          "name": "stderr"
        },
        {
          "output_type": "stream",
          "text": [
            ">162141, d1[0.438] d2[0.389] g[13.902]\n",
            ">162142, d1[0.282] d2[0.263] g[12.968]\n"
          ],
          "name": "stdout"
        },
        {
          "output_type": "stream",
          "text": [
            "\n",
            "  0%|          | 142/100000 [00:29<5:27:26,  5.08it/s]\u001b[A\n",
            "  0%|          | 143/100000 [00:30<5:25:34,  5.11it/s]\u001b[A"
          ],
          "name": "stderr"
        },
        {
          "output_type": "stream",
          "text": [
            ">162143, d1[0.210] d2[0.265] g[11.031]\n",
            ">162144, d1[0.399] d2[0.297] g[10.869]\n"
          ],
          "name": "stdout"
        },
        {
          "output_type": "stream",
          "text": [
            "\n",
            "  0%|          | 144/100000 [00:30<5:29:35,  5.05it/s]\u001b[A\n",
            "  0%|          | 145/100000 [00:30<5:26:33,  5.10it/s]\u001b[A"
          ],
          "name": "stderr"
        },
        {
          "output_type": "stream",
          "text": [
            ">162145, d1[0.157] d2[0.613] g[14.101]\n",
            ">162146, d1[0.111] d2[0.193] g[16.410]\n"
          ],
          "name": "stdout"
        },
        {
          "output_type": "stream",
          "text": [
            "\n",
            "  0%|          | 146/100000 [00:30<5:25:58,  5.11it/s]\u001b[A\n",
            "  0%|          | 147/100000 [00:30<5:25:57,  5.11it/s]\u001b[A"
          ],
          "name": "stderr"
        },
        {
          "output_type": "stream",
          "text": [
            ">162147, d1[0.537] d2[0.183] g[11.736]\n",
            ">162148, d1[0.189] d2[0.341] g[14.738]\n"
          ],
          "name": "stdout"
        },
        {
          "output_type": "stream",
          "text": [
            "\n",
            "  0%|          | 148/100000 [00:31<5:26:19,  5.10it/s]\u001b[A\n",
            "  0%|          | 149/100000 [00:31<5:24:42,  5.13it/s]\u001b[A"
          ],
          "name": "stderr"
        },
        {
          "output_type": "stream",
          "text": [
            ">162149, d1[0.279] d2[0.284] g[12.760]\n",
            ">162150, d1[0.127] d2[0.214] g[16.243]\n"
          ],
          "name": "stdout"
        },
        {
          "output_type": "stream",
          "text": [
            "\n",
            "  0%|          | 150/100000 [00:31<5:26:30,  5.10it/s]\u001b[A\n",
            "  0%|          | 151/100000 [00:31<5:24:29,  5.13it/s]\u001b[A"
          ],
          "name": "stderr"
        },
        {
          "output_type": "stream",
          "text": [
            ">162151, d1[0.485] d2[0.315] g[11.178]\n",
            ">162152, d1[0.124] d2[0.190] g[14.671]\n"
          ],
          "name": "stdout"
        },
        {
          "output_type": "stream",
          "text": [
            "\n",
            "  0%|          | 152/100000 [00:31<5:28:17,  5.07it/s]\u001b[A\n",
            "  0%|          | 153/100000 [00:32<5:28:24,  5.07it/s]\u001b[A"
          ],
          "name": "stderr"
        },
        {
          "output_type": "stream",
          "text": [
            ">162153, d1[0.373] d2[0.327] g[11.581]\n",
            ">162154, d1[0.419] d2[0.394] g[9.745]\n"
          ],
          "name": "stdout"
        },
        {
          "output_type": "stream",
          "text": [
            "\n",
            "  0%|          | 154/100000 [00:32<5:29:29,  5.05it/s]\u001b[A\n",
            "  0%|          | 155/100000 [00:32<5:27:22,  5.08it/s]\u001b[A"
          ],
          "name": "stderr"
        },
        {
          "output_type": "stream",
          "text": [
            ">162155, d1[0.337] d2[0.579] g[12.933]\n",
            ">162156, d1[0.110] d2[0.201] g[16.377]\n"
          ],
          "name": "stdout"
        },
        {
          "output_type": "stream",
          "text": [
            "\n",
            "  0%|          | 156/100000 [00:32<5:27:15,  5.08it/s]\u001b[A\n",
            "  0%|          | 157/100000 [00:32<5:25:32,  5.11it/s]\u001b[A"
          ],
          "name": "stderr"
        },
        {
          "output_type": "stream",
          "text": [
            ">162157, d1[0.433] d2[0.200] g[12.781]\n",
            ">162158, d1[0.342] d2[0.385] g[10.228]\n"
          ],
          "name": "stdout"
        },
        {
          "output_type": "stream",
          "text": [
            "\n",
            "  0%|          | 158/100000 [00:33<5:25:33,  5.11it/s]\u001b[A\n",
            "  0%|          | 159/100000 [00:33<5:24:45,  5.12it/s]\u001b[A"
          ],
          "name": "stderr"
        },
        {
          "output_type": "stream",
          "text": [
            ">162159, d1[0.441] d2[0.264] g[11.591]\n",
            ">162160, d1[0.153] d2[0.337] g[12.368]\n"
          ],
          "name": "stdout"
        },
        {
          "output_type": "stream",
          "text": [
            "\n",
            "  0%|          | 160/100000 [00:33<5:28:12,  5.07it/s]\u001b[A\n",
            "  0%|          | 161/100000 [00:33<5:27:05,  5.09it/s]\u001b[A"
          ],
          "name": "stderr"
        },
        {
          "output_type": "stream",
          "text": [
            ">162161, d1[0.158] d2[0.257] g[13.180]\n",
            ">162162, d1[0.105] d2[0.214] g[16.174]\n"
          ],
          "name": "stdout"
        },
        {
          "output_type": "stream",
          "text": [
            "\n",
            "  0%|          | 162/100000 [00:33<5:26:29,  5.10it/s]\u001b[A\n",
            "  0%|          | 163/100000 [00:34<5:25:04,  5.12it/s]\u001b[A"
          ],
          "name": "stderr"
        },
        {
          "output_type": "stream",
          "text": [
            ">162163, d1[0.296] d2[0.350] g[13.420]\n",
            ">162164, d1[0.229] d2[0.228] g[14.568]\n"
          ],
          "name": "stdout"
        },
        {
          "output_type": "stream",
          "text": [
            "\n",
            "  0%|          | 164/100000 [00:34<5:24:48,  5.12it/s]\u001b[A\n",
            "  0%|          | 165/100000 [00:34<5:25:18,  5.11it/s]\u001b[A"
          ],
          "name": "stderr"
        },
        {
          "output_type": "stream",
          "text": [
            ">162165, d1[0.593] d2[0.460] g[10.393]\n",
            ">162166, d1[0.384] d2[0.212] g[13.937]\n"
          ],
          "name": "stdout"
        },
        {
          "output_type": "stream",
          "text": [
            "\n",
            "  0%|          | 166/100000 [00:34<5:25:42,  5.11it/s]\u001b[A"
          ],
          "name": "stderr"
        },
        {
          "output_type": "stream",
          "text": [
            ">162167, d1[0.318] d2[0.425] g[11.653]\n"
          ],
          "name": "stdout"
        },
        {
          "output_type": "stream",
          "text": [
            "\n",
            "  0%|          | 167/100000 [00:34<5:30:33,  5.03it/s]\u001b[A\n",
            "  0%|          | 168/100000 [00:35<5:29:18,  5.05it/s]\u001b[A"
          ],
          "name": "stderr"
        },
        {
          "output_type": "stream",
          "text": [
            ">162168, d1[0.415] d2[0.530] g[11.527]\n",
            ">162169, d1[0.289] d2[0.290] g[12.263]\n"
          ],
          "name": "stdout"
        },
        {
          "output_type": "stream",
          "text": [
            "\n",
            "  0%|          | 169/100000 [00:35<5:28:39,  5.06it/s]\u001b[A\n",
            "  0%|          | 170/100000 [00:35<5:27:38,  5.08it/s]\u001b[A"
          ],
          "name": "stderr"
        },
        {
          "output_type": "stream",
          "text": [
            ">162170, d1[0.499] d2[0.398] g[14.237]\n",
            ">162171, d1[0.379] d2[0.328] g[11.920]\n"
          ],
          "name": "stdout"
        },
        {
          "output_type": "stream",
          "text": [
            "\n",
            "  0%|          | 171/100000 [00:35<5:25:54,  5.11it/s]\u001b[A\n",
            "  0%|          | 172/100000 [00:35<5:26:23,  5.10it/s]\u001b[A"
          ],
          "name": "stderr"
        },
        {
          "output_type": "stream",
          "text": [
            ">162172, d1[0.532] d2[0.292] g[12.048]\n",
            ">162173, d1[0.351] d2[0.315] g[12.536]\n"
          ],
          "name": "stdout"
        },
        {
          "output_type": "stream",
          "text": [
            "\n",
            "  0%|          | 173/100000 [00:35<5:28:05,  5.07it/s]\u001b[A\n",
            "  0%|          | 174/100000 [00:36<5:27:49,  5.08it/s]\u001b[A"
          ],
          "name": "stderr"
        },
        {
          "output_type": "stream",
          "text": [
            ">162174, d1[0.269] d2[0.288] g[10.094]\n",
            ">162175, d1[0.100] d2[0.251] g[17.117]\n"
          ],
          "name": "stdout"
        },
        {
          "output_type": "stream",
          "text": [
            "\n",
            "  0%|          | 175/100000 [00:36<5:31:38,  5.02it/s]\u001b[A\n",
            "  0%|          | 176/100000 [00:36<5:29:53,  5.04it/s]\u001b[A"
          ],
          "name": "stderr"
        },
        {
          "output_type": "stream",
          "text": [
            ">162176, d1[0.159] d2[0.271] g[13.814]\n",
            ">162177, d1[0.278] d2[0.246] g[11.481]\n"
          ],
          "name": "stdout"
        },
        {
          "output_type": "stream",
          "text": [
            "\n",
            "  0%|          | 177/100000 [00:36<5:26:13,  5.10it/s]\u001b[A\n",
            "  0%|          | 178/100000 [00:36<5:23:03,  5.15it/s]\u001b[A"
          ],
          "name": "stderr"
        },
        {
          "output_type": "stream",
          "text": [
            ">162178, d1[0.490] d2[0.311] g[9.315]\n",
            ">162179, d1[0.337] d2[0.393] g[10.603]\n"
          ],
          "name": "stdout"
        },
        {
          "output_type": "stream",
          "text": [
            "\n",
            "  0%|          | 179/100000 [00:37<5:23:15,  5.15it/s]\u001b[A\n",
            "  0%|          | 180/100000 [00:37<5:21:33,  5.17it/s]\u001b[A"
          ],
          "name": "stderr"
        },
        {
          "output_type": "stream",
          "text": [
            ">162180, d1[0.269] d2[0.312] g[12.285]\n",
            ">162181, d1[0.107] d2[0.350] g[13.468]\n"
          ],
          "name": "stdout"
        },
        {
          "output_type": "stream",
          "text": [
            "\n",
            "  0%|          | 181/100000 [00:37<5:22:04,  5.17it/s]\u001b[A\n",
            "  0%|          | 182/100000 [00:37<5:20:35,  5.19it/s]\u001b[A"
          ],
          "name": "stderr"
        },
        {
          "output_type": "stream",
          "text": [
            ">162182, d1[0.162] d2[0.194] g[16.236]\n",
            ">162183, d1[0.238] d2[0.282] g[11.781]\n"
          ],
          "name": "stdout"
        },
        {
          "output_type": "stream",
          "text": [
            "\n",
            "  0%|          | 183/100000 [00:37<5:24:06,  5.13it/s]\u001b[A\n",
            "  0%|          | 184/100000 [00:38<5:20:32,  5.19it/s]\u001b[A"
          ],
          "name": "stderr"
        },
        {
          "output_type": "stream",
          "text": [
            ">162184, d1[0.247] d2[0.264] g[13.437]\n",
            ">162185, d1[0.243] d2[0.832] g[10.524]\n"
          ],
          "name": "stdout"
        },
        {
          "output_type": "stream",
          "text": [
            "\n",
            "  0%|          | 185/100000 [00:38<5:18:25,  5.22it/s]\u001b[A\n",
            "  0%|          | 186/100000 [00:38<5:17:16,  5.24it/s]\u001b[A"
          ],
          "name": "stderr"
        },
        {
          "output_type": "stream",
          "text": [
            ">162186, d1[0.303] d2[0.309] g[11.199]\n",
            ">162187, d1[0.122] d2[0.219] g[15.511]\n"
          ],
          "name": "stdout"
        },
        {
          "output_type": "stream",
          "text": [
            "\n",
            "  0%|          | 187/100000 [00:38<5:14:57,  5.28it/s]\u001b[A\n",
            "  0%|          | 188/100000 [00:38<5:12:33,  5.32it/s]\u001b[A"
          ],
          "name": "stderr"
        },
        {
          "output_type": "stream",
          "text": [
            ">162188, d1[0.165] d2[0.185] g[13.547]\n",
            ">162189, d1[0.113] d2[0.396] g[15.718]\n"
          ],
          "name": "stdout"
        },
        {
          "output_type": "stream",
          "text": [
            "\n",
            "  0%|          | 189/100000 [00:39<5:12:43,  5.32it/s]\u001b[A\n",
            "  0%|          | 190/100000 [00:39<5:14:14,  5.29it/s]\u001b[A"
          ],
          "name": "stderr"
        },
        {
          "output_type": "stream",
          "text": [
            ">162190, d1[0.125] d2[0.164] g[17.595]\n",
            ">162191, d1[0.498] d2[0.213] g[13.741]\n"
          ],
          "name": "stdout"
        },
        {
          "output_type": "stream",
          "text": [
            "\n",
            "  0%|          | 191/100000 [00:39<5:13:57,  5.30it/s]\u001b[A\n",
            "  0%|          | 192/100000 [00:39<5:13:55,  5.30it/s]\u001b[A"
          ],
          "name": "stderr"
        },
        {
          "output_type": "stream",
          "text": [
            ">162192, d1[0.211] d2[0.403] g[13.141]\n",
            ">162193, d1[0.122] d2[0.242] g[15.000]\n"
          ],
          "name": "stdout"
        },
        {
          "output_type": "stream",
          "text": [
            "\n",
            "  0%|          | 193/100000 [00:39<5:13:11,  5.31it/s]\u001b[A\n",
            "  0%|          | 194/100000 [00:39<5:11:48,  5.33it/s]\u001b[A"
          ],
          "name": "stderr"
        },
        {
          "output_type": "stream",
          "text": [
            ">162194, d1[0.729] d2[0.181] g[10.557]\n",
            ">162195, d1[0.620] d2[0.254] g[11.659]\n"
          ],
          "name": "stdout"
        },
        {
          "output_type": "stream",
          "text": [
            "\n",
            "  0%|          | 195/100000 [00:40<5:12:14,  5.33it/s]\u001b[A\n",
            "  0%|          | 196/100000 [00:40<5:12:07,  5.33it/s]\u001b[A"
          ],
          "name": "stderr"
        },
        {
          "output_type": "stream",
          "text": [
            ">162196, d1[0.227] d2[0.416] g[11.770]\n",
            ">162197, d1[0.341] d2[0.349] g[12.693]\n"
          ],
          "name": "stdout"
        },
        {
          "output_type": "stream",
          "text": [
            "\n",
            "  0%|          | 197/100000 [00:40<5:12:26,  5.32it/s]\u001b[A\n",
            "  0%|          | 198/100000 [00:40<5:13:38,  5.30it/s]\u001b[A"
          ],
          "name": "stderr"
        },
        {
          "output_type": "stream",
          "text": [
            ">162198, d1[0.455] d2[0.227] g[12.884]\n",
            ">162199, d1[0.144] d2[0.277] g[16.726]\n"
          ],
          "name": "stdout"
        },
        {
          "output_type": "stream",
          "text": [
            "\n",
            "  0%|          | 199/100000 [00:40<5:13:12,  5.31it/s]\u001b[A\n",
            "  0%|          | 200/100000 [00:41<5:12:24,  5.32it/s]\u001b[A"
          ],
          "name": "stderr"
        },
        {
          "output_type": "stream",
          "text": [
            ">162200, d1[0.513] d2[0.416] g[11.962]\n",
            ">162201, d1[0.302] d2[0.309] g[12.451]\n"
          ],
          "name": "stdout"
        },
        {
          "output_type": "stream",
          "text": [
            "\n",
            "  0%|          | 201/100000 [00:41<5:12:58,  5.31it/s]\u001b[A\n",
            "  0%|          | 202/100000 [00:41<5:17:23,  5.24it/s]\u001b[A"
          ],
          "name": "stderr"
        },
        {
          "output_type": "stream",
          "text": [
            ">162202, d1[0.400] d2[0.326] g[11.720]\n",
            ">162203, d1[0.252] d2[0.352] g[12.531]\n"
          ],
          "name": "stdout"
        },
        {
          "output_type": "stream",
          "text": [
            "\n",
            "  0%|          | 203/100000 [00:41<5:21:23,  5.18it/s]\u001b[A\n",
            "  0%|          | 204/100000 [00:41<5:20:03,  5.20it/s]\u001b[A"
          ],
          "name": "stderr"
        },
        {
          "output_type": "stream",
          "text": [
            ">162204, d1[0.236] d2[0.292] g[12.583]\n",
            ">162205, d1[0.502] d2[0.288] g[8.566]\n"
          ],
          "name": "stdout"
        },
        {
          "output_type": "stream",
          "text": [
            "\n",
            "  0%|          | 205/100000 [00:42<5:19:27,  5.21it/s]\u001b[A\n",
            "  0%|          | 206/100000 [00:42<5:20:55,  5.18it/s]\u001b[A"
          ],
          "name": "stderr"
        },
        {
          "output_type": "stream",
          "text": [
            ">162206, d1[0.284] d2[0.250] g[14.338]\n",
            ">162207, d1[0.133] d2[0.367] g[14.572]\n"
          ],
          "name": "stdout"
        },
        {
          "output_type": "stream",
          "text": [
            "\n",
            "  0%|          | 207/100000 [00:42<5:18:51,  5.22it/s]\u001b[A\n",
            "  0%|          | 208/100000 [00:42<5:15:50,  5.27it/s]\u001b[A"
          ],
          "name": "stderr"
        },
        {
          "output_type": "stream",
          "text": [
            ">162208, d1[0.199] d2[0.245] g[10.369]\n",
            ">162209, d1[0.102] d2[0.227] g[15.541]\n"
          ],
          "name": "stdout"
        },
        {
          "output_type": "stream",
          "text": [
            "\n",
            "  0%|          | 209/100000 [00:42<5:14:45,  5.28it/s]\u001b[A\n",
            "  0%|          | 210/100000 [00:43<5:13:30,  5.31it/s]\u001b[A"
          ],
          "name": "stderr"
        },
        {
          "output_type": "stream",
          "text": [
            ">162210, d1[0.111] d2[0.486] g[10.781]\n",
            ">162211, d1[0.396] d2[0.240] g[14.751]\n"
          ],
          "name": "stdout"
        },
        {
          "output_type": "stream",
          "text": [
            "\n",
            "  0%|          | 211/100000 [00:43<5:14:12,  5.29it/s]\u001b[A\n",
            "  0%|          | 212/100000 [00:43<5:13:12,  5.31it/s]\u001b[A"
          ],
          "name": "stderr"
        },
        {
          "output_type": "stream",
          "text": [
            ">162212, d1[0.271] d2[0.213] g[14.704]\n",
            ">162213, d1[0.357] d2[0.296] g[12.126]\n"
          ],
          "name": "stdout"
        },
        {
          "output_type": "stream",
          "text": [
            "\n",
            "  0%|          | 213/100000 [00:43<5:13:34,  5.30it/s]\u001b[A\n",
            "  0%|          | 214/100000 [00:43<5:14:48,  5.28it/s]\u001b[A"
          ],
          "name": "stderr"
        },
        {
          "output_type": "stream",
          "text": [
            ">162214, d1[0.402] d2[0.261] g[11.628]\n",
            ">162215, d1[0.265] d2[0.371] g[10.382]\n"
          ],
          "name": "stdout"
        },
        {
          "output_type": "stream",
          "text": [
            "\n",
            "  0%|          | 215/100000 [00:43<5:14:37,  5.29it/s]\u001b[A\n",
            "  0%|          | 216/100000 [00:44<5:13:20,  5.31it/s]\u001b[A"
          ],
          "name": "stderr"
        },
        {
          "output_type": "stream",
          "text": [
            ">162216, d1[0.099] d2[0.498] g[19.025]\n",
            ">162217, d1[0.120] d2[0.188] g[15.354]\n"
          ],
          "name": "stdout"
        },
        {
          "output_type": "stream",
          "text": [
            "\n",
            "  0%|          | 217/100000 [00:44<5:13:49,  5.30it/s]\u001b[A\n",
            "  0%|          | 218/100000 [00:44<5:12:39,  5.32it/s]\u001b[A"
          ],
          "name": "stderr"
        },
        {
          "output_type": "stream",
          "text": [
            ">162218, d1[0.123] d2[0.245] g[18.989]\n",
            ">162219, d1[0.685] d2[0.202] g[11.151]\n"
          ],
          "name": "stdout"
        },
        {
          "output_type": "stream",
          "text": [
            "\n",
            "  0%|          | 219/100000 [00:44<5:14:59,  5.28it/s]\u001b[A\n",
            "  0%|          | 220/100000 [00:44<5:18:01,  5.23it/s]\u001b[A"
          ],
          "name": "stderr"
        },
        {
          "output_type": "stream",
          "text": [
            ">162220, d1[0.284] d2[0.309] g[15.487]\n",
            ">162221, d1[0.253] d2[0.624] g[10.395]\n"
          ],
          "name": "stdout"
        },
        {
          "output_type": "stream",
          "text": [
            "\n",
            "  0%|          | 221/100000 [00:45<5:21:47,  5.17it/s]\u001b[A\n",
            "  0%|          | 222/100000 [00:45<5:19:55,  5.20it/s]\u001b[A"
          ],
          "name": "stderr"
        },
        {
          "output_type": "stream",
          "text": [
            ">162222, d1[0.467] d2[0.318] g[13.980]\n",
            ">162223, d1[0.245] d2[0.324] g[15.140]\n"
          ],
          "name": "stdout"
        },
        {
          "output_type": "stream",
          "text": [
            "\n",
            "  0%|          | 223/100000 [00:45<5:22:07,  5.16it/s]\u001b[A\n",
            "  0%|          | 224/100000 [00:45<5:21:25,  5.17it/s]\u001b[A"
          ],
          "name": "stderr"
        },
        {
          "output_type": "stream",
          "text": [
            ">162224, d1[0.122] d2[0.217] g[18.117]\n",
            ">162225, d1[0.196] d2[0.222] g[15.292]\n"
          ],
          "name": "stdout"
        },
        {
          "output_type": "stream",
          "text": [
            "\n",
            "  0%|          | 225/100000 [00:45<5:22:27,  5.16it/s]\u001b[A\n",
            "  0%|          | 226/100000 [00:46<5:22:51,  5.15it/s]\u001b[A"
          ],
          "name": "stderr"
        },
        {
          "output_type": "stream",
          "text": [
            ">162226, d1[0.118] d2[0.414] g[13.824]\n",
            ">162227, d1[0.424] d2[0.282] g[13.750]\n"
          ],
          "name": "stdout"
        },
        {
          "output_type": "stream",
          "text": [
            "\n",
            "  0%|          | 227/100000 [00:46<5:23:36,  5.14it/s]\u001b[A\n",
            "  0%|          | 228/100000 [00:46<5:24:29,  5.12it/s]\u001b[A"
          ],
          "name": "stderr"
        },
        {
          "output_type": "stream",
          "text": [
            ">162228, d1[0.319] d2[0.341] g[15.120]\n",
            ">162229, d1[0.262] d2[0.205] g[14.107]\n"
          ],
          "name": "stdout"
        },
        {
          "output_type": "stream",
          "text": [
            "\n",
            "  0%|          | 229/100000 [00:46<5:27:32,  5.08it/s]\u001b[A\n",
            "  0%|          | 230/100000 [00:46<5:24:44,  5.12it/s]\u001b[A"
          ],
          "name": "stderr"
        },
        {
          "output_type": "stream",
          "text": [
            ">162230, d1[0.724] d2[0.226] g[11.497]\n",
            ">162231, d1[0.248] d2[0.350] g[10.870]\n"
          ],
          "name": "stdout"
        },
        {
          "output_type": "stream",
          "text": [
            "\n",
            "  0%|          | 231/100000 [00:47<5:27:43,  5.07it/s]\u001b[A\n",
            "  0%|          | 232/100000 [00:47<5:26:28,  5.09it/s]\u001b[A"
          ],
          "name": "stderr"
        },
        {
          "output_type": "stream",
          "text": [
            ">162232, d1[0.498] d2[0.262] g[11.816]\n",
            ">162233, d1[0.366] d2[0.311] g[10.882]\n"
          ],
          "name": "stdout"
        },
        {
          "output_type": "stream",
          "text": [
            "\n",
            "  0%|          | 233/100000 [00:47<5:27:42,  5.07it/s]\u001b[A\n",
            "  0%|          | 234/100000 [00:47<5:26:56,  5.09it/s]\u001b[A"
          ],
          "name": "stderr"
        },
        {
          "output_type": "stream",
          "text": [
            ">162234, d1[0.341] d2[0.424] g[12.081]\n",
            ">162235, d1[0.182] d2[0.381] g[11.896]\n"
          ],
          "name": "stdout"
        },
        {
          "output_type": "stream",
          "text": [
            "\n",
            "  0%|          | 235/100000 [00:47<5:28:10,  5.07it/s]\u001b[A\n",
            "  0%|          | 236/100000 [00:48<5:25:13,  5.11it/s]\u001b[A"
          ],
          "name": "stderr"
        },
        {
          "output_type": "stream",
          "text": [
            ">162236, d1[0.210] d2[0.520] g[14.197]\n",
            ">162237, d1[0.722] d2[0.192] g[11.315]\n"
          ],
          "name": "stdout"
        },
        {
          "output_type": "stream",
          "text": [
            "\n",
            "  0%|          | 237/100000 [00:48<5:30:07,  5.04it/s]\u001b[A\n",
            "  0%|          | 238/100000 [00:48<5:27:34,  5.08it/s]\u001b[A"
          ],
          "name": "stderr"
        },
        {
          "output_type": "stream",
          "text": [
            ">162238, d1[0.568] d2[0.246] g[11.884]\n",
            ">162239, d1[0.362] d2[0.408] g[12.835]\n"
          ],
          "name": "stdout"
        },
        {
          "output_type": "stream",
          "text": [
            "\n",
            "  0%|          | 239/100000 [00:48<5:28:10,  5.07it/s]\u001b[A\n",
            "  0%|          | 240/100000 [00:48<5:25:58,  5.10it/s]\u001b[A"
          ],
          "name": "stderr"
        },
        {
          "output_type": "stream",
          "text": [
            ">162240, d1[0.209] d2[0.462] g[15.682]\n",
            ">162241, d1[0.280] d2[0.249] g[11.415]\n"
          ],
          "name": "stdout"
        },
        {
          "output_type": "stream",
          "text": [
            "\n",
            "  0%|          | 241/100000 [00:49<5:26:26,  5.09it/s]\u001b[A\n",
            "  0%|          | 242/100000 [00:49<5:25:47,  5.10it/s]\u001b[A"
          ],
          "name": "stderr"
        },
        {
          "output_type": "stream",
          "text": [
            ">162242, d1[0.206] d2[0.239] g[13.734]\n",
            ">162243, d1[0.114] d2[0.231] g[16.130]\n"
          ],
          "name": "stdout"
        },
        {
          "output_type": "stream",
          "text": [
            "\n",
            "  0%|          | 243/100000 [00:49<5:25:14,  5.11it/s]\u001b[A"
          ],
          "name": "stderr"
        },
        {
          "output_type": "stream",
          "text": [
            ">162244, d1[0.337] d2[0.232] g[10.804]\n"
          ],
          "name": "stdout"
        },
        {
          "output_type": "stream",
          "text": [
            "\n",
            "  0%|          | 244/100000 [00:49<5:28:26,  5.06it/s]\u001b[A\n",
            "  0%|          | 245/100000 [00:49<5:27:09,  5.08it/s]\u001b[A"
          ],
          "name": "stderr"
        },
        {
          "output_type": "stream",
          "text": [
            ">162245, d1[0.102] d2[0.505] g[14.376]\n",
            ">162246, d1[0.270] d2[0.226] g[12.213]\n"
          ],
          "name": "stdout"
        },
        {
          "output_type": "stream",
          "text": [
            "\n",
            "  0%|          | 246/100000 [00:50<5:27:30,  5.08it/s]\u001b[A\n",
            "  0%|          | 247/100000 [00:50<5:26:11,  5.10it/s]\u001b[A"
          ],
          "name": "stderr"
        },
        {
          "output_type": "stream",
          "text": [
            ">162247, d1[0.263] d2[0.235] g[13.835]\n",
            ">162248, d1[0.122] d2[0.331] g[15.127]\n"
          ],
          "name": "stdout"
        },
        {
          "output_type": "stream",
          "text": [
            "\n",
            "  0%|          | 248/100000 [00:50<5:27:33,  5.08it/s]\u001b[A\n",
            "  0%|          | 249/100000 [00:50<5:27:28,  5.08it/s]\u001b[A"
          ],
          "name": "stderr"
        },
        {
          "output_type": "stream",
          "text": [
            ">162249, d1[0.565] d2[0.238] g[10.552]\n",
            ">162250, d1[0.541] d2[0.233] g[11.241]\n"
          ],
          "name": "stdout"
        },
        {
          "output_type": "stream",
          "text": [
            "\n",
            "  0%|          | 250/100000 [00:50<5:26:33,  5.09it/s]\u001b[A\n",
            "  0%|          | 251/100000 [00:51<5:26:25,  5.09it/s]\u001b[A"
          ],
          "name": "stderr"
        },
        {
          "output_type": "stream",
          "text": [
            ">162251, d1[0.280] d2[0.328] g[12.662]\n",
            ">162252, d1[0.204] d2[0.269] g[12.820]\n"
          ],
          "name": "stdout"
        },
        {
          "output_type": "stream",
          "text": [
            "\n",
            "  0%|          | 252/100000 [00:51<5:28:30,  5.06it/s]\u001b[A\n",
            "  0%|          | 253/100000 [00:51<5:28:00,  5.07it/s]\u001b[A"
          ],
          "name": "stderr"
        },
        {
          "output_type": "stream",
          "text": [
            ">162253, d1[0.196] d2[0.274] g[13.008]\n",
            ">162254, d1[0.299] d2[0.271] g[11.533]\n"
          ],
          "name": "stdout"
        },
        {
          "output_type": "stream",
          "text": [
            "\n",
            "  0%|          | 254/100000 [00:51<5:27:51,  5.07it/s]\u001b[A\n",
            "  0%|          | 255/100000 [00:51<5:26:54,  5.09it/s]\u001b[A"
          ],
          "name": "stderr"
        },
        {
          "output_type": "stream",
          "text": [
            ">162255, d1[0.295] d2[0.317] g[12.084]\n",
            ">162256, d1[0.099] d2[0.531] g[18.246]\n"
          ],
          "name": "stdout"
        },
        {
          "output_type": "stream",
          "text": [
            "\n",
            "  0%|          | 256/100000 [00:52<5:26:44,  5.09it/s]\u001b[A\n",
            "  0%|          | 257/100000 [00:52<5:25:54,  5.10it/s]\u001b[A"
          ],
          "name": "stderr"
        },
        {
          "output_type": "stream",
          "text": [
            ">162257, d1[0.363] d2[0.292] g[13.308]\n",
            ">162258, d1[0.396] d2[0.215] g[11.285]\n"
          ],
          "name": "stdout"
        },
        {
          "output_type": "stream",
          "text": [
            "\n",
            "  0%|          | 258/100000 [00:52<5:28:23,  5.06it/s]\u001b[A\n",
            "  0%|          | 259/100000 [00:52<5:29:17,  5.05it/s]"
          ],
          "name": "stderr"
        },
        {
          "output_type": "stream",
          "text": [
            ">162259, d1[0.206] d2[0.330] g[11.955]\n",
            ">162260, d1[0.189] d2[0.431] g[14.242]\n"
          ],
          "name": "stdout"
        },
        {
          "output_type": "stream",
          "text": [
            "\u001b[A\n",
            "  0%|          | 260/100000 [00:52<5:33:01,  4.99it/s]\u001b[A"
          ],
          "name": "stderr"
        },
        {
          "output_type": "stream",
          "text": [
            ">162261, d1[0.502] d2[0.216] g[11.166]\n"
          ],
          "name": "stdout"
        },
        {
          "output_type": "stream",
          "text": [
            "\n",
            "  0%|          | 261/100000 [00:53<6:53:49,  4.02it/s]\u001b[A\n",
            "  0%|          | 262/100000 [00:53<6:25:12,  4.32it/s]\u001b[A"
          ],
          "name": "stderr"
        },
        {
          "output_type": "stream",
          "text": [
            ">162262, d1[0.352] d2[0.315] g[12.418]\n",
            ">162263, d1[0.177] d2[0.286] g[11.187]\n"
          ],
          "name": "stdout"
        },
        {
          "output_type": "stream",
          "text": [
            "\n",
            "  0%|          | 263/100000 [00:53<6:08:18,  4.51it/s]\u001b[A\n",
            "  0%|          | 264/100000 [00:53<5:55:18,  4.68it/s]\u001b[A"
          ],
          "name": "stderr"
        },
        {
          "output_type": "stream",
          "text": [
            ">162264, d1[0.116] d2[0.416] g[16.927]\n",
            ">162265, d1[0.227] d2[0.281] g[13.115]\n"
          ],
          "name": "stdout"
        },
        {
          "output_type": "stream",
          "text": [
            "\n",
            "  0%|          | 265/100000 [00:53<5:47:24,  4.78it/s]\u001b[A\n",
            "  0%|          | 266/100000 [00:54<5:41:58,  4.86it/s]\u001b[A"
          ],
          "name": "stderr"
        },
        {
          "output_type": "stream",
          "text": [
            ">162266, d1[0.553] d2[0.248] g[12.245]\n",
            ">162267, d1[0.468] d2[0.426] g[12.633]\n"
          ],
          "name": "stdout"
        },
        {
          "output_type": "stream",
          "text": [
            "\n",
            "  0%|          | 267/100000 [00:54<5:37:45,  4.92it/s]\u001b[A\n",
            "  0%|          | 268/100000 [00:54<5:34:33,  4.97it/s]\u001b[A"
          ],
          "name": "stderr"
        },
        {
          "output_type": "stream",
          "text": [
            ">162268, d1[0.229] d2[0.325] g[13.639]\n",
            ">162269, d1[0.340] d2[0.297] g[14.019]\n"
          ],
          "name": "stdout"
        },
        {
          "output_type": "stream",
          "text": [
            "\n",
            "  0%|          | 269/100000 [00:54<5:29:31,  5.04it/s]\u001b[A\n",
            "  0%|          | 270/100000 [00:54<5:26:09,  5.10it/s]\u001b[A"
          ],
          "name": "stderr"
        },
        {
          "output_type": "stream",
          "text": [
            ">162270, d1[0.182] d2[0.297] g[13.021]\n",
            ">162271, d1[0.130] d2[0.319] g[17.291]\n"
          ],
          "name": "stdout"
        },
        {
          "output_type": "stream",
          "text": [
            "\n",
            "  0%|          | 271/100000 [00:55<5:24:01,  5.13it/s]\u001b[A\n",
            "  0%|          | 272/100000 [00:55<5:22:31,  5.15it/s]\u001b[A"
          ],
          "name": "stderr"
        },
        {
          "output_type": "stream",
          "text": [
            ">162272, d1[0.647] d2[0.200] g[11.111]\n",
            ">162273, d1[0.336] d2[0.263] g[13.428]\n"
          ],
          "name": "stdout"
        },
        {
          "output_type": "stream",
          "text": [
            "\n",
            "  0%|          | 273/100000 [00:55<5:21:38,  5.17it/s]\u001b[A\n",
            "  0%|          | 274/100000 [00:55<5:21:35,  5.17it/s]\u001b[A"
          ],
          "name": "stderr"
        },
        {
          "output_type": "stream",
          "text": [
            ">162274, d1[0.112] d2[0.300] g[13.941]\n",
            ">162275, d1[0.245] d2[0.221] g[12.489]\n"
          ],
          "name": "stdout"
        },
        {
          "output_type": "stream",
          "text": [
            "\n",
            "  0%|          | 275/100000 [00:55<5:20:08,  5.19it/s]\u001b[A\n",
            "  0%|          | 276/100000 [00:56<5:19:19,  5.21it/s]\u001b[A"
          ],
          "name": "stderr"
        },
        {
          "output_type": "stream",
          "text": [
            ">162276, d1[0.430] d2[0.235] g[12.747]\n",
            ">162277, d1[0.144] d2[0.459] g[14.054]\n"
          ],
          "name": "stdout"
        },
        {
          "output_type": "stream",
          "text": [
            "\n",
            "  0%|          | 277/100000 [00:56<5:17:58,  5.23it/s]\u001b[A\n",
            "  0%|          | 278/100000 [00:56<5:16:12,  5.26it/s]\u001b[A"
          ],
          "name": "stderr"
        },
        {
          "output_type": "stream",
          "text": [
            ">162278, d1[0.294] d2[0.219] g[13.248]\n",
            ">162279, d1[0.189] d2[0.216] g[13.897]\n"
          ],
          "name": "stdout"
        },
        {
          "output_type": "stream",
          "text": [
            "\n",
            "  0%|          | 279/100000 [00:56<5:14:33,  5.28it/s]\u001b[A\n",
            "  0%|          | 280/100000 [00:56<5:13:00,  5.31it/s]\u001b[A"
          ],
          "name": "stderr"
        },
        {
          "output_type": "stream",
          "text": [
            ">162280, d1[0.496] d2[0.336] g[10.881]\n",
            ">162281, d1[0.429] d2[0.328] g[10.311]\n"
          ],
          "name": "stdout"
        },
        {
          "output_type": "stream",
          "text": [
            "\n",
            "  0%|          | 281/100000 [00:57<5:14:03,  5.29it/s]\u001b[A\n",
            "  0%|          | 282/100000 [00:57<5:12:40,  5.32it/s]\u001b[A"
          ],
          "name": "stderr"
        },
        {
          "output_type": "stream",
          "text": [
            ">162282, d1[0.222] d2[0.573] g[10.092]\n",
            ">162283, d1[0.279] d2[0.262] g[11.523]\n"
          ],
          "name": "stdout"
        },
        {
          "output_type": "stream",
          "text": [
            "\n",
            "  0%|          | 283/100000 [00:57<5:15:31,  5.27it/s]\u001b[A\n",
            "  0%|          | 284/100000 [00:57<5:16:19,  5.25it/s]\u001b[A"
          ],
          "name": "stderr"
        },
        {
          "output_type": "stream",
          "text": [
            ">162284, d1[0.121] d2[0.416] g[13.044]\n",
            ">162285, d1[0.204] d2[0.231] g[14.117]\n"
          ],
          "name": "stdout"
        },
        {
          "output_type": "stream",
          "text": [
            "\n",
            "  0%|          | 285/100000 [00:57<5:15:04,  5.27it/s]\u001b[A\n",
            "  0%|          | 286/100000 [00:57<5:13:32,  5.30it/s]\u001b[A"
          ],
          "name": "stderr"
        },
        {
          "output_type": "stream",
          "text": [
            ">162286, d1[0.344] d2[0.262] g[11.530]\n",
            ">162287, d1[0.169] d2[0.557] g[13.766]\n"
          ],
          "name": "stdout"
        },
        {
          "output_type": "stream",
          "text": [
            "\n",
            "  0%|          | 287/100000 [00:58<5:13:23,  5.30it/s]\u001b[A\n",
            "  0%|          | 288/100000 [00:58<5:11:40,  5.33it/s]\u001b[A"
          ],
          "name": "stderr"
        },
        {
          "output_type": "stream",
          "text": [
            ">162288, d1[0.681] d2[0.229] g[12.313]\n",
            ">162289, d1[0.186] d2[0.293] g[14.058]\n"
          ],
          "name": "stdout"
        },
        {
          "output_type": "stream",
          "text": [
            "\n",
            "  0%|          | 289/100000 [00:58<5:12:06,  5.32it/s]\u001b[A\n",
            "  0%|          | 290/100000 [00:58<5:12:14,  5.32it/s]\u001b[A"
          ],
          "name": "stderr"
        },
        {
          "output_type": "stream",
          "text": [
            ">162290, d1[0.248] d2[0.234] g[13.896]\n",
            ">162291, d1[0.118] d2[0.250] g[12.965]\n"
          ],
          "name": "stdout"
        },
        {
          "output_type": "stream",
          "text": [
            "\n",
            "  0%|          | 291/100000 [00:58<5:16:50,  5.24it/s]\u001b[A\n",
            "  0%|          | 292/100000 [00:59<5:15:24,  5.27it/s]\u001b[A"
          ],
          "name": "stderr"
        },
        {
          "output_type": "stream",
          "text": [
            ">162292, d1[0.453] d2[0.289] g[11.405]\n",
            ">162293, d1[0.122] d2[0.196] g[17.058]\n"
          ],
          "name": "stdout"
        },
        {
          "output_type": "stream",
          "text": [
            "\n",
            "  0%|          | 293/100000 [00:59<5:14:21,  5.29it/s]\u001b[A\n",
            "  0%|          | 294/100000 [00:59<5:12:20,  5.32it/s]\u001b[A"
          ],
          "name": "stderr"
        },
        {
          "output_type": "stream",
          "text": [
            ">162294, d1[0.458] d2[0.347] g[10.669]\n",
            ">162295, d1[0.328] d2[0.381] g[11.905]\n"
          ],
          "name": "stdout"
        },
        {
          "output_type": "stream",
          "text": [
            "\n",
            "  0%|          | 295/100000 [00:59<5:13:36,  5.30it/s]\u001b[A\n",
            "  0%|          | 296/100000 [00:59<5:12:01,  5.33it/s]\u001b[A"
          ],
          "name": "stderr"
        },
        {
          "output_type": "stream",
          "text": [
            ">162296, d1[0.390] d2[0.471] g[15.196]\n",
            ">162297, d1[0.548] d2[0.246] g[11.224]\n"
          ],
          "name": "stdout"
        },
        {
          "output_type": "stream",
          "text": [
            "\n",
            "  0%|          | 297/100000 [01:00<5:12:10,  5.32it/s]\u001b[A\n",
            "  0%|          | 298/100000 [01:00<5:11:42,  5.33it/s]\u001b[A"
          ],
          "name": "stderr"
        },
        {
          "output_type": "stream",
          "text": [
            ">162298, d1[0.429] d2[0.484] g[12.992]\n",
            ">162299, d1[0.353] d2[0.464] g[12.853]\n"
          ],
          "name": "stdout"
        },
        {
          "output_type": "stream",
          "text": [
            "\n",
            "  0%|          | 299/100000 [01:00<5:13:58,  5.29it/s]\u001b[A\n",
            "  0%|          | 300/100000 [01:00<5:12:40,  5.31it/s]\u001b[A"
          ],
          "name": "stderr"
        },
        {
          "output_type": "stream",
          "text": [
            ">162300, d1[0.317] d2[0.260] g[14.041]\n",
            ">162301, d1[0.228] d2[0.346] g[14.002]\n"
          ],
          "name": "stdout"
        },
        {
          "output_type": "stream",
          "text": [
            "\n",
            "  0%|          | 301/100000 [01:00<5:12:18,  5.32it/s]\u001b[A\n",
            "  0%|          | 302/100000 [01:00<5:11:29,  5.33it/s]\u001b[A"
          ],
          "name": "stderr"
        },
        {
          "output_type": "stream",
          "text": [
            ">162302, d1[0.321] d2[0.449] g[12.070]\n",
            ">162303, d1[0.407] d2[0.254] g[11.565]\n"
          ],
          "name": "stdout"
        },
        {
          "output_type": "stream",
          "text": [
            "\n",
            "  0%|          | 303/100000 [01:01<5:11:08,  5.34it/s]\u001b[A\n",
            "  0%|          | 304/100000 [01:01<5:10:44,  5.35it/s]\u001b[A"
          ],
          "name": "stderr"
        },
        {
          "output_type": "stream",
          "text": [
            ">162304, d1[0.240] d2[0.325] g[11.665]\n",
            ">162305, d1[0.288] d2[0.277] g[13.173]\n"
          ],
          "name": "stdout"
        },
        {
          "output_type": "stream",
          "text": [
            "\n",
            "  0%|          | 305/100000 [01:01<5:12:21,  5.32it/s]\u001b[A\n",
            "  0%|          | 306/100000 [01:01<5:16:36,  5.25it/s]\u001b[A"
          ],
          "name": "stderr"
        },
        {
          "output_type": "stream",
          "text": [
            ">162306, d1[0.485] d2[0.485] g[13.222]\n",
            ">162307, d1[0.261] d2[0.361] g[14.417]\n"
          ],
          "name": "stdout"
        },
        {
          "output_type": "stream",
          "text": [
            "\n",
            "  0%|          | 307/100000 [01:01<5:21:46,  5.16it/s]\u001b[A\n",
            "  0%|          | 308/100000 [01:02<5:22:12,  5.16it/s]\u001b[A"
          ],
          "name": "stderr"
        },
        {
          "output_type": "stream",
          "text": [
            ">162308, d1[0.385] d2[0.468] g[12.490]\n",
            ">162309, d1[0.453] d2[0.255] g[11.543]\n"
          ],
          "name": "stdout"
        },
        {
          "output_type": "stream",
          "text": [
            "\n",
            "  0%|          | 309/100000 [01:02<5:22:05,  5.16it/s]\u001b[A\n",
            "  0%|          | 310/100000 [01:02<5:20:52,  5.18it/s]\u001b[A"
          ],
          "name": "stderr"
        },
        {
          "output_type": "stream",
          "text": [
            ">162310, d1[0.330] d2[0.279] g[12.396]\n",
            ">162311, d1[0.446] d2[0.312] g[12.386]\n"
          ],
          "name": "stdout"
        },
        {
          "output_type": "stream",
          "text": [
            "\n",
            "  0%|          | 311/100000 [01:02<5:22:18,  5.15it/s]\u001b[A\n",
            "  0%|          | 312/100000 [01:02<5:22:22,  5.15it/s]\u001b[A"
          ],
          "name": "stderr"
        },
        {
          "output_type": "stream",
          "text": [
            ">162312, d1[0.141] d2[0.458] g[14.693]\n",
            ">162313, d1[0.164] d2[0.263] g[18.570]\n"
          ],
          "name": "stdout"
        },
        {
          "output_type": "stream",
          "text": [
            "\n",
            "  0%|          | 313/100000 [01:03<5:24:34,  5.12it/s]\u001b[A"
          ],
          "name": "stderr"
        },
        {
          "output_type": "stream",
          "text": [
            ">162314, d1[0.576] d2[0.222] g[12.104]\n"
          ],
          "name": "stdout"
        },
        {
          "output_type": "stream",
          "text": [
            "\n",
            "  0%|          | 314/100000 [01:03<5:29:27,  5.04it/s]\u001b[A\n",
            "  0%|          | 315/100000 [01:03<5:27:13,  5.08it/s]\u001b[A"
          ],
          "name": "stderr"
        },
        {
          "output_type": "stream",
          "text": [
            ">162315, d1[0.270] d2[0.443] g[12.824]\n",
            ">162316, d1[0.185] d2[0.260] g[14.893]\n"
          ],
          "name": "stdout"
        },
        {
          "output_type": "stream",
          "text": [
            "\n",
            "  0%|          | 316/100000 [01:03<5:26:32,  5.09it/s]\u001b[A\n",
            "  0%|          | 317/100000 [01:03<5:27:10,  5.08it/s]\u001b[A"
          ],
          "name": "stderr"
        },
        {
          "output_type": "stream",
          "text": [
            ">162317, d1[0.471] d2[0.266] g[10.726]\n",
            ">162318, d1[0.221] d2[0.389] g[13.134]\n"
          ],
          "name": "stdout"
        },
        {
          "output_type": "stream",
          "text": [
            "\n",
            "  0%|          | 318/100000 [01:04<5:25:02,  5.11it/s]\u001b[A\n",
            "  0%|          | 319/100000 [01:04<5:25:19,  5.11it/s]\u001b[A"
          ],
          "name": "stderr"
        },
        {
          "output_type": "stream",
          "text": [
            ">162319, d1[0.143] d2[0.419] g[20.424]\n",
            ">162320, d1[0.150] d2[0.250] g[14.148]\n"
          ],
          "name": "stdout"
        },
        {
          "output_type": "stream",
          "text": [
            "\n",
            "  0%|          | 320/100000 [01:04<5:27:35,  5.07it/s]\u001b[A\n",
            "  0%|          | 321/100000 [01:04<5:28:45,  5.05it/s]"
          ],
          "name": "stderr"
        },
        {
          "output_type": "stream",
          "text": [
            ">162321, d1[0.514] d2[0.193] g[12.461]\n",
            ">162322, d1[0.298] d2[0.349] g[14.337]\n"
          ],
          "name": "stdout"
        },
        {
          "output_type": "stream",
          "text": [
            "\u001b[A\n",
            "  0%|          | 322/100000 [01:04<5:31:45,  5.01it/s]\u001b[A\n",
            "  0%|          | 323/100000 [01:05<5:30:48,  5.02it/s]\u001b[A"
          ],
          "name": "stderr"
        },
        {
          "output_type": "stream",
          "text": [
            ">162323, d1[0.342] d2[0.268] g[12.703]\n",
            ">162324, d1[0.406] d2[0.312] g[14.177]\n"
          ],
          "name": "stdout"
        },
        {
          "output_type": "stream",
          "text": [
            "\n",
            "  0%|          | 324/100000 [01:05<5:30:07,  5.03it/s]\u001b[A\n",
            "  0%|          | 325/100000 [01:05<5:27:45,  5.07it/s]\u001b[A"
          ],
          "name": "stderr"
        },
        {
          "output_type": "stream",
          "text": [
            ">162325, d1[0.449] d2[0.282] g[10.729]\n",
            ">162326, d1[0.358] d2[0.332] g[10.502]\n"
          ],
          "name": "stdout"
        },
        {
          "output_type": "stream",
          "text": [
            "\n",
            "  0%|          | 326/100000 [01:05<5:28:36,  5.06it/s]\u001b[A\n",
            "  0%|          | 327/100000 [01:05<5:28:53,  5.05it/s]\u001b[A"
          ],
          "name": "stderr"
        },
        {
          "output_type": "stream",
          "text": [
            ">162327, d1[0.115] d2[0.288] g[12.299]\n",
            ">162328, d1[0.446] d2[0.299] g[10.354]\n"
          ],
          "name": "stdout"
        },
        {
          "output_type": "stream",
          "text": [
            "\n",
            "  0%|          | 328/100000 [01:06<5:28:46,  5.05it/s]\u001b[A\n",
            "  0%|          | 329/100000 [01:06<5:26:12,  5.09it/s]\u001b[A"
          ],
          "name": "stderr"
        },
        {
          "output_type": "stream",
          "text": [
            ">162329, d1[0.193] d2[0.315] g[12.468]\n",
            ">162330, d1[0.213] d2[0.281] g[11.789]\n"
          ],
          "name": "stdout"
        },
        {
          "output_type": "stream",
          "text": [
            "\n",
            "  0%|          | 330/100000 [01:06<5:30:30,  5.03it/s]\u001b[A\n",
            "  0%|          | 331/100000 [01:06<5:27:54,  5.07it/s]\u001b[A"
          ],
          "name": "stderr"
        },
        {
          "output_type": "stream",
          "text": [
            ">162331, d1[0.373] d2[0.242] g[13.245]\n",
            ">162332, d1[0.119] d2[0.338] g[10.864]\n"
          ],
          "name": "stdout"
        },
        {
          "output_type": "stream",
          "text": [
            "\n",
            "  0%|          | 332/100000 [01:06<5:27:26,  5.07it/s]\u001b[A\n",
            "  0%|          | 333/100000 [01:07<5:25:58,  5.10it/s]\u001b[A"
          ],
          "name": "stderr"
        },
        {
          "output_type": "stream",
          "text": [
            ">162333, d1[0.107] d2[0.199] g[12.201]\n",
            ">162334, d1[0.254] d2[0.270] g[13.740]\n"
          ],
          "name": "stdout"
        },
        {
          "output_type": "stream",
          "text": [
            "\n",
            "  0%|          | 334/100000 [01:07<5:27:41,  5.07it/s]\u001b[A\n",
            "  0%|          | 335/100000 [01:07<5:27:23,  5.07it/s]\u001b[A"
          ],
          "name": "stderr"
        },
        {
          "output_type": "stream",
          "text": [
            ">162335, d1[0.281] d2[0.261] g[11.120]\n",
            ">162336, d1[0.142] d2[0.551] g[14.473]\n"
          ],
          "name": "stdout"
        },
        {
          "output_type": "stream",
          "text": [
            "\n",
            "  0%|          | 336/100000 [01:07<5:27:32,  5.07it/s]\u001b[A\n"
          ],
          "name": "stderr"
        },
        {
          "output_type": "stream",
          "text": [
            ">162337, d1[0.251] d2[0.221] g[11.624]\n",
            ">162338, d1[0.474] d2[0.252] g[11.009]\n"
          ],
          "name": "stdout"
        },
        {
          "output_type": "stream",
          "text": [
            "  0%|          | 337/100000 [01:07<5:29:24,  5.04it/s]\u001b[A\n",
            "  0%|          | 338/100000 [01:08<5:28:49,  5.05it/s]\u001b[A\n",
            "  0%|          | 339/100000 [01:08<5:28:08,  5.06it/s]\u001b[A"
          ],
          "name": "stderr"
        },
        {
          "output_type": "stream",
          "text": [
            ">162339, d1[0.223] d2[0.294] g[10.735]\n",
            ">162340, d1[0.227] d2[0.823] g[16.146]\n"
          ],
          "name": "stdout"
        },
        {
          "output_type": "stream",
          "text": [
            "\n",
            "  0%|          | 340/100000 [01:08<5:27:36,  5.07it/s]\u001b[A"
          ],
          "name": "stderr"
        },
        {
          "output_type": "stream",
          "text": [
            ">162341, d1[0.123] d2[0.248] g[13.706]\n"
          ],
          "name": "stdout"
        },
        {
          "output_type": "stream",
          "text": [
            "\n",
            "  0%|          | 341/100000 [01:08<5:29:30,  5.04it/s]\u001b[A\n",
            "  0%|          | 342/100000 [01:08<5:27:00,  5.08it/s]\u001b[A"
          ],
          "name": "stderr"
        },
        {
          "output_type": "stream",
          "text": [
            ">162342, d1[0.464] d2[0.327] g[10.619]\n",
            ">162343, d1[0.236] d2[0.252] g[13.193]\n"
          ],
          "name": "stdout"
        },
        {
          "output_type": "stream",
          "text": [
            "\n",
            "  0%|          | 343/100000 [01:09<5:27:17,  5.07it/s]\u001b[A\n",
            "  0%|          | 344/100000 [01:09<5:27:08,  5.08it/s]\u001b[A"
          ],
          "name": "stderr"
        },
        {
          "output_type": "stream",
          "text": [
            ">162344, d1[0.238] d2[0.253] g[13.696]\n",
            ">162345, d1[0.333] d2[0.254] g[11.687]\n"
          ],
          "name": "stdout"
        },
        {
          "output_type": "stream",
          "text": [
            "\n",
            "  0%|          | 345/100000 [01:09<5:31:19,  5.01it/s]\u001b[A\n",
            "  0%|          | 346/100000 [01:09<5:30:45,  5.02it/s]\u001b[A"
          ],
          "name": "stderr"
        },
        {
          "output_type": "stream",
          "text": [
            ">162346, d1[0.155] d2[0.223] g[13.656]\n",
            ">162347, d1[0.212] d2[0.471] g[12.363]\n"
          ],
          "name": "stdout"
        },
        {
          "output_type": "stream",
          "text": [
            "\n",
            "  0%|          | 347/100000 [01:09<5:31:38,  5.01it/s]\u001b[A\n",
            "  0%|          | 348/100000 [01:10<5:27:51,  5.07it/s]\u001b[A"
          ],
          "name": "stderr"
        },
        {
          "output_type": "stream",
          "text": [
            ">162348, d1[0.730] d2[0.206] g[9.596]\n",
            ">162349, d1[0.500] d2[0.280] g[11.828]\n"
          ],
          "name": "stdout"
        },
        {
          "output_type": "stream",
          "text": [
            "\n",
            "  0%|          | 349/100000 [01:10<5:26:27,  5.09it/s]\u001b[A\n",
            "  0%|          | 350/100000 [01:10<5:27:37,  5.07it/s]"
          ],
          "name": "stderr"
        },
        {
          "output_type": "stream",
          "text": [
            ">162350, d1[0.385] d2[0.597] g[11.340]\n",
            ">162351, d1[0.161] d2[0.294] g[14.114]\n"
          ],
          "name": "stdout"
        },
        {
          "output_type": "stream",
          "text": [
            "\u001b[A\n",
            "  0%|          | 351/100000 [01:10<5:27:24,  5.07it/s]\u001b[A\n"
          ],
          "name": "stderr"
        },
        {
          "output_type": "stream",
          "text": [
            ">162352, d1[0.392] d2[0.313] g[12.991]\n",
            ">162353, d1[0.252] d2[0.320] g[13.494]\n"
          ],
          "name": "stdout"
        },
        {
          "output_type": "stream",
          "text": [
            "  0%|          | 352/100000 [01:10<5:28:55,  5.05it/s]\u001b[A\n",
            "  0%|          | 353/100000 [01:11<5:32:30,  4.99it/s]\u001b[A\n",
            "  0%|          | 354/100000 [01:11<5:31:29,  5.01it/s]\u001b[A"
          ],
          "name": "stderr"
        },
        {
          "output_type": "stream",
          "text": [
            ">162354, d1[0.397] d2[0.292] g[10.501]\n",
            ">162355, d1[0.477] d2[0.309] g[11.886]\n"
          ],
          "name": "stdout"
        },
        {
          "output_type": "stream",
          "text": [
            "\n",
            "  0%|          | 355/100000 [01:11<5:28:30,  5.06it/s]\u001b[A\n",
            "  0%|          | 356/100000 [01:11<5:24:51,  5.11it/s]\u001b[A"
          ],
          "name": "stderr"
        },
        {
          "output_type": "stream",
          "text": [
            ">162356, d1[0.542] d2[0.312] g[12.852]\n",
            ">162357, d1[0.222] d2[0.516] g[12.286]\n"
          ],
          "name": "stdout"
        },
        {
          "output_type": "stream",
          "text": [
            "\n",
            "  0%|          | 357/100000 [01:11<5:24:22,  5.12it/s]\u001b[A\n",
            "  0%|          | 358/100000 [01:11<5:23:45,  5.13it/s]\u001b[A"
          ],
          "name": "stderr"
        },
        {
          "output_type": "stream",
          "text": [
            ">162358, d1[0.264] d2[0.346] g[12.283]\n",
            ">162359, d1[0.397] d2[0.311] g[12.842]\n"
          ],
          "name": "stdout"
        },
        {
          "output_type": "stream",
          "text": [
            "\n",
            "  0%|          | 359/100000 [01:12<5:22:40,  5.15it/s]\u001b[A"
          ],
          "name": "stderr"
        },
        {
          "output_type": "stream",
          "text": [
            ">162360, d1[0.347] d2[0.298] g[10.199]\n"
          ],
          "name": "stdout"
        },
        {
          "output_type": "stream",
          "text": [
            "\n",
            "  0%|          | 360/100000 [01:12<5:27:45,  5.07it/s]\u001b[A"
          ],
          "name": "stderr"
        },
        {
          "output_type": "stream",
          "text": [
            ">162361, d1[0.156] d2[0.220] g[11.848]\n"
          ],
          "name": "stdout"
        },
        {
          "output_type": "stream",
          "text": [
            "\n",
            "  0%|          | 361/100000 [01:12<5:33:11,  4.98it/s]\u001b[A\n",
            "  0%|          | 362/100000 [01:12<5:31:21,  5.01it/s]\u001b[A"
          ],
          "name": "stderr"
        },
        {
          "output_type": "stream",
          "text": [
            ">162362, d1[0.106] d2[0.288] g[13.167]\n",
            ">162363, d1[0.175] d2[0.617] g[10.437]\n"
          ],
          "name": "stdout"
        },
        {
          "output_type": "stream",
          "text": [
            "\n",
            "  0%|          | 363/100000 [01:12<5:28:57,  5.05it/s]\u001b[A\n",
            "  0%|          | 364/100000 [01:13<5:24:18,  5.12it/s]\u001b[A"
          ],
          "name": "stderr"
        },
        {
          "output_type": "stream",
          "text": [
            ">162364, d1[0.422] d2[0.197] g[13.368]\n",
            ">162365, d1[0.194] d2[0.227] g[13.875]\n"
          ],
          "name": "stdout"
        },
        {
          "output_type": "stream",
          "text": [
            "\n",
            "  0%|          | 365/100000 [01:13<5:20:57,  5.17it/s]\u001b[A\n",
            "  0%|          | 366/100000 [01:13<5:18:25,  5.22it/s]\u001b[A"
          ],
          "name": "stderr"
        },
        {
          "output_type": "stream",
          "text": [
            ">162366, d1[0.465] d2[0.336] g[12.247]\n",
            ">162367, d1[0.408] d2[0.276] g[10.547]\n"
          ],
          "name": "stdout"
        },
        {
          "output_type": "stream",
          "text": [
            "\n",
            "  0%|          | 367/100000 [01:13<5:16:05,  5.25it/s]\u001b[A\n",
            "  0%|          | 368/100000 [01:13<5:18:33,  5.21it/s]\u001b[A"
          ],
          "name": "stderr"
        },
        {
          "output_type": "stream",
          "text": [
            ">162368, d1[0.149] d2[0.280] g[11.513]\n",
            ">162369, d1[0.107] d2[0.205] g[14.467]\n"
          ],
          "name": "stdout"
        },
        {
          "output_type": "stream",
          "text": [
            "\n",
            "  0%|          | 369/100000 [01:14<5:18:06,  5.22it/s]\u001b[A\n",
            "  0%|          | 370/100000 [01:14<5:16:11,  5.25it/s]\u001b[A"
          ],
          "name": "stderr"
        },
        {
          "output_type": "stream",
          "text": [
            ">162370, d1[0.590] d2[0.238] g[11.941]\n",
            ">162371, d1[0.313] d2[0.296] g[12.766]\n"
          ],
          "name": "stdout"
        },
        {
          "output_type": "stream",
          "text": [
            "\n",
            "  0%|          | 371/100000 [01:14<5:16:01,  5.25it/s]\u001b[A\n",
            "  0%|          | 372/100000 [01:14<5:18:43,  5.21it/s]\u001b[A"
          ],
          "name": "stderr"
        },
        {
          "output_type": "stream",
          "text": [
            ">162372, d1[0.198] d2[0.297] g[11.692]\n",
            ">162373, d1[0.108] d2[0.233] g[16.304]\n"
          ],
          "name": "stdout"
        },
        {
          "output_type": "stream",
          "text": [
            "\n",
            "  0%|          | 373/100000 [01:14<5:20:29,  5.18it/s]\u001b[A\n",
            "  0%|          | 374/100000 [01:15<5:19:12,  5.20it/s]\u001b[A"
          ],
          "name": "stderr"
        },
        {
          "output_type": "stream",
          "text": [
            ">162374, d1[0.150] d2[0.236] g[10.317]\n",
            ">162375, d1[0.214] d2[0.283] g[12.771]\n"
          ],
          "name": "stdout"
        },
        {
          "output_type": "stream",
          "text": [
            "\n",
            "  0%|          | 375/100000 [01:15<5:18:02,  5.22it/s]\u001b[A\n",
            "  0%|          | 376/100000 [01:15<5:19:11,  5.20it/s]\u001b[A"
          ],
          "name": "stderr"
        },
        {
          "output_type": "stream",
          "text": [
            ">162376, d1[0.551] d2[0.222] g[11.360]\n",
            ">162377, d1[0.201] d2[0.237] g[13.512]\n"
          ],
          "name": "stdout"
        },
        {
          "output_type": "stream",
          "text": [
            "\n",
            "  0%|          | 377/100000 [01:15<5:17:18,  5.23it/s]\u001b[A\n",
            "  0%|          | 378/100000 [01:15<5:16:16,  5.25it/s]\u001b[A"
          ],
          "name": "stderr"
        },
        {
          "output_type": "stream",
          "text": [
            ">162378, d1[0.182] d2[0.343] g[12.819]\n",
            ">162379, d1[0.439] d2[0.287] g[12.995]\n"
          ],
          "name": "stdout"
        },
        {
          "output_type": "stream",
          "text": [
            "\n",
            "  0%|          | 379/100000 [01:16<5:15:46,  5.26it/s]\u001b[A\n",
            "  0%|          | 380/100000 [01:16<5:15:04,  5.27it/s]\u001b[A"
          ],
          "name": "stderr"
        },
        {
          "output_type": "stream",
          "text": [
            ">162380, d1[0.158] d2[0.579] g[16.042]\n",
            ">162381, d1[0.498] d2[0.300] g[14.040]\n"
          ],
          "name": "stdout"
        },
        {
          "output_type": "stream",
          "text": [
            "\n",
            "  0%|          | 381/100000 [01:16<5:15:37,  5.26it/s]\u001b[A\n",
            "  0%|          | 382/100000 [01:16<5:15:24,  5.26it/s]\u001b[A"
          ],
          "name": "stderr"
        },
        {
          "output_type": "stream",
          "text": [
            ">162382, d1[0.500] d2[0.364] g[8.589]\n",
            ">162383, d1[0.143] d2[0.350] g[13.239]\n"
          ],
          "name": "stdout"
        },
        {
          "output_type": "stream",
          "text": [
            "\n",
            "  0%|          | 383/100000 [01:16<5:15:45,  5.26it/s]\u001b[A\n",
            "  0%|          | 384/100000 [01:16<5:17:56,  5.22it/s]\u001b[A"
          ],
          "name": "stderr"
        },
        {
          "output_type": "stream",
          "text": [
            ">162384, d1[0.227] d2[0.265] g[16.435]\n",
            ">162385, d1[0.415] d2[0.231] g[11.789]\n"
          ],
          "name": "stdout"
        },
        {
          "output_type": "stream",
          "text": [
            "\n",
            "  0%|          | 385/100000 [01:17<5:16:32,  5.24it/s]\u001b[A\n",
            "  0%|          | 386/100000 [01:17<5:17:46,  5.22it/s]\u001b[A"
          ],
          "name": "stderr"
        },
        {
          "output_type": "stream",
          "text": [
            ">162386, d1[0.121] d2[0.273] g[15.595]\n",
            ">162387, d1[0.243] d2[0.243] g[12.486]\n"
          ],
          "name": "stdout"
        },
        {
          "output_type": "stream",
          "text": [
            "\n",
            "  0%|          | 387/100000 [01:17<5:19:32,  5.20it/s]\u001b[A\n",
            "  0%|          | 388/100000 [01:17<5:20:23,  5.18it/s]\u001b[A"
          ],
          "name": "stderr"
        },
        {
          "output_type": "stream",
          "text": [
            ">162388, d1[0.192] d2[0.217] g[14.679]\n",
            ">162389, d1[0.469] d2[0.277] g[13.047]\n"
          ],
          "name": "stdout"
        },
        {
          "output_type": "stream",
          "text": [
            "\n",
            "  0%|          | 389/100000 [01:17<5:20:21,  5.18it/s]\u001b[A\n",
            "  0%|          | 390/100000 [01:18<5:18:04,  5.22it/s]\u001b[A"
          ],
          "name": "stderr"
        },
        {
          "output_type": "stream",
          "text": [
            ">162390, d1[0.150] d2[0.259] g[16.146]\n",
            ">162391, d1[0.123] d2[0.433] g[14.932]\n"
          ],
          "name": "stdout"
        },
        {
          "output_type": "stream",
          "text": [
            "\n",
            "  0%|          | 391/100000 [01:18<5:19:35,  5.19it/s]\u001b[A\n",
            "  0%|          | 392/100000 [01:18<5:19:15,  5.20it/s]\u001b[A"
          ],
          "name": "stderr"
        },
        {
          "output_type": "stream",
          "text": [
            ">162392, d1[0.502] d2[0.355] g[13.561]\n",
            ">162393, d1[0.181] d2[0.416] g[13.203]\n"
          ],
          "name": "stdout"
        },
        {
          "output_type": "stream",
          "text": [
            "\n",
            "  0%|          | 393/100000 [01:18<5:23:43,  5.13it/s]\u001b[A\n",
            "  0%|          | 394/100000 [01:18<5:25:12,  5.10it/s]\u001b[A"
          ],
          "name": "stderr"
        },
        {
          "output_type": "stream",
          "text": [
            ">162394, d1[0.334] d2[0.249] g[14.654]\n",
            ">162395, d1[0.183] d2[0.206] g[15.593]\n"
          ],
          "name": "stdout"
        },
        {
          "output_type": "stream",
          "text": [
            "\n",
            "  0%|          | 395/100000 [01:19<5:26:09,  5.09it/s]\u001b[A\n",
            "  0%|          | 396/100000 [01:19<5:23:39,  5.13it/s]\u001b[A"
          ],
          "name": "stderr"
        },
        {
          "output_type": "stream",
          "text": [
            ">162396, d1[0.472] d2[0.337] g[12.549]\n",
            ">162397, d1[0.232] d2[0.408] g[13.126]\n"
          ],
          "name": "stdout"
        },
        {
          "output_type": "stream",
          "text": [
            "\n",
            "  0%|          | 397/100000 [01:19<5:23:27,  5.13it/s]\u001b[A\n",
            "  0%|          | 398/100000 [01:19<5:24:00,  5.12it/s]\u001b[A"
          ],
          "name": "stderr"
        },
        {
          "output_type": "stream",
          "text": [
            ">162398, d1[0.598] d2[0.314] g[10.610]\n",
            ">162399, d1[0.384] d2[0.359] g[14.176]\n"
          ],
          "name": "stdout"
        },
        {
          "output_type": "stream",
          "text": [
            "\n",
            "  0%|          | 399/100000 [01:19<5:27:28,  5.07it/s]\u001b[A\n",
            "  0%|          | 400/100000 [01:20<5:26:01,  5.09it/s]\u001b[A"
          ],
          "name": "stderr"
        },
        {
          "output_type": "stream",
          "text": [
            ">162400, d1[0.107] d2[0.374] g[16.561]\n",
            ">162401, d1[0.303] d2[0.276] g[14.198]\n"
          ],
          "name": "stdout"
        },
        {
          "output_type": "stream",
          "text": [
            "\n",
            "  0%|          | 401/100000 [01:20<5:28:13,  5.06it/s]\u001b[A\n",
            "  0%|          | 402/100000 [01:20<5:27:59,  5.06it/s]\u001b[A"
          ],
          "name": "stderr"
        },
        {
          "output_type": "stream",
          "text": [
            ">162402, d1[0.541] d2[0.231] g[11.605]\n",
            ">162403, d1[0.240] d2[0.246] g[11.686]\n"
          ],
          "name": "stdout"
        },
        {
          "output_type": "stream",
          "text": [
            "\n",
            "  0%|          | 403/100000 [01:20<5:28:37,  5.05it/s]\u001b[A\n",
            "  0%|          | 404/100000 [01:20<5:28:30,  5.05it/s]\u001b[A"
          ],
          "name": "stderr"
        },
        {
          "output_type": "stream",
          "text": [
            ">162404, d1[0.366] d2[0.218] g[12.981]\n",
            ">162405, d1[0.301] d2[0.543] g[12.383]\n"
          ],
          "name": "stdout"
        },
        {
          "output_type": "stream",
          "text": [
            "\n",
            "  0%|          | 405/100000 [01:21<5:31:24,  5.01it/s]\u001b[A\n",
            "  0%|          | 406/100000 [01:21<5:31:02,  5.01it/s]\u001b[A"
          ],
          "name": "stderr"
        },
        {
          "output_type": "stream",
          "text": [
            ">162406, d1[0.352] d2[0.396] g[12.690]\n",
            ">162407, d1[0.409] d2[0.248] g[12.702]\n"
          ],
          "name": "stdout"
        },
        {
          "output_type": "stream",
          "text": [
            "\n",
            "  0%|          | 407/100000 [01:21<5:36:51,  4.93it/s]\u001b[A"
          ],
          "name": "stderr"
        },
        {
          "output_type": "stream",
          "text": [
            ">162408, d1[0.114] d2[0.273] g[15.465]\n"
          ],
          "name": "stdout"
        },
        {
          "output_type": "stream",
          "text": [
            "\n",
            "  0%|          | 408/100000 [01:21<5:36:01,  4.94it/s]\u001b[A\n",
            "  0%|          | 409/100000 [01:21<5:34:28,  4.96it/s]"
          ],
          "name": "stderr"
        },
        {
          "output_type": "stream",
          "text": [
            ">162409, d1[0.160] d2[0.378] g[16.003]\n",
            ">162410, d1[0.188] d2[0.302] g[12.695]\n"
          ],
          "name": "stdout"
        },
        {
          "output_type": "stream",
          "text": [
            "\u001b[A\n",
            "  0%|          | 410/100000 [01:22<5:34:20,  4.96it/s]\u001b[A\n",
            "  0%|          | 411/100000 [01:22<5:32:21,  4.99it/s]\u001b[A"
          ],
          "name": "stderr"
        },
        {
          "output_type": "stream",
          "text": [
            ">162411, d1[0.550] d2[0.266] g[11.932]\n",
            ">162412, d1[0.135] d2[0.204] g[13.445]\n"
          ],
          "name": "stdout"
        },
        {
          "output_type": "stream",
          "text": [
            "\n",
            "  0%|          | 412/100000 [01:22<5:30:48,  5.02it/s]\u001b[A\n",
            "  0%|          | 413/100000 [01:22<5:30:14,  5.03it/s]\u001b[A"
          ],
          "name": "stderr"
        },
        {
          "output_type": "stream",
          "text": [
            ">162413, d1[0.436] d2[0.302] g[13.472]\n",
            ">162414, d1[0.442] d2[0.240] g[11.559]\n"
          ],
          "name": "stdout"
        },
        {
          "output_type": "stream",
          "text": [
            "\n",
            "  0%|          | 414/100000 [01:22<5:32:47,  4.99it/s]\u001b[A\n",
            "  0%|          | 415/100000 [01:23<5:31:37,  5.00it/s]\u001b[A"
          ],
          "name": "stderr"
        },
        {
          "output_type": "stream",
          "text": [
            ">162415, d1[0.404] d2[0.321] g[13.546]\n",
            ">162416, d1[0.110] d2[0.244] g[14.912]\n"
          ],
          "name": "stdout"
        },
        {
          "output_type": "stream",
          "text": [
            "\n",
            "  0%|          | 416/100000 [01:23<5:30:59,  5.01it/s]\u001b[A\n",
            "  0%|          | 417/100000 [01:23<5:30:04,  5.03it/s]\u001b[A"
          ],
          "name": "stderr"
        },
        {
          "output_type": "stream",
          "text": [
            ">162417, d1[0.477] d2[0.384] g[12.125]\n",
            ">162418, d1[0.311] d2[0.381] g[11.815]\n"
          ],
          "name": "stdout"
        },
        {
          "output_type": "stream",
          "text": [
            "\n",
            "  0%|          | 418/100000 [01:23<5:30:02,  5.03it/s]\u001b[A\n",
            "  0%|          | 419/100000 [01:23<5:29:02,  5.04it/s]\u001b[A"
          ],
          "name": "stderr"
        },
        {
          "output_type": "stream",
          "text": [
            ">162419, d1[0.399] d2[0.257] g[9.652]\n",
            ">162420, d1[0.419] d2[0.291] g[9.774]\n"
          ],
          "name": "stdout"
        },
        {
          "output_type": "stream",
          "text": [
            "\n",
            "  0%|          | 420/100000 [01:24<5:30:44,  5.02it/s]\u001b[A\n",
            "  0%|          | 421/100000 [01:24<5:28:52,  5.05it/s]\u001b[A"
          ],
          "name": "stderr"
        },
        {
          "output_type": "stream",
          "text": [
            ">162421, d1[0.147] d2[0.330] g[12.599]\n",
            ">162422, d1[0.343] d2[0.335] g[12.313]\n"
          ],
          "name": "stdout"
        },
        {
          "output_type": "stream",
          "text": [
            "\n",
            "  0%|          | 422/100000 [01:24<5:32:29,  4.99it/s]\u001b[A\n",
            "  0%|          | 423/100000 [01:24<5:29:35,  5.04it/s]\u001b[A"
          ],
          "name": "stderr"
        },
        {
          "output_type": "stream",
          "text": [
            ">162423, d1[0.333] d2[0.483] g[11.200]\n",
            ">162424, d1[0.110] d2[0.224] g[14.694]\n"
          ],
          "name": "stdout"
        },
        {
          "output_type": "stream",
          "text": [
            "\n",
            "  0%|          | 424/100000 [01:24<5:30:49,  5.02it/s]\u001b[A\n",
            "  0%|          | 425/100000 [01:25<5:31:07,  5.01it/s]"
          ],
          "name": "stderr"
        },
        {
          "output_type": "stream",
          "text": [
            ">162425, d1[0.193] d2[0.240] g[12.690]\n",
            ">162426, d1[0.362] d2[0.276] g[12.358]\n"
          ],
          "name": "stdout"
        },
        {
          "output_type": "stream",
          "text": [
            "\u001b[A\n",
            "  0%|          | 426/100000 [01:25<5:30:02,  5.03it/s]\u001b[A\n",
            "  0%|          | 427/100000 [01:25<5:29:42,  5.03it/s]\u001b[A"
          ],
          "name": "stderr"
        },
        {
          "output_type": "stream",
          "text": [
            ">162427, d1[0.218] d2[0.353] g[12.693]\n",
            ">162428, d1[0.163] d2[0.500] g[12.695]\n"
          ],
          "name": "stdout"
        },
        {
          "output_type": "stream",
          "text": [
            "\n",
            "  0%|          | 428/100000 [01:25<5:30:18,  5.02it/s]\u001b[A\n",
            "  0%|          | 429/100000 [01:25<5:29:34,  5.04it/s]\u001b[A"
          ],
          "name": "stderr"
        },
        {
          "output_type": "stream",
          "text": [
            ">162429, d1[0.156] d2[0.198] g[15.553]\n",
            ">162430, d1[0.516] d2[0.358] g[14.243]\n"
          ],
          "name": "stdout"
        },
        {
          "output_type": "stream",
          "text": [
            "\n",
            "  0%|          | 430/100000 [01:26<5:31:51,  5.00it/s]\u001b[A\n",
            "  0%|          | 431/100000 [01:26<5:30:11,  5.03it/s]\u001b[A"
          ],
          "name": "stderr"
        },
        {
          "output_type": "stream",
          "text": [
            ">162431, d1[0.222] d2[0.293] g[14.520]\n",
            ">162432, d1[0.435] d2[0.254] g[11.582]\n"
          ],
          "name": "stdout"
        },
        {
          "output_type": "stream",
          "text": [
            "\n",
            "  0%|          | 432/100000 [01:26<5:30:09,  5.03it/s]\u001b[A\n",
            "  0%|          | 433/100000 [01:26<5:29:34,  5.04it/s]\u001b[A"
          ],
          "name": "stderr"
        },
        {
          "output_type": "stream",
          "text": [
            ">162433, d1[0.106] d2[0.230] g[15.746]\n",
            ">162434, d1[0.545] d2[0.235] g[11.052]\n"
          ],
          "name": "stdout"
        },
        {
          "output_type": "stream",
          "text": [
            "\n",
            "  0%|          | 434/100000 [01:26<5:33:23,  4.98it/s]\u001b[A\n",
            "  0%|          | 435/100000 [01:27<5:30:19,  5.02it/s]\u001b[A"
          ],
          "name": "stderr"
        },
        {
          "output_type": "stream",
          "text": [
            ">162435, d1[0.519] d2[0.278] g[11.083]\n",
            ">162436, d1[0.144] d2[0.439] g[12.405]\n"
          ],
          "name": "stdout"
        },
        {
          "output_type": "stream",
          "text": [
            "\n",
            "  0%|          | 436/100000 [01:27<5:28:19,  5.05it/s]\u001b[A\n",
            "  0%|          | 437/100000 [01:27<5:25:53,  5.09it/s]\u001b[A"
          ],
          "name": "stderr"
        },
        {
          "output_type": "stream",
          "text": [
            ">162437, d1[0.249] d2[0.263] g[13.032]\n",
            ">162438, d1[0.130] d2[0.339] g[13.646]\n"
          ],
          "name": "stdout"
        },
        {
          "output_type": "stream",
          "text": [
            "\n",
            "  0%|          | 438/100000 [01:27<5:30:52,  5.02it/s]\u001b[A\n",
            "  0%|          | 439/100000 [01:27<5:29:40,  5.03it/s]\u001b[A"
          ],
          "name": "stderr"
        },
        {
          "output_type": "stream",
          "text": [
            ">162439, d1[0.360] d2[0.266] g[11.102]\n",
            ">162440, d1[0.480] d2[0.276] g[9.561]\n"
          ],
          "name": "stdout"
        },
        {
          "output_type": "stream",
          "text": [
            "\n",
            "  0%|          | 440/100000 [01:28<5:30:39,  5.02it/s]\u001b[A\n",
            "  0%|          | 441/100000 [01:28<5:30:05,  5.03it/s]\u001b[A"
          ],
          "name": "stderr"
        },
        {
          "output_type": "stream",
          "text": [
            ">162441, d1[0.389] d2[0.311] g[10.792]\n",
            ">162442, d1[0.427] d2[0.419] g[10.138]\n"
          ],
          "name": "stdout"
        },
        {
          "output_type": "stream",
          "text": [
            "\n",
            "  0%|          | 442/100000 [01:28<5:29:35,  5.03it/s]\u001b[A\n",
            "  0%|          | 443/100000 [01:28<5:26:51,  5.08it/s]\u001b[A"
          ],
          "name": "stderr"
        },
        {
          "output_type": "stream",
          "text": [
            ">162443, d1[0.276] d2[0.300] g[13.062]\n",
            ">162444, d1[0.176] d2[0.446] g[13.113]\n"
          ],
          "name": "stdout"
        },
        {
          "output_type": "stream",
          "text": [
            "\n",
            "  0%|          | 444/100000 [01:28<5:25:30,  5.10it/s]\u001b[A\n",
            "  0%|          | 445/100000 [01:29<5:25:48,  5.09it/s]\u001b[A"
          ],
          "name": "stderr"
        },
        {
          "output_type": "stream",
          "text": [
            ">162445, d1[0.259] d2[0.313] g[11.965]\n",
            ">162446, d1[0.102] d2[0.248] g[18.489]\n"
          ],
          "name": "stdout"
        },
        {
          "output_type": "stream",
          "text": [
            "\n",
            "  0%|          | 446/100000 [01:29<5:24:41,  5.11it/s]\u001b[A\n",
            "  0%|          | 447/100000 [01:29<5:23:10,  5.13it/s]\u001b[A"
          ],
          "name": "stderr"
        },
        {
          "output_type": "stream",
          "text": [
            ">162447, d1[0.234] d2[0.286] g[12.553]\n",
            ">162448, d1[0.305] d2[0.248] g[12.944]\n"
          ],
          "name": "stdout"
        },
        {
          "output_type": "stream",
          "text": [
            "\n",
            "  0%|          | 448/100000 [01:29<5:23:08,  5.13it/s]\u001b[A\n",
            "  0%|          | 449/100000 [01:29<5:22:19,  5.15it/s]\u001b[A"
          ],
          "name": "stderr"
        },
        {
          "output_type": "stream",
          "text": [
            ">162449, d1[0.451] d2[0.287] g[11.595]\n",
            ">162450, d1[0.438] d2[0.601] g[10.521]\n"
          ],
          "name": "stdout"
        },
        {
          "output_type": "stream",
          "text": [
            "\n",
            "  0%|          | 450/100000 [01:30<5:22:07,  5.15it/s]\u001b[A\n",
            "  0%|          | 451/100000 [01:30<5:19:20,  5.20it/s]\u001b[A"
          ],
          "name": "stderr"
        },
        {
          "output_type": "stream",
          "text": [
            ">162451, d1[0.352] d2[0.405] g[10.921]\n",
            ">162452, d1[0.325] d2[0.406] g[12.707]\n"
          ],
          "name": "stdout"
        },
        {
          "output_type": "stream",
          "text": [
            "\n",
            "  0%|          | 452/100000 [01:30<5:17:34,  5.22it/s]\u001b[A\n",
            "  0%|          | 453/100000 [01:30<5:16:43,  5.24it/s]\u001b[A"
          ],
          "name": "stderr"
        },
        {
          "output_type": "stream",
          "text": [
            ">162453, d1[0.428] d2[0.267] g[11.811]\n",
            ">162454, d1[0.264] d2[0.287] g[11.795]\n"
          ],
          "name": "stdout"
        },
        {
          "output_type": "stream",
          "text": [
            "\n",
            "  0%|          | 454/100000 [01:30<5:15:55,  5.25it/s]\u001b[A\n",
            "  0%|          | 455/100000 [01:30<5:13:30,  5.29it/s]\u001b[A"
          ],
          "name": "stderr"
        },
        {
          "output_type": "stream",
          "text": [
            ">162455, d1[0.299] d2[0.286] g[13.113]\n",
            ">162456, d1[0.110] d2[0.297] g[13.817]\n"
          ],
          "name": "stdout"
        },
        {
          "output_type": "stream",
          "text": [
            "\n",
            "  0%|          | 456/100000 [01:31<5:14:20,  5.28it/s]\u001b[A\n",
            "  0%|          | 457/100000 [01:31<5:13:20,  5.29it/s]\u001b[A"
          ],
          "name": "stderr"
        },
        {
          "output_type": "stream",
          "text": [
            ">162457, d1[0.157] d2[0.214] g[15.574]\n",
            ">162458, d1[0.311] d2[0.499] g[12.788]\n"
          ],
          "name": "stdout"
        },
        {
          "output_type": "stream",
          "text": [
            "\n",
            "  0%|          | 458/100000 [01:31<5:11:57,  5.32it/s]\u001b[A\n",
            "  0%|          | 459/100000 [01:31<5:10:48,  5.34it/s]\u001b[A"
          ],
          "name": "stderr"
        },
        {
          "output_type": "stream",
          "text": [
            ">162459, d1[0.315] d2[0.567] g[11.474]\n",
            ">162460, d1[0.237] d2[0.313] g[16.234]\n"
          ],
          "name": "stdout"
        },
        {
          "output_type": "stream",
          "text": [
            "\n",
            "  0%|          | 460/100000 [01:31<5:10:18,  5.35it/s]\u001b[A\n",
            "  0%|          | 461/100000 [01:32<5:12:55,  5.30it/s]\u001b[A"
          ],
          "name": "stderr"
        },
        {
          "output_type": "stream",
          "text": [
            ">162461, d1[0.149] d2[0.207] g[14.407]\n",
            ">162462, d1[0.294] d2[0.196] g[20.652]\n"
          ],
          "name": "stdout"
        },
        {
          "output_type": "stream",
          "text": [
            "\n",
            "  0%|          | 462/100000 [01:32<5:11:50,  5.32it/s]\u001b[A\n",
            "  0%|          | 463/100000 [01:32<5:12:11,  5.31it/s]\u001b[A"
          ],
          "name": "stderr"
        },
        {
          "output_type": "stream",
          "text": [
            ">162463, d1[0.528] d2[0.251] g[12.004]\n",
            ">162464, d1[0.221] d2[0.279] g[11.937]\n"
          ],
          "name": "stdout"
        },
        {
          "output_type": "stream",
          "text": [
            "\n",
            "  0%|          | 464/100000 [01:32<5:13:23,  5.29it/s]\u001b[A\n",
            "  0%|          | 465/100000 [01:32<5:11:42,  5.32it/s]\u001b[A"
          ],
          "name": "stderr"
        },
        {
          "output_type": "stream",
          "text": [
            ">162465, d1[0.366] d2[0.481] g[11.955]\n",
            ">162466, d1[0.388] d2[0.383] g[12.896]\n"
          ],
          "name": "stdout"
        },
        {
          "output_type": "stream",
          "text": [
            "\n",
            "  0%|          | 466/100000 [01:33<5:11:51,  5.32it/s]\u001b[A\n",
            "  0%|          | 467/100000 [01:33<5:10:49,  5.34it/s]\u001b[A"
          ],
          "name": "stderr"
        },
        {
          "output_type": "stream",
          "text": [
            ">162467, d1[0.542] d2[0.293] g[9.770]\n",
            ">162468, d1[0.174] d2[0.327] g[11.224]\n"
          ],
          "name": "stdout"
        },
        {
          "output_type": "stream",
          "text": [
            "\n",
            "  0%|          | 468/100000 [01:33<5:11:25,  5.33it/s]\u001b[A\n",
            "  0%|          | 469/100000 [01:33<5:14:09,  5.28it/s]\u001b[A"
          ],
          "name": "stderr"
        },
        {
          "output_type": "stream",
          "text": [
            ">162469, d1[0.428] d2[0.226] g[10.488]\n",
            ">162470, d1[0.137] d2[0.566] g[13.208]\n"
          ],
          "name": "stdout"
        },
        {
          "output_type": "stream",
          "text": [
            "\n",
            "  0%|          | 470/100000 [01:33<5:13:11,  5.30it/s]\u001b[A\n",
            "  0%|          | 471/100000 [01:33<5:11:41,  5.32it/s]\u001b[A"
          ],
          "name": "stderr"
        },
        {
          "output_type": "stream",
          "text": [
            ">162471, d1[0.111] d2[0.352] g[19.824]\n",
            ">162472, d1[0.485] d2[0.236] g[13.851]\n"
          ],
          "name": "stdout"
        },
        {
          "output_type": "stream",
          "text": [
            "\n",
            "  0%|          | 472/100000 [01:34<5:11:52,  5.32it/s]\u001b[A\n",
            "  0%|          | 473/100000 [01:34<5:11:44,  5.32it/s]\u001b[A"
          ],
          "name": "stderr"
        },
        {
          "output_type": "stream",
          "text": [
            ">162473, d1[0.314] d2[0.275] g[9.994]\n",
            ">162474, d1[0.320] d2[0.208] g[11.131]\n"
          ],
          "name": "stdout"
        },
        {
          "output_type": "stream",
          "text": [
            "\n",
            "  0%|          | 474/100000 [01:34<5:11:57,  5.32it/s]\u001b[A\n",
            "  0%|          | 475/100000 [01:34<5:11:23,  5.33it/s]\u001b[A"
          ],
          "name": "stderr"
        },
        {
          "output_type": "stream",
          "text": [
            ">162475, d1[0.145] d2[0.244] g[16.572]\n",
            ">162476, d1[0.220] d2[0.373] g[11.723]\n"
          ],
          "name": "stdout"
        },
        {
          "output_type": "stream",
          "text": [
            "\n",
            "  0%|          | 476/100000 [01:34<5:14:11,  5.28it/s]\u001b[A\n",
            "  0%|          | 477/100000 [01:35<5:16:41,  5.24it/s]\u001b[A"
          ],
          "name": "stderr"
        },
        {
          "output_type": "stream",
          "text": [
            ">162477, d1[0.516] d2[0.257] g[10.336]\n",
            ">162478, d1[0.335] d2[0.729] g[12.104]\n"
          ],
          "name": "stdout"
        },
        {
          "output_type": "stream",
          "text": [
            "\n",
            "  0%|          | 478/100000 [01:35<5:16:00,  5.25it/s]\u001b[A\n",
            "  0%|          | 479/100000 [01:35<5:19:25,  5.19it/s]\u001b[A"
          ],
          "name": "stderr"
        },
        {
          "output_type": "stream",
          "text": [
            ">162479, d1[0.577] d2[0.227] g[10.511]\n",
            ">162480, d1[0.212] d2[0.420] g[13.251]\n"
          ],
          "name": "stdout"
        },
        {
          "output_type": "stream",
          "text": [
            "\n",
            "  0%|          | 480/100000 [01:35<5:20:25,  5.18it/s]\u001b[A\n",
            "  0%|          | 481/100000 [01:35<5:20:59,  5.17it/s]\u001b[A"
          ],
          "name": "stderr"
        },
        {
          "output_type": "stream",
          "text": [
            ">162481, d1[0.502] d2[0.281] g[9.252]\n",
            ">162482, d1[0.176] d2[0.430] g[12.982]\n"
          ],
          "name": "stdout"
        },
        {
          "output_type": "stream",
          "text": [
            "\n",
            "  0%|          | 482/100000 [01:36<5:26:41,  5.08it/s]\u001b[A\n",
            "  0%|          | 483/100000 [01:36<5:24:38,  5.11it/s]\u001b[A"
          ],
          "name": "stderr"
        },
        {
          "output_type": "stream",
          "text": [
            ">162483, d1[0.332] d2[0.244] g[12.214]\n",
            ">162484, d1[0.423] d2[0.260] g[10.485]\n"
          ],
          "name": "stdout"
        },
        {
          "output_type": "stream",
          "text": [
            "\n",
            "  0%|          | 484/100000 [01:36<5:29:17,  5.04it/s]\u001b[A\n",
            "  0%|          | 485/100000 [01:36<5:29:03,  5.04it/s]\u001b[A"
          ],
          "name": "stderr"
        },
        {
          "output_type": "stream",
          "text": [
            ">162485, d1[0.180] d2[0.282] g[10.355]\n",
            ">162486, d1[0.128] d2[0.214] g[14.066]\n"
          ],
          "name": "stdout"
        },
        {
          "output_type": "stream",
          "text": [
            "\n",
            "  0%|          | 486/100000 [01:36<5:28:58,  5.04it/s]\u001b[A\n"
          ],
          "name": "stderr"
        },
        {
          "output_type": "stream",
          "text": [
            ">162487, d1[0.177] d2[0.217] g[14.251]\n",
            ">162488, d1[0.380] d2[0.286] g[12.851]\n"
          ],
          "name": "stdout"
        },
        {
          "output_type": "stream",
          "text": [
            "  0%|          | 487/100000 [01:37<5:30:01,  5.03it/s]\u001b[A\n",
            "  0%|          | 488/100000 [01:37<5:28:52,  5.04it/s]\u001b[A\n",
            "  0%|          | 489/100000 [01:37<5:27:46,  5.06it/s]\u001b[A"
          ],
          "name": "stderr"
        },
        {
          "output_type": "stream",
          "text": [
            ">162489, d1[0.164] d2[0.235] g[12.072]\n",
            ">162490, d1[0.161] d2[0.376] g[11.488]\n"
          ],
          "name": "stdout"
        },
        {
          "output_type": "stream",
          "text": [
            "\n",
            "  0%|          | 490/100000 [01:37<5:27:00,  5.07it/s]\u001b[A\n",
            "  0%|          | 491/100000 [01:37<5:26:47,  5.07it/s]\u001b[A"
          ],
          "name": "stderr"
        },
        {
          "output_type": "stream",
          "text": [
            ">162491, d1[0.146] d2[0.300] g[15.536]\n",
            ">162492, d1[0.457] d2[0.263] g[12.562]\n"
          ],
          "name": "stdout"
        },
        {
          "output_type": "stream",
          "text": [
            "\n",
            "  0%|          | 492/100000 [01:38<5:30:26,  5.02it/s]\u001b[A\n",
            "  0%|          | 493/100000 [01:38<5:29:21,  5.04it/s]\u001b[A"
          ],
          "name": "stderr"
        },
        {
          "output_type": "stream",
          "text": [
            ">162493, d1[0.247] d2[0.314] g[13.804]\n",
            ">162494, d1[0.490] d2[0.334] g[10.882]\n"
          ],
          "name": "stdout"
        },
        {
          "output_type": "stream",
          "text": [
            "\n",
            "  0%|          | 494/100000 [01:38<5:29:30,  5.03it/s]\u001b[A\n",
            "  0%|          | 495/100000 [01:38<5:27:57,  5.06it/s]\u001b[A"
          ],
          "name": "stderr"
        },
        {
          "output_type": "stream",
          "text": [
            ">162495, d1[0.115] d2[0.337] g[13.032]\n",
            ">162496, d1[0.186] d2[0.361] g[14.683]\n"
          ],
          "name": "stdout"
        },
        {
          "output_type": "stream",
          "text": [
            "\n",
            "  0%|          | 496/100000 [01:38<5:27:27,  5.06it/s]\u001b[A\n",
            "  0%|          | 497/100000 [01:39<5:28:05,  5.05it/s]\u001b[A"
          ],
          "name": "stderr"
        },
        {
          "output_type": "stream",
          "text": [
            ">162497, d1[0.554] d2[0.203] g[10.909]\n",
            ">162498, d1[0.536] d2[0.279] g[11.644]\n"
          ],
          "name": "stdout"
        },
        {
          "output_type": "stream",
          "text": [
            "\n",
            "  0%|          | 498/100000 [01:39<5:27:40,  5.06it/s]\u001b[A\n",
            "  0%|          | 499/100000 [01:39<5:25:52,  5.09it/s]\u001b[A"
          ],
          "name": "stderr"
        },
        {
          "output_type": "stream",
          "text": [
            ">162499, d1[0.280] d2[0.317] g[12.748]\n",
            ">162500, d1[0.197] d2[0.409] g[13.984]\n"
          ],
          "name": "stdout"
        },
        {
          "output_type": "stream",
          "text": [
            "\n",
            "  0%|          | 500/100000 [01:39<5:29:40,  5.03it/s]\u001b[A\n",
            "  1%|          | 501/100000 [01:39<5:28:12,  5.05it/s]\u001b[A"
          ],
          "name": "stderr"
        },
        {
          "output_type": "stream",
          "text": [
            ">162501, d1[0.320] d2[0.362] g[14.414]\n",
            ">162502, d1[0.199] d2[0.543] g[14.687]\n"
          ],
          "name": "stdout"
        },
        {
          "output_type": "stream",
          "text": [
            "\n",
            "  1%|          | 502/100000 [01:40<5:29:23,  5.03it/s]\u001b[A\n",
            "  1%|          | 503/100000 [01:40<5:27:50,  5.06it/s]\u001b[A"
          ],
          "name": "stderr"
        },
        {
          "output_type": "stream",
          "text": [
            ">162503, d1[0.304] d2[0.234] g[14.131]\n",
            ">162504, d1[0.653] d2[0.311] g[10.223]\n"
          ],
          "name": "stdout"
        },
        {
          "output_type": "stream",
          "text": [
            "\n",
            "  1%|          | 504/100000 [01:40<5:28:43,  5.04it/s]\u001b[A\n",
            "  1%|          | 505/100000 [01:40<5:26:28,  5.08it/s]\u001b[A"
          ],
          "name": "stderr"
        },
        {
          "output_type": "stream",
          "text": [
            ">162505, d1[0.232] d2[0.425] g[14.006]\n",
            ">162506, d1[0.221] d2[0.271] g[13.453]\n"
          ],
          "name": "stdout"
        },
        {
          "output_type": "stream",
          "text": [
            "\n",
            "  1%|          | 506/100000 [01:40<5:27:06,  5.07it/s]\u001b[A\n",
            "  1%|          | 507/100000 [01:41<5:26:39,  5.08it/s]\u001b[A"
          ],
          "name": "stderr"
        },
        {
          "output_type": "stream",
          "text": [
            ">162507, d1[0.380] d2[0.245] g[13.146]\n",
            ">162508, d1[0.394] d2[0.505] g[12.908]\n"
          ],
          "name": "stdout"
        },
        {
          "output_type": "stream",
          "text": [
            "\n",
            "  1%|          | 508/100000 [01:41<5:30:06,  5.02it/s]\u001b[A\n",
            "  1%|          | 509/100000 [01:41<5:28:23,  5.05it/s]\u001b[A"
          ],
          "name": "stderr"
        },
        {
          "output_type": "stream",
          "text": [
            ">162509, d1[0.294] d2[0.295] g[11.710]\n",
            ">162510, d1[0.196] d2[0.346] g[10.507]\n"
          ],
          "name": "stdout"
        },
        {
          "output_type": "stream",
          "text": [
            "\n",
            "  1%|          | 510/100000 [01:41<5:28:36,  5.05it/s]\u001b[A\n",
            "  1%|          | 511/100000 [01:41<5:28:07,  5.05it/s]\u001b[A"
          ],
          "name": "stderr"
        },
        {
          "output_type": "stream",
          "text": [
            ">162511, d1[0.698] d2[0.228] g[10.497]\n",
            ">162512, d1[0.372] d2[0.304] g[10.913]\n"
          ],
          "name": "stdout"
        },
        {
          "output_type": "stream",
          "text": [
            "\n",
            "  1%|          | 512/100000 [01:42<5:28:46,  5.04it/s]\u001b[A\n",
            "  1%|          | 513/100000 [01:42<5:27:20,  5.07it/s]\u001b[A"
          ],
          "name": "stderr"
        },
        {
          "output_type": "stream",
          "text": [
            ">162513, d1[0.149] d2[0.471] g[12.914]\n",
            ">162514, d1[0.137] d2[0.265] g[12.149]\n"
          ],
          "name": "stdout"
        },
        {
          "output_type": "stream",
          "text": [
            "\n",
            "  1%|          | 514/100000 [01:42<5:28:22,  5.05it/s]\u001b[A\n",
            "  1%|          | 515/100000 [01:42<5:28:00,  5.05it/s]\u001b[A"
          ],
          "name": "stderr"
        },
        {
          "output_type": "stream",
          "text": [
            ">162515, d1[0.121] d2[0.207] g[16.125]\n",
            ">162516, d1[0.136] d2[0.540] g[14.942]\n"
          ],
          "name": "stdout"
        },
        {
          "output_type": "stream",
          "text": [
            "\n",
            "  1%|          | 516/100000 [01:42<5:31:00,  5.01it/s]\u001b[A\n",
            "  1%|          | 517/100000 [01:43<5:30:45,  5.01it/s]"
          ],
          "name": "stderr"
        },
        {
          "output_type": "stream",
          "text": [
            ">162517, d1[0.263] d2[0.256] g[14.615]\n",
            ">162518, d1[0.303] d2[0.255] g[14.130]\n"
          ],
          "name": "stdout"
        },
        {
          "output_type": "stream",
          "text": [
            "\u001b[A\n",
            "  1%|          | 518/100000 [01:43<5:30:43,  5.01it/s]\u001b[A\n",
            "  1%|          | 519/100000 [01:43<5:30:17,  5.02it/s]\u001b[A"
          ],
          "name": "stderr"
        },
        {
          "output_type": "stream",
          "text": [
            ">162519, d1[0.692] d2[0.214] g[11.573]\n",
            ">162520, d1[0.606] d2[0.294] g[12.623]\n"
          ],
          "name": "stdout"
        },
        {
          "output_type": "stream",
          "text": [
            "\n",
            "  1%|          | 520/100000 [01:43<5:29:54,  5.03it/s]\u001b[A\n",
            "  1%|          | 521/100000 [01:43<5:28:01,  5.05it/s]\u001b[A"
          ],
          "name": "stderr"
        },
        {
          "output_type": "stream",
          "text": [
            ">162521, d1[0.196] d2[0.296] g[14.638]\n",
            ">162522, d1[0.130] d2[0.225] g[15.677]\n"
          ],
          "name": "stdout"
        },
        {
          "output_type": "stream",
          "text": [
            "\n",
            "  1%|          | 522/100000 [01:44<5:27:44,  5.06it/s]\u001b[A\n"
          ],
          "name": "stderr"
        },
        {
          "output_type": "stream",
          "text": [
            ">162523, d1[0.288] d2[0.273] g[12.394]\n",
            ">162524, d1[0.466] d2[0.356] g[10.865]\n"
          ],
          "name": "stdout"
        },
        {
          "output_type": "stream",
          "text": [
            "  1%|          | 523/100000 [01:44<5:29:16,  5.04it/s]\u001b[A\n",
            "  1%|          | 524/100000 [01:44<5:30:14,  5.02it/s]\u001b[A\n",
            "  1%|          | 525/100000 [01:44<5:29:31,  5.03it/s]\u001b[A"
          ],
          "name": "stderr"
        },
        {
          "output_type": "stream",
          "text": [
            ">162525, d1[0.369] d2[0.302] g[11.954]\n",
            ">162526, d1[0.214] d2[0.272] g[14.012]\n"
          ],
          "name": "stdout"
        },
        {
          "output_type": "stream",
          "text": [
            "\n",
            "  1%|          | 526/100000 [01:44<5:31:18,  5.00it/s]\u001b[A\n"
          ],
          "name": "stderr"
        },
        {
          "output_type": "stream",
          "text": [
            ">162527, d1[0.230] d2[0.285] g[13.568]\n",
            ">162528, d1[0.116] d2[0.389] g[13.742]\n"
          ],
          "name": "stdout"
        },
        {
          "output_type": "stream",
          "text": [
            "  1%|          | 527/100000 [01:45<5:31:38,  5.00it/s]\u001b[A\n",
            "  1%|          | 528/100000 [01:45<5:29:46,  5.03it/s]\u001b[A\n",
            "  1%|          | 529/100000 [01:45<5:26:42,  5.07it/s]\u001b[A"
          ],
          "name": "stderr"
        },
        {
          "output_type": "stream",
          "text": [
            ">162529, d1[0.263] d2[0.435] g[12.349]\n",
            ">162530, d1[0.161] d2[0.205] g[11.697]\n"
          ],
          "name": "stdout"
        },
        {
          "output_type": "stream",
          "text": [
            "\n",
            "  1%|          | 530/100000 [01:45<5:25:35,  5.09it/s]\u001b[A\n",
            "  1%|          | 531/100000 [01:45<5:25:44,  5.09it/s]\u001b[A"
          ],
          "name": "stderr"
        },
        {
          "output_type": "stream",
          "text": [
            ">162531, d1[0.555] d2[0.207] g[12.889]\n",
            ">162532, d1[0.465] d2[0.227] g[13.021]\n"
          ],
          "name": "stdout"
        },
        {
          "output_type": "stream",
          "text": [
            "\n",
            "  1%|          | 532/100000 [01:46<5:24:13,  5.11it/s]\u001b[A\n",
            "  1%|          | 533/100000 [01:46<5:24:06,  5.11it/s]\u001b[A"
          ],
          "name": "stderr"
        },
        {
          "output_type": "stream",
          "text": [
            ">162533, d1[0.219] d2[0.338] g[13.647]\n",
            ">162534, d1[0.127] d2[0.278] g[16.948]\n"
          ],
          "name": "stdout"
        },
        {
          "output_type": "stream",
          "text": [
            "\n",
            "  1%|          | 534/100000 [01:46<5:27:12,  5.07it/s]\u001b[A\n",
            "  1%|          | 535/100000 [01:46<5:22:42,  5.14it/s]\u001b[A"
          ],
          "name": "stderr"
        },
        {
          "output_type": "stream",
          "text": [
            ">162535, d1[0.234] d2[0.242] g[11.304]\n",
            ">162536, d1[0.104] d2[0.279] g[18.354]\n"
          ],
          "name": "stdout"
        },
        {
          "output_type": "stream",
          "text": [
            "\n",
            "  1%|          | 536/100000 [01:46<5:20:48,  5.17it/s]\u001b[A\n",
            "  1%|          | 537/100000 [01:46<5:17:38,  5.22it/s]\u001b[A"
          ],
          "name": "stderr"
        },
        {
          "output_type": "stream",
          "text": [
            ">162537, d1[0.692] d2[0.206] g[11.653]\n",
            ">162538, d1[0.101] d2[0.372] g[14.633]\n"
          ],
          "name": "stdout"
        },
        {
          "output_type": "stream",
          "text": [
            "\n",
            "  1%|          | 538/100000 [01:47<5:17:12,  5.23it/s]\u001b[A\n",
            "  1%|          | 539/100000 [01:47<5:18:05,  5.21it/s]\u001b[A"
          ],
          "name": "stderr"
        },
        {
          "output_type": "stream",
          "text": [
            ">162539, d1[0.366] d2[0.231] g[13.949]\n",
            ">162540, d1[0.276] d2[0.344] g[11.231]\n"
          ],
          "name": "stdout"
        },
        {
          "output_type": "stream",
          "text": [
            "\n",
            "  1%|          | 540/100000 [01:47<5:20:46,  5.17it/s]\u001b[A\n",
            "  1%|          | 541/100000 [01:47<5:21:17,  5.16it/s]\u001b[A"
          ],
          "name": "stderr"
        },
        {
          "output_type": "stream",
          "text": [
            ">162541, d1[0.289] d2[0.267] g[11.830]\n",
            ">162542, d1[0.527] d2[0.268] g[12.133]\n"
          ],
          "name": "stdout"
        },
        {
          "output_type": "stream",
          "text": [
            "\n",
            "  1%|          | 542/100000 [01:47<5:23:30,  5.12it/s]\u001b[A\n",
            "  1%|          | 543/100000 [01:48<5:19:12,  5.19it/s]\u001b[A"
          ],
          "name": "stderr"
        },
        {
          "output_type": "stream",
          "text": [
            ">162543, d1[0.177] d2[0.787] g[13.443]\n",
            ">162544, d1[0.258] d2[0.360] g[12.708]\n"
          ],
          "name": "stdout"
        },
        {
          "output_type": "stream",
          "text": [
            "\n",
            "  1%|          | 544/100000 [01:48<5:19:14,  5.19it/s]\u001b[A\n",
            "  1%|          | 545/100000 [01:48<5:18:05,  5.21it/s]\u001b[A"
          ],
          "name": "stderr"
        },
        {
          "output_type": "stream",
          "text": [
            ">162545, d1[0.129] d2[0.240] g[15.237]\n",
            ">162546, d1[0.541] d2[0.267] g[11.177]\n"
          ],
          "name": "stdout"
        },
        {
          "output_type": "stream",
          "text": [
            "\n",
            "  1%|          | 546/100000 [01:48<5:16:04,  5.24it/s]\u001b[A\n",
            "  1%|          | 547/100000 [01:48<5:16:14,  5.24it/s]\u001b[A"
          ],
          "name": "stderr"
        },
        {
          "output_type": "stream",
          "text": [
            ">162547, d1[0.467] d2[0.353] g[11.415]\n",
            ">162548, d1[0.125] d2[0.339] g[11.416]\n"
          ],
          "name": "stdout"
        },
        {
          "output_type": "stream",
          "text": [
            "\n",
            "  1%|          | 548/100000 [01:49<5:16:40,  5.23it/s]\u001b[A\n",
            "  1%|          | 549/100000 [01:49<5:14:35,  5.27it/s]\u001b[A"
          ],
          "name": "stderr"
        },
        {
          "output_type": "stream",
          "text": [
            ">162549, d1[0.463] d2[0.258] g[12.586]\n",
            ">162550, d1[0.558] d2[0.260] g[10.762]\n"
          ],
          "name": "stdout"
        },
        {
          "output_type": "stream",
          "text": [
            "\n",
            "  1%|          | 550/100000 [01:49<5:14:21,  5.27it/s]\u001b[A\n",
            "  1%|          | 551/100000 [01:49<5:12:54,  5.30it/s]\u001b[A"
          ],
          "name": "stderr"
        },
        {
          "output_type": "stream",
          "text": [
            ">162551, d1[0.126] d2[0.235] g[14.575]\n",
            ">162552, d1[0.115] d2[0.247] g[15.406]\n"
          ],
          "name": "stdout"
        },
        {
          "output_type": "stream",
          "text": [
            "\n",
            "  1%|          | 552/100000 [01:49<5:13:45,  5.28it/s]\u001b[A\n",
            "  1%|          | 553/100000 [01:50<5:17:12,  5.23it/s]\u001b[A"
          ],
          "name": "stderr"
        },
        {
          "output_type": "stream",
          "text": [
            ">162553, d1[0.546] d2[0.274] g[9.682]\n",
            ">162554, d1[0.219] d2[0.387] g[11.823]\n"
          ],
          "name": "stdout"
        },
        {
          "output_type": "stream",
          "text": [
            "\n",
            "  1%|          | 554/100000 [01:50<5:18:43,  5.20it/s]\u001b[A"
          ],
          "name": "stderr"
        },
        {
          "output_type": "stream",
          "text": [
            ">162555, d1[0.479] d2[0.246] g[10.925]\n"
          ],
          "name": "stdout"
        },
        {
          "output_type": "stream",
          "text": [
            "\n",
            "  1%|          | 555/100000 [01:50<5:24:21,  5.11it/s]\u001b[A\n",
            "  1%|          | 556/100000 [01:50<5:20:43,  5.17it/s]\u001b[A"
          ],
          "name": "stderr"
        },
        {
          "output_type": "stream",
          "text": [
            ">162556, d1[0.239] d2[0.319] g[12.887]\n",
            ">162557, d1[0.136] d2[0.405] g[15.054]\n"
          ],
          "name": "stdout"
        },
        {
          "output_type": "stream",
          "text": [
            "\n",
            "  1%|          | 557/100000 [01:50<5:20:08,  5.18it/s]\u001b[A\n",
            "  1%|          | 558/100000 [01:51<5:18:54,  5.20it/s]\u001b[A"
          ],
          "name": "stderr"
        },
        {
          "output_type": "stream",
          "text": [
            ">162558, d1[0.383] d2[0.277] g[11.267]\n",
            ">162559, d1[0.121] d2[0.221] g[18.640]\n"
          ],
          "name": "stdout"
        },
        {
          "output_type": "stream",
          "text": [
            "\n",
            "  1%|          | 559/100000 [01:51<5:18:36,  5.20it/s]\u001b[A\n",
            "  1%|          | 560/100000 [01:51<5:16:14,  5.24it/s]\u001b[A"
          ],
          "name": "stderr"
        },
        {
          "output_type": "stream",
          "text": [
            ">162560, d1[0.185] d2[0.269] g[12.195]\n",
            ">162561, d1[0.098] d2[0.449] g[17.338]\n"
          ],
          "name": "stdout"
        },
        {
          "output_type": "stream",
          "text": [
            "\n",
            "  1%|          | 561/100000 [01:51<5:16:07,  5.24it/s]\u001b[A\n",
            "  1%|          | 562/100000 [01:51<5:15:07,  5.26it/s]\u001b[A"
          ],
          "name": "stderr"
        },
        {
          "output_type": "stream",
          "text": [
            ">162562, d1[0.555] d2[0.247] g[12.925]\n",
            ">162563, d1[0.490] d2[0.234] g[11.200]\n"
          ],
          "name": "stdout"
        },
        {
          "output_type": "stream",
          "text": [
            "\n",
            "  1%|          | 563/100000 [01:51<5:17:31,  5.22it/s]\u001b[A\n",
            "  1%|          | 564/100000 [01:52<5:15:41,  5.25it/s]\u001b[A"
          ],
          "name": "stderr"
        },
        {
          "output_type": "stream",
          "text": [
            ">162564, d1[0.332] d2[0.414] g[13.286]\n",
            ">162565, d1[0.314] d2[0.485] g[14.550]\n"
          ],
          "name": "stdout"
        },
        {
          "output_type": "stream",
          "text": [
            "\n",
            "  1%|          | 565/100000 [01:52<5:15:31,  5.25it/s]\u001b[A\n",
            "  1%|          | 566/100000 [01:52<5:16:24,  5.24it/s]\u001b[A"
          ],
          "name": "stderr"
        },
        {
          "output_type": "stream",
          "text": [
            ">162566, d1[0.188] d2[0.220] g[16.331]\n",
            ">162567, d1[0.421] d2[0.380] g[11.977]\n"
          ],
          "name": "stdout"
        },
        {
          "output_type": "stream",
          "text": [
            "\n",
            "  1%|          | 567/100000 [01:52<5:16:15,  5.24it/s]\u001b[A\n",
            "  1%|          | 568/100000 [01:52<5:18:52,  5.20it/s]\u001b[A"
          ],
          "name": "stderr"
        },
        {
          "output_type": "stream",
          "text": [
            ">162568, d1[0.331] d2[0.322] g[12.913]\n",
            ">162569, d1[0.267] d2[0.255] g[12.909]\n"
          ],
          "name": "stdout"
        },
        {
          "output_type": "stream",
          "text": [
            "\n",
            "  1%|          | 569/100000 [01:53<5:20:55,  5.16it/s]\u001b[A"
          ],
          "name": "stderr"
        },
        {
          "output_type": "stream",
          "text": [
            ">162570, d1[0.119] d2[0.305] g[17.171]\n"
          ],
          "name": "stdout"
        },
        {
          "output_type": "stream",
          "text": [
            "\n",
            "  1%|          | 570/100000 [01:53<5:25:18,  5.09it/s]\u001b[A\n",
            "  1%|          | 571/100000 [01:53<5:27:02,  5.07it/s]"
          ],
          "name": "stderr"
        },
        {
          "output_type": "stream",
          "text": [
            ">162571, d1[0.447] d2[0.263] g[11.414]\n",
            ">162572, d1[0.312] d2[0.465] g[13.069]\n"
          ],
          "name": "stdout"
        },
        {
          "output_type": "stream",
          "text": [
            "\u001b[A\n",
            "  1%|          | 572/100000 [01:53<5:26:53,  5.07it/s]\u001b[A\n"
          ],
          "name": "stderr"
        },
        {
          "output_type": "stream",
          "text": [
            ">162573, d1[0.141] d2[0.268] g[15.579]\n",
            ">162574, d1[0.253] d2[0.375] g[11.120]\n"
          ],
          "name": "stdout"
        },
        {
          "output_type": "stream",
          "text": [
            "  1%|          | 573/100000 [01:53<5:28:05,  5.05it/s]\u001b[A\n",
            "  1%|          | 574/100000 [01:54<5:29:05,  5.04it/s]\u001b[A\n",
            "  1%|          | 575/100000 [01:54<5:29:16,  5.03it/s]\u001b[A"
          ],
          "name": "stderr"
        },
        {
          "output_type": "stream",
          "text": [
            ">162575, d1[0.414] d2[0.236] g[11.838]\n",
            ">162576, d1[0.132] d2[0.438] g[14.176]\n"
          ],
          "name": "stdout"
        },
        {
          "output_type": "stream",
          "text": [
            "\n",
            "  1%|          | 576/100000 [01:54<5:29:13,  5.03it/s]\u001b[A\n",
            "  1%|          | 577/100000 [01:54<5:27:16,  5.06it/s]\u001b[A"
          ],
          "name": "stderr"
        },
        {
          "output_type": "stream",
          "text": [
            ">162577, d1[0.760] d2[0.218] g[10.028]\n",
            ">162578, d1[0.231] d2[0.296] g[13.785]\n"
          ],
          "name": "stdout"
        },
        {
          "output_type": "stream",
          "text": [
            "\n",
            "  1%|          | 578/100000 [01:54<5:31:12,  5.00it/s]\u001b[A"
          ],
          "name": "stderr"
        },
        {
          "output_type": "stream",
          "text": [
            ">162579, d1[0.423] d2[0.322] g[11.369]\n"
          ],
          "name": "stdout"
        },
        {
          "output_type": "stream",
          "text": [
            "\n",
            "  1%|          | 579/100000 [01:55<5:35:51,  4.93it/s]\u001b[A\n",
            "  1%|          | 580/100000 [01:55<5:32:57,  4.98it/s]\u001b[A"
          ],
          "name": "stderr"
        },
        {
          "output_type": "stream",
          "text": [
            ">162580, d1[0.308] d2[0.331] g[12.566]\n",
            ">162581, d1[0.250] d2[0.308] g[12.245]\n"
          ],
          "name": "stdout"
        },
        {
          "output_type": "stream",
          "text": [
            "\n",
            "  1%|          | 581/100000 [01:55<5:35:09,  4.94it/s]\u001b[A\n"
          ],
          "name": "stderr"
        },
        {
          "output_type": "stream",
          "text": [
            ">162582, d1[0.429] d2[0.310] g[10.602]\n",
            ">162583, d1[0.268] d2[0.398] g[11.098]\n"
          ],
          "name": "stdout"
        },
        {
          "output_type": "stream",
          "text": [
            "\r  1%|          | 582/100000 [01:55<5:34:24,  4.95it/s]\u001b[A"
          ],
          "name": "stderr"
        }
      ]
    }
  ]
}