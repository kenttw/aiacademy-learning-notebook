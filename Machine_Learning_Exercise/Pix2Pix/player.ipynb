{
  "nbformat": 4,
  "nbformat_minor": 0,
  "metadata": {
    "kernelspec": {
      "display_name": "Python 3",
      "language": "python",
      "name": "python3"
    },
    "language_info": {
      "codemirror_mode": {
        "name": "ipython",
        "version": 2
      },
      "file_extension": ".py",
      "mimetype": "text/x-python",
      "name": "python",
      "nbconvert_exporter": "python",
      "pygments_lexer": "ipython2",
      "version": "2.7.6"
    },
    "colab": {
      "name": "player.ipynb",
      "provenance": [],
      "include_colab_link": true
    }
  },
  "cells": [
    {
      "cell_type": "markdown",
      "metadata": {
        "id": "view-in-github",
        "colab_type": "text"
      },
      "source": [
        "<a href=\"https://colab.research.google.com/github/kenttw/kent-ai-learning-notebook/blob/master/Machine_Learning_Exercise/Pix2Pix/player.ipynb\" target=\"_parent\"><img src=\"https://colab.research.google.com/assets/colab-badge.svg\" alt=\"Open In Colab\"/></a>"
      ]
    },
    {
      "cell_type": "code",
      "metadata": {
        "collapsed": true,
        "id": "_ec1hufvQO2l",
        "colab": {
          "base_uri": "https://localhost:8080/"
        },
        "outputId": "7d1118dd-1d53-41d8-910a-1becc4abe34b"
      },
      "source": [
        "!git clone  https://github.com/kenttw/kent-ai-learning-notebook "
      ],
      "execution_count": 3,
      "outputs": [
        {
          "output_type": "stream",
          "text": [
            "Cloning into 'kent-ai-learning-notebook'...\n",
            "remote: Enumerating objects: 218, done.\u001b[K\n",
            "remote: Counting objects: 100% (218/218), done.\u001b[K\n",
            "remote: Compressing objects: 100% (146/146), done.\u001b[K\n",
            "remote: Total 655 (delta 146), reused 135 (delta 72), pack-reused 437\u001b[K\n",
            "Receiving objects: 100% (655/655), 105.67 MiB | 17.34 MiB/s, done.\n",
            "Resolving deltas: 100% (361/361), done.\n",
            "Checking out files: 100% (141/141), done.\n"
          ],
          "name": "stdout"
        }
      ]
    },
    {
      "cell_type": "code",
      "metadata": {
        "id": "_4JVfEDUv8pX"
      },
      "source": [
        "!cp -r ./kent-ai-learning-notebook/Machine_Learning_Exercise/Pix2Pix/* ./"
      ],
      "execution_count": 4,
      "outputs": []
    },
    {
      "cell_type": "code",
      "metadata": {
        "id": "hA90aSsfxt1Q"
      },
      "source": [
        ""
      ],
      "execution_count": null,
      "outputs": []
    },
    {
      "cell_type": "code",
      "metadata": {
        "colab": {
          "base_uri": "https://localhost:8080/"
        },
        "id": "Y4kUYdAVxzyw",
        "outputId": "ccba887f-fbb9-4c18-f910-e79021923cce"
      },
      "source": [
        "from google.colab import drive\n",
        "drive.mount('/gdrive')"
      ],
      "execution_count": 5,
      "outputs": [
        {
          "output_type": "stream",
          "text": [
            "Mounted at /gdrive\n"
          ],
          "name": "stdout"
        }
      ]
    },
    {
      "cell_type": "code",
      "metadata": {
        "id": "9W8FyFlsyHHQ"
      },
      "source": [
        "!cp /gdrive/MyDrive/colab/Pix2Pix/gan_model_162001.h5 ./"
      ],
      "execution_count": 7,
      "outputs": []
    },
    {
      "cell_type": "code",
      "metadata": {
        "id": "J5_fDlIJyMHv"
      },
      "source": [
        "!cp /gdrive/MyDrive/colab/Pix2Pix/g_model_162001.h5 ./"
      ],
      "execution_count": 8,
      "outputs": []
    },
    {
      "cell_type": "code",
      "metadata": {
        "id": "1jkqiNcuyO0U"
      },
      "source": [
        "!cp /gdrive/MyDrive/colab/Pix2Pix/d_model_162001.h5 ./"
      ],
      "execution_count": 9,
      "outputs": []
    },
    {
      "cell_type": "code",
      "metadata": {
        "id": "PSwHeGDHzNkC"
      },
      "source": [
        "!cp /gdrive/MyDrive/colab/Pix2Pix/cat_256_2000.npz ./"
      ],
      "execution_count": 11,
      "outputs": []
    },
    {
      "cell_type": "code",
      "metadata": {
        "colab": {
          "base_uri": "https://localhost:8080/"
        },
        "id": "WMhGyjXmyR3k",
        "outputId": "d949ff6a-6888-463c-929a-8354a9be9b47"
      },
      "source": [
        "!pip3 install -r ./kent-ai-learning-notebook/requirements.txt"
      ],
      "execution_count": 10,
      "outputs": [
        {
          "output_type": "stream",
          "text": [
            "Requirement already satisfied: tensorflow in /usr/local/lib/python3.6/dist-packages (from -r ./kent-ai-learning-notebook/requirements.txt (line 1)) (2.4.1)\n",
            "Requirement already satisfied: pandas in /usr/local/lib/python3.6/dist-packages (from -r ./kent-ai-learning-notebook/requirements.txt (line 2)) (1.1.5)\n",
            "Requirement already satisfied: networkx in /usr/local/lib/python3.6/dist-packages (from -r ./kent-ai-learning-notebook/requirements.txt (line 3)) (2.5)\n",
            "Collecting colorhash\n",
            "  Downloading https://files.pythonhosted.org/packages/ce/73/e867cd41ab0c15b26f89b0382527e525a2bee8f80ef7ac619fbe16f6ece6/colorhash-1.0.3-py3-none-any.whl\n",
            "Collecting mxnet\n",
            "\u001b[?25l  Downloading https://files.pythonhosted.org/packages/64/20/76af36cad6754a15f39d3bff19e09921dec72b85261e455d4edc50ebffa8/mxnet-1.7.0.post2-py2.py3-none-manylinux2014_x86_64.whl (54.7MB)\n",
            "\u001b[K     |████████████████████████████████| 54.7MB 1.3MB/s \n",
            "\u001b[?25hRequirement already satisfied: numpy in /usr/local/lib/python3.6/dist-packages (from -r ./kent-ai-learning-notebook/requirements.txt (line 6)) (1.19.5)\n",
            "Requirement already satisfied: jupyter in /usr/local/lib/python3.6/dist-packages (from -r ./kent-ai-learning-notebook/requirements.txt (line 7)) (1.0.0)\n",
            "Requirement already satisfied: seaborn in /usr/local/lib/python3.6/dist-packages (from -r ./kent-ai-learning-notebook/requirements.txt (line 8)) (0.11.1)\n",
            "Requirement already satisfied: imbalanced-learn in /usr/local/lib/python3.6/dist-packages (from -r ./kent-ai-learning-notebook/requirements.txt (line 9)) (0.4.3)\n",
            "Requirement already satisfied: keras in /usr/local/lib/python3.6/dist-packages (from -r ./kent-ai-learning-notebook/requirements.txt (line 10)) (2.4.3)\n",
            "Requirement already satisfied: opencv-python in /usr/local/lib/python3.6/dist-packages (from -r ./kent-ai-learning-notebook/requirements.txt (line 11)) (4.1.2.30)\n",
            "Requirement already satisfied: Pillow in /usr/local/lib/python3.6/dist-packages (from -r ./kent-ai-learning-notebook/requirements.txt (line 12)) (7.0.0)\n",
            "Collecting google_images_download\n",
            "  Downloading https://files.pythonhosted.org/packages/18/ed/0319d30c48f3653802da8e6dcfefcea6370157d10d566ef6807cceb5ec4d/google_images_download-2.8.0.tar.gz\n",
            "Collecting selenium\n",
            "\u001b[?25l  Downloading https://files.pythonhosted.org/packages/80/d6/4294f0b4bce4de0abf13e17190289f9d0613b0a44e5dd6a7f5ca98459853/selenium-3.141.0-py2.py3-none-any.whl (904kB)\n",
            "\u001b[K     |████████████████████████████████| 911kB 42.1MB/s \n",
            "\u001b[?25hRequirement already satisfied: scikit-image in /usr/local/lib/python3.6/dist-packages (from -r ./kent-ai-learning-notebook/requirements.txt (line 15)) (0.16.2)\n",
            "Requirement already satisfied: pytest in /usr/local/lib/python3.6/dist-packages (from -r ./kent-ai-learning-notebook/requirements.txt (line 16)) (3.6.4)\n",
            "Requirement already satisfied: tqdm in /usr/local/lib/python3.6/dist-packages (from -r ./kent-ai-learning-notebook/requirements.txt (line 17)) (4.41.1)\n",
            "Requirement already satisfied: grpcio~=1.32.0 in /usr/local/lib/python3.6/dist-packages (from tensorflow->-r ./kent-ai-learning-notebook/requirements.txt (line 1)) (1.32.0)\n",
            "Requirement already satisfied: google-pasta~=0.2 in /usr/local/lib/python3.6/dist-packages (from tensorflow->-r ./kent-ai-learning-notebook/requirements.txt (line 1)) (0.2.0)\n",
            "Requirement already satisfied: tensorflow-estimator<2.5.0,>=2.4.0 in /usr/local/lib/python3.6/dist-packages (from tensorflow->-r ./kent-ai-learning-notebook/requirements.txt (line 1)) (2.4.0)\n",
            "Requirement already satisfied: gast==0.3.3 in /usr/local/lib/python3.6/dist-packages (from tensorflow->-r ./kent-ai-learning-notebook/requirements.txt (line 1)) (0.3.3)\n",
            "Requirement already satisfied: protobuf>=3.9.2 in /usr/local/lib/python3.6/dist-packages (from tensorflow->-r ./kent-ai-learning-notebook/requirements.txt (line 1)) (3.12.4)\n",
            "Requirement already satisfied: typing-extensions~=3.7.4 in /usr/local/lib/python3.6/dist-packages (from tensorflow->-r ./kent-ai-learning-notebook/requirements.txt (line 1)) (3.7.4.3)\n",
            "Requirement already satisfied: flatbuffers~=1.12.0 in /usr/local/lib/python3.6/dist-packages (from tensorflow->-r ./kent-ai-learning-notebook/requirements.txt (line 1)) (1.12)\n",
            "Requirement already satisfied: absl-py~=0.10 in /usr/local/lib/python3.6/dist-packages (from tensorflow->-r ./kent-ai-learning-notebook/requirements.txt (line 1)) (0.10.0)\n",
            "Requirement already satisfied: h5py~=2.10.0 in /usr/local/lib/python3.6/dist-packages (from tensorflow->-r ./kent-ai-learning-notebook/requirements.txt (line 1)) (2.10.0)\n",
            "Requirement already satisfied: six~=1.15.0 in /usr/local/lib/python3.6/dist-packages (from tensorflow->-r ./kent-ai-learning-notebook/requirements.txt (line 1)) (1.15.0)\n",
            "Requirement already satisfied: termcolor~=1.1.0 in /usr/local/lib/python3.6/dist-packages (from tensorflow->-r ./kent-ai-learning-notebook/requirements.txt (line 1)) (1.1.0)\n",
            "Requirement already satisfied: wheel~=0.35 in /usr/local/lib/python3.6/dist-packages (from tensorflow->-r ./kent-ai-learning-notebook/requirements.txt (line 1)) (0.36.2)\n",
            "Requirement already satisfied: tensorboard~=2.4 in /usr/local/lib/python3.6/dist-packages (from tensorflow->-r ./kent-ai-learning-notebook/requirements.txt (line 1)) (2.4.1)\n",
            "Requirement already satisfied: wrapt~=1.12.1 in /usr/local/lib/python3.6/dist-packages (from tensorflow->-r ./kent-ai-learning-notebook/requirements.txt (line 1)) (1.12.1)\n",
            "Requirement already satisfied: astunparse~=1.6.3 in /usr/local/lib/python3.6/dist-packages (from tensorflow->-r ./kent-ai-learning-notebook/requirements.txt (line 1)) (1.6.3)\n",
            "Requirement already satisfied: keras-preprocessing~=1.1.2 in /usr/local/lib/python3.6/dist-packages (from tensorflow->-r ./kent-ai-learning-notebook/requirements.txt (line 1)) (1.1.2)\n",
            "Requirement already satisfied: opt-einsum~=3.3.0 in /usr/local/lib/python3.6/dist-packages (from tensorflow->-r ./kent-ai-learning-notebook/requirements.txt (line 1)) (3.3.0)\n",
            "Requirement already satisfied: pytz>=2017.2 in /usr/local/lib/python3.6/dist-packages (from pandas->-r ./kent-ai-learning-notebook/requirements.txt (line 2)) (2018.9)\n",
            "Requirement already satisfied: python-dateutil>=2.7.3 in /usr/local/lib/python3.6/dist-packages (from pandas->-r ./kent-ai-learning-notebook/requirements.txt (line 2)) (2.8.1)\n",
            "Requirement already satisfied: decorator>=4.3.0 in /usr/local/lib/python3.6/dist-packages (from networkx->-r ./kent-ai-learning-notebook/requirements.txt (line 3)) (4.4.2)\n",
            "Collecting graphviz<0.9.0,>=0.8.1\n",
            "  Downloading https://files.pythonhosted.org/packages/53/39/4ab213673844e0c004bed8a0781a0721a3f6bb23eb8854ee75c236428892/graphviz-0.8.4-py2.py3-none-any.whl\n",
            "Requirement already satisfied: requests<3,>=2.20.0 in /usr/local/lib/python3.6/dist-packages (from mxnet->-r ./kent-ai-learning-notebook/requirements.txt (line 5)) (2.23.0)\n",
            "Requirement already satisfied: qtconsole in /usr/local/lib/python3.6/dist-packages (from jupyter->-r ./kent-ai-learning-notebook/requirements.txt (line 7)) (5.0.2)\n",
            "Requirement already satisfied: ipykernel in /usr/local/lib/python3.6/dist-packages (from jupyter->-r ./kent-ai-learning-notebook/requirements.txt (line 7)) (4.10.1)\n",
            "Requirement already satisfied: nbconvert in /usr/local/lib/python3.6/dist-packages (from jupyter->-r ./kent-ai-learning-notebook/requirements.txt (line 7)) (5.6.1)\n",
            "Requirement already satisfied: jupyter-console in /usr/local/lib/python3.6/dist-packages (from jupyter->-r ./kent-ai-learning-notebook/requirements.txt (line 7)) (5.2.0)\n",
            "Requirement already satisfied: notebook in /usr/local/lib/python3.6/dist-packages (from jupyter->-r ./kent-ai-learning-notebook/requirements.txt (line 7)) (5.3.1)\n",
            "Requirement already satisfied: ipywidgets in /usr/local/lib/python3.6/dist-packages (from jupyter->-r ./kent-ai-learning-notebook/requirements.txt (line 7)) (7.6.3)\n",
            "Requirement already satisfied: scipy>=1.0 in /usr/local/lib/python3.6/dist-packages (from seaborn->-r ./kent-ai-learning-notebook/requirements.txt (line 8)) (1.4.1)\n",
            "Requirement already satisfied: matplotlib>=2.2 in /usr/local/lib/python3.6/dist-packages (from seaborn->-r ./kent-ai-learning-notebook/requirements.txt (line 8)) (3.2.2)\n",
            "Requirement already satisfied: scikit-learn>=0.20 in /usr/local/lib/python3.6/dist-packages (from imbalanced-learn->-r ./kent-ai-learning-notebook/requirements.txt (line 9)) (0.22.2.post1)\n",
            "Requirement already satisfied: pyyaml in /usr/local/lib/python3.6/dist-packages (from keras->-r ./kent-ai-learning-notebook/requirements.txt (line 10)) (3.13)\n",
            "Requirement already satisfied: urllib3 in /usr/local/lib/python3.6/dist-packages (from selenium->-r ./kent-ai-learning-notebook/requirements.txt (line 14)) (1.24.3)\n",
            "Requirement already satisfied: PyWavelets>=0.4.0 in /usr/local/lib/python3.6/dist-packages (from scikit-image->-r ./kent-ai-learning-notebook/requirements.txt (line 15)) (1.1.1)\n",
            "Requirement already satisfied: imageio>=2.3.0 in /usr/local/lib/python3.6/dist-packages (from scikit-image->-r ./kent-ai-learning-notebook/requirements.txt (line 15)) (2.4.1)\n",
            "Requirement already satisfied: pluggy<0.8,>=0.5 in /usr/local/lib/python3.6/dist-packages (from pytest->-r ./kent-ai-learning-notebook/requirements.txt (line 16)) (0.7.1)\n",
            "Requirement already satisfied: py>=1.5.0 in /usr/local/lib/python3.6/dist-packages (from pytest->-r ./kent-ai-learning-notebook/requirements.txt (line 16)) (1.10.0)\n",
            "Requirement already satisfied: more-itertools>=4.0.0 in /usr/local/lib/python3.6/dist-packages (from pytest->-r ./kent-ai-learning-notebook/requirements.txt (line 16)) (8.6.0)\n",
            "Requirement already satisfied: atomicwrites>=1.0 in /usr/local/lib/python3.6/dist-packages (from pytest->-r ./kent-ai-learning-notebook/requirements.txt (line 16)) (1.4.0)\n",
            "Requirement already satisfied: attrs>=17.4.0 in /usr/local/lib/python3.6/dist-packages (from pytest->-r ./kent-ai-learning-notebook/requirements.txt (line 16)) (20.3.0)\n",
            "Requirement already satisfied: setuptools in /usr/local/lib/python3.6/dist-packages (from pytest->-r ./kent-ai-learning-notebook/requirements.txt (line 16)) (53.0.0)\n",
            "Requirement already satisfied: werkzeug>=0.11.15 in /usr/local/lib/python3.6/dist-packages (from tensorboard~=2.4->tensorflow->-r ./kent-ai-learning-notebook/requirements.txt (line 1)) (1.0.1)\n",
            "Requirement already satisfied: tensorboard-plugin-wit>=1.6.0 in /usr/local/lib/python3.6/dist-packages (from tensorboard~=2.4->tensorflow->-r ./kent-ai-learning-notebook/requirements.txt (line 1)) (1.8.0)\n",
            "Requirement already satisfied: google-auth<2,>=1.6.3 in /usr/local/lib/python3.6/dist-packages (from tensorboard~=2.4->tensorflow->-r ./kent-ai-learning-notebook/requirements.txt (line 1)) (1.25.0)\n",
            "Requirement already satisfied: google-auth-oauthlib<0.5,>=0.4.1 in /usr/local/lib/python3.6/dist-packages (from tensorboard~=2.4->tensorflow->-r ./kent-ai-learning-notebook/requirements.txt (line 1)) (0.4.2)\n",
            "Requirement already satisfied: markdown>=2.6.8 in /usr/local/lib/python3.6/dist-packages (from tensorboard~=2.4->tensorflow->-r ./kent-ai-learning-notebook/requirements.txt (line 1)) (3.3.3)\n",
            "Requirement already satisfied: chardet<4,>=3.0.2 in /usr/local/lib/python3.6/dist-packages (from requests<3,>=2.20.0->mxnet->-r ./kent-ai-learning-notebook/requirements.txt (line 5)) (3.0.4)\n",
            "Requirement already satisfied: idna<3,>=2.5 in /usr/local/lib/python3.6/dist-packages (from requests<3,>=2.20.0->mxnet->-r ./kent-ai-learning-notebook/requirements.txt (line 5)) (2.10)\n",
            "Requirement already satisfied: certifi>=2017.4.17 in /usr/local/lib/python3.6/dist-packages (from requests<3,>=2.20.0->mxnet->-r ./kent-ai-learning-notebook/requirements.txt (line 5)) (2020.12.5)\n",
            "Requirement already satisfied: pyzmq>=17.1 in /usr/local/lib/python3.6/dist-packages (from qtconsole->jupyter->-r ./kent-ai-learning-notebook/requirements.txt (line 7)) (22.0.2)\n",
            "Requirement already satisfied: jupyter-client>=4.1 in /usr/local/lib/python3.6/dist-packages (from qtconsole->jupyter->-r ./kent-ai-learning-notebook/requirements.txt (line 7)) (5.3.5)\n",
            "Requirement already satisfied: pygments in /usr/local/lib/python3.6/dist-packages (from qtconsole->jupyter->-r ./kent-ai-learning-notebook/requirements.txt (line 7)) (2.6.1)\n",
            "Requirement already satisfied: jupyter-core in /usr/local/lib/python3.6/dist-packages (from qtconsole->jupyter->-r ./kent-ai-learning-notebook/requirements.txt (line 7)) (4.7.1)\n",
            "Requirement already satisfied: traitlets in /usr/local/lib/python3.6/dist-packages (from qtconsole->jupyter->-r ./kent-ai-learning-notebook/requirements.txt (line 7)) (4.3.3)\n",
            "Requirement already satisfied: qtpy in /usr/local/lib/python3.6/dist-packages (from qtconsole->jupyter->-r ./kent-ai-learning-notebook/requirements.txt (line 7)) (1.9.0)\n",
            "Requirement already satisfied: ipython-genutils in /usr/local/lib/python3.6/dist-packages (from qtconsole->jupyter->-r ./kent-ai-learning-notebook/requirements.txt (line 7)) (0.2.0)\n",
            "Requirement already satisfied: ipython>=4.0.0 in /usr/local/lib/python3.6/dist-packages (from ipykernel->jupyter->-r ./kent-ai-learning-notebook/requirements.txt (line 7)) (5.5.0)\n",
            "Requirement already satisfied: tornado>=4.0 in /usr/local/lib/python3.6/dist-packages (from ipykernel->jupyter->-r ./kent-ai-learning-notebook/requirements.txt (line 7)) (5.1.1)\n",
            "Requirement already satisfied: mistune<2,>=0.8.1 in /usr/local/lib/python3.6/dist-packages (from nbconvert->jupyter->-r ./kent-ai-learning-notebook/requirements.txt (line 7)) (0.8.4)\n",
            "Requirement already satisfied: jinja2>=2.4 in /usr/local/lib/python3.6/dist-packages (from nbconvert->jupyter->-r ./kent-ai-learning-notebook/requirements.txt (line 7)) (2.11.3)\n",
            "Requirement already satisfied: nbformat>=4.4 in /usr/local/lib/python3.6/dist-packages (from nbconvert->jupyter->-r ./kent-ai-learning-notebook/requirements.txt (line 7)) (5.1.2)\n",
            "Requirement already satisfied: defusedxml in /usr/local/lib/python3.6/dist-packages (from nbconvert->jupyter->-r ./kent-ai-learning-notebook/requirements.txt (line 7)) (0.6.0)\n",
            "Requirement already satisfied: entrypoints>=0.2.2 in /usr/local/lib/python3.6/dist-packages (from nbconvert->jupyter->-r ./kent-ai-learning-notebook/requirements.txt (line 7)) (0.3)\n",
            "Requirement already satisfied: pandocfilters>=1.4.1 in /usr/local/lib/python3.6/dist-packages (from nbconvert->jupyter->-r ./kent-ai-learning-notebook/requirements.txt (line 7)) (1.4.3)\n",
            "Requirement already satisfied: testpath in /usr/local/lib/python3.6/dist-packages (from nbconvert->jupyter->-r ./kent-ai-learning-notebook/requirements.txt (line 7)) (0.4.4)\n",
            "Requirement already satisfied: bleach in /usr/local/lib/python3.6/dist-packages (from nbconvert->jupyter->-r ./kent-ai-learning-notebook/requirements.txt (line 7)) (3.3.0)\n",
            "Requirement already satisfied: prompt-toolkit<2.0.0,>=1.0.0 in /usr/local/lib/python3.6/dist-packages (from jupyter-console->jupyter->-r ./kent-ai-learning-notebook/requirements.txt (line 7)) (1.0.18)\n",
            "Requirement already satisfied: Send2Trash in /usr/local/lib/python3.6/dist-packages (from notebook->jupyter->-r ./kent-ai-learning-notebook/requirements.txt (line 7)) (1.5.0)\n",
            "Requirement already satisfied: terminado>=0.8.1 in /usr/local/lib/python3.6/dist-packages (from notebook->jupyter->-r ./kent-ai-learning-notebook/requirements.txt (line 7)) (0.9.2)\n",
            "Requirement already satisfied: widgetsnbextension~=3.5.0 in /usr/local/lib/python3.6/dist-packages (from ipywidgets->jupyter->-r ./kent-ai-learning-notebook/requirements.txt (line 7)) (3.5.1)\n",
            "Requirement already satisfied: jupyterlab-widgets>=1.0.0; python_version >= \"3.6\" in /usr/local/lib/python3.6/dist-packages (from ipywidgets->jupyter->-r ./kent-ai-learning-notebook/requirements.txt (line 7)) (1.0.0)\n",
            "Requirement already satisfied: kiwisolver>=1.0.1 in /usr/local/lib/python3.6/dist-packages (from matplotlib>=2.2->seaborn->-r ./kent-ai-learning-notebook/requirements.txt (line 8)) (1.3.1)\n",
            "Requirement already satisfied: pyparsing!=2.0.4,!=2.1.2,!=2.1.6,>=2.0.1 in /usr/local/lib/python3.6/dist-packages (from matplotlib>=2.2->seaborn->-r ./kent-ai-learning-notebook/requirements.txt (line 8)) (2.4.7)\n",
            "Requirement already satisfied: cycler>=0.10 in /usr/local/lib/python3.6/dist-packages (from matplotlib>=2.2->seaborn->-r ./kent-ai-learning-notebook/requirements.txt (line 8)) (0.10.0)\n",
            "Requirement already satisfied: joblib>=0.11 in /usr/local/lib/python3.6/dist-packages (from scikit-learn>=0.20->imbalanced-learn->-r ./kent-ai-learning-notebook/requirements.txt (line 9)) (1.0.0)\n",
            "Requirement already satisfied: rsa<5,>=3.1.4; python_version >= \"3.6\" in /usr/local/lib/python3.6/dist-packages (from google-auth<2,>=1.6.3->tensorboard~=2.4->tensorflow->-r ./kent-ai-learning-notebook/requirements.txt (line 1)) (4.7)\n",
            "Requirement already satisfied: cachetools<5.0,>=2.0.0 in /usr/local/lib/python3.6/dist-packages (from google-auth<2,>=1.6.3->tensorboard~=2.4->tensorflow->-r ./kent-ai-learning-notebook/requirements.txt (line 1)) (4.2.1)\n",
            "Requirement already satisfied: pyasn1-modules>=0.2.1 in /usr/local/lib/python3.6/dist-packages (from google-auth<2,>=1.6.3->tensorboard~=2.4->tensorflow->-r ./kent-ai-learning-notebook/requirements.txt (line 1)) (0.2.8)\n",
            "Requirement already satisfied: requests-oauthlib>=0.7.0 in /usr/local/lib/python3.6/dist-packages (from google-auth-oauthlib<0.5,>=0.4.1->tensorboard~=2.4->tensorflow->-r ./kent-ai-learning-notebook/requirements.txt (line 1)) (1.3.0)\n",
            "Requirement already satisfied: importlib-metadata; python_version < \"3.8\" in /usr/local/lib/python3.6/dist-packages (from markdown>=2.6.8->tensorboard~=2.4->tensorflow->-r ./kent-ai-learning-notebook/requirements.txt (line 1)) (3.4.0)\n",
            "Requirement already satisfied: pexpect; sys_platform != \"win32\" in /usr/local/lib/python3.6/dist-packages (from ipython>=4.0.0->ipykernel->jupyter->-r ./kent-ai-learning-notebook/requirements.txt (line 7)) (4.8.0)\n",
            "Requirement already satisfied: simplegeneric>0.8 in /usr/local/lib/python3.6/dist-packages (from ipython>=4.0.0->ipykernel->jupyter->-r ./kent-ai-learning-notebook/requirements.txt (line 7)) (0.8.1)\n",
            "Requirement already satisfied: pickleshare in /usr/local/lib/python3.6/dist-packages (from ipython>=4.0.0->ipykernel->jupyter->-r ./kent-ai-learning-notebook/requirements.txt (line 7)) (0.7.5)\n",
            "Requirement already satisfied: MarkupSafe>=0.23 in /usr/local/lib/python3.6/dist-packages (from jinja2>=2.4->nbconvert->jupyter->-r ./kent-ai-learning-notebook/requirements.txt (line 7)) (1.1.1)\n",
            "Requirement already satisfied: jsonschema!=2.5.0,>=2.4 in /usr/local/lib/python3.6/dist-packages (from nbformat>=4.4->nbconvert->jupyter->-r ./kent-ai-learning-notebook/requirements.txt (line 7)) (2.6.0)\n",
            "Requirement already satisfied: webencodings in /usr/local/lib/python3.6/dist-packages (from bleach->nbconvert->jupyter->-r ./kent-ai-learning-notebook/requirements.txt (line 7)) (0.5.1)\n",
            "Requirement already satisfied: packaging in /usr/local/lib/python3.6/dist-packages (from bleach->nbconvert->jupyter->-r ./kent-ai-learning-notebook/requirements.txt (line 7)) (20.9)\n",
            "Requirement already satisfied: wcwidth in /usr/local/lib/python3.6/dist-packages (from prompt-toolkit<2.0.0,>=1.0.0->jupyter-console->jupyter->-r ./kent-ai-learning-notebook/requirements.txt (line 7)) (0.2.5)\n",
            "Requirement already satisfied: ptyprocess; os_name != \"nt\" in /usr/local/lib/python3.6/dist-packages (from terminado>=0.8.1->notebook->jupyter->-r ./kent-ai-learning-notebook/requirements.txt (line 7)) (0.7.0)\n",
            "Requirement already satisfied: pyasn1>=0.1.3 in /usr/local/lib/python3.6/dist-packages (from rsa<5,>=3.1.4; python_version >= \"3.6\"->google-auth<2,>=1.6.3->tensorboard~=2.4->tensorflow->-r ./kent-ai-learning-notebook/requirements.txt (line 1)) (0.4.8)\n",
            "Requirement already satisfied: oauthlib>=3.0.0 in /usr/local/lib/python3.6/dist-packages (from requests-oauthlib>=0.7.0->google-auth-oauthlib<0.5,>=0.4.1->tensorboard~=2.4->tensorflow->-r ./kent-ai-learning-notebook/requirements.txt (line 1)) (3.1.0)\n",
            "Requirement already satisfied: zipp>=0.5 in /usr/local/lib/python3.6/dist-packages (from importlib-metadata; python_version < \"3.8\"->markdown>=2.6.8->tensorboard~=2.4->tensorflow->-r ./kent-ai-learning-notebook/requirements.txt (line 1)) (3.4.0)\n",
            "Building wheels for collected packages: google-images-download\n",
            "  Building wheel for google-images-download (setup.py) ... \u001b[?25l\u001b[?25hdone\n",
            "  Created wheel for google-images-download: filename=google_images_download-2.8.0-py2.py3-none-any.whl size=14549 sha256=fe981ee5bf140dc4ad9c94e6cb4c6db7faae3ab1fb693edfa0c7120d067b6e6f\n",
            "  Stored in directory: /root/.cache/pip/wheels/1f/28/ad/f56e7061e1d2a9a1affe2f9c649c2570cb9198dd24ede0bbab\n",
            "Successfully built google-images-download\n",
            "Installing collected packages: colorhash, graphviz, mxnet, selenium, google-images-download\n",
            "  Found existing installation: graphviz 0.10.1\n",
            "    Uninstalling graphviz-0.10.1:\n",
            "      Successfully uninstalled graphviz-0.10.1\n",
            "Successfully installed colorhash-1.0.3 google-images-download-2.8.0 graphviz-0.8.4 mxnet-1.7.0.post2 selenium-3.141.0\n"
          ],
          "name": "stdout"
        }
      ]
    },
    {
      "cell_type": "code",
      "metadata": {
        "id": "X0_lRtPpyvJT"
      },
      "source": [
        "import player\n",
        "from tensorflow import keras\n",
        "\n",
        "import sys\n",
        "\n",
        "if __name__ == \"__main__\":\n",
        "\n",
        "\tLOAD_MODEL = True\n",
        "\n",
        "\tif len(sys.argv) >= 2:\n",
        "\t\tnumber = int(sys.argv[1])\n",
        "\telse:\n",
        "\t\tnumber = 63001\n",
        "\n",
        "\timage_shape=(256, 512, 3)\n",
        "\td_model = player.define_discriminator(image_shape)\n",
        "\tif LOAD_MODEL : d_model.load_weights(\"d_model_%06d.h5\" % (number))\n",
        "\tprint(d_model.summary())\n",
        "\n",
        "\n",
        "\tg_model = player.define_generator(image_shape)\n",
        "\tif LOAD_MODEL : g_model.load_weights(\"g_model_%06d.h5\" % (number))\n",
        "\tprint(g_model.summary())\n",
        "\n",
        "\tgan_model = player.define_gan(g_model, d_model, image_shape)\n",
        "\tif LOAD_MODEL : gan_model.load_weights(\"gan_model_%06d.h5\" % (number))\n",
        "\n",
        "\n",
        "\t# load real sample and do normalize\n",
        "\tdataset = player.load_real_samples('cat_256_2000.npz')\n",
        "\n",
        "\t# train model\n",
        "\tplayer.train(d_model, g_model, gan_model, dataset,n_batch=2,start=number)"
      ],
      "execution_count": null,
      "outputs": []
    }
  ]
}