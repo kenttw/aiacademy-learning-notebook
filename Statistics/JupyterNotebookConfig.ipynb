{
 "cells": [
  {
   "cell_type": "markdown",
   "metadata": {},
   "source": [
    "# 將 JupyterNotebookConfig 作最佳化\n",
    "* Create ipython notebook config  ```ipython profile create```\n",
    "* ```vim ~/.ipython/profile_default/ipython_config.py```\n",
    "* 加入這三行\n",
    "```python\n",
    "c.InteractiveShellApp.pylab = \"inline\"\n",
    "c.InlineBackend.figure_format = 'retina'\n",
    "c.InteractiveShellApp.pylab_import_all = True\n",
    "```\n"
   ]
  },
  {
   "cell_type": "code",
   "execution_count": null,
   "metadata": {},
   "outputs": [],
   "source": []
  }
 ],
 "metadata": {
  "kernelspec": {
   "display_name": "Python 3",
   "language": "python",
   "name": "python3"
  },
  "language_info": {
   "codemirror_mode": {
    "name": "ipython",
    "version": 3
   },
   "file_extension": ".py",
   "mimetype": "text/x-python",
   "name": "python",
   "nbconvert_exporter": "python",
   "pygments_lexer": "ipython3",
   "version": "3.6.3"
  }
 },
 "nbformat": 4,
 "nbformat_minor": 2
}
