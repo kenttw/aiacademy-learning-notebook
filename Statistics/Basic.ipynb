{
 "cells": [
  {
   "cell_type": "markdown",
   "metadata": {},
   "source": [
    "# Covariance\n",
    "* 公式 : $\\frac {\\sum_{i=1}^{n} (x- \\bar  X_i)(y- \\bar  Y_i)} {N-1}$\n",
    "\n",
    "相關應該是統計分析中很常見的概念\n",
    "對於兩個不同的連續變項而言\n",
    "所謂相關簡單講\n",
    "就是兩個變項的線性變化\n",
    "是不是其中一個增加、另一個也會增加？\n",
    "比方身高高的人往往體重多半也會比較容易重一些\n",
    "或者其中一個增加、另一個反隨之減少？\n",
    "\n",
    "\n",
    "想知道的是：有沒有辦法用較簡單的統計方式來描述兩個變項之間的關係？\n",
    "畢竟一大堆資料沒辦法隨身帶著走\n",
    "要形容手上的資料的關係\n",
    "當然是能夠越簡單明瞭越好\n",
    "\n",
    "而要用來描述兩個變數之間線性相關性的就是「相關係數」(Correlation Coefficient)\n",
    "相關係數概念的出發點\n",
    "就是要想辦法用一個數來表示(1)到底兩者之間影響大不大(2)影響的方向(一起變大或反之)\n",
    "所以希望找的就是兩個隨機變數之間是不是有什麼關聯\n",
    "這就想到了「共變異數」(Covariance)\n",
    "\n",
    " \n",
    "\n",
    "共變異數的作用就是要知道兩個變數一同變大/變小的程度\n",
    "想知道如果A變數離均值越遠、B是否也離均值越遠\n",
    "(A越正B就越正、或A越正B就越負)\n",
    "\n"
   ]
  },
  {
   "cell_type": "code",
   "execution_count": 7,
   "metadata": {},
   "outputs": [],
   "source": [
    "import numpy as np\n",
    "def cov(a, b):\n",
    "\n",
    "    if len(a) != len(b):\n",
    "        return\n",
    "\n",
    "    a_mean = np.mean(a)\n",
    "    b_mean = np.mean(b)\n",
    "\n",
    "    sum = 0\n",
    "\n",
    "    for i in range(0, len(a)):\n",
    "        sum += ((a[i] - a_mean) * (b[i] - b_mean))\n",
    "\n",
    "    return sum/(len(a)-1)"
   ]
  },
  {
   "cell_type": "code",
   "execution_count": 11,
   "metadata": {},
   "outputs": [],
   "source": [
    "feature1 = [1,2,3,4,5]\n",
    "feature2 = [2,4,6,8,10]\n",
    "feature3 = [1,0,1,1,1]"
   ]
  },
  {
   "cell_type": "code",
   "execution_count": 12,
   "metadata": {},
   "outputs": [
    {
     "name": "stdout",
     "output_type": "stream",
     "text": [
      "feature1,feature2: 5.0\n",
      "feature1,feature3: 0.25\n",
      "feature2,feature3: 0.5\n"
     ]
    }
   ],
   "source": [
    "print(\"feature1,feature2:\",cov(feature1,feature2))\n",
    "print(\"feature1,feature3:\",cov(feature1,feature3))\n",
    "print(\"feature2,feature3:\",cov(feature2,feature3))\n"
   ]
  },
  {
   "cell_type": "code",
   "execution_count": 13,
   "metadata": {},
   "outputs": [
    {
     "data": {
      "text/plain": [
       "array([[ 1,  2,  3,  4,  5],\n",
       "       [ 2,  4,  6,  8, 10],\n",
       "       [ 1,  0,  1,  1,  1]])"
      ]
     },
     "execution_count": 13,
     "metadata": {},
     "output_type": "execute_result"
    }
   ],
   "source": [
    "m = np.array([feature1,feature2,feature3])\n",
    "m"
   ]
  },
  {
   "cell_type": "code",
   "execution_count": 16,
   "metadata": {},
   "outputs": [
    {
     "data": {
      "text/plain": [
       "array([[ 1,  2,  1],\n",
       "       [ 2,  4,  0],\n",
       "       [ 3,  6,  1],\n",
       "       [ 4,  8,  1],\n",
       "       [ 5, 10,  1]])"
      ]
     },
     "execution_count": 16,
     "metadata": {},
     "output_type": "execute_result"
    }
   ],
   "source": [
    "# 進行轉置後，每一筆 row 可以視為一筆資料\n",
    "m.T"
   ]
  },
  {
   "cell_type": "code",
   "execution_count": 14,
   "metadata": {},
   "outputs": [
    {
     "data": {
      "text/plain": [
       "array([[  2.5 ,   5.  ,   0.25],\n",
       "       [  5.  ,  10.  ,   0.5 ],\n",
       "       [  0.25,   0.5 ,   0.2 ]])"
      ]
     },
     "execution_count": 14,
     "metadata": {},
     "output_type": "execute_result"
    }
   ],
   "source": [
    "np.cov(m)"
   ]
  },
  {
   "cell_type": "code",
   "execution_count": null,
   "metadata": {},
   "outputs": [],
   "source": []
  }
 ],
 "metadata": {
  "hide_input": false,
  "kernelspec": {
   "display_name": "Python 3",
   "language": "python",
   "name": "python3"
  },
  "language_info": {
   "codemirror_mode": {
    "name": "ipython",
    "version": 3
   },
   "file_extension": ".py",
   "mimetype": "text/x-python",
   "name": "python",
   "nbconvert_exporter": "python",
   "pygments_lexer": "ipython3",
   "version": "3.7.3"
  }
 },
 "nbformat": 4,
 "nbformat_minor": 2
}
