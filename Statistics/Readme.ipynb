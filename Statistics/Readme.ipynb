{
 "cells": [
  {
   "cell_type": "markdown",
   "metadata": {},
   "source": [
    "#  Video List\n",
    "\n",
    "* [[統計學] 第一講、Introduction](https://www.youtube.com/watch?v=X4QQNEhKRzI)\n",
    "* [[統計學] 第二講: Descriptive Statistics](https://www.youtube.com/watch?v=OVacTpGgBVM)\n",
    "* [[統計學] 第三講、 Probability (1)](https://www.youtube.com/watch?v=Ds_Gd5riwUQ&t=3924s)\n",
    "* [[統計學] 第四講、Probability (2)](https://www.youtube.com/watch?v=riXy1tqw85c)\n",
    "* [[統計學] 第五講、Probability (3)](https://www.youtube.com/watch?v=-JUMAzRYr2g&t=5297s)\n",
    "* [[統計學] 第六講、Continuous Random Variables and Normal Distribution](https://www.youtube.com/watch?v=uWWagwryQPs&t=1621s)\n",
    "* [[統計學] 第七講、Sampling Distribution and Estimation](https://www.youtube.com/watch?v=GK4LW8Ofbkg&t=3413s)\n",
    "* [[統計學] 第八講、Hypothesis Testing (1)](https://www.youtube.com/watch?v=0stNHOuQaB8&t=177s)\n",
    "* [[統計學] 第九講、Hypothesis Testing (2)](https://www.youtube.com/watch?v=Oa937O5Qlc8&feature=emb_logo)"
   ]
  },
  {
   "cell_type": "code",
   "execution_count": null,
   "metadata": {},
   "outputs": [],
   "source": []
  }
 ],
 "metadata": {
  "hide_input": false,
  "kernelspec": {
   "display_name": "Python 3",
   "language": "python",
   "name": "python3"
  },
  "language_info": {
   "codemirror_mode": {
    "name": "ipython",
    "version": 3
   },
   "file_extension": ".py",
   "mimetype": "text/x-python",
   "name": "python",
   "nbconvert_exporter": "python",
   "pygments_lexer": "ipython3",
   "version": "3.7.3"
  }
 },
 "nbformat": 4,
 "nbformat_minor": 2
}
