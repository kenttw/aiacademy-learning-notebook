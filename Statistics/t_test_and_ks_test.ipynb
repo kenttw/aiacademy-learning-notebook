{
 "cells": [
  {
   "cell_type": "markdown",
   "metadata": {
    "collapsed": true
   },
   "source": [
    "* Kolmogorov-Smirnov Test : https://zhuanlan.zhihu.com/p/347413124\n",
    "* Video : https://www.youtube.com/watch?v=U7jpVkNe7sw\n",
    "* Sample Code and Full introduction: https://towardsdatascience.com/when-to-use-the-kolmogorov-smirnov-test-dd0b2c8a8f61"
   ]
  },
  {
   "cell_type": "code",
   "execution_count": 1,
   "metadata": {},
   "outputs": [],
   "source": [
    "from numpy.random import seed\n",
    "from numpy.random import poisson\n",
    "\n",
    "#set seed (e.g. make this example reproducible)\n",
    "seed(0)\n",
    "\n",
    "#generate dataset of 100 values that follow a Poisson distribution with mean=5\n",
    "data = poisson(5, 100)"
   ]
  },
  {
   "cell_type": "markdown",
   "metadata": {},
   "source": [
    "# T Test\n",
    "假設有兩家公司我們來看一下這兩家公司的員工的薪水是否有差異\n",
    "* company A (100,110,130,90)\n",
    "* company B (45,55,80,110)"
   ]
  },
  {
   "cell_type": "code",
   "execution_count": null,
   "metadata": {},
   "outputs": [],
   "source": [
    "from scipy import stats\n"
   ]
  },
  {
   "cell_type": "code",
   "execution_count": 14,
   "metadata": {},
   "outputs": [
    {
     "data": {
      "text/plain": [
       "Ttest_indResult(statistic=2.079309840251016, pvalue=0.08281382194024765)"
      ]
     },
     "execution_count": 14,
     "metadata": {},
     "output_type": "execute_result"
    }
   ],
   "source": [
    "a = (100,110,130,90)\n",
    "b = (45,55,80,110)\n",
    "stats.ttest_ind(a,b)"
   ]
  },
  {
   "cell_type": "code",
   "execution_count": 15,
   "metadata": {},
   "outputs": [
    {
     "data": {
      "text/plain": [
       "Ttest_indResult(statistic=0.0, pvalue=1.0)"
      ]
     },
     "execution_count": 15,
     "metadata": {},
     "output_type": "execute_result"
    }
   ],
   "source": [
    "stats.ttest_ind(a,a)"
   ]
  },
  {
   "cell_type": "code",
   "execution_count": 17,
   "metadata": {},
   "outputs": [
    {
     "data": {
      "text/plain": [
       "Ttest_indResult(statistic=5.361563435450035, pvalue=3.268230789848786e-06)"
      ]
     },
     "execution_count": 17,
     "metadata": {},
     "output_type": "execute_result"
    }
   ],
   "source": [
    "a = (100,110,130,90,100,110,130,90,100,110,130,90,100,110,130,90,100,110,130,90,)\n",
    "b = (45,55,80,110,45,55,80,110,45,55,80,110,45,55,80,110,45,55,80,110,45,55,80,110,)\n",
    "\n",
    "stats.ttest_ind(a,b)"
   ]
  }
 ],
 "metadata": {
  "kernelspec": {
   "display_name": "Python 3",
   "language": "python",
   "name": "python3"
  },
  "language_info": {
   "codemirror_mode": {
    "name": "ipython",
    "version": 3
   },
   "file_extension": ".py",
   "mimetype": "text/x-python",
   "name": "python",
   "nbconvert_exporter": "python",
   "pygments_lexer": "ipython3",
   "version": "3.8.5"
  }
 },
 "nbformat": 4,
 "nbformat_minor": 1
}
