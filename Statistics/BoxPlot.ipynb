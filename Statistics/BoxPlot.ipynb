{
 "cells": [
  {
   "cell_type": "code",
   "execution_count": 1,
   "metadata": {},
   "outputs": [],
   "source": [
    "from sklearn import datasets\n",
    "%matplotlib inline\n",
    "from matplotlib import pyplot as plt\n",
    "import numpy as np\n",
    "import numpy.random as random"
   ]
  },
  {
   "cell_type": "code",
   "execution_count": 2,
   "metadata": {},
   "outputs": [],
   "source": [
    "# import some data to play with\n",
    "iris = datasets.load_iris()\n",
    "X0 = iris.data[:,0]  \n",
    "X1 = iris.data[:,1]  \n",
    "X2 = iris.data[:,2]  \n",
    "X3 = iris.data[:,3]  \n",
    "data = np.array((X0,X1,X2,X3))"
   ]
  },
  {
   "cell_type": "code",
   "execution_count": 3,
   "metadata": {},
   "outputs": [],
   "source": [
    "data = data.reshape([150,4])"
   ]
  },
  {
   "cell_type": "code",
   "execution_count": 4,
   "metadata": {},
   "outputs": [
    {
     "data": {
      "text/plain": [
       "{'boxes': [<matplotlib.lines.Line2D at 0x10d817208>,\n",
       "  <matplotlib.lines.Line2D at 0x10d82beb8>,\n",
       "  <matplotlib.lines.Line2D at 0x10d83bd68>,\n",
       "  <matplotlib.lines.Line2D at 0x10d84ac88>],\n",
       " 'caps': [<matplotlib.lines.Line2D at 0x10d817c88>,\n",
       "  <matplotlib.lines.Line2D at 0x10d82b128>,\n",
       "  <matplotlib.lines.Line2D at 0x10d833be0>,\n",
       "  <matplotlib.lines.Line2D at 0x10d83b080>,\n",
       "  <matplotlib.lines.Line2D at 0x10d843b00>,\n",
       "  <matplotlib.lines.Line2D at 0x10d843f60>,\n",
       "  <matplotlib.lines.Line2D at 0x10d853a20>,\n",
       "  <matplotlib.lines.Line2D at 0x10d853e80>],\n",
       " 'fliers': [<matplotlib.lines.Line2D at 0x10d82b9e8>,\n",
       "  <matplotlib.lines.Line2D at 0x10d83b940>,\n",
       "  <matplotlib.lines.Line2D at 0x10d84a860>,\n",
       "  <matplotlib.lines.Line2D at 0x10d85a780>],\n",
       " 'means': [],\n",
       " 'medians': [<matplotlib.lines.Line2D at 0x10d82b588>,\n",
       "  <matplotlib.lines.Line2D at 0x10d83b4e0>,\n",
       "  <matplotlib.lines.Line2D at 0x10d84a400>,\n",
       "  <matplotlib.lines.Line2D at 0x10d85a320>],\n",
       " 'whiskers': [<matplotlib.lines.Line2D at 0x10d817390>,\n",
       "  <matplotlib.lines.Line2D at 0x10d817828>,\n",
       "  <matplotlib.lines.Line2D at 0x10d833320>,\n",
       "  <matplotlib.lines.Line2D at 0x10d833780>,\n",
       "  <matplotlib.lines.Line2D at 0x10d843240>,\n",
       "  <matplotlib.lines.Line2D at 0x10d8436a0>,\n",
       "  <matplotlib.lines.Line2D at 0x10d853160>,\n",
       "  <matplotlib.lines.Line2D at 0x10d8535c0>]}"
      ]
     },
     "execution_count": 4,
     "metadata": {},
     "output_type": "execute_result"
    },
    {
     "data": {
      "image/png": "[encoded data removed]",
      "text/plain": [
       "<matplotlib.figure.Figure at 0x10d711f60>"
      ]
     },
     "metadata": {},
     "output_type": "display_data"
    }
   ],
   "source": [
    "# basic plot\n",
    "plt.boxplot(data)"
   ]
  }
 ],
 "metadata": {
  "hide_input": false,
  "kernelspec": {
   "display_name": "Python 3",
   "language": "python",
   "name": "python3"
  },
  "language_info": {
   "codemirror_mode": {
    "name": "ipython",
    "version": 3
   },
   "file_extension": ".py",
   "mimetype": "text/x-python",
   "name": "python",
   "nbconvert_exporter": "python",
   "pygments_lexer": "ipython3",
   "version": "3.7.3"
  }
 },
 "nbformat": 4,
 "nbformat_minor": 2
}
