{
 "cells": [
  {
   "cell_type": "markdown",
   "metadata": {},
   "source": [
    "https://github.com/openimages/dataset"
   ]
  },
  {
   "cell_type": "code",
   "execution_count": 2,
   "metadata": {},
   "outputs": [
    {
     "name": "stdout",
     "output_type": "stream",
     "text": [
      "--2018-02-21 23:25:25--  https://storage.googleapis.com/openimages/2017_11/annotations_human_2017_11.tar.gz\n",
      "Resolving storage.googleapis.com (storage.googleapis.com)... 108.177.125.128, 2404:6800:4008:c05::80\n",
      "Connecting to storage.googleapis.com (storage.googleapis.com)|108.177.125.128|:443... connected.\n",
      "HTTP request sent, awaiting response... 200 OK\n",
      "Length: 144102834 (137M) [application/gzip]\n",
      "Saving to: ‘./data/google/annotations_human_2017_11.tar.gz’\n",
      "\n",
      "annotations_human_2 100%[===================>] 137.43M  73.0MB/s    in 1.9s    \n",
      "\n",
      "2018-02-21 23:25:27 (73.0 MB/s) - ‘./data/google/annotations_human_2017_11.tar.gz’ saved [144102834/144102834]\n",
      "\n"
     ]
    }
   ],
   "source": [
    "!wget -P ./data/google/ https://storage.googleapis.com/openimages/2017_11/annotations_human_2017_11.tar.gz "
   ]
  },
  {
   "cell_type": "code",
   "execution_count": null,
   "metadata": {},
   "outputs": [],
   "source": []
  }
 ],
 "metadata": {
  "hide_input": false,
  "kernelspec": {
   "display_name": "Python 3",
   "language": "python",
   "name": "python3"
  },
  "language_info": {
   "codemirror_mode": {
    "name": "ipython",
    "version": 3
   },
   "file_extension": ".py",
   "mimetype": "text/x-python",
   "name": "python",
   "nbconvert_exporter": "python",
   "pygments_lexer": "ipython3",
   "version": "3.7.3"
  }
 },
 "nbformat": 4,
 "nbformat_minor": 2
}
