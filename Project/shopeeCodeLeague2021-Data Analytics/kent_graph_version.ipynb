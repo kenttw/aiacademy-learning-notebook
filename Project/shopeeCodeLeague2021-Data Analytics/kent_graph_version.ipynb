{
 "cells": [
  {
   "cell_type": "code",
   "execution_count": null,
   "metadata": {},
   "outputs": [],
   "source": [
    "!pip3 install networkx"
   ]
  },
  {
   "cell_type": "code",
   "execution_count": null,
   "metadata": {},
   "outputs": [],
   "source": [
    "import networkx as nx"
   ]
  },
  {
   "cell_type": "code",
   "execution_count": null,
   "metadata": {},
   "outputs": [],
   "source": [
    "import pandas as pd"
   ]
  },
  {
   "cell_type": "code",
   "execution_count": null,
   "metadata": {},
   "outputs": [],
   "source": [
    "import json \n",
    "from tqdm import tqdm"
   ]
  },
  {
   "cell_type": "code",
   "execution_count": null,
   "metadata": {},
   "outputs": [],
   "source": [
    "fr = open(\"./contacts.json\",'rb')\n",
    "obj = json.load(fr)"
   ]
  },
  {
   "cell_type": "code",
   "execution_count": null,
   "metadata": {},
   "outputs": [],
   "source": [
    "obj"
   ]
  },
  {
   "cell_type": "code",
   "execution_count": null,
   "metadata": {},
   "outputs": [],
   "source": [
    "df = pd.DataFrame(obj)\n",
    "df.head()"
   ]
  },
  {
   "cell_type": "code",
   "execution_count": null,
   "metadata": {},
   "outputs": [],
   "source": [
    "(df.Phone == '').sum()"
   ]
  },
  {
   "cell_type": "code",
   "execution_count": null,
   "metadata": {},
   "outputs": [],
   "source": []
  },
  {
   "cell_type": "code",
   "execution_count": null,
   "metadata": {},
   "outputs": [],
   "source": [
    "email_dict = df.groupby('Email')['Id'].apply(list).to_dict()\n",
    "phone_dict = df.groupby('Phone')['Id'].apply(list).to_dict()\n",
    "orderId_dict = df.groupby('OrderId')['Id'].apply(list).to_dict()"
   ]
  },
  {
   "cell_type": "code",
   "execution_count": null,
   "metadata": {},
   "outputs": [],
   "source": [
    "del email_dict['']\n",
    "del phone_dict['']\n",
    "del orderId_dict['']"
   ]
  },
  {
   "cell_type": "code",
   "execution_count": null,
   "metadata": {},
   "outputs": [],
   "source": [
    "import networkx as nx\n",
    "G = nx.Graph()"
   ]
  },
  {
   "cell_type": "code",
   "execution_count": null,
   "metadata": {},
   "outputs": [],
   "source": [
    "G.add_nodes_from(df.Id.tolist())\n"
   ]
  },
  {
   "cell_type": "code",
   "execution_count": null,
   "metadata": {},
   "outputs": [],
   "source": [
    "def genEdges(ll):\n",
    "    r = []\n",
    "    for i in range(len(ll)):\n",
    "#         print(i,len(ll))\n",
    "        for j in range(i+1,len(ll)):\n",
    "            if i == j : break\n",
    "#             print(ll[i],'->',ll[j],end=', ')\n",
    "            r.append([ll[i],ll[j]])\n",
    "#         print()\n",
    "    return r\n",
    "genEdges([1,2,3,4,5])"
   ]
  },
  {
   "cell_type": "code",
   "execution_count": null,
   "metadata": {},
   "outputs": [],
   "source": [
    "email_edges = []\n",
    "for e in email_dict:\n",
    "    email_edges.extend(genEdges(email_dict[e]))\n",
    "    \n",
    "G.add_edges_from(email_edges)"
   ]
  },
  {
   "cell_type": "code",
   "execution_count": null,
   "metadata": {},
   "outputs": [],
   "source": [
    "phone_edges = []\n",
    "for e in phone_dict:\n",
    "    phone_edges.extend(genEdges(phone_dict[e]))\n",
    "    \n",
    "G.add_edges_from(phone_edges)"
   ]
  },
  {
   "cell_type": "code",
   "execution_count": null,
   "metadata": {},
   "outputs": [],
   "source": [
    "order_edges = []\n",
    "for e in orderId_dict:\n",
    "    order_edges.extend(genEdges(orderId_dict[e]))\n",
    "    \n",
    "G.add_edges_from(order_edges)"
   ]
  },
  {
   "cell_type": "code",
   "execution_count": null,
   "metadata": {},
   "outputs": [],
   "source": [
    "components = list(nx.connected_components(G))\n"
   ]
  },
  {
   "cell_type": "code",
   "execution_count": null,
   "metadata": {},
   "outputs": [],
   "source": [
    "\n",
    "\n",
    "temp_df = df.iloc[list(components[2]),:]"
   ]
  },
  {
   "cell_type": "code",
   "execution_count": null,
   "metadata": {},
   "outputs": [],
   "source": [
    "temp_df"
   ]
  },
  {
   "cell_type": "code",
   "execution_count": null,
   "metadata": {},
   "outputs": [],
   "source": [
    "def com2str(temp_df):\n",
    "    Id_list = temp_df.Id.tolist()\n",
    "    Id_list.sort()\n",
    "#     Id_list\n",
    "    total_conacts=temp_df.Contacts.sum()\n",
    "#     total_conacts\n",
    "    column2_str = \"-\".join([str(x) for x in Id_list])+\", \"+str(total_conacts)\n",
    "    return column2_str"
   ]
  },
  {
   "cell_type": "code",
   "execution_count": null,
   "metadata": {},
   "outputs": [],
   "source": [
    "com2str(temp_df)"
   ]
  },
  {
   "cell_type": "code",
   "execution_count": null,
   "metadata": {},
   "outputs": [],
   "source": [
    "df['ticket_trace/contact']=['']*5000*100\n",
    "assert (df['ticket_trace/contact']=='').sum() ==5000*100"
   ]
  },
  {
   "cell_type": "code",
   "execution_count": null,
   "metadata": {},
   "outputs": [],
   "source": [
    "\n",
    "for i in tqdm(range(len(components))):\n",
    "    id_list = list(components[i])\n",
    "    temp_df = df.iloc[id_list,:]\n",
    "    column2_str = com2str(temp_df)\n",
    "    \n",
    "    for ii in id_list:\n",
    "        df.at[ii,'ticket_trace/contact']= column2_str\n",
    "#     df.iloc[id_list,:]['ticket_trace/contact'] = [column2_str]*len(id_list)"
   ]
  },
  {
   "cell_type": "code",
   "execution_count": null,
   "metadata": {},
   "outputs": [],
   "source": [
    "assert (df['ticket_trace/contact']=='').sum() ==0"
   ]
  },
  {
   "cell_type": "code",
   "execution_count": null,
   "metadata": {},
   "outputs": [],
   "source": [
    "output_df = df[['Id','ticket_trace/contact']]\n",
    "output_df.columns = ['ticket_id','ticket_trace/contact']\n",
    "output_df"
   ]
  },
  {
   "cell_type": "code",
   "execution_count": null,
   "metadata": {},
   "outputs": [],
   "source": [
    "output_df.to_csv(\"answer.csv\",index=False,quotechar='\\\"')"
   ]
  }
 ],
 "metadata": {
  "kernelspec": {
   "display_name": "Python 3",
   "language": "python",
   "name": "python3"
  },
  "language_info": {
   "codemirror_mode": {
    "name": "ipython",
    "version": 3
   },
   "file_extension": ".py",
   "mimetype": "text/x-python",
   "name": "python",
   "nbconvert_exporter": "python",
   "pygments_lexer": "ipython3",
   "version": "3.8.5"
  }
 },
 "nbformat": 4,
 "nbformat_minor": 1
}
